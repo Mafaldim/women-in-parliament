{
 "cells": [
  {
   "cell_type": "markdown",
   "metadata": {},
   "source": [
    "# Women Participation in National Parliaments - Rank as of 1st September of 2021"
   ]
  },
  {
   "cell_type": "code",
   "execution_count": 2,
   "metadata": {},
   "outputs": [],
   "source": [
    "import pandas as pd, numpy as np\n",
    "import plotly.express as px"
   ]
  },
  {
   "cell_type": "code",
   "execution_count": 23,
   "metadata": {},
   "outputs": [],
   "source": [
    "# read data\n",
    "df_historic = pd.read_csv('./data/women_in_parliament-historical_database-1945_to_2018_cleaned.csv')\n",
    "df_regions = df_historic[['country','region']]\n",
    "df_regions = df_regions.drop_duplicates()\n",
    "\n",
    "df_2021 = pd.read_csv('./data/women_percent_as_of2021_cleaned.csv')\n",
    "df_2021.rename(columns={'Country':'country'},inplace=True)\n",
    "\n",
    "df_regions.set_index(['country'], inplace=True)\n",
    "df_2021.set_index(['country'], inplace=True)\n",
    "\n",
    "df_2021_regions = df_2021.join(df_regions).reset_index()\n",
    "\n",
    "to_replace = dict({'Azerbaijan':'ASIA',\n",
    "'Bangladesh':'ASIA',\n",
    "'Bahrain':'MENA',\n",
    "'Bahamas': 'AME',\n",
    "'Bolivia (Plurinational State of)':'AME',\n",
    "'Central African Republic':'SUB-SAHARAN',\n",
    "'Chad':'SUB-SAHARAN',\n",
    "'Chile':'AME',\n",
    "'China':'ASIA',\n",
    "'Congo':'SUB-SAHARAN',\n",
    "\"Côte d'Ivoire\":'SUB-SAHARAN',\n",
    "'Qatar':'MENA',\n",
    "'North Macedonia': 'EUR',\n",
    "'Venezuela (Bolivarian Republic of)':'AME' })\n",
    "\n",
    "for i in range(len(df_2021_regions)):\n",
    "    country  = df_2021_regions['country'].iloc[i]\n",
    "    if country in to_replace.keys():\n",
    "        df_2021_regions['region'].iloc[i] = to_replace[country]\n",
    "\n",
    "#df_2021_regions.to_csv('./data/women_percent_as_of2021_with_regions.csv')"
   ]
  },
  {
   "cell_type": "markdown",
   "metadata": {},
   "source": [
    "## Participation in 2021 by Region"
   ]
  },
  {
   "cell_type": "code",
   "execution_count": 25,
   "metadata": {},
   "outputs": [
    {
     "data": {
      "application/vnd.plotly.v1+json": {
       "config": {
        "plotlyServerURL": "https://plot.ly"
       },
       "data": [
        {
         "branchvalues": "total",
         "customdata": [
          [
           27,
           27
          ],
          [
           33.6,
           33.6
          ],
          [
           8.1,
           8.1
          ],
          [
           46.400000000000006,
           46.400000000000006
          ],
          [
           29.6,
           29.6
          ],
          [
           11.1,
           11.1
          ],
          [
           42.4,
           42.4
          ],
          [
           33.6,
           33.6
          ],
          [
           33.6,
           33.6
          ],
          [
           31.1,
           31.1
          ],
          [
           40.4,
           40.4
          ],
          [
           18.2,
           18.2
          ],
          [
           12.800000000000002,
           12.800000000000002
          ],
          [
           15,
           15
          ],
          [
           20.9,
           20.9
          ],
          [
           20,
           20
          ],
          [
           40,
           40
          ],
          [
           42.7,
           42.7
          ],
          [
           12.5,
           12.5
          ],
          [
           8.4,
           8.4
          ],
          [
           17,
           17
          ],
          [
           46.199999999999996,
           46.199999999999996
          ],
          [
           26.2,
           26.2
          ],
          [
           10.8,
           10.8
          ],
          [
           15.200000000000001,
           15.200000000000001
          ],
          [
           9.1,
           9.1
          ],
          [
           24.6,
           24.6
          ],
          [
           6.3,
           6.3
          ],
          [
           38.2,
           38.2
          ],
          [
           38.9,
           38.9
          ],
          [
           21.6,
           21.6
          ],
          [
           33.9,
           33.9
          ],
          [
           29.6,
           29.6
          ],
          [
           12.800000000000002,
           12.800000000000002
          ],
          [
           15.400000000000002,
           15.400000000000002
          ],
          [
           22.6,
           22.6
          ],
          [
           24.899999999999995,
           24.899999999999995
          ],
          [
           18.8,
           18.8
          ],
          [
           16.7,
           16.7
          ],
          [
           11.3,
           11.3
          ],
          [
           45.6,
           45.6
          ],
          [
           31.1,
           31.1
          ],
          [
           53.4,
           53.4
          ],
          [
           14.3,
           14.3
          ],
          [
           23,
           23
          ],
          [
           14.3,
           14.3
          ],
          [
           17.6,
           17.6
          ],
          [
           12.800000000000002,
           12.800000000000002
          ],
          [
           39.7,
           39.7
          ],
          [
           26.2,
           26.2
          ],
          [
           34.4,
           34.4
          ],
          [
           27.9,
           27.9
          ],
          [
           39.4,
           39.4
          ],
          [
           27.7,
           27.7
          ],
          [
           27.4,
           27.4
          ],
          [
           23,
           23
          ],
          [
           25.7,
           25.7
          ],
          [
           9.6,
           9.6
          ],
          [
           42.6,
           42.6
          ],
          [
           21.6,
           21.6
          ],
          [
           46,
           46
          ],
          [
           39.5,
           39.5
          ],
          [
           16.2,
           16.2
          ],
          [
           8.6,
           8.6
          ],
          [
           19.3,
           19.3
          ],
          [
           31.5,
           31.5
          ],
          [
           14.6,
           14.6
          ],
          [
           21.7,
           21.7
          ],
          [
           46.7,
           46.7
          ],
          [
           19.4,
           19.4
          ],
          [
           16.7,
           16.7
          ],
          [
           13.7,
           13.7
          ],
          [
           35.7,
           35.7
          ],
          [
           21.1,
           21.1
          ],
          [
           12.1,
           12.1
          ],
          [
           39.7,
           39.7
          ],
          [
           14.4,
           14.4
          ],
          [
           21,
           21
          ],
          [
           5.6,
           5.6
          ],
          [
           26.4,
           26.4
          ],
          [
           22.5,
           22.5
          ],
          [
           28.299999999999997,
           28.299999999999997
          ],
          [
           35.7,
           35.7
          ],
          [
           28.6,
           28.6
          ],
          [
           9.9,
           9.9
          ],
          [
           11.5,
           11.5
          ],
          [
           27.1,
           27.1
          ],
          [
           21.6,
           21.6
          ],
          [
           6.7,
           6.7
          ],
          [
           1.5,
           1.5
          ],
          [
           17.1,
           17.1
          ],
          [
           22,
           22
          ],
          [
           29,
           29
          ],
          [
           4.7,
           4.7
          ],
          [
           23.299999999999997,
           23.299999999999997
          ],
          [
           11,
           11
          ],
          [
           16,
           16
          ],
          [
           28,
           28
          ],
          [
           27.7,
           27.7
          ],
          [
           35,
           35
          ],
          [
           17.9,
           17.9
          ],
          [
           22.9,
           22.9
          ],
          [
           14.9,
           14.9
          ],
          [
           4.6,
           4.6
          ],
          [
           27.3,
           27.3
          ],
          [
           13.4,
           13.4
          ],
          [
           6.1,
           6.1
          ],
          [
           20.3,
           20.3
          ],
          [
           20,
           20
          ],
          [
           50,
           50
          ],
          [
           null,
           null
          ],
          [
           33.3,
           33.3
          ],
          [
           17.3,
           17.3
          ],
          [
           24.699999999999996,
           24.699999999999996
          ],
          [
           20.5,
           20.5
          ],
          [
           42.4,
           42.4
          ],
          [
           15.3,
           15.3
          ],
          [
           44.2,
           44.2
          ],
          [
           10.5,
           10.5
          ],
          [
           32.7,
           32.7
          ],
          [
           39.3,
           39.3
          ],
          [
           49.2,
           49.2
          ],
          [
           50.6,
           50.6
          ],
          [
           25.9,
           25.9
          ],
          [
           3.6,
           3.6
          ],
          [
           40,
           40
          ],
          [
           44.4,
           44.4
          ],
          [
           2.3,
           2.3
          ],
          [
           20.2,
           20.2
          ],
          [
           6.3,
           6.3
          ],
          [
           22.5,
           22.5
          ],
          [
           16.3,
           16.3
          ],
          [
           40,
           40
          ],
          [
           28,
           28
          ],
          [
           28.299999999999997,
           28.299999999999997
          ],
          [
           40,
           40
          ],
          [
           9.8,
           9.8
          ],
          [
           19,
           19
          ],
          [
           39.6,
           39.6
          ],
          [
           18.5,
           18.5
          ],
          [
           15.8,
           15.8
          ],
          [
           61.3,
           61.3
          ],
          [
           25,
           25
          ],
          [
           11.1,
           11.1
          ],
          [
           18.2,
           18.2
          ],
          [
           9.1,
           9.1
          ],
          [
           33.3,
           33.3
          ],
          [
           23.6,
           23.6
          ],
          [
           19.9,
           19.9
          ],
          [
           43,
           43
          ],
          [
           39.2,
           39.2
          ],
          [
           22.9,
           22.9
          ],
          [
           12.3,
           12.3
          ],
          [
           29.8,
           29.8
          ],
          [
           22.7,
           22.7
          ],
          [
           26.7,
           26.7
          ],
          [
           8,
           8
          ],
          [
           24.4,
           24.4
          ],
          [
           46.5,
           46.5
          ],
          [
           33.7,
           33.7
          ],
          [
           44,
           44
          ],
          [
           5.4,
           5.4
          ],
          [
           31.4,
           31.4
          ],
          [
           47,
           47
          ],
          [
           42,
           42
          ],
          [
           11.2,
           11.2
          ],
          [
           23.8,
           23.8
          ],
          [
           15.8,
           15.8
          ],
          [
           38.5,
           38.5
          ],
          [
           18.7,
           18.7
          ],
          [
           7.4,
           7.4
          ],
          [
           26.2,
           26.2
          ],
          [
           26.3,
           26.3
          ],
          [
           17.3,
           17.3
          ],
          [
           25,
           25
          ],
          [
           6.3,
           6.3
          ],
          [
           32.9,
           32.9
          ],
          [
           20.8,
           20.8
          ],
          [
           50,
           50
          ],
          [
           34.2,
           34.2
          ],
          [
           36.9,
           36.9
          ],
          [
           27.6,
           27.6
          ],
          [
           24.2,
           24.2
          ],
          [
           32.7,
           32.7
          ],
          [
           22.2,
           22.2
          ],
          [
           30.3,
           30.3
          ],
          [
           12.899999999999999,
           12.899999999999999
          ],
          [
           31.9,
           31.9
          ],
          [
           33.87153980124987,
           33.87153980124987
          ],
          [
           23.84585183869249,
           23.84585183869249
          ],
          [
           33.68858179089545,
           33.68858179089545
          ],
          [
           25.516819449980073,
           25.516819449980073
          ],
          [
           null,
           null
          ],
          [
           30.142758620689648,
           30.142758620689648
          ],
          [
           null,
           null
          ]
         ],
         "domain": {
          "x": [
           0,
           1
          ],
          "y": [
           0,
           1
          ]
         },
         "hovertemplate": "%{label}<br>%{value}",
         "ids": [
          "world/ASIA/Afghanistan",
          "world/EUR/Albania",
          "world/MENA/Algeria",
          "world/EUR/Andorra",
          "world/SUB-SAHARAN/Angola",
          "world/AME/Antigua and Barbuda",
          "world/AME/Argentina",
          "world/ASIA/Armenia",
          "world/EUR/Armenia",
          "world/PAC/Australia",
          "world/EUR/Austria",
          "world/ASIA/Azerbaijan",
          "world/AME/Bahamas",
          "world/MENA/Bahrain",
          "world/ASIA/Bangladesh",
          "world/AME/Barbados",
          "world/EUR/Belarus",
          "world/EUR/Belgium",
          "world/AME/Belize",
          "world/SUB-SAHARAN/Benin",
          "world/ASIA/Bhutan",
          "world/AME/Bolivia (Plurinational State of)",
          "world/EUR/Bosnia and Herzegovina",
          "world/SUB-SAHARAN/Botswana",
          "world/AME/Brazil",
          "world/ASIA/Brunei Darussalam",
          "world/EUR/Bulgaria",
          "world/SUB-SAHARAN/Burkina Faso",
          "world/SUB-SAHARAN/Burundi",
          "world/SUB-SAHARAN/Cabo Verde",
          "world/ASIA/Cambodia",
          "world/SUB-SAHARAN/Cameroon",
          "world/AME/Canada",
          "world/SUB-SAHARAN/Central African Republic",
          "world/SUB-SAHARAN/Chad",
          "world/AME/Chile",
          "world/ASIA/China",
          "world/AME/Colombia",
          "world/SUB-SAHARAN/Comoros",
          "world/SUB-SAHARAN/Congo",
          "world/AME/Costa Rica",
          "world/EUR/Croatia",
          "world/AME/Cuba",
          "world/EUR/Cyprus",
          "world/EUR/Czech Republic",
          "world/SUB-SAHARAN/Côte d'Ivoire",
          "world/ASIA/Democratic People's Republic of Korea",
          "world/SUB-SAHARAN/Democratic Republic of the Congo",
          "world/EUR/Denmark",
          "world/SUB-SAHARAN/Djibouti",
          "world/AME/Dominica",
          "world/AME/Dominican Republic",
          "world/AME/Ecuador",
          "world/MENA/Egypt",
          "world/AME/El Salvador",
          "world/SUB-SAHARAN/Equatorial Guinea",
          "world/EUR/Estonia",
          "world/SUB-SAHARAN/Eswatini",
          "world/SUB-SAHARAN/Ethiopia",
          "world/PAC/Fiji",
          "world/EUR/Finland",
          "world/EUR/France",
          "world/SUB-SAHARAN/Gabon",
          "world/SUB-SAHARAN/Gambia (The)",
          "world/EUR/Georgia",
          "world/EUR/Germany",
          "world/SUB-SAHARAN/Ghana",
          "world/EUR/Greece",
          "world/AME/Grenada",
          "world/AME/Guatemala",
          "world/SUB-SAHARAN/Guinea",
          "world/SUB-SAHARAN/Guinea-Bissau",
          "world/AME/Guyana",
          "world/AME/Honduras",
          "world/EUR/Hungary",
          "world/EUR/Iceland",
          "world/ASIA/India",
          "world/ASIA/Indonesia",
          "world/ASIA/Iran (Islamic Republic of)",
          "world/MENA/Iraq",
          "world/EUR/Ireland",
          "world/ASIA/Israel",
          "world/EUR/Italy",
          "world/AME/Jamaica",
          "world/ASIA/Japan",
          "world/MENA/Jordan",
          "world/EUR/Kazakhstan",
          "world/SUB-SAHARAN/Kenya",
          "world/PAC/Kiribati",
          "world/MENA/Kuwait",
          "world/EUR/Kyrgyzstan",
          "world/ASIA/Lao People's Democratic Republic",
          "world/EUR/Latvia",
          "world/MENA/Lebanon",
          "world/SUB-SAHARAN/Lesotho",
          "world/SUB-SAHARAN/Liberia",
          "world/MENA/Libya",
          "world/EUR/Liechtenstein",
          "world/EUR/Lithuania",
          "world/EUR/Luxembourg",
          "world/SUB-SAHARAN/Madagascar",
          "world/SUB-SAHARAN/Malawi",
          "world/ASIA/Malaysia",
          "world/ASIA/Maldives",
          "world/SUB-SAHARAN/Mali",
          "world/EUR/Malta",
          "world/PAC/Marshall Islands",
          "world/SUB-SAHARAN/Mauritania",
          "world/SUB-SAHARAN/Mauritius",
          "world/AME/Mexico",
          "world/PAC/Micronesia (Federated States of)",
          "world/EUR/Monaco",
          "world/ASIA/Mongolia",
          "world/EUR/Montenegro",
          "world/MENA/Morocco",
          "world/SUB-SAHARAN/Mozambique",
          "world/ASIA/Myanmar",
          "world/SUB-SAHARAN/Namibia",
          "world/PAC/Nauru",
          "world/ASIA/Nepal",
          "world/EUR/Netherlands",
          "world/PAC/New Zealand",
          "world/AME/Nicaragua",
          "world/SUB-SAHARAN/Niger",
          "world/SUB-SAHARAN/Nigeria",
          "world/EUR/North Macedonia",
          "world/EUR/Norway",
          "world/MENA/Oman",
          "world/ASIA/Pakistan",
          "world/PAC/Palau",
          "world/AME/Panama",
          "world/AME/Paraguay",
          "world/AME/Peru",
          "world/ASIA/Philippines",
          "world/EUR/Poland",
          "world/EUR/Portugal",
          "world/MENA/Qatar",
          "world/ASIA/Republic of Korea",
          "world/EUR/Republic of Moldova",
          "world/EUR/Romania",
          "world/EUR/Russian Federation",
          "world/SUB-SAHARAN/Rwanda",
          "world/AME/Saint Kitts and Nevis",
          "world/AME/Saint Lucia",
          "world/AME/Saint Vincent and the Grenadines",
          "world/PAC/Samoa",
          "world/EUR/San Marino",
          "world/SUB-SAHARAN/Sao Tome and Principe",
          "world/MENA/Saudi Arabia",
          "world/SUB-SAHARAN/Senegal",
          "world/EUR/Serbia",
          "world/SUB-SAHARAN/Seychelles",
          "world/SUB-SAHARAN/Sierra Leone",
          "world/ASIA/Singapore",
          "world/EUR/Slovakia",
          "world/EUR/Slovenia",
          "world/PAC/Solomon Islands",
          "world/SUB-SAHARAN/Somalia",
          "world/SUB-SAHARAN/South Africa",
          "world/SUB-SAHARAN/South Sudan",
          "world/EUR/Spain",
          "world/ASIA/Sri Lanka",
          "world/AME/Suriname",
          "world/EUR/Sweden",
          "world/EUR/Switzerland",
          "world/MENA/Syrian Arab Republic",
          "world/EUR/Tajikistan",
          "world/ASIA/Thailand",
          "world/ASIA/Timor-Leste",
          "world/SUB-SAHARAN/Togo",
          "world/PAC/Tonga",
          "world/AME/Trinidad and Tobago",
          "world/MENA/Tunisia",
          "world/EUR/Turkey",
          "world/EUR/Turkmenistan",
          "world/PAC/Tuvalu",
          "world/SUB-SAHARAN/Uganda",
          "world/EUR/Ukraine",
          "world/MENA/United Arab Emirates",
          "world/EUR/United Kingdom",
          "world/SUB-SAHARAN/United Republic of Tanzania",
          "world/AME/United States of America",
          "world/AME/Uruguay",
          "world/EUR/Uzbekistan",
          "world/AME/Venezuela (Bolivarian Republic of)",
          "world/ASIA/Viet Nam",
          "world/SUB-SAHARAN/Zambia",
          "world/SUB-SAHARAN/Zimbabwe",
          "world/AME",
          "world/ASIA",
          "world/EUR",
          "world/MENA",
          "world/PAC",
          "world/SUB-SAHARAN",
          "world"
         ],
         "labels": [
          "Afghanistan",
          "Albania",
          "Algeria",
          "Andorra",
          "Angola",
          "Antigua and Barbuda",
          "Argentina",
          "Armenia",
          "Armenia",
          "Australia",
          "Austria",
          "Azerbaijan",
          "Bahamas",
          "Bahrain",
          "Bangladesh",
          "Barbados",
          "Belarus",
          "Belgium",
          "Belize",
          "Benin",
          "Bhutan",
          "Bolivia (Plurinational State of)",
          "Bosnia and Herzegovina",
          "Botswana",
          "Brazil",
          "Brunei Darussalam",
          "Bulgaria",
          "Burkina Faso",
          "Burundi",
          "Cabo Verde",
          "Cambodia",
          "Cameroon",
          "Canada",
          "Central African Republic",
          "Chad",
          "Chile",
          "China",
          "Colombia",
          "Comoros",
          "Congo",
          "Costa Rica",
          "Croatia",
          "Cuba",
          "Cyprus",
          "Czech Republic",
          "Côte d'Ivoire",
          "Democratic People's Republic of Korea",
          "Democratic Republic of the Congo",
          "Denmark",
          "Djibouti",
          "Dominica",
          "Dominican Republic",
          "Ecuador",
          "Egypt",
          "El Salvador",
          "Equatorial Guinea",
          "Estonia",
          "Eswatini",
          "Ethiopia",
          "Fiji",
          "Finland",
          "France",
          "Gabon",
          "Gambia (The)",
          "Georgia",
          "Germany",
          "Ghana",
          "Greece",
          "Grenada",
          "Guatemala",
          "Guinea",
          "Guinea-Bissau",
          "Guyana",
          "Honduras",
          "Hungary",
          "Iceland",
          "India",
          "Indonesia",
          "Iran (Islamic Republic of)",
          "Iraq",
          "Ireland",
          "Israel",
          "Italy",
          "Jamaica",
          "Japan",
          "Jordan",
          "Kazakhstan",
          "Kenya",
          "Kiribati",
          "Kuwait",
          "Kyrgyzstan",
          "Lao People's Democratic Republic",
          "Latvia",
          "Lebanon",
          "Lesotho",
          "Liberia",
          "Libya",
          "Liechtenstein",
          "Lithuania",
          "Luxembourg",
          "Madagascar",
          "Malawi",
          "Malaysia",
          "Maldives",
          "Mali",
          "Malta",
          "Marshall Islands",
          "Mauritania",
          "Mauritius",
          "Mexico",
          "Micronesia (Federated States of)",
          "Monaco",
          "Mongolia",
          "Montenegro",
          "Morocco",
          "Mozambique",
          "Myanmar",
          "Namibia",
          "Nauru",
          "Nepal",
          "Netherlands",
          "New Zealand",
          "Nicaragua",
          "Niger",
          "Nigeria",
          "North Macedonia",
          "Norway",
          "Oman",
          "Pakistan",
          "Palau",
          "Panama",
          "Paraguay",
          "Peru",
          "Philippines",
          "Poland",
          "Portugal",
          "Qatar",
          "Republic of Korea",
          "Republic of Moldova",
          "Romania",
          "Russian Federation",
          "Rwanda",
          "Saint Kitts and Nevis",
          "Saint Lucia",
          "Saint Vincent and the Grenadines",
          "Samoa",
          "San Marino",
          "Sao Tome and Principe",
          "Saudi Arabia",
          "Senegal",
          "Serbia",
          "Seychelles",
          "Sierra Leone",
          "Singapore",
          "Slovakia",
          "Slovenia",
          "Solomon Islands",
          "Somalia",
          "South Africa",
          "South Sudan",
          "Spain",
          "Sri Lanka",
          "Suriname",
          "Sweden",
          "Switzerland",
          "Syrian Arab Republic",
          "Tajikistan",
          "Thailand",
          "Timor-Leste",
          "Togo",
          "Tonga",
          "Trinidad and Tobago",
          "Tunisia",
          "Turkey",
          "Turkmenistan",
          "Tuvalu",
          "Uganda",
          "Ukraine",
          "United Arab Emirates",
          "United Kingdom",
          "United Republic of Tanzania",
          "United States of America",
          "Uruguay",
          "Uzbekistan",
          "Venezuela (Bolivarian Republic of)",
          "Viet Nam",
          "Zambia",
          "Zimbabwe",
          "AME",
          "ASIA",
          "EUR",
          "MENA",
          "PAC",
          "SUB-SAHARAN",
          "world"
         ],
         "marker": {
          "coloraxis": "coloraxis",
          "colors": [
           27,
           33.6,
           8.1,
           46.400000000000006,
           29.6,
           11.1,
           42.4,
           33.6,
           33.6,
           31.1,
           40.4,
           18.2,
           12.800000000000002,
           15,
           20.9,
           20,
           40,
           42.7,
           12.5,
           8.4,
           17,
           46.199999999999996,
           26.2,
           10.8,
           15.200000000000001,
           9.1,
           24.6,
           6.3,
           38.2,
           38.9,
           21.6,
           33.9,
           29.6,
           12.800000000000002,
           15.400000000000002,
           22.6,
           24.899999999999995,
           18.8,
           16.7,
           11.3,
           45.6,
           31.1,
           53.4,
           14.3,
           23,
           14.3,
           17.6,
           12.800000000000002,
           39.7,
           26.2,
           34.4,
           27.9,
           39.4,
           27.7,
           27.4,
           23,
           25.7,
           9.6,
           42.6,
           21.6,
           46,
           39.5,
           16.2,
           8.6,
           19.3,
           31.5,
           14.6,
           21.7,
           46.7,
           19.4,
           16.7,
           13.7,
           35.7,
           21.1,
           12.1,
           39.7,
           14.4,
           21,
           5.6,
           26.4,
           22.5,
           28.299999999999997,
           35.7,
           28.6,
           9.9,
           11.5,
           27.1,
           21.6,
           6.7,
           1.5,
           17.1,
           22,
           29,
           4.7,
           23.299999999999997,
           11,
           16,
           28,
           27.7,
           35,
           17.9,
           22.9,
           14.9,
           4.6,
           27.3,
           13.4,
           6.1,
           20.3,
           20,
           50,
           null,
           33.3,
           17.3,
           24.699999999999996,
           20.5,
           42.4,
           15.3,
           44.2,
           10.5,
           32.7,
           39.3,
           49.2,
           50.6,
           25.9,
           3.6,
           40,
           44.4,
           2.3,
           20.2,
           6.3,
           22.5,
           16.3,
           40,
           28,
           28.299999999999997,
           40,
           9.8,
           19,
           39.6,
           18.5,
           15.8,
           61.3,
           25,
           11.1,
           18.2,
           9.1,
           33.3,
           23.6,
           19.9,
           43,
           39.2,
           22.9,
           12.3,
           29.8,
           22.7,
           26.7,
           8,
           24.4,
           46.5,
           33.7,
           44,
           5.4,
           31.4,
           47,
           42,
           11.2,
           23.8,
           15.8,
           38.5,
           18.7,
           7.4,
           26.2,
           26.3,
           17.3,
           25,
           6.3,
           32.9,
           20.8,
           50,
           34.2,
           36.9,
           27.6,
           24.2,
           32.7,
           22.2,
           30.3,
           12.899999999999999,
           31.9,
           33.87153980124987,
           23.84585183869249,
           33.68858179089545,
           25.516819449980073,
           null,
           30.142758620689648,
           null
          ]
         },
         "name": "",
         "parents": [
          "world/ASIA",
          "world/EUR",
          "world/MENA",
          "world/EUR",
          "world/SUB-SAHARAN",
          "world/AME",
          "world/AME",
          "world/ASIA",
          "world/EUR",
          "world/PAC",
          "world/EUR",
          "world/ASIA",
          "world/AME",
          "world/MENA",
          "world/ASIA",
          "world/AME",
          "world/EUR",
          "world/EUR",
          "world/AME",
          "world/SUB-SAHARAN",
          "world/ASIA",
          "world/AME",
          "world/EUR",
          "world/SUB-SAHARAN",
          "world/AME",
          "world/ASIA",
          "world/EUR",
          "world/SUB-SAHARAN",
          "world/SUB-SAHARAN",
          "world/SUB-SAHARAN",
          "world/ASIA",
          "world/SUB-SAHARAN",
          "world/AME",
          "world/SUB-SAHARAN",
          "world/SUB-SAHARAN",
          "world/AME",
          "world/ASIA",
          "world/AME",
          "world/SUB-SAHARAN",
          "world/SUB-SAHARAN",
          "world/AME",
          "world/EUR",
          "world/AME",
          "world/EUR",
          "world/EUR",
          "world/SUB-SAHARAN",
          "world/ASIA",
          "world/SUB-SAHARAN",
          "world/EUR",
          "world/SUB-SAHARAN",
          "world/AME",
          "world/AME",
          "world/AME",
          "world/MENA",
          "world/AME",
          "world/SUB-SAHARAN",
          "world/EUR",
          "world/SUB-SAHARAN",
          "world/SUB-SAHARAN",
          "world/PAC",
          "world/EUR",
          "world/EUR",
          "world/SUB-SAHARAN",
          "world/SUB-SAHARAN",
          "world/EUR",
          "world/EUR",
          "world/SUB-SAHARAN",
          "world/EUR",
          "world/AME",
          "world/AME",
          "world/SUB-SAHARAN",
          "world/SUB-SAHARAN",
          "world/AME",
          "world/AME",
          "world/EUR",
          "world/EUR",
          "world/ASIA",
          "world/ASIA",
          "world/ASIA",
          "world/MENA",
          "world/EUR",
          "world/ASIA",
          "world/EUR",
          "world/AME",
          "world/ASIA",
          "world/MENA",
          "world/EUR",
          "world/SUB-SAHARAN",
          "world/PAC",
          "world/MENA",
          "world/EUR",
          "world/ASIA",
          "world/EUR",
          "world/MENA",
          "world/SUB-SAHARAN",
          "world/SUB-SAHARAN",
          "world/MENA",
          "world/EUR",
          "world/EUR",
          "world/EUR",
          "world/SUB-SAHARAN",
          "world/SUB-SAHARAN",
          "world/ASIA",
          "world/ASIA",
          "world/SUB-SAHARAN",
          "world/EUR",
          "world/PAC",
          "world/SUB-SAHARAN",
          "world/SUB-SAHARAN",
          "world/AME",
          "world/PAC",
          "world/EUR",
          "world/ASIA",
          "world/EUR",
          "world/MENA",
          "world/SUB-SAHARAN",
          "world/ASIA",
          "world/SUB-SAHARAN",
          "world/PAC",
          "world/ASIA",
          "world/EUR",
          "world/PAC",
          "world/AME",
          "world/SUB-SAHARAN",
          "world/SUB-SAHARAN",
          "world/EUR",
          "world/EUR",
          "world/MENA",
          "world/ASIA",
          "world/PAC",
          "world/AME",
          "world/AME",
          "world/AME",
          "world/ASIA",
          "world/EUR",
          "world/EUR",
          "world/MENA",
          "world/ASIA",
          "world/EUR",
          "world/EUR",
          "world/EUR",
          "world/SUB-SAHARAN",
          "world/AME",
          "world/AME",
          "world/AME",
          "world/PAC",
          "world/EUR",
          "world/SUB-SAHARAN",
          "world/MENA",
          "world/SUB-SAHARAN",
          "world/EUR",
          "world/SUB-SAHARAN",
          "world/SUB-SAHARAN",
          "world/ASIA",
          "world/EUR",
          "world/EUR",
          "world/PAC",
          "world/SUB-SAHARAN",
          "world/SUB-SAHARAN",
          "world/SUB-SAHARAN",
          "world/EUR",
          "world/ASIA",
          "world/AME",
          "world/EUR",
          "world/EUR",
          "world/MENA",
          "world/EUR",
          "world/ASIA",
          "world/ASIA",
          "world/SUB-SAHARAN",
          "world/PAC",
          "world/AME",
          "world/MENA",
          "world/EUR",
          "world/EUR",
          "world/PAC",
          "world/SUB-SAHARAN",
          "world/EUR",
          "world/MENA",
          "world/EUR",
          "world/SUB-SAHARAN",
          "world/AME",
          "world/AME",
          "world/EUR",
          "world/AME",
          "world/ASIA",
          "world/SUB-SAHARAN",
          "world/SUB-SAHARAN",
          "world",
          "world",
          "world",
          "world",
          "world",
          "world",
          ""
         ],
         "root": {
          "color": "red"
         },
         "type": "treemap",
         "values": [
          27,
          33.6,
          8.1,
          46.4,
          29.6,
          11.1,
          42.4,
          33.6,
          33.6,
          31.1,
          40.4,
          18.2,
          12.8,
          15,
          20.9,
          20,
          40,
          42.7,
          12.5,
          8.4,
          17,
          46.2,
          26.2,
          10.8,
          15.2,
          9.1,
          24.6,
          6.3,
          38.2,
          38.9,
          21.6,
          33.9,
          29.6,
          12.8,
          15.4,
          22.6,
          24.9,
          18.8,
          16.7,
          11.3,
          45.6,
          31.1,
          53.4,
          14.3,
          23,
          14.3,
          17.6,
          12.8,
          39.7,
          26.2,
          34.4,
          27.9,
          39.4,
          27.7,
          27.4,
          23,
          25.7,
          9.6,
          42.6,
          21.6,
          46,
          39.5,
          16.2,
          8.6,
          19.3,
          31.5,
          14.6,
          21.7,
          46.7,
          19.4,
          16.7,
          13.7,
          35.7,
          21.1,
          12.1,
          39.7,
          14.4,
          21,
          5.6,
          26.4,
          22.5,
          28.3,
          35.7,
          28.6,
          9.9,
          11.5,
          27.1,
          21.6,
          6.7,
          1.5,
          17.1,
          22,
          29,
          4.7,
          23.3,
          11,
          16,
          28,
          27.7,
          35,
          17.9,
          22.9,
          14.9,
          4.6,
          27.3,
          13.4,
          6.1,
          20.3,
          20,
          50,
          0,
          33.3,
          17.3,
          24.7,
          20.5,
          42.4,
          15.3,
          44.2,
          10.5,
          32.7,
          39.3,
          49.2,
          50.6,
          25.9,
          3.6,
          40,
          44.4,
          2.3,
          20.2,
          6.3,
          22.5,
          16.3,
          40,
          28,
          28.3,
          40,
          9.8,
          19,
          39.6,
          18.5,
          15.8,
          61.3,
          25,
          11.1,
          18.2,
          9.1,
          33.3,
          23.6,
          19.9,
          43,
          39.2,
          22.9,
          12.3,
          29.8,
          22.7,
          26.7,
          8,
          24.4,
          46.5,
          33.7,
          44,
          5.4,
          31.4,
          47,
          42,
          11.2,
          23.8,
          15.8,
          38.5,
          18.7,
          7.4,
          26.2,
          26.3,
          17.3,
          25,
          6.3,
          32.9,
          20.8,
          50,
          34.2,
          36.9,
          27.6,
          24.2,
          32.7,
          22.2,
          30.3,
          12.9,
          31.9,
          976.1,
          562.9,
          1599.2,
          250.89999999999998,
          162.3,
          1102,
          4653.4
         ]
        }
       ],
       "layout": {
        "coloraxis": {
         "cmid": null,
         "colorbar": {
          "title": {
           "text": "%W"
          }
         },
         "colorscale": [
          [
           0,
           "rgb(103,0,31)"
          ],
          [
           0.1,
           "rgb(178,24,43)"
          ],
          [
           0.2,
           "rgb(214,96,77)"
          ],
          [
           0.3,
           "rgb(244,165,130)"
          ],
          [
           0.4,
           "rgb(253,219,199)"
          ],
          [
           0.5,
           "rgb(247,247,247)"
          ],
          [
           0.6,
           "rgb(209,229,240)"
          ],
          [
           0.7,
           "rgb(146,197,222)"
          ],
          [
           0.8,
           "rgb(67,147,195)"
          ],
          [
           0.9,
           "rgb(33,102,172)"
          ],
          [
           1,
           "rgb(5,48,97)"
          ]
         ]
        },
        "legend": {
         "tracegroupgap": 0
        },
        "margin": {
         "b": 25,
         "l": 25,
         "r": 25,
         "t": 50
        },
        "template": {
         "data": {
          "bar": [
           {
            "error_x": {
             "color": "#2a3f5f"
            },
            "error_y": {
             "color": "#2a3f5f"
            },
            "marker": {
             "line": {
              "color": "#E5ECF6",
              "width": 0.5
             },
             "pattern": {
              "fillmode": "overlay",
              "size": 10,
              "solidity": 0.2
             }
            },
            "type": "bar"
           }
          ],
          "barpolar": [
           {
            "marker": {
             "line": {
              "color": "#E5ECF6",
              "width": 0.5
             },
             "pattern": {
              "fillmode": "overlay",
              "size": 10,
              "solidity": 0.2
             }
            },
            "type": "barpolar"
           }
          ],
          "carpet": [
           {
            "aaxis": {
             "endlinecolor": "#2a3f5f",
             "gridcolor": "white",
             "linecolor": "white",
             "minorgridcolor": "white",
             "startlinecolor": "#2a3f5f"
            },
            "baxis": {
             "endlinecolor": "#2a3f5f",
             "gridcolor": "white",
             "linecolor": "white",
             "minorgridcolor": "white",
             "startlinecolor": "#2a3f5f"
            },
            "type": "carpet"
           }
          ],
          "choropleth": [
           {
            "colorbar": {
             "outlinewidth": 0,
             "ticks": ""
            },
            "type": "choropleth"
           }
          ],
          "contour": [
           {
            "colorbar": {
             "outlinewidth": 0,
             "ticks": ""
            },
            "colorscale": [
             [
              0,
              "#0d0887"
             ],
             [
              0.1111111111111111,
              "#46039f"
             ],
             [
              0.2222222222222222,
              "#7201a8"
             ],
             [
              0.3333333333333333,
              "#9c179e"
             ],
             [
              0.4444444444444444,
              "#bd3786"
             ],
             [
              0.5555555555555556,
              "#d8576b"
             ],
             [
              0.6666666666666666,
              "#ed7953"
             ],
             [
              0.7777777777777778,
              "#fb9f3a"
             ],
             [
              0.8888888888888888,
              "#fdca26"
             ],
             [
              1,
              "#f0f921"
             ]
            ],
            "type": "contour"
           }
          ],
          "contourcarpet": [
           {
            "colorbar": {
             "outlinewidth": 0,
             "ticks": ""
            },
            "type": "contourcarpet"
           }
          ],
          "heatmap": [
           {
            "colorbar": {
             "outlinewidth": 0,
             "ticks": ""
            },
            "colorscale": [
             [
              0,
              "#0d0887"
             ],
             [
              0.1111111111111111,
              "#46039f"
             ],
             [
              0.2222222222222222,
              "#7201a8"
             ],
             [
              0.3333333333333333,
              "#9c179e"
             ],
             [
              0.4444444444444444,
              "#bd3786"
             ],
             [
              0.5555555555555556,
              "#d8576b"
             ],
             [
              0.6666666666666666,
              "#ed7953"
             ],
             [
              0.7777777777777778,
              "#fb9f3a"
             ],
             [
              0.8888888888888888,
              "#fdca26"
             ],
             [
              1,
              "#f0f921"
             ]
            ],
            "type": "heatmap"
           }
          ],
          "heatmapgl": [
           {
            "colorbar": {
             "outlinewidth": 0,
             "ticks": ""
            },
            "colorscale": [
             [
              0,
              "#0d0887"
             ],
             [
              0.1111111111111111,
              "#46039f"
             ],
             [
              0.2222222222222222,
              "#7201a8"
             ],
             [
              0.3333333333333333,
              "#9c179e"
             ],
             [
              0.4444444444444444,
              "#bd3786"
             ],
             [
              0.5555555555555556,
              "#d8576b"
             ],
             [
              0.6666666666666666,
              "#ed7953"
             ],
             [
              0.7777777777777778,
              "#fb9f3a"
             ],
             [
              0.8888888888888888,
              "#fdca26"
             ],
             [
              1,
              "#f0f921"
             ]
            ],
            "type": "heatmapgl"
           }
          ],
          "histogram": [
           {
            "marker": {
             "pattern": {
              "fillmode": "overlay",
              "size": 10,
              "solidity": 0.2
             }
            },
            "type": "histogram"
           }
          ],
          "histogram2d": [
           {
            "colorbar": {
             "outlinewidth": 0,
             "ticks": ""
            },
            "colorscale": [
             [
              0,
              "#0d0887"
             ],
             [
              0.1111111111111111,
              "#46039f"
             ],
             [
              0.2222222222222222,
              "#7201a8"
             ],
             [
              0.3333333333333333,
              "#9c179e"
             ],
             [
              0.4444444444444444,
              "#bd3786"
             ],
             [
              0.5555555555555556,
              "#d8576b"
             ],
             [
              0.6666666666666666,
              "#ed7953"
             ],
             [
              0.7777777777777778,
              "#fb9f3a"
             ],
             [
              0.8888888888888888,
              "#fdca26"
             ],
             [
              1,
              "#f0f921"
             ]
            ],
            "type": "histogram2d"
           }
          ],
          "histogram2dcontour": [
           {
            "colorbar": {
             "outlinewidth": 0,
             "ticks": ""
            },
            "colorscale": [
             [
              0,
              "#0d0887"
             ],
             [
              0.1111111111111111,
              "#46039f"
             ],
             [
              0.2222222222222222,
              "#7201a8"
             ],
             [
              0.3333333333333333,
              "#9c179e"
             ],
             [
              0.4444444444444444,
              "#bd3786"
             ],
             [
              0.5555555555555556,
              "#d8576b"
             ],
             [
              0.6666666666666666,
              "#ed7953"
             ],
             [
              0.7777777777777778,
              "#fb9f3a"
             ],
             [
              0.8888888888888888,
              "#fdca26"
             ],
             [
              1,
              "#f0f921"
             ]
            ],
            "type": "histogram2dcontour"
           }
          ],
          "mesh3d": [
           {
            "colorbar": {
             "outlinewidth": 0,
             "ticks": ""
            },
            "type": "mesh3d"
           }
          ],
          "parcoords": [
           {
            "line": {
             "colorbar": {
              "outlinewidth": 0,
              "ticks": ""
             }
            },
            "type": "parcoords"
           }
          ],
          "pie": [
           {
            "automargin": true,
            "type": "pie"
           }
          ],
          "scatter": [
           {
            "marker": {
             "colorbar": {
              "outlinewidth": 0,
              "ticks": ""
             }
            },
            "type": "scatter"
           }
          ],
          "scatter3d": [
           {
            "line": {
             "colorbar": {
              "outlinewidth": 0,
              "ticks": ""
             }
            },
            "marker": {
             "colorbar": {
              "outlinewidth": 0,
              "ticks": ""
             }
            },
            "type": "scatter3d"
           }
          ],
          "scattercarpet": [
           {
            "marker": {
             "colorbar": {
              "outlinewidth": 0,
              "ticks": ""
             }
            },
            "type": "scattercarpet"
           }
          ],
          "scattergeo": [
           {
            "marker": {
             "colorbar": {
              "outlinewidth": 0,
              "ticks": ""
             }
            },
            "type": "scattergeo"
           }
          ],
          "scattergl": [
           {
            "marker": {
             "colorbar": {
              "outlinewidth": 0,
              "ticks": ""
             }
            },
            "type": "scattergl"
           }
          ],
          "scattermapbox": [
           {
            "marker": {
             "colorbar": {
              "outlinewidth": 0,
              "ticks": ""
             }
            },
            "type": "scattermapbox"
           }
          ],
          "scatterpolar": [
           {
            "marker": {
             "colorbar": {
              "outlinewidth": 0,
              "ticks": ""
             }
            },
            "type": "scatterpolar"
           }
          ],
          "scatterpolargl": [
           {
            "marker": {
             "colorbar": {
              "outlinewidth": 0,
              "ticks": ""
             }
            },
            "type": "scatterpolargl"
           }
          ],
          "scatterternary": [
           {
            "marker": {
             "colorbar": {
              "outlinewidth": 0,
              "ticks": ""
             }
            },
            "type": "scatterternary"
           }
          ],
          "surface": [
           {
            "colorbar": {
             "outlinewidth": 0,
             "ticks": ""
            },
            "colorscale": [
             [
              0,
              "#0d0887"
             ],
             [
              0.1111111111111111,
              "#46039f"
             ],
             [
              0.2222222222222222,
              "#7201a8"
             ],
             [
              0.3333333333333333,
              "#9c179e"
             ],
             [
              0.4444444444444444,
              "#bd3786"
             ],
             [
              0.5555555555555556,
              "#d8576b"
             ],
             [
              0.6666666666666666,
              "#ed7953"
             ],
             [
              0.7777777777777778,
              "#fb9f3a"
             ],
             [
              0.8888888888888888,
              "#fdca26"
             ],
             [
              1,
              "#f0f921"
             ]
            ],
            "type": "surface"
           }
          ],
          "table": [
           {
            "cells": {
             "fill": {
              "color": "#EBF0F8"
             },
             "line": {
              "color": "white"
             }
            },
            "header": {
             "fill": {
              "color": "#C8D4E3"
             },
             "line": {
              "color": "white"
             }
            },
            "type": "table"
           }
          ]
         },
         "layout": {
          "annotationdefaults": {
           "arrowcolor": "#2a3f5f",
           "arrowhead": 0,
           "arrowwidth": 1
          },
          "autotypenumbers": "strict",
          "coloraxis": {
           "colorbar": {
            "outlinewidth": 0,
            "ticks": ""
           }
          },
          "colorscale": {
           "diverging": [
            [
             0,
             "#8e0152"
            ],
            [
             0.1,
             "#c51b7d"
            ],
            [
             0.2,
             "#de77ae"
            ],
            [
             0.3,
             "#f1b6da"
            ],
            [
             0.4,
             "#fde0ef"
            ],
            [
             0.5,
             "#f7f7f7"
            ],
            [
             0.6,
             "#e6f5d0"
            ],
            [
             0.7,
             "#b8e186"
            ],
            [
             0.8,
             "#7fbc41"
            ],
            [
             0.9,
             "#4d9221"
            ],
            [
             1,
             "#276419"
            ]
           ],
           "sequential": [
            [
             0,
             "#0d0887"
            ],
            [
             0.1111111111111111,
             "#46039f"
            ],
            [
             0.2222222222222222,
             "#7201a8"
            ],
            [
             0.3333333333333333,
             "#9c179e"
            ],
            [
             0.4444444444444444,
             "#bd3786"
            ],
            [
             0.5555555555555556,
             "#d8576b"
            ],
            [
             0.6666666666666666,
             "#ed7953"
            ],
            [
             0.7777777777777778,
             "#fb9f3a"
            ],
            [
             0.8888888888888888,
             "#fdca26"
            ],
            [
             1,
             "#f0f921"
            ]
           ],
           "sequentialminus": [
            [
             0,
             "#0d0887"
            ],
            [
             0.1111111111111111,
             "#46039f"
            ],
            [
             0.2222222222222222,
             "#7201a8"
            ],
            [
             0.3333333333333333,
             "#9c179e"
            ],
            [
             0.4444444444444444,
             "#bd3786"
            ],
            [
             0.5555555555555556,
             "#d8576b"
            ],
            [
             0.6666666666666666,
             "#ed7953"
            ],
            [
             0.7777777777777778,
             "#fb9f3a"
            ],
            [
             0.8888888888888888,
             "#fdca26"
            ],
            [
             1,
             "#f0f921"
            ]
           ]
          },
          "colorway": [
           "#636efa",
           "#EF553B",
           "#00cc96",
           "#ab63fa",
           "#FFA15A",
           "#19d3f3",
           "#FF6692",
           "#B6E880",
           "#FF97FF",
           "#FECB52"
          ],
          "font": {
           "color": "#2a3f5f"
          },
          "geo": {
           "bgcolor": "white",
           "lakecolor": "white",
           "landcolor": "#E5ECF6",
           "showlakes": true,
           "showland": true,
           "subunitcolor": "white"
          },
          "hoverlabel": {
           "align": "left"
          },
          "hovermode": "closest",
          "mapbox": {
           "style": "light"
          },
          "paper_bgcolor": "white",
          "plot_bgcolor": "#E5ECF6",
          "polar": {
           "angularaxis": {
            "gridcolor": "white",
            "linecolor": "white",
            "ticks": ""
           },
           "bgcolor": "#E5ECF6",
           "radialaxis": {
            "gridcolor": "white",
            "linecolor": "white",
            "ticks": ""
           }
          },
          "scene": {
           "xaxis": {
            "backgroundcolor": "#E5ECF6",
            "gridcolor": "white",
            "gridwidth": 2,
            "linecolor": "white",
            "showbackground": true,
            "ticks": "",
            "zerolinecolor": "white"
           },
           "yaxis": {
            "backgroundcolor": "#E5ECF6",
            "gridcolor": "white",
            "gridwidth": 2,
            "linecolor": "white",
            "showbackground": true,
            "ticks": "",
            "zerolinecolor": "white"
           },
           "zaxis": {
            "backgroundcolor": "#E5ECF6",
            "gridcolor": "white",
            "gridwidth": 2,
            "linecolor": "white",
            "showbackground": true,
            "ticks": "",
            "zerolinecolor": "white"
           }
          },
          "shapedefaults": {
           "line": {
            "color": "#2a3f5f"
           }
          },
          "ternary": {
           "aaxis": {
            "gridcolor": "white",
            "linecolor": "white",
            "ticks": ""
           },
           "baxis": {
            "gridcolor": "white",
            "linecolor": "white",
            "ticks": ""
           },
           "bgcolor": "#E5ECF6",
           "caxis": {
            "gridcolor": "white",
            "linecolor": "white",
            "ticks": ""
           }
          },
          "title": {
           "x": 0.05
          },
          "xaxis": {
           "automargin": true,
           "gridcolor": "white",
           "linecolor": "white",
           "ticks": "",
           "title": {
            "standoff": 15
           },
           "zerolinecolor": "white",
           "zerolinewidth": 2
          },
          "yaxis": {
           "automargin": true,
           "gridcolor": "white",
           "linecolor": "white",
           "ticks": "",
           "title": {
            "standoff": 15
           },
           "zerolinecolor": "white",
           "zerolinewidth": 2
          }
         }
        },
        "title": {
         "text": "Women Representation in Parliament 2021"
        }
       }
      }
     },
     "metadata": {},
     "output_type": "display_data"
    }
   ],
   "source": [
    "fig = px.treemap(df_2021_regions, \n",
    "                 path=[px.Constant(\"world\"), 'region', 'country'], \n",
    "                 values='%W',\n",
    "                 color='%W', \n",
    "                 title='Women Representation in Parliament 2021',\n",
    "                 color_continuous_scale='RdBu',\n",
    "                 color_continuous_midpoint=np.average(df_2021_regions['%W'], weights=df_2021_regions['%W']),\n",
    "                 hover_data = ['%W'])\n",
    "fig.update_traces(root_color=\"red\")\n",
    "fig.update_layout(margin = dict(t=50, l=25, r=25, b=25))\n",
    "fig.data[0].hovertemplate = '%{label}<br>%{value}'\n",
    "fig.show()"
   ]
  },
  {
   "cell_type": "code",
   "execution_count": 34,
   "metadata": {},
   "outputs": [
    {
     "name": "stdout",
     "output_type": "stream",
     "text": [
      "['Bolivia (Plurinational State of)' 'Republic of Moldova'\n",
      " 'United Republic of Tanzania' 'United States of America' 'Czech Republic'\n",
      " 'Venezuela (Bolivarian Republic of)' 'Republic of Korea'\n",
      " \"Democratic People's Republic of Korea\"\n",
      " 'Democratic Republic of the Congo' 'Gambia (The)'\n",
      " 'Iran (Islamic Republic of)' 'Micronesia (Federated States of)']\n"
     ]
    }
   ],
   "source": [
    "import pycountry\n",
    "import pandas as pd\n",
    "\n",
    "def get_iso3(country_name):\n",
    "    try:\n",
    "        iso3 = pycountry.countries.get(name=country_name).alpha_3\n",
    "    except:\n",
    "        iso3 = 'not_found'\n",
    "    \n",
    "    return iso3\n",
    "\n",
    "# read data of Women's representation in parliament as of 2021\n",
    "df21 = pd.read_csv('./data/women_percent_as_of2021.csv',skiprows=5)\n",
    "# get country ISO code\n",
    "df21['iso3'] = df21['Country'].apply(get_iso3)\n",
    "\n",
    "# fix missing country codes\n",
    "missing_codes = df21[df21['iso3'].str.contains('not_found')]['Country'].unique()\n",
    "print(missing_codes)\n",
    "\n",
    "bol_index = df21[df21['Country'].str.contains('Bolivia')].index[0]\n",
    "df21.iloc[bol_index]['iso3']='BOL'\n",
    "\n",
    "mda_index = df21[df21['Country'].str.contains('Moldova')].index[0]\n",
    "df21.iloc[mda_index]['iso3']='MDA'\n",
    "\n",
    "tza_index = df21[df21['Country'].str.contains('Tanzania')].index[0]\n",
    "df21.iloc[tza_index]['iso3']='TZA'\n",
    "\n",
    "usa_index = df21[df21['Country'].str.contains('States of America')].index[0]\n",
    "df21.iloc[usa_index]['iso3']='USA'\n",
    "\n",
    "kor_index = df21[df21['Country'].str.contains('Republic of Korea')].index[0]\n",
    "df21.iloc[kor_index]['iso3']='KOR'\n",
    "\n",
    "prk_index = df21[df21['Country'].str.contains(\"Democratic People's Republic of Korea\")].index[0]\n",
    "df21.iloc[prk_index]['iso3']='PRK'\n",
    "\n",
    "cod_index = df21[df21['Country'].str.contains(\"Democratic Republic of the Congo\")].index[0]\n",
    "df21.iloc[cod_index]['iso3']='COD'\n",
    "\n",
    "bgm_index = df21[df21['Country']==\"Gambia (The)\"].index[0]\n",
    "df21.iloc[bgm_index]['iso3']='GBM'\n",
    "\n",
    "irn_index = df21[df21['Country']==\"Iran (Islamic Republic of)\"].index[0]\n",
    "df21.iloc[irn_index]['iso3']='IRN'\n",
    "\n",
    "fsm_index = df21[df21['Country']==\"Micronesia (Federated States of)\"].index[0]\n",
    "df21.iloc[fsm_index]['iso3']='FSM'\n",
    "\n",
    "ven_index = df21[df21['Country']==\"Venezuela (Bolivarian Republic of)\"].index[0]\n",
    "df21.iloc[ven_index]['iso3']='VEN'\n",
    "\n",
    "ch_index = df21[df21['Country']==\"Czech Republic\"].index[0]\n",
    "df21.iloc[ch_index]['iso3']='CZE'\n",
    "\n",
    "df21 = df21.loc[:186]\n",
    "df21['%W'] = df21['%W'].iloc[:186].astype('float')\n",
    "\n",
    "df21['%W_str'] = df21['%W'].apply(lambda x:str(x)+'%')\n",
    "\n",
    "# df21.to_csv('./data/women_percent_as_of2021_cleaned.csv',index=False)"
   ]
  },
  {
   "cell_type": "code",
   "execution_count": 36,
   "metadata": {},
   "outputs": [
    {
     "data": {
      "application/vnd.plotly.v1+json": {
       "config": {
        "plotlyServerURL": "https://plot.ly"
       },
       "data": [
        {
         "coloraxis": "coloraxis",
         "customdata": [
          [
           "1",
           "Rwanda",
           "9.2018",
           "80",
           "49",
           61.3,
           "9.2019",
           "26",
           "10",
           "38.5",
           "RWA",
           "61.3%"
          ],
          [
           "2",
           "Cuba",
           "3.2018",
           "586",
           "313",
           53.4,
           "-",
           "-",
           "-",
           "-",
           "CUB",
           "53.4%"
          ],
          [
           "3",
           "Nicaragua",
           "11.2016",
           "91",
           "46",
           50.6,
           "-",
           "-",
           "-",
           "-",
           "NIC",
           "50.6%"
          ],
          [
           "4",
           "Mexico",
           "6.2021",
           "500",
           "250",
           50,
           "7.2018",
           "128",
           "63",
           "49.2",
           "MEX",
           "50.0%"
          ],
          [
           "“",
           "United Arab Emirates",
           "10.2019",
           "40",
           "20",
           50,
           "-",
           "-",
           "-",
           "-",
           "ARE",
           "50.0%"
          ],
          [
           "6",
           "New Zealand",
           "10.202",
           "120",
           "59",
           49.2,
           "-",
           "-",
           "-",
           "-",
           "NZL",
           "49.2%"
          ],
          [
           "7",
           "Sweden",
           "9.2018",
           "349",
           "164",
           47,
           "-",
           "-",
           "-",
           "-",
           "SWE",
           "47.0%"
          ],
          [
           "8",
           "Grenada",
           "3.2018",
           "15",
           "7",
           46.7,
           "4.2018",
           "13",
           "2",
           "15.4",
           "GRD",
           "46.7%"
          ],
          [
           "9",
           "South Africa",
           "5.2019",
           "396",
           "184",
           46.5,
           "5.2019",
           "53",
           "22",
           "41.5",
           "ZAF",
           "46.5%"
          ],
          [
           "10",
           "Andorra",
           "4.2019",
           "28",
           "13",
           46.4,
           "-",
           "-",
           "-",
           "-",
           "AND",
           "46.4%"
          ],
          [
           "11",
           "Bolivia (Plurinational State of)",
           "10.202",
           "130",
           "60",
           46.2,
           "10.202",
           "36",
           "20",
           "55.6",
           "BOL",
           "46.2%"
          ],
          [
           "12",
           "Finland",
           "4.2019",
           "200",
           "92",
           46,
           "-",
           "-",
           "-",
           "-",
           "FIN",
           "46.0%"
          ],
          [
           "13",
           "Costa Rica",
           "2.2018",
           "57",
           "26",
           45.6,
           "-",
           "-",
           "-",
           "-",
           "CRI",
           "45.6%"
          ],
          [
           "14",
           "Norway",
           "9.2017",
           "169",
           "75",
           44.4,
           "-",
           "-",
           "-",
           "-",
           "NOR",
           "44.4%"
          ],
          [
           "15",
           "Namibia",
           "11.2019",
           "104",
           "46",
           44.2,
           "12.202",
           "42",
           "6",
           "14.3",
           "NAM",
           "44.2%"
          ],
          [
           "16",
           "Spain",
           "11.2019",
           "350",
           "154",
           44,
           "11.2019",
           "265",
           "108",
           "40.8",
           "ESP",
           "44.0%"
          ],
          [
           "17",
           "Senegal",
           "7.2017",
           "165",
           "71",
           43,
           "-",
           "-",
           "-",
           "-",
           "SEN",
           "43.0%"
          ],
          [
           "18",
           "Belgium",
           "5.2019",
           "150",
           "64",
           42.7,
           "7.2019",
           "60",
           "27",
           "45",
           "BEL",
           "42.7%"
          ],
          [
           "19",
           "Ethiopia",
           "6.2021",
           "425",
           "181",
           42.6,
           "10.2015",
           "153",
           "49",
           "32",
           "ETH",
           "42.6%"
          ],
          [
           "20",
           "Argentina",
           "10.2019",
           "257",
           "109",
           42.4,
           "10.2019",
           "72",
           "29",
           "40.3",
           "ARG",
           "42.4%"
          ],
          [
           "“",
           "Mozambique",
           "10.2019",
           "250",
           "106",
           42.4,
           "-",
           "-",
           "-",
           "-",
           "MOZ",
           "42.4%"
          ],
          [
           "22",
           "Switzerland",
           "10.2019",
           "200",
           "84",
           42,
           "10.2019",
           "46",
           "12",
           "26.1",
           "CHE",
           "42.0%"
          ],
          [
           "23",
           "Austria",
           "9.2019",
           "183",
           "74",
           40.4,
           "-",
           "61",
           "22",
           "36.1",
           "AUT",
           "40.4%"
          ],
          [
           "24",
           "Belarus",
           "11.2019",
           "110",
           "44",
           40,
           "11.2019",
           "60",
           "15",
           "25",
           "BLR",
           "40.0%"
          ],
          [
           "“",
           "North Macedonia",
           "7.202",
           "120",
           "48",
           40,
           "-",
           "-",
           "-",
           "-",
           "MKD",
           "40.0%"
          ],
          [
           "“",
           "Peru",
           "4.2021",
           "130",
           "52",
           40,
           "-",
           "-",
           "-",
           "-",
           "PER",
           "40.0%"
          ],
          [
           "“",
           "Portugal",
           "10.2019",
           "230",
           "92",
           40,
           "-",
           "-",
           "-",
           "-",
           "PRT",
           "40.0%"
          ],
          [
           "28",
           "Denmark",
           "6.2019",
           "179",
           "71",
           39.7,
           "-",
           "-",
           "-",
           "-",
           "DNK",
           "39.7%"
          ],
          [
           "“",
           "Iceland",
           "10.2017",
           "63",
           "25",
           39.7,
           "-",
           "-",
           "-",
           "-",
           "ISL",
           "39.7%"
          ],
          [
           "30",
           "Republic of Moldova",
           "7.2021",
           "101",
           "40",
           39.6,
           "-",
           "-",
           "-",
           "-",
           "MDA",
           "39.6%"
          ],
          [
           "31",
           "France",
           "6.2017",
           "577",
           "228",
           39.5,
           "9.202",
           "348",
           "121",
           "34.8",
           "FRA",
           "39.5%"
          ],
          [
           "32",
           "Ecuador",
           "2.2021",
           "137",
           "54",
           39.4,
           "-",
           "-",
           "-",
           "-",
           "ECU",
           "39.4%"
          ],
          [
           "33",
           "Netherlands",
           "3.2021",
           "150",
           "59",
           39.3,
           "5.2019",
           "75",
           "29",
           "38.7",
           "NLD",
           "39.3%"
          ],
          [
           "34",
           "Serbia",
           "6.202",
           "250",
           "98",
           39.2,
           "-",
           "-",
           "-",
           "-",
           "SRB",
           "39.2%"
          ],
          [
           "35",
           "Cabo Verde",
           "4.2021",
           "72",
           "28",
           38.9,
           "-",
           "-",
           "-",
           "-",
           "CPV",
           "38.9%"
          ],
          [
           "36",
           "Timor-Leste",
           "5.2018",
           "65",
           "25",
           38.5,
           "-",
           "-",
           "-",
           "-",
           "TLS",
           "38.5%"
          ],
          [
           "37",
           "Burundi",
           "5.202",
           "123",
           "47",
           38.2,
           "7.202",
           "39",
           "16",
           "41",
           "BDI",
           "38.2%"
          ],
          [
           "38",
           "United Republic of Tanzania",
           "10.202",
           "388",
           "143",
           36.9,
           "-",
           "-",
           "-",
           "-",
           "TZA",
           "36.9%"
          ],
          [
           "39",
           "Guyana",
           "3.202",
           "70",
           "25",
           35.7,
           "-",
           "-",
           "-",
           "-",
           "GUY",
           "35.7%"
          ],
          [
           "“",
           "Italy",
           "3.2018",
           "630",
           "225",
           35.7,
           "3.2018",
           "320",
           "110",
           "34.4",
           "ITA",
           "35.7%"
          ],
          [
           "41",
           "Luxembourg",
           "10.2018",
           "60",
           "21",
           35,
           "-",
           "-",
           "-",
           "-",
           "LUX",
           "35.0%"
          ],
          [
           "42",
           "Dominica",
           "12.2019",
           "32",
           "11",
           34.4,
           "-",
           "-",
           "-",
           "-",
           "DMA",
           "34.4%"
          ],
          [
           "43",
           "United Kingdom",
           "12.2019",
           "650",
           "222",
           34.2,
           "-",
           "790",
           "223",
           "28.2",
           "GBR",
           "34.2%"
          ],
          [
           "44",
           "Cameroon",
           "2.202",
           "180",
           "61",
           33.9,
           "3.2018",
           "100",
           "26",
           "26",
           "CMR",
           "33.9%"
          ],
          [
           "45",
           "South Sudan",
           "5.2021",
           "504",
           "170",
           33.7,
           "8.2021",
           "84",
           "27",
           "32.1",
           "SSD",
           "33.7%"
          ],
          [
           "46",
           "Albania",
           "4.2021",
           "140",
           "47",
           33.6,
           "-",
           "-",
           "-",
           "-",
           "ALB",
           "33.6%"
          ],
          [
           "“",
           "Armenia",
           "6.2021",
           "107",
           "36",
           33.6,
           "-",
           "-",
           "-",
           "-",
           "ARM",
           "33.6%"
          ],
          [
           "48",
           "Monaco",
           "2.2018",
           "24",
           "8",
           33.3,
           "-",
           "-",
           "-",
           "-",
           "MCO",
           "33.3%"
          ],
          [
           "“",
           "San Marino",
           "12.2019",
           "60",
           "20",
           33.3,
           "-",
           "-",
           "-",
           "-",
           "SMR",
           "33.3%"
          ],
          [
           "50",
           "Uganda",
           "1.2021",
           "529",
           "174",
           32.9,
           "-",
           "-",
           "-",
           "-",
           "UGA",
           "32.9%"
          ],
          [
           "51",
           "Nepal",
           "11.2017",
           "275",
           "90",
           32.7,
           "1.202",
           "58",
           "22",
           "37.9",
           "NPL",
           "32.7%"
          ],
          [
           "“",
           "Uzbekistan",
           "12.2019",
           "147",
           "48",
           32.7,
           "1.202",
           "100",
           "23",
           "23",
           "UZB",
           "32.7%"
          ],
          [
           "53",
           "Zimbabwe",
           "7.2018",
           "270",
           "86",
           31.9,
           "7.2018",
           "80",
           "35",
           "43.8",
           "ZWE",
           "31.9%"
          ],
          [
           "54",
           "Germany",
           "9.2017",
           "709",
           "223",
           31.5,
           "-",
           "69",
           "23",
           "33.3",
           "DEU",
           "31.5%"
          ],
          [
           "55",
           "Suriname",
           "5.202",
           "51",
           "16",
           31.4,
           "-",
           "-",
           "-",
           "-",
           "SUR",
           "31.4%"
          ],
          [
           "56",
           "Australia",
           "5.2019",
           "151",
           "47",
           31.1,
           "5.2019",
           "76",
           "39",
           "51.3",
           "AUS",
           "31.1%"
          ],
          [
           "“",
           "Croatia",
           "7.202",
           "151",
           "47",
           31.1,
           "-",
           "-",
           "-",
           "-",
           "HRV",
           "31.1%"
          ],
          [
           "58",
           "Viet Nam",
           "5.2021",
           "499",
           "151",
           30.3,
           "-",
           "-",
           "-",
           "-",
           "VNM",
           "30.3%"
          ],
          [
           "59",
           "Singapore",
           "7.202",
           "104",
           "31",
           29.8,
           "-",
           "-",
           "-",
           "-",
           "SGP",
           "29.8%"
          ],
          [
           "60",
           "Angola",
           "8.2017",
           "220",
           "65",
           29.6,
           "-",
           "-",
           "-",
           "-",
           "AGO",
           "29.6%"
          ],
          [
           "“",
           "Canada",
           "10.2019",
           "338",
           "100",
           29.6,
           "-",
           "95",
           "47",
           "49.5",
           "CAN",
           "29.6%"
          ],
          [
           "62",
           "Latvia",
           "10.2018",
           "100",
           "29",
           29,
           "-",
           "-",
           "-",
           "-",
           "LVA",
           "29.0%"
          ],
          [
           "63",
           "Jamaica",
           "9.202",
           "63",
           "18",
           28.6,
           "9.202",
           "21",
           "8",
           "38.1",
           "JAM",
           "28.6%"
          ],
          [
           "64",
           "Israel",
           "3.2021",
           "120",
           "34",
           28.3,
           "-",
           "-",
           "-",
           "-",
           "ISR",
           "28.3%"
          ],
          [
           "“",
           "Poland",
           "10.2019",
           "459",
           "130",
           28.3,
           "10.2019",
           "100",
           "24",
           "24",
           "POL",
           "28.3%"
          ],
          [
           "66",
           "Liechtenstein",
           "2.2021",
           "25",
           "7",
           28,
           "-",
           "-",
           "-",
           "-",
           "LIE",
           "28.0%"
          ],
          [
           "“",
           "Philippines",
           "5.2019",
           "304",
           "85",
           28,
           "5.2019",
           "24",
           "7",
           "29.2",
           "PHL",
           "28.0%"
          ],
          [
           "68",
           "Dominican Republic",
           "7.202",
           "190",
           "53",
           27.9,
           "7.202",
           "32",
           "4",
           "12.5",
           "DOM",
           "27.9%"
          ],
          [
           "69",
           "Egypt",
           "10.202",
           "592",
           "164",
           27.7,
           "8.202",
           "300",
           "40",
           "13.3",
           "EGY",
           "27.7%"
          ],
          [
           "“",
           "Lithuania",
           "10.202",
           "141",
           "39",
           27.7,
           "-",
           "-",
           "-",
           "-",
           "LTU",
           "27.7%"
          ],
          [
           "71",
           "United States of America",
           "11.202",
           "432",
           "119",
           27.6,
           "11.202",
           "100",
           "24",
           "24",
           "USA",
           "27.6%"
          ],
          [
           "72",
           "El Salvador",
           "2.2021",
           "84",
           "23",
           27.4,
           "-",
           "-",
           "-",
           "-",
           "SLV",
           "27.4%"
          ],
          [
           "73",
           "Mali",
           "12.202",
           "121",
           "33",
           27.3,
           "-",
           "-",
           "-",
           "-",
           "MLI",
           "27.3%"
          ],
          [
           "74",
           "Kazakhstan",
           "1.2021",
           "107",
           "29",
           27.1,
           "8.202",
           "48",
           "9",
           "18.8",
           "KAZ",
           "27.1%"
          ],
          [
           "75",
           "Afghanistan",
           "10.2018",
           "248",
           "67",
           27,
           "1.2015",
           "68",
           "19",
           "27.9",
           "AFG",
           "27.0%"
          ],
          [
           "76",
           "Slovenia",
           "6.2018",
           "90",
           "24",
           26.7,
           "11.2017",
           "40",
           "4",
           "10",
           "SVN",
           "26.7%"
          ],
          [
           "77",
           "Iraq",
           "5.2018",
           "329",
           "87",
           26.4,
           "-",
           "-",
           "-",
           "-",
           "IRQ",
           "26.4%"
          ],
          [
           "78",
           "Tunisia",
           "10.2019",
           "217",
           "57",
           26.3,
           "-",
           "-",
           "-",
           "-",
           "TUN",
           "26.3%"
          ],
          [
           "79",
           "Bosnia and Herzegovina",
           "10.2018",
           "42",
           "11",
           26.2,
           "2.2019",
           "15",
           "3",
           "20",
           "BIH",
           "26.2%"
          ],
          [
           "“",
           "Djibouti",
           "2.2018",
           "65",
           "17",
           26.2,
           "-",
           "-",
           "-",
           "-",
           "DJI",
           "26.2%"
          ],
          [
           "“",
           "Trinidad and Tobago",
           "8.202",
           "42",
           "11",
           26.2,
           "8.202",
           "32",
           "13",
           "40.6",
           "TTO",
           "26.2%"
          ],
          [
           "82",
           "Niger",
           "12.202",
           "166",
           "43",
           25.9,
           "-",
           "-",
           "-",
           "-",
           "NER",
           "25.9%"
          ],
          [
           "83",
           "Estonia",
           "3.2019",
           "101",
           "26",
           25.7,
           "-",
           "-",
           "-",
           "-",
           "EST",
           "25.7%"
          ],
          [
           "84",
           "Saint Kitts and Nevis",
           "6.202",
           "16",
           "4",
           25,
           "-",
           "-",
           "-",
           "-",
           "KNA",
           "25.0%"
          ],
          [
           "“",
           "Turkmenistan",
           "3.2018",
           "124",
           "31",
           25,
           "3.2021",
           "56",
           "14",
           "25",
           "TKM",
           "25.0%"
          ],
          [
           "86",
           "China",
           "3.2018",
           "2975",
           "742",
           24.9,
           "-",
           "-",
           "-",
           "-",
           "CHN",
           "24.9%"
          ],
          [
           "87",
           "Montenegro",
           "8.202",
           "81",
           "20",
           24.7,
           "-",
           "-",
           "-",
           "-",
           "MNE",
           "24.7%"
          ],
          [
           "88",
           "Bulgaria",
           "7.2021",
           "240",
           "59",
           24.6,
           "-",
           "-",
           "-",
           "-",
           "BGR",
           "24.6%"
          ],
          [
           "89",
           "Somalia",
           "10.2016",
           "275",
           "67",
           24.4,
           "7.2021",
           "29",
           "7",
           "24.1",
           "SOM",
           "24.4%"
          ],
          [
           "90",
           "Uruguay",
           "10.2019",
           "99",
           "24",
           24.2,
           "10.2019",
           "31",
           "10",
           "32.3",
           "URY",
           "24.2%"
          ],
          [
           "91",
           "Tajikistan",
           "3.202",
           "63",
           "15",
           23.8,
           "3.202",
           "31",
           "7",
           "22.6",
           "TJK",
           "23.8%"
          ],
          [
           "92",
           "Sao Tome and Principe",
           "10.2018",
           "55",
           "13",
           23.6,
           "-",
           "-",
           "-",
           "-",
           "STP",
           "23.6%"
          ],
          [
           "93",
           "Lesotho",
           "6.2017",
           "120",
           "28",
           23.3,
           "7.2017",
           "33",
           "7",
           "21.2",
           "LSO",
           "23.3%"
          ],
          [
           "94",
           "Czech Republic",
           "10.2017",
           "200",
           "46",
           23,
           "10.202",
           "81",
           "12",
           "14.8",
           "CZE",
           "23.0%"
          ],
          [
           "“",
           "Equatorial Guinea",
           "11.2017",
           "100",
           "23",
           23,
           "11.2017",
           "72",
           "12",
           "16.7",
           "GNQ",
           "23.0%"
          ],
          [
           "96",
           "Malawi",
           "5.2019",
           "192",
           "44",
           22.9,
           "-",
           "-",
           "-",
           "-",
           "MWI",
           "22.9%"
          ],
          [
           "“",
           "Seychelles",
           "10.202",
           "35",
           "8",
           22.9,
           "-",
           "-",
           "-",
           "-",
           "SYC",
           "22.9%"
          ],
          [
           "98",
           "Slovakia",
           "2.202",
           "150",
           "34",
           22.7,
           "-",
           "-",
           "-",
           "-",
           "SVK",
           "22.7%"
          ],
          [
           "99",
           "Chile",
           "11.2017",
           "155",
           "35",
           22.6,
           "11.2017",
           "43",
           "12",
           "27.9",
           "CHL",
           "22.6%"
          ],
          [
           "100",
           "Ireland",
           "2.202",
           "160",
           "36",
           22.5,
           "3.202",
           "60",
           "24",
           "40",
           "IRL",
           "22.5%"
          ],
          [
           "“",
           "Panama",
           "5.2019",
           "71",
           "16",
           22.5,
           "-",
           "-",
           "-",
           "-",
           "PAN",
           "22.5%"
          ],
          [
           "102",
           "Venezuela (Bolivarian Republic of)",
           "12.2015",
           "167",
           "37",
           22.2,
           "-",
           "-",
           "-",
           "-",
           "VEN",
           "22.2%"
          ],
          [
           "103",
           "Lao People's Democratic Republic",
           "2.2021",
           "164",
           "36",
           22,
           "-",
           "-",
           "-",
           "-",
           "LAO",
           "22.0%"
          ],
          [
           "104",
           "Greece",
           "7.2019",
           "300",
           "65",
           21.7,
           "-",
           "-",
           "-",
           "-",
           "GRC",
           "21.7%"
          ],
          [
           "105",
           "Cambodia",
           "7.2018",
           "125",
           "27",
           21.6,
           "2.2018",
           "62",
           "10",
           "16.1",
           "KHM",
           "21.6%"
          ],
          [
           "“",
           "Fiji",
           "11.2018",
           "51",
           "11",
           21.6,
           "-",
           "-",
           "-",
           "-",
           "FJI",
           "21.6%"
          ],
          [
           "“",
           "Kenya",
           "8.2017",
           "347",
           "75",
           21.6,
           "8.2017",
           "66",
           "21",
           "31.8",
           "KEN",
           "21.6%"
          ],
          [
           "108",
           "Honduras",
           "11.2017",
           "128",
           "27",
           21.1,
           "-",
           "-",
           "-",
           "-",
           "HND",
           "21.1%"
          ],
          [
           "109",
           "Indonesia",
           "4.2019",
           "575",
           "121",
           21,
           "-",
           "-",
           "-",
           "-",
           "IDN",
           "21.0%"
          ],
          [
           "110",
           "Bangladesh",
           "12.2018",
           "350",
           "73",
           20.9,
           "-",
           "-",
           "-",
           "-",
           "BGD",
           "20.9%"
          ],
          [
           "111",
           "Ukraine",
           "7.2019",
           "423",
           "88",
           20.8,
           "-",
           "-",
           "-",
           "-",
           "UKR",
           "20.8%"
          ],
          [
           "112",
           "Morocco",
           "10.2016",
           "395",
           "81",
           20.5,
           "10.2015",
           "120",
           "14",
           "11.7",
           "MAR",
           "20.5%"
          ],
          [
           "113",
           "Mauritania",
           "9.2018",
           "153",
           "31",
           20.3,
           "-",
           "-",
           "-",
           "-",
           "MRT",
           "20.3%"
          ],
          [
           "114",
           "Pakistan",
           "7.2018",
           "342",
           "69",
           20.2,
           "3.2021",
           "100",
           "19",
           "19",
           "PAK",
           "20.2%"
          ],
          [
           "115",
           "Barbados",
           "5.2018",
           "30",
           "6",
           20,
           "6.2018",
           "21",
           "9",
           "42.9",
           "BRB",
           "20.0%"
          ],
          [
           "“",
           "Mauritius",
           "11.2019",
           "70",
           "14",
           20,
           "-",
           "-",
           "-",
           "-",
           "MUS",
           "20.0%"
          ],
          [
           "117",
           "Saudi Arabia",
           "10.202",
           "151",
           "30",
           19.9,
           "-",
           "-",
           "-",
           "-",
           "SAU",
           "19.9%"
          ],
          [
           "118",
           "Guatemala",
           "6.2019",
           "160",
           "31",
           19.4,
           "-",
           "-",
           "-",
           "-",
           "GTM",
           "19.4%"
          ],
          [
           "119",
           "Georgia",
           "10.202",
           "150",
           "29",
           19.3,
           "-",
           "-",
           "-",
           "-",
           "GEO",
           "19.3%"
          ],
          [
           "120",
           "Republic of Korea",
           "4.202",
           "300",
           "57",
           19,
           "-",
           "-",
           "-",
           "-",
           "KOR",
           "19.0%"
          ],
          [
           "121",
           "Colombia",
           "3.2018",
           "170",
           "32",
           18.8,
           "3.2018",
           "105",
           "22",
           "21",
           "COL",
           "18.8%"
          ],
          [
           "122",
           "Togo",
           "12.2018",
           "91",
           "17",
           18.7,
           "-",
           "-",
           "-",
           "-",
           "TGO",
           "18.7%"
          ],
          [
           "123",
           "Romania",
           "12.202",
           "329",
           "61",
           18.5,
           "12.202",
           "136",
           "25",
           "18.4",
           "ROU",
           "18.5%"
          ],
          [
           "124",
           "Azerbaijan",
           "2.202",
           "121",
           "22",
           18.2,
           "-",
           "-",
           "-",
           "-",
           "AZE",
           "18.2%"
          ],
          [
           "“",
           "Saint Vincent and the Grenadines",
           "11.202",
           "22",
           "4",
           18.2,
           "-",
           "-",
           "-",
           "-",
           "VCT",
           "18.2%"
          ],
          [
           "126",
           "Madagascar",
           "5.2019",
           "151",
           "27",
           17.9,
           "12.202",
           "18",
           "2",
           "11.1",
           "MDG",
           "17.9%"
          ],
          [
           "127",
           "Democratic People's Republic of Korea",
           "3.2019",
           "687",
           "121",
           17.6,
           "-",
           "-",
           "-",
           "-",
           "PRK",
           "17.6%"
          ],
          [
           "128",
           "Mongolia",
           "6.202",
           "75",
           "13",
           17.3,
           "-",
           "-",
           "-",
           "-",
           "MNG",
           "17.3%"
          ],
          [
           "“",
           "Turkey",
           "6.2018",
           "600",
           "104",
           17.3,
           "-",
           "-",
           "-",
           "-",
           "TUR",
           "17.3%"
          ],
          [
           "130",
           "Kyrgyzstan",
           "10.202",
           "117",
           "20",
           17.1,
           "-",
           "-",
           "-",
           "-",
           "KGZ",
           "17.1%"
          ],
          [
           "131",
           "Bhutan",
           "10.2018",
           "47",
           "8",
           17,
           "4.2018",
           "25",
           "4",
           "16",
           "BTN",
           "17.0%"
          ],
          [
           "132",
           "Comoros",
           "1.202",
           "24",
           "4",
           16.7,
           "-",
           "-",
           "-",
           "-",
           "COM",
           "16.7%"
          ],
          [
           "“",
           "Guinea",
           "3.202",
           "114",
           "19",
           16.7,
           "-",
           "-",
           "-",
           "-",
           "GIN",
           "16.7%"
          ],
          [
           "134",
           "Paraguay",
           "4.2018",
           "80",
           "13",
           16.3,
           "4.2018",
           "45",
           "8",
           "17.8",
           "PRY",
           "16.3%"
          ],
          [
           "135",
           "Gabon",
           "10.2018",
           "142",
           "23",
           16.2,
           "1.2021",
           "67",
           "16",
           "23.9",
           "GAB",
           "16.2%"
          ],
          [
           "136",
           "Libya",
           "6.2014",
           "188",
           "30",
           16,
           "-",
           "-",
           "-",
           "-",
           "LBY",
           "16.0%"
          ],
          [
           "137",
           "Russian Federation",
           "9.2016",
           "450",
           "71",
           15.8,
           "-",
           "170",
           "29",
           "17.1",
           "RUS",
           "15.8%"
          ],
          [
           "“",
           "Thailand",
           "3.2019",
           "489",
           "77",
           15.8,
           "5.2019",
           "250",
           "26",
           "10.4",
           "THA",
           "15.8%"
          ],
          [
           "139",
           "Chad",
           "2.2011",
           "156",
           "24",
           15.4,
           "-",
           "-",
           "-",
           "-",
           "TCD",
           "15.4%"
          ],
          [
           "140",
           "Myanmar",
           "11.202",
           "425",
           "65",
           15.3,
           "11.202",
           "216",
           "31",
           "14.4",
           "MMR",
           "15.3%"
          ],
          [
           "141",
           "Brazil",
           "10.2018",
           "513",
           "78",
           15.2,
           "10.2018",
           "81",
           "10",
           "12.4",
           "BRA",
           "15.2%"
          ],
          [
           "142",
           "Bahrain",
           "11.2018",
           "40",
           "6",
           15,
           "12.2018",
           "40",
           "9",
           "22.5",
           "BHR",
           "15.0%"
          ],
          [
           "143",
           "Malaysia",
           "5.2018",
           "222",
           "33",
           14.9,
           "-",
           "66",
           "9",
           "13.6",
           "MYS",
           "14.9%"
          ],
          [
           "144",
           "Ghana",
           "12.202",
           "275",
           "40",
           14.6,
           "-",
           "-",
           "-",
           "-",
           "GHA",
           "14.6%"
          ],
          [
           "145",
           "India",
           "4.2019",
           "540",
           "78",
           14.4,
           "6.202",
           "241",
           "27",
           "11.2",
           "IND",
           "14.4%"
          ],
          [
           "146",
           "Cyprus",
           "5.2021",
           "56",
           "8",
           14.3,
           "-",
           "-",
           "-",
           "-",
           "CYP",
           "14.3%"
          ],
          [
           "“",
           "Côte d'Ivoire",
           "3.2021",
           "252",
           "36",
           14.3,
           "3.2018",
           "99",
           "19",
           "19.2",
           "CIV",
           "14.3%"
          ],
          [
           "148",
           "Guinea-Bissau",
           "3.2019",
           "102",
           "14",
           13.7,
           "-",
           "-",
           "-",
           "-",
           "GNB",
           "13.7%"
          ],
          [
           "149",
           "Malta",
           "6.2017",
           "67",
           "9",
           13.4,
           "-",
           "-",
           "-",
           "-",
           "MLT",
           "13.4%"
          ],
          [
           "150",
           "Zambia",
           "8.2021",
           "155",
           "20",
           12.9,
           "-",
           "-",
           "-",
           "-",
           "ZMB",
           "12.9%"
          ],
          [
           "151",
           "Bahamas",
           "5.2017",
           "39",
           "5",
           12.8,
           "5.2017",
           "16",
           "7",
           "43.8",
           "BHS",
           "12.8%"
          ],
          [
           "“",
           "Central African Republic",
           "12.202",
           "133",
           "17",
           12.8,
           "-",
           "-",
           "-",
           "-",
           "CAF",
           "12.8%"
          ],
          [
           "“",
           "Democratic Republic of the Congo",
           "12.2018",
           "500",
           "64",
           12.8,
           "3.2019",
           "109",
           "23",
           "21.1",
           "COD",
           "12.8%"
          ],
          [
           "154",
           "Belize",
           "11.202",
           "32",
           "4",
           12.5,
           "12.202",
           "14",
           "5",
           "35.7",
           "BLZ",
           "12.5%"
          ],
          [
           "155",
           "Sierra Leone",
           "3.2018",
           "146",
           "18",
           12.3,
           "-",
           "-",
           "-",
           "-",
           "SLE",
           "12.3%"
          ],
          [
           "156",
           "Hungary",
           "4.2018",
           "199",
           "24",
           12.1,
           "-",
           "-",
           "-",
           "-",
           "HUN",
           "12.1%"
          ],
          [
           "157",
           "Jordan",
           "11.202",
           "130",
           "15",
           11.5,
           "9.202",
           "65",
           "8",
           "12.3",
           "JOR",
           "11.5%"
          ],
          [
           "158",
           "Congo",
           "7.2017",
           "151",
           "17",
           11.3,
           "8.2017",
           "69",
           "13",
           "18.8",
           "COG",
           "11.3%"
          ],
          [
           "159",
           "Syrian Arab Republic",
           "7.202",
           "250",
           "28",
           11.2,
           "-",
           "-",
           "-",
           "-",
           "SYR",
           "11.2%"
          ],
          [
           "160",
           "Antigua and Barbuda",
           "3.2018",
           "18",
           "2",
           11.1,
           "3.2018",
           "17",
           "9",
           "52.9",
           "ATG",
           "11.1%"
          ],
          [
           "“",
           "Saint Lucia",
           "7.2021",
           "18",
           "2",
           11.1,
           "8.2021",
           "11",
           "5",
           "45.5",
           "LCA",
           "11.1%"
          ],
          [
           "162",
           "Liberia",
           "10.2017",
           "73",
           "8",
           11,
           "12.202",
           "30",
           "2",
           "6.7",
           "LBR",
           "11.0%"
          ],
          [
           "163",
           "Botswana",
           "10.2019",
           "65",
           "7",
           10.8,
           "-",
           "-",
           "-",
           "-",
           "BWA",
           "10.8%"
          ],
          [
           "164",
           "Nauru",
           "8.2019",
           "19",
           "2",
           10.5,
           "-",
           "-",
           "-",
           "-",
           "NRU",
           "10.5%"
          ],
          [
           "165",
           "Japan",
           "10.2017",
           "464",
           "46",
           9.9,
           "7.2019",
           "244",
           "56",
           "23",
           "JPN",
           "9.9%"
          ],
          [
           "166",
           "Qatar",
           "6.2016",
           "41",
           "4",
           9.8,
           "-",
           "-",
           "-",
           "-",
           "QAT",
           "9.8%"
          ],
          [
           "167",
           "Eswatini",
           "9.2018",
           "73",
           "7",
           9.6,
           "10.2018",
           "30",
           "12",
           "40",
           "SWZ",
           "9.6%"
          ],
          [
           "168",
           "Brunei Darussalam",
           "1.2017",
           "33",
           "3",
           9.1,
           "-",
           "-",
           "-",
           "-",
           "BRN",
           "9.1%"
          ],
          [
           "“",
           "Samoa",
           "4.2021",
           "44",
           "4",
           9.1,
           "-",
           "-",
           "-",
           "-",
           "WSM",
           "9.1%"
          ],
          [
           "170",
           "Gambia (The)",
           "4.2017",
           "58",
           "5",
           8.6,
           "-",
           "-",
           "-",
           "-",
           "GBM",
           "8.6%"
          ],
          [
           "171",
           "Benin",
           "4.2019",
           "83",
           "7",
           8.4,
           "-",
           "-",
           "-",
           "-",
           "BEN",
           "8.4%"
          ],
          [
           "172",
           "Algeria",
           "6.2021",
           "407",
           "33",
           8.1,
           "12.2018",
           "141",
           "8",
           "5.7",
           "DZA",
           "8.1%"
          ],
          [
           "173",
           "Solomon Islands",
           "4.2019",
           "50",
           "4",
           8,
           "-",
           "-",
           "-",
           "-",
           "SLB",
           "8.0%"
          ],
          [
           "174",
           "Tonga",
           "11.2017",
           "27",
           "2",
           7.4,
           "-",
           "-",
           "-",
           "-",
           "TON",
           "7.4%"
          ],
          [
           "175",
           "Kiribati",
           "4.202",
           "45",
           "3",
           6.7,
           "-",
           "-",
           "-",
           "-",
           "KIR",
           "6.7%"
          ],
          [
           "176",
           "Burkina Faso",
           "11.202",
           "127",
           "8",
           6.3,
           "-",
           "-",
           "-",
           "-",
           "BFA",
           "6.3%"
          ],
          [
           "“",
           "Palau",
           "11.202",
           "16",
           "1",
           6.3,
           "11.202",
           "13",
           "1",
           "7.7",
           "PLW",
           "6.3%"
          ],
          [
           "“",
           "Tuvalu",
           "9.2019",
           "16",
           "1",
           6.3,
           "-",
           "-",
           "-",
           "-",
           "TUV",
           "6.3%"
          ],
          [
           "179",
           "Marshall Islands",
           "11.2019",
           "33",
           "2",
           6.1,
           "-",
           "-",
           "-",
           "-",
           "MHL",
           "6.1%"
          ],
          [
           "180",
           "Iran (Islamic Republic of)",
           "2.202",
           "286",
           "16",
           5.6,
           "-",
           "-",
           "-",
           "-",
           "IRN",
           "5.6%"
          ],
          [
           "181",
           "Sri Lanka",
           "8.202",
           "223",
           "12",
           5.4,
           "-",
           "-",
           "-",
           "-",
           "LKA",
           "5.4%"
          ],
          [
           "182",
           "Lebanon",
           "5.2018",
           "128",
           "6",
           4.7,
           "-",
           "-",
           "-",
           "-",
           "LBN",
           "4.7%"
          ],
          [
           "183",
           "Maldives",
           "4.2019",
           "87",
           "4",
           4.6,
           "-",
           "-",
           "-",
           "-",
           "MDV",
           "4.6%"
          ],
          [
           "184",
           "Nigeria",
           "2.2019",
           "360",
           "13",
           3.6,
           "2.2019",
           "109",
           "8",
           "7.3",
           "NGA",
           "3.6%"
          ],
          [
           "185",
           "Oman",
           "10.2019",
           "86",
           "2",
           2.3,
           "11.2019",
           "86",
           "15",
           "17.4",
           "OMN",
           "2.3%"
          ],
          [
           "186",
           "Kuwait",
           "12.202",
           "65",
           "1",
           1.5,
           "-",
           "-",
           "-",
           "-",
           "KWT",
           "1.5%"
          ],
          [
           "187",
           "Micronesia (Federated States of)",
           "3.2021",
           "14",
           "0",
           null,
           "-",
           "-",
           "-",
           "-",
           "FSM",
           "nan%"
          ]
         ],
         "geo": "geo",
         "hovertemplate": "<b>%{hovertext}</b><br><br>Perc =%{customdata[11]}<extra></extra>",
         "hovertext": [
          "Rwanda",
          "Cuba",
          "Nicaragua",
          "Mexico",
          "United Arab Emirates",
          "New Zealand",
          "Sweden",
          "Grenada",
          "South Africa",
          "Andorra",
          "Bolivia (Plurinational State of)",
          "Finland",
          "Costa Rica",
          "Norway",
          "Namibia",
          "Spain",
          "Senegal",
          "Belgium",
          "Ethiopia",
          "Argentina",
          "Mozambique",
          "Switzerland",
          "Austria",
          "Belarus",
          "North Macedonia",
          "Peru",
          "Portugal",
          "Denmark",
          "Iceland",
          "Republic of Moldova",
          "France",
          "Ecuador",
          "Netherlands",
          "Serbia",
          "Cabo Verde",
          "Timor-Leste",
          "Burundi",
          "United Republic of Tanzania",
          "Guyana",
          "Italy",
          "Luxembourg",
          "Dominica",
          "United Kingdom",
          "Cameroon",
          "South Sudan",
          "Albania",
          "Armenia",
          "Monaco",
          "San Marino",
          "Uganda",
          "Nepal",
          "Uzbekistan",
          "Zimbabwe",
          "Germany",
          "Suriname",
          "Australia",
          "Croatia",
          "Viet Nam",
          "Singapore",
          "Angola",
          "Canada",
          "Latvia",
          "Jamaica",
          "Israel",
          "Poland",
          "Liechtenstein",
          "Philippines",
          "Dominican Republic",
          "Egypt",
          "Lithuania",
          "United States of America",
          "El Salvador",
          "Mali",
          "Kazakhstan",
          "Afghanistan",
          "Slovenia",
          "Iraq",
          "Tunisia",
          "Bosnia and Herzegovina",
          "Djibouti",
          "Trinidad and Tobago",
          "Niger",
          "Estonia",
          "Saint Kitts and Nevis",
          "Turkmenistan",
          "China",
          "Montenegro",
          "Bulgaria",
          "Somalia",
          "Uruguay",
          "Tajikistan",
          "Sao Tome and Principe",
          "Lesotho",
          "Czech Republic",
          "Equatorial Guinea",
          "Malawi",
          "Seychelles",
          "Slovakia",
          "Chile",
          "Ireland",
          "Panama",
          "Venezuela (Bolivarian Republic of)",
          "Lao People's Democratic Republic",
          "Greece",
          "Cambodia",
          "Fiji",
          "Kenya",
          "Honduras",
          "Indonesia",
          "Bangladesh",
          "Ukraine",
          "Morocco",
          "Mauritania",
          "Pakistan",
          "Barbados",
          "Mauritius",
          "Saudi Arabia",
          "Guatemala",
          "Georgia",
          "Republic of Korea",
          "Colombia",
          "Togo",
          "Romania",
          "Azerbaijan",
          "Saint Vincent and the Grenadines",
          "Madagascar",
          "Democratic People's Republic of Korea",
          "Mongolia",
          "Turkey",
          "Kyrgyzstan",
          "Bhutan",
          "Comoros",
          "Guinea",
          "Paraguay",
          "Gabon",
          "Libya",
          "Russian Federation",
          "Thailand",
          "Chad",
          "Myanmar",
          "Brazil",
          "Bahrain",
          "Malaysia",
          "Ghana",
          "India",
          "Cyprus",
          "Côte d'Ivoire",
          "Guinea-Bissau",
          "Malta",
          "Zambia",
          "Bahamas",
          "Central African Republic",
          "Democratic Republic of the Congo",
          "Belize",
          "Sierra Leone",
          "Hungary",
          "Jordan",
          "Congo",
          "Syrian Arab Republic",
          "Antigua and Barbuda",
          "Saint Lucia",
          "Liberia",
          "Botswana",
          "Nauru",
          "Japan",
          "Qatar",
          "Eswatini",
          "Brunei Darussalam",
          "Samoa",
          "Gambia (The)",
          "Benin",
          "Algeria",
          "Solomon Islands",
          "Tonga",
          "Kiribati",
          "Burkina Faso",
          "Palau",
          "Tuvalu",
          "Marshall Islands",
          "Iran (Islamic Republic of)",
          "Sri Lanka",
          "Lebanon",
          "Maldives",
          "Nigeria",
          "Oman",
          "Kuwait",
          "Micronesia (Federated States of)"
         ],
         "locations": [
          "RWA",
          "CUB",
          "NIC",
          "MEX",
          "ARE",
          "NZL",
          "SWE",
          "GRD",
          "ZAF",
          "AND",
          "BOL",
          "FIN",
          "CRI",
          "NOR",
          "NAM",
          "ESP",
          "SEN",
          "BEL",
          "ETH",
          "ARG",
          "MOZ",
          "CHE",
          "AUT",
          "BLR",
          "MKD",
          "PER",
          "PRT",
          "DNK",
          "ISL",
          "MDA",
          "FRA",
          "ECU",
          "NLD",
          "SRB",
          "CPV",
          "TLS",
          "BDI",
          "TZA",
          "GUY",
          "ITA",
          "LUX",
          "DMA",
          "GBR",
          "CMR",
          "SSD",
          "ALB",
          "ARM",
          "MCO",
          "SMR",
          "UGA",
          "NPL",
          "UZB",
          "ZWE",
          "DEU",
          "SUR",
          "AUS",
          "HRV",
          "VNM",
          "SGP",
          "AGO",
          "CAN",
          "LVA",
          "JAM",
          "ISR",
          "POL",
          "LIE",
          "PHL",
          "DOM",
          "EGY",
          "LTU",
          "USA",
          "SLV",
          "MLI",
          "KAZ",
          "AFG",
          "SVN",
          "IRQ",
          "TUN",
          "BIH",
          "DJI",
          "TTO",
          "NER",
          "EST",
          "KNA",
          "TKM",
          "CHN",
          "MNE",
          "BGR",
          "SOM",
          "URY",
          "TJK",
          "STP",
          "LSO",
          "CZE",
          "GNQ",
          "MWI",
          "SYC",
          "SVK",
          "CHL",
          "IRL",
          "PAN",
          "VEN",
          "LAO",
          "GRC",
          "KHM",
          "FJI",
          "KEN",
          "HND",
          "IDN",
          "BGD",
          "UKR",
          "MAR",
          "MRT",
          "PAK",
          "BRB",
          "MUS",
          "SAU",
          "GTM",
          "GEO",
          "KOR",
          "COL",
          "TGO",
          "ROU",
          "AZE",
          "VCT",
          "MDG",
          "PRK",
          "MNG",
          "TUR",
          "KGZ",
          "BTN",
          "COM",
          "GIN",
          "PRY",
          "GAB",
          "LBY",
          "RUS",
          "THA",
          "TCD",
          "MMR",
          "BRA",
          "BHR",
          "MYS",
          "GHA",
          "IND",
          "CYP",
          "CIV",
          "GNB",
          "MLT",
          "ZMB",
          "BHS",
          "CAF",
          "COD",
          "BLZ",
          "SLE",
          "HUN",
          "JOR",
          "COG",
          "SYR",
          "ATG",
          "LCA",
          "LBR",
          "BWA",
          "NRU",
          "JPN",
          "QAT",
          "SWZ",
          "BRN",
          "WSM",
          "GBM",
          "BEN",
          "DZA",
          "SLB",
          "TON",
          "KIR",
          "BFA",
          "PLW",
          "TUV",
          "MHL",
          "IRN",
          "LKA",
          "LBN",
          "MDV",
          "NGA",
          "OMN",
          "KWT",
          "FSM"
         ],
         "name": "",
         "type": "choropleth",
         "z": [
          61.3,
          53.4,
          50.6,
          50,
          50,
          49.2,
          47,
          46.7,
          46.5,
          46.4,
          46.2,
          46,
          45.6,
          44.4,
          44.2,
          44,
          43,
          42.7,
          42.6,
          42.4,
          42.4,
          42,
          40.4,
          40,
          40,
          40,
          40,
          39.7,
          39.7,
          39.6,
          39.5,
          39.4,
          39.3,
          39.2,
          38.9,
          38.5,
          38.2,
          36.9,
          35.7,
          35.7,
          35,
          34.4,
          34.2,
          33.9,
          33.7,
          33.6,
          33.6,
          33.3,
          33.3,
          32.9,
          32.7,
          32.7,
          31.9,
          31.5,
          31.4,
          31.1,
          31.1,
          30.3,
          29.8,
          29.6,
          29.6,
          29,
          28.6,
          28.3,
          28.3,
          28,
          28,
          27.9,
          27.7,
          27.7,
          27.6,
          27.4,
          27.3,
          27.1,
          27,
          26.7,
          26.4,
          26.3,
          26.2,
          26.2,
          26.2,
          25.9,
          25.7,
          25,
          25,
          24.9,
          24.7,
          24.6,
          24.4,
          24.2,
          23.8,
          23.6,
          23.3,
          23,
          23,
          22.9,
          22.9,
          22.7,
          22.6,
          22.5,
          22.5,
          22.2,
          22,
          21.7,
          21.6,
          21.6,
          21.6,
          21.1,
          21,
          20.9,
          20.8,
          20.5,
          20.3,
          20.2,
          20,
          20,
          19.9,
          19.4,
          19.3,
          19,
          18.8,
          18.7,
          18.5,
          18.2,
          18.2,
          17.9,
          17.6,
          17.3,
          17.3,
          17.1,
          17,
          16.7,
          16.7,
          16.3,
          16.2,
          16,
          15.8,
          15.8,
          15.4,
          15.3,
          15.2,
          15,
          14.9,
          14.6,
          14.4,
          14.3,
          14.3,
          13.7,
          13.4,
          12.9,
          12.8,
          12.8,
          12.8,
          12.5,
          12.3,
          12.1,
          11.5,
          11.3,
          11.2,
          11.1,
          11.1,
          11,
          10.8,
          10.5,
          9.9,
          9.8,
          9.6,
          9.1,
          9.1,
          8.6,
          8.4,
          8.1,
          8,
          7.4,
          6.7,
          6.3,
          6.3,
          6.3,
          6.1,
          5.6,
          5.4,
          4.7,
          4.6,
          3.6,
          2.3,
          1.5,
          null
         ]
        }
       ],
       "layout": {
        "autosize": false,
        "coloraxis": {
         "cmax": 55,
         "cmin": 10,
         "colorbar": {
          "dtick": 10,
          "len": 600,
          "lenmode": "pixels",
          "thickness": 30,
          "thicknessmode": "pixels",
          "ticks": "outside",
          "ticksuffix": " %",
          "title": {
           "text": "%W"
          },
          "x": 1,
          "y": 1,
          "yanchor": "top"
         },
         "colorscale": [
          [
           0,
           "#440154"
          ],
          [
           0.1111111111111111,
           "#482878"
          ],
          [
           0.2222222222222222,
           "#3e4989"
          ],
          [
           0.3333333333333333,
           "#31688e"
          ],
          [
           0.4444444444444444,
           "#26828e"
          ],
          [
           0.5555555555555556,
           "#1f9e89"
          ],
          [
           0.6666666666666666,
           "#35b779"
          ],
          [
           0.7777777777777778,
           "#6ece58"
          ],
          [
           0.8888888888888888,
           "#b5de2b"
          ],
          [
           1,
           "#fde725"
          ]
         ]
        },
        "geo": {
         "bgcolor": "rgba(229,209,197,180)",
         "center": {},
         "domain": {
          "x": [
           0,
           1
          ],
          "y": [
           0,
           1
          ]
         }
        },
        "height": 700,
        "hoverlabel": {
         "bgcolor": "#e6ffff",
         "bordercolor": "grey",
         "font": {
          "family": "Courier New",
          "size": 12
         }
        },
        "legend": {
         "tracegroupgap": 0
        },
        "margin": {
         "b": 40,
         "l": 40,
         "r": 40,
         "t": 40
        },
        "template": {
         "data": {
          "bar": [
           {
            "error_x": {
             "color": "#2a3f5f"
            },
            "error_y": {
             "color": "#2a3f5f"
            },
            "marker": {
             "line": {
              "color": "#E5ECF6",
              "width": 0.5
             },
             "pattern": {
              "fillmode": "overlay",
              "size": 10,
              "solidity": 0.2
             }
            },
            "type": "bar"
           }
          ],
          "barpolar": [
           {
            "marker": {
             "line": {
              "color": "#E5ECF6",
              "width": 0.5
             },
             "pattern": {
              "fillmode": "overlay",
              "size": 10,
              "solidity": 0.2
             }
            },
            "type": "barpolar"
           }
          ],
          "carpet": [
           {
            "aaxis": {
             "endlinecolor": "#2a3f5f",
             "gridcolor": "white",
             "linecolor": "white",
             "minorgridcolor": "white",
             "startlinecolor": "#2a3f5f"
            },
            "baxis": {
             "endlinecolor": "#2a3f5f",
             "gridcolor": "white",
             "linecolor": "white",
             "minorgridcolor": "white",
             "startlinecolor": "#2a3f5f"
            },
            "type": "carpet"
           }
          ],
          "choropleth": [
           {
            "colorbar": {
             "outlinewidth": 0,
             "ticks": ""
            },
            "type": "choropleth"
           }
          ],
          "contour": [
           {
            "colorbar": {
             "outlinewidth": 0,
             "ticks": ""
            },
            "colorscale": [
             [
              0,
              "#0d0887"
             ],
             [
              0.1111111111111111,
              "#46039f"
             ],
             [
              0.2222222222222222,
              "#7201a8"
             ],
             [
              0.3333333333333333,
              "#9c179e"
             ],
             [
              0.4444444444444444,
              "#bd3786"
             ],
             [
              0.5555555555555556,
              "#d8576b"
             ],
             [
              0.6666666666666666,
              "#ed7953"
             ],
             [
              0.7777777777777778,
              "#fb9f3a"
             ],
             [
              0.8888888888888888,
              "#fdca26"
             ],
             [
              1,
              "#f0f921"
             ]
            ],
            "type": "contour"
           }
          ],
          "contourcarpet": [
           {
            "colorbar": {
             "outlinewidth": 0,
             "ticks": ""
            },
            "type": "contourcarpet"
           }
          ],
          "heatmap": [
           {
            "colorbar": {
             "outlinewidth": 0,
             "ticks": ""
            },
            "colorscale": [
             [
              0,
              "#0d0887"
             ],
             [
              0.1111111111111111,
              "#46039f"
             ],
             [
              0.2222222222222222,
              "#7201a8"
             ],
             [
              0.3333333333333333,
              "#9c179e"
             ],
             [
              0.4444444444444444,
              "#bd3786"
             ],
             [
              0.5555555555555556,
              "#d8576b"
             ],
             [
              0.6666666666666666,
              "#ed7953"
             ],
             [
              0.7777777777777778,
              "#fb9f3a"
             ],
             [
              0.8888888888888888,
              "#fdca26"
             ],
             [
              1,
              "#f0f921"
             ]
            ],
            "type": "heatmap"
           }
          ],
          "heatmapgl": [
           {
            "colorbar": {
             "outlinewidth": 0,
             "ticks": ""
            },
            "colorscale": [
             [
              0,
              "#0d0887"
             ],
             [
              0.1111111111111111,
              "#46039f"
             ],
             [
              0.2222222222222222,
              "#7201a8"
             ],
             [
              0.3333333333333333,
              "#9c179e"
             ],
             [
              0.4444444444444444,
              "#bd3786"
             ],
             [
              0.5555555555555556,
              "#d8576b"
             ],
             [
              0.6666666666666666,
              "#ed7953"
             ],
             [
              0.7777777777777778,
              "#fb9f3a"
             ],
             [
              0.8888888888888888,
              "#fdca26"
             ],
             [
              1,
              "#f0f921"
             ]
            ],
            "type": "heatmapgl"
           }
          ],
          "histogram": [
           {
            "marker": {
             "pattern": {
              "fillmode": "overlay",
              "size": 10,
              "solidity": 0.2
             }
            },
            "type": "histogram"
           }
          ],
          "histogram2d": [
           {
            "colorbar": {
             "outlinewidth": 0,
             "ticks": ""
            },
            "colorscale": [
             [
              0,
              "#0d0887"
             ],
             [
              0.1111111111111111,
              "#46039f"
             ],
             [
              0.2222222222222222,
              "#7201a8"
             ],
             [
              0.3333333333333333,
              "#9c179e"
             ],
             [
              0.4444444444444444,
              "#bd3786"
             ],
             [
              0.5555555555555556,
              "#d8576b"
             ],
             [
              0.6666666666666666,
              "#ed7953"
             ],
             [
              0.7777777777777778,
              "#fb9f3a"
             ],
             [
              0.8888888888888888,
              "#fdca26"
             ],
             [
              1,
              "#f0f921"
             ]
            ],
            "type": "histogram2d"
           }
          ],
          "histogram2dcontour": [
           {
            "colorbar": {
             "outlinewidth": 0,
             "ticks": ""
            },
            "colorscale": [
             [
              0,
              "#0d0887"
             ],
             [
              0.1111111111111111,
              "#46039f"
             ],
             [
              0.2222222222222222,
              "#7201a8"
             ],
             [
              0.3333333333333333,
              "#9c179e"
             ],
             [
              0.4444444444444444,
              "#bd3786"
             ],
             [
              0.5555555555555556,
              "#d8576b"
             ],
             [
              0.6666666666666666,
              "#ed7953"
             ],
             [
              0.7777777777777778,
              "#fb9f3a"
             ],
             [
              0.8888888888888888,
              "#fdca26"
             ],
             [
              1,
              "#f0f921"
             ]
            ],
            "type": "histogram2dcontour"
           }
          ],
          "mesh3d": [
           {
            "colorbar": {
             "outlinewidth": 0,
             "ticks": ""
            },
            "type": "mesh3d"
           }
          ],
          "parcoords": [
           {
            "line": {
             "colorbar": {
              "outlinewidth": 0,
              "ticks": ""
             }
            },
            "type": "parcoords"
           }
          ],
          "pie": [
           {
            "automargin": true,
            "type": "pie"
           }
          ],
          "scatter": [
           {
            "marker": {
             "colorbar": {
              "outlinewidth": 0,
              "ticks": ""
             }
            },
            "type": "scatter"
           }
          ],
          "scatter3d": [
           {
            "line": {
             "colorbar": {
              "outlinewidth": 0,
              "ticks": ""
             }
            },
            "marker": {
             "colorbar": {
              "outlinewidth": 0,
              "ticks": ""
             }
            },
            "type": "scatter3d"
           }
          ],
          "scattercarpet": [
           {
            "marker": {
             "colorbar": {
              "outlinewidth": 0,
              "ticks": ""
             }
            },
            "type": "scattercarpet"
           }
          ],
          "scattergeo": [
           {
            "marker": {
             "colorbar": {
              "outlinewidth": 0,
              "ticks": ""
             }
            },
            "type": "scattergeo"
           }
          ],
          "scattergl": [
           {
            "marker": {
             "colorbar": {
              "outlinewidth": 0,
              "ticks": ""
             }
            },
            "type": "scattergl"
           }
          ],
          "scattermapbox": [
           {
            "marker": {
             "colorbar": {
              "outlinewidth": 0,
              "ticks": ""
             }
            },
            "type": "scattermapbox"
           }
          ],
          "scatterpolar": [
           {
            "marker": {
             "colorbar": {
              "outlinewidth": 0,
              "ticks": ""
             }
            },
            "type": "scatterpolar"
           }
          ],
          "scatterpolargl": [
           {
            "marker": {
             "colorbar": {
              "outlinewidth": 0,
              "ticks": ""
             }
            },
            "type": "scatterpolargl"
           }
          ],
          "scatterternary": [
           {
            "marker": {
             "colorbar": {
              "outlinewidth": 0,
              "ticks": ""
             }
            },
            "type": "scatterternary"
           }
          ],
          "surface": [
           {
            "colorbar": {
             "outlinewidth": 0,
             "ticks": ""
            },
            "colorscale": [
             [
              0,
              "#0d0887"
             ],
             [
              0.1111111111111111,
              "#46039f"
             ],
             [
              0.2222222222222222,
              "#7201a8"
             ],
             [
              0.3333333333333333,
              "#9c179e"
             ],
             [
              0.4444444444444444,
              "#bd3786"
             ],
             [
              0.5555555555555556,
              "#d8576b"
             ],
             [
              0.6666666666666666,
              "#ed7953"
             ],
             [
              0.7777777777777778,
              "#fb9f3a"
             ],
             [
              0.8888888888888888,
              "#fdca26"
             ],
             [
              1,
              "#f0f921"
             ]
            ],
            "type": "surface"
           }
          ],
          "table": [
           {
            "cells": {
             "fill": {
              "color": "#EBF0F8"
             },
             "line": {
              "color": "white"
             }
            },
            "header": {
             "fill": {
              "color": "#C8D4E3"
             },
             "line": {
              "color": "white"
             }
            },
            "type": "table"
           }
          ]
         },
         "layout": {
          "annotationdefaults": {
           "arrowcolor": "#2a3f5f",
           "arrowhead": 0,
           "arrowwidth": 1
          },
          "autotypenumbers": "strict",
          "coloraxis": {
           "colorbar": {
            "outlinewidth": 0,
            "ticks": ""
           }
          },
          "colorscale": {
           "diverging": [
            [
             0,
             "#8e0152"
            ],
            [
             0.1,
             "#c51b7d"
            ],
            [
             0.2,
             "#de77ae"
            ],
            [
             0.3,
             "#f1b6da"
            ],
            [
             0.4,
             "#fde0ef"
            ],
            [
             0.5,
             "#f7f7f7"
            ],
            [
             0.6,
             "#e6f5d0"
            ],
            [
             0.7,
             "#b8e186"
            ],
            [
             0.8,
             "#7fbc41"
            ],
            [
             0.9,
             "#4d9221"
            ],
            [
             1,
             "#276419"
            ]
           ],
           "sequential": [
            [
             0,
             "#0d0887"
            ],
            [
             0.1111111111111111,
             "#46039f"
            ],
            [
             0.2222222222222222,
             "#7201a8"
            ],
            [
             0.3333333333333333,
             "#9c179e"
            ],
            [
             0.4444444444444444,
             "#bd3786"
            ],
            [
             0.5555555555555556,
             "#d8576b"
            ],
            [
             0.6666666666666666,
             "#ed7953"
            ],
            [
             0.7777777777777778,
             "#fb9f3a"
            ],
            [
             0.8888888888888888,
             "#fdca26"
            ],
            [
             1,
             "#f0f921"
            ]
           ],
           "sequentialminus": [
            [
             0,
             "#0d0887"
            ],
            [
             0.1111111111111111,
             "#46039f"
            ],
            [
             0.2222222222222222,
             "#7201a8"
            ],
            [
             0.3333333333333333,
             "#9c179e"
            ],
            [
             0.4444444444444444,
             "#bd3786"
            ],
            [
             0.5555555555555556,
             "#d8576b"
            ],
            [
             0.6666666666666666,
             "#ed7953"
            ],
            [
             0.7777777777777778,
             "#fb9f3a"
            ],
            [
             0.8888888888888888,
             "#fdca26"
            ],
            [
             1,
             "#f0f921"
            ]
           ]
          },
          "colorway": [
           "#636efa",
           "#EF553B",
           "#00cc96",
           "#ab63fa",
           "#FFA15A",
           "#19d3f3",
           "#FF6692",
           "#B6E880",
           "#FF97FF",
           "#FECB52"
          ],
          "font": {
           "color": "#2a3f5f"
          },
          "geo": {
           "bgcolor": "white",
           "lakecolor": "white",
           "landcolor": "#E5ECF6",
           "showlakes": true,
           "showland": true,
           "subunitcolor": "white"
          },
          "hoverlabel": {
           "align": "left"
          },
          "hovermode": "closest",
          "mapbox": {
           "style": "light"
          },
          "paper_bgcolor": "white",
          "plot_bgcolor": "#E5ECF6",
          "polar": {
           "angularaxis": {
            "gridcolor": "white",
            "linecolor": "white",
            "ticks": ""
           },
           "bgcolor": "#E5ECF6",
           "radialaxis": {
            "gridcolor": "white",
            "linecolor": "white",
            "ticks": ""
           }
          },
          "scene": {
           "xaxis": {
            "backgroundcolor": "#E5ECF6",
            "gridcolor": "white",
            "gridwidth": 2,
            "linecolor": "white",
            "showbackground": true,
            "ticks": "",
            "zerolinecolor": "white"
           },
           "yaxis": {
            "backgroundcolor": "#E5ECF6",
            "gridcolor": "white",
            "gridwidth": 2,
            "linecolor": "white",
            "showbackground": true,
            "ticks": "",
            "zerolinecolor": "white"
           },
           "zaxis": {
            "backgroundcolor": "#E5ECF6",
            "gridcolor": "white",
            "gridwidth": 2,
            "linecolor": "white",
            "showbackground": true,
            "ticks": "",
            "zerolinecolor": "white"
           }
          },
          "shapedefaults": {
           "line": {
            "color": "#2a3f5f"
           }
          },
          "ternary": {
           "aaxis": {
            "gridcolor": "white",
            "linecolor": "white",
            "ticks": ""
           },
           "baxis": {
            "gridcolor": "white",
            "linecolor": "white",
            "ticks": ""
           },
           "bgcolor": "#E5ECF6",
           "caxis": {
            "gridcolor": "white",
            "linecolor": "white",
            "ticks": ""
           }
          },
          "title": {
           "x": 0.05
          },
          "xaxis": {
           "automargin": true,
           "gridcolor": "white",
           "linecolor": "white",
           "ticks": "",
           "title": {
            "standoff": 15
           },
           "zerolinecolor": "white",
           "zerolinewidth": 2
          },
          "yaxis": {
           "automargin": true,
           "gridcolor": "white",
           "linecolor": "white",
           "ticks": "",
           "title": {
            "standoff": 15
           },
           "zerolinecolor": "white",
           "zerolinewidth": 2
          }
         }
        },
        "title": {
         "text": "Women's Representation in Parliament as of 2021 (%)"
        },
        "width": 1300
       }
      }
     },
     "metadata": {},
     "output_type": "display_data"
    }
   ],
   "source": [
    "hover_data = {key:False for key in df21.columns}\n",
    "hover_data['%W_str']=True\n",
    "fig = px.choropleth(df21, locations=\"iso3\",color=\"%W\", \n",
    "                    hover_name=\"Country\",\n",
    "                    hover_data= hover_data,\n",
    "                    labels={'%W_str':'Perc '},\n",
    "                    range_color=[10,55],  \n",
    "                    color_continuous_scale='Viridis',\n",
    "                    title=\"Women's Representation in Parliament as of 2021 (%)\"                           )\n",
    "\n",
    "fig.update_layout(margin={\"r\":40,\"t\":40,\"l\":40,\"b\":40},  autosize=False, width=1300, height=700)\n",
    "fig.update_layout(geo=dict(bgcolor= 'rgba(229,209,197,180)'))\n",
    "fig.update_layout(\n",
    "       coloraxis_colorbar=dict(\n",
    "              thicknessmode=\"pixels\", thickness=30,\n",
    "              lenmode='pixels',len=600,\n",
    "              yanchor='top',y=1, x=1,\n",
    "              ticks=\"outside\", ticksuffix=\" %\",dtick=10\n",
    "              ),\n",
    "       hoverlabel=dict(\n",
    "              bgcolor=\"#e6ffff\",\n",
    "              bordercolor='grey',\n",
    "              font_size=12,\n",
    "              font_family=\"Courier New\",\n",
    "              \n",
    "\n",
    "              )\n",
    "       )\n",
    "\n",
    "fig.show()"
   ]
  },
  {
   "cell_type": "code",
   "execution_count": null,
   "metadata": {},
   "outputs": [],
   "source": [
    "# If you need to save this file as a standalone html file:\n",
    "#fig.write_html(\"./choropleth-map-plotly-python.html\")"
   ]
  }
 ],
 "metadata": {
  "kernelspec": {
   "display_name": "Python 3.9.5 64-bit ('myenv')",
   "name": "python395jvsc74a57bd09455c7fed7334467af5b693ad675069debbe136d2231609daac26840925ea04f"
  },
  "language_info": {
   "name": "python",
   "version": ""
  },
  "metadata": {
   "interpreter": {
    "hash": "9455c7fed7334467af5b693ad675069debbe136d2231609daac26840925ea04f"
   }
  },
  "orig_nbformat": 2
 },
 "nbformat": 4,
 "nbformat_minor": 2
}