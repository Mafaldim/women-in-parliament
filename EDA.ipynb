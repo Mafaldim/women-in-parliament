{
 "cells": [
  {
   "cell_type": "markdown",
   "metadata": {},
   "source": []
  },
  {
   "cell_type": "code",
   "execution_count": 1,
   "metadata": {},
   "outputs": [],
   "source": [
    "import pandas as pd\n",
    "import numpy as np\n",
    "import seaborn as sns\n",
    "\n",
    "\n",
    "def select_country(df, country_name):\n",
    "    df_country = df[df['Country'] == country_name]\n",
    "\n",
    "    return df_country\n",
    "\n"
   ]
  },
  {
   "cell_type": "markdown",
   "metadata": {},
   "source": [
    "Read Data"
   ]
  },
  {
   "cell_type": "code",
   "execution_count": 2,
   "metadata": {},
   "outputs": [
    {
     "name": "stdout",
     "output_type": "stream",
     "text": [
      "<class 'pandas.core.frame.DataFrame'>\n",
      "RangeIndex: 3815 entries, 0 to 3814\n",
      "Data columns (total 10 columns):\n",
      " #   Column               Non-Null Count  Dtype \n",
      "---  ------               --------------  ----- \n",
      " 0   country              3815 non-null   object\n",
      " 1   region               3814 non-null   object\n",
      " 2   election_renewal     3815 non-null   object\n",
      " 3   year                 3815 non-null   int64 \n",
      " 4   month                1018 non-null   object\n",
      " 5   chamber_type         3815 non-null   object\n",
      " 6   chamber_total_seats  3815 non-null   object\n",
      " 7   women_total          3814 non-null   object\n",
      " 8   women_perc           3803 non-null   object\n",
      " 9   notes                1330 non-null   object\n",
      "dtypes: int64(1), object(9)\n",
      "memory usage: 298.2+ KB\n"
     ]
    },
    {
     "data": {
      "text/plain": "None"
     },
     "metadata": {},
     "output_type": "display_data"
    }
   ],
   "source": [
    "# read data file with women in parliament historical data\n",
    "data = pd.read_excel('./data/women_in_parliament-historical_database-1945_to_2018.xlsx')\n",
    "\n",
    "# pass data to dataframe named df\n",
    "df = data.copy()\n",
    "\n",
    "# rename columns\n",
    "df.rename(columns={\n",
    "    'Country':'country',\n",
    "    'Region':'region',\n",
    "    'Election / Renewal': 'election_renewal',\n",
    "    'Year':'year',\n",
    "    'Month':'month',\n",
    "    'Chamber Type': 'chamber_type',\n",
    "    'Chamber Total Seats': 'chamber_total_seats',\n",
    "    'Total women': 'women_total',\n",
    "    '% Of Women in Chamber': 'women_perc',\n",
    "    'NOTES':'notes'\n",
    "}, inplace=True)\n",
    "\n",
    "display(df.info())"
   ]
  },
  {
   "cell_type": "code",
   "execution_count": 3,
   "metadata": {},
   "outputs": [
    {
     "name": "stdout",
     "output_type": "stream",
     "text": [
      "?\n",
      "na\n",
      "Not available\n",
      "nan\n",
      "7 5\n",
      "14 16\n",
      "24 22\n",
      "11 10 \n",
      "12 13 10???\n",
      "20 18 21???\n",
      "25 29 19???\n",
      "26.2%\n",
      "Not available\n",
      "?\n",
      "46.7%\n",
      "30.8%\n",
      "12.6%\n",
      "11.4%\n",
      "35.3%\n",
      "35.7%\n",
      "4.7%\n",
      "13.9%\n",
      "49.2%\n",
      "48.2%\n",
      "33.3%\n",
      "37.3%\n",
      "19.2%\n",
      "15.0%\n",
      "17.8%\n",
      "12.3%\n",
      "24.4%\n",
      "33.8%\n",
      "24.8%\n"
     ]
    },
    {
     "name": "stderr",
     "output_type": "stream",
     "text": [
      "/Users/dimitramavridou/Desktop/women-repo/women-in-parliament/myenv/lib/python3.9/site-packages/pandas/core/indexing.py:1732: SettingWithCopyWarning: \n",
      "A value is trying to be set on a copy of a slice from a DataFrame\n",
      "\n",
      "See the caveats in the documentation: https://pandas.pydata.org/pandas-docs/stable/user_guide/indexing.html#returning-a-view-versus-a-copy\n",
      "  self._setitem_single_block(indexer, value, name)\n"
     ]
    }
   ],
   "source": [
    "# transform numerical columns listed as categorical ('women_total', 'women_perc')\n",
    "\n",
    "## replace non-numerical values for 'women_total' attribute\n",
    "temp = df['women_total'].unique()\n",
    "non_numerical_values = [print(item) for i,item in enumerate(temp) if type(item)!= int]\n",
    "to_replace_dct = {\n",
    "    '?': np.nan,\n",
    "    'na':np.nan,\n",
    "    'Not available':np.nan,\n",
    "    'nan':np.nan,\n",
    "    '7 5': 6,\n",
    "    '14 16': 15,\n",
    "    '24 22': 23,\n",
    "    '11 10 ': 10,\n",
    "    '12 13 10???': 12,\n",
    "    '20 18 21???': 20,\n",
    "    '25 29 19???': np.nan\n",
    "}\n",
    "df['women_total'].replace(to_replace=to_replace_dct, inplace=True)\n",
    "\n",
    "## replace non-numerical values for 'women_perc' attribute\n",
    "temp = df['women_perc'].unique()\n",
    "non_numerical_values = [print(item) for i,item in enumerate(temp) if type(item)== str]\n",
    "for i in range(len(df['women_perc'])):\n",
    "    if type(df['women_perc'].iloc[i]) == str and df['women_perc'].iloc[i][-1] == '%':\n",
    "        df['women_perc'].iloc[i] = float( df['women_perc'].iloc[i][:-1])*0.01\n",
    "\n",
    "df['women_perc'].replace(to_replace=to_replace_dct, inplace=True)\n",
    "\n",
    "\n",
    "## transform type to float\n",
    "df['women_total'] = df['women_total'].astype(np.float16)\n",
    "df['women_perc'] = df['women_perc'].astype(np.float16)"
   ]
  },
  {
   "cell_type": "code",
   "execution_count": 23,
   "metadata": {},
   "outputs": [],
   "source": [
    "#df.query(\"country == 'Greece'\")\n"
   ]
  },
  {
   "cell_type": "code",
   "execution_count": 33,
   "metadata": {},
   "outputs": [
    {
     "data": {
      "image/png": "[encoded data removed]",
      "text/plain": "<Figure size 432x288 with 1 Axes>"
     },
     "metadata": {},
     "output_type": "display_data"
    }
   ],
   "source": [
    "#k = 'Albania'\n",
    "#df_country = df.query(\"country == \")\n",
    "\n",
    "def lineplot_by_country(df, country_name):\n",
    "    # define country\n",
    "    df_country = df[df['country']==country_name]\n",
    "\n",
    "    # draw line plot\n",
    "    sns.set_theme()\n",
    "    ax = sns.lineplot(data=df_country, x=\"year\", y=\"women_perc\")\n",
    "    ax.set(title='Women Percentage in Parliament')\n",
    "    ax.set(ylim=(0, 0.8))\n",
    "    ax.set_ylabel('Percentage(%)')\n",
    "    ax.set_xlabel('Year')\n",
    "\n",
    "lineplot_by_country(df,'United Kingdom')"
   ]
  },
  {
   "cell_type": "code",
   "execution_count": 36,
   "metadata": {},
   "outputs": [
    {
     "data": {
      "image/png": "[encoded data removed]",
      "text/plain": "<Figure size 432x288 with 1 Axes>"
     },
     "metadata": {},
     "output_type": "display_data"
    }
   ],
   "source": [
    "lineplot_by_country(df,'Finland')"
   ]
  },
  {
   "cell_type": "code",
   "execution_count": null,
   "metadata": {},
   "outputs": [],
   "source": []
  },
  {
   "cell_type": "code",
   "execution_count": null,
   "metadata": {},
   "outputs": [],
   "source": []
  }
 ],
 "metadata": {
  "kernelspec": {
   "display_name": "Python 3.9.5 64-bit ('myenv': venv)",
   "name": "myenv"
  },
  "language_info": {
   "codemirror_mode": {
    "name": "ipython",
    "version": 3
   },
   "file_extension": ".py",
   "mimetype": "text/x-python",
   "name": "python",
   "nbconvert_exporter": "python",
   "pygments_lexer": "ipython3",
   "version": "3.9.5"
  },
  "orig_nbformat": 2
 },
 "nbformat": 4,
 "nbformat_minor": 2
}