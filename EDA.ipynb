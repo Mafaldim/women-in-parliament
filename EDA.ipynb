{
 "cells": [
  {
   "cell_type": "markdown",
   "metadata": {},
   "source": [
    "# Women in Parliament\n",
    "\n",
    "In the present notebook, women's participation in national parliaments since 1948 is explore using [Plotly graphical library](https://plotly.com/python/). \n",
    "\n",
    "Data was derived from the [Inter Parliamentary Union (IPU)](https://www.ipu.org/)"
   ]
  },
  {
   "cell_type": "code",
   "execution_count": 2,
   "metadata": {},
   "outputs": [],
   "source": [
    "import pandas as pd, numpy as np\n",
    "import plotly.express as px"
   ]
  },
  {
   "cell_type": "code",
   "execution_count": 1,
   "metadata": {},
   "outputs": [],
   "source": [
    "\n",
    "\n",
    "def plot_perc_years(df, title):\n",
    "    fig = px.line(df, x='year', y='women_perc', color='country', markers=True, \n",
    "            title=title,\n",
    "            labels=dict(women_perc=\"Women in Parliament(%)\", year=\"Year\")\n",
    "            )\n",
    "    fig.update_layout(\n",
    "        font_family=\"Courier New\",\n",
    "        font_color=\"grey\",\n",
    "        title_font_family=\"Courier New\",\n",
    "        title_font_color=\"#1f77b4\",\n",
    "        legend_title_font_color=\"grey\",\n",
    "        autosize=False,\n",
    "        width=1200,\n",
    "        height=600\n",
    "    )\n",
    "    fig.update(layout_yaxis_range = [-0.1,.8])\n",
    "    fig.update_xaxes(nticks=20)\n",
    "\n",
    "    fig.show()"
   ]
  },
  {
   "cell_type": "code",
   "execution_count": 2,
   "metadata": {},
   "outputs": [
    {
     "name": "stdout",
     "output_type": "stream",
     "text": [
      "<class 'pandas.core.frame.DataFrame'>\n",
      "RangeIndex: 3815 entries, 0 to 3814\n",
      "Data columns (total 10 columns):\n",
      " #   Column               Non-Null Count  Dtype  \n",
      "---  ------               --------------  -----  \n",
      " 0   country              3815 non-null   object \n",
      " 1   region               3814 non-null   object \n",
      " 2   election_renewal     3815 non-null   object \n",
      " 3   year                 3815 non-null   int64  \n",
      " 4   month                1018 non-null   object \n",
      " 5   chamber_type         3814 non-null   object \n",
      " 6   chamber_total_seats  3815 non-null   object \n",
      " 7   women_total          3753 non-null   float64\n",
      " 8   women_perc           3740 non-null   float64\n",
      " 9   notes                1330 non-null   object \n",
      "dtypes: float64(2), int64(1), object(7)\n",
      "memory usage: 298.2+ KB\n"
     ]
    },
    {
     "data": {
      "text/plain": "None"
     },
     "metadata": {},
     "output_type": "display_data"
    },
    {
     "data": {
      "text/html": "<div>\n<style scoped>\n    .dataframe tbody tr th:only-of-type {\n        vertical-align: middle;\n    }\n\n    .dataframe tbody tr th {\n        vertical-align: top;\n    }\n\n    .dataframe thead th {\n        text-align: right;\n    }\n</style>\n<table border=\"1\" class=\"dataframe\">\n  <thead>\n    <tr style=\"text-align: right;\">\n      <th></th>\n      <th>year_</th>\n      <th>women_perc</th>\n      <th>RM5</th>\n      <th>decade</th>\n      <th>year</th>\n    </tr>\n  </thead>\n  <tbody>\n    <tr>\n      <th>0</th>\n      <td>1945</td>\n      <td>0.032222</td>\n      <td>NaN</td>\n      <td>40's</td>\n      <td>5</td>\n    </tr>\n    <tr>\n      <th>1</th>\n      <td>1946</td>\n      <td>0.035185</td>\n      <td>NaN</td>\n      <td>40's</td>\n      <td>6</td>\n    </tr>\n    <tr>\n      <th>2</th>\n      <td>1947</td>\n      <td>0.022727</td>\n      <td>NaN</td>\n      <td>40's</td>\n      <td>7</td>\n    </tr>\n    <tr>\n      <th>3</th>\n      <td>1948</td>\n      <td>0.032632</td>\n      <td>NaN</td>\n      <td>40's</td>\n      <td>8</td>\n    </tr>\n    <tr>\n      <th>4</th>\n      <td>1949</td>\n      <td>0.041053</td>\n      <td>0.032764</td>\n      <td>40's</td>\n      <td>9</td>\n    </tr>\n  </tbody>\n</table>\n</div>",
      "text/plain": "   year_  women_perc       RM5 decade  year\n0   1945    0.032222       NaN   40's     5\n1   1946    0.035185       NaN   40's     6\n2   1947    0.022727       NaN   40's     7\n3   1948    0.032632       NaN   40's     8\n4   1949    0.041053  0.032764   40's     9"
     },
     "metadata": {},
     "output_type": "display_data"
    }
   ],
   "source": [
    "# Read historical data\n",
    "data = pd.read_csv('./data/women_in_parliament-historical_database-1945_to_2018_cleaned.csv')\n",
    "df = data.copy()\n",
    "display(df.info())\n",
    "\n",
    "# Exclude from election results 'upper' chamber type\n",
    "df = df.query(\"chamber_type != 'upper' \")\n",
    "\n",
    "avg_yearly = pd.read_csv('./data/avg_yearly.csv')\n",
    "display(avg_yearly.head())"
   ]
  },
  {
   "cell_type": "markdown",
   "metadata": {},
   "source": [
    "### 2018 Numbers"
   ]
  },
  {
   "cell_type": "code",
   "execution_count": null,
   "metadata": {},
   "outputs": [],
   "source": [
    "# read population data for 2018\n",
    "pop_18 = pd.read_excel('./data/WPP2019_POP_F01_1_TOTAL_POPULATION_BOTH_SEXES.xlsx',usecols=[2,4,5,75])\n",
    "pop_18 = pop_18.rename(columns={'Unnamed: 2':'country', 'Unnamed: 4':'code', 'Unnamed: 5':'region_type', 'Unnamed: 75':'pop_2018'})\n",
    "#display(pop_18.head())\n",
    "\n",
    "# retrieve info only for 2018\n",
    "df_18 = df.query(\"year == 2018\")\n",
    "\n",
    "#df_18['pop_2018'] = df_18['pop_2018'].astype(float)\n",
    "\n",
    "# merge with population data\n",
    "df_18 = df_18.merge(pop_18, on='country', how='left')"
   ]
  },
  {
   "cell_type": "code",
   "execution_count": null,
   "metadata": {},
   "outputs": [],
   "source": [
    "fig = px.treemap(df_18, path=[px.Constant(\"World\"), 'region', 'country'], values='pop_2018',\n",
    "                  color='women_perc',\n",
    "                  color_continuous_scale='RdBu',\n",
    "                  title='Women Representation in Parliament (2018) - Population',\n",
    "                  color_continuous_midpoint=np.average(df_18['women_perc'], weights=df_18['women_perc']))\n",
    "fig.update_layout(margin = dict(t=50, l=25, r=25, b=25), font_family=\"Courier New\")\n",
    "fig.show()"
   ]
  },
  {
   "cell_type": "code",
   "execution_count": null,
   "metadata": {},
   "outputs": [],
   "source": [
    "import plotly.express as px\n",
    "\n",
    "fig = px.bar(df_18.sort_values('women_perc', ascending=False), x='country', y='women_perc',\n",
    "            color='region',\n",
    "            labels=dict(country=\"Country\", women_perc=\"Representation (%)\"),\n",
    "            title='Women Represetation in Parliament (2018) ')\n",
    "\n",
    "fig.show()"
   ]
  },
  {
   "cell_type": "code",
   "execution_count": null,
   "metadata": {},
   "outputs": [],
   "source": [
    "import plotly.express as px\n",
    "\n",
    "country = 'Greece'\n",
    "df_ = df.query(\"country == @country\")\n",
    "fig = px.line(df_, x=\"year\", y=\"women_perc\", \n",
    "            title='{} - Women Representation in Parliament'.format(country),\n",
    "            labels=dict(women_perc='Women in Parliament(%)', year=\"Year\")\n",
    "            )\n",
    "fig.update_layout(\n",
    "        font_family=\"Courier New\",\n",
    "        font_color=\"blue\",\n",
    "        title_font_family=\"Courier New\",\n",
    "        title_font_color=\"red\",\n",
    "        legend_title_font_color=\"green\"\n",
    "    )\n",
    "fig.show()\n"
   ]
  },
  {
   "cell_type": "markdown",
   "metadata": {},
   "source": [
    "## Regional Trends\n"
   ]
  },
  {
   "cell_type": "code",
   "execution_count": null,
   "metadata": {},
   "outputs": [],
   "source": [
    "# create a dataframe fro each region\n",
    "df_eur = df.query(\"(chamber_type != 'upper') and (year >= 2000) and (region == 'EUR')\")\n",
    "df_mena = df.query(\"(chamber_type != 'upper') and (year >= 2000) and (region == 'MENA')\")\n",
    "df_sahara = df.query(\"(chamber_type != 'upper') and (year >= 2000) and (region == 'SUB-SAHARAN')\")\n",
    "df_ame = df.query(\"(chamber_type != 'upper') and (year >= 2000) and (region == 'AME')\")"
   ]
  },
  {
   "cell_type": "code",
   "execution_count": null,
   "metadata": {},
   "outputs": [],
   "source": [
    "df.query(\"year==2013 and region=='AME'\")"
   ]
  },
  {
   "cell_type": "code",
   "execution_count": null,
   "metadata": {},
   "outputs": [],
   "source": [
    "(0.37+0.45+0.32+0.26+0.18)/5"
   ]
  },
  {
   "cell_type": "code",
   "execution_count": null,
   "metadata": {},
   "outputs": [],
   "source": [
    "region_yearly_df = pd.DataFrame(df.groupby(['year','region'])['women_perc'].mean().reset_index())\n",
    "temp = region_yearly_df.query(\"year>=1995\")\n",
    "\n",
    "fig = px.line(temp, x='year', y='women_perc', color='region', markers=True, \n",
    "            title='Kat',\n",
    "            labels=dict(women_perc=\"Women in Parliament(%)\", year=\"Year\")\n",
    "            )\n",
    "fig.update_layout(\n",
    "    font_family=\"Courier New\",\n",
    "    font_color=\"grey\",\n",
    "    title_font_family=\"Courier New\",\n",
    "    title_font_color=\"#1f77b4\",\n",
    "    legend_title_font_color=\"grey\",\n",
    "    autosize=False,\n",
    "    width=1200,\n",
    "    height=600\n",
    ")\n",
    "fig.update(layout_yaxis_range = [-0.01,.4])\n",
    "fig.update_xaxes(nticks=19)\n",
    "\n",
    "fig.show()"
   ]
  },
  {
   "cell_type": "markdown",
   "metadata": {},
   "source": [
    "In 2018 the americas became the first region to reach the 30% threshold "
   ]
  },
  {
   "cell_type": "code",
   "execution_count": null,
   "metadata": {},
   "outputs": [],
   "source": [
    "fig = px.scatter(temp, x='pop', y='women_perc', color='region', size='pop',\n",
    "                facet_col='decade', facet_col_wrap=3,\n",
    "                title='Women Participation in Parliaments by Population - World',\n",
    "                labels=dict(women_perc='Women (%)', decade='Decade', country='Country',pop='Population (thousands)'),\n",
    "\n",
    ")\n",
    "\n",
    "#fig.update_yaxes(title_text='Women (%)')\n",
    "fig.update_yaxes(tick0=0, dtick=0.2)\n",
    "\n",
    "\n",
    "fig.update_layout(\n",
    "        font_family=\"Courier New\",\n",
    "        font_color=\"grey\",\n",
    "        title_font_family=\"Courier New\",\n",
    "        title_font_color=\"#1f77b4\",\n",
    "        legend_title_font_color=\"grey\"\n",
    "        )\n",
    "\n",
    "fig.show()"
   ]
  },
  {
   "cell_type": "code",
   "execution_count": null,
   "metadata": {},
   "outputs": [],
   "source": [
    "# plot percentage throught the years by country\n",
    "plot_perc_years(df_eur, 'Europe - Women Representation in Parliament since 2000(%)')"
   ]
  },
  {
   "cell_type": "code",
   "execution_count": null,
   "metadata": {},
   "outputs": [],
   "source": []
  },
  {
   "cell_type": "code",
   "execution_count": null,
   "metadata": {},
   "outputs": [],
   "source": [
    "# select region\n",
    "# plot percentage throught the years by country\n",
    "plot_perc_years(df_mena, 'Middle East and North Africa - Women Representation in Parliament since 2000(%)')"
   ]
  },
  {
   "cell_type": "code",
   "execution_count": null,
   "metadata": {},
   "outputs": [],
   "source": [
    "def perc_change(df, country_name):\n",
    "    country = df_mena[df_mena['country'] == country_name]\n",
    "    country = country.sort_values('year')\n",
    "    country['perc_change'] = country['women_perc'].diff(1)\n",
    "\n",
    "    return(country)\n",
    "\n",
    "perc_change(df_mena, 'Qatar')"
   ]
  },
  {
   "cell_type": "code",
   "execution_count": null,
   "metadata": {},
   "outputs": [],
   "source": [
    "\n",
    "# plot percentage throught the years by country\n",
    "plot_perc_years(df_sahara, 'Sub-Sahara Africa - Women Representation in Parliament since 2000(%)')"
   ]
  },
  {
   "cell_type": "code",
   "execution_count": null,
   "metadata": {},
   "outputs": [],
   "source": [
    "\n",
    "# plot percentage throught the years by country\n",
    "plot_perc_years(df_ame, 'Americas - Women Representation in Parliament since 2000(%)')"
   ]
  },
  {
   "cell_type": "code",
   "execution_count": null,
   "metadata": {},
   "outputs": [],
   "source": [
    "temp = pd.DataFrame(df_ame.groupby(['year'])['women_perc'].mean().reset_index())\n",
    "temp = temp.rename(columns={'women_perc':'AME'})\n",
    "temp"
   ]
  },
  {
   "cell_type": "code",
   "execution_count": null,
   "metadata": {},
   "outputs": [],
   "source": [
    "# select region for Asia\n",
    "df_asia = df.query(\"(chamber_type != 'upper') and (year >= 2000) and (region == 'ASIA')\")\n",
    "# plot percentage throught the years by country\n",
    "plot_perc_years(df_asia, 'Asia - Women Representation in Parliament since 2000(%)')"
   ]
  },
  {
   "cell_type": "code",
   "execution_count": null,
   "metadata": {},
   "outputs": [],
   "source": [
    "# select region for Europe\n",
    "df_pac = df.query(\"(chamber_type != 'upper') and (year >= 2000) and (region == 'PAC')\")\n",
    "# plot percentage throught the years by country\n",
    "plot_perc_years(df_pac, 'Pacific - Women Representation in Parliament since 2000(%)')"
   ]
  },
  {
   "cell_type": "code",
   "execution_count": null,
   "metadata": {},
   "outputs": [],
   "source": [
    "(Palau, Solomon Islands, Tuvalu, Tonga, Vanuatu, Papua New Guinea, Micronesia)"
   ]
  },
  {
   "cell_type": "markdown",
   "metadata": {},
   "source": []
  }
 ],
 "metadata": {
  "kernelspec": {
   "display_name": "Python 3.9.5 64-bit ('3.9')",
   "name": "python395jvsc74a57bd07812ea015bdcee6f23a998adcdd2ef97c151c0c241b7b7070987d9313e41299d"
  },
  "language_info": {
   "name": "python",
   "version": ""
  },
  "metadata": {
   "interpreter": {
    "hash": "7812ea015bdcee6f23a998adcdd2ef97c151c0c241b7b7070987d9313e41299d"
   }
  },
  "orig_nbformat": 2
 },
 "nbformat": 4,
 "nbformat_minor": 2
}