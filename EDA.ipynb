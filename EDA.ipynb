{
 "cells": [
  {
   "cell_type": "markdown",
   "metadata": {},
   "source": []
  },
  {
   "cell_type": "code",
   "execution_count": 1,
   "metadata": {},
   "outputs": [
    {
     "name": "stdout",
     "output_type": "stream",
     "text": [
      "<class 'pandas.core.frame.DataFrame'>\n",
      "RangeIndex: 3815 entries, 0 to 3814\n",
      "Data columns (total 10 columns):\n",
      " #   Column               Non-Null Count  Dtype  \n",
      "---  ------               --------------  -----  \n",
      " 0   country              3815 non-null   object \n",
      " 1   region               3814 non-null   object \n",
      " 2   election_renewal     3815 non-null   object \n",
      " 3   year                 3815 non-null   int64  \n",
      " 4   month                1018 non-null   object \n",
      " 5   chamber_type         3814 non-null   object \n",
      " 6   chamber_total_seats  3815 non-null   object \n",
      " 7   women_total          3753 non-null   float64\n",
      " 8   women_perc           3740 non-null   float64\n",
      " 9   notes                1330 non-null   object \n",
      "dtypes: float64(2), int64(1), object(7)\n",
      "memory usage: 298.2+ KB\n"
     ]
    },
    {
     "data": {
      "text/plain": "None"
     },
     "metadata": {},
     "output_type": "display_data"
    }
   ],
   "source": [
    "import pandas as pd\n",
    "import numpy as np\n",
    "import seaborn as sns\n",
    "\n",
    "import plotly.express as px\n",
    "\n",
    "def plot_perc_years(df, title):\n",
    "    fig = px.line(df, x='year', y='women_perc', color='country', markers=True, \n",
    "            title=title,\n",
    "            labels=dict(women_perc=\"Women in Parliament(%)\", year=\"Year\")\n",
    "            )\n",
    "    fig.update_layout(\n",
    "        font_family=\"Courier New\",\n",
    "        font_color=\"blue\",\n",
    "        title_font_family=\"Courier New\",\n",
    "        title_font_color=\"red\",\n",
    "        legend_title_font_color=\"green\"\n",
    "    )\n",
    "    fig.show()\n",
    "\n",
    "# read women in parliament historical data file\n",
    "data = pd.read_csv('./data/women_in_parliament-historical_database-1945_to_2018_cleaned.csv')\n",
    "\n",
    "# pass data to dataframe named df\n",
    "df = data.copy()\n",
    "display(df.info())\n",
    "\n",
    "# exclude election results for 'upper' chamber type\n",
    "df = df.query(\"chamber_type != 'upper' \")"
   ]
  },
  {
   "cell_type": "markdown",
   "metadata": {},
   "source": [
    "### 2018 Numbers"
   ]
  },
  {
   "cell_type": "code",
   "execution_count": 2,
   "metadata": {},
   "outputs": [],
   "source": [
    "# read population data for 2018\n",
    "pop_18 = pd.read_excel('./data/WPP2019_POP_F01_1_TOTAL_POPULATION_BOTH_SEXES.xlsx',usecols=[2,4,5,75])\n",
    "pop_18 = pop_18.rename(columns={'Unnamed: 2':'country', 'Unnamed: 4':'code', 'Unnamed: 5':'region_type', 'Unnamed: 75':'pop_2018'})\n",
    "#display(pop_18.head())\n",
    "\n",
    "# retrieve info only for 2018\n",
    "df_18 = df.query(\"year == 2018\")\n",
    "\n",
    "# merge with population data\n",
    "df_18 = df_18.merge(pop_18, on='country', how='left')"
   ]
  },
  {
   "cell_type": "code",
   "execution_count": 3,
   "metadata": {},
   "outputs": [
    {
     "data": {
      "application/vnd.plotly.v1+json": {
       "config": {
        "plotlyServerURL": "https://plot.ly"
       },
       "data": [
        {
         "branchvalues": "total",
         "customdata": [
          [
           0.28
          ],
          [
           0.11
          ],
          [
           0.24
          ],
          [
           0.2
          ],
          [
           0.15
          ],
          [
           0.21
          ],
          [
           0.15
          ],
          [
           0.15
          ],
          [
           0.18999999999999997
          ],
          [
           0.46
          ],
          [
           0.53
          ],
          [
           0.10000000000000002
          ],
          [
           0.26
          ],
          [
           0.31
          ],
          [
           0.07
          ],
          [
           0.2
          ],
          [
           0.18
          ],
          [
           0.47
          ],
          [
           0.13
          ],
          [
           0.25
          ],
          [
           0.36
          ],
          [
           0.31
          ],
          [
           0.05
          ],
          [
           0.2
          ],
          [
           0.14
          ],
          [
           0.2
          ],
          [
           0.48
          ],
          [
           0.33
          ],
          [
           0.20000000000000004
          ],
          [
           0.15
          ],
          [
           0.61
          ],
          [
           0.15
          ],
          [
           0.12
          ],
          [
           0.24
          ],
          [
           0.45999999999999996
          ],
          [
           0.34
          ],
          [
           0.16
          ],
          [
           0.17
          ],
          [
           0.25
          ],
          [
           0.23999999999999996
          ],
          [
           0.31
          ],
          [
           0.257725596884753
          ],
          [
           0.20136824254809094
          ],
          [
           0.2551068006549107
          ],
          [
           0.2197109655679335
          ],
          [
           0.2
          ],
          [
           0.1789503609317723
          ],
          [
           0.23651259518572806
          ]
         ],
         "domain": {
          "x": [
           0,
           1
          ],
          "y": [
           0,
           1
          ]
         },
         "hovertemplate": "labels=%{label}<br>pop_2018=%{value}<br>parent=%{parent}<br>id=%{id}<br>women_perc=%{color}<extra></extra>",
         "ids": [
          "World/ASIA/Afghanistan",
          "World/AME/Antigua and Barbuda",
          "World/EUR/Armenia",
          "World/AME/Barbados",
          "World/ASIA/Bhutan",
          "World/EUR/Bosnia and Herzegovina",
          "World/AME/Brazil",
          "World/ASIA/Cambodia",
          "World/AME/Colombia",
          "World/AME/Costa Rica",
          "World/AME/Cuba",
          "World/SUB-SAHARAN/Democratic Republic of the Congo",
          "World/SUB-SAHARAN/Djibouti",
          "World/AME/El Salvador",
          "World/SUB-SAHARAN/Eswatini",
          "World/PAC/Fiji",
          "World/SUB-SAHARAN/Gabon",
          "World/AME/Grenada",
          "World/EUR/Hungary",
          "World/MENA/Iraq",
          "World/EUR/Italy",
          "World/EUR/Latvia",
          "World/MENA/Lebanon",
          "World/EUR/Luxembourg",
          "World/ASIA/Malaysia",
          "World/SUB-SAHARAN/Mauritania",
          "World/AME/Mexico",
          "World/EUR/Monaco",
          "World/ASIA/Pakistan",
          "World/AME/Paraguay",
          "World/SUB-SAHARAN/Rwanda",
          "World/SUB-SAHARAN/Sao Tome and Principe",
          "World/SUB-SAHARAN/Sierra Leone",
          "World/EUR/Slovenia",
          "World/EUR/Sweden",
          "World/ASIA/Timor-Leste",
          "World/SUB-SAHARAN/Togo",
          "World/EUR/Turkey",
          "World/EUR/Turkmenistan",
          "World/AME/United States of America",
          "World/SUB-SAHARAN/Zimbabwe",
          "World/AME",
          "World/ASIA",
          "World/EUR",
          "World/MENA",
          "World/PAC",
          "World/SUB-SAHARAN",
          "World"
         ],
         "labels": [
          "Afghanistan",
          "Antigua and Barbuda",
          "Armenia",
          "Barbados",
          "Bhutan",
          "Bosnia and Herzegovina",
          "Brazil",
          "Cambodia",
          "Colombia",
          "Costa Rica",
          "Cuba",
          "Democratic Republic of the Congo",
          "Djibouti",
          "El Salvador",
          "Eswatini",
          "Fiji",
          "Gabon",
          "Grenada",
          "Hungary",
          "Iraq",
          "Italy",
          "Latvia",
          "Lebanon",
          "Luxembourg",
          "Malaysia",
          "Mauritania",
          "Mexico",
          "Monaco",
          "Pakistan",
          "Paraguay",
          "Rwanda",
          "Sao Tome and Principe",
          "Sierra Leone",
          "Slovenia",
          "Sweden",
          "Timor-Leste",
          "Togo",
          "Turkey",
          "Turkmenistan",
          "United States of America",
          "Zimbabwe",
          "AME",
          "ASIA",
          "EUR",
          "MENA",
          "PAC",
          "SUB-SAHARAN",
          "World"
         ],
         "marker": {
          "coloraxis": "coloraxis",
          "colors": [
           0.28,
           0.11,
           0.24,
           0.2,
           0.15,
           0.21,
           0.15,
           0.15,
           0.18999999999999997,
           0.46,
           0.53,
           0.10000000000000002,
           0.26,
           0.31,
           0.07,
           0.2,
           0.18,
           0.47,
           0.13,
           0.25,
           0.36,
           0.31,
           0.05,
           0.2,
           0.14,
           0.2,
           0.48,
           0.33,
           0.20000000000000004,
           0.15,
           0.61,
           0.15,
           0.12,
           0.24,
           0.45999999999999996,
           0.34,
           0.16,
           0.17,
           0.25,
           0.23999999999999996,
           0.31,
           0.257725596884753,
           0.20136824254809094,
           0.2551068006549107,
           0.2197109655679335,
           0.2,
           0.1789503609317723,
           0.23651259518572806
          ]
         },
         "name": "",
         "parents": [
          "World/ASIA",
          "World/AME",
          "World/EUR",
          "World/AME",
          "World/ASIA",
          "World/EUR",
          "World/AME",
          "World/ASIA",
          "World/AME",
          "World/AME",
          "World/AME",
          "World/SUB-SAHARAN",
          "World/SUB-SAHARAN",
          "World/AME",
          "World/SUB-SAHARAN",
          "World/PAC",
          "World/SUB-SAHARAN",
          "World/AME",
          "World/EUR",
          "World/MENA",
          "World/EUR",
          "World/EUR",
          "World/MENA",
          "World/EUR",
          "World/ASIA",
          "World/SUB-SAHARAN",
          "World/AME",
          "World/EUR",
          "World/ASIA",
          "World/AME",
          "World/SUB-SAHARAN",
          "World/SUB-SAHARAN",
          "World/SUB-SAHARAN",
          "World/EUR",
          "World/EUR",
          "World/ASIA",
          "World/SUB-SAHARAN",
          "World/EUR",
          "World/EUR",
          "World/AME",
          "World/SUB-SAHARAN",
          "World",
          "World",
          "World",
          "World",
          "World",
          "World",
          ""
         ],
         "type": "treemap",
         "values": [
          37171.922,
          96.282,
          2951.741,
          286.64,
          754.396,
          3323.929,
          209469.32,
          16249.795,
          49661.056,
          4999.443,
          11338.146,
          84068.092,
          958.923,
          6420.74,
          1136.274,
          883.49,
          2119.275,
          111.449,
          9707.502,
          38433.604,
          60627.291,
          1928.461,
          6859.408,
          604.244,
          31528.033,
          4403.312,
          126190.782,
          38.682,
          212228.288,
          6956.069,
          12301.969,
          211.032,
          7650.149,
          2077.836,
          9971.63,
          1267.975,
          7889.095,
          82340.09,
          5850.902,
          327096.263,
          14438.812,
          742626.19,
          299200.409,
          179422.308,
          45293.012,
          883.49,
          135176.93300000002,
          1402602.342
         ]
        }
       ],
       "layout": {
        "coloraxis": {
         "cmid": 0.3139169139465875,
         "colorbar": {
          "title": {
           "text": "women_perc"
          }
         },
         "colorscale": [
          [
           0,
           "rgb(103,0,31)"
          ],
          [
           0.1,
           "rgb(178,24,43)"
          ],
          [
           0.2,
           "rgb(214,96,77)"
          ],
          [
           0.3,
           "rgb(244,165,130)"
          ],
          [
           0.4,
           "rgb(253,219,199)"
          ],
          [
           0.5,
           "rgb(247,247,247)"
          ],
          [
           0.6,
           "rgb(209,229,240)"
          ],
          [
           0.7,
           "rgb(146,197,222)"
          ],
          [
           0.8,
           "rgb(67,147,195)"
          ],
          [
           0.9,
           "rgb(33,102,172)"
          ],
          [
           1,
           "rgb(5,48,97)"
          ]
         ]
        },
        "font": {
         "family": "Courier New"
        },
        "legend": {
         "tracegroupgap": 0
        },
        "margin": {
         "b": 25,
         "l": 25,
         "r": 25,
         "t": 50
        },
        "template": {
         "data": {
          "bar": [
           {
            "error_x": {
             "color": "#2a3f5f"
            },
            "error_y": {
             "color": "#2a3f5f"
            },
            "marker": {
             "line": {
              "color": "#E5ECF6",
              "width": 0.5
             },
             "pattern": {
              "fillmode": "overlay",
              "size": 10,
              "solidity": 0.2
             }
            },
            "type": "bar"
           }
          ],
          "barpolar": [
           {
            "marker": {
             "line": {
              "color": "#E5ECF6",
              "width": 0.5
             },
             "pattern": {
              "fillmode": "overlay",
              "size": 10,
              "solidity": 0.2
             }
            },
            "type": "barpolar"
           }
          ],
          "carpet": [
           {
            "aaxis": {
             "endlinecolor": "#2a3f5f",
             "gridcolor": "white",
             "linecolor": "white",
             "minorgridcolor": "white",
             "startlinecolor": "#2a3f5f"
            },
            "baxis": {
             "endlinecolor": "#2a3f5f",
             "gridcolor": "white",
             "linecolor": "white",
             "minorgridcolor": "white",
             "startlinecolor": "#2a3f5f"
            },
            "type": "carpet"
           }
          ],
          "choropleth": [
           {
            "colorbar": {
             "outlinewidth": 0,
             "ticks": ""
            },
            "type": "choropleth"
           }
          ],
          "contour": [
           {
            "colorbar": {
             "outlinewidth": 0,
             "ticks": ""
            },
            "colorscale": [
             [
              0,
              "#0d0887"
             ],
             [
              0.1111111111111111,
              "#46039f"
             ],
             [
              0.2222222222222222,
              "#7201a8"
             ],
             [
              0.3333333333333333,
              "#9c179e"
             ],
             [
              0.4444444444444444,
              "#bd3786"
             ],
             [
              0.5555555555555556,
              "#d8576b"
             ],
             [
              0.6666666666666666,
              "#ed7953"
             ],
             [
              0.7777777777777778,
              "#fb9f3a"
             ],
             [
              0.8888888888888888,
              "#fdca26"
             ],
             [
              1,
              "#f0f921"
             ]
            ],
            "type": "contour"
           }
          ],
          "contourcarpet": [
           {
            "colorbar": {
             "outlinewidth": 0,
             "ticks": ""
            },
            "type": "contourcarpet"
           }
          ],
          "heatmap": [
           {
            "colorbar": {
             "outlinewidth": 0,
             "ticks": ""
            },
            "colorscale": [
             [
              0,
              "#0d0887"
             ],
             [
              0.1111111111111111,
              "#46039f"
             ],
             [
              0.2222222222222222,
              "#7201a8"
             ],
             [
              0.3333333333333333,
              "#9c179e"
             ],
             [
              0.4444444444444444,
              "#bd3786"
             ],
             [
              0.5555555555555556,
              "#d8576b"
             ],
             [
              0.6666666666666666,
              "#ed7953"
             ],
             [
              0.7777777777777778,
              "#fb9f3a"
             ],
             [
              0.8888888888888888,
              "#fdca26"
             ],
             [
              1,
              "#f0f921"
             ]
            ],
            "type": "heatmap"
           }
          ],
          "heatmapgl": [
           {
            "colorbar": {
             "outlinewidth": 0,
             "ticks": ""
            },
            "colorscale": [
             [
              0,
              "#0d0887"
             ],
             [
              0.1111111111111111,
              "#46039f"
             ],
             [
              0.2222222222222222,
              "#7201a8"
             ],
             [
              0.3333333333333333,
              "#9c179e"
             ],
             [
              0.4444444444444444,
              "#bd3786"
             ],
             [
              0.5555555555555556,
              "#d8576b"
             ],
             [
              0.6666666666666666,
              "#ed7953"
             ],
             [
              0.7777777777777778,
              "#fb9f3a"
             ],
             [
              0.8888888888888888,
              "#fdca26"
             ],
             [
              1,
              "#f0f921"
             ]
            ],
            "type": "heatmapgl"
           }
          ],
          "histogram": [
           {
            "marker": {
             "pattern": {
              "fillmode": "overlay",
              "size": 10,
              "solidity": 0.2
             }
            },
            "type": "histogram"
           }
          ],
          "histogram2d": [
           {
            "colorbar": {
             "outlinewidth": 0,
             "ticks": ""
            },
            "colorscale": [
             [
              0,
              "#0d0887"
             ],
             [
              0.1111111111111111,
              "#46039f"
             ],
             [
              0.2222222222222222,
              "#7201a8"
             ],
             [
              0.3333333333333333,
              "#9c179e"
             ],
             [
              0.4444444444444444,
              "#bd3786"
             ],
             [
              0.5555555555555556,
              "#d8576b"
             ],
             [
              0.6666666666666666,
              "#ed7953"
             ],
             [
              0.7777777777777778,
              "#fb9f3a"
             ],
             [
              0.8888888888888888,
              "#fdca26"
             ],
             [
              1,
              "#f0f921"
             ]
            ],
            "type": "histogram2d"
           }
          ],
          "histogram2dcontour": [
           {
            "colorbar": {
             "outlinewidth": 0,
             "ticks": ""
            },
            "colorscale": [
             [
              0,
              "#0d0887"
             ],
             [
              0.1111111111111111,
              "#46039f"
             ],
             [
              0.2222222222222222,
              "#7201a8"
             ],
             [
              0.3333333333333333,
              "#9c179e"
             ],
             [
              0.4444444444444444,
              "#bd3786"
             ],
             [
              0.5555555555555556,
              "#d8576b"
             ],
             [
              0.6666666666666666,
              "#ed7953"
             ],
             [
              0.7777777777777778,
              "#fb9f3a"
             ],
             [
              0.8888888888888888,
              "#fdca26"
             ],
             [
              1,
              "#f0f921"
             ]
            ],
            "type": "histogram2dcontour"
           }
          ],
          "mesh3d": [
           {
            "colorbar": {
             "outlinewidth": 0,
             "ticks": ""
            },
            "type": "mesh3d"
           }
          ],
          "parcoords": [
           {
            "line": {
             "colorbar": {
              "outlinewidth": 0,
              "ticks": ""
             }
            },
            "type": "parcoords"
           }
          ],
          "pie": [
           {
            "automargin": true,
            "type": "pie"
           }
          ],
          "scatter": [
           {
            "marker": {
             "colorbar": {
              "outlinewidth": 0,
              "ticks": ""
             }
            },
            "type": "scatter"
           }
          ],
          "scatter3d": [
           {
            "line": {
             "colorbar": {
              "outlinewidth": 0,
              "ticks": ""
             }
            },
            "marker": {
             "colorbar": {
              "outlinewidth": 0,
              "ticks": ""
             }
            },
            "type": "scatter3d"
           }
          ],
          "scattercarpet": [
           {
            "marker": {
             "colorbar": {
              "outlinewidth": 0,
              "ticks": ""
             }
            },
            "type": "scattercarpet"
           }
          ],
          "scattergeo": [
           {
            "marker": {
             "colorbar": {
              "outlinewidth": 0,
              "ticks": ""
             }
            },
            "type": "scattergeo"
           }
          ],
          "scattergl": [
           {
            "marker": {
             "colorbar": {
              "outlinewidth": 0,
              "ticks": ""
             }
            },
            "type": "scattergl"
           }
          ],
          "scattermapbox": [
           {
            "marker": {
             "colorbar": {
              "outlinewidth": 0,
              "ticks": ""
             }
            },
            "type": "scattermapbox"
           }
          ],
          "scatterpolar": [
           {
            "marker": {
             "colorbar": {
              "outlinewidth": 0,
              "ticks": ""
             }
            },
            "type": "scatterpolar"
           }
          ],
          "scatterpolargl": [
           {
            "marker": {
             "colorbar": {
              "outlinewidth": 0,
              "ticks": ""
             }
            },
            "type": "scatterpolargl"
           }
          ],
          "scatterternary": [
           {
            "marker": {
             "colorbar": {
              "outlinewidth": 0,
              "ticks": ""
             }
            },
            "type": "scatterternary"
           }
          ],
          "surface": [
           {
            "colorbar": {
             "outlinewidth": 0,
             "ticks": ""
            },
            "colorscale": [
             [
              0,
              "#0d0887"
             ],
             [
              0.1111111111111111,
              "#46039f"
             ],
             [
              0.2222222222222222,
              "#7201a8"
             ],
             [
              0.3333333333333333,
              "#9c179e"
             ],
             [
              0.4444444444444444,
              "#bd3786"
             ],
             [
              0.5555555555555556,
              "#d8576b"
             ],
             [
              0.6666666666666666,
              "#ed7953"
             ],
             [
              0.7777777777777778,
              "#fb9f3a"
             ],
             [
              0.8888888888888888,
              "#fdca26"
             ],
             [
              1,
              "#f0f921"
             ]
            ],
            "type": "surface"
           }
          ],
          "table": [
           {
            "cells": {
             "fill": {
              "color": "#EBF0F8"
             },
             "line": {
              "color": "white"
             }
            },
            "header": {
             "fill": {
              "color": "#C8D4E3"
             },
             "line": {
              "color": "white"
             }
            },
            "type": "table"
           }
          ]
         },
         "layout": {
          "annotationdefaults": {
           "arrowcolor": "#2a3f5f",
           "arrowhead": 0,
           "arrowwidth": 1
          },
          "autotypenumbers": "strict",
          "coloraxis": {
           "colorbar": {
            "outlinewidth": 0,
            "ticks": ""
           }
          },
          "colorscale": {
           "diverging": [
            [
             0,
             "#8e0152"
            ],
            [
             0.1,
             "#c51b7d"
            ],
            [
             0.2,
             "#de77ae"
            ],
            [
             0.3,
             "#f1b6da"
            ],
            [
             0.4,
             "#fde0ef"
            ],
            [
             0.5,
             "#f7f7f7"
            ],
            [
             0.6,
             "#e6f5d0"
            ],
            [
             0.7,
             "#b8e186"
            ],
            [
             0.8,
             "#7fbc41"
            ],
            [
             0.9,
             "#4d9221"
            ],
            [
             1,
             "#276419"
            ]
           ],
           "sequential": [
            [
             0,
             "#0d0887"
            ],
            [
             0.1111111111111111,
             "#46039f"
            ],
            [
             0.2222222222222222,
             "#7201a8"
            ],
            [
             0.3333333333333333,
             "#9c179e"
            ],
            [
             0.4444444444444444,
             "#bd3786"
            ],
            [
             0.5555555555555556,
             "#d8576b"
            ],
            [
             0.6666666666666666,
             "#ed7953"
            ],
            [
             0.7777777777777778,
             "#fb9f3a"
            ],
            [
             0.8888888888888888,
             "#fdca26"
            ],
            [
             1,
             "#f0f921"
            ]
           ],
           "sequentialminus": [
            [
             0,
             "#0d0887"
            ],
            [
             0.1111111111111111,
             "#46039f"
            ],
            [
             0.2222222222222222,
             "#7201a8"
            ],
            [
             0.3333333333333333,
             "#9c179e"
            ],
            [
             0.4444444444444444,
             "#bd3786"
            ],
            [
             0.5555555555555556,
             "#d8576b"
            ],
            [
             0.6666666666666666,
             "#ed7953"
            ],
            [
             0.7777777777777778,
             "#fb9f3a"
            ],
            [
             0.8888888888888888,
             "#fdca26"
            ],
            [
             1,
             "#f0f921"
            ]
           ]
          },
          "colorway": [
           "#636efa",
           "#EF553B",
           "#00cc96",
           "#ab63fa",
           "#FFA15A",
           "#19d3f3",
           "#FF6692",
           "#B6E880",
           "#FF97FF",
           "#FECB52"
          ],
          "font": {
           "color": "#2a3f5f"
          },
          "geo": {
           "bgcolor": "white",
           "lakecolor": "white",
           "landcolor": "#E5ECF6",
           "showlakes": true,
           "showland": true,
           "subunitcolor": "white"
          },
          "hoverlabel": {
           "align": "left"
          },
          "hovermode": "closest",
          "mapbox": {
           "style": "light"
          },
          "paper_bgcolor": "white",
          "plot_bgcolor": "#E5ECF6",
          "polar": {
           "angularaxis": {
            "gridcolor": "white",
            "linecolor": "white",
            "ticks": ""
           },
           "bgcolor": "#E5ECF6",
           "radialaxis": {
            "gridcolor": "white",
            "linecolor": "white",
            "ticks": ""
           }
          },
          "scene": {
           "xaxis": {
            "backgroundcolor": "#E5ECF6",
            "gridcolor": "white",
            "gridwidth": 2,
            "linecolor": "white",
            "showbackground": true,
            "ticks": "",
            "zerolinecolor": "white"
           },
           "yaxis": {
            "backgroundcolor": "#E5ECF6",
            "gridcolor": "white",
            "gridwidth": 2,
            "linecolor": "white",
            "showbackground": true,
            "ticks": "",
            "zerolinecolor": "white"
           },
           "zaxis": {
            "backgroundcolor": "#E5ECF6",
            "gridcolor": "white",
            "gridwidth": 2,
            "linecolor": "white",
            "showbackground": true,
            "ticks": "",
            "zerolinecolor": "white"
           }
          },
          "shapedefaults": {
           "line": {
            "color": "#2a3f5f"
           }
          },
          "ternary": {
           "aaxis": {
            "gridcolor": "white",
            "linecolor": "white",
            "ticks": ""
           },
           "baxis": {
            "gridcolor": "white",
            "linecolor": "white",
            "ticks": ""
           },
           "bgcolor": "#E5ECF6",
           "caxis": {
            "gridcolor": "white",
            "linecolor": "white",
            "ticks": ""
           }
          },
          "title": {
           "x": 0.05
          },
          "xaxis": {
           "automargin": true,
           "gridcolor": "white",
           "linecolor": "white",
           "ticks": "",
           "title": {
            "standoff": 15
           },
           "zerolinecolor": "white",
           "zerolinewidth": 2
          },
          "yaxis": {
           "automargin": true,
           "gridcolor": "white",
           "linecolor": "white",
           "ticks": "",
           "title": {
            "standoff": 15
           },
           "zerolinecolor": "white",
           "zerolinewidth": 2
          }
         }
        },
        "title": {
         "text": "Women Representation in Parliament (2018) - Population"
        }
       }
      }
     },
     "metadata": {},
     "output_type": "display_data"
    }
   ],
   "source": [
    "fig = px.treemap(df_18, path=[px.Constant(\"World\"), 'region', 'country'], values='pop_2018',\n",
    "                  color='women_perc',\n",
    "                  color_continuous_scale='RdBu',\n",
    "                  title='Women Representation in Parliament (2018) - Population',\n",
    "                  color_continuous_midpoint=np.average(df_18['women_perc'], weights=df_18['women_perc']))\n",
    "fig.update_layout(margin = dict(t=50, l=25, r=25, b=25), font_family=\"Courier New\")\n",
    "fig.show()"
   ]
  },
  {
   "cell_type": "code",
   "execution_count": 96,
   "metadata": {},
   "outputs": [
    {
     "data": {
      "text/plain": "['ASIA', 'EUR', 'MENA', 'SUB-SAHARAN', 'AME', 'PAC']"
     },
     "execution_count": 96,
     "metadata": {},
     "output_type": "execute_result"
    }
   ],
   "source": [
    "list(df['region'].unique())"
   ]
  },
  {
   "cell_type": "code",
   "execution_count": 100,
   "metadata": {},
   "outputs": [
    {
     "data": {
      "application/vnd.plotly.v1+json": {
       "config": {
        "plotlyServerURL": "https://plot.ly"
       },
       "data": [
        {
         "alignmentgroup": "True",
         "hovertemplate": "Country=%{x}<br>Representation (%)=%{y}<extra></extra>",
         "legendgroup": "",
         "marker": {
          "color": "#636efa",
          "pattern": {
           "shape": ""
          }
         },
         "name": "",
         "offsetgroup": "",
         "orientation": "v",
         "showlegend": false,
         "textposition": "auto",
         "type": "bar",
         "x": [
          "Afghanistan",
          "Antigua and Barbuda",
          "Armenia",
          "Barbados",
          "Bhutan",
          "Bosnia and Herzegovina",
          "Brazil",
          "Cambodia",
          "Colombia",
          "Costa Rica",
          "Cuba",
          "Democratic Republic of the Congo",
          "Djibouti",
          "El Salvador",
          "Eswatini",
          "Fiji",
          "Gabon",
          "Grenada",
          "Hungary",
          "Iraq",
          "Italy",
          "Latvia",
          "Lebanon",
          "Luxembourg",
          "Malaysia",
          "Mauritania",
          "Mexico",
          "Monaco",
          "Pakistan",
          "Paraguay",
          "Rwanda",
          "Sao Tome and Principe",
          "Sierra Leone",
          "Slovenia",
          "Sweden",
          "Timor-Leste",
          "Togo",
          "Turkey",
          "Turkmenistan",
          "United States of America",
          "Zimbabwe"
         ],
         "xaxis": "x",
         "y": [
          0.28,
          0.11,
          0.24,
          0.2,
          0.15,
          0.21,
          0.15,
          0.15,
          0.19,
          0.46,
          0.53,
          0.1,
          0.26,
          0.31,
          0.07,
          0.2,
          0.18,
          0.47,
          0.13,
          0.25,
          0.36,
          0.31,
          0.05,
          0.2,
          0.14,
          0.2,
          0.48,
          0.33,
          0.2,
          0.15,
          0.61,
          0.15,
          0.12,
          0.24,
          0.46,
          0.34,
          0.16,
          0.17,
          0.25,
          0.24,
          0.31
         ],
         "yaxis": "y"
        }
       ],
       "layout": {
        "barmode": "relative",
        "legend": {
         "tracegroupgap": 0
        },
        "template": {
         "data": {
          "bar": [
           {
            "error_x": {
             "color": "#2a3f5f"
            },
            "error_y": {
             "color": "#2a3f5f"
            },
            "marker": {
             "line": {
              "color": "#E5ECF6",
              "width": 0.5
             },
             "pattern": {
              "fillmode": "overlay",
              "size": 10,
              "solidity": 0.2
             }
            },
            "type": "bar"
           }
          ],
          "barpolar": [
           {
            "marker": {
             "line": {
              "color": "#E5ECF6",
              "width": 0.5
             },
             "pattern": {
              "fillmode": "overlay",
              "size": 10,
              "solidity": 0.2
             }
            },
            "type": "barpolar"
           }
          ],
          "carpet": [
           {
            "aaxis": {
             "endlinecolor": "#2a3f5f",
             "gridcolor": "white",
             "linecolor": "white",
             "minorgridcolor": "white",
             "startlinecolor": "#2a3f5f"
            },
            "baxis": {
             "endlinecolor": "#2a3f5f",
             "gridcolor": "white",
             "linecolor": "white",
             "minorgridcolor": "white",
             "startlinecolor": "#2a3f5f"
            },
            "type": "carpet"
           }
          ],
          "choropleth": [
           {
            "colorbar": {
             "outlinewidth": 0,
             "ticks": ""
            },
            "type": "choropleth"
           }
          ],
          "contour": [
           {
            "colorbar": {
             "outlinewidth": 0,
             "ticks": ""
            },
            "colorscale": [
             [
              0,
              "#0d0887"
             ],
             [
              0.1111111111111111,
              "#46039f"
             ],
             [
              0.2222222222222222,
              "#7201a8"
             ],
             [
              0.3333333333333333,
              "#9c179e"
             ],
             [
              0.4444444444444444,
              "#bd3786"
             ],
             [
              0.5555555555555556,
              "#d8576b"
             ],
             [
              0.6666666666666666,
              "#ed7953"
             ],
             [
              0.7777777777777778,
              "#fb9f3a"
             ],
             [
              0.8888888888888888,
              "#fdca26"
             ],
             [
              1,
              "#f0f921"
             ]
            ],
            "type": "contour"
           }
          ],
          "contourcarpet": [
           {
            "colorbar": {
             "outlinewidth": 0,
             "ticks": ""
            },
            "type": "contourcarpet"
           }
          ],
          "heatmap": [
           {
            "colorbar": {
             "outlinewidth": 0,
             "ticks": ""
            },
            "colorscale": [
             [
              0,
              "#0d0887"
             ],
             [
              0.1111111111111111,
              "#46039f"
             ],
             [
              0.2222222222222222,
              "#7201a8"
             ],
             [
              0.3333333333333333,
              "#9c179e"
             ],
             [
              0.4444444444444444,
              "#bd3786"
             ],
             [
              0.5555555555555556,
              "#d8576b"
             ],
             [
              0.6666666666666666,
              "#ed7953"
             ],
             [
              0.7777777777777778,
              "#fb9f3a"
             ],
             [
              0.8888888888888888,
              "#fdca26"
             ],
             [
              1,
              "#f0f921"
             ]
            ],
            "type": "heatmap"
           }
          ],
          "heatmapgl": [
           {
            "colorbar": {
             "outlinewidth": 0,
             "ticks": ""
            },
            "colorscale": [
             [
              0,
              "#0d0887"
             ],
             [
              0.1111111111111111,
              "#46039f"
             ],
             [
              0.2222222222222222,
              "#7201a8"
             ],
             [
              0.3333333333333333,
              "#9c179e"
             ],
             [
              0.4444444444444444,
              "#bd3786"
             ],
             [
              0.5555555555555556,
              "#d8576b"
             ],
             [
              0.6666666666666666,
              "#ed7953"
             ],
             [
              0.7777777777777778,
              "#fb9f3a"
             ],
             [
              0.8888888888888888,
              "#fdca26"
             ],
             [
              1,
              "#f0f921"
             ]
            ],
            "type": "heatmapgl"
           }
          ],
          "histogram": [
           {
            "marker": {
             "pattern": {
              "fillmode": "overlay",
              "size": 10,
              "solidity": 0.2
             }
            },
            "type": "histogram"
           }
          ],
          "histogram2d": [
           {
            "colorbar": {
             "outlinewidth": 0,
             "ticks": ""
            },
            "colorscale": [
             [
              0,
              "#0d0887"
             ],
             [
              0.1111111111111111,
              "#46039f"
             ],
             [
              0.2222222222222222,
              "#7201a8"
             ],
             [
              0.3333333333333333,
              "#9c179e"
             ],
             [
              0.4444444444444444,
              "#bd3786"
             ],
             [
              0.5555555555555556,
              "#d8576b"
             ],
             [
              0.6666666666666666,
              "#ed7953"
             ],
             [
              0.7777777777777778,
              "#fb9f3a"
             ],
             [
              0.8888888888888888,
              "#fdca26"
             ],
             [
              1,
              "#f0f921"
             ]
            ],
            "type": "histogram2d"
           }
          ],
          "histogram2dcontour": [
           {
            "colorbar": {
             "outlinewidth": 0,
             "ticks": ""
            },
            "colorscale": [
             [
              0,
              "#0d0887"
             ],
             [
              0.1111111111111111,
              "#46039f"
             ],
             [
              0.2222222222222222,
              "#7201a8"
             ],
             [
              0.3333333333333333,
              "#9c179e"
             ],
             [
              0.4444444444444444,
              "#bd3786"
             ],
             [
              0.5555555555555556,
              "#d8576b"
             ],
             [
              0.6666666666666666,
              "#ed7953"
             ],
             [
              0.7777777777777778,
              "#fb9f3a"
             ],
             [
              0.8888888888888888,
              "#fdca26"
             ],
             [
              1,
              "#f0f921"
             ]
            ],
            "type": "histogram2dcontour"
           }
          ],
          "mesh3d": [
           {
            "colorbar": {
             "outlinewidth": 0,
             "ticks": ""
            },
            "type": "mesh3d"
           }
          ],
          "parcoords": [
           {
            "line": {
             "colorbar": {
              "outlinewidth": 0,
              "ticks": ""
             }
            },
            "type": "parcoords"
           }
          ],
          "pie": [
           {
            "automargin": true,
            "type": "pie"
           }
          ],
          "scatter": [
           {
            "marker": {
             "colorbar": {
              "outlinewidth": 0,
              "ticks": ""
             }
            },
            "type": "scatter"
           }
          ],
          "scatter3d": [
           {
            "line": {
             "colorbar": {
              "outlinewidth": 0,
              "ticks": ""
             }
            },
            "marker": {
             "colorbar": {
              "outlinewidth": 0,
              "ticks": ""
             }
            },
            "type": "scatter3d"
           }
          ],
          "scattercarpet": [
           {
            "marker": {
             "colorbar": {
              "outlinewidth": 0,
              "ticks": ""
             }
            },
            "type": "scattercarpet"
           }
          ],
          "scattergeo": [
           {
            "marker": {
             "colorbar": {
              "outlinewidth": 0,
              "ticks": ""
             }
            },
            "type": "scattergeo"
           }
          ],
          "scattergl": [
           {
            "marker": {
             "colorbar": {
              "outlinewidth": 0,
              "ticks": ""
             }
            },
            "type": "scattergl"
           }
          ],
          "scattermapbox": [
           {
            "marker": {
             "colorbar": {
              "outlinewidth": 0,
              "ticks": ""
             }
            },
            "type": "scattermapbox"
           }
          ],
          "scatterpolar": [
           {
            "marker": {
             "colorbar": {
              "outlinewidth": 0,
              "ticks": ""
             }
            },
            "type": "scatterpolar"
           }
          ],
          "scatterpolargl": [
           {
            "marker": {
             "colorbar": {
              "outlinewidth": 0,
              "ticks": ""
             }
            },
            "type": "scatterpolargl"
           }
          ],
          "scatterternary": [
           {
            "marker": {
             "colorbar": {
              "outlinewidth": 0,
              "ticks": ""
             }
            },
            "type": "scatterternary"
           }
          ],
          "surface": [
           {
            "colorbar": {
             "outlinewidth": 0,
             "ticks": ""
            },
            "colorscale": [
             [
              0,
              "#0d0887"
             ],
             [
              0.1111111111111111,
              "#46039f"
             ],
             [
              0.2222222222222222,
              "#7201a8"
             ],
             [
              0.3333333333333333,
              "#9c179e"
             ],
             [
              0.4444444444444444,
              "#bd3786"
             ],
             [
              0.5555555555555556,
              "#d8576b"
             ],
             [
              0.6666666666666666,
              "#ed7953"
             ],
             [
              0.7777777777777778,
              "#fb9f3a"
             ],
             [
              0.8888888888888888,
              "#fdca26"
             ],
             [
              1,
              "#f0f921"
             ]
            ],
            "type": "surface"
           }
          ],
          "table": [
           {
            "cells": {
             "fill": {
              "color": "#EBF0F8"
             },
             "line": {
              "color": "white"
             }
            },
            "header": {
             "fill": {
              "color": "#C8D4E3"
             },
             "line": {
              "color": "white"
             }
            },
            "type": "table"
           }
          ]
         },
         "layout": {
          "annotationdefaults": {
           "arrowcolor": "#2a3f5f",
           "arrowhead": 0,
           "arrowwidth": 1
          },
          "autotypenumbers": "strict",
          "coloraxis": {
           "colorbar": {
            "outlinewidth": 0,
            "ticks": ""
           }
          },
          "colorscale": {
           "diverging": [
            [
             0,
             "#8e0152"
            ],
            [
             0.1,
             "#c51b7d"
            ],
            [
             0.2,
             "#de77ae"
            ],
            [
             0.3,
             "#f1b6da"
            ],
            [
             0.4,
             "#fde0ef"
            ],
            [
             0.5,
             "#f7f7f7"
            ],
            [
             0.6,
             "#e6f5d0"
            ],
            [
             0.7,
             "#b8e186"
            ],
            [
             0.8,
             "#7fbc41"
            ],
            [
             0.9,
             "#4d9221"
            ],
            [
             1,
             "#276419"
            ]
           ],
           "sequential": [
            [
             0,
             "#0d0887"
            ],
            [
             0.1111111111111111,
             "#46039f"
            ],
            [
             0.2222222222222222,
             "#7201a8"
            ],
            [
             0.3333333333333333,
             "#9c179e"
            ],
            [
             0.4444444444444444,
             "#bd3786"
            ],
            [
             0.5555555555555556,
             "#d8576b"
            ],
            [
             0.6666666666666666,
             "#ed7953"
            ],
            [
             0.7777777777777778,
             "#fb9f3a"
            ],
            [
             0.8888888888888888,
             "#fdca26"
            ],
            [
             1,
             "#f0f921"
            ]
           ],
           "sequentialminus": [
            [
             0,
             "#0d0887"
            ],
            [
             0.1111111111111111,
             "#46039f"
            ],
            [
             0.2222222222222222,
             "#7201a8"
            ],
            [
             0.3333333333333333,
             "#9c179e"
            ],
            [
             0.4444444444444444,
             "#bd3786"
            ],
            [
             0.5555555555555556,
             "#d8576b"
            ],
            [
             0.6666666666666666,
             "#ed7953"
            ],
            [
             0.7777777777777778,
             "#fb9f3a"
            ],
            [
             0.8888888888888888,
             "#fdca26"
            ],
            [
             1,
             "#f0f921"
            ]
           ]
          },
          "colorway": [
           "#636efa",
           "#EF553B",
           "#00cc96",
           "#ab63fa",
           "#FFA15A",
           "#19d3f3",
           "#FF6692",
           "#B6E880",
           "#FF97FF",
           "#FECB52"
          ],
          "font": {
           "color": "#2a3f5f"
          },
          "geo": {
           "bgcolor": "white",
           "lakecolor": "white",
           "landcolor": "#E5ECF6",
           "showlakes": true,
           "showland": true,
           "subunitcolor": "white"
          },
          "hoverlabel": {
           "align": "left"
          },
          "hovermode": "closest",
          "mapbox": {
           "style": "light"
          },
          "paper_bgcolor": "white",
          "plot_bgcolor": "#E5ECF6",
          "polar": {
           "angularaxis": {
            "gridcolor": "white",
            "linecolor": "white",
            "ticks": ""
           },
           "bgcolor": "#E5ECF6",
           "radialaxis": {
            "gridcolor": "white",
            "linecolor": "white",
            "ticks": ""
           }
          },
          "scene": {
           "xaxis": {
            "backgroundcolor": "#E5ECF6",
            "gridcolor": "white",
            "gridwidth": 2,
            "linecolor": "white",
            "showbackground": true,
            "ticks": "",
            "zerolinecolor": "white"
           },
           "yaxis": {
            "backgroundcolor": "#E5ECF6",
            "gridcolor": "white",
            "gridwidth": 2,
            "linecolor": "white",
            "showbackground": true,
            "ticks": "",
            "zerolinecolor": "white"
           },
           "zaxis": {
            "backgroundcolor": "#E5ECF6",
            "gridcolor": "white",
            "gridwidth": 2,
            "linecolor": "white",
            "showbackground": true,
            "ticks": "",
            "zerolinecolor": "white"
           }
          },
          "shapedefaults": {
           "line": {
            "color": "#2a3f5f"
           }
          },
          "ternary": {
           "aaxis": {
            "gridcolor": "white",
            "linecolor": "white",
            "ticks": ""
           },
           "baxis": {
            "gridcolor": "white",
            "linecolor": "white",
            "ticks": ""
           },
           "bgcolor": "#E5ECF6",
           "caxis": {
            "gridcolor": "white",
            "linecolor": "white",
            "ticks": ""
           }
          },
          "title": {
           "x": 0.05
          },
          "xaxis": {
           "automargin": true,
           "gridcolor": "white",
           "linecolor": "white",
           "ticks": "",
           "title": {
            "standoff": 15
           },
           "zerolinecolor": "white",
           "zerolinewidth": 2
          },
          "yaxis": {
           "automargin": true,
           "gridcolor": "white",
           "linecolor": "white",
           "ticks": "",
           "title": {
            "standoff": 15
           },
           "zerolinecolor": "white",
           "zerolinewidth": 2
          }
         }
        },
        "title": {
         "text": "Women Represetation in Parliament (2018) "
        },
        "updatemenus": [
         {
          "buttons": [
           {
            "args": [
             "Region",
             "ASIA"
            ],
            "label": "ASIA",
            "method": "relayout"
           },
           {
            "args": [
             "Region",
             "EUR"
            ],
            "label": "EUR",
            "method": "relayout"
           },
           {
            "args": [
             "Region",
             "MENA"
            ],
            "label": "MENA",
            "method": "relayout"
           },
           {
            "args": [
             "Region",
             "PAC"
            ],
            "label": "PAC",
            "method": "relayout"
           },
           {
            "args": [
             "Region",
             "AME"
            ],
            "label": "AME",
            "method": "relayout"
           }
          ],
          "direction": "down",
          "pad": {
           "r": 2,
           "t": 2
          },
          "showactive": true,
          "x": 0.0001,
          "xanchor": "center",
          "y": 1.2,
          "yanchor": "top"
         }
        ],
        "xaxis": {
         "anchor": "y",
         "domain": [
          0,
          1
         ],
         "title": {
          "text": "Country"
         }
        },
        "yaxis": {
         "anchor": "x",
         "domain": [
          0,
          1
         ],
         "title": {
          "text": "Representation (%)"
         }
        }
       }
      }
     },
     "metadata": {},
     "output_type": "display_data"
    }
   ],
   "source": [
    "import plotly.express as px\n",
    "\n",
    "fig = px.bar(df_18, x='country', y='women_perc',\n",
    "            labels=dict(country=\"Country\", women_perc=\"Representation (%)\"),\n",
    "            title='Women Represetation in Parliament (2018) ')\n",
    "\n",
    "# Add dropdown\n",
    "fig.update_layout(\n",
    "    updatemenus=[\n",
    "        dict(\n",
    "            buttons=list([\n",
    "                dict(\n",
    "                    args=[\"Region\",\"ASIA\"],\n",
    "                    label=\"ASIA\", #, \"EUR\", \"MENA\", \"PAC\",\"AME\",\"SUB-SAHARAN\"],\n",
    "                    method=\"relayout\"\n",
    "                ),\n",
    "                dict(\n",
    "                    args=[\"Region\", \"EUR\"],\n",
    "                    label=\"EUR\",\n",
    "                    method=\"relayout\"\n",
    "                ),\n",
    "                dict(\n",
    "                    args=[\"Region\", \"MENA\"],\n",
    "                    label=\"MENA\",\n",
    "                    method=\"relayout\"\n",
    "                ),\n",
    "                dict(\n",
    "                    args=[\"Region\", \"PAC\"],\n",
    "                    label=\"PAC\",\n",
    "                    method=\"relayout\"\n",
    "                ),\n",
    "                dict(\n",
    "                    args=[\"Region\", \"AME\"],\n",
    "                    label=\"AME\",\n",
    "                    method=\"relayout\"\n",
    "                )\n",
    "            ]),\n",
    "            direction=\"down\",\n",
    "            pad={\"r\": 2, \"t\": 2},\n",
    "            showactive=True,\n",
    "            x=0.0001,\n",
    "            xanchor=\"center\",\n",
    "            y=1.2,\n",
    "            yanchor=\"top\"\n",
    "        ),\n",
    "    ]\n",
    ")\n",
    "\n",
    "fig.show()"
   ]
  },
  {
   "cell_type": "markdown",
   "metadata": {},
   "source": [
    "### Through the Years"
   ]
  },
  {
   "cell_type": "code",
   "execution_count": 64,
   "metadata": {},
   "outputs": [
    {
     "data": {
      "application/vnd.plotly.v1+json": {
       "config": {
        "plotlyServerURL": "https://plot.ly"
       },
       "data": [
        {
         "hovertemplate": "variable=women_perc<br>Year=%{x}<br>value=%{y}<extra></extra>",
         "legendgroup": "women_perc",
         "line": {
          "color": "#636efa",
          "dash": "solid"
         },
         "marker": {
          "symbol": "circle"
         },
         "mode": "markers+lines",
         "name": "women_perc",
         "orientation": "v",
         "showlegend": true,
         "type": "scatter",
         "x": [
          1945,
          1946,
          1947,
          1948,
          1949,
          1950,
          1951,
          1952,
          1953,
          1954,
          1955,
          1956,
          1957,
          1958,
          1959,
          1960,
          1961,
          1962,
          1963,
          1964,
          1965,
          1966,
          1967,
          1968,
          1969,
          1970,
          1971,
          1972,
          1973,
          1974,
          1975,
          1976,
          1977,
          1978,
          1979,
          1980,
          1981,
          1982,
          1983,
          1984,
          1985,
          1986,
          1987,
          1988,
          1989,
          1990,
          1991,
          1992,
          1993,
          1994,
          1995,
          1996,
          1997,
          1998,
          1999,
          2000,
          2001,
          2002,
          2003,
          2004,
          2005,
          2006,
          2007,
          2008,
          2009,
          2010,
          2011,
          2012,
          2013,
          2014,
          2015,
          2016,
          2017,
          2018
         ],
         "xaxis": "x",
         "y": [
          0.03222222222222222,
          0.03518518518518519,
          0.022727272727272728,
          0.03263157894736842,
          0.04105263157894737,
          0.03666666666666667,
          0.04428571428571428,
          0.049374999999999995,
          0.04714285714285714,
          0.06043478260869565,
          0.03214285714285715,
          0.049166666666666664,
          0.04869565217391305,
          0.043333333333333335,
          0.03142857142857143,
          0.04321428571428571,
          0.03739130434782609,
          0.0504,
          0.07333333333333333,
          0.03962962962962963,
          0.055,
          0.06571428571428571,
          0.06571428571428571,
          0.0408,
          0.04766666666666666,
          0.055,
          0.08444444444444445,
          0.05740740740740741,
          0.06129032258064516,
          0.06875,
          0.09318181818181817,
          0.10366666666666667,
          0.0528125,
          0.05583333333333334,
          0.09131578947368421,
          0.07625,
          0.10709677419354838,
          0.06941176470588235,
          0.07303030303030303,
          0.06974358974358975,
          0.098125,
          0.12387096774193548,
          0.08285714285714285,
          0.08774193548387098,
          0.07767441860465116,
          0.07857142857142858,
          0.10714285714285714,
          0.06770833333333333,
          0.08363636363636363,
          0.11958333333333333,
          0.10815789473684212,
          0.09270270270270271,
          0.10071428571428573,
          0.1431707317073171,
          0.13489795918367348,
          0.10155555555555557,
          0.1545945945945946,
          0.15810344827586206,
          0.13853658536585364,
          0.1446938775510204,
          0.18121951219512195,
          0.16478260869565217,
          0.16164179104477613,
          0.17,
          0.21630434782608693,
          0.17555555555555558,
          0.21145454545454548,
          0.17097560975609755,
          0.2489090909090909,
          0.2172093023255814,
          0.20944444444444446,
          0.19794871794871793,
          0.24533333333333335,
          0.24658536585365853
         ],
         "yaxis": "y"
        },
        {
         "hovertemplate": "variable=RM5<br>Year=%{x}<br>value=%{y}<extra></extra>",
         "legendgroup": "RM5",
         "line": {
          "color": "#EF553B",
          "dash": "solid"
         },
         "marker": {
          "symbol": "circle"
         },
         "mode": "markers+lines",
         "name": "RM5",
         "orientation": "v",
         "showlegend": true,
         "type": "scatter",
         "x": [
          1945,
          1946,
          1947,
          1948,
          1949,
          1950,
          1951,
          1952,
          1953,
          1954,
          1955,
          1956,
          1957,
          1958,
          1959,
          1960,
          1961,
          1962,
          1963,
          1964,
          1965,
          1966,
          1967,
          1968,
          1969,
          1970,
          1971,
          1972,
          1973,
          1974,
          1975,
          1976,
          1977,
          1978,
          1979,
          1980,
          1981,
          1982,
          1983,
          1984,
          1985,
          1986,
          1987,
          1988,
          1989,
          1990,
          1991,
          1992,
          1993,
          1994,
          1995,
          1996,
          1997,
          1998,
          1999,
          2000,
          2001,
          2002,
          2003,
          2004,
          2005,
          2006,
          2007,
          2008,
          2009,
          2010,
          2011,
          2012,
          2013,
          2014,
          2015,
          2016,
          2017,
          2018
         ],
         "xaxis": "x",
         "y": [
          null,
          null,
          null,
          null,
          0.03276377813219918,
          0.03365266702108808,
          0.03547277284119389,
          0.04080231829573935,
          0.04370457393483709,
          0.047581004140786747,
          0.04667624223602484,
          0.047652432712215316,
          0.04751656314699793,
          0.04675465838509317,
          0.04095341614906832,
          0.043167701863354044,
          0.04081262939958592,
          0.04115349896480332,
          0.047153498964803316,
          0.04879371060501495,
          0.05115085346215781,
          0.05681544973544974,
          0.05987830687830688,
          0.05337164021164022,
          0.054979047619047615,
          0.054979047619047615,
          0.058725079365079355,
          0.05706370370370371,
          0.061161768219832734,
          0.0653784348864994,
          0.07301479852286304,
          0.07685924296730748,
          0.075940261485826,
          0.07484886363636363,
          0.07936202153110047,
          0.07597565789473684,
          0.07666167940011319,
          0.07998153234128966,
          0.08342092628068361,
          0.0791064863346647,
          0.0834814863346647,
          0.08683632504434212,
          0.08952540067459422,
          0.09246772716530782,
          0.09405389293752009,
          0.09014317865180581,
          0.08679755653199014,
          0.08376779462722823,
          0.08294668025772677,
          0.0913284632034632,
          0.09724575643654591,
          0.09435772554851503,
          0.1009589160247055,
          0.1128657896388962,
          0.11592871480896423,
          0.11460824697270691,
          0.1269866253510853,
          0.13846445786340056,
          0.13753762859510787,
          0.13949681226857724,
          0.15542960359649052,
          0.15746720641670203,
          0.15817487497048485,
          0.16446755789731413,
          0.17878965195232743,
          0.17765686062441416,
          0.18699124797619282,
          0.18885801171845712,
          0.20463982990027527,
          0.2048208208001742,
          0.21159859857795196,
          0.20889743307678646,
          0.2237689777922336,
          0.2233042327811471
         ],
         "yaxis": "y"
        }
       ],
       "layout": {
        "font": {
         "color": "blue",
         "family": "Courier New"
        },
        "legend": {
         "title": {
          "font": {
           "color": "green"
          },
          "text": "variable"
         },
         "tracegroupgap": 0
        },
        "template": {
         "data": {
          "bar": [
           {
            "error_x": {
             "color": "#2a3f5f"
            },
            "error_y": {
             "color": "#2a3f5f"
            },
            "marker": {
             "line": {
              "color": "#E5ECF6",
              "width": 0.5
             },
             "pattern": {
              "fillmode": "overlay",
              "size": 10,
              "solidity": 0.2
             }
            },
            "type": "bar"
           }
          ],
          "barpolar": [
           {
            "marker": {
             "line": {
              "color": "#E5ECF6",
              "width": 0.5
             },
             "pattern": {
              "fillmode": "overlay",
              "size": 10,
              "solidity": 0.2
             }
            },
            "type": "barpolar"
           }
          ],
          "carpet": [
           {
            "aaxis": {
             "endlinecolor": "#2a3f5f",
             "gridcolor": "white",
             "linecolor": "white",
             "minorgridcolor": "white",
             "startlinecolor": "#2a3f5f"
            },
            "baxis": {
             "endlinecolor": "#2a3f5f",
             "gridcolor": "white",
             "linecolor": "white",
             "minorgridcolor": "white",
             "startlinecolor": "#2a3f5f"
            },
            "type": "carpet"
           }
          ],
          "choropleth": [
           {
            "colorbar": {
             "outlinewidth": 0,
             "ticks": ""
            },
            "type": "choropleth"
           }
          ],
          "contour": [
           {
            "colorbar": {
             "outlinewidth": 0,
             "ticks": ""
            },
            "colorscale": [
             [
              0,
              "#0d0887"
             ],
             [
              0.1111111111111111,
              "#46039f"
             ],
             [
              0.2222222222222222,
              "#7201a8"
             ],
             [
              0.3333333333333333,
              "#9c179e"
             ],
             [
              0.4444444444444444,
              "#bd3786"
             ],
             [
              0.5555555555555556,
              "#d8576b"
             ],
             [
              0.6666666666666666,
              "#ed7953"
             ],
             [
              0.7777777777777778,
              "#fb9f3a"
             ],
             [
              0.8888888888888888,
              "#fdca26"
             ],
             [
              1,
              "#f0f921"
             ]
            ],
            "type": "contour"
           }
          ],
          "contourcarpet": [
           {
            "colorbar": {
             "outlinewidth": 0,
             "ticks": ""
            },
            "type": "contourcarpet"
           }
          ],
          "heatmap": [
           {
            "colorbar": {
             "outlinewidth": 0,
             "ticks": ""
            },
            "colorscale": [
             [
              0,
              "#0d0887"
             ],
             [
              0.1111111111111111,
              "#46039f"
             ],
             [
              0.2222222222222222,
              "#7201a8"
             ],
             [
              0.3333333333333333,
              "#9c179e"
             ],
             [
              0.4444444444444444,
              "#bd3786"
             ],
             [
              0.5555555555555556,
              "#d8576b"
             ],
             [
              0.6666666666666666,
              "#ed7953"
             ],
             [
              0.7777777777777778,
              "#fb9f3a"
             ],
             [
              0.8888888888888888,
              "#fdca26"
             ],
             [
              1,
              "#f0f921"
             ]
            ],
            "type": "heatmap"
           }
          ],
          "heatmapgl": [
           {
            "colorbar": {
             "outlinewidth": 0,
             "ticks": ""
            },
            "colorscale": [
             [
              0,
              "#0d0887"
             ],
             [
              0.1111111111111111,
              "#46039f"
             ],
             [
              0.2222222222222222,
              "#7201a8"
             ],
             [
              0.3333333333333333,
              "#9c179e"
             ],
             [
              0.4444444444444444,
              "#bd3786"
             ],
             [
              0.5555555555555556,
              "#d8576b"
             ],
             [
              0.6666666666666666,
              "#ed7953"
             ],
             [
              0.7777777777777778,
              "#fb9f3a"
             ],
             [
              0.8888888888888888,
              "#fdca26"
             ],
             [
              1,
              "#f0f921"
             ]
            ],
            "type": "heatmapgl"
           }
          ],
          "histogram": [
           {
            "marker": {
             "pattern": {
              "fillmode": "overlay",
              "size": 10,
              "solidity": 0.2
             }
            },
            "type": "histogram"
           }
          ],
          "histogram2d": [
           {
            "colorbar": {
             "outlinewidth": 0,
             "ticks": ""
            },
            "colorscale": [
             [
              0,
              "#0d0887"
             ],
             [
              0.1111111111111111,
              "#46039f"
             ],
             [
              0.2222222222222222,
              "#7201a8"
             ],
             [
              0.3333333333333333,
              "#9c179e"
             ],
             [
              0.4444444444444444,
              "#bd3786"
             ],
             [
              0.5555555555555556,
              "#d8576b"
             ],
             [
              0.6666666666666666,
              "#ed7953"
             ],
             [
              0.7777777777777778,
              "#fb9f3a"
             ],
             [
              0.8888888888888888,
              "#fdca26"
             ],
             [
              1,
              "#f0f921"
             ]
            ],
            "type": "histogram2d"
           }
          ],
          "histogram2dcontour": [
           {
            "colorbar": {
             "outlinewidth": 0,
             "ticks": ""
            },
            "colorscale": [
             [
              0,
              "#0d0887"
             ],
             [
              0.1111111111111111,
              "#46039f"
             ],
             [
              0.2222222222222222,
              "#7201a8"
             ],
             [
              0.3333333333333333,
              "#9c179e"
             ],
             [
              0.4444444444444444,
              "#bd3786"
             ],
             [
              0.5555555555555556,
              "#d8576b"
             ],
             [
              0.6666666666666666,
              "#ed7953"
             ],
             [
              0.7777777777777778,
              "#fb9f3a"
             ],
             [
              0.8888888888888888,
              "#fdca26"
             ],
             [
              1,
              "#f0f921"
             ]
            ],
            "type": "histogram2dcontour"
           }
          ],
          "mesh3d": [
           {
            "colorbar": {
             "outlinewidth": 0,
             "ticks": ""
            },
            "type": "mesh3d"
           }
          ],
          "parcoords": [
           {
            "line": {
             "colorbar": {
              "outlinewidth": 0,
              "ticks": ""
             }
            },
            "type": "parcoords"
           }
          ],
          "pie": [
           {
            "automargin": true,
            "type": "pie"
           }
          ],
          "scatter": [
           {
            "marker": {
             "colorbar": {
              "outlinewidth": 0,
              "ticks": ""
             }
            },
            "type": "scatter"
           }
          ],
          "scatter3d": [
           {
            "line": {
             "colorbar": {
              "outlinewidth": 0,
              "ticks": ""
             }
            },
            "marker": {
             "colorbar": {
              "outlinewidth": 0,
              "ticks": ""
             }
            },
            "type": "scatter3d"
           }
          ],
          "scattercarpet": [
           {
            "marker": {
             "colorbar": {
              "outlinewidth": 0,
              "ticks": ""
             }
            },
            "type": "scattercarpet"
           }
          ],
          "scattergeo": [
           {
            "marker": {
             "colorbar": {
              "outlinewidth": 0,
              "ticks": ""
             }
            },
            "type": "scattergeo"
           }
          ],
          "scattergl": [
           {
            "marker": {
             "colorbar": {
              "outlinewidth": 0,
              "ticks": ""
             }
            },
            "type": "scattergl"
           }
          ],
          "scattermapbox": [
           {
            "marker": {
             "colorbar": {
              "outlinewidth": 0,
              "ticks": ""
             }
            },
            "type": "scattermapbox"
           }
          ],
          "scatterpolar": [
           {
            "marker": {
             "colorbar": {
              "outlinewidth": 0,
              "ticks": ""
             }
            },
            "type": "scatterpolar"
           }
          ],
          "scatterpolargl": [
           {
            "marker": {
             "colorbar": {
              "outlinewidth": 0,
              "ticks": ""
             }
            },
            "type": "scatterpolargl"
           }
          ],
          "scatterternary": [
           {
            "marker": {
             "colorbar": {
              "outlinewidth": 0,
              "ticks": ""
             }
            },
            "type": "scatterternary"
           }
          ],
          "surface": [
           {
            "colorbar": {
             "outlinewidth": 0,
             "ticks": ""
            },
            "colorscale": [
             [
              0,
              "#0d0887"
             ],
             [
              0.1111111111111111,
              "#46039f"
             ],
             [
              0.2222222222222222,
              "#7201a8"
             ],
             [
              0.3333333333333333,
              "#9c179e"
             ],
             [
              0.4444444444444444,
              "#bd3786"
             ],
             [
              0.5555555555555556,
              "#d8576b"
             ],
             [
              0.6666666666666666,
              "#ed7953"
             ],
             [
              0.7777777777777778,
              "#fb9f3a"
             ],
             [
              0.8888888888888888,
              "#fdca26"
             ],
             [
              1,
              "#f0f921"
             ]
            ],
            "type": "surface"
           }
          ],
          "table": [
           {
            "cells": {
             "fill": {
              "color": "#EBF0F8"
             },
             "line": {
              "color": "white"
             }
            },
            "header": {
             "fill": {
              "color": "#C8D4E3"
             },
             "line": {
              "color": "white"
             }
            },
            "type": "table"
           }
          ]
         },
         "layout": {
          "annotationdefaults": {
           "arrowcolor": "#2a3f5f",
           "arrowhead": 0,
           "arrowwidth": 1
          },
          "autotypenumbers": "strict",
          "coloraxis": {
           "colorbar": {
            "outlinewidth": 0,
            "ticks": ""
           }
          },
          "colorscale": {
           "diverging": [
            [
             0,
             "#8e0152"
            ],
            [
             0.1,
             "#c51b7d"
            ],
            [
             0.2,
             "#de77ae"
            ],
            [
             0.3,
             "#f1b6da"
            ],
            [
             0.4,
             "#fde0ef"
            ],
            [
             0.5,
             "#f7f7f7"
            ],
            [
             0.6,
             "#e6f5d0"
            ],
            [
             0.7,
             "#b8e186"
            ],
            [
             0.8,
             "#7fbc41"
            ],
            [
             0.9,
             "#4d9221"
            ],
            [
             1,
             "#276419"
            ]
           ],
           "sequential": [
            [
             0,
             "#0d0887"
            ],
            [
             0.1111111111111111,
             "#46039f"
            ],
            [
             0.2222222222222222,
             "#7201a8"
            ],
            [
             0.3333333333333333,
             "#9c179e"
            ],
            [
             0.4444444444444444,
             "#bd3786"
            ],
            [
             0.5555555555555556,
             "#d8576b"
            ],
            [
             0.6666666666666666,
             "#ed7953"
            ],
            [
             0.7777777777777778,
             "#fb9f3a"
            ],
            [
             0.8888888888888888,
             "#fdca26"
            ],
            [
             1,
             "#f0f921"
            ]
           ],
           "sequentialminus": [
            [
             0,
             "#0d0887"
            ],
            [
             0.1111111111111111,
             "#46039f"
            ],
            [
             0.2222222222222222,
             "#7201a8"
            ],
            [
             0.3333333333333333,
             "#9c179e"
            ],
            [
             0.4444444444444444,
             "#bd3786"
            ],
            [
             0.5555555555555556,
             "#d8576b"
            ],
            [
             0.6666666666666666,
             "#ed7953"
            ],
            [
             0.7777777777777778,
             "#fb9f3a"
            ],
            [
             0.8888888888888888,
             "#fdca26"
            ],
            [
             1,
             "#f0f921"
            ]
           ]
          },
          "colorway": [
           "#636efa",
           "#EF553B",
           "#00cc96",
           "#ab63fa",
           "#FFA15A",
           "#19d3f3",
           "#FF6692",
           "#B6E880",
           "#FF97FF",
           "#FECB52"
          ],
          "font": {
           "color": "#2a3f5f"
          },
          "geo": {
           "bgcolor": "white",
           "lakecolor": "white",
           "landcolor": "#E5ECF6",
           "showlakes": true,
           "showland": true,
           "subunitcolor": "white"
          },
          "hoverlabel": {
           "align": "left"
          },
          "hovermode": "closest",
          "mapbox": {
           "style": "light"
          },
          "paper_bgcolor": "white",
          "plot_bgcolor": "#E5ECF6",
          "polar": {
           "angularaxis": {
            "gridcolor": "white",
            "linecolor": "white",
            "ticks": ""
           },
           "bgcolor": "#E5ECF6",
           "radialaxis": {
            "gridcolor": "white",
            "linecolor": "white",
            "ticks": ""
           }
          },
          "scene": {
           "xaxis": {
            "backgroundcolor": "#E5ECF6",
            "gridcolor": "white",
            "gridwidth": 2,
            "linecolor": "white",
            "showbackground": true,
            "ticks": "",
            "zerolinecolor": "white"
           },
           "yaxis": {
            "backgroundcolor": "#E5ECF6",
            "gridcolor": "white",
            "gridwidth": 2,
            "linecolor": "white",
            "showbackground": true,
            "ticks": "",
            "zerolinecolor": "white"
           },
           "zaxis": {
            "backgroundcolor": "#E5ECF6",
            "gridcolor": "white",
            "gridwidth": 2,
            "linecolor": "white",
            "showbackground": true,
            "ticks": "",
            "zerolinecolor": "white"
           }
          },
          "shapedefaults": {
           "line": {
            "color": "#2a3f5f"
           }
          },
          "ternary": {
           "aaxis": {
            "gridcolor": "white",
            "linecolor": "white",
            "ticks": ""
           },
           "baxis": {
            "gridcolor": "white",
            "linecolor": "white",
            "ticks": ""
           },
           "bgcolor": "#E5ECF6",
           "caxis": {
            "gridcolor": "white",
            "linecolor": "white",
            "ticks": ""
           }
          },
          "title": {
           "x": 0.05
          },
          "xaxis": {
           "automargin": true,
           "gridcolor": "white",
           "linecolor": "white",
           "ticks": "",
           "title": {
            "standoff": 15
           },
           "zerolinecolor": "white",
           "zerolinewidth": 2
          },
          "yaxis": {
           "automargin": true,
           "gridcolor": "white",
           "linecolor": "white",
           "ticks": "",
           "title": {
            "standoff": 15
           },
           "zerolinecolor": "white",
           "zerolinewidth": 2
          }
         }
        },
        "title": {
         "font": {
          "color": "red",
          "family": "Courier New"
         },
         "text": "Women Representation in Parliament from 1948 to 2018 (Average of all Countries)"
        },
        "xaxis": {
         "anchor": "y",
         "domain": [
          0,
          1
         ],
         "title": {
          "text": "Year"
         }
        },
        "yaxis": {
         "anchor": "x",
         "domain": [
          0,
          1
         ],
         "title": {
          "text": "value"
         }
        }
       }
      }
     },
     "metadata": {},
     "output_type": "display_data"
    }
   ],
   "source": [
    "# calculate yearly average of all countries and rolling mean\n",
    "avg_yearly = pd.DataFrame(df.groupby(['year'])['women_perc'].mean())\n",
    "avg_yearly['RM5'] = avg_yearly['women_perc'].rolling(window=5).mean()\n",
    "avg_yearly['year'] = avg_yearly.index\n",
    "avg_yearly\n",
    "\n",
    "fig = px.line(avg_yearly, x='year', y=['women_perc','RM5'],\n",
    "            title='Women Representation in Parliament from 1948 to 2018 (Average of all Countries)',\n",
    "            markers=True,\n",
    "            labels=dict(year='Year')\n",
    "            )\n",
    "\n",
    "\n",
    "fig.update_layout(\n",
    "        font_family=\"Courier New\",\n",
    "        font_color=\"blue\",\n",
    "        title_font_family=\"Courier New\",\n",
    "        title_font_color=\"red\",\n",
    "        legend_title_font_color=\"green\"\n",
    "    )\n",
    "\n",
    "fig.show()"
   ]
  },
  {
   "cell_type": "code",
   "execution_count": null,
   "metadata": {},
   "outputs": [],
   "source": []
  },
  {
   "cell_type": "code",
   "execution_count": 39,
   "metadata": {},
   "outputs": [
    {
     "data": {
      "application/vnd.plotly.v1+json": {
       "config": {
        "plotlyServerURL": "https://plot.ly"
       },
       "data": [
        {
         "hovertemplate": "Year=%{x}<br>Women in Parliament(%)=%{y}<extra></extra>",
         "legendgroup": "",
         "line": {
          "color": "#636efa",
          "dash": "solid"
         },
         "marker": {
          "symbol": "circle"
         },
         "mode": "lines",
         "name": "",
         "orientation": "v",
         "showlegend": false,
         "type": "scatter",
         "x": [
          1946,
          1950,
          1951,
          1952,
          1956,
          1958,
          1961,
          1963,
          1964,
          1974,
          1977,
          1981,
          1985,
          1989,
          1989,
          1990,
          1993,
          1996,
          2000,
          2004,
          2007,
          2007,
          2009,
          2012,
          2015
         ],
         "xaxis": "x",
         "y": [
          0,
          0,
          0,
          0.003334,
          0.006668,
          0.013336,
          0.006668,
          0.003334,
          0.006668,
          0.02,
          0.03333,
          0.04333,
          0.04333,
          0.04,
          0.06665,
          0.04666,
          0.06,
          0.06335,
          0.0867,
          0.14,
          0.16,
          0.1466,
          0.1733,
          0.21,
          0.23
         ],
         "yaxis": "y"
        }
       ],
       "layout": {
        "font": {
         "color": "blue",
         "family": "Courier New"
        },
        "legend": {
         "title": {
          "font": {
           "color": "green"
          }
         },
         "tracegroupgap": 0
        },
        "template": {
         "data": {
          "bar": [
           {
            "error_x": {
             "color": "#2a3f5f"
            },
            "error_y": {
             "color": "#2a3f5f"
            },
            "marker": {
             "line": {
              "color": "#E5ECF6",
              "width": 0.5
             },
             "pattern": {
              "fillmode": "overlay",
              "size": 10,
              "solidity": 0.2
             }
            },
            "type": "bar"
           }
          ],
          "barpolar": [
           {
            "marker": {
             "line": {
              "color": "#E5ECF6",
              "width": 0.5
             },
             "pattern": {
              "fillmode": "overlay",
              "size": 10,
              "solidity": 0.2
             }
            },
            "type": "barpolar"
           }
          ],
          "carpet": [
           {
            "aaxis": {
             "endlinecolor": "#2a3f5f",
             "gridcolor": "white",
             "linecolor": "white",
             "minorgridcolor": "white",
             "startlinecolor": "#2a3f5f"
            },
            "baxis": {
             "endlinecolor": "#2a3f5f",
             "gridcolor": "white",
             "linecolor": "white",
             "minorgridcolor": "white",
             "startlinecolor": "#2a3f5f"
            },
            "type": "carpet"
           }
          ],
          "choropleth": [
           {
            "colorbar": {
             "outlinewidth": 0,
             "ticks": ""
            },
            "type": "choropleth"
           }
          ],
          "contour": [
           {
            "colorbar": {
             "outlinewidth": 0,
             "ticks": ""
            },
            "colorscale": [
             [
              0,
              "#0d0887"
             ],
             [
              0.1111111111111111,
              "#46039f"
             ],
             [
              0.2222222222222222,
              "#7201a8"
             ],
             [
              0.3333333333333333,
              "#9c179e"
             ],
             [
              0.4444444444444444,
              "#bd3786"
             ],
             [
              0.5555555555555556,
              "#d8576b"
             ],
             [
              0.6666666666666666,
              "#ed7953"
             ],
             [
              0.7777777777777778,
              "#fb9f3a"
             ],
             [
              0.8888888888888888,
              "#fdca26"
             ],
             [
              1,
              "#f0f921"
             ]
            ],
            "type": "contour"
           }
          ],
          "contourcarpet": [
           {
            "colorbar": {
             "outlinewidth": 0,
             "ticks": ""
            },
            "type": "contourcarpet"
           }
          ],
          "heatmap": [
           {
            "colorbar": {
             "outlinewidth": 0,
             "ticks": ""
            },
            "colorscale": [
             [
              0,
              "#0d0887"
             ],
             [
              0.1111111111111111,
              "#46039f"
             ],
             [
              0.2222222222222222,
              "#7201a8"
             ],
             [
              0.3333333333333333,
              "#9c179e"
             ],
             [
              0.4444444444444444,
              "#bd3786"
             ],
             [
              0.5555555555555556,
              "#d8576b"
             ],
             [
              0.6666666666666666,
              "#ed7953"
             ],
             [
              0.7777777777777778,
              "#fb9f3a"
             ],
             [
              0.8888888888888888,
              "#fdca26"
             ],
             [
              1,
              "#f0f921"
             ]
            ],
            "type": "heatmap"
           }
          ],
          "heatmapgl": [
           {
            "colorbar": {
             "outlinewidth": 0,
             "ticks": ""
            },
            "colorscale": [
             [
              0,
              "#0d0887"
             ],
             [
              0.1111111111111111,
              "#46039f"
             ],
             [
              0.2222222222222222,
              "#7201a8"
             ],
             [
              0.3333333333333333,
              "#9c179e"
             ],
             [
              0.4444444444444444,
              "#bd3786"
             ],
             [
              0.5555555555555556,
              "#d8576b"
             ],
             [
              0.6666666666666666,
              "#ed7953"
             ],
             [
              0.7777777777777778,
              "#fb9f3a"
             ],
             [
              0.8888888888888888,
              "#fdca26"
             ],
             [
              1,
              "#f0f921"
             ]
            ],
            "type": "heatmapgl"
           }
          ],
          "histogram": [
           {
            "marker": {
             "pattern": {
              "fillmode": "overlay",
              "size": 10,
              "solidity": 0.2
             }
            },
            "type": "histogram"
           }
          ],
          "histogram2d": [
           {
            "colorbar": {
             "outlinewidth": 0,
             "ticks": ""
            },
            "colorscale": [
             [
              0,
              "#0d0887"
             ],
             [
              0.1111111111111111,
              "#46039f"
             ],
             [
              0.2222222222222222,
              "#7201a8"
             ],
             [
              0.3333333333333333,
              "#9c179e"
             ],
             [
              0.4444444444444444,
              "#bd3786"
             ],
             [
              0.5555555555555556,
              "#d8576b"
             ],
             [
              0.6666666666666666,
              "#ed7953"
             ],
             [
              0.7777777777777778,
              "#fb9f3a"
             ],
             [
              0.8888888888888888,
              "#fdca26"
             ],
             [
              1,
              "#f0f921"
             ]
            ],
            "type": "histogram2d"
           }
          ],
          "histogram2dcontour": [
           {
            "colorbar": {
             "outlinewidth": 0,
             "ticks": ""
            },
            "colorscale": [
             [
              0,
              "#0d0887"
             ],
             [
              0.1111111111111111,
              "#46039f"
             ],
             [
              0.2222222222222222,
              "#7201a8"
             ],
             [
              0.3333333333333333,
              "#9c179e"
             ],
             [
              0.4444444444444444,
              "#bd3786"
             ],
             [
              0.5555555555555556,
              "#d8576b"
             ],
             [
              0.6666666666666666,
              "#ed7953"
             ],
             [
              0.7777777777777778,
              "#fb9f3a"
             ],
             [
              0.8888888888888888,
              "#fdca26"
             ],
             [
              1,
              "#f0f921"
             ]
            ],
            "type": "histogram2dcontour"
           }
          ],
          "mesh3d": [
           {
            "colorbar": {
             "outlinewidth": 0,
             "ticks": ""
            },
            "type": "mesh3d"
           }
          ],
          "parcoords": [
           {
            "line": {
             "colorbar": {
              "outlinewidth": 0,
              "ticks": ""
             }
            },
            "type": "parcoords"
           }
          ],
          "pie": [
           {
            "automargin": true,
            "type": "pie"
           }
          ],
          "scatter": [
           {
            "marker": {
             "colorbar": {
              "outlinewidth": 0,
              "ticks": ""
             }
            },
            "type": "scatter"
           }
          ],
          "scatter3d": [
           {
            "line": {
             "colorbar": {
              "outlinewidth": 0,
              "ticks": ""
             }
            },
            "marker": {
             "colorbar": {
              "outlinewidth": 0,
              "ticks": ""
             }
            },
            "type": "scatter3d"
           }
          ],
          "scattercarpet": [
           {
            "marker": {
             "colorbar": {
              "outlinewidth": 0,
              "ticks": ""
             }
            },
            "type": "scattercarpet"
           }
          ],
          "scattergeo": [
           {
            "marker": {
             "colorbar": {
              "outlinewidth": 0,
              "ticks": ""
             }
            },
            "type": "scattergeo"
           }
          ],
          "scattergl": [
           {
            "marker": {
             "colorbar": {
              "outlinewidth": 0,
              "ticks": ""
             }
            },
            "type": "scattergl"
           }
          ],
          "scattermapbox": [
           {
            "marker": {
             "colorbar": {
              "outlinewidth": 0,
              "ticks": ""
             }
            },
            "type": "scattermapbox"
           }
          ],
          "scatterpolar": [
           {
            "marker": {
             "colorbar": {
              "outlinewidth": 0,
              "ticks": ""
             }
            },
            "type": "scatterpolar"
           }
          ],
          "scatterpolargl": [
           {
            "marker": {
             "colorbar": {
              "outlinewidth": 0,
              "ticks": ""
             }
            },
            "type": "scatterpolargl"
           }
          ],
          "scatterternary": [
           {
            "marker": {
             "colorbar": {
              "outlinewidth": 0,
              "ticks": ""
             }
            },
            "type": "scatterternary"
           }
          ],
          "surface": [
           {
            "colorbar": {
             "outlinewidth": 0,
             "ticks": ""
            },
            "colorscale": [
             [
              0,
              "#0d0887"
             ],
             [
              0.1111111111111111,
              "#46039f"
             ],
             [
              0.2222222222222222,
              "#7201a8"
             ],
             [
              0.3333333333333333,
              "#9c179e"
             ],
             [
              0.4444444444444444,
              "#bd3786"
             ],
             [
              0.5555555555555556,
              "#d8576b"
             ],
             [
              0.6666666666666666,
              "#ed7953"
             ],
             [
              0.7777777777777778,
              "#fb9f3a"
             ],
             [
              0.8888888888888888,
              "#fdca26"
             ],
             [
              1,
              "#f0f921"
             ]
            ],
            "type": "surface"
           }
          ],
          "table": [
           {
            "cells": {
             "fill": {
              "color": "#EBF0F8"
             },
             "line": {
              "color": "white"
             }
            },
            "header": {
             "fill": {
              "color": "#C8D4E3"
             },
             "line": {
              "color": "white"
             }
            },
            "type": "table"
           }
          ]
         },
         "layout": {
          "annotationdefaults": {
           "arrowcolor": "#2a3f5f",
           "arrowhead": 0,
           "arrowwidth": 1
          },
          "autotypenumbers": "strict",
          "coloraxis": {
           "colorbar": {
            "outlinewidth": 0,
            "ticks": ""
           }
          },
          "colorscale": {
           "diverging": [
            [
             0,
             "#8e0152"
            ],
            [
             0.1,
             "#c51b7d"
            ],
            [
             0.2,
             "#de77ae"
            ],
            [
             0.3,
             "#f1b6da"
            ],
            [
             0.4,
             "#fde0ef"
            ],
            [
             0.5,
             "#f7f7f7"
            ],
            [
             0.6,
             "#e6f5d0"
            ],
            [
             0.7,
             "#b8e186"
            ],
            [
             0.8,
             "#7fbc41"
            ],
            [
             0.9,
             "#4d9221"
            ],
            [
             1,
             "#276419"
            ]
           ],
           "sequential": [
            [
             0,
             "#0d0887"
            ],
            [
             0.1111111111111111,
             "#46039f"
            ],
            [
             0.2222222222222222,
             "#7201a8"
            ],
            [
             0.3333333333333333,
             "#9c179e"
            ],
            [
             0.4444444444444444,
             "#bd3786"
            ],
            [
             0.5555555555555556,
             "#d8576b"
            ],
            [
             0.6666666666666666,
             "#ed7953"
            ],
            [
             0.7777777777777778,
             "#fb9f3a"
            ],
            [
             0.8888888888888888,
             "#fdca26"
            ],
            [
             1,
             "#f0f921"
            ]
           ],
           "sequentialminus": [
            [
             0,
             "#0d0887"
            ],
            [
             0.1111111111111111,
             "#46039f"
            ],
            [
             0.2222222222222222,
             "#7201a8"
            ],
            [
             0.3333333333333333,
             "#9c179e"
            ],
            [
             0.4444444444444444,
             "#bd3786"
            ],
            [
             0.5555555555555556,
             "#d8576b"
            ],
            [
             0.6666666666666666,
             "#ed7953"
            ],
            [
             0.7777777777777778,
             "#fb9f3a"
            ],
            [
             0.8888888888888888,
             "#fdca26"
            ],
            [
             1,
             "#f0f921"
            ]
           ]
          },
          "colorway": [
           "#636efa",
           "#EF553B",
           "#00cc96",
           "#ab63fa",
           "#FFA15A",
           "#19d3f3",
           "#FF6692",
           "#B6E880",
           "#FF97FF",
           "#FECB52"
          ],
          "font": {
           "color": "#2a3f5f"
          },
          "geo": {
           "bgcolor": "white",
           "lakecolor": "white",
           "landcolor": "#E5ECF6",
           "showlakes": true,
           "showland": true,
           "subunitcolor": "white"
          },
          "hoverlabel": {
           "align": "left"
          },
          "hovermode": "closest",
          "mapbox": {
           "style": "light"
          },
          "paper_bgcolor": "white",
          "plot_bgcolor": "#E5ECF6",
          "polar": {
           "angularaxis": {
            "gridcolor": "white",
            "linecolor": "white",
            "ticks": ""
           },
           "bgcolor": "#E5ECF6",
           "radialaxis": {
            "gridcolor": "white",
            "linecolor": "white",
            "ticks": ""
           }
          },
          "scene": {
           "xaxis": {
            "backgroundcolor": "#E5ECF6",
            "gridcolor": "white",
            "gridwidth": 2,
            "linecolor": "white",
            "showbackground": true,
            "ticks": "",
            "zerolinecolor": "white"
           },
           "yaxis": {
            "backgroundcolor": "#E5ECF6",
            "gridcolor": "white",
            "gridwidth": 2,
            "linecolor": "white",
            "showbackground": true,
            "ticks": "",
            "zerolinecolor": "white"
           },
           "zaxis": {
            "backgroundcolor": "#E5ECF6",
            "gridcolor": "white",
            "gridwidth": 2,
            "linecolor": "white",
            "showbackground": true,
            "ticks": "",
            "zerolinecolor": "white"
           }
          },
          "shapedefaults": {
           "line": {
            "color": "#2a3f5f"
           }
          },
          "ternary": {
           "aaxis": {
            "gridcolor": "white",
            "linecolor": "white",
            "ticks": ""
           },
           "baxis": {
            "gridcolor": "white",
            "linecolor": "white",
            "ticks": ""
           },
           "bgcolor": "#E5ECF6",
           "caxis": {
            "gridcolor": "white",
            "linecolor": "white",
            "ticks": ""
           }
          },
          "title": {
           "x": 0.05
          },
          "xaxis": {
           "automargin": true,
           "gridcolor": "white",
           "linecolor": "white",
           "ticks": "",
           "title": {
            "standoff": 15
           },
           "zerolinecolor": "white",
           "zerolinewidth": 2
          },
          "yaxis": {
           "automargin": true,
           "gridcolor": "white",
           "linecolor": "white",
           "ticks": "",
           "title": {
            "standoff": 15
           },
           "zerolinecolor": "white",
           "zerolinewidth": 2
          }
         }
        },
        "title": {
         "font": {
          "color": "red",
          "family": "Courier New"
         },
         "text": "Greece - Women Representation in Parliament"
        },
        "xaxis": {
         "anchor": "y",
         "domain": [
          0,
          1
         ],
         "title": {
          "text": "Year"
         }
        },
        "yaxis": {
         "anchor": "x",
         "domain": [
          0,
          1
         ],
         "title": {
          "text": "Women in Parliament(%)"
         }
        }
       }
      }
     },
     "metadata": {},
     "output_type": "display_data"
    }
   ],
   "source": [
    "import plotly.express as px\n",
    "\n",
    "country = 'Greece'\n",
    "df_ = df.query(\"country == @country\")\n",
    "fig = px.line(df_, x=\"year\", y=\"women_perc\", \n",
    "            title='{} - Women Representation in Parliament'.format(country),\n",
    "            labels=dict(women_perc='Women in Parliament(%)', year=\"Year\")\n",
    "            )\n",
    "fig.update_layout(\n",
    "        font_family=\"Courier New\",\n",
    "        font_color=\"blue\",\n",
    "        title_font_family=\"Courier New\",\n",
    "        title_font_color=\"red\",\n",
    "        legend_title_font_color=\"green\"\n",
    "    )\n",
    "fig.show()\n"
   ]
  },
  {
   "cell_type": "code",
   "execution_count": 4,
   "metadata": {},
   "outputs": [
    {
     "data": {
      "application/vnd.plotly.v1+json": {
       "config": {
        "plotlyServerURL": "https://plot.ly"
       },
       "data": [
        {
         "hovertemplate": "country=Afghanistan<br>Year=%{x}<br>Women in Parliament(%)=%{y}<extra></extra>",
         "legendgroup": "Afghanistan",
         "line": {
          "color": "#636efa",
          "dash": "solid"
         },
         "marker": {
          "symbol": "circle"
         },
         "mode": "lines+markers",
         "name": "Afghanistan",
         "orientation": "v",
         "showlegend": true,
         "type": "scatter",
         "x": [
          2005,
          2010,
          2018
         ],
         "xaxis": "x",
         "y": [
          0.2732,
          0.277,
          0.2788
         ],
         "yaxis": "y"
        },
        {
         "hovertemplate": "country=Armenia<br>Year=%{x}<br>Women in Parliament(%)=%{y}<extra></extra>",
         "legendgroup": "Armenia",
         "line": {
          "color": "#EF553B",
          "dash": "solid"
         },
         "marker": {
          "symbol": "circle"
         },
         "mode": "lines+markers",
         "name": "Armenia",
         "orientation": "v",
         "showlegend": true,
         "type": "scatter",
         "x": [
          2003,
          2007,
          2007,
          2012
         ],
         "xaxis": "x",
         "y": [
          0.0458,
          0.0923,
          0.0916,
          0.1069
         ],
         "yaxis": "y"
        },
        {
         "hovertemplate": "country=Bhutan<br>Year=%{x}<br>Women in Parliament(%)=%{y}<extra></extra>",
         "legendgroup": "Bhutan",
         "line": {
          "color": "#00cc96",
          "dash": "solid"
         },
         "marker": {
          "symbol": "circle"
         },
         "mode": "lines+markers",
         "name": "Bhutan",
         "orientation": "v",
         "showlegend": true,
         "type": "scatter",
         "x": [
          2008,
          2013,
          2018
         ],
         "xaxis": "x",
         "y": [
          0.0851,
          0.06384,
          0.1489
         ],
         "yaxis": "y"
        },
        {
         "hovertemplate": "country=Brunei Darussalam<br>Year=%{x}<br>Women in Parliament(%)=%{y}<extra></extra>",
         "legendgroup": "Brunei Darussalam",
         "line": {
          "color": "#ab63fa",
          "dash": "solid"
         },
         "marker": {
          "symbol": "circle"
         },
         "mode": "lines+markers",
         "name": "Brunei Darussalam",
         "orientation": "v",
         "showlegend": true,
         "type": "scatter",
         "x": [
          2016,
          2017
         ],
         "xaxis": "x",
         "y": [
          0.0645,
          0.0909
         ],
         "yaxis": "y"
        },
        {
         "hovertemplate": "country=Cambodia<br>Year=%{x}<br>Women in Parliament(%)=%{y}<extra></extra>",
         "legendgroup": "Cambodia",
         "line": {
          "color": "#FFA15A",
          "dash": "solid"
         },
         "marker": {
          "symbol": "circle"
         },
         "mode": "lines+markers",
         "name": "Cambodia",
         "orientation": "v",
         "showlegend": true,
         "type": "scatter",
         "x": [
          2003,
          2008,
          2013,
          2018
         ],
         "xaxis": "x",
         "y": [
          0.09753,
          0.1626,
          0.2032,
          0.152
         ],
         "yaxis": "y"
        },
        {
         "hovertemplate": "country=Democratic People's Republic of Korea<br>Year=%{x}<br>Women in Parliament(%)=%{y}<extra></extra>",
         "legendgroup": "Democratic People's Republic of Korea",
         "line": {
          "color": "#19d3f3",
          "dash": "solid"
         },
         "marker": {
          "symbol": "circle"
         },
         "mode": "lines+markers",
         "name": "Democratic People's Republic of Korea",
         "orientation": "v",
         "showlegend": true,
         "type": "scatter",
         "x": [
          2003,
          2008,
          2014
         ],
         "xaxis": "x",
         "y": [
          0.2009,
          0.1367,
          0.1631
         ],
         "yaxis": "y"
        },
        {
         "hovertemplate": "country=India<br>Year=%{x}<br>Women in Parliament(%)=%{y}<extra></extra>",
         "legendgroup": "India",
         "line": {
          "color": "#FF6692",
          "dash": "solid"
         },
         "marker": {
          "symbol": "circle"
         },
         "mode": "lines+markers",
         "name": "India",
         "orientation": "v",
         "showlegend": true,
         "type": "scatter",
         "x": [
          2004,
          2009,
          2014,
          2015
         ],
         "xaxis": "x",
         "y": [
          0.0829,
          0.1083,
          0.1142,
          0.1193
         ],
         "yaxis": "y"
        },
        {
         "hovertemplate": "country=Indonesia<br>Year=%{x}<br>Women in Parliament(%)=%{y}<extra></extra>",
         "legendgroup": "Indonesia",
         "line": {
          "color": "#B6E880",
          "dash": "solid"
         },
         "marker": {
          "symbol": "circle"
         },
         "mode": "lines+markers",
         "name": "Indonesia",
         "orientation": "v",
         "showlegend": true,
         "type": "scatter",
         "x": [
          2004,
          2009,
          2009,
          2014
         ],
         "xaxis": "x",
         "y": [
          0.11273,
          0.166,
          0.1786,
          0.1678
         ],
         "yaxis": "y"
        },
        {
         "hovertemplate": "country=Iran (Islamic Republic of)<br>Year=%{x}<br>Women in Parliament(%)=%{y}<extra></extra>",
         "legendgroup": "Iran (Islamic Republic of)",
         "line": {
          "color": "#FF97FF",
          "dash": "solid"
         },
         "marker": {
          "symbol": "circle"
         },
         "mode": "lines+markers",
         "name": "Iran (Islamic Republic of)",
         "orientation": "v",
         "showlegend": true,
         "type": "scatter",
         "x": [
          2000,
          2004,
          2008,
          2012,
          2016,
          2016
         ],
         "xaxis": "x",
         "y": [
          0.0345,
          0.04138,
          0.02759,
          0.03104,
          0.03104,
          0.05884
         ],
         "yaxis": "y"
        },
        {
         "hovertemplate": "country=Israel<br>Year=%{x}<br>Women in Parliament(%)=%{y}<extra></extra>",
         "legendgroup": "Israel",
         "line": {
          "color": "#FECB52",
          "dash": "solid"
         },
         "marker": {
          "symbol": "circle"
         },
         "mode": "lines+markers",
         "name": "Israel",
         "orientation": "v",
         "showlegend": true,
         "type": "scatter",
         "x": [
          2003,
          2006,
          2009,
          2013,
          2013,
          2015,
          2015,
          2015,
          2015,
          2015
         ],
         "xaxis": "x",
         "y": [
          0.15,
          0.1417,
          0.175,
          0.2167,
          0.225,
          0.225,
          0.2417,
          0.25,
          0.2583,
          0.2666
         ],
         "yaxis": "y"
        },
        {
         "hovertemplate": "country=Japan<br>Year=%{x}<br>Women in Parliament(%)=%{y}<extra></extra>",
         "legendgroup": "Japan",
         "line": {
          "color": "#636efa",
          "dash": "solid"
         },
         "marker": {
          "symbol": "circle"
         },
         "mode": "lines+markers",
         "name": "Japan",
         "orientation": "v",
         "showlegend": true,
         "type": "scatter",
         "x": [
          2000,
          2003,
          2005,
          2005,
          2009,
          2012,
          2014
         ],
         "xaxis": "x",
         "y": [
          0.07294,
          0.07086,
          0.071,
          0.0896,
          0.1125,
          0.07916,
          0.0947
         ],
         "yaxis": "y"
        },
        {
         "hovertemplate": "country=Lao People's Democratic Republic<br>Year=%{x}<br>Women in Parliament(%)=%{y}<extra></extra>",
         "legendgroup": "Lao People's Democratic Republic",
         "line": {
          "color": "#EF553B",
          "dash": "solid"
         },
         "marker": {
          "symbol": "circle"
         },
         "mode": "lines+markers",
         "name": "Lao People's Democratic Republic",
         "orientation": "v",
         "showlegend": true,
         "type": "scatter",
         "x": [
          2002,
          2006,
          2011,
          2016
         ],
         "xaxis": "x",
         "y": [
          0.2294,
          0.2522,
          0.25,
          0.2751
         ],
         "yaxis": "y"
        },
        {
         "hovertemplate": "country=Malaysia<br>Year=%{x}<br>Women in Parliament(%)=%{y}<extra></extra>",
         "legendgroup": "Malaysia",
         "line": {
          "color": "#00cc96",
          "dash": "solid"
         },
         "marker": {
          "symbol": "circle"
         },
         "mode": "lines+markers",
         "name": "Malaysia",
         "orientation": "v",
         "showlegend": true,
         "type": "scatter",
         "x": [
          2004,
          2008,
          2013,
          2018
         ],
         "xaxis": "x",
         "y": [
          0.0913,
          0.1081,
          0.1036,
          0.139
         ],
         "yaxis": "y"
        },
        {
         "hovertemplate": "country=Maldives<br>Year=%{x}<br>Women in Parliament(%)=%{y}<extra></extra>",
         "legendgroup": "Maldives",
         "line": {
          "color": "#ab63fa",
          "dash": "solid"
         },
         "marker": {
          "symbol": "circle"
         },
         "mode": "lines+markers",
         "name": "Maldives",
         "orientation": "v",
         "showlegend": true,
         "type": "scatter",
         "x": [
          2005,
          2009,
          2014
         ],
         "xaxis": "x",
         "y": [
          0.12,
          0.06494,
          0.05884
         ],
         "yaxis": "y"
        },
        {
         "hovertemplate": "country=Mongolia<br>Year=%{x}<br>Women in Parliament(%)=%{y}<extra></extra>",
         "legendgroup": "Mongolia",
         "line": {
          "color": "#FFA15A",
          "dash": "solid"
         },
         "marker": {
          "symbol": "circle"
         },
         "mode": "lines+markers",
         "name": "Mongolia",
         "orientation": "v",
         "showlegend": true,
         "type": "scatter",
         "x": [
          2000,
          2004,
          2008,
          2008,
          2008,
          2008,
          2012,
          2016,
          2016
         ],
         "xaxis": "x",
         "y": [
          0.1053,
          0.06757,
          0.087,
          0.0303,
          0.04544,
          0.04166,
          0.1305,
          0.1448,
          0.171
         ],
         "yaxis": "y"
        },
        {
         "hovertemplate": "country=Myanmar<br>Year=%{x}<br>Women in Parliament(%)=%{y}<extra></extra>",
         "legendgroup": "Myanmar",
         "line": {
          "color": "#19d3f3",
          "dash": "solid"
         },
         "marker": {
          "symbol": "circle"
         },
         "mode": "lines+markers",
         "name": "Myanmar",
         "orientation": "v",
         "showlegend": true,
         "type": "scatter",
         "x": [
          2010,
          2015
         ],
         "xaxis": "x",
         "y": [
          0.04294,
          0.127
         ],
         "yaxis": "y"
        },
        {
         "hovertemplate": "country=Nepal<br>Year=%{x}<br>Women in Parliament(%)=%{y}<extra></extra>",
         "legendgroup": "Nepal",
         "line": {
          "color": "#FF6692",
          "dash": "solid"
         },
         "marker": {
          "symbol": "circle"
         },
         "mode": "lines+markers",
         "name": "Nepal",
         "orientation": "v",
         "showlegend": true,
         "type": "scatter",
         "x": [
          2007,
          2008,
          2008,
          2008,
          2013
         ],
         "xaxis": "x",
         "y": [
          0.1732,
          0.3362,
          0.328,
          0.3315,
          0.3315
         ],
         "yaxis": "y"
        },
        {
         "hovertemplate": "country=Pakistan<br>Year=%{x}<br>Women in Parliament(%)=%{y}<extra></extra>",
         "legendgroup": "Pakistan",
         "line": {
          "color": "#B6E880",
          "dash": "solid"
         },
         "marker": {
          "symbol": "circle"
         },
         "mode": "lines+markers",
         "name": "Pakistan",
         "orientation": "v",
         "showlegend": true,
         "type": "scatter",
         "x": [
          2002,
          2002,
          2008,
          2013,
          2018
         ],
         "xaxis": "x",
         "y": [
          0.2164,
          0.2106,
          0.2249,
          0.2074,
          0.2024
         ],
         "yaxis": "y"
        },
        {
         "hovertemplate": "country=Philippines<br>Year=%{x}<br>Women in Parliament(%)=%{y}<extra></extra>",
         "legendgroup": "Philippines",
         "line": {
          "color": "#FF97FF",
          "dash": "solid"
         },
         "marker": {
          "symbol": "circle"
         },
         "mode": "lines+markers",
         "name": "Philippines",
         "orientation": "v",
         "showlegend": true,
         "type": "scatter",
         "x": [
          2001,
          2004,
          2007,
          2007,
          2010,
          2013,
          2016,
          2016
         ],
         "xaxis": "x",
         "y": [
          0.1776,
          0.1637,
          0.2246,
          0.2042,
          0.214,
          0.2734,
          0.2725,
          0.2979
         ],
         "yaxis": "y"
        },
        {
         "hovertemplate": "country=Republic of Korea<br>Year=%{x}<br>Women in Parliament(%)=%{y}<extra></extra>",
         "legendgroup": "Republic of Korea",
         "line": {
          "color": "#FECB52",
          "dash": "solid"
         },
         "marker": {
          "symbol": "circle"
         },
         "mode": "lines+markers",
         "name": "Republic of Korea",
         "orientation": "v",
         "showlegend": true,
         "type": "scatter",
         "x": [
          2000,
          2000,
          2000,
          2004,
          2004,
          2008,
          2012,
          2016,
          2016
         ],
         "xaxis": "x",
         "y": [
          0.04013,
          0.03662,
          0.0586,
          0.05536,
          null,
          0.1371,
          0.1566,
          0.1633,
          0.17
         ],
         "yaxis": "y"
        },
        {
         "hovertemplate": "country=Singapore<br>Year=%{x}<br>Women in Parliament(%)=%{y}<extra></extra>",
         "legendgroup": "Singapore",
         "line": {
          "color": "#636efa",
          "dash": "solid"
         },
         "marker": {
          "symbol": "circle"
         },
         "mode": "lines+markers",
         "name": "Singapore",
         "orientation": "v",
         "showlegend": true,
         "type": "scatter",
         "x": [
          2001,
          2006,
          2011,
          2015
         ],
         "xaxis": "x",
         "y": [
          0.1177,
          0.2118,
          0.2222,
          0.2391
         ],
         "yaxis": "y"
        },
        {
         "hovertemplate": "country=Sri Lanka<br>Year=%{x}<br>Women in Parliament(%)=%{y}<extra></extra>",
         "legendgroup": "Sri Lanka",
         "line": {
          "color": "#EF553B",
          "dash": "solid"
         },
         "marker": {
          "symbol": "circle"
         },
         "mode": "lines+markers",
         "name": "Sri Lanka",
         "orientation": "v",
         "showlegend": true,
         "type": "scatter",
         "x": [
          2000,
          2001,
          2004,
          2010,
          2015
         ],
         "xaxis": "x",
         "y": [
          0.04,
          0.04443,
          0.0489,
          0.05334,
          0.0489
         ],
         "yaxis": "y"
        },
        {
         "hovertemplate": "country=Thailand<br>Year=%{x}<br>Women in Parliament(%)=%{y}<extra></extra>",
         "legendgroup": "Thailand",
         "line": {
          "color": "#00cc96",
          "dash": "solid"
         },
         "marker": {
          "symbol": "circle"
         },
         "mode": "lines+markers",
         "name": "Thailand",
         "orientation": "v",
         "showlegend": true,
         "type": "scatter",
         "x": [
          2001,
          2005,
          2007,
          2011,
          2014
         ],
         "xaxis": "x",
         "y": [
          0.092,
          0.106,
          0.1174,
          0.158,
          0.0609
         ],
         "yaxis": "y"
        },
        {
         "hovertemplate": "country=Timor-Leste<br>Year=%{x}<br>Women in Parliament(%)=%{y}<extra></extra>",
         "legendgroup": "Timor-Leste",
         "line": {
          "color": "#ab63fa",
          "dash": "solid"
         },
         "marker": {
          "symbol": "circle"
         },
         "mode": "lines+markers",
         "name": "Timor-Leste",
         "orientation": "v",
         "showlegend": true,
         "type": "scatter",
         "x": [
          2001,
          2007,
          2007,
          2012,
          2017,
          2018
         ],
         "xaxis": "x",
         "y": [
          0.25,
          0.2769,
          0.2922,
          0.3845,
          0.323,
          0.338
         ],
         "yaxis": "y"
        },
        {
         "hovertemplate": "country=Viet Nam<br>Year=%{x}<br>Women in Parliament(%)=%{y}<extra></extra>",
         "legendgroup": "Viet Nam",
         "line": {
          "color": "#FFA15A",
          "dash": "solid"
         },
         "marker": {
          "symbol": "circle"
         },
         "mode": "lines+markers",
         "name": "Viet Nam",
         "orientation": "v",
         "showlegend": true,
         "type": "scatter",
         "x": [
          2002,
          2007,
          2011,
          2016,
          2016,
          2016
         ],
         "xaxis": "x",
         "y": [
          0.2732,
          0.2576,
          0.244,
          0.2429,
          0.268,
          0.267
         ],
         "yaxis": "y"
        }
       ],
       "layout": {
        "font": {
         "color": "blue",
         "family": "Courier New"
        },
        "legend": {
         "title": {
          "font": {
           "color": "green"
          },
          "text": "country"
         },
         "tracegroupgap": 0
        },
        "template": {
         "data": {
          "bar": [
           {
            "error_x": {
             "color": "#2a3f5f"
            },
            "error_y": {
             "color": "#2a3f5f"
            },
            "marker": {
             "line": {
              "color": "#E5ECF6",
              "width": 0.5
             },
             "pattern": {
              "fillmode": "overlay",
              "size": 10,
              "solidity": 0.2
             }
            },
            "type": "bar"
           }
          ],
          "barpolar": [
           {
            "marker": {
             "line": {
              "color": "#E5ECF6",
              "width": 0.5
             },
             "pattern": {
              "fillmode": "overlay",
              "size": 10,
              "solidity": 0.2
             }
            },
            "type": "barpolar"
           }
          ],
          "carpet": [
           {
            "aaxis": {
             "endlinecolor": "#2a3f5f",
             "gridcolor": "white",
             "linecolor": "white",
             "minorgridcolor": "white",
             "startlinecolor": "#2a3f5f"
            },
            "baxis": {
             "endlinecolor": "#2a3f5f",
             "gridcolor": "white",
             "linecolor": "white",
             "minorgridcolor": "white",
             "startlinecolor": "#2a3f5f"
            },
            "type": "carpet"
           }
          ],
          "choropleth": [
           {
            "colorbar": {
             "outlinewidth": 0,
             "ticks": ""
            },
            "type": "choropleth"
           }
          ],
          "contour": [
           {
            "colorbar": {
             "outlinewidth": 0,
             "ticks": ""
            },
            "colorscale": [
             [
              0,
              "#0d0887"
             ],
             [
              0.1111111111111111,
              "#46039f"
             ],
             [
              0.2222222222222222,
              "#7201a8"
             ],
             [
              0.3333333333333333,
              "#9c179e"
             ],
             [
              0.4444444444444444,
              "#bd3786"
             ],
             [
              0.5555555555555556,
              "#d8576b"
             ],
             [
              0.6666666666666666,
              "#ed7953"
             ],
             [
              0.7777777777777778,
              "#fb9f3a"
             ],
             [
              0.8888888888888888,
              "#fdca26"
             ],
             [
              1,
              "#f0f921"
             ]
            ],
            "type": "contour"
           }
          ],
          "contourcarpet": [
           {
            "colorbar": {
             "outlinewidth": 0,
             "ticks": ""
            },
            "type": "contourcarpet"
           }
          ],
          "heatmap": [
           {
            "colorbar": {
             "outlinewidth": 0,
             "ticks": ""
            },
            "colorscale": [
             [
              0,
              "#0d0887"
             ],
             [
              0.1111111111111111,
              "#46039f"
             ],
             [
              0.2222222222222222,
              "#7201a8"
             ],
             [
              0.3333333333333333,
              "#9c179e"
             ],
             [
              0.4444444444444444,
              "#bd3786"
             ],
             [
              0.5555555555555556,
              "#d8576b"
             ],
             [
              0.6666666666666666,
              "#ed7953"
             ],
             [
              0.7777777777777778,
              "#fb9f3a"
             ],
             [
              0.8888888888888888,
              "#fdca26"
             ],
             [
              1,
              "#f0f921"
             ]
            ],
            "type": "heatmap"
           }
          ],
          "heatmapgl": [
           {
            "colorbar": {
             "outlinewidth": 0,
             "ticks": ""
            },
            "colorscale": [
             [
              0,
              "#0d0887"
             ],
             [
              0.1111111111111111,
              "#46039f"
             ],
             [
              0.2222222222222222,
              "#7201a8"
             ],
             [
              0.3333333333333333,
              "#9c179e"
             ],
             [
              0.4444444444444444,
              "#bd3786"
             ],
             [
              0.5555555555555556,
              "#d8576b"
             ],
             [
              0.6666666666666666,
              "#ed7953"
             ],
             [
              0.7777777777777778,
              "#fb9f3a"
             ],
             [
              0.8888888888888888,
              "#fdca26"
             ],
             [
              1,
              "#f0f921"
             ]
            ],
            "type": "heatmapgl"
           }
          ],
          "histogram": [
           {
            "marker": {
             "pattern": {
              "fillmode": "overlay",
              "size": 10,
              "solidity": 0.2
             }
            },
            "type": "histogram"
           }
          ],
          "histogram2d": [
           {
            "colorbar": {
             "outlinewidth": 0,
             "ticks": ""
            },
            "colorscale": [
             [
              0,
              "#0d0887"
             ],
             [
              0.1111111111111111,
              "#46039f"
             ],
             [
              0.2222222222222222,
              "#7201a8"
             ],
             [
              0.3333333333333333,
              "#9c179e"
             ],
             [
              0.4444444444444444,
              "#bd3786"
             ],
             [
              0.5555555555555556,
              "#d8576b"
             ],
             [
              0.6666666666666666,
              "#ed7953"
             ],
             [
              0.7777777777777778,
              "#fb9f3a"
             ],
             [
              0.8888888888888888,
              "#fdca26"
             ],
             [
              1,
              "#f0f921"
             ]
            ],
            "type": "histogram2d"
           }
          ],
          "histogram2dcontour": [
           {
            "colorbar": {
             "outlinewidth": 0,
             "ticks": ""
            },
            "colorscale": [
             [
              0,
              "#0d0887"
             ],
             [
              0.1111111111111111,
              "#46039f"
             ],
             [
              0.2222222222222222,
              "#7201a8"
             ],
             [
              0.3333333333333333,
              "#9c179e"
             ],
             [
              0.4444444444444444,
              "#bd3786"
             ],
             [
              0.5555555555555556,
              "#d8576b"
             ],
             [
              0.6666666666666666,
              "#ed7953"
             ],
             [
              0.7777777777777778,
              "#fb9f3a"
             ],
             [
              0.8888888888888888,
              "#fdca26"
             ],
             [
              1,
              "#f0f921"
             ]
            ],
            "type": "histogram2dcontour"
           }
          ],
          "mesh3d": [
           {
            "colorbar": {
             "outlinewidth": 0,
             "ticks": ""
            },
            "type": "mesh3d"
           }
          ],
          "parcoords": [
           {
            "line": {
             "colorbar": {
              "outlinewidth": 0,
              "ticks": ""
             }
            },
            "type": "parcoords"
           }
          ],
          "pie": [
           {
            "automargin": true,
            "type": "pie"
           }
          ],
          "scatter": [
           {
            "marker": {
             "colorbar": {
              "outlinewidth": 0,
              "ticks": ""
             }
            },
            "type": "scatter"
           }
          ],
          "scatter3d": [
           {
            "line": {
             "colorbar": {
              "outlinewidth": 0,
              "ticks": ""
             }
            },
            "marker": {
             "colorbar": {
              "outlinewidth": 0,
              "ticks": ""
             }
            },
            "type": "scatter3d"
           }
          ],
          "scattercarpet": [
           {
            "marker": {
             "colorbar": {
              "outlinewidth": 0,
              "ticks": ""
             }
            },
            "type": "scattercarpet"
           }
          ],
          "scattergeo": [
           {
            "marker": {
             "colorbar": {
              "outlinewidth": 0,
              "ticks": ""
             }
            },
            "type": "scattergeo"
           }
          ],
          "scattergl": [
           {
            "marker": {
             "colorbar": {
              "outlinewidth": 0,
              "ticks": ""
             }
            },
            "type": "scattergl"
           }
          ],
          "scattermapbox": [
           {
            "marker": {
             "colorbar": {
              "outlinewidth": 0,
              "ticks": ""
             }
            },
            "type": "scattermapbox"
           }
          ],
          "scatterpolar": [
           {
            "marker": {
             "colorbar": {
              "outlinewidth": 0,
              "ticks": ""
             }
            },
            "type": "scatterpolar"
           }
          ],
          "scatterpolargl": [
           {
            "marker": {
             "colorbar": {
              "outlinewidth": 0,
              "ticks": ""
             }
            },
            "type": "scatterpolargl"
           }
          ],
          "scatterternary": [
           {
            "marker": {
             "colorbar": {
              "outlinewidth": 0,
              "ticks": ""
             }
            },
            "type": "scatterternary"
           }
          ],
          "surface": [
           {
            "colorbar": {
             "outlinewidth": 0,
             "ticks": ""
            },
            "colorscale": [
             [
              0,
              "#0d0887"
             ],
             [
              0.1111111111111111,
              "#46039f"
             ],
             [
              0.2222222222222222,
              "#7201a8"
             ],
             [
              0.3333333333333333,
              "#9c179e"
             ],
             [
              0.4444444444444444,
              "#bd3786"
             ],
             [
              0.5555555555555556,
              "#d8576b"
             ],
             [
              0.6666666666666666,
              "#ed7953"
             ],
             [
              0.7777777777777778,
              "#fb9f3a"
             ],
             [
              0.8888888888888888,
              "#fdca26"
             ],
             [
              1,
              "#f0f921"
             ]
            ],
            "type": "surface"
           }
          ],
          "table": [
           {
            "cells": {
             "fill": {
              "color": "#EBF0F8"
             },
             "line": {
              "color": "white"
             }
            },
            "header": {
             "fill": {
              "color": "#C8D4E3"
             },
             "line": {
              "color": "white"
             }
            },
            "type": "table"
           }
          ]
         },
         "layout": {
          "annotationdefaults": {
           "arrowcolor": "#2a3f5f",
           "arrowhead": 0,
           "arrowwidth": 1
          },
          "autotypenumbers": "strict",
          "coloraxis": {
           "colorbar": {
            "outlinewidth": 0,
            "ticks": ""
           }
          },
          "colorscale": {
           "diverging": [
            [
             0,
             "#8e0152"
            ],
            [
             0.1,
             "#c51b7d"
            ],
            [
             0.2,
             "#de77ae"
            ],
            [
             0.3,
             "#f1b6da"
            ],
            [
             0.4,
             "#fde0ef"
            ],
            [
             0.5,
             "#f7f7f7"
            ],
            [
             0.6,
             "#e6f5d0"
            ],
            [
             0.7,
             "#b8e186"
            ],
            [
             0.8,
             "#7fbc41"
            ],
            [
             0.9,
             "#4d9221"
            ],
            [
             1,
             "#276419"
            ]
           ],
           "sequential": [
            [
             0,
             "#0d0887"
            ],
            [
             0.1111111111111111,
             "#46039f"
            ],
            [
             0.2222222222222222,
             "#7201a8"
            ],
            [
             0.3333333333333333,
             "#9c179e"
            ],
            [
             0.4444444444444444,
             "#bd3786"
            ],
            [
             0.5555555555555556,
             "#d8576b"
            ],
            [
             0.6666666666666666,
             "#ed7953"
            ],
            [
             0.7777777777777778,
             "#fb9f3a"
            ],
            [
             0.8888888888888888,
             "#fdca26"
            ],
            [
             1,
             "#f0f921"
            ]
           ],
           "sequentialminus": [
            [
             0,
             "#0d0887"
            ],
            [
             0.1111111111111111,
             "#46039f"
            ],
            [
             0.2222222222222222,
             "#7201a8"
            ],
            [
             0.3333333333333333,
             "#9c179e"
            ],
            [
             0.4444444444444444,
             "#bd3786"
            ],
            [
             0.5555555555555556,
             "#d8576b"
            ],
            [
             0.6666666666666666,
             "#ed7953"
            ],
            [
             0.7777777777777778,
             "#fb9f3a"
            ],
            [
             0.8888888888888888,
             "#fdca26"
            ],
            [
             1,
             "#f0f921"
            ]
           ]
          },
          "colorway": [
           "#636efa",
           "#EF553B",
           "#00cc96",
           "#ab63fa",
           "#FFA15A",
           "#19d3f3",
           "#FF6692",
           "#B6E880",
           "#FF97FF",
           "#FECB52"
          ],
          "font": {
           "color": "#2a3f5f"
          },
          "geo": {
           "bgcolor": "white",
           "lakecolor": "white",
           "landcolor": "#E5ECF6",
           "showlakes": true,
           "showland": true,
           "subunitcolor": "white"
          },
          "hoverlabel": {
           "align": "left"
          },
          "hovermode": "closest",
          "mapbox": {
           "style": "light"
          },
          "paper_bgcolor": "white",
          "plot_bgcolor": "#E5ECF6",
          "polar": {
           "angularaxis": {
            "gridcolor": "white",
            "linecolor": "white",
            "ticks": ""
           },
           "bgcolor": "#E5ECF6",
           "radialaxis": {
            "gridcolor": "white",
            "linecolor": "white",
            "ticks": ""
           }
          },
          "scene": {
           "xaxis": {
            "backgroundcolor": "#E5ECF6",
            "gridcolor": "white",
            "gridwidth": 2,
            "linecolor": "white",
            "showbackground": true,
            "ticks": "",
            "zerolinecolor": "white"
           },
           "yaxis": {
            "backgroundcolor": "#E5ECF6",
            "gridcolor": "white",
            "gridwidth": 2,
            "linecolor": "white",
            "showbackground": true,
            "ticks": "",
            "zerolinecolor": "white"
           },
           "zaxis": {
            "backgroundcolor": "#E5ECF6",
            "gridcolor": "white",
            "gridwidth": 2,
            "linecolor": "white",
            "showbackground": true,
            "ticks": "",
            "zerolinecolor": "white"
           }
          },
          "shapedefaults": {
           "line": {
            "color": "#2a3f5f"
           }
          },
          "ternary": {
           "aaxis": {
            "gridcolor": "white",
            "linecolor": "white",
            "ticks": ""
           },
           "baxis": {
            "gridcolor": "white",
            "linecolor": "white",
            "ticks": ""
           },
           "bgcolor": "#E5ECF6",
           "caxis": {
            "gridcolor": "white",
            "linecolor": "white",
            "ticks": ""
           }
          },
          "title": {
           "x": 0.05
          },
          "xaxis": {
           "automargin": true,
           "gridcolor": "white",
           "linecolor": "white",
           "ticks": "",
           "title": {
            "standoff": 15
           },
           "zerolinecolor": "white",
           "zerolinewidth": 2
          },
          "yaxis": {
           "automargin": true,
           "gridcolor": "white",
           "linecolor": "white",
           "ticks": "",
           "title": {
            "standoff": 15
           },
           "zerolinecolor": "white",
           "zerolinewidth": 2
          }
         }
        },
        "title": {
         "font": {
          "color": "red",
          "family": "Courier New"
         },
         "text": "Asia - Women Representation in Parliament since 2000(%)"
        },
        "xaxis": {
         "anchor": "y",
         "domain": [
          0,
          1
         ],
         "title": {
          "text": "Year"
         }
        },
        "yaxis": {
         "anchor": "x",
         "domain": [
          0,
          1
         ],
         "title": {
          "text": "Women in Parliament(%)"
         }
        }
       }
      }
     },
     "metadata": {},
     "output_type": "display_data"
    }
   ],
   "source": [
    "# select region for Asia\n",
    "df_asia = df.query(\"(chamber_type != 'upper') and (year >= 2000) and (region == 'ASIA')\")\n",
    "# plot percentage throught the years by country\n",
    "plot_perc_years(df_asia, 'Asia - Women Representation in Parliament since 2000(%)')"
   ]
  },
  {
   "cell_type": "code",
   "execution_count": 5,
   "metadata": {},
   "outputs": [
    {
     "data": {
      "application/vnd.plotly.v1+json": {
       "config": {
        "plotlyServerURL": "https://plot.ly"
       },
       "data": [
        {
         "hovertemplate": "country=Albania<br>Year=%{x}<br>Women in Parliament(%)=%{y}<extra></extra>",
         "legendgroup": "Albania",
         "line": {
          "color": "#636efa",
          "dash": "solid"
         },
         "marker": {
          "symbol": "circle"
         },
         "mode": "lines+markers",
         "name": "Albania",
         "orientation": "v",
         "showlegend": true,
         "type": "scatter",
         "x": [
          2001,
          2005,
          2009,
          2013,
          2017
         ],
         "xaxis": "x",
         "y": [
          0.05713,
          0.0714,
          0.1643,
          0.1571,
          0.2786
         ],
         "yaxis": "y"
        },
        {
         "hovertemplate": "country=Andorra<br>Year=%{x}<br>Women in Parliament(%)=%{y}<extra></extra>",
         "legendgroup": "Andorra",
         "line": {
          "color": "#EF553B",
          "dash": "solid"
         },
         "marker": {
          "symbol": "circle"
         },
         "mode": "lines+markers",
         "name": "Andorra",
         "orientation": "v",
         "showlegend": true,
         "type": "scatter",
         "x": [
          2001,
          2001,
          2005,
          2009,
          2009,
          2011,
          2011,
          2015
         ],
         "xaxis": "x",
         "y": [
          0.0714,
          0.1428,
          0.3215,
          0.3215,
          0.3572,
          0.5356,
          0.5,
          0.3928
         ],
         "yaxis": "y"
        },
        {
         "hovertemplate": "country=Armenia<br>Year=%{x}<br>Women in Parliament(%)=%{y}<extra></extra>",
         "legendgroup": "Armenia",
         "line": {
          "color": "#00cc96",
          "dash": "solid"
         },
         "marker": {
          "symbol": "circle"
         },
         "mode": "lines+markers",
         "name": "Armenia",
         "orientation": "v",
         "showlegend": true,
         "type": "scatter",
         "x": [
          2017,
          2018
         ],
         "xaxis": "x",
         "y": [
          0.1714,
          0.2424
         ],
         "yaxis": "y"
        },
        {
         "hovertemplate": "country=Austria<br>Year=%{x}<br>Women in Parliament(%)=%{y}<extra></extra>",
         "legendgroup": "Austria",
         "line": {
          "color": "#ab63fa",
          "dash": "solid"
         },
         "marker": {
          "symbol": "circle"
         },
         "mode": "lines+markers",
         "name": "Austria",
         "orientation": "v",
         "showlegend": true,
         "type": "scatter",
         "x": [
          2002,
          2006,
          2008,
          2013,
          2013,
          2017
         ],
         "xaxis": "x",
         "y": [
          0.3389,
          0.3225,
          0.2732,
          0.2788,
          0.3333,
          0.3442
         ],
         "yaxis": "y"
        },
        {
         "hovertemplate": "country=Belarus<br>Year=%{x}<br>Women in Parliament(%)=%{y}<extra></extra>",
         "legendgroup": "Belarus",
         "line": {
          "color": "#FFA15A",
          "dash": "solid"
         },
         "marker": {
          "symbol": "circle"
         },
         "mode": "lines+markers",
         "name": "Belarus",
         "orientation": "v",
         "showlegend": true,
         "type": "scatter",
         "x": [
          2000,
          2004,
          2004,
          2008,
          2012,
          2016
         ],
         "xaxis": "x",
         "y": [
          0.1031,
          0.2898,
          0.2935,
          0.318,
          0.2637,
          0.2727
         ],
         "yaxis": "y"
        },
        {
         "hovertemplate": "country=Belgium<br>Year=%{x}<br>Women in Parliament(%)=%{y}<extra></extra>",
         "legendgroup": "Belgium",
         "line": {
          "color": "#19d3f3",
          "dash": "solid"
         },
         "marker": {
          "symbol": "circle"
         },
         "mode": "lines+markers",
         "name": "Belgium",
         "orientation": "v",
         "showlegend": true,
         "type": "scatter",
         "x": [
          2003,
          2007,
          2010,
          2014
         ],
         "xaxis": "x",
         "y": [
          0.3533,
          0.3533,
          0.3933,
          0.3933
         ],
         "yaxis": "y"
        },
        {
         "hovertemplate": "country=Bosnia and Herzegovina<br>Year=%{x}<br>Women in Parliament(%)=%{y}<extra></extra>",
         "legendgroup": "Bosnia and Herzegovina",
         "line": {
          "color": "#FF6692",
          "dash": "solid"
         },
         "marker": {
          "symbol": "circle"
         },
         "mode": "lines+markers",
         "name": "Bosnia and Herzegovina",
         "orientation": "v",
         "showlegend": true,
         "type": "scatter",
         "x": [
          2000,
          2002,
          2006,
          2010,
          2014,
          2018
         ],
         "xaxis": "x",
         "y": [
          0.0714,
          0.1666,
          0.1428,
          0.1666,
          0.2142,
          0.2142
         ],
         "yaxis": "y"
        },
        {
         "hovertemplate": "country=Bulgaria<br>Year=%{x}<br>Women in Parliament(%)=%{y}<extra></extra>",
         "legendgroup": "Bulgaria",
         "line": {
          "color": "#B6E880",
          "dash": "solid"
         },
         "marker": {
          "symbol": "circle"
         },
         "mode": "lines+markers",
         "name": "Bulgaria",
         "orientation": "v",
         "showlegend": true,
         "type": "scatter",
         "x": [
          2001,
          2005,
          2009,
          2013,
          2014,
          2017,
          2013
         ],
         "xaxis": "x",
         "y": [
          0.2625,
          0.2084,
          0.2084,
          0.2291,
          0.2,
          0.2375,
          0.2458
         ],
         "yaxis": "y"
        },
        {
         "hovertemplate": "country=Croatia<br>Year=%{x}<br>Women in Parliament(%)=%{y}<extra></extra>",
         "legendgroup": "Croatia",
         "line": {
          "color": "#FF97FF",
          "dash": "solid"
         },
         "marker": {
          "symbol": "circle"
         },
         "mode": "lines+markers",
         "name": "Croatia",
         "orientation": "v",
         "showlegend": true,
         "type": "scatter",
         "x": [
          2000,
          2003,
          2007,
          2011,
          2015,
          2016,
          2016
         ],
         "xaxis": "x",
         "y": [
          0.2053,
          0.1776,
          0.2091,
          0.2384,
          0.139,
          0.1523,
          0.1259
         ],
         "yaxis": "y"
        },
        {
         "hovertemplate": "country=Cyprus<br>Year=%{x}<br>Women in Parliament(%)=%{y}<extra></extra>",
         "legendgroup": "Cyprus",
         "line": {
          "color": "#FECB52",
          "dash": "solid"
         },
         "marker": {
          "symbol": "circle"
         },
         "mode": "lines+markers",
         "name": "Cyprus",
         "orientation": "v",
         "showlegend": true,
         "type": "scatter",
         "x": [
          2001,
          2006,
          2011,
          2016,
          2016,
          2016
         ],
         "xaxis": "x",
         "y": [
          0.1071,
          0.1428,
          0.1071,
          null,
          null,
          0.1786
         ],
         "yaxis": "y"
        },
        {
         "hovertemplate": "country=Czech Republic<br>Year=%{x}<br>Women in Parliament(%)=%{y}<extra></extra>",
         "legendgroup": "Czech Republic",
         "line": {
          "color": "#636efa",
          "dash": "solid"
         },
         "marker": {
          "symbol": "circle"
         },
         "mode": "lines+markers",
         "name": "Czech Republic",
         "orientation": "v",
         "showlegend": true,
         "type": "scatter",
         "x": [
          2002,
          2004,
          2006,
          2010,
          2013,
          2013,
          2017
         ],
         "xaxis": "x",
         "y": [
          0.17,
          0.17,
          0.155,
          0.22,
          0.22,
          0.195,
          0.22
         ],
         "yaxis": "y"
        },
        {
         "hovertemplate": "country=Denmark<br>Year=%{x}<br>Women in Parliament(%)=%{y}<extra></extra>",
         "legendgroup": "Denmark",
         "line": {
          "color": "#EF553B",
          "dash": "solid"
         },
         "marker": {
          "symbol": "circle"
         },
         "mode": "lines+markers",
         "name": "Denmark",
         "orientation": "v",
         "showlegend": true,
         "type": "scatter",
         "x": [
          2001,
          2005,
          2007,
          2011,
          2015
         ],
         "xaxis": "x",
         "y": [
          0.38,
          0.3687,
          0.3743,
          0.391,
          0.3743
         ],
         "yaxis": "y"
        },
        {
         "hovertemplate": "country=Estonia<br>Year=%{x}<br>Women in Parliament(%)=%{y}<extra></extra>",
         "legendgroup": "Estonia",
         "line": {
          "color": "#00cc96",
          "dash": "solid"
         },
         "marker": {
          "symbol": "circle"
         },
         "mode": "lines+markers",
         "name": "Estonia",
         "orientation": "v",
         "showlegend": true,
         "type": "scatter",
         "x": [
          2003,
          2007,
          2007,
          2007,
          2011,
          2015
         ],
         "xaxis": "x",
         "y": [
          0.1881,
          0.2377,
          0.2178,
          0.2079,
          0.198,
          0.2377
         ],
         "yaxis": "y"
        },
        {
         "hovertemplate": "country=Finland<br>Year=%{x}<br>Women in Parliament(%)=%{y}<extra></extra>",
         "legendgroup": "Finland",
         "line": {
          "color": "#ab63fa",
          "dash": "solid"
         },
         "marker": {
          "symbol": "circle"
         },
         "mode": "lines+markers",
         "name": "Finland",
         "orientation": "v",
         "showlegend": true,
         "type": "scatter",
         "x": [
          2003,
          2007,
          2007,
          2011,
          2015
         ],
         "xaxis": "x",
         "y": [
          0.375,
          0.42,
          0.415,
          0.425,
          0.415
         ],
         "yaxis": "y"
        },
        {
         "hovertemplate": "country=France<br>Year=%{x}<br>Women in Parliament(%)=%{y}<extra></extra>",
         "legendgroup": "France",
         "line": {
          "color": "#FFA15A",
          "dash": "solid"
         },
         "marker": {
          "symbol": "circle"
         },
         "mode": "lines+markers",
         "name": "France",
         "orientation": "v",
         "showlegend": true,
         "type": "scatter",
         "x": [
          2002,
          2002,
          2007,
          2011,
          2012,
          2017
         ],
         "xaxis": "x",
         "y": [
          0.12305,
          0.12134,
          0.182,
          0.1854,
          0.2686,
          0.3882
         ],
         "yaxis": "y"
        },
        {
         "hovertemplate": "country=Georgia<br>Year=%{x}<br>Women in Parliament(%)=%{y}<extra></extra>",
         "legendgroup": "Georgia",
         "line": {
          "color": "#19d3f3",
          "dash": "solid"
         },
         "marker": {
          "symbol": "circle"
         },
         "mode": "lines+markers",
         "name": "Georgia",
         "orientation": "v",
         "showlegend": true,
         "type": "scatter",
         "x": [
          2004,
          2004,
          2008,
          2012,
          2016,
          2016,
          2016
         ],
         "xaxis": "x",
         "y": [
          0.0936,
          0.0723,
          0.06,
          0.12,
          0.11334,
          null,
          0.16
         ],
         "yaxis": "y"
        },
        {
         "hovertemplate": "country=Germany<br>Year=%{x}<br>Women in Parliament(%)=%{y}<extra></extra>",
         "legendgroup": "Germany",
         "line": {
          "color": "#FF6692",
          "dash": "solid"
         },
         "marker": {
          "symbol": "circle"
         },
         "mode": "lines+markers",
         "name": "Germany",
         "orientation": "v",
         "showlegend": true,
         "type": "scatter",
         "x": [
          2002,
          2005,
          2009,
          2013,
          2013,
          2013,
          2017
         ],
         "xaxis": "x",
         "y": [
          0.3218,
          0.3176,
          0.328,
          0.329,
          0.3232,
          0.363,
          0.3074
         ],
         "yaxis": "y"
        },
        {
         "hovertemplate": "country=Greece<br>Year=%{x}<br>Women in Parliament(%)=%{y}<extra></extra>",
         "legendgroup": "Greece",
         "line": {
          "color": "#B6E880",
          "dash": "solid"
         },
         "marker": {
          "symbol": "circle"
         },
         "mode": "lines+markers",
         "name": "Greece",
         "orientation": "v",
         "showlegend": true,
         "type": "scatter",
         "x": [
          2000,
          2004,
          2007,
          2007,
          2009,
          2012,
          2015
         ],
         "xaxis": "x",
         "y": [
          0.0867,
          0.14,
          0.16,
          0.1466,
          0.1733,
          0.21,
          0.23
         ],
         "yaxis": "y"
        },
        {
         "hovertemplate": "country=Hungary<br>Year=%{x}<br>Women in Parliament(%)=%{y}<extra></extra>",
         "legendgroup": "Hungary",
         "line": {
          "color": "#FF97FF",
          "dash": "solid"
         },
         "marker": {
          "symbol": "circle"
         },
         "mode": "lines+markers",
         "name": "Hungary",
         "orientation": "v",
         "showlegend": true,
         "type": "scatter",
         "x": [
          2002,
          2002,
          2006,
          2010,
          2014,
          2018
         ],
         "xaxis": "x",
         "y": [
          0.0855,
          0.09045,
          0.10364,
          0.0907,
          0.09546,
          0.126
         ],
         "yaxis": "y"
        },
        {
         "hovertemplate": "country=Iceland<br>Year=%{x}<br>Women in Parliament(%)=%{y}<extra></extra>",
         "legendgroup": "Iceland",
         "line": {
          "color": "#FECB52",
          "dash": "solid"
         },
         "marker": {
          "symbol": "circle"
         },
         "mode": "lines+markers",
         "name": "Iceland",
         "orientation": "v",
         "showlegend": true,
         "type": "scatter",
         "x": [
          2003,
          2007,
          2007,
          2009,
          2013,
          2016,
          2016,
          2017
         ],
         "xaxis": "x",
         "y": [
          0.3015,
          0.3174,
          0.3333,
          0.4285,
          0.3967,
          0.4126,
          0.476,
          0.3809
         ],
         "yaxis": "y"
        },
        {
         "hovertemplate": "country=Ireland<br>Year=%{x}<br>Women in Parliament(%)=%{y}<extra></extra>",
         "legendgroup": "Ireland",
         "line": {
          "color": "#636efa",
          "dash": "solid"
         },
         "marker": {
          "symbol": "circle"
         },
         "mode": "lines+markers",
         "name": "Ireland",
         "orientation": "v",
         "showlegend": true,
         "type": "scatter",
         "x": [
          2002,
          2002,
          2007,
          2011,
          2011,
          2016
         ],
         "xaxis": "x",
         "y": [
          0.1326,
          0.1265,
          0.1326,
          0.1445,
          0.1506,
          0.1626
         ],
         "yaxis": "y"
        },
        {
         "hovertemplate": "country=Italy<br>Year=%{x}<br>Women in Parliament(%)=%{y}<extra></extra>",
         "legendgroup": "Italy",
         "line": {
          "color": "#EF553B",
          "dash": "solid"
         },
         "marker": {
          "symbol": "circle"
         },
         "mode": "lines+markers",
         "name": "Italy",
         "orientation": "v",
         "showlegend": true,
         "type": "scatter",
         "x": [
          2001,
          2006,
          2008,
          2013,
          2013,
          2018
         ],
         "xaxis": "x",
         "y": [
          0.0984,
          0.173,
          0.2114,
          0.2842,
          0.3142,
          0.357
         ],
         "yaxis": "y"
        },
        {
         "hovertemplate": "country=Kazakhstan<br>Year=%{x}<br>Women in Parliament(%)=%{y}<extra></extra>",
         "legendgroup": "Kazakhstan",
         "line": {
          "color": "#00cc96",
          "dash": "solid"
         },
         "marker": {
          "symbol": "circle"
         },
         "mode": "lines+markers",
         "name": "Kazakhstan",
         "orientation": "v",
         "showlegend": true,
         "type": "scatter",
         "x": [
          2004,
          2007,
          2012,
          2016,
          2016
         ],
         "xaxis": "x",
         "y": [
          0.1039,
          0.1589,
          0.243,
          0.2617,
          0.271
         ],
         "yaxis": "y"
        },
        {
         "hovertemplate": "country=Kyrgyzstan<br>Year=%{x}<br>Women in Parliament(%)=%{y}<extra></extra>",
         "legendgroup": "Kyrgyzstan",
         "line": {
          "color": "#ab63fa",
          "dash": "solid"
         },
         "marker": {
          "symbol": "circle"
         },
         "mode": "lines+markers",
         "name": "Kyrgyzstan",
         "orientation": "v",
         "showlegend": true,
         "type": "scatter",
         "x": [
          2000,
          2005,
          2007,
          2010,
          2015
         ],
         "xaxis": "x",
         "y": [
          0.02325,
          0,
          0.2556,
          0.2333,
          0.1917
         ],
         "yaxis": "y"
        },
        {
         "hovertemplate": "country=Latvia<br>Year=%{x}<br>Women in Parliament(%)=%{y}<extra></extra>",
         "legendgroup": "Latvia",
         "line": {
          "color": "#FFA15A",
          "dash": "solid"
         },
         "marker": {
          "symbol": "circle"
         },
         "mode": "lines+markers",
         "name": "Latvia",
         "orientation": "v",
         "showlegend": true,
         "type": "scatter",
         "x": [
          2002,
          2006,
          2010,
          2011,
          2014,
          2018
         ],
         "xaxis": "x",
         "y": [
          0.18,
          0.19,
          0.19,
          0.23,
          0.19,
          0.31
         ],
         "yaxis": "y"
        },
        {
         "hovertemplate": "country=Liechtenstein<br>Year=%{x}<br>Women in Parliament(%)=%{y}<extra></extra>",
         "legendgroup": "Liechtenstein",
         "line": {
          "color": "#19d3f3",
          "dash": "solid"
         },
         "marker": {
          "symbol": "circle"
         },
         "mode": "lines+markers",
         "name": "Liechtenstein",
         "orientation": "v",
         "showlegend": true,
         "type": "scatter",
         "x": [
          2001,
          2005,
          2009,
          2013,
          2017
         ],
         "xaxis": "x",
         "y": [
          0.12,
          0.24,
          0.24,
          0.2,
          0.12
         ],
         "yaxis": "y"
        },
        {
         "hovertemplate": "country=Lithuania<br>Year=%{x}<br>Women in Parliament(%)=%{y}<extra></extra>",
         "legendgroup": "Lithuania",
         "line": {
          "color": "#FF6692",
          "dash": "solid"
         },
         "marker": {
          "symbol": "circle"
         },
         "mode": "lines+markers",
         "name": "Lithuania",
         "orientation": "v",
         "showlegend": true,
         "type": "scatter",
         "x": [
          2000,
          2004,
          2008,
          2012,
          2016,
          2016
         ],
         "xaxis": "x",
         "y": [
          0.1064,
          0.2057,
          0.1772,
          0.2446,
          0.234,
          0.2128
         ],
         "yaxis": "y"
        },
        {
         "hovertemplate": "country=Luxembourg<br>Year=%{x}<br>Women in Parliament(%)=%{y}<extra></extra>",
         "legendgroup": "Luxembourg",
         "line": {
          "color": "#B6E880",
          "dash": "solid"
         },
         "marker": {
          "symbol": "circle"
         },
         "mode": "lines+markers",
         "name": "Luxembourg",
         "orientation": "v",
         "showlegend": true,
         "type": "scatter",
         "x": [
          2004,
          2009,
          2013,
          2018
         ],
         "xaxis": "x",
         "y": [
          0.2,
          0.25,
          0.2834,
          0.2
         ],
         "yaxis": "y"
        },
        {
         "hovertemplate": "country=Malta<br>Year=%{x}<br>Women in Parliament(%)=%{y}<extra></extra>",
         "legendgroup": "Malta",
         "line": {
          "color": "#FF97FF",
          "dash": "solid"
         },
         "marker": {
          "symbol": "circle"
         },
         "mode": "lines+markers",
         "name": "Malta",
         "orientation": "v",
         "showlegend": true,
         "type": "scatter",
         "x": [
          2003,
          2008,
          2013,
          2017
         ],
         "xaxis": "x",
         "y": [
          0.0769,
          0.087,
          0.1428,
          0.1194
         ],
         "yaxis": "y"
        },
        {
         "hovertemplate": "country=Monaco<br>Year=%{x}<br>Women in Parliament(%)=%{y}<extra></extra>",
         "legendgroup": "Monaco",
         "line": {
          "color": "#FECB52",
          "dash": "solid"
         },
         "marker": {
          "symbol": "circle"
         },
         "mode": "lines+markers",
         "name": "Monaco",
         "orientation": "v",
         "showlegend": true,
         "type": "scatter",
         "x": [
          2003,
          2008,
          2013,
          2018
         ],
         "xaxis": "x",
         "y": [
          0.2084,
          0.25,
          0.2084,
          0.333
         ],
         "yaxis": "y"
        },
        {
         "hovertemplate": "country=Montenegro<br>Year=%{x}<br>Women in Parliament(%)=%{y}<extra></extra>",
         "legendgroup": "Montenegro",
         "line": {
          "color": "#636efa",
          "dash": "solid"
         },
         "marker": {
          "symbol": "circle"
         },
         "mode": "lines+markers",
         "name": "Montenegro",
         "orientation": "v",
         "showlegend": true,
         "type": "scatter",
         "x": [
          2006,
          2009,
          2009,
          2012,
          2016,
          2016
         ],
         "xaxis": "x",
         "y": [
          0.0864,
          0.06174,
          null,
          0.1482,
          0.1852,
          0.2346
         ],
         "yaxis": "y"
        },
        {
         "hovertemplate": "country=Netherlands<br>Year=%{x}<br>Women in Parliament(%)=%{y}<extra></extra>",
         "legendgroup": "Netherlands",
         "line": {
          "color": "#EF553B",
          "dash": "solid"
         },
         "marker": {
          "symbol": "circle"
         },
         "mode": "lines+markers",
         "name": "Netherlands",
         "orientation": "v",
         "showlegend": true,
         "type": "scatter",
         "x": [
          2002,
          2003,
          2006,
          2010,
          2012,
          2017
         ],
         "xaxis": "x",
         "y": [
          0.34,
          0.3667,
          0.3667,
          0.4067,
          0.3867,
          0.36
         ],
         "yaxis": "y"
        },
        {
         "hovertemplate": "country=Norway<br>Year=%{x}<br>Women in Parliament(%)=%{y}<extra></extra>",
         "legendgroup": "Norway",
         "line": {
          "color": "#00cc96",
          "dash": "solid"
         },
         "marker": {
          "symbol": "circle"
         },
         "mode": "lines+markers",
         "name": "Norway",
         "orientation": "v",
         "showlegend": true,
         "type": "scatter",
         "x": [
          2001,
          2005,
          2009,
          2013,
          2017
         ],
         "xaxis": "x",
         "y": [
          0.3635,
          0.3787,
          0.3965,
          0.3965,
          0.4143
         ],
         "yaxis": "y"
        },
        {
         "hovertemplate": "country=Poland<br>Year=%{x}<br>Women in Parliament(%)=%{y}<extra></extra>",
         "legendgroup": "Poland",
         "line": {
          "color": "#ab63fa",
          "dash": "solid"
         },
         "marker": {
          "symbol": "circle"
         },
         "mode": "lines+markers",
         "name": "Poland",
         "orientation": "v",
         "showlegend": true,
         "type": "scatter",
         "x": [
          2001,
          2005,
          2007,
          2011,
          2015
         ],
         "xaxis": "x",
         "y": [
          0.2021,
          0.2043,
          0.2043,
          0.2402,
          0.274
         ],
         "yaxis": "y"
        },
        {
         "hovertemplate": "country=Portugal<br>Year=%{x}<br>Women in Parliament(%)=%{y}<extra></extra>",
         "legendgroup": "Portugal",
         "line": {
          "color": "#FFA15A",
          "dash": "solid"
         },
         "marker": {
          "symbol": "circle"
         },
         "mode": "lines+markers",
         "name": "Portugal",
         "orientation": "v",
         "showlegend": true,
         "type": "scatter",
         "x": [
          2002,
          2005,
          2009,
          2011,
          2015
         ],
         "xaxis": "x",
         "y": [
          0.1913,
          0.213,
          0.2783,
          0.2651,
          0.348
         ],
         "yaxis": "y"
        },
        {
         "hovertemplate": "country=Republic of Moldova<br>Year=%{x}<br>Women in Parliament(%)=%{y}<extra></extra>",
         "legendgroup": "Republic of Moldova",
         "line": {
          "color": "#19d3f3",
          "dash": "solid"
         },
         "marker": {
          "symbol": "circle"
         },
         "mode": "lines+markers",
         "name": "Republic of Moldova",
         "orientation": "v",
         "showlegend": true,
         "type": "scatter",
         "x": [
          2001,
          2005,
          2009,
          2009,
          2009,
          2010,
          2014
         ],
         "xaxis": "x",
         "y": [
          0.1287,
          0.2178,
          0.2377,
          0.2573,
          0.2377,
          0.1881,
          0.1782
         ],
         "yaxis": "y"
        },
        {
         "hovertemplate": "country=Romania<br>Year=%{x}<br>Women in Parliament(%)=%{y}<extra></extra>",
         "legendgroup": "Romania",
         "line": {
          "color": "#FF6692",
          "dash": "solid"
         },
         "marker": {
          "symbol": "circle"
         },
         "mode": "lines+markers",
         "name": "Romania",
         "orientation": "v",
         "showlegend": true,
         "type": "scatter",
         "x": [
          2000,
          2004,
          2008,
          2012,
          2016
         ],
         "xaxis": "x",
         "y": [
          0.10724,
          0.11444,
          0.1138,
          0.1335,
          0.1372
         ],
         "yaxis": "y"
        },
        {
         "hovertemplate": "country=Russia<br>Year=%{x}<br>Women in Parliament(%)=%{y}<extra></extra>",
         "legendgroup": "Russia",
         "line": {
          "color": "#B6E880",
          "dash": "solid"
         },
         "marker": {
          "symbol": "circle"
         },
         "mode": "lines+markers",
         "name": "Russia",
         "orientation": "v",
         "showlegend": true,
         "type": "scatter",
         "x": [
          2003,
          2007,
          2011
         ],
         "xaxis": "x",
         "y": [
          0.10223,
          0.14,
          0.1355
         ],
         "yaxis": "y"
        },
        {
         "hovertemplate": "country=Russian Federation<br>Year=%{x}<br>Women in Parliament(%)=%{y}<extra></extra>",
         "legendgroup": "Russian Federation",
         "line": {
          "color": "#FF97FF",
          "dash": "solid"
         },
         "marker": {
          "symbol": "circle"
         },
         "mode": "lines+markers",
         "name": "Russian Federation",
         "orientation": "v",
         "showlegend": true,
         "type": "scatter",
         "x": [
          2016,
          2016
         ],
         "xaxis": "x",
         "y": [
          0.1355,
          0.1267
         ],
         "yaxis": "y"
        },
        {
         "hovertemplate": "country=San Marino<br>Year=%{x}<br>Women in Parliament(%)=%{y}<extra></extra>",
         "legendgroup": "San Marino",
         "line": {
          "color": "#FECB52",
          "dash": "solid"
         },
         "marker": {
          "symbol": "circle"
         },
         "mode": "lines+markers",
         "name": "San Marino",
         "orientation": "v",
         "showlegend": true,
         "type": "scatter",
         "x": [
          2001,
          2006,
          2008,
          2012,
          2016
         ],
         "xaxis": "x",
         "y": [
          0.1666,
          0.11664,
          0.15,
          0.1666,
          0.2333
         ],
         "yaxis": "y"
        },
        {
         "hovertemplate": "country=Serbia<br>Year=%{x}<br>Women in Parliament(%)=%{y}<extra></extra>",
         "legendgroup": "Serbia",
         "line": {
          "color": "#636efa",
          "dash": "solid"
         },
         "marker": {
          "symbol": "circle"
         },
         "mode": "lines+markers",
         "name": "Serbia",
         "orientation": "v",
         "showlegend": true,
         "type": "scatter",
         "x": [
          2007,
          2008,
          2012,
          2014,
          2016
         ],
         "xaxis": "x",
         "y": [
          0.204,
          0.216,
          0.324,
          0.34,
          0.34
         ],
         "yaxis": "y"
        },
        {
         "hovertemplate": "country=Serbia and Montenegro<br>Year=%{x}<br>Women in Parliament(%)=%{y}<extra></extra>",
         "legendgroup": "Serbia and Montenegro",
         "line": {
          "color": "#EF553B",
          "dash": "solid"
         },
         "marker": {
          "symbol": "circle"
         },
         "mode": "lines+markers",
         "name": "Serbia and Montenegro",
         "orientation": "v",
         "showlegend": true,
         "type": "scatter",
         "x": [
          2003
         ],
         "xaxis": "x",
         "y": [
          0.07935
         ],
         "yaxis": "y"
        },
        {
         "hovertemplate": "country=Slovakia<br>Year=%{x}<br>Women in Parliament(%)=%{y}<extra></extra>",
         "legendgroup": "Slovakia",
         "line": {
          "color": "#00cc96",
          "dash": "solid"
         },
         "marker": {
          "symbol": "circle"
         },
         "mode": "lines+markers",
         "name": "Slovakia",
         "orientation": "v",
         "showlegend": true,
         "type": "scatter",
         "x": [
          2002,
          2002,
          2006,
          2010,
          2012,
          2016,
          2016
         ],
         "xaxis": "x",
         "y": [
          0.1934,
          0.1722,
          0.16,
          0.1533,
          0.1733,
          0.1866,
          0.2
         ],
         "yaxis": "y"
        },
        {
         "hovertemplate": "country=Slovenia<br>Year=%{x}<br>Women in Parliament(%)=%{y}<extra></extra>",
         "legendgroup": "Slovenia",
         "line": {
          "color": "#ab63fa",
          "dash": "solid"
         },
         "marker": {
          "symbol": "circle"
         },
         "mode": "lines+markers",
         "name": "Slovenia",
         "orientation": "v",
         "showlegend": true,
         "type": "scatter",
         "x": [
          2000,
          2000,
          2004,
          2008,
          2011,
          2014,
          2018
         ],
         "xaxis": "x",
         "y": [
          0.1,
          0.1222,
          0.1222,
          0.1333,
          0.3223,
          0.3555,
          0.244
         ],
         "yaxis": "y"
        },
        {
         "hovertemplate": "country=Spain<br>Year=%{x}<br>Women in Parliament(%)=%{y}<extra></extra>",
         "legendgroup": "Spain",
         "line": {
          "color": "#FFA15A",
          "dash": "solid"
         },
         "marker": {
          "symbol": "circle"
         },
         "mode": "lines+markers",
         "name": "Spain",
         "orientation": "v",
         "showlegend": true,
         "type": "scatter",
         "x": [
          2000,
          2004,
          2008,
          2011,
          2015,
          2016
         ],
         "xaxis": "x",
         "y": [
          0.283,
          0.36,
          0.3628,
          0.36,
          0.4,
          0.3914
         ],
         "yaxis": "y"
        },
        {
         "hovertemplate": "country=Sweden<br>Year=%{x}<br>Women in Parliament(%)=%{y}<extra></extra>",
         "legendgroup": "Sweden",
         "line": {
          "color": "#19d3f3",
          "dash": "solid"
         },
         "marker": {
          "symbol": "circle"
         },
         "mode": "lines+markers",
         "name": "Sweden",
         "orientation": "v",
         "showlegend": true,
         "type": "scatter",
         "x": [
          2002,
          2002,
          2006,
          2010,
          2014,
          2018
         ],
         "xaxis": "x",
         "y": [
          0.4526,
          0.45,
          0.473,
          0.45,
          0.4355,
          0.4614
         ],
         "yaxis": "y"
        },
        {
         "hovertemplate": "country=Switzerland<br>Year=%{x}<br>Women in Parliament(%)=%{y}<extra></extra>",
         "legendgroup": "Switzerland",
         "line": {
          "color": "#FF6692",
          "dash": "solid"
         },
         "marker": {
          "symbol": "circle"
         },
         "mode": "lines+markers",
         "name": "Switzerland",
         "orientation": "v",
         "showlegend": true,
         "type": "scatter",
         "x": [
          2003,
          2007,
          2011,
          2015
         ],
         "xaxis": "x",
         "y": [
          0.25,
          0.295,
          0.295,
          0.32
         ],
         "yaxis": "y"
        },
        {
         "hovertemplate": "country=Tajikistan<br>Year=%{x}<br>Women in Parliament(%)=%{y}<extra></extra>",
         "legendgroup": "Tajikistan",
         "line": {
          "color": "#B6E880",
          "dash": "solid"
         },
         "marker": {
          "symbol": "circle"
         },
         "mode": "lines+markers",
         "name": "Tajikistan",
         "orientation": "v",
         "showlegend": true,
         "type": "scatter",
         "x": [
          2000,
          2000,
          2005,
          2010,
          2015
         ],
         "xaxis": "x",
         "y": [
          0.02762,
          0.15,
          0.1746,
          0.1904,
          0.1904
         ],
         "yaxis": "y"
        },
        {
         "hovertemplate": "country=The Former Yugoslav Republic of Macedonia<br>Year=%{x}<br>Women in Parliament(%)=%{y}<extra></extra>",
         "legendgroup": "The Former Yugoslav Republic of Macedonia",
         "line": {
          "color": "#FF97FF",
          "dash": "solid"
         },
         "marker": {
          "symbol": "circle"
         },
         "mode": "lines+markers",
         "name": "The Former Yugoslav Republic of Macedonia",
         "orientation": "v",
         "showlegend": true,
         "type": "scatter",
         "x": [
          2002,
          2006,
          2008,
          2008,
          2011,
          2014,
          2016
         ],
         "xaxis": "x",
         "y": [
          0.175,
          0.2834,
          0.3,
          0.3,
          0.3088,
          0.3252,
          0.3333
         ],
         "yaxis": "y"
        },
        {
         "hovertemplate": "country=Turkey<br>Year=%{x}<br>Women in Parliament(%)=%{y}<extra></extra>",
         "legendgroup": "Turkey",
         "line": {
          "color": "#FECB52",
          "dash": "solid"
         },
         "marker": {
          "symbol": "circle"
         },
         "mode": "lines+markers",
         "name": "Turkey",
         "orientation": "v",
         "showlegend": true,
         "type": "scatter",
         "x": [
          2002,
          2007,
          2011,
          2015,
          2018
         ],
         "xaxis": "x",
         "y": [
          0.04364,
          0.09106,
          0.1418,
          0.149,
          0.1744
         ],
         "yaxis": "y"
        },
        {
         "hovertemplate": "country=Turkmenistan<br>Year=%{x}<br>Women in Parliament(%)=%{y}<extra></extra>",
         "legendgroup": "Turkmenistan",
         "line": {
          "color": "#636efa",
          "dash": "solid"
         },
         "marker": {
          "symbol": "circle"
         },
         "mode": "lines+markers",
         "name": "Turkmenistan",
         "orientation": "v",
         "showlegend": true,
         "type": "scatter",
         "x": [
          2004,
          2008,
          2013,
          2018
         ],
         "xaxis": "x",
         "y": [
          0.1538,
          0.168,
          0.168,
          0.248
         ],
         "yaxis": "y"
        },
        {
         "hovertemplate": "country=Ukraine<br>Year=%{x}<br>Women in Parliament(%)=%{y}<extra></extra>",
         "legendgroup": "Ukraine",
         "line": {
          "color": "#EF553B",
          "dash": "solid"
         },
         "marker": {
          "symbol": "circle"
         },
         "mode": "lines+markers",
         "name": "Ukraine",
         "orientation": "v",
         "showlegend": true,
         "type": "scatter",
         "x": [
          2002,
          2006,
          2007,
          2007,
          2012,
          2014
         ],
         "xaxis": "x",
         "y": [
          0.05334,
          0.0711,
          0.0845,
          0.0822,
          0.09436,
          0.11664
         ],
         "yaxis": "y"
        },
        {
         "hovertemplate": "country=United Kingdom<br>Year=%{x}<br>Women in Parliament(%)=%{y}<extra></extra>",
         "legendgroup": "United Kingdom",
         "line": {
          "color": "#00cc96",
          "dash": "solid"
         },
         "marker": {
          "symbol": "circle"
         },
         "mode": "lines+markers",
         "name": "United Kingdom",
         "orientation": "v",
         "showlegend": true,
         "type": "scatter",
         "x": [
          2001,
          2001,
          2005,
          2010,
          2015,
          2017
         ],
         "xaxis": "x",
         "y": [
          0.1821,
          0.1791,
          0.1967,
          0.22,
          0.294,
          0.32
         ],
         "yaxis": "y"
        },
        {
         "hovertemplate": "country=Uzbekistan<br>Year=%{x}<br>Women in Parliament(%)=%{y}<extra></extra>",
         "legendgroup": "Uzbekistan",
         "line": {
          "color": "#ab63fa",
          "dash": "solid"
         },
         "marker": {
          "symbol": "circle"
         },
         "mode": "lines+markers",
         "name": "Uzbekistan",
         "orientation": "v",
         "showlegend": true,
         "type": "scatter",
         "x": [
          2004,
          2009,
          2015
         ],
         "xaxis": "x",
         "y": [
          0.175,
          0.22,
          0.16
         ],
         "yaxis": "y"
        },
        {
         "hovertemplate": "country=Yugoslavia (Federal Republic of)<br>Year=%{x}<br>Women in Parliament(%)=%{y}<extra></extra>",
         "legendgroup": "Yugoslavia (Federal Republic of)",
         "line": {
          "color": "#FFA15A",
          "dash": "solid"
         },
         "marker": {
          "symbol": "circle"
         },
         "mode": "lines+markers",
         "name": "Yugoslavia (Federal Republic of)",
         "orientation": "v",
         "showlegend": true,
         "type": "scatter",
         "x": [
          2000
         ],
         "xaxis": "x",
         "y": [
          0.07245
         ],
         "yaxis": "y"
        }
       ],
       "layout": {
        "font": {
         "color": "blue",
         "family": "Courier New"
        },
        "legend": {
         "title": {
          "font": {
           "color": "green"
          },
          "text": "country"
         },
         "tracegroupgap": 0
        },
        "template": {
         "data": {
          "bar": [
           {
            "error_x": {
             "color": "#2a3f5f"
            },
            "error_y": {
             "color": "#2a3f5f"
            },
            "marker": {
             "line": {
              "color": "#E5ECF6",
              "width": 0.5
             },
             "pattern": {
              "fillmode": "overlay",
              "size": 10,
              "solidity": 0.2
             }
            },
            "type": "bar"
           }
          ],
          "barpolar": [
           {
            "marker": {
             "line": {
              "color": "#E5ECF6",
              "width": 0.5
             },
             "pattern": {
              "fillmode": "overlay",
              "size": 10,
              "solidity": 0.2
             }
            },
            "type": "barpolar"
           }
          ],
          "carpet": [
           {
            "aaxis": {
             "endlinecolor": "#2a3f5f",
             "gridcolor": "white",
             "linecolor": "white",
             "minorgridcolor": "white",
             "startlinecolor": "#2a3f5f"
            },
            "baxis": {
             "endlinecolor": "#2a3f5f",
             "gridcolor": "white",
             "linecolor": "white",
             "minorgridcolor": "white",
             "startlinecolor": "#2a3f5f"
            },
            "type": "carpet"
           }
          ],
          "choropleth": [
           {
            "colorbar": {
             "outlinewidth": 0,
             "ticks": ""
            },
            "type": "choropleth"
           }
          ],
          "contour": [
           {
            "colorbar": {
             "outlinewidth": 0,
             "ticks": ""
            },
            "colorscale": [
             [
              0,
              "#0d0887"
             ],
             [
              0.1111111111111111,
              "#46039f"
             ],
             [
              0.2222222222222222,
              "#7201a8"
             ],
             [
              0.3333333333333333,
              "#9c179e"
             ],
             [
              0.4444444444444444,
              "#bd3786"
             ],
             [
              0.5555555555555556,
              "#d8576b"
             ],
             [
              0.6666666666666666,
              "#ed7953"
             ],
             [
              0.7777777777777778,
              "#fb9f3a"
             ],
             [
              0.8888888888888888,
              "#fdca26"
             ],
             [
              1,
              "#f0f921"
             ]
            ],
            "type": "contour"
           }
          ],
          "contourcarpet": [
           {
            "colorbar": {
             "outlinewidth": 0,
             "ticks": ""
            },
            "type": "contourcarpet"
           }
          ],
          "heatmap": [
           {
            "colorbar": {
             "outlinewidth": 0,
             "ticks": ""
            },
            "colorscale": [
             [
              0,
              "#0d0887"
             ],
             [
              0.1111111111111111,
              "#46039f"
             ],
             [
              0.2222222222222222,
              "#7201a8"
             ],
             [
              0.3333333333333333,
              "#9c179e"
             ],
             [
              0.4444444444444444,
              "#bd3786"
             ],
             [
              0.5555555555555556,
              "#d8576b"
             ],
             [
              0.6666666666666666,
              "#ed7953"
             ],
             [
              0.7777777777777778,
              "#fb9f3a"
             ],
             [
              0.8888888888888888,
              "#fdca26"
             ],
             [
              1,
              "#f0f921"
             ]
            ],
            "type": "heatmap"
           }
          ],
          "heatmapgl": [
           {
            "colorbar": {
             "outlinewidth": 0,
             "ticks": ""
            },
            "colorscale": [
             [
              0,
              "#0d0887"
             ],
             [
              0.1111111111111111,
              "#46039f"
             ],
             [
              0.2222222222222222,
              "#7201a8"
             ],
             [
              0.3333333333333333,
              "#9c179e"
             ],
             [
              0.4444444444444444,
              "#bd3786"
             ],
             [
              0.5555555555555556,
              "#d8576b"
             ],
             [
              0.6666666666666666,
              "#ed7953"
             ],
             [
              0.7777777777777778,
              "#fb9f3a"
             ],
             [
              0.8888888888888888,
              "#fdca26"
             ],
             [
              1,
              "#f0f921"
             ]
            ],
            "type": "heatmapgl"
           }
          ],
          "histogram": [
           {
            "marker": {
             "pattern": {
              "fillmode": "overlay",
              "size": 10,
              "solidity": 0.2
             }
            },
            "type": "histogram"
           }
          ],
          "histogram2d": [
           {
            "colorbar": {
             "outlinewidth": 0,
             "ticks": ""
            },
            "colorscale": [
             [
              0,
              "#0d0887"
             ],
             [
              0.1111111111111111,
              "#46039f"
             ],
             [
              0.2222222222222222,
              "#7201a8"
             ],
             [
              0.3333333333333333,
              "#9c179e"
             ],
             [
              0.4444444444444444,
              "#bd3786"
             ],
             [
              0.5555555555555556,
              "#d8576b"
             ],
             [
              0.6666666666666666,
              "#ed7953"
             ],
             [
              0.7777777777777778,
              "#fb9f3a"
             ],
             [
              0.8888888888888888,
              "#fdca26"
             ],
             [
              1,
              "#f0f921"
             ]
            ],
            "type": "histogram2d"
           }
          ],
          "histogram2dcontour": [
           {
            "colorbar": {
             "outlinewidth": 0,
             "ticks": ""
            },
            "colorscale": [
             [
              0,
              "#0d0887"
             ],
             [
              0.1111111111111111,
              "#46039f"
             ],
             [
              0.2222222222222222,
              "#7201a8"
             ],
             [
              0.3333333333333333,
              "#9c179e"
             ],
             [
              0.4444444444444444,
              "#bd3786"
             ],
             [
              0.5555555555555556,
              "#d8576b"
             ],
             [
              0.6666666666666666,
              "#ed7953"
             ],
             [
              0.7777777777777778,
              "#fb9f3a"
             ],
             [
              0.8888888888888888,
              "#fdca26"
             ],
             [
              1,
              "#f0f921"
             ]
            ],
            "type": "histogram2dcontour"
           }
          ],
          "mesh3d": [
           {
            "colorbar": {
             "outlinewidth": 0,
             "ticks": ""
            },
            "type": "mesh3d"
           }
          ],
          "parcoords": [
           {
            "line": {
             "colorbar": {
              "outlinewidth": 0,
              "ticks": ""
             }
            },
            "type": "parcoords"
           }
          ],
          "pie": [
           {
            "automargin": true,
            "type": "pie"
           }
          ],
          "scatter": [
           {
            "marker": {
             "colorbar": {
              "outlinewidth": 0,
              "ticks": ""
             }
            },
            "type": "scatter"
           }
          ],
          "scatter3d": [
           {
            "line": {
             "colorbar": {
              "outlinewidth": 0,
              "ticks": ""
             }
            },
            "marker": {
             "colorbar": {
              "outlinewidth": 0,
              "ticks": ""
             }
            },
            "type": "scatter3d"
           }
          ],
          "scattercarpet": [
           {
            "marker": {
             "colorbar": {
              "outlinewidth": 0,
              "ticks": ""
             }
            },
            "type": "scattercarpet"
           }
          ],
          "scattergeo": [
           {
            "marker": {
             "colorbar": {
              "outlinewidth": 0,
              "ticks": ""
             }
            },
            "type": "scattergeo"
           }
          ],
          "scattergl": [
           {
            "marker": {
             "colorbar": {
              "outlinewidth": 0,
              "ticks": ""
             }
            },
            "type": "scattergl"
           }
          ],
          "scattermapbox": [
           {
            "marker": {
             "colorbar": {
              "outlinewidth": 0,
              "ticks": ""
             }
            },
            "type": "scattermapbox"
           }
          ],
          "scatterpolar": [
           {
            "marker": {
             "colorbar": {
              "outlinewidth": 0,
              "ticks": ""
             }
            },
            "type": "scatterpolar"
           }
          ],
          "scatterpolargl": [
           {
            "marker": {
             "colorbar": {
              "outlinewidth": 0,
              "ticks": ""
             }
            },
            "type": "scatterpolargl"
           }
          ],
          "scatterternary": [
           {
            "marker": {
             "colorbar": {
              "outlinewidth": 0,
              "ticks": ""
             }
            },
            "type": "scatterternary"
           }
          ],
          "surface": [
           {
            "colorbar": {
             "outlinewidth": 0,
             "ticks": ""
            },
            "colorscale": [
             [
              0,
              "#0d0887"
             ],
             [
              0.1111111111111111,
              "#46039f"
             ],
             [
              0.2222222222222222,
              "#7201a8"
             ],
             [
              0.3333333333333333,
              "#9c179e"
             ],
             [
              0.4444444444444444,
              "#bd3786"
             ],
             [
              0.5555555555555556,
              "#d8576b"
             ],
             [
              0.6666666666666666,
              "#ed7953"
             ],
             [
              0.7777777777777778,
              "#fb9f3a"
             ],
             [
              0.8888888888888888,
              "#fdca26"
             ],
             [
              1,
              "#f0f921"
             ]
            ],
            "type": "surface"
           }
          ],
          "table": [
           {
            "cells": {
             "fill": {
              "color": "#EBF0F8"
             },
             "line": {
              "color": "white"
             }
            },
            "header": {
             "fill": {
              "color": "#C8D4E3"
             },
             "line": {
              "color": "white"
             }
            },
            "type": "table"
           }
          ]
         },
         "layout": {
          "annotationdefaults": {
           "arrowcolor": "#2a3f5f",
           "arrowhead": 0,
           "arrowwidth": 1
          },
          "autotypenumbers": "strict",
          "coloraxis": {
           "colorbar": {
            "outlinewidth": 0,
            "ticks": ""
           }
          },
          "colorscale": {
           "diverging": [
            [
             0,
             "#8e0152"
            ],
            [
             0.1,
             "#c51b7d"
            ],
            [
             0.2,
             "#de77ae"
            ],
            [
             0.3,
             "#f1b6da"
            ],
            [
             0.4,
             "#fde0ef"
            ],
            [
             0.5,
             "#f7f7f7"
            ],
            [
             0.6,
             "#e6f5d0"
            ],
            [
             0.7,
             "#b8e186"
            ],
            [
             0.8,
             "#7fbc41"
            ],
            [
             0.9,
             "#4d9221"
            ],
            [
             1,
             "#276419"
            ]
           ],
           "sequential": [
            [
             0,
             "#0d0887"
            ],
            [
             0.1111111111111111,
             "#46039f"
            ],
            [
             0.2222222222222222,
             "#7201a8"
            ],
            [
             0.3333333333333333,
             "#9c179e"
            ],
            [
             0.4444444444444444,
             "#bd3786"
            ],
            [
             0.5555555555555556,
             "#d8576b"
            ],
            [
             0.6666666666666666,
             "#ed7953"
            ],
            [
             0.7777777777777778,
             "#fb9f3a"
            ],
            [
             0.8888888888888888,
             "#fdca26"
            ],
            [
             1,
             "#f0f921"
            ]
           ],
           "sequentialminus": [
            [
             0,
             "#0d0887"
            ],
            [
             0.1111111111111111,
             "#46039f"
            ],
            [
             0.2222222222222222,
             "#7201a8"
            ],
            [
             0.3333333333333333,
             "#9c179e"
            ],
            [
             0.4444444444444444,
             "#bd3786"
            ],
            [
             0.5555555555555556,
             "#d8576b"
            ],
            [
             0.6666666666666666,
             "#ed7953"
            ],
            [
             0.7777777777777778,
             "#fb9f3a"
            ],
            [
             0.8888888888888888,
             "#fdca26"
            ],
            [
             1,
             "#f0f921"
            ]
           ]
          },
          "colorway": [
           "#636efa",
           "#EF553B",
           "#00cc96",
           "#ab63fa",
           "#FFA15A",
           "#19d3f3",
           "#FF6692",
           "#B6E880",
           "#FF97FF",
           "#FECB52"
          ],
          "font": {
           "color": "#2a3f5f"
          },
          "geo": {
           "bgcolor": "white",
           "lakecolor": "white",
           "landcolor": "#E5ECF6",
           "showlakes": true,
           "showland": true,
           "subunitcolor": "white"
          },
          "hoverlabel": {
           "align": "left"
          },
          "hovermode": "closest",
          "mapbox": {
           "style": "light"
          },
          "paper_bgcolor": "white",
          "plot_bgcolor": "#E5ECF6",
          "polar": {
           "angularaxis": {
            "gridcolor": "white",
            "linecolor": "white",
            "ticks": ""
           },
           "bgcolor": "#E5ECF6",
           "radialaxis": {
            "gridcolor": "white",
            "linecolor": "white",
            "ticks": ""
           }
          },
          "scene": {
           "xaxis": {
            "backgroundcolor": "#E5ECF6",
            "gridcolor": "white",
            "gridwidth": 2,
            "linecolor": "white",
            "showbackground": true,
            "ticks": "",
            "zerolinecolor": "white"
           },
           "yaxis": {
            "backgroundcolor": "#E5ECF6",
            "gridcolor": "white",
            "gridwidth": 2,
            "linecolor": "white",
            "showbackground": true,
            "ticks": "",
            "zerolinecolor": "white"
           },
           "zaxis": {
            "backgroundcolor": "#E5ECF6",
            "gridcolor": "white",
            "gridwidth": 2,
            "linecolor": "white",
            "showbackground": true,
            "ticks": "",
            "zerolinecolor": "white"
           }
          },
          "shapedefaults": {
           "line": {
            "color": "#2a3f5f"
           }
          },
          "ternary": {
           "aaxis": {
            "gridcolor": "white",
            "linecolor": "white",
            "ticks": ""
           },
           "baxis": {
            "gridcolor": "white",
            "linecolor": "white",
            "ticks": ""
           },
           "bgcolor": "#E5ECF6",
           "caxis": {
            "gridcolor": "white",
            "linecolor": "white",
            "ticks": ""
           }
          },
          "title": {
           "x": 0.05
          },
          "xaxis": {
           "automargin": true,
           "gridcolor": "white",
           "linecolor": "white",
           "ticks": "",
           "title": {
            "standoff": 15
           },
           "zerolinecolor": "white",
           "zerolinewidth": 2
          },
          "yaxis": {
           "automargin": true,
           "gridcolor": "white",
           "linecolor": "white",
           "ticks": "",
           "title": {
            "standoff": 15
           },
           "zerolinecolor": "white",
           "zerolinewidth": 2
          }
         }
        },
        "title": {
         "font": {
          "color": "red",
          "family": "Courier New"
         },
         "text": "Europe - Women Representation in Parliament since 2000(%)"
        },
        "xaxis": {
         "anchor": "y",
         "domain": [
          0,
          1
         ],
         "title": {
          "text": "Year"
         }
        },
        "yaxis": {
         "anchor": "x",
         "domain": [
          0,
          1
         ],
         "title": {
          "text": "Women in Parliament(%)"
         }
        }
       }
      }
     },
     "metadata": {},
     "output_type": "display_data"
    }
   ],
   "source": [
    "# select region for Europe\n",
    "df_eur = df.query(\"(chamber_type != 'upper') and (year >= 2000) and (region == 'EUR')\")\n",
    "# plot percentage throught the years by country\n",
    "plot_perc_years(df_eur, 'Europe - Women Representation in Parliament since 2000(%)')"
   ]
  },
  {
   "cell_type": "code",
   "execution_count": 10,
   "metadata": {},
   "outputs": [
    {
     "data": {
      "application/vnd.plotly.v1+json": {
       "config": {
        "plotlyServerURL": "https://plot.ly"
       },
       "data": [
        {
         "hovertemplate": "country=Algeria<br>Year=%{x}<br>Women in Parliament(%)=%{y}<extra></extra>",
         "legendgroup": "Algeria",
         "line": {
          "color": "#636efa",
          "dash": "solid"
         },
         "marker": {
          "symbol": "circle"
         },
         "mode": "lines+markers",
         "name": "Algeria",
         "orientation": "v",
         "showlegend": true,
         "type": "scatter",
         "x": [
          2002,
          2002,
          2007,
          2007,
          2012,
          2017
         ],
         "xaxis": "x",
         "y": [
          0.0617,
          0.0617,
          0.07196,
          0.07715,
          0.316,
          0.2576
         ],
         "yaxis": "y"
        },
        {
         "hovertemplate": "country=Egypt<br>Year=%{x}<br>Women in Parliament(%)=%{y}<extra></extra>",
         "legendgroup": "Egypt",
         "line": {
          "color": "#EF553B",
          "dash": "solid"
         },
         "marker": {
          "symbol": "circle"
         },
         "mode": "lines+markers",
         "name": "Egypt",
         "orientation": "v",
         "showlegend": true,
         "type": "scatter",
         "x": [
          2000,
          2005,
          2010,
          2011,
          2015
         ],
         "xaxis": "x",
         "y": [
          0.02423,
          0.01982,
          0.127,
          0.01968,
          0.1493
         ],
         "yaxis": "y"
        },
        {
         "hovertemplate": "country=Iraq<br>Year=%{x}<br>Women in Parliament(%)=%{y}<extra></extra>",
         "legendgroup": "Iraq",
         "line": {
          "color": "#00cc96",
          "dash": "solid"
         },
         "marker": {
          "symbol": "circle"
         },
         "mode": "lines+markers",
         "name": "Iraq",
         "orientation": "v",
         "showlegend": true,
         "type": "scatter",
         "x": [
          2000,
          2005,
          2010,
          2014,
          2014,
          2018
         ],
         "xaxis": "x",
         "y": [
          0.076,
          0.315,
          0.2522,
          0.253,
          0.253,
          0.2522
         ],
         "yaxis": "y"
        },
        {
         "hovertemplate": "country=Jordan<br>Year=%{x}<br>Women in Parliament(%)=%{y}<extra></extra>",
         "legendgroup": "Jordan",
         "line": {
          "color": "#ab63fa",
          "dash": "solid"
         },
         "marker": {
          "symbol": "circle"
         },
         "mode": "lines+markers",
         "name": "Jordan",
         "orientation": "v",
         "showlegend": true,
         "type": "scatter",
         "x": [
          2003,
          2007,
          2010,
          2013,
          2013,
          2016,
          2016
         ],
         "xaxis": "x",
         "y": [
          0.05453,
          0.06366,
          0.10834,
          0.10834,
          0.12164,
          0.12,
          0.1538
         ],
         "yaxis": "y"
        },
        {
         "hovertemplate": "country=Kuwait<br>Year=%{x}<br>Women in Parliament(%)=%{y}<extra></extra>",
         "legendgroup": "Kuwait",
         "line": {
          "color": "#FFA15A",
          "dash": "solid"
         },
         "marker": {
          "symbol": "circle"
         },
         "mode": "lines+markers",
         "name": "Kuwait",
         "orientation": "v",
         "showlegend": true,
         "type": "scatter",
         "x": [
          2003,
          2006,
          2008,
          2009,
          2012,
          2012,
          2012,
          2013,
          2016,
          2016
         ],
         "xaxis": "x",
         "y": [
          0,
          0.01538,
          0.03076,
          0.0769,
          0,
          0.0635,
          0.0635,
          0.8,
          0.01538,
          0.02
         ],
         "yaxis": "y"
        },
        {
         "hovertemplate": "country=Lebanon<br>Year=%{x}<br>Women in Parliament(%)=%{y}<extra></extra>",
         "legendgroup": "Lebanon",
         "line": {
          "color": "#19d3f3",
          "dash": "solid"
         },
         "marker": {
          "symbol": "circle"
         },
         "mode": "lines+markers",
         "name": "Lebanon",
         "orientation": "v",
         "showlegend": true,
         "type": "scatter",
         "x": [
          2000,
          2005,
          2009,
          2018
         ],
         "xaxis": "x",
         "y": [
          0.02344,
          0.04688,
          0.03125,
          0.047
         ],
         "yaxis": "y"
        },
        {
         "hovertemplate": "country=Libya<br>Year=%{x}<br>Women in Parliament(%)=%{y}<extra></extra>",
         "legendgroup": "Libya",
         "line": {
          "color": "#FF6692",
          "dash": "solid"
         },
         "marker": {
          "symbol": "circle"
         },
         "mode": "lines+markers",
         "name": "Libya",
         "orientation": "v",
         "showlegend": true,
         "type": "scatter",
         "x": [
          2012,
          2014
         ],
         "xaxis": "x",
         "y": [
          0.165,
          0.1595
         ],
         "yaxis": "y"
        },
        {
         "hovertemplate": "country=Libyan Arab Jamahiriya<br>Year=%{x}<br>Women in Parliament(%)=%{y}<extra></extra>",
         "legendgroup": "Libyan Arab Jamahiriya",
         "line": {
          "color": "#B6E880",
          "dash": "solid"
         },
         "marker": {
          "symbol": "circle"
         },
         "mode": "lines+markers",
         "name": "Libyan Arab Jamahiriya",
         "orientation": "v",
         "showlegend": true,
         "type": "scatter",
         "x": [
          2003,
          2006
         ],
         "xaxis": "x",
         "y": [
          null,
          0.0769
         ],
         "yaxis": "y"
        },
        {
         "hovertemplate": "country=Morocco<br>Year=%{x}<br>Women in Parliament(%)=%{y}<extra></extra>",
         "legendgroup": "Morocco",
         "line": {
          "color": "#FF97FF",
          "dash": "solid"
         },
         "marker": {
          "symbol": "circle"
         },
         "mode": "lines+markers",
         "name": "Morocco",
         "orientation": "v",
         "showlegend": true,
         "type": "scatter",
         "x": [
          2002,
          2007,
          2011,
          2011,
          2016,
          2016
         ],
         "xaxis": "x",
         "y": [
          0.10767,
          0.1046,
          0.1671,
          0.1697,
          0.1697,
          0.2051
         ],
         "yaxis": "y"
        },
        {
         "hovertemplate": "country=Oman<br>Year=%{x}<br>Women in Parliament(%)=%{y}<extra></extra>",
         "legendgroup": "Oman",
         "line": {
          "color": "#FECB52",
          "dash": "solid"
         },
         "marker": {
          "symbol": "circle"
         },
         "mode": "lines+markers",
         "name": "Oman",
         "orientation": "v",
         "showlegend": true,
         "type": "scatter",
         "x": [
          2003,
          2007,
          2011,
          2015
         ],
         "xaxis": "x",
         "y": [
          0.0241,
          0,
          0.0119,
          0.011765
         ],
         "yaxis": "y"
        },
        {
         "hovertemplate": "country=Qatar<br>Year=%{x}<br>Women in Parliament(%)=%{y}<extra></extra>",
         "legendgroup": "Qatar",
         "line": {
          "color": "#636efa",
          "dash": "solid"
         },
         "marker": {
          "symbol": "circle"
         },
         "mode": "lines+markers",
         "name": "Qatar",
         "orientation": "v",
         "showlegend": true,
         "type": "scatter",
         "x": [
          2005,
          2007,
          2010,
          2013
         ],
         "xaxis": "x",
         "y": [
          0,
          0,
          0,
          0
         ],
         "yaxis": "y"
        },
        {
         "hovertemplate": "country=Saudi Arabia<br>Year=%{x}<br>Women in Parliament(%)=%{y}<extra></extra>",
         "legendgroup": "Saudi Arabia",
         "line": {
          "color": "#EF553B",
          "dash": "solid"
         },
         "marker": {
          "symbol": "circle"
         },
         "mode": "lines+markers",
         "name": "Saudi Arabia",
         "orientation": "v",
         "showlegend": true,
         "type": "scatter",
         "x": [
          2005,
          2009,
          2013,
          2016
         ],
         "xaxis": "x",
         "y": [
          0,
          0.2267,
          0.1987,
          0.1987
         ],
         "yaxis": "y"
        },
        {
         "hovertemplate": "country=Sudan<br>Year=%{x}<br>Women in Parliament(%)=%{y}<extra></extra>",
         "legendgroup": "Sudan",
         "line": {
          "color": "#00cc96",
          "dash": "solid"
         },
         "marker": {
          "symbol": "circle"
         },
         "mode": "lines+markers",
         "name": "Sudan",
         "orientation": "v",
         "showlegend": true,
         "type": "scatter",
         "x": [
          2000,
          2005,
          2010,
          2015
         ],
         "xaxis": "x",
         "y": [
          0.0972,
          0.1466,
          0.2556,
          0.3052
         ],
         "yaxis": "y"
        },
        {
         "hovertemplate": "country=Syrian Arab Republic<br>Year=%{x}<br>Women in Parliament(%)=%{y}<extra></extra>",
         "legendgroup": "Syrian Arab Republic",
         "line": {
          "color": "#ab63fa",
          "dash": "solid"
         },
         "marker": {
          "symbol": "circle"
         },
         "mode": "lines+markers",
         "name": "Syrian Arab Republic",
         "orientation": "v",
         "showlegend": true,
         "type": "scatter",
         "x": [
          2003,
          2007,
          2012,
          2016,
          2016
         ],
         "xaxis": "x",
         "y": [
          0.12,
          0.124,
          0.12,
          0.124,
          0.132
         ],
         "yaxis": "y"
        },
        {
         "hovertemplate": "country=Tunisia<br>Year=%{x}<br>Women in Parliament(%)=%{y}<extra></extra>",
         "legendgroup": "Tunisia",
         "line": {
          "color": "#FFA15A",
          "dash": "solid"
         },
         "marker": {
          "symbol": "circle"
         },
         "mode": "lines+markers",
         "name": "Tunisia",
         "orientation": "v",
         "showlegend": true,
         "type": "scatter",
         "x": [
          2004,
          2009,
          2011,
          2011,
          2014
         ],
         "xaxis": "x",
         "y": [
          0.2275,
          0.2756,
          0.2627,
          0.2673,
          0.3135
         ],
         "yaxis": "y"
        },
        {
         "hovertemplate": "country=United Arab Emirates<br>Year=%{x}<br>Women in Parliament(%)=%{y}<extra></extra>",
         "legendgroup": "United Arab Emirates",
         "line": {
          "color": "#19d3f3",
          "dash": "solid"
         },
         "marker": {
          "symbol": "circle"
         },
         "mode": "lines+markers",
         "name": "United Arab Emirates",
         "orientation": "v",
         "showlegend": true,
         "type": "scatter",
         "x": [
          2003,
          2006,
          2011,
          2012,
          2015
         ],
         "xaxis": "x",
         "y": [
          0,
          0.05,
          0.05,
          0.175,
          0.225
         ],
         "yaxis": "y"
        },
        {
         "hovertemplate": "country=Yemen<br>Year=%{x}<br>Women in Parliament(%)=%{y}<extra></extra>",
         "legendgroup": "Yemen",
         "line": {
          "color": "#FF6692",
          "dash": "solid"
         },
         "marker": {
          "symbol": "circle"
         },
         "mode": "lines+markers",
         "name": "Yemen",
         "orientation": "v",
         "showlegend": true,
         "type": "scatter",
         "x": [
          2003
         ],
         "xaxis": "x",
         "y": [
          0.003323
         ],
         "yaxis": "y"
        }
       ],
       "layout": {
        "font": {
         "color": "blue",
         "family": "Courier New"
        },
        "legend": {
         "title": {
          "font": {
           "color": "green"
          },
          "text": "country"
         },
         "tracegroupgap": 0
        },
        "template": {
         "data": {
          "bar": [
           {
            "error_x": {
             "color": "#2a3f5f"
            },
            "error_y": {
             "color": "#2a3f5f"
            },
            "marker": {
             "line": {
              "color": "#E5ECF6",
              "width": 0.5
             },
             "pattern": {
              "fillmode": "overlay",
              "size": 10,
              "solidity": 0.2
             }
            },
            "type": "bar"
           }
          ],
          "barpolar": [
           {
            "marker": {
             "line": {
              "color": "#E5ECF6",
              "width": 0.5
             },
             "pattern": {
              "fillmode": "overlay",
              "size": 10,
              "solidity": 0.2
             }
            },
            "type": "barpolar"
           }
          ],
          "carpet": [
           {
            "aaxis": {
             "endlinecolor": "#2a3f5f",
             "gridcolor": "white",
             "linecolor": "white",
             "minorgridcolor": "white",
             "startlinecolor": "#2a3f5f"
            },
            "baxis": {
             "endlinecolor": "#2a3f5f",
             "gridcolor": "white",
             "linecolor": "white",
             "minorgridcolor": "white",
             "startlinecolor": "#2a3f5f"
            },
            "type": "carpet"
           }
          ],
          "choropleth": [
           {
            "colorbar": {
             "outlinewidth": 0,
             "ticks": ""
            },
            "type": "choropleth"
           }
          ],
          "contour": [
           {
            "colorbar": {
             "outlinewidth": 0,
             "ticks": ""
            },
            "colorscale": [
             [
              0,
              "#0d0887"
             ],
             [
              0.1111111111111111,
              "#46039f"
             ],
             [
              0.2222222222222222,
              "#7201a8"
             ],
             [
              0.3333333333333333,
              "#9c179e"
             ],
             [
              0.4444444444444444,
              "#bd3786"
             ],
             [
              0.5555555555555556,
              "#d8576b"
             ],
             [
              0.6666666666666666,
              "#ed7953"
             ],
             [
              0.7777777777777778,
              "#fb9f3a"
             ],
             [
              0.8888888888888888,
              "#fdca26"
             ],
             [
              1,
              "#f0f921"
             ]
            ],
            "type": "contour"
           }
          ],
          "contourcarpet": [
           {
            "colorbar": {
             "outlinewidth": 0,
             "ticks": ""
            },
            "type": "contourcarpet"
           }
          ],
          "heatmap": [
           {
            "colorbar": {
             "outlinewidth": 0,
             "ticks": ""
            },
            "colorscale": [
             [
              0,
              "#0d0887"
             ],
             [
              0.1111111111111111,
              "#46039f"
             ],
             [
              0.2222222222222222,
              "#7201a8"
             ],
             [
              0.3333333333333333,
              "#9c179e"
             ],
             [
              0.4444444444444444,
              "#bd3786"
             ],
             [
              0.5555555555555556,
              "#d8576b"
             ],
             [
              0.6666666666666666,
              "#ed7953"
             ],
             [
              0.7777777777777778,
              "#fb9f3a"
             ],
             [
              0.8888888888888888,
              "#fdca26"
             ],
             [
              1,
              "#f0f921"
             ]
            ],
            "type": "heatmap"
           }
          ],
          "heatmapgl": [
           {
            "colorbar": {
             "outlinewidth": 0,
             "ticks": ""
            },
            "colorscale": [
             [
              0,
              "#0d0887"
             ],
             [
              0.1111111111111111,
              "#46039f"
             ],
             [
              0.2222222222222222,
              "#7201a8"
             ],
             [
              0.3333333333333333,
              "#9c179e"
             ],
             [
              0.4444444444444444,
              "#bd3786"
             ],
             [
              0.5555555555555556,
              "#d8576b"
             ],
             [
              0.6666666666666666,
              "#ed7953"
             ],
             [
              0.7777777777777778,
              "#fb9f3a"
             ],
             [
              0.8888888888888888,
              "#fdca26"
             ],
             [
              1,
              "#f0f921"
             ]
            ],
            "type": "heatmapgl"
           }
          ],
          "histogram": [
           {
            "marker": {
             "pattern": {
              "fillmode": "overlay",
              "size": 10,
              "solidity": 0.2
             }
            },
            "type": "histogram"
           }
          ],
          "histogram2d": [
           {
            "colorbar": {
             "outlinewidth": 0,
             "ticks": ""
            },
            "colorscale": [
             [
              0,
              "#0d0887"
             ],
             [
              0.1111111111111111,
              "#46039f"
             ],
             [
              0.2222222222222222,
              "#7201a8"
             ],
             [
              0.3333333333333333,
              "#9c179e"
             ],
             [
              0.4444444444444444,
              "#bd3786"
             ],
             [
              0.5555555555555556,
              "#d8576b"
             ],
             [
              0.6666666666666666,
              "#ed7953"
             ],
             [
              0.7777777777777778,
              "#fb9f3a"
             ],
             [
              0.8888888888888888,
              "#fdca26"
             ],
             [
              1,
              "#f0f921"
             ]
            ],
            "type": "histogram2d"
           }
          ],
          "histogram2dcontour": [
           {
            "colorbar": {
             "outlinewidth": 0,
             "ticks": ""
            },
            "colorscale": [
             [
              0,
              "#0d0887"
             ],
             [
              0.1111111111111111,
              "#46039f"
             ],
             [
              0.2222222222222222,
              "#7201a8"
             ],
             [
              0.3333333333333333,
              "#9c179e"
             ],
             [
              0.4444444444444444,
              "#bd3786"
             ],
             [
              0.5555555555555556,
              "#d8576b"
             ],
             [
              0.6666666666666666,
              "#ed7953"
             ],
             [
              0.7777777777777778,
              "#fb9f3a"
             ],
             [
              0.8888888888888888,
              "#fdca26"
             ],
             [
              1,
              "#f0f921"
             ]
            ],
            "type": "histogram2dcontour"
           }
          ],
          "mesh3d": [
           {
            "colorbar": {
             "outlinewidth": 0,
             "ticks": ""
            },
            "type": "mesh3d"
           }
          ],
          "parcoords": [
           {
            "line": {
             "colorbar": {
              "outlinewidth": 0,
              "ticks": ""
             }
            },
            "type": "parcoords"
           }
          ],
          "pie": [
           {
            "automargin": true,
            "type": "pie"
           }
          ],
          "scatter": [
           {
            "marker": {
             "colorbar": {
              "outlinewidth": 0,
              "ticks": ""
             }
            },
            "type": "scatter"
           }
          ],
          "scatter3d": [
           {
            "line": {
             "colorbar": {
              "outlinewidth": 0,
              "ticks": ""
             }
            },
            "marker": {
             "colorbar": {
              "outlinewidth": 0,
              "ticks": ""
             }
            },
            "type": "scatter3d"
           }
          ],
          "scattercarpet": [
           {
            "marker": {
             "colorbar": {
              "outlinewidth": 0,
              "ticks": ""
             }
            },
            "type": "scattercarpet"
           }
          ],
          "scattergeo": [
           {
            "marker": {
             "colorbar": {
              "outlinewidth": 0,
              "ticks": ""
             }
            },
            "type": "scattergeo"
           }
          ],
          "scattergl": [
           {
            "marker": {
             "colorbar": {
              "outlinewidth": 0,
              "ticks": ""
             }
            },
            "type": "scattergl"
           }
          ],
          "scattermapbox": [
           {
            "marker": {
             "colorbar": {
              "outlinewidth": 0,
              "ticks": ""
             }
            },
            "type": "scattermapbox"
           }
          ],
          "scatterpolar": [
           {
            "marker": {
             "colorbar": {
              "outlinewidth": 0,
              "ticks": ""
             }
            },
            "type": "scatterpolar"
           }
          ],
          "scatterpolargl": [
           {
            "marker": {
             "colorbar": {
              "outlinewidth": 0,
              "ticks": ""
             }
            },
            "type": "scatterpolargl"
           }
          ],
          "scatterternary": [
           {
            "marker": {
             "colorbar": {
              "outlinewidth": 0,
              "ticks": ""
             }
            },
            "type": "scatterternary"
           }
          ],
          "surface": [
           {
            "colorbar": {
             "outlinewidth": 0,
             "ticks": ""
            },
            "colorscale": [
             [
              0,
              "#0d0887"
             ],
             [
              0.1111111111111111,
              "#46039f"
             ],
             [
              0.2222222222222222,
              "#7201a8"
             ],
             [
              0.3333333333333333,
              "#9c179e"
             ],
             [
              0.4444444444444444,
              "#bd3786"
             ],
             [
              0.5555555555555556,
              "#d8576b"
             ],
             [
              0.6666666666666666,
              "#ed7953"
             ],
             [
              0.7777777777777778,
              "#fb9f3a"
             ],
             [
              0.8888888888888888,
              "#fdca26"
             ],
             [
              1,
              "#f0f921"
             ]
            ],
            "type": "surface"
           }
          ],
          "table": [
           {
            "cells": {
             "fill": {
              "color": "#EBF0F8"
             },
             "line": {
              "color": "white"
             }
            },
            "header": {
             "fill": {
              "color": "#C8D4E3"
             },
             "line": {
              "color": "white"
             }
            },
            "type": "table"
           }
          ]
         },
         "layout": {
          "annotationdefaults": {
           "arrowcolor": "#2a3f5f",
           "arrowhead": 0,
           "arrowwidth": 1
          },
          "autotypenumbers": "strict",
          "coloraxis": {
           "colorbar": {
            "outlinewidth": 0,
            "ticks": ""
           }
          },
          "colorscale": {
           "diverging": [
            [
             0,
             "#8e0152"
            ],
            [
             0.1,
             "#c51b7d"
            ],
            [
             0.2,
             "#de77ae"
            ],
            [
             0.3,
             "#f1b6da"
            ],
            [
             0.4,
             "#fde0ef"
            ],
            [
             0.5,
             "#f7f7f7"
            ],
            [
             0.6,
             "#e6f5d0"
            ],
            [
             0.7,
             "#b8e186"
            ],
            [
             0.8,
             "#7fbc41"
            ],
            [
             0.9,
             "#4d9221"
            ],
            [
             1,
             "#276419"
            ]
           ],
           "sequential": [
            [
             0,
             "#0d0887"
            ],
            [
             0.1111111111111111,
             "#46039f"
            ],
            [
             0.2222222222222222,
             "#7201a8"
            ],
            [
             0.3333333333333333,
             "#9c179e"
            ],
            [
             0.4444444444444444,
             "#bd3786"
            ],
            [
             0.5555555555555556,
             "#d8576b"
            ],
            [
             0.6666666666666666,
             "#ed7953"
            ],
            [
             0.7777777777777778,
             "#fb9f3a"
            ],
            [
             0.8888888888888888,
             "#fdca26"
            ],
            [
             1,
             "#f0f921"
            ]
           ],
           "sequentialminus": [
            [
             0,
             "#0d0887"
            ],
            [
             0.1111111111111111,
             "#46039f"
            ],
            [
             0.2222222222222222,
             "#7201a8"
            ],
            [
             0.3333333333333333,
             "#9c179e"
            ],
            [
             0.4444444444444444,
             "#bd3786"
            ],
            [
             0.5555555555555556,
             "#d8576b"
            ],
            [
             0.6666666666666666,
             "#ed7953"
            ],
            [
             0.7777777777777778,
             "#fb9f3a"
            ],
            [
             0.8888888888888888,
             "#fdca26"
            ],
            [
             1,
             "#f0f921"
            ]
           ]
          },
          "colorway": [
           "#636efa",
           "#EF553B",
           "#00cc96",
           "#ab63fa",
           "#FFA15A",
           "#19d3f3",
           "#FF6692",
           "#B6E880",
           "#FF97FF",
           "#FECB52"
          ],
          "font": {
           "color": "#2a3f5f"
          },
          "geo": {
           "bgcolor": "white",
           "lakecolor": "white",
           "landcolor": "#E5ECF6",
           "showlakes": true,
           "showland": true,
           "subunitcolor": "white"
          },
          "hoverlabel": {
           "align": "left"
          },
          "hovermode": "closest",
          "mapbox": {
           "style": "light"
          },
          "paper_bgcolor": "white",
          "plot_bgcolor": "#E5ECF6",
          "polar": {
           "angularaxis": {
            "gridcolor": "white",
            "linecolor": "white",
            "ticks": ""
           },
           "bgcolor": "#E5ECF6",
           "radialaxis": {
            "gridcolor": "white",
            "linecolor": "white",
            "ticks": ""
           }
          },
          "scene": {
           "xaxis": {
            "backgroundcolor": "#E5ECF6",
            "gridcolor": "white",
            "gridwidth": 2,
            "linecolor": "white",
            "showbackground": true,
            "ticks": "",
            "zerolinecolor": "white"
           },
           "yaxis": {
            "backgroundcolor": "#E5ECF6",
            "gridcolor": "white",
            "gridwidth": 2,
            "linecolor": "white",
            "showbackground": true,
            "ticks": "",
            "zerolinecolor": "white"
           },
           "zaxis": {
            "backgroundcolor": "#E5ECF6",
            "gridcolor": "white",
            "gridwidth": 2,
            "linecolor": "white",
            "showbackground": true,
            "ticks": "",
            "zerolinecolor": "white"
           }
          },
          "shapedefaults": {
           "line": {
            "color": "#2a3f5f"
           }
          },
          "ternary": {
           "aaxis": {
            "gridcolor": "white",
            "linecolor": "white",
            "ticks": ""
           },
           "baxis": {
            "gridcolor": "white",
            "linecolor": "white",
            "ticks": ""
           },
           "bgcolor": "#E5ECF6",
           "caxis": {
            "gridcolor": "white",
            "linecolor": "white",
            "ticks": ""
           }
          },
          "title": {
           "x": 0.05
          },
          "xaxis": {
           "automargin": true,
           "gridcolor": "white",
           "linecolor": "white",
           "ticks": "",
           "title": {
            "standoff": 15
           },
           "zerolinecolor": "white",
           "zerolinewidth": 2
          },
          "yaxis": {
           "automargin": true,
           "gridcolor": "white",
           "linecolor": "white",
           "ticks": "",
           "title": {
            "standoff": 15
           },
           "zerolinecolor": "white",
           "zerolinewidth": 2
          }
         }
        },
        "title": {
         "font": {
          "color": "red",
          "family": "Courier New"
         },
         "text": "Middle East and North Africa - Women Representation in Parliament since 2000(%)"
        },
        "xaxis": {
         "anchor": "y",
         "domain": [
          0,
          1
         ],
         "title": {
          "text": "Year"
         }
        },
        "yaxis": {
         "anchor": "x",
         "domain": [
          0,
          1
         ],
         "title": {
          "text": "Women in Parliament(%)"
         }
        }
       }
      }
     },
     "metadata": {},
     "output_type": "display_data"
    }
   ],
   "source": [
    "# select region for Europe\n",
    "df_mena = df.query(\"(chamber_type != 'upper') and (year >= 2000) and (region == 'MENA')\")\n",
    "# plot percentage throught the years by country\n",
    "plot_perc_years(df_mena, 'Middle East and North Africa - Women Representation in Parliament since 2000(%)')"
   ]
  },
  {
   "cell_type": "code",
   "execution_count": 7,
   "metadata": {},
   "outputs": [
    {
     "data": {
      "application/vnd.plotly.v1+json": {
       "config": {
        "plotlyServerURL": "https://plot.ly"
       },
       "data": [
        {
         "hovertemplate": "country=Angola<br>Year=%{x}<br>Women in Parliament(%)=%{y}<extra></extra>",
         "legendgroup": "Angola",
         "line": {
          "color": "#636efa",
          "dash": "solid"
         },
         "marker": {
          "symbol": "circle"
         },
         "mode": "lines+markers",
         "name": "Angola",
         "orientation": "v",
         "showlegend": true,
         "type": "scatter",
         "x": [
          2008,
          2012,
          2017
         ],
         "xaxis": "x",
         "y": [
          0.3728,
          0.3408,
          0.309
         ],
         "yaxis": "y"
        },
        {
         "hovertemplate": "country=Benin<br>Year=%{x}<br>Women in Parliament(%)=%{y}<extra></extra>",
         "legendgroup": "Benin",
         "line": {
          "color": "#EF553B",
          "dash": "solid"
         },
         "marker": {
          "symbol": "circle"
         },
         "mode": "lines+markers",
         "name": "Benin",
         "orientation": "v",
         "showlegend": true,
         "type": "scatter",
         "x": [
          2003,
          2007,
          2011,
          2015
         ],
         "xaxis": "x",
         "y": [
          0.07227,
          0.10846,
          0.08435,
          0.07227
         ],
         "yaxis": "y"
        },
        {
         "hovertemplate": "country=Botswana<br>Year=%{x}<br>Women in Parliament(%)=%{y}<extra></extra>",
         "legendgroup": "Botswana",
         "line": {
          "color": "#00cc96",
          "dash": "solid"
         },
         "marker": {
          "symbol": "circle"
         },
         "mode": "lines+markers",
         "name": "Botswana",
         "orientation": "v",
         "showlegend": true,
         "type": "scatter",
         "x": [
          2004,
          2009,
          2014
         ],
         "xaxis": "x",
         "y": [
          0.1111,
          0.07935,
          0.0952
         ],
         "yaxis": "y"
        },
        {
         "hovertemplate": "country=Burkina Faso<br>Year=%{x}<br>Women in Parliament(%)=%{y}<extra></extra>",
         "legendgroup": "Burkina Faso",
         "line": {
          "color": "#ab63fa",
          "dash": "solid"
         },
         "marker": {
          "symbol": "circle"
         },
         "mode": "lines+markers",
         "name": "Burkina Faso",
         "orientation": "v",
         "showlegend": true,
         "type": "scatter",
         "x": [
          2002,
          2003,
          2007,
          2012,
          2015
         ],
         "xaxis": "x",
         "y": [
          0.0991,
          0.1171,
          0.1532,
          0.1575,
          0.0945
         ],
         "yaxis": "y"
        },
        {
         "hovertemplate": "country=Burundi<br>Year=%{x}<br>Women in Parliament(%)=%{y}<extra></extra>",
         "legendgroup": "Burundi",
         "line": {
          "color": "#FFA15A",
          "dash": "solid"
         },
         "marker": {
          "symbol": "circle"
         },
         "mode": "lines+markers",
         "name": "Burundi",
         "orientation": "v",
         "showlegend": true,
         "type": "scatter",
         "x": [
          2005,
          2010,
          2015
         ],
         "xaxis": "x",
         "y": [
          0.3052,
          0.302,
          0.3635
         ],
         "yaxis": "y"
        },
        {
         "hovertemplate": "country=Cabo Verde<br>Year=%{x}<br>Women in Parliament(%)=%{y}<extra></extra>",
         "legendgroup": "Cabo Verde",
         "line": {
          "color": "#19d3f3",
          "dash": "solid"
         },
         "marker": {
          "symbol": "circle"
         },
         "mode": "lines+markers",
         "name": "Cabo Verde",
         "orientation": "v",
         "showlegend": true,
         "type": "scatter",
         "x": [
          2001,
          2006,
          2011,
          2016,
          2016
         ],
         "xaxis": "x",
         "y": [
          0.1111,
          0.1528,
          0.2084,
          0.2084,
          0.2361
         ],
         "yaxis": "y"
        },
        {
         "hovertemplate": "country=Cameroon<br>Year=%{x}<br>Women in Parliament(%)=%{y}<extra></extra>",
         "legendgroup": "Cameroon",
         "line": {
          "color": "#FF6692",
          "dash": "solid"
         },
         "marker": {
          "symbol": "circle"
         },
         "mode": "lines+markers",
         "name": "Cameroon",
         "orientation": "v",
         "showlegend": true,
         "type": "scatter",
         "x": [
          2002,
          2007,
          2007
         ],
         "xaxis": "x",
         "y": [
          0.08887,
          0.1472,
          null
         ],
         "yaxis": "y"
        },
        {
         "hovertemplate": "country=Comoros<br>Year=%{x}<br>Women in Parliament(%)=%{y}<extra></extra>",
         "legendgroup": "Comoros",
         "line": {
          "color": "#B6E880",
          "dash": "solid"
         },
         "marker": {
          "symbol": "circle"
         },
         "mode": "lines+markers",
         "name": "Comoros",
         "orientation": "v",
         "showlegend": true,
         "type": "scatter",
         "x": [
          2004,
          2009,
          2015
         ],
         "xaxis": "x",
         "y": [
          0.0303,
          0,
          0.0303
         ],
         "yaxis": "y"
        },
        {
         "hovertemplate": "country=Congo (Republic of)<br>Year=%{x}<br>Women in Parliament(%)=%{y}<extra></extra>",
         "legendgroup": "Congo (Republic of)",
         "line": {
          "color": "#FF97FF",
          "dash": "solid"
         },
         "marker": {
          "symbol": "circle"
         },
         "mode": "lines+markers",
         "name": "Congo (Republic of)",
         "orientation": "v",
         "showlegend": true,
         "type": "scatter",
         "x": [
          2002,
          2007,
          2008,
          2012,
          2017
         ],
         "xaxis": "x",
         "y": [
          0.093,
          0.0741,
          0.073,
          0.07355,
          0.1126
         ],
         "yaxis": "y"
        },
        {
         "hovertemplate": "country=Cote d'Ivoire<br>Year=%{x}<br>Women in Parliament(%)=%{y}<extra></extra>",
         "legendgroup": "Cote d'Ivoire",
         "line": {
          "color": "#FECB52",
          "dash": "solid"
         },
         "marker": {
          "symbol": "circle"
         },
         "mode": "lines+markers",
         "name": "Cote d'Ivoire",
         "orientation": "v",
         "showlegend": true,
         "type": "scatter",
         "x": [
          2000,
          2011,
          2016
         ],
         "xaxis": "x",
         "y": [
          0.0852,
          0.1102,
          0.0916
         ],
         "yaxis": "y"
        },
        {
         "hovertemplate": "country=Democratic Republic of the Congo<br>Year=%{x}<br>Women in Parliament(%)=%{y}<extra></extra>",
         "legendgroup": "Democratic Republic of the Congo",
         "line": {
          "color": "#636efa",
          "dash": "solid"
         },
         "marker": {
          "symbol": "circle"
         },
         "mode": "lines+markers",
         "name": "Democratic Republic of the Congo",
         "orientation": "v",
         "showlegend": true,
         "type": "scatter",
         "x": [
          2003,
          2006,
          2011,
          2018
         ],
         "xaxis": "x",
         "y": [
          0.12,
          0.084,
          0.0894,
          0.1
         ],
         "yaxis": "y"
        },
        {
         "hovertemplate": "country=Djibouti<br>Year=%{x}<br>Women in Parliament(%)=%{y}<extra></extra>",
         "legendgroup": "Djibouti",
         "line": {
          "color": "#EF553B",
          "dash": "solid"
         },
         "marker": {
          "symbol": "circle"
         },
         "mode": "lines+markers",
         "name": "Djibouti",
         "orientation": "v",
         "showlegend": true,
         "type": "scatter",
         "x": [
          2003,
          2008,
          2013,
          2013,
          2018
         ],
         "xaxis": "x",
         "y": [
          0.10767,
          0.1384,
          0.1384,
          0.1273,
          0.262
         ],
         "yaxis": "y"
        },
        {
         "hovertemplate": "country=Equatorial Guinea<br>Year=%{x}<br>Women in Parliament(%)=%{y}<extra></extra>",
         "legendgroup": "Equatorial Guinea",
         "line": {
          "color": "#00cc96",
          "dash": "solid"
         },
         "marker": {
          "symbol": "circle"
         },
         "mode": "lines+markers",
         "name": "Equatorial Guinea",
         "orientation": "v",
         "showlegend": true,
         "type": "scatter",
         "x": [
          2004,
          2004,
          2004,
          2004,
          2008,
          2013,
          2017
         ],
         "xaxis": "x",
         "y": [
          0.14,
          0.18,
          0.14,
          0.18,
          0.06,
          0.22,
          0.2
         ],
         "yaxis": "y"
        },
        {
         "hovertemplate": "country=Eswatini<br>Year=%{x}<br>Women in Parliament(%)=%{y}<extra></extra>",
         "legendgroup": "Eswatini",
         "line": {
          "color": "#ab63fa",
          "dash": "solid"
         },
         "marker": {
          "symbol": "circle"
         },
         "mode": "lines+markers",
         "name": "Eswatini",
         "orientation": "v",
         "showlegend": true,
         "type": "scatter",
         "x": [
          2003,
          2008,
          2008,
          2013,
          2018
         ],
         "xaxis": "x",
         "y": [
          0.10767,
          0.12305,
          0.1384,
          0.06152,
          0.07245
         ],
         "yaxis": "y"
        },
        {
         "hovertemplate": "country=Ethiopia<br>Year=%{x}<br>Women in Parliament(%)=%{y}<extra></extra>",
         "legendgroup": "Ethiopia",
         "line": {
          "color": "#FFA15A",
          "dash": "solid"
         },
         "marker": {
          "symbol": "circle"
         },
         "mode": "lines+markers",
         "name": "Ethiopia",
         "orientation": "v",
         "showlegend": true,
         "type": "scatter",
         "x": [
          2000,
          2005,
          2005,
          2010,
          2015
         ],
         "xaxis": "x",
         "y": [
          0.0769,
          0.2124,
          0.2142,
          0.2778,
          0.3882
         ],
         "yaxis": "y"
        },
        {
         "hovertemplate": "country=Gabon<br>Year=%{x}<br>Women in Parliament(%)=%{y}<extra></extra>",
         "legendgroup": "Gabon",
         "line": {
          "color": "#19d3f3",
          "dash": "solid"
         },
         "marker": {
          "symbol": "circle"
         },
         "mode": "lines+markers",
         "name": "Gabon",
         "orientation": "v",
         "showlegend": true,
         "type": "scatter",
         "x": [
          2001,
          2006,
          2011,
          2018
         ],
         "xaxis": "x",
         "y": [
          0.0924,
          0.125,
          0.1327,
          0.1791
         ],
         "yaxis": "y"
        },
        {
         "hovertemplate": "country=Gambia (The)<br>Year=%{x}<br>Women in Parliament(%)=%{y}<extra></extra>",
         "legendgroup": "Gambia (The)",
         "line": {
          "color": "#FF6692",
          "dash": "solid"
         },
         "marker": {
          "symbol": "circle"
         },
         "mode": "lines+markers",
         "name": "Gambia (The)",
         "orientation": "v",
         "showlegend": true,
         "type": "scatter",
         "x": [
          2002,
          2007,
          2012,
          2017
         ],
         "xaxis": "x",
         "y": [
          0.1321,
          0.09436,
          0.0755,
          0.10345
         ],
         "yaxis": "y"
        },
        {
         "hovertemplate": "country=Ghana<br>Year=%{x}<br>Women in Parliament(%)=%{y}<extra></extra>",
         "legendgroup": "Ghana",
         "line": {
          "color": "#B6E880",
          "dash": "solid"
         },
         "marker": {
          "symbol": "circle"
         },
         "mode": "lines+markers",
         "name": "Ghana",
         "orientation": "v",
         "showlegend": true,
         "type": "scatter",
         "x": [
          2000,
          2004,
          2008,
          2016,
          2012
         ],
         "xaxis": "x",
         "y": [
          0.09,
          0.1087,
          0.0789,
          0.1091,
          null
         ],
         "yaxis": "y"
        },
        {
         "hovertemplate": "country=Guinea<br>Year=%{x}<br>Women in Parliament(%)=%{y}<extra></extra>",
         "legendgroup": "Guinea",
         "line": {
          "color": "#FF97FF",
          "dash": "solid"
         },
         "marker": {
          "symbol": "circle"
         },
         "mode": "lines+markers",
         "name": "Guinea",
         "orientation": "v",
         "showlegend": true,
         "type": "scatter",
         "x": [
          2002,
          2013
         ],
         "xaxis": "x",
         "y": [
          0.193,
          0.2192
         ],
         "yaxis": "y"
        },
        {
         "hovertemplate": "country=Guinea-Bissau<br>Year=%{x}<br>Women in Parliament(%)=%{y}<extra></extra>",
         "legendgroup": "Guinea-Bissau",
         "line": {
          "color": "#FECB52",
          "dash": "solid"
         },
         "marker": {
          "symbol": "circle"
         },
         "mode": "lines+markers",
         "name": "Guinea-Bissau",
         "orientation": "v",
         "showlegend": true,
         "type": "scatter",
         "x": [
          2004,
          2008,
          2014
         ],
         "xaxis": "x",
         "y": [
          0.14,
          0.1,
          0.1372
         ],
         "yaxis": "y"
        },
        {
         "hovertemplate": "country=Kenya<br>Year=%{x}<br>Women in Parliament(%)=%{y}<extra></extra>",
         "legendgroup": "Kenya",
         "line": {
          "color": "#636efa",
          "dash": "solid"
         },
         "marker": {
          "symbol": "circle"
         },
         "mode": "lines+markers",
         "name": "Kenya",
         "orientation": "v",
         "showlegend": true,
         "type": "scatter",
         "x": [
          2002,
          2007,
          2013,
          2017
         ],
         "xaxis": "x",
         "y": [
          0.0714,
          0.09375,
          0.0982,
          0.2178
         ],
         "yaxis": "y"
        },
        {
         "hovertemplate": "country=Lesotho<br>Year=%{x}<br>Women in Parliament(%)=%{y}<extra></extra>",
         "legendgroup": "Lesotho",
         "line": {
          "color": "#EF553B",
          "dash": "solid"
         },
         "marker": {
          "symbol": "circle"
         },
         "mode": "lines+markers",
         "name": "Lesotho",
         "orientation": "v",
         "showlegend": true,
         "type": "scatter",
         "x": [
          2002,
          2007,
          2012,
          2015,
          2017
         ],
         "xaxis": "x",
         "y": [
          0.11664,
          0.2354,
          0.25,
          0.25,
          0.2213
         ],
         "yaxis": "y"
        },
        {
         "hovertemplate": "country=Liberia<br>Year=%{x}<br>Women in Parliament(%)=%{y}<extra></extra>",
         "legendgroup": "Liberia",
         "line": {
          "color": "#00cc96",
          "dash": "solid"
         },
         "marker": {
          "symbol": "circle"
         },
         "mode": "lines+markers",
         "name": "Liberia",
         "orientation": "v",
         "showlegend": true,
         "type": "scatter",
         "x": [
          2003,
          2004,
          2005,
          2011,
          2017
         ],
         "xaxis": "x",
         "y": [
          0.05264,
          0.05264,
          0.125,
          0.0959,
          0.0986
         ],
         "yaxis": "y"
        },
        {
         "hovertemplate": "country=Madagascar<br>Year=%{x}<br>Women in Parliament(%)=%{y}<extra></extra>",
         "legendgroup": "Madagascar",
         "line": {
          "color": "#ab63fa",
          "dash": "solid"
         },
         "marker": {
          "symbol": "circle"
         },
         "mode": "lines+markers",
         "name": "Madagascar",
         "orientation": "v",
         "showlegend": true,
         "type": "scatter",
         "x": [
          2002,
          2007,
          2010,
          2013
         ],
         "xaxis": "x",
         "y": [
          0.0375,
          0.08,
          0.125,
          0.1748
         ],
         "yaxis": "y"
        },
        {
         "hovertemplate": "country=Malawi<br>Year=%{x}<br>Women in Parliament(%)=%{y}<extra></extra>",
         "legendgroup": "Malawi",
         "line": {
          "color": "#FFA15A",
          "dash": "solid"
         },
         "marker": {
          "symbol": "circle"
         },
         "mode": "lines+markers",
         "name": "Malawi",
         "orientation": "v",
         "showlegend": true,
         "type": "scatter",
         "x": [
          2004,
          2009,
          2014
         ],
         "xaxis": "x",
         "y": [
          0.146,
          0.2084,
          0.1666
         ],
         "yaxis": "y"
        },
        {
         "hovertemplate": "country=Mali<br>Year=%{x}<br>Women in Parliament(%)=%{y}<extra></extra>",
         "legendgroup": "Mali",
         "line": {
          "color": "#19d3f3",
          "dash": "solid"
         },
         "marker": {
          "symbol": "circle"
         },
         "mode": "lines+markers",
         "name": "Mali",
         "orientation": "v",
         "showlegend": true,
         "type": "scatter",
         "x": [
          2002,
          2007,
          2013
         ],
         "xaxis": "x",
         "y": [
          0.10205,
          0.10205,
          0.0952
         ],
         "yaxis": "y"
        },
        {
         "hovertemplate": "country=Mauritania<br>Year=%{x}<br>Women in Parliament(%)=%{y}<extra></extra>",
         "legendgroup": "Mauritania",
         "line": {
          "color": "#FF6692",
          "dash": "solid"
         },
         "marker": {
          "symbol": "circle"
         },
         "mode": "lines+markers",
         "name": "Mauritania",
         "orientation": "v",
         "showlegend": true,
         "type": "scatter",
         "x": [
          2001,
          2006,
          2013,
          2018
         ],
         "xaxis": "x",
         "y": [
          0.03705,
          0.179,
          0.2211,
          0.2026
         ],
         "yaxis": "y"
        },
        {
         "hovertemplate": "country=Mauritius<br>Year=%{x}<br>Women in Parliament(%)=%{y}<extra></extra>",
         "legendgroup": "Mauritius",
         "line": {
          "color": "#B6E880",
          "dash": "solid"
         },
         "marker": {
          "symbol": "circle"
         },
         "mode": "lines+markers",
         "name": "Mauritius",
         "orientation": "v",
         "showlegend": true,
         "type": "scatter",
         "x": [
          2000,
          2005,
          2010,
          2014
         ],
         "xaxis": "x",
         "y": [
          0.05713,
          0.1714,
          0.1884,
          0.11597
         ],
         "yaxis": "y"
        },
        {
         "hovertemplate": "country=Mozambique<br>Year=%{x}<br>Women in Parliament(%)=%{y}<extra></extra>",
         "legendgroup": "Mozambique",
         "line": {
          "color": "#FF97FF",
          "dash": "solid"
         },
         "marker": {
          "symbol": "circle"
         },
         "mode": "lines+markers",
         "name": "Mozambique",
         "orientation": "v",
         "showlegend": true,
         "type": "scatter",
         "x": [
          2004,
          2009,
          2014
         ],
         "xaxis": "x",
         "y": [
          0.348,
          0.392,
          0.396
         ],
         "yaxis": "y"
        },
        {
         "hovertemplate": "country=Namibia<br>Year=%{x}<br>Women in Parliament(%)=%{y}<extra></extra>",
         "legendgroup": "Namibia",
         "line": {
          "color": "#FECB52",
          "dash": "solid"
         },
         "marker": {
          "symbol": "circle"
         },
         "mode": "lines+markers",
         "name": "Namibia",
         "orientation": "v",
         "showlegend": true,
         "type": "scatter",
         "x": [
          2004,
          2009,
          2014
         ],
         "xaxis": "x",
         "y": [
          0.2693,
          0.2435,
          0.4136
         ],
         "yaxis": "y"
        },
        {
         "hovertemplate": "country=Niger<br>Year=%{x}<br>Women in Parliament(%)=%{y}<extra></extra>",
         "legendgroup": "Niger",
         "line": {
          "color": "#636efa",
          "dash": "solid"
         },
         "marker": {
          "symbol": "circle"
         },
         "mode": "lines+markers",
         "name": "Niger",
         "orientation": "v",
         "showlegend": true,
         "type": "scatter",
         "x": [
          2004,
          2009,
          2011,
          2016,
          2016
         ],
         "xaxis": "x",
         "y": [
          0.1239,
          0.0982,
          0.1327,
          0.1327,
          0.1462
         ],
         "yaxis": "y"
        },
        {
         "hovertemplate": "country=Nigeria<br>Year=%{x}<br>Women in Parliament(%)=%{y}<extra></extra>",
         "legendgroup": "Nigeria",
         "line": {
          "color": "#EF553B",
          "dash": "solid"
         },
         "marker": {
          "symbol": "circle"
         },
         "mode": "lines+markers",
         "name": "Nigeria",
         "orientation": "v",
         "showlegend": true,
         "type": "scatter",
         "x": [
          2003,
          2007,
          2011,
          2015,
          2015
         ],
         "xaxis": "x",
         "y": [
          0.0472,
          0.0698,
          0.03693,
          0.04166,
          0.05554
         ],
         "yaxis": "y"
        },
        {
         "hovertemplate": "country=Rwanda<br>Year=%{x}<br>Women in Parliament(%)=%{y}<extra></extra>",
         "legendgroup": "Rwanda",
         "line": {
          "color": "#00cc96",
          "dash": "solid"
         },
         "marker": {
          "symbol": "circle"
         },
         "mode": "lines+markers",
         "name": "Rwanda",
         "orientation": "v",
         "showlegend": true,
         "type": "scatter",
         "x": [
          2003,
          2008,
          2013,
          2013,
          2018
         ],
         "xaxis": "x",
         "y": [
          0.4875,
          0.5625,
          0.5625,
          0.6377,
          0.6123
         ],
         "yaxis": "y"
        },
        {
         "hovertemplate": "country=Sao Tome and Principe<br>Year=%{x}<br>Women in Parliament(%)=%{y}<extra></extra>",
         "legendgroup": "Sao Tome and Principe",
         "line": {
          "color": "#ab63fa",
          "dash": "solid"
         },
         "marker": {
          "symbol": "circle"
         },
         "mode": "lines+markers",
         "name": "Sao Tome and Principe",
         "orientation": "v",
         "showlegend": true,
         "type": "scatter",
         "x": [
          2002,
          2006,
          2010,
          2014,
          2018
         ],
         "xaxis": "x",
         "y": [
          0.0909,
          0.07275,
          0.1818,
          0.1818,
          0.1455
         ],
         "yaxis": "y"
        },
        {
         "hovertemplate": "country=Senegal<br>Year=%{x}<br>Women in Parliament(%)=%{y}<extra></extra>",
         "legendgroup": "Senegal",
         "line": {
          "color": "#FFA15A",
          "dash": "solid"
         },
         "marker": {
          "symbol": "circle"
         },
         "mode": "lines+markers",
         "name": "Senegal",
         "orientation": "v",
         "showlegend": true,
         "type": "scatter",
         "x": [
          2001,
          2007,
          2012,
          2017
         ],
         "xaxis": "x",
         "y": [
          0.1917,
          0.22,
          0.4268,
          0.4182
         ],
         "yaxis": "y"
        },
        {
         "hovertemplate": "country=Seychelles<br>Year=%{x}<br>Women in Parliament(%)=%{y}<extra></extra>",
         "legendgroup": "Seychelles",
         "line": {
          "color": "#19d3f3",
          "dash": "solid"
         },
         "marker": {
          "symbol": "circle"
         },
         "mode": "lines+markers",
         "name": "Seychelles",
         "orientation": "v",
         "showlegend": true,
         "type": "scatter",
         "x": [
          2002,
          2007,
          2011,
          2016,
          2011,
          2016
         ],
         "xaxis": "x",
         "y": [
          0.2942,
          0.2354,
          0.4517,
          0.4375,
          0.4375,
          0.4375
         ],
         "yaxis": "y"
        },
        {
         "hovertemplate": "country=Sierra Leone<br>Year=%{x}<br>Women in Parliament(%)=%{y}<extra></extra>",
         "legendgroup": "Sierra Leone",
         "line": {
          "color": "#FF6692",
          "dash": "solid"
         },
         "marker": {
          "symbol": "circle"
         },
         "mode": "lines+markers",
         "name": "Sierra Leone",
         "orientation": "v",
         "showlegend": true,
         "type": "scatter",
         "x": [
          2002,
          2007,
          2007,
          2012,
          2018
         ],
         "xaxis": "x",
         "y": [
          0.1451,
          0.1428,
          0.129,
          0.12396,
          0.123
         ],
         "yaxis": "y"
        },
        {
         "hovertemplate": "country=Somalia<br>Year=%{x}<br>Women in Parliament(%)=%{y}<extra></extra>",
         "legendgroup": "Somalia",
         "line": {
          "color": "#B6E880",
          "dash": "solid"
         },
         "marker": {
          "symbol": "circle"
         },
         "mode": "lines+markers",
         "name": "Somalia",
         "orientation": "v",
         "showlegend": true,
         "type": "scatter",
         "x": [
          2004,
          2012
         ],
         "xaxis": "x",
         "y": [
          0.06775,
          0.1382
         ],
         "yaxis": "y"
        },
        {
         "hovertemplate": "country=South Africa<br>Year=%{x}<br>Women in Parliament(%)=%{y}<extra></extra>",
         "legendgroup": "South Africa",
         "line": {
          "color": "#FF97FF",
          "dash": "solid"
         },
         "marker": {
          "symbol": "circle"
         },
         "mode": "lines+markers",
         "name": "South Africa",
         "orientation": "v",
         "showlegend": true,
         "type": "scatter",
         "x": [
          2004,
          2004,
          2009,
          2009,
          2014,
          2014
         ],
         "xaxis": "x",
         "y": [
          0.2983,
          0.3274,
          0.435,
          0.445,
          0.4075,
          0.415
         ],
         "yaxis": "y"
        },
        {
         "hovertemplate": "country=South Sudan<br>Year=%{x}<br>Women in Parliament(%)=%{y}<extra></extra>",
         "legendgroup": "South Sudan",
         "line": {
          "color": "#FECB52",
          "dash": "solid"
         },
         "marker": {
          "symbol": "circle"
         },
         "mode": "lines+markers",
         "name": "South Sudan",
         "orientation": "v",
         "showlegend": true,
         "type": "scatter",
         "x": [
          2011,
          2016,
          2016
         ],
         "xaxis": "x",
         "y": [
          0.2651,
          0.2651,
          0.2847
         ],
         "yaxis": "y"
        },
        {
         "hovertemplate": "country=Togo<br>Year=%{x}<br>Women in Parliament(%)=%{y}<extra></extra>",
         "legendgroup": "Togo",
         "line": {
          "color": "#636efa",
          "dash": "solid"
         },
         "marker": {
          "symbol": "circle"
         },
         "mode": "lines+markers",
         "name": "Togo",
         "orientation": "v",
         "showlegend": true,
         "type": "scatter",
         "x": [
          2002,
          2007,
          2007,
          2007,
          2013,
          2018
         ],
         "xaxis": "x",
         "y": [
          0.0741,
          0.0741,
          0.0864,
          0.1111,
          0.1538,
          0.1648
         ],
         "yaxis": "y"
        },
        {
         "hovertemplate": "country=Uganda<br>Year=%{x}<br>Women in Parliament(%)=%{y}<extra></extra>",
         "legendgroup": "Uganda",
         "line": {
          "color": "#EF553B",
          "dash": "solid"
         },
         "marker": {
          "symbol": "circle"
         },
         "mode": "lines+markers",
         "name": "Uganda",
         "orientation": "v",
         "showlegend": true,
         "type": "scatter",
         "x": [
          2001,
          2006,
          2016,
          2016
         ],
         "xaxis": "x",
         "y": [
          0.2467,
          0.2764,
          0.12085,
          0.1202
         ],
         "yaxis": "y"
        },
        {
         "hovertemplate": "country=United Republic of Tanzania<br>Year=%{x}<br>Women in Parliament(%)=%{y}<extra></extra>",
         "legendgroup": "United Republic of Tanzania",
         "line": {
          "color": "#00cc96",
          "dash": "solid"
         },
         "marker": {
          "symbol": "circle"
         },
         "mode": "lines+markers",
         "name": "United Republic of Tanzania",
         "orientation": "v",
         "showlegend": true,
         "type": "scatter",
         "x": [
          2000,
          2005,
          2010,
          2015
         ],
         "xaxis": "x",
         "y": [
          0.2218,
          0.304,
          0.36,
          0.3655
         ],
         "yaxis": "y"
        },
        {
         "hovertemplate": "country=Zambia<br>Year=%{x}<br>Women in Parliament(%)=%{y}<extra></extra>",
         "legendgroup": "Zambia",
         "line": {
          "color": "#ab63fa",
          "dash": "solid"
         },
         "marker": {
          "symbol": "circle"
         },
         "mode": "lines+markers",
         "name": "Zambia",
         "orientation": "v",
         "showlegend": true,
         "type": "scatter",
         "x": [
          2001,
          2006,
          2011,
          2016,
          2016
         ],
         "xaxis": "x",
         "y": [
          0.12024,
          0.1465,
          0.1097,
          0.1266,
          0.1797
         ],
         "yaxis": "y"
        },
        {
         "hovertemplate": "country=Zimbabwe<br>Year=%{x}<br>Women in Parliament(%)=%{y}<extra></extra>",
         "legendgroup": "Zimbabwe",
         "line": {
          "color": "#FFA15A",
          "dash": "solid"
         },
         "marker": {
          "symbol": "circle"
         },
         "mode": "lines+markers",
         "name": "Zimbabwe",
         "orientation": "v",
         "showlegend": true,
         "type": "scatter",
         "x": [
          2000,
          2005,
          2008,
          2013,
          2018
         ],
         "xaxis": "x",
         "y": [
          0.0933,
          0.16,
          0.1523,
          0.3147,
          0.3147
         ],
         "yaxis": "y"
        }
       ],
       "layout": {
        "font": {
         "color": "blue",
         "family": "Courier New"
        },
        "legend": {
         "title": {
          "font": {
           "color": "green"
          },
          "text": "country"
         },
         "tracegroupgap": 0
        },
        "template": {
         "data": {
          "bar": [
           {
            "error_x": {
             "color": "#2a3f5f"
            },
            "error_y": {
             "color": "#2a3f5f"
            },
            "marker": {
             "line": {
              "color": "#E5ECF6",
              "width": 0.5
             },
             "pattern": {
              "fillmode": "overlay",
              "size": 10,
              "solidity": 0.2
             }
            },
            "type": "bar"
           }
          ],
          "barpolar": [
           {
            "marker": {
             "line": {
              "color": "#E5ECF6",
              "width": 0.5
             },
             "pattern": {
              "fillmode": "overlay",
              "size": 10,
              "solidity": 0.2
             }
            },
            "type": "barpolar"
           }
          ],
          "carpet": [
           {
            "aaxis": {
             "endlinecolor": "#2a3f5f",
             "gridcolor": "white",
             "linecolor": "white",
             "minorgridcolor": "white",
             "startlinecolor": "#2a3f5f"
            },
            "baxis": {
             "endlinecolor": "#2a3f5f",
             "gridcolor": "white",
             "linecolor": "white",
             "minorgridcolor": "white",
             "startlinecolor": "#2a3f5f"
            },
            "type": "carpet"
           }
          ],
          "choropleth": [
           {
            "colorbar": {
             "outlinewidth": 0,
             "ticks": ""
            },
            "type": "choropleth"
           }
          ],
          "contour": [
           {
            "colorbar": {
             "outlinewidth": 0,
             "ticks": ""
            },
            "colorscale": [
             [
              0,
              "#0d0887"
             ],
             [
              0.1111111111111111,
              "#46039f"
             ],
             [
              0.2222222222222222,
              "#7201a8"
             ],
             [
              0.3333333333333333,
              "#9c179e"
             ],
             [
              0.4444444444444444,
              "#bd3786"
             ],
             [
              0.5555555555555556,
              "#d8576b"
             ],
             [
              0.6666666666666666,
              "#ed7953"
             ],
             [
              0.7777777777777778,
              "#fb9f3a"
             ],
             [
              0.8888888888888888,
              "#fdca26"
             ],
             [
              1,
              "#f0f921"
             ]
            ],
            "type": "contour"
           }
          ],
          "contourcarpet": [
           {
            "colorbar": {
             "outlinewidth": 0,
             "ticks": ""
            },
            "type": "contourcarpet"
           }
          ],
          "heatmap": [
           {
            "colorbar": {
             "outlinewidth": 0,
             "ticks": ""
            },
            "colorscale": [
             [
              0,
              "#0d0887"
             ],
             [
              0.1111111111111111,
              "#46039f"
             ],
             [
              0.2222222222222222,
              "#7201a8"
             ],
             [
              0.3333333333333333,
              "#9c179e"
             ],
             [
              0.4444444444444444,
              "#bd3786"
             ],
             [
              0.5555555555555556,
              "#d8576b"
             ],
             [
              0.6666666666666666,
              "#ed7953"
             ],
             [
              0.7777777777777778,
              "#fb9f3a"
             ],
             [
              0.8888888888888888,
              "#fdca26"
             ],
             [
              1,
              "#f0f921"
             ]
            ],
            "type": "heatmap"
           }
          ],
          "heatmapgl": [
           {
            "colorbar": {
             "outlinewidth": 0,
             "ticks": ""
            },
            "colorscale": [
             [
              0,
              "#0d0887"
             ],
             [
              0.1111111111111111,
              "#46039f"
             ],
             [
              0.2222222222222222,
              "#7201a8"
             ],
             [
              0.3333333333333333,
              "#9c179e"
             ],
             [
              0.4444444444444444,
              "#bd3786"
             ],
             [
              0.5555555555555556,
              "#d8576b"
             ],
             [
              0.6666666666666666,
              "#ed7953"
             ],
             [
              0.7777777777777778,
              "#fb9f3a"
             ],
             [
              0.8888888888888888,
              "#fdca26"
             ],
             [
              1,
              "#f0f921"
             ]
            ],
            "type": "heatmapgl"
           }
          ],
          "histogram": [
           {
            "marker": {
             "pattern": {
              "fillmode": "overlay",
              "size": 10,
              "solidity": 0.2
             }
            },
            "type": "histogram"
           }
          ],
          "histogram2d": [
           {
            "colorbar": {
             "outlinewidth": 0,
             "ticks": ""
            },
            "colorscale": [
             [
              0,
              "#0d0887"
             ],
             [
              0.1111111111111111,
              "#46039f"
             ],
             [
              0.2222222222222222,
              "#7201a8"
             ],
             [
              0.3333333333333333,
              "#9c179e"
             ],
             [
              0.4444444444444444,
              "#bd3786"
             ],
             [
              0.5555555555555556,
              "#d8576b"
             ],
             [
              0.6666666666666666,
              "#ed7953"
             ],
             [
              0.7777777777777778,
              "#fb9f3a"
             ],
             [
              0.8888888888888888,
              "#fdca26"
             ],
             [
              1,
              "#f0f921"
             ]
            ],
            "type": "histogram2d"
           }
          ],
          "histogram2dcontour": [
           {
            "colorbar": {
             "outlinewidth": 0,
             "ticks": ""
            },
            "colorscale": [
             [
              0,
              "#0d0887"
             ],
             [
              0.1111111111111111,
              "#46039f"
             ],
             [
              0.2222222222222222,
              "#7201a8"
             ],
             [
              0.3333333333333333,
              "#9c179e"
             ],
             [
              0.4444444444444444,
              "#bd3786"
             ],
             [
              0.5555555555555556,
              "#d8576b"
             ],
             [
              0.6666666666666666,
              "#ed7953"
             ],
             [
              0.7777777777777778,
              "#fb9f3a"
             ],
             [
              0.8888888888888888,
              "#fdca26"
             ],
             [
              1,
              "#f0f921"
             ]
            ],
            "type": "histogram2dcontour"
           }
          ],
          "mesh3d": [
           {
            "colorbar": {
             "outlinewidth": 0,
             "ticks": ""
            },
            "type": "mesh3d"
           }
          ],
          "parcoords": [
           {
            "line": {
             "colorbar": {
              "outlinewidth": 0,
              "ticks": ""
             }
            },
            "type": "parcoords"
           }
          ],
          "pie": [
           {
            "automargin": true,
            "type": "pie"
           }
          ],
          "scatter": [
           {
            "marker": {
             "colorbar": {
              "outlinewidth": 0,
              "ticks": ""
             }
            },
            "type": "scatter"
           }
          ],
          "scatter3d": [
           {
            "line": {
             "colorbar": {
              "outlinewidth": 0,
              "ticks": ""
             }
            },
            "marker": {
             "colorbar": {
              "outlinewidth": 0,
              "ticks": ""
             }
            },
            "type": "scatter3d"
           }
          ],
          "scattercarpet": [
           {
            "marker": {
             "colorbar": {
              "outlinewidth": 0,
              "ticks": ""
             }
            },
            "type": "scattercarpet"
           }
          ],
          "scattergeo": [
           {
            "marker": {
             "colorbar": {
              "outlinewidth": 0,
              "ticks": ""
             }
            },
            "type": "scattergeo"
           }
          ],
          "scattergl": [
           {
            "marker": {
             "colorbar": {
              "outlinewidth": 0,
              "ticks": ""
             }
            },
            "type": "scattergl"
           }
          ],
          "scattermapbox": [
           {
            "marker": {
             "colorbar": {
              "outlinewidth": 0,
              "ticks": ""
             }
            },
            "type": "scattermapbox"
           }
          ],
          "scatterpolar": [
           {
            "marker": {
             "colorbar": {
              "outlinewidth": 0,
              "ticks": ""
             }
            },
            "type": "scatterpolar"
           }
          ],
          "scatterpolargl": [
           {
            "marker": {
             "colorbar": {
              "outlinewidth": 0,
              "ticks": ""
             }
            },
            "type": "scatterpolargl"
           }
          ],
          "scatterternary": [
           {
            "marker": {
             "colorbar": {
              "outlinewidth": 0,
              "ticks": ""
             }
            },
            "type": "scatterternary"
           }
          ],
          "surface": [
           {
            "colorbar": {
             "outlinewidth": 0,
             "ticks": ""
            },
            "colorscale": [
             [
              0,
              "#0d0887"
             ],
             [
              0.1111111111111111,
              "#46039f"
             ],
             [
              0.2222222222222222,
              "#7201a8"
             ],
             [
              0.3333333333333333,
              "#9c179e"
             ],
             [
              0.4444444444444444,
              "#bd3786"
             ],
             [
              0.5555555555555556,
              "#d8576b"
             ],
             [
              0.6666666666666666,
              "#ed7953"
             ],
             [
              0.7777777777777778,
              "#fb9f3a"
             ],
             [
              0.8888888888888888,
              "#fdca26"
             ],
             [
              1,
              "#f0f921"
             ]
            ],
            "type": "surface"
           }
          ],
          "table": [
           {
            "cells": {
             "fill": {
              "color": "#EBF0F8"
             },
             "line": {
              "color": "white"
             }
            },
            "header": {
             "fill": {
              "color": "#C8D4E3"
             },
             "line": {
              "color": "white"
             }
            },
            "type": "table"
           }
          ]
         },
         "layout": {
          "annotationdefaults": {
           "arrowcolor": "#2a3f5f",
           "arrowhead": 0,
           "arrowwidth": 1
          },
          "autotypenumbers": "strict",
          "coloraxis": {
           "colorbar": {
            "outlinewidth": 0,
            "ticks": ""
           }
          },
          "colorscale": {
           "diverging": [
            [
             0,
             "#8e0152"
            ],
            [
             0.1,
             "#c51b7d"
            ],
            [
             0.2,
             "#de77ae"
            ],
            [
             0.3,
             "#f1b6da"
            ],
            [
             0.4,
             "#fde0ef"
            ],
            [
             0.5,
             "#f7f7f7"
            ],
            [
             0.6,
             "#e6f5d0"
            ],
            [
             0.7,
             "#b8e186"
            ],
            [
             0.8,
             "#7fbc41"
            ],
            [
             0.9,
             "#4d9221"
            ],
            [
             1,
             "#276419"
            ]
           ],
           "sequential": [
            [
             0,
             "#0d0887"
            ],
            [
             0.1111111111111111,
             "#46039f"
            ],
            [
             0.2222222222222222,
             "#7201a8"
            ],
            [
             0.3333333333333333,
             "#9c179e"
            ],
            [
             0.4444444444444444,
             "#bd3786"
            ],
            [
             0.5555555555555556,
             "#d8576b"
            ],
            [
             0.6666666666666666,
             "#ed7953"
            ],
            [
             0.7777777777777778,
             "#fb9f3a"
            ],
            [
             0.8888888888888888,
             "#fdca26"
            ],
            [
             1,
             "#f0f921"
            ]
           ],
           "sequentialminus": [
            [
             0,
             "#0d0887"
            ],
            [
             0.1111111111111111,
             "#46039f"
            ],
            [
             0.2222222222222222,
             "#7201a8"
            ],
            [
             0.3333333333333333,
             "#9c179e"
            ],
            [
             0.4444444444444444,
             "#bd3786"
            ],
            [
             0.5555555555555556,
             "#d8576b"
            ],
            [
             0.6666666666666666,
             "#ed7953"
            ],
            [
             0.7777777777777778,
             "#fb9f3a"
            ],
            [
             0.8888888888888888,
             "#fdca26"
            ],
            [
             1,
             "#f0f921"
            ]
           ]
          },
          "colorway": [
           "#636efa",
           "#EF553B",
           "#00cc96",
           "#ab63fa",
           "#FFA15A",
           "#19d3f3",
           "#FF6692",
           "#B6E880",
           "#FF97FF",
           "#FECB52"
          ],
          "font": {
           "color": "#2a3f5f"
          },
          "geo": {
           "bgcolor": "white",
           "lakecolor": "white",
           "landcolor": "#E5ECF6",
           "showlakes": true,
           "showland": true,
           "subunitcolor": "white"
          },
          "hoverlabel": {
           "align": "left"
          },
          "hovermode": "closest",
          "mapbox": {
           "style": "light"
          },
          "paper_bgcolor": "white",
          "plot_bgcolor": "#E5ECF6",
          "polar": {
           "angularaxis": {
            "gridcolor": "white",
            "linecolor": "white",
            "ticks": ""
           },
           "bgcolor": "#E5ECF6",
           "radialaxis": {
            "gridcolor": "white",
            "linecolor": "white",
            "ticks": ""
           }
          },
          "scene": {
           "xaxis": {
            "backgroundcolor": "#E5ECF6",
            "gridcolor": "white",
            "gridwidth": 2,
            "linecolor": "white",
            "showbackground": true,
            "ticks": "",
            "zerolinecolor": "white"
           },
           "yaxis": {
            "backgroundcolor": "#E5ECF6",
            "gridcolor": "white",
            "gridwidth": 2,
            "linecolor": "white",
            "showbackground": true,
            "ticks": "",
            "zerolinecolor": "white"
           },
           "zaxis": {
            "backgroundcolor": "#E5ECF6",
            "gridcolor": "white",
            "gridwidth": 2,
            "linecolor": "white",
            "showbackground": true,
            "ticks": "",
            "zerolinecolor": "white"
           }
          },
          "shapedefaults": {
           "line": {
            "color": "#2a3f5f"
           }
          },
          "ternary": {
           "aaxis": {
            "gridcolor": "white",
            "linecolor": "white",
            "ticks": ""
           },
           "baxis": {
            "gridcolor": "white",
            "linecolor": "white",
            "ticks": ""
           },
           "bgcolor": "#E5ECF6",
           "caxis": {
            "gridcolor": "white",
            "linecolor": "white",
            "ticks": ""
           }
          },
          "title": {
           "x": 0.05
          },
          "xaxis": {
           "automargin": true,
           "gridcolor": "white",
           "linecolor": "white",
           "ticks": "",
           "title": {
            "standoff": 15
           },
           "zerolinecolor": "white",
           "zerolinewidth": 2
          },
          "yaxis": {
           "automargin": true,
           "gridcolor": "white",
           "linecolor": "white",
           "ticks": "",
           "title": {
            "standoff": 15
           },
           "zerolinecolor": "white",
           "zerolinewidth": 2
          }
         }
        },
        "title": {
         "font": {
          "color": "red",
          "family": "Courier New"
         },
         "text": "Sub-Sahara Africa - Women Representation in Parliament since 2000(%)"
        },
        "xaxis": {
         "anchor": "y",
         "domain": [
          0,
          1
         ],
         "title": {
          "text": "Year"
         }
        },
        "yaxis": {
         "anchor": "x",
         "domain": [
          0,
          1
         ],
         "title": {
          "text": "Women in Parliament(%)"
         }
        }
       }
      }
     },
     "metadata": {},
     "output_type": "display_data"
    }
   ],
   "source": [
    "# select region for Europe\n",
    "df_sahara = df.query(\"(chamber_type != 'upper') and (year >= 2000) and (region == 'SUB-SAHARAN')\")\n",
    "# plot percentage throught the years by country\n",
    "plot_perc_years(df_sahara, 'Sub-Sahara Africa - Women Representation in Parliament since 2000(%)')"
   ]
  },
  {
   "cell_type": "code",
   "execution_count": 8,
   "metadata": {},
   "outputs": [
    {
     "data": {
      "application/vnd.plotly.v1+json": {
       "config": {
        "plotlyServerURL": "https://plot.ly"
       },
       "data": [
        {
         "hovertemplate": "country=Antigua and Barbuda<br>Year=%{x}<br>Women in Parliament(%)=%{y}<extra></extra>",
         "legendgroup": "Antigua and Barbuda",
         "line": {
          "color": "#636efa",
          "dash": "solid"
         },
         "marker": {
          "symbol": "circle"
         },
         "mode": "lines+markers",
         "name": "Antigua and Barbuda",
         "orientation": "v",
         "showlegend": true,
         "type": "scatter",
         "x": [
          2004,
          2009,
          2014,
          2018
         ],
         "xaxis": "x",
         "y": [
          0.1053,
          0.1053,
          0.1111,
          0.1111
         ],
         "yaxis": "y"
        },
        {
         "hovertemplate": "country=Argentina<br>Year=%{x}<br>Women in Parliament(%)=%{y}<extra></extra>",
         "legendgroup": "Argentina",
         "line": {
          "color": "#EF553B",
          "dash": "solid"
         },
         "marker": {
          "symbol": "circle"
         },
         "mode": "lines+markers",
         "name": "Argentina",
         "orientation": "v",
         "showlegend": true,
         "type": "scatter",
         "x": [
          2001,
          2005,
          2007,
          2009,
          2009,
          2011,
          2013,
          2015,
          2017
         ],
         "xaxis": "x",
         "y": [
          0.3074,
          0.3618,
          0.4,
          0.4163,
          0.3853,
          0.3735,
          0.3735,
          0.358,
          0.3813
         ],
         "yaxis": "y"
        },
        {
         "hovertemplate": "country=Barbados<br>Year=%{x}<br>Women in Parliament(%)=%{y}<extra></extra>",
         "legendgroup": "Barbados",
         "line": {
          "color": "#00cc96",
          "dash": "solid"
         },
         "marker": {
          "symbol": "circle"
         },
         "mode": "lines+markers",
         "name": "Barbados",
         "orientation": "v",
         "showlegend": true,
         "type": "scatter",
         "x": [
          2018
         ],
         "xaxis": "x",
         "y": [
          0.2
         ],
         "yaxis": "y"
        },
        {
         "hovertemplate": "country=Belize<br>Year=%{x}<br>Women in Parliament(%)=%{y}<extra></extra>",
         "legendgroup": "Belize",
         "line": {
          "color": "#ab63fa",
          "dash": "solid"
         },
         "marker": {
          "symbol": "circle"
         },
         "mode": "lines+markers",
         "name": "Belize",
         "orientation": "v",
         "showlegend": true,
         "type": "scatter",
         "x": [
          2003,
          2008,
          2012,
          2015
         ],
         "xaxis": "x",
         "y": [
          0.03333,
          0,
          0.03125,
          0.0645
         ],
         "yaxis": "y"
        },
        {
         "hovertemplate": "country=Bolivia<br>Year=%{x}<br>Women in Parliament(%)=%{y}<extra></extra>",
         "legendgroup": "Bolivia",
         "line": {
          "color": "#FFA15A",
          "dash": "solid"
         },
         "marker": {
          "symbol": "circle"
         },
         "mode": "lines+markers",
         "name": "Bolivia",
         "orientation": "v",
         "showlegend": true,
         "type": "scatter",
         "x": [
          2002,
          2005,
          2009,
          2014
         ],
         "xaxis": "x",
         "y": [
          0.1846,
          0.1692,
          0.223,
          0.531
         ],
         "yaxis": "y"
        },
        {
         "hovertemplate": "country=Brazil<br>Year=%{x}<br>Women in Parliament(%)=%{y}<extra></extra>",
         "legendgroup": "Brazil",
         "line": {
          "color": "#19d3f3",
          "dash": "solid"
         },
         "marker": {
          "symbol": "circle"
         },
         "mode": "lines+markers",
         "name": "Brazil",
         "orientation": "v",
         "showlegend": true,
         "type": "scatter",
         "x": [
          2002,
          2003,
          2006,
          2010,
          2014,
          2018
         ],
         "xaxis": "x",
         "y": [
          0.08575,
          0.06238,
          0.0877,
          0.08575,
          0.0994,
          0.1501
         ],
         "yaxis": "y"
        },
        {
         "hovertemplate": "country=Canada<br>Year=%{x}<br>Women in Parliament(%)=%{y}<extra></extra>",
         "legendgroup": "Canada",
         "line": {
          "color": "#FF6692",
          "dash": "solid"
         },
         "marker": {
          "symbol": "circle"
         },
         "mode": "lines+markers",
         "name": "Canada",
         "orientation": "v",
         "showlegend": true,
         "type": "scatter",
         "x": [
          2000,
          2000,
          2004,
          2006,
          2008,
          2011,
          2015
         ],
         "xaxis": "x",
         "y": [
          0.2059,
          0.1993,
          0.211,
          0.2078,
          0.2208,
          0.2467,
          0.2532
         ],
         "yaxis": "y"
        },
        {
         "hovertemplate": "country=Colombia<br>Year=%{x}<br>Women in Parliament(%)=%{y}<extra></extra>",
         "legendgroup": "Colombia",
         "line": {
          "color": "#B6E880",
          "dash": "solid"
         },
         "marker": {
          "symbol": "circle"
         },
         "mode": "lines+markers",
         "name": "Colombia",
         "orientation": "v",
         "showlegend": true,
         "type": "scatter",
         "x": [
          2002,
          2006,
          2010,
          2014,
          2018
         ],
         "xaxis": "x",
         "y": [
          0.1205,
          0.08435,
          0.1265,
          0.1989,
          0.1871
         ],
         "yaxis": "y"
        },
        {
         "hovertemplate": "country=Costa Rica<br>Year=%{x}<br>Women in Parliament(%)=%{y}<extra></extra>",
         "legendgroup": "Costa Rica",
         "line": {
          "color": "#FF97FF",
          "dash": "solid"
         },
         "marker": {
          "symbol": "circle"
         },
         "mode": "lines+markers",
         "name": "Costa Rica",
         "orientation": "v",
         "showlegend": true,
         "type": "scatter",
         "x": [
          2002,
          2002,
          2006,
          2010,
          2014,
          2018
         ],
         "xaxis": "x",
         "y": [
          0.3157,
          0.3508,
          0.386,
          0.386,
          0.3333,
          0.456
         ],
         "yaxis": "y"
        },
        {
         "hovertemplate": "country=Cuba<br>Year=%{x}<br>Women in Parliament(%)=%{y}<extra></extra>",
         "legendgroup": "Cuba",
         "line": {
          "color": "#FECB52",
          "dash": "solid"
         },
         "marker": {
          "symbol": "circle"
         },
         "mode": "lines+markers",
         "name": "Cuba",
         "orientation": "v",
         "showlegend": true,
         "type": "scatter",
         "x": [
          2003,
          2008,
          2013,
          2013,
          2018
         ],
         "xaxis": "x",
         "y": [
          0.3596,
          0.4316,
          0.4521,
          0.4885,
          0.532
         ],
         "yaxis": "y"
        },
        {
         "hovertemplate": "country=Dominica<br>Year=%{x}<br>Women in Parliament(%)=%{y}<extra></extra>",
         "legendgroup": "Dominica",
         "line": {
          "color": "#636efa",
          "dash": "solid"
         },
         "marker": {
          "symbol": "circle"
         },
         "mode": "lines+markers",
         "name": "Dominica",
         "orientation": "v",
         "showlegend": true,
         "type": "scatter",
         "x": [
          2000,
          2005,
          2009,
          2010,
          2014
         ],
         "xaxis": "x",
         "y": [
          0.1875,
          0.129,
          0.125,
          0.1923,
          0.2188
         ],
         "yaxis": "y"
        },
        {
         "hovertemplate": "country=Dominican Republic<br>Year=%{x}<br>Women in Parliament(%)=%{y}<extra></extra>",
         "legendgroup": "Dominican Republic",
         "line": {
          "color": "#EF553B",
          "dash": "solid"
         },
         "marker": {
          "symbol": "circle"
         },
         "mode": "lines+markers",
         "name": "Dominican Republic",
         "orientation": "v",
         "showlegend": true,
         "type": "scatter",
         "x": [
          2002,
          2002,
          2006,
          2010,
          2016,
          2016
         ],
         "xaxis": "x",
         "y": [
          0.1733,
          0.1733,
          0.1967,
          0.2076,
          null,
          0.2076
         ],
         "yaxis": "y"
        },
        {
         "hovertemplate": "country=Ecuador<br>Year=%{x}<br>Women in Parliament(%)=%{y}<extra></extra>",
         "legendgroup": "Ecuador",
         "line": {
          "color": "#00cc96",
          "dash": "solid"
         },
         "marker": {
          "symbol": "circle"
         },
         "mode": "lines+markers",
         "name": "Ecuador",
         "orientation": "v",
         "showlegend": true,
         "type": "scatter",
         "x": [
          2002,
          2006,
          2009,
          2013,
          2017,
          2013
         ],
         "xaxis": "x",
         "y": [
          0.16,
          0.25,
          0.3225,
          0.3225,
          0.3796,
          0.387
         ],
         "yaxis": "y"
        },
        {
         "hovertemplate": "country=El Salvador<br>Year=%{x}<br>Women in Parliament(%)=%{y}<extra></extra>",
         "legendgroup": "El Salvador",
         "line": {
          "color": "#ab63fa",
          "dash": "solid"
         },
         "marker": {
          "symbol": "circle"
         },
         "mode": "lines+markers",
         "name": "El Salvador",
         "orientation": "v",
         "showlegend": true,
         "type": "scatter",
         "x": [
          2000,
          2003,
          2006,
          2009,
          2012,
          2015,
          2018
         ],
         "xaxis": "x",
         "y": [
          0.0952,
          0.1071,
          0.1666,
          0.1904,
          0.262,
          0.3215,
          0.3096
         ],
         "yaxis": "y"
        },
        {
         "hovertemplate": "country=Grenada<br>Year=%{x}<br>Women in Parliament(%)=%{y}<extra></extra>",
         "legendgroup": "Grenada",
         "line": {
          "color": "#FFA15A",
          "dash": "solid"
         },
         "marker": {
          "symbol": "circle"
         },
         "mode": "lines+markers",
         "name": "Grenada",
         "orientation": "v",
         "showlegend": true,
         "type": "scatter",
         "x": [
          2003,
          2008,
          2018
         ],
         "xaxis": "x",
         "y": [
          0.2666,
          0.1333,
          0.467
         ],
         "yaxis": "y"
        },
        {
         "hovertemplate": "country=Guatemala<br>Year=%{x}<br>Women in Parliament(%)=%{y}<extra></extra>",
         "legendgroup": "Guatemala",
         "line": {
          "color": "#19d3f3",
          "dash": "solid"
         },
         "marker": {
          "symbol": "circle"
         },
         "mode": "lines+markers",
         "name": "Guatemala",
         "orientation": "v",
         "showlegend": true,
         "type": "scatter",
         "x": [
          2003,
          2007,
          2011,
          2015
         ],
         "xaxis": "x",
         "y": [
          0.0823,
          0.12024,
          0.1329,
          0.1393
         ],
         "yaxis": "y"
        },
        {
         "hovertemplate": "country=Guyana<br>Year=%{x}<br>Women in Parliament(%)=%{y}<extra></extra>",
         "legendgroup": "Guyana",
         "line": {
          "color": "#FF6692",
          "dash": "solid"
         },
         "marker": {
          "symbol": "circle"
         },
         "mode": "lines+markers",
         "name": "Guyana",
         "orientation": "v",
         "showlegend": true,
         "type": "scatter",
         "x": [
          2001,
          2006,
          2011,
          2015
         ],
         "xaxis": "x",
         "y": [
          0.2,
          0.2898,
          0.3135,
          0.3044
         ],
         "yaxis": "y"
        },
        {
         "hovertemplate": "country=Haiti<br>Year=%{x}<br>Women in Parliament(%)=%{y}<extra></extra>",
         "legendgroup": "Haiti",
         "line": {
          "color": "#B6E880",
          "dash": "solid"
         },
         "marker": {
          "symbol": "circle"
         },
         "mode": "lines+markers",
         "name": "Haiti",
         "orientation": "v",
         "showlegend": true,
         "type": "scatter",
         "x": [
          2000,
          2007,
          2010,
          2015
         ],
         "xaxis": "x",
         "y": [
          0.03613,
          0.0408,
          0.0421,
          0.02542
         ],
         "yaxis": "y"
        },
        {
         "hovertemplate": "country=Honduras<br>Year=%{x}<br>Women in Parliament(%)=%{y}<extra></extra>",
         "legendgroup": "Honduras",
         "line": {
          "color": "#FF97FF",
          "dash": "solid"
         },
         "marker": {
          "symbol": "circle"
         },
         "mode": "lines+markers",
         "name": "Honduras",
         "orientation": "v",
         "showlegend": true,
         "type": "scatter",
         "x": [
          2001,
          2005,
          2009,
          2013,
          2017
         ],
         "xaxis": "x",
         "y": [
          0.0547,
          0.2344,
          0.1797,
          0.2578,
          0.2109
         ],
         "yaxis": "y"
        },
        {
         "hovertemplate": "country=Jamaica<br>Year=%{x}<br>Women in Parliament(%)=%{y}<extra></extra>",
         "legendgroup": "Jamaica",
         "line": {
          "color": "#FECB52",
          "dash": "solid"
         },
         "marker": {
          "symbol": "circle"
         },
         "mode": "lines+markers",
         "name": "Jamaica",
         "orientation": "v",
         "showlegend": true,
         "type": "scatter",
         "x": [
          2002,
          2007,
          2011,
          2016,
          2016
         ],
         "xaxis": "x",
         "y": [
          0.11664,
          0.1333,
          0.127,
          0.127,
          0.1746
         ],
         "yaxis": "y"
        },
        {
         "hovertemplate": "country=Mexico<br>Year=%{x}<br>Women in Parliament(%)=%{y}<extra></extra>",
         "legendgroup": "Mexico",
         "line": {
          "color": "#636efa",
          "dash": "solid"
         },
         "marker": {
          "symbol": "circle"
         },
         "mode": "lines+markers",
         "name": "Mexico",
         "orientation": "v",
         "showlegend": true,
         "type": "scatter",
         "x": [
          2000,
          2003,
          2006,
          2006,
          2009,
          2012,
          2015,
          2018
         ],
         "xaxis": "x",
         "y": [
          0.16,
          0.226,
          0.258,
          0.226,
          0.282,
          0.368,
          0.4236,
          0.482
         ],
         "yaxis": "y"
        },
        {
         "hovertemplate": "country=Nicaragua<br>Year=%{x}<br>Women in Parliament(%)=%{y}<extra></extra>",
         "legendgroup": "Nicaragua",
         "line": {
          "color": "#EF553B",
          "dash": "solid"
         },
         "marker": {
          "symbol": "circle"
         },
         "mode": "lines+markers",
         "name": "Nicaragua",
         "orientation": "v",
         "showlegend": true,
         "type": "scatter",
         "x": [
          2001,
          2006,
          2011,
          2016,
          2016
         ],
         "xaxis": "x",
         "y": [
          0.2065,
          0.1522,
          0.402,
          0.413,
          0.4565
         ],
         "yaxis": "y"
        },
        {
         "hovertemplate": "country=Panama<br>Year=%{x}<br>Women in Parliament(%)=%{y}<extra></extra>",
         "legendgroup": "Panama",
         "line": {
          "color": "#00cc96",
          "dash": "solid"
         },
         "marker": {
          "symbol": "circle"
         },
         "mode": "lines+markers",
         "name": "Panama",
         "orientation": "v",
         "showlegend": true,
         "type": "scatter",
         "x": [
          2004,
          2009,
          2014
         ],
         "xaxis": "x",
         "y": [
          0.1666,
          0.08453,
          0.193
         ],
         "yaxis": "y"
        },
        {
         "hovertemplate": "country=Paraguay<br>Year=%{x}<br>Women in Parliament(%)=%{y}<extra></extra>",
         "legendgroup": "Paraguay",
         "line": {
          "color": "#ab63fa",
          "dash": "solid"
         },
         "marker": {
          "symbol": "circle"
         },
         "mode": "lines+markers",
         "name": "Paraguay",
         "orientation": "v",
         "showlegend": true,
         "type": "scatter",
         "x": [
          2003,
          2008,
          2013,
          2018
         ],
         "xaxis": "x",
         "y": [
          0.0875,
          0.125,
          0.175,
          0.15
         ],
         "yaxis": "y"
        },
        {
         "hovertemplate": "country=Peru<br>Year=%{x}<br>Women in Parliament(%)=%{y}<extra></extra>",
         "legendgroup": "Peru",
         "line": {
          "color": "#FFA15A",
          "dash": "solid"
         },
         "marker": {
          "symbol": "circle"
         },
         "mode": "lines+markers",
         "name": "Peru",
         "orientation": "v",
         "showlegend": true,
         "type": "scatter",
         "x": [
          2000,
          2001,
          2002,
          2006,
          2011,
          2016,
          2016,
          2016
         ],
         "xaxis": "x",
         "y": [
          0.2,
          0.1833,
          0.175,
          0.2917,
          0.2153,
          0.223,
          0.2615,
          0.2769
         ],
         "yaxis": "y"
        },
        {
         "hovertemplate": "country=Saint Kitts and Nevis<br>Year=%{x}<br>Women in Parliament(%)=%{y}<extra></extra>",
         "legendgroup": "Saint Kitts and Nevis",
         "line": {
          "color": "#19d3f3",
          "dash": "solid"
         },
         "marker": {
          "symbol": "circle"
         },
         "mode": "lines+markers",
         "name": "Saint Kitts and Nevis",
         "orientation": "v",
         "showlegend": true,
         "type": "scatter",
         "x": [
          2000,
          2004,
          2010,
          2015
         ],
         "xaxis": "x",
         "y": [
          0.1333,
          0,
          0.06665,
          0.1333
         ],
         "yaxis": "y"
        },
        {
         "hovertemplate": "country=Saint Lucia<br>Year=%{x}<br>Women in Parliament(%)=%{y}<extra></extra>",
         "legendgroup": "Saint Lucia",
         "line": {
          "color": "#FF6692",
          "dash": "solid"
         },
         "marker": {
          "symbol": "circle"
         },
         "mode": "lines+markers",
         "name": "Saint Lucia",
         "orientation": "v",
         "showlegend": true,
         "type": "scatter",
         "x": [
          2001,
          2006,
          2006,
          2011,
          2016,
          2016
         ],
         "xaxis": "x",
         "y": [
          0.1111,
          0.05554,
          0,
          0.1666,
          0.1666,
          0.1177
         ],
         "yaxis": "y"
        },
        {
         "hovertemplate": "country=Saint Vincent and the Grenadines<br>Year=%{x}<br>Women in Parliament(%)=%{y}<extra></extra>",
         "legendgroup": "Saint Vincent and the Grenadines",
         "line": {
          "color": "#B6E880",
          "dash": "solid"
         },
         "marker": {
          "symbol": "circle"
         },
         "mode": "lines+markers",
         "name": "Saint Vincent and the Grenadines",
         "orientation": "v",
         "showlegend": true,
         "type": "scatter",
         "x": [
          2001,
          2005,
          2010,
          2015
         ],
         "xaxis": "x",
         "y": [
          0.2273,
          0.1818,
          0.1428,
          0.1305
         ],
         "yaxis": "y"
        },
        {
         "hovertemplate": "country=Suriname<br>Year=%{x}<br>Women in Parliament(%)=%{y}<extra></extra>",
         "legendgroup": "Suriname",
         "line": {
          "color": "#FF97FF",
          "dash": "solid"
         },
         "marker": {
          "symbol": "circle"
         },
         "mode": "lines+markers",
         "name": "Suriname",
         "orientation": "v",
         "showlegend": true,
         "type": "scatter",
         "x": [
          2000,
          2005,
          2010,
          2015
         ],
         "xaxis": "x",
         "y": [
          0.1765,
          0.255,
          0.098,
          0.255
         ],
         "yaxis": "y"
        },
        {
         "hovertemplate": "country=Trinidad and Tobago<br>Year=%{x}<br>Women in Parliament(%)=%{y}<extra></extra>",
         "legendgroup": "Trinidad and Tobago",
         "line": {
          "color": "#FECB52",
          "dash": "solid"
         },
         "marker": {
          "symbol": "circle"
         },
         "mode": "lines+markers",
         "name": "Trinidad and Tobago",
         "orientation": "v",
         "showlegend": true,
         "type": "scatter",
         "x": [
          2000,
          2001,
          2002,
          2007,
          2010,
          2015
         ],
         "xaxis": "x",
         "y": [
          0.1081,
          0.1111,
          0.1945,
          0.2683,
          0.2927,
          0.3096
         ],
         "yaxis": "y"
        },
        {
         "hovertemplate": "country=United States of America<br>Year=%{x}<br>Women in Parliament(%)=%{y}<extra></extra>",
         "legendgroup": "United States of America",
         "line": {
          "color": "#636efa",
          "dash": "solid"
         },
         "marker": {
          "symbol": "circle"
         },
         "mode": "lines+markers",
         "name": "United States of America",
         "orientation": "v",
         "showlegend": true,
         "type": "scatter",
         "x": [
          2000,
          2002,
          2004,
          2006,
          2008,
          2010,
          2012,
          2014,
          2016,
          2018
         ],
         "xaxis": "x",
         "y": [
          0.1288,
          0.1426,
          0.1494,
          0.1632,
          0.1741,
          0.1678,
          0.1797,
          0.1931,
          0.1917,
          0.235
         ],
         "yaxis": "y"
        },
        {
         "hovertemplate": "country=Uruguay<br>Year=%{x}<br>Women in Parliament(%)=%{y}<extra></extra>",
         "legendgroup": "Uruguay",
         "line": {
          "color": "#EF553B",
          "dash": "solid"
         },
         "marker": {
          "symbol": "circle"
         },
         "mode": "lines+markers",
         "name": "Uruguay",
         "orientation": "v",
         "showlegend": true,
         "type": "scatter",
         "x": [
          2004,
          2009,
          2014
         ],
         "xaxis": "x",
         "y": [
          0.1212,
          0.1414,
          0.1616
         ],
         "yaxis": "y"
        },
        {
         "hovertemplate": "country=Venezuela<br>Year=%{x}<br>Women in Parliament(%)=%{y}<extra></extra>",
         "legendgroup": "Venezuela",
         "line": {
          "color": "#00cc96",
          "dash": "solid"
         },
         "marker": {
          "symbol": "circle"
         },
         "mode": "lines+markers",
         "name": "Venezuela",
         "orientation": "v",
         "showlegend": true,
         "type": "scatter",
         "x": [
          2000,
          2000,
          2005,
          2010,
          2015
         ],
         "xaxis": "x",
         "y": [
          0.12134,
          0.097,
          0.1737,
          0.1697,
          0.1437
         ],
         "yaxis": "y"
        }
       ],
       "layout": {
        "font": {
         "color": "blue",
         "family": "Courier New"
        },
        "legend": {
         "title": {
          "font": {
           "color": "green"
          },
          "text": "country"
         },
         "tracegroupgap": 0
        },
        "template": {
         "data": {
          "bar": [
           {
            "error_x": {
             "color": "#2a3f5f"
            },
            "error_y": {
             "color": "#2a3f5f"
            },
            "marker": {
             "line": {
              "color": "#E5ECF6",
              "width": 0.5
             },
             "pattern": {
              "fillmode": "overlay",
              "size": 10,
              "solidity": 0.2
             }
            },
            "type": "bar"
           }
          ],
          "barpolar": [
           {
            "marker": {
             "line": {
              "color": "#E5ECF6",
              "width": 0.5
             },
             "pattern": {
              "fillmode": "overlay",
              "size": 10,
              "solidity": 0.2
             }
            },
            "type": "barpolar"
           }
          ],
          "carpet": [
           {
            "aaxis": {
             "endlinecolor": "#2a3f5f",
             "gridcolor": "white",
             "linecolor": "white",
             "minorgridcolor": "white",
             "startlinecolor": "#2a3f5f"
            },
            "baxis": {
             "endlinecolor": "#2a3f5f",
             "gridcolor": "white",
             "linecolor": "white",
             "minorgridcolor": "white",
             "startlinecolor": "#2a3f5f"
            },
            "type": "carpet"
           }
          ],
          "choropleth": [
           {
            "colorbar": {
             "outlinewidth": 0,
             "ticks": ""
            },
            "type": "choropleth"
           }
          ],
          "contour": [
           {
            "colorbar": {
             "outlinewidth": 0,
             "ticks": ""
            },
            "colorscale": [
             [
              0,
              "#0d0887"
             ],
             [
              0.1111111111111111,
              "#46039f"
             ],
             [
              0.2222222222222222,
              "#7201a8"
             ],
             [
              0.3333333333333333,
              "#9c179e"
             ],
             [
              0.4444444444444444,
              "#bd3786"
             ],
             [
              0.5555555555555556,
              "#d8576b"
             ],
             [
              0.6666666666666666,
              "#ed7953"
             ],
             [
              0.7777777777777778,
              "#fb9f3a"
             ],
             [
              0.8888888888888888,
              "#fdca26"
             ],
             [
              1,
              "#f0f921"
             ]
            ],
            "type": "contour"
           }
          ],
          "contourcarpet": [
           {
            "colorbar": {
             "outlinewidth": 0,
             "ticks": ""
            },
            "type": "contourcarpet"
           }
          ],
          "heatmap": [
           {
            "colorbar": {
             "outlinewidth": 0,
             "ticks": ""
            },
            "colorscale": [
             [
              0,
              "#0d0887"
             ],
             [
              0.1111111111111111,
              "#46039f"
             ],
             [
              0.2222222222222222,
              "#7201a8"
             ],
             [
              0.3333333333333333,
              "#9c179e"
             ],
             [
              0.4444444444444444,
              "#bd3786"
             ],
             [
              0.5555555555555556,
              "#d8576b"
             ],
             [
              0.6666666666666666,
              "#ed7953"
             ],
             [
              0.7777777777777778,
              "#fb9f3a"
             ],
             [
              0.8888888888888888,
              "#fdca26"
             ],
             [
              1,
              "#f0f921"
             ]
            ],
            "type": "heatmap"
           }
          ],
          "heatmapgl": [
           {
            "colorbar": {
             "outlinewidth": 0,
             "ticks": ""
            },
            "colorscale": [
             [
              0,
              "#0d0887"
             ],
             [
              0.1111111111111111,
              "#46039f"
             ],
             [
              0.2222222222222222,
              "#7201a8"
             ],
             [
              0.3333333333333333,
              "#9c179e"
             ],
             [
              0.4444444444444444,
              "#bd3786"
             ],
             [
              0.5555555555555556,
              "#d8576b"
             ],
             [
              0.6666666666666666,
              "#ed7953"
             ],
             [
              0.7777777777777778,
              "#fb9f3a"
             ],
             [
              0.8888888888888888,
              "#fdca26"
             ],
             [
              1,
              "#f0f921"
             ]
            ],
            "type": "heatmapgl"
           }
          ],
          "histogram": [
           {
            "marker": {
             "pattern": {
              "fillmode": "overlay",
              "size": 10,
              "solidity": 0.2
             }
            },
            "type": "histogram"
           }
          ],
          "histogram2d": [
           {
            "colorbar": {
             "outlinewidth": 0,
             "ticks": ""
            },
            "colorscale": [
             [
              0,
              "#0d0887"
             ],
             [
              0.1111111111111111,
              "#46039f"
             ],
             [
              0.2222222222222222,
              "#7201a8"
             ],
             [
              0.3333333333333333,
              "#9c179e"
             ],
             [
              0.4444444444444444,
              "#bd3786"
             ],
             [
              0.5555555555555556,
              "#d8576b"
             ],
             [
              0.6666666666666666,
              "#ed7953"
             ],
             [
              0.7777777777777778,
              "#fb9f3a"
             ],
             [
              0.8888888888888888,
              "#fdca26"
             ],
             [
              1,
              "#f0f921"
             ]
            ],
            "type": "histogram2d"
           }
          ],
          "histogram2dcontour": [
           {
            "colorbar": {
             "outlinewidth": 0,
             "ticks": ""
            },
            "colorscale": [
             [
              0,
              "#0d0887"
             ],
             [
              0.1111111111111111,
              "#46039f"
             ],
             [
              0.2222222222222222,
              "#7201a8"
             ],
             [
              0.3333333333333333,
              "#9c179e"
             ],
             [
              0.4444444444444444,
              "#bd3786"
             ],
             [
              0.5555555555555556,
              "#d8576b"
             ],
             [
              0.6666666666666666,
              "#ed7953"
             ],
             [
              0.7777777777777778,
              "#fb9f3a"
             ],
             [
              0.8888888888888888,
              "#fdca26"
             ],
             [
              1,
              "#f0f921"
             ]
            ],
            "type": "histogram2dcontour"
           }
          ],
          "mesh3d": [
           {
            "colorbar": {
             "outlinewidth": 0,
             "ticks": ""
            },
            "type": "mesh3d"
           }
          ],
          "parcoords": [
           {
            "line": {
             "colorbar": {
              "outlinewidth": 0,
              "ticks": ""
             }
            },
            "type": "parcoords"
           }
          ],
          "pie": [
           {
            "automargin": true,
            "type": "pie"
           }
          ],
          "scatter": [
           {
            "marker": {
             "colorbar": {
              "outlinewidth": 0,
              "ticks": ""
             }
            },
            "type": "scatter"
           }
          ],
          "scatter3d": [
           {
            "line": {
             "colorbar": {
              "outlinewidth": 0,
              "ticks": ""
             }
            },
            "marker": {
             "colorbar": {
              "outlinewidth": 0,
              "ticks": ""
             }
            },
            "type": "scatter3d"
           }
          ],
          "scattercarpet": [
           {
            "marker": {
             "colorbar": {
              "outlinewidth": 0,
              "ticks": ""
             }
            },
            "type": "scattercarpet"
           }
          ],
          "scattergeo": [
           {
            "marker": {
             "colorbar": {
              "outlinewidth": 0,
              "ticks": ""
             }
            },
            "type": "scattergeo"
           }
          ],
          "scattergl": [
           {
            "marker": {
             "colorbar": {
              "outlinewidth": 0,
              "ticks": ""
             }
            },
            "type": "scattergl"
           }
          ],
          "scattermapbox": [
           {
            "marker": {
             "colorbar": {
              "outlinewidth": 0,
              "ticks": ""
             }
            },
            "type": "scattermapbox"
           }
          ],
          "scatterpolar": [
           {
            "marker": {
             "colorbar": {
              "outlinewidth": 0,
              "ticks": ""
             }
            },
            "type": "scatterpolar"
           }
          ],
          "scatterpolargl": [
           {
            "marker": {
             "colorbar": {
              "outlinewidth": 0,
              "ticks": ""
             }
            },
            "type": "scatterpolargl"
           }
          ],
          "scatterternary": [
           {
            "marker": {
             "colorbar": {
              "outlinewidth": 0,
              "ticks": ""
             }
            },
            "type": "scatterternary"
           }
          ],
          "surface": [
           {
            "colorbar": {
             "outlinewidth": 0,
             "ticks": ""
            },
            "colorscale": [
             [
              0,
              "#0d0887"
             ],
             [
              0.1111111111111111,
              "#46039f"
             ],
             [
              0.2222222222222222,
              "#7201a8"
             ],
             [
              0.3333333333333333,
              "#9c179e"
             ],
             [
              0.4444444444444444,
              "#bd3786"
             ],
             [
              0.5555555555555556,
              "#d8576b"
             ],
             [
              0.6666666666666666,
              "#ed7953"
             ],
             [
              0.7777777777777778,
              "#fb9f3a"
             ],
             [
              0.8888888888888888,
              "#fdca26"
             ],
             [
              1,
              "#f0f921"
             ]
            ],
            "type": "surface"
           }
          ],
          "table": [
           {
            "cells": {
             "fill": {
              "color": "#EBF0F8"
             },
             "line": {
              "color": "white"
             }
            },
            "header": {
             "fill": {
              "color": "#C8D4E3"
             },
             "line": {
              "color": "white"
             }
            },
            "type": "table"
           }
          ]
         },
         "layout": {
          "annotationdefaults": {
           "arrowcolor": "#2a3f5f",
           "arrowhead": 0,
           "arrowwidth": 1
          },
          "autotypenumbers": "strict",
          "coloraxis": {
           "colorbar": {
            "outlinewidth": 0,
            "ticks": ""
           }
          },
          "colorscale": {
           "diverging": [
            [
             0,
             "#8e0152"
            ],
            [
             0.1,
             "#c51b7d"
            ],
            [
             0.2,
             "#de77ae"
            ],
            [
             0.3,
             "#f1b6da"
            ],
            [
             0.4,
             "#fde0ef"
            ],
            [
             0.5,
             "#f7f7f7"
            ],
            [
             0.6,
             "#e6f5d0"
            ],
            [
             0.7,
             "#b8e186"
            ],
            [
             0.8,
             "#7fbc41"
            ],
            [
             0.9,
             "#4d9221"
            ],
            [
             1,
             "#276419"
            ]
           ],
           "sequential": [
            [
             0,
             "#0d0887"
            ],
            [
             0.1111111111111111,
             "#46039f"
            ],
            [
             0.2222222222222222,
             "#7201a8"
            ],
            [
             0.3333333333333333,
             "#9c179e"
            ],
            [
             0.4444444444444444,
             "#bd3786"
            ],
            [
             0.5555555555555556,
             "#d8576b"
            ],
            [
             0.6666666666666666,
             "#ed7953"
            ],
            [
             0.7777777777777778,
             "#fb9f3a"
            ],
            [
             0.8888888888888888,
             "#fdca26"
            ],
            [
             1,
             "#f0f921"
            ]
           ],
           "sequentialminus": [
            [
             0,
             "#0d0887"
            ],
            [
             0.1111111111111111,
             "#46039f"
            ],
            [
             0.2222222222222222,
             "#7201a8"
            ],
            [
             0.3333333333333333,
             "#9c179e"
            ],
            [
             0.4444444444444444,
             "#bd3786"
            ],
            [
             0.5555555555555556,
             "#d8576b"
            ],
            [
             0.6666666666666666,
             "#ed7953"
            ],
            [
             0.7777777777777778,
             "#fb9f3a"
            ],
            [
             0.8888888888888888,
             "#fdca26"
            ],
            [
             1,
             "#f0f921"
            ]
           ]
          },
          "colorway": [
           "#636efa",
           "#EF553B",
           "#00cc96",
           "#ab63fa",
           "#FFA15A",
           "#19d3f3",
           "#FF6692",
           "#B6E880",
           "#FF97FF",
           "#FECB52"
          ],
          "font": {
           "color": "#2a3f5f"
          },
          "geo": {
           "bgcolor": "white",
           "lakecolor": "white",
           "landcolor": "#E5ECF6",
           "showlakes": true,
           "showland": true,
           "subunitcolor": "white"
          },
          "hoverlabel": {
           "align": "left"
          },
          "hovermode": "closest",
          "mapbox": {
           "style": "light"
          },
          "paper_bgcolor": "white",
          "plot_bgcolor": "#E5ECF6",
          "polar": {
           "angularaxis": {
            "gridcolor": "white",
            "linecolor": "white",
            "ticks": ""
           },
           "bgcolor": "#E5ECF6",
           "radialaxis": {
            "gridcolor": "white",
            "linecolor": "white",
            "ticks": ""
           }
          },
          "scene": {
           "xaxis": {
            "backgroundcolor": "#E5ECF6",
            "gridcolor": "white",
            "gridwidth": 2,
            "linecolor": "white",
            "showbackground": true,
            "ticks": "",
            "zerolinecolor": "white"
           },
           "yaxis": {
            "backgroundcolor": "#E5ECF6",
            "gridcolor": "white",
            "gridwidth": 2,
            "linecolor": "white",
            "showbackground": true,
            "ticks": "",
            "zerolinecolor": "white"
           },
           "zaxis": {
            "backgroundcolor": "#E5ECF6",
            "gridcolor": "white",
            "gridwidth": 2,
            "linecolor": "white",
            "showbackground": true,
            "ticks": "",
            "zerolinecolor": "white"
           }
          },
          "shapedefaults": {
           "line": {
            "color": "#2a3f5f"
           }
          },
          "ternary": {
           "aaxis": {
            "gridcolor": "white",
            "linecolor": "white",
            "ticks": ""
           },
           "baxis": {
            "gridcolor": "white",
            "linecolor": "white",
            "ticks": ""
           },
           "bgcolor": "#E5ECF6",
           "caxis": {
            "gridcolor": "white",
            "linecolor": "white",
            "ticks": ""
           }
          },
          "title": {
           "x": 0.05
          },
          "xaxis": {
           "automargin": true,
           "gridcolor": "white",
           "linecolor": "white",
           "ticks": "",
           "title": {
            "standoff": 15
           },
           "zerolinecolor": "white",
           "zerolinewidth": 2
          },
          "yaxis": {
           "automargin": true,
           "gridcolor": "white",
           "linecolor": "white",
           "ticks": "",
           "title": {
            "standoff": 15
           },
           "zerolinecolor": "white",
           "zerolinewidth": 2
          }
         }
        },
        "title": {
         "font": {
          "color": "red",
          "family": "Courier New"
         },
         "text": "Americas - Women Representation in Parliament since 2000(%)"
        },
        "xaxis": {
         "anchor": "y",
         "domain": [
          0,
          1
         ],
         "title": {
          "text": "Year"
         }
        },
        "yaxis": {
         "anchor": "x",
         "domain": [
          0,
          1
         ],
         "title": {
          "text": "Women in Parliament(%)"
         }
        }
       }
      }
     },
     "metadata": {},
     "output_type": "display_data"
    }
   ],
   "source": [
    "# select region for Europe\n",
    "df_ame = df.query(\"(chamber_type != 'upper') and (year >= 2000) and (region == 'AME')\")\n",
    "# plot percentage throught the years by country\n",
    "plot_perc_years(df_ame, 'Americas - Women Representation in Parliament since 2000(%)')"
   ]
  },
  {
   "cell_type": "code",
   "execution_count": 9,
   "metadata": {},
   "outputs": [
    {
     "data": {
      "application/vnd.plotly.v1+json": {
       "config": {
        "plotlyServerURL": "https://plot.ly"
       },
       "data": [
        {
         "hovertemplate": "country=Australia<br>Year=%{x}<br>Women in Parliament(%)=%{y}<extra></extra>",
         "legendgroup": "Australia",
         "line": {
          "color": "#636efa",
          "dash": "solid"
         },
         "marker": {
          "symbol": "circle"
         },
         "mode": "lines+markers",
         "name": "Australia",
         "orientation": "v",
         "showlegend": true,
         "type": "scatter",
         "x": [
          2001,
          2004,
          2007,
          2010,
          2013,
          2016,
          2016
         ],
         "xaxis": "x",
         "y": [
          0.2534,
          0.2467,
          0.2666,
          0.2467,
          0.2467,
          0.2666,
          0.2866
         ],
         "yaxis": "y"
        },
        {
         "hovertemplate": "country=Fiji<br>Year=%{x}<br>Women in Parliament(%)=%{y}<extra></extra>",
         "legendgroup": "Fiji",
         "line": {
          "color": "#EF553B",
          "dash": "solid"
         },
         "marker": {
          "symbol": "circle"
         },
         "mode": "lines+markers",
         "name": "Fiji",
         "orientation": "v",
         "showlegend": true,
         "type": "scatter",
         "x": [
          2001,
          2006,
          2014,
          2018
         ],
         "xaxis": "x",
         "y": [
          0.07043,
          0.1127,
          0.16,
          0.196
         ],
         "yaxis": "y"
        },
        {
         "hovertemplate": "country=Kiribati<br>Year=%{x}<br>Women in Parliament(%)=%{y}<extra></extra>",
         "legendgroup": "Kiribati",
         "line": {
          "color": "#00cc96",
          "dash": "solid"
         },
         "marker": {
          "symbol": "circle"
         },
         "mode": "lines+markers",
         "name": "Kiribati",
         "orientation": "v",
         "showlegend": true,
         "type": "scatter",
         "x": [
          2002,
          2003,
          2007,
          2011,
          2015
         ],
         "xaxis": "x",
         "y": [
          0.0476,
          0.0476,
          0.0435,
          0.087,
          0.06525
         ],
         "yaxis": "y"
        },
        {
         "hovertemplate": "country=Marshall Islands<br>Year=%{x}<br>Women in Parliament(%)=%{y}<extra></extra>",
         "legendgroup": "Marshall Islands",
         "line": {
          "color": "#ab63fa",
          "dash": "solid"
         },
         "marker": {
          "symbol": "circle"
         },
         "mode": "lines+markers",
         "name": "Marshall Islands",
         "orientation": "v",
         "showlegend": true,
         "type": "scatter",
         "x": [
          2003,
          2007,
          2011,
          2015
         ],
         "xaxis": "x",
         "y": [
          0.0303,
          0.0303,
          0.0303,
          0.0909
         ],
         "yaxis": "y"
        },
        {
         "hovertemplate": "country=Micronesia (Federated States of)<br>Year=%{x}<br>Women in Parliament(%)=%{y}<extra></extra>",
         "legendgroup": "Micronesia (Federated States of)",
         "line": {
          "color": "#FFA15A",
          "dash": "solid"
         },
         "marker": {
          "symbol": "circle"
         },
         "mode": "lines+markers",
         "name": "Micronesia (Federated States of)",
         "orientation": "v",
         "showlegend": true,
         "type": "scatter",
         "x": [
          2005,
          2007,
          2009,
          2011,
          2013,
          2015,
          2017
         ],
         "xaxis": "x",
         "y": [
          0,
          0,
          0,
          0,
          0,
          0,
          0
         ],
         "yaxis": "y"
        },
        {
         "hovertemplate": "country=Nauru<br>Year=%{x}<br>Women in Parliament(%)=%{y}<extra></extra>",
         "legendgroup": "Nauru",
         "line": {
          "color": "#19d3f3",
          "dash": "solid"
         },
         "marker": {
          "symbol": "circle"
         },
         "mode": "lines+markers",
         "name": "Nauru",
         "orientation": "v",
         "showlegend": true,
         "type": "scatter",
         "x": [
          2000,
          2003,
          2004,
          2007,
          2008,
          2010,
          2010,
          2013,
          2016
         ],
         "xaxis": "x",
         "y": [
          0,
          0,
          0,
          0,
          0,
          0,
          0,
          0.05264,
          0.05264
         ],
         "yaxis": "y"
        },
        {
         "hovertemplate": "country=New Zealand<br>Year=%{x}<br>Women in Parliament(%)=%{y}<extra></extra>",
         "legendgroup": "New Zealand",
         "line": {
          "color": "#FF6692",
          "dash": "solid"
         },
         "marker": {
          "symbol": "circle"
         },
         "mode": "lines+markers",
         "name": "New Zealand",
         "orientation": "v",
         "showlegend": true,
         "type": "scatter",
         "x": [
          2002,
          2005,
          2008,
          2011,
          2014,
          2017
         ],
         "xaxis": "x",
         "y": [
          0.2917,
          0.3223,
          0.3362,
          0.3223,
          0.2976,
          0.3833
         ],
         "yaxis": "y"
        },
        {
         "hovertemplate": "country=Palau<br>Year=%{x}<br>Women in Parliament(%)=%{y}<extra></extra>",
         "legendgroup": "Palau",
         "line": {
          "color": "#B6E880",
          "dash": "solid"
         },
         "marker": {
          "symbol": "circle"
         },
         "mode": "lines+markers",
         "name": "Palau",
         "orientation": "v",
         "showlegend": true,
         "type": "scatter",
         "x": [
          2000,
          2004,
          2008,
          2012,
          2016,
          2016
         ],
         "xaxis": "x",
         "y": [
          0,
          0,
          0.1538,
          0,
          0,
          0.125
         ],
         "yaxis": "y"
        },
        {
         "hovertemplate": "country=Papua New Guinea<br>Year=%{x}<br>Women in Parliament(%)=%{y}<extra></extra>",
         "legendgroup": "Papua New Guinea",
         "line": {
          "color": "#FF97FF",
          "dash": "solid"
         },
         "marker": {
          "symbol": "circle"
         },
         "mode": "lines+markers",
         "name": "Papua New Guinea",
         "orientation": "v",
         "showlegend": true,
         "type": "scatter",
         "x": [
          2002,
          2007,
          2012,
          2017
         ],
         "xaxis": "x",
         "y": [
          0.00917,
          0.00917,
          0.02702,
          0
         ],
         "yaxis": "y"
        },
        {
         "hovertemplate": "country=Samoa<br>Year=%{x}<br>Women in Parliament(%)=%{y}<extra></extra>",
         "legendgroup": "Samoa",
         "line": {
          "color": "#FECB52",
          "dash": "solid"
         },
         "marker": {
          "symbol": "circle"
         },
         "mode": "lines+markers",
         "name": "Samoa",
         "orientation": "v",
         "showlegend": true,
         "type": "scatter",
         "x": [
          2001,
          2006,
          2011,
          2016
         ],
         "xaxis": "x",
         "y": [
          0.06122,
          0.0816,
          0.0408,
          0.1
         ],
         "yaxis": "y"
        },
        {
         "hovertemplate": "country=Solomon Islands<br>Year=%{x}<br>Women in Parliament(%)=%{y}<extra></extra>",
         "legendgroup": "Solomon Islands",
         "line": {
          "color": "#636efa",
          "dash": "solid"
         },
         "marker": {
          "symbol": "circle"
         },
         "mode": "lines+markers",
         "name": "Solomon Islands",
         "orientation": "v",
         "showlegend": true,
         "type": "scatter",
         "x": [
          2001,
          2006,
          2010,
          2014
         ],
         "xaxis": "x",
         "y": [
          0,
          0,
          0,
          0.02
         ],
         "yaxis": "y"
        },
        {
         "hovertemplate": "country=Tonga<br>Year=%{x}<br>Women in Parliament(%)=%{y}<extra></extra>",
         "legendgroup": "Tonga",
         "line": {
          "color": "#EF553B",
          "dash": "solid"
         },
         "marker": {
          "symbol": "circle"
         },
         "mode": "lines+markers",
         "name": "Tonga",
         "orientation": "v",
         "showlegend": true,
         "type": "scatter",
         "x": [
          2002,
          2005,
          2008,
          2010,
          2014
         ],
         "xaxis": "x",
         "y": [
          0,
          0.0345,
          0.03125,
          0,
          0
         ],
         "yaxis": "y"
        },
        {
         "hovertemplate": "country=Tuvalu<br>Year=%{x}<br>Women in Parliament(%)=%{y}<extra></extra>",
         "legendgroup": "Tuvalu",
         "line": {
          "color": "#00cc96",
          "dash": "solid"
         },
         "marker": {
          "symbol": "circle"
         },
         "mode": "lines+markers",
         "name": "Tuvalu",
         "orientation": "v",
         "showlegend": true,
         "type": "scatter",
         "x": [
          2002,
          2006,
          2010,
          2015
         ],
         "xaxis": "x",
         "y": [
          0,
          0,
          0,
          0.06665
         ],
         "yaxis": "y"
        },
        {
         "hovertemplate": "country=Vanuatu<br>Year=%{x}<br>Women in Parliament(%)=%{y}<extra></extra>",
         "legendgroup": "Vanuatu",
         "line": {
          "color": "#ab63fa",
          "dash": "solid"
         },
         "marker": {
          "symbol": "circle"
         },
         "mode": "lines+markers",
         "name": "Vanuatu",
         "orientation": "v",
         "showlegend": true,
         "type": "scatter",
         "x": [
          2002,
          2004,
          2008,
          2012,
          2016
         ],
         "xaxis": "x",
         "y": [
          0.01923,
          0.03845,
          0.03845,
          0,
          0
         ],
         "yaxis": "y"
        }
       ],
       "layout": {
        "font": {
         "color": "blue",
         "family": "Courier New"
        },
        "legend": {
         "title": {
          "font": {
           "color": "green"
          },
          "text": "country"
         },
         "tracegroupgap": 0
        },
        "template": {
         "data": {
          "bar": [
           {
            "error_x": {
             "color": "#2a3f5f"
            },
            "error_y": {
             "color": "#2a3f5f"
            },
            "marker": {
             "line": {
              "color": "#E5ECF6",
              "width": 0.5
             },
             "pattern": {
              "fillmode": "overlay",
              "size": 10,
              "solidity": 0.2
             }
            },
            "type": "bar"
           }
          ],
          "barpolar": [
           {
            "marker": {
             "line": {
              "color": "#E5ECF6",
              "width": 0.5
             },
             "pattern": {
              "fillmode": "overlay",
              "size": 10,
              "solidity": 0.2
             }
            },
            "type": "barpolar"
           }
          ],
          "carpet": [
           {
            "aaxis": {
             "endlinecolor": "#2a3f5f",
             "gridcolor": "white",
             "linecolor": "white",
             "minorgridcolor": "white",
             "startlinecolor": "#2a3f5f"
            },
            "baxis": {
             "endlinecolor": "#2a3f5f",
             "gridcolor": "white",
             "linecolor": "white",
             "minorgridcolor": "white",
             "startlinecolor": "#2a3f5f"
            },
            "type": "carpet"
           }
          ],
          "choropleth": [
           {
            "colorbar": {
             "outlinewidth": 0,
             "ticks": ""
            },
            "type": "choropleth"
           }
          ],
          "contour": [
           {
            "colorbar": {
             "outlinewidth": 0,
             "ticks": ""
            },
            "colorscale": [
             [
              0,
              "#0d0887"
             ],
             [
              0.1111111111111111,
              "#46039f"
             ],
             [
              0.2222222222222222,
              "#7201a8"
             ],
             [
              0.3333333333333333,
              "#9c179e"
             ],
             [
              0.4444444444444444,
              "#bd3786"
             ],
             [
              0.5555555555555556,
              "#d8576b"
             ],
             [
              0.6666666666666666,
              "#ed7953"
             ],
             [
              0.7777777777777778,
              "#fb9f3a"
             ],
             [
              0.8888888888888888,
              "#fdca26"
             ],
             [
              1,
              "#f0f921"
             ]
            ],
            "type": "contour"
           }
          ],
          "contourcarpet": [
           {
            "colorbar": {
             "outlinewidth": 0,
             "ticks": ""
            },
            "type": "contourcarpet"
           }
          ],
          "heatmap": [
           {
            "colorbar": {
             "outlinewidth": 0,
             "ticks": ""
            },
            "colorscale": [
             [
              0,
              "#0d0887"
             ],
             [
              0.1111111111111111,
              "#46039f"
             ],
             [
              0.2222222222222222,
              "#7201a8"
             ],
             [
              0.3333333333333333,
              "#9c179e"
             ],
             [
              0.4444444444444444,
              "#bd3786"
             ],
             [
              0.5555555555555556,
              "#d8576b"
             ],
             [
              0.6666666666666666,
              "#ed7953"
             ],
             [
              0.7777777777777778,
              "#fb9f3a"
             ],
             [
              0.8888888888888888,
              "#fdca26"
             ],
             [
              1,
              "#f0f921"
             ]
            ],
            "type": "heatmap"
           }
          ],
          "heatmapgl": [
           {
            "colorbar": {
             "outlinewidth": 0,
             "ticks": ""
            },
            "colorscale": [
             [
              0,
              "#0d0887"
             ],
             [
              0.1111111111111111,
              "#46039f"
             ],
             [
              0.2222222222222222,
              "#7201a8"
             ],
             [
              0.3333333333333333,
              "#9c179e"
             ],
             [
              0.4444444444444444,
              "#bd3786"
             ],
             [
              0.5555555555555556,
              "#d8576b"
             ],
             [
              0.6666666666666666,
              "#ed7953"
             ],
             [
              0.7777777777777778,
              "#fb9f3a"
             ],
             [
              0.8888888888888888,
              "#fdca26"
             ],
             [
              1,
              "#f0f921"
             ]
            ],
            "type": "heatmapgl"
           }
          ],
          "histogram": [
           {
            "marker": {
             "pattern": {
              "fillmode": "overlay",
              "size": 10,
              "solidity": 0.2
             }
            },
            "type": "histogram"
           }
          ],
          "histogram2d": [
           {
            "colorbar": {
             "outlinewidth": 0,
             "ticks": ""
            },
            "colorscale": [
             [
              0,
              "#0d0887"
             ],
             [
              0.1111111111111111,
              "#46039f"
             ],
             [
              0.2222222222222222,
              "#7201a8"
             ],
             [
              0.3333333333333333,
              "#9c179e"
             ],
             [
              0.4444444444444444,
              "#bd3786"
             ],
             [
              0.5555555555555556,
              "#d8576b"
             ],
             [
              0.6666666666666666,
              "#ed7953"
             ],
             [
              0.7777777777777778,
              "#fb9f3a"
             ],
             [
              0.8888888888888888,
              "#fdca26"
             ],
             [
              1,
              "#f0f921"
             ]
            ],
            "type": "histogram2d"
           }
          ],
          "histogram2dcontour": [
           {
            "colorbar": {
             "outlinewidth": 0,
             "ticks": ""
            },
            "colorscale": [
             [
              0,
              "#0d0887"
             ],
             [
              0.1111111111111111,
              "#46039f"
             ],
             [
              0.2222222222222222,
              "#7201a8"
             ],
             [
              0.3333333333333333,
              "#9c179e"
             ],
             [
              0.4444444444444444,
              "#bd3786"
             ],
             [
              0.5555555555555556,
              "#d8576b"
             ],
             [
              0.6666666666666666,
              "#ed7953"
             ],
             [
              0.7777777777777778,
              "#fb9f3a"
             ],
             [
              0.8888888888888888,
              "#fdca26"
             ],
             [
              1,
              "#f0f921"
             ]
            ],
            "type": "histogram2dcontour"
           }
          ],
          "mesh3d": [
           {
            "colorbar": {
             "outlinewidth": 0,
             "ticks": ""
            },
            "type": "mesh3d"
           }
          ],
          "parcoords": [
           {
            "line": {
             "colorbar": {
              "outlinewidth": 0,
              "ticks": ""
             }
            },
            "type": "parcoords"
           }
          ],
          "pie": [
           {
            "automargin": true,
            "type": "pie"
           }
          ],
          "scatter": [
           {
            "marker": {
             "colorbar": {
              "outlinewidth": 0,
              "ticks": ""
             }
            },
            "type": "scatter"
           }
          ],
          "scatter3d": [
           {
            "line": {
             "colorbar": {
              "outlinewidth": 0,
              "ticks": ""
             }
            },
            "marker": {
             "colorbar": {
              "outlinewidth": 0,
              "ticks": ""
             }
            },
            "type": "scatter3d"
           }
          ],
          "scattercarpet": [
           {
            "marker": {
             "colorbar": {
              "outlinewidth": 0,
              "ticks": ""
             }
            },
            "type": "scattercarpet"
           }
          ],
          "scattergeo": [
           {
            "marker": {
             "colorbar": {
              "outlinewidth": 0,
              "ticks": ""
             }
            },
            "type": "scattergeo"
           }
          ],
          "scattergl": [
           {
            "marker": {
             "colorbar": {
              "outlinewidth": 0,
              "ticks": ""
             }
            },
            "type": "scattergl"
           }
          ],
          "scattermapbox": [
           {
            "marker": {
             "colorbar": {
              "outlinewidth": 0,
              "ticks": ""
             }
            },
            "type": "scattermapbox"
           }
          ],
          "scatterpolar": [
           {
            "marker": {
             "colorbar": {
              "outlinewidth": 0,
              "ticks": ""
             }
            },
            "type": "scatterpolar"
           }
          ],
          "scatterpolargl": [
           {
            "marker": {
             "colorbar": {
              "outlinewidth": 0,
              "ticks": ""
             }
            },
            "type": "scatterpolargl"
           }
          ],
          "scatterternary": [
           {
            "marker": {
             "colorbar": {
              "outlinewidth": 0,
              "ticks": ""
             }
            },
            "type": "scatterternary"
           }
          ],
          "surface": [
           {
            "colorbar": {
             "outlinewidth": 0,
             "ticks": ""
            },
            "colorscale": [
             [
              0,
              "#0d0887"
             ],
             [
              0.1111111111111111,
              "#46039f"
             ],
             [
              0.2222222222222222,
              "#7201a8"
             ],
             [
              0.3333333333333333,
              "#9c179e"
             ],
             [
              0.4444444444444444,
              "#bd3786"
             ],
             [
              0.5555555555555556,
              "#d8576b"
             ],
             [
              0.6666666666666666,
              "#ed7953"
             ],
             [
              0.7777777777777778,
              "#fb9f3a"
             ],
             [
              0.8888888888888888,
              "#fdca26"
             ],
             [
              1,
              "#f0f921"
             ]
            ],
            "type": "surface"
           }
          ],
          "table": [
           {
            "cells": {
             "fill": {
              "color": "#EBF0F8"
             },
             "line": {
              "color": "white"
             }
            },
            "header": {
             "fill": {
              "color": "#C8D4E3"
             },
             "line": {
              "color": "white"
             }
            },
            "type": "table"
           }
          ]
         },
         "layout": {
          "annotationdefaults": {
           "arrowcolor": "#2a3f5f",
           "arrowhead": 0,
           "arrowwidth": 1
          },
          "autotypenumbers": "strict",
          "coloraxis": {
           "colorbar": {
            "outlinewidth": 0,
            "ticks": ""
           }
          },
          "colorscale": {
           "diverging": [
            [
             0,
             "#8e0152"
            ],
            [
             0.1,
             "#c51b7d"
            ],
            [
             0.2,
             "#de77ae"
            ],
            [
             0.3,
             "#f1b6da"
            ],
            [
             0.4,
             "#fde0ef"
            ],
            [
             0.5,
             "#f7f7f7"
            ],
            [
             0.6,
             "#e6f5d0"
            ],
            [
             0.7,
             "#b8e186"
            ],
            [
             0.8,
             "#7fbc41"
            ],
            [
             0.9,
             "#4d9221"
            ],
            [
             1,
             "#276419"
            ]
           ],
           "sequential": [
            [
             0,
             "#0d0887"
            ],
            [
             0.1111111111111111,
             "#46039f"
            ],
            [
             0.2222222222222222,
             "#7201a8"
            ],
            [
             0.3333333333333333,
             "#9c179e"
            ],
            [
             0.4444444444444444,
             "#bd3786"
            ],
            [
             0.5555555555555556,
             "#d8576b"
            ],
            [
             0.6666666666666666,
             "#ed7953"
            ],
            [
             0.7777777777777778,
             "#fb9f3a"
            ],
            [
             0.8888888888888888,
             "#fdca26"
            ],
            [
             1,
             "#f0f921"
            ]
           ],
           "sequentialminus": [
            [
             0,
             "#0d0887"
            ],
            [
             0.1111111111111111,
             "#46039f"
            ],
            [
             0.2222222222222222,
             "#7201a8"
            ],
            [
             0.3333333333333333,
             "#9c179e"
            ],
            [
             0.4444444444444444,
             "#bd3786"
            ],
            [
             0.5555555555555556,
             "#d8576b"
            ],
            [
             0.6666666666666666,
             "#ed7953"
            ],
            [
             0.7777777777777778,
             "#fb9f3a"
            ],
            [
             0.8888888888888888,
             "#fdca26"
            ],
            [
             1,
             "#f0f921"
            ]
           ]
          },
          "colorway": [
           "#636efa",
           "#EF553B",
           "#00cc96",
           "#ab63fa",
           "#FFA15A",
           "#19d3f3",
           "#FF6692",
           "#B6E880",
           "#FF97FF",
           "#FECB52"
          ],
          "font": {
           "color": "#2a3f5f"
          },
          "geo": {
           "bgcolor": "white",
           "lakecolor": "white",
           "landcolor": "#E5ECF6",
           "showlakes": true,
           "showland": true,
           "subunitcolor": "white"
          },
          "hoverlabel": {
           "align": "left"
          },
          "hovermode": "closest",
          "mapbox": {
           "style": "light"
          },
          "paper_bgcolor": "white",
          "plot_bgcolor": "#E5ECF6",
          "polar": {
           "angularaxis": {
            "gridcolor": "white",
            "linecolor": "white",
            "ticks": ""
           },
           "bgcolor": "#E5ECF6",
           "radialaxis": {
            "gridcolor": "white",
            "linecolor": "white",
            "ticks": ""
           }
          },
          "scene": {
           "xaxis": {
            "backgroundcolor": "#E5ECF6",
            "gridcolor": "white",
            "gridwidth": 2,
            "linecolor": "white",
            "showbackground": true,
            "ticks": "",
            "zerolinecolor": "white"
           },
           "yaxis": {
            "backgroundcolor": "#E5ECF6",
            "gridcolor": "white",
            "gridwidth": 2,
            "linecolor": "white",
            "showbackground": true,
            "ticks": "",
            "zerolinecolor": "white"
           },
           "zaxis": {
            "backgroundcolor": "#E5ECF6",
            "gridcolor": "white",
            "gridwidth": 2,
            "linecolor": "white",
            "showbackground": true,
            "ticks": "",
            "zerolinecolor": "white"
           }
          },
          "shapedefaults": {
           "line": {
            "color": "#2a3f5f"
           }
          },
          "ternary": {
           "aaxis": {
            "gridcolor": "white",
            "linecolor": "white",
            "ticks": ""
           },
           "baxis": {
            "gridcolor": "white",
            "linecolor": "white",
            "ticks": ""
           },
           "bgcolor": "#E5ECF6",
           "caxis": {
            "gridcolor": "white",
            "linecolor": "white",
            "ticks": ""
           }
          },
          "title": {
           "x": 0.05
          },
          "xaxis": {
           "automargin": true,
           "gridcolor": "white",
           "linecolor": "white",
           "ticks": "",
           "title": {
            "standoff": 15
           },
           "zerolinecolor": "white",
           "zerolinewidth": 2
          },
          "yaxis": {
           "automargin": true,
           "gridcolor": "white",
           "linecolor": "white",
           "ticks": "",
           "title": {
            "standoff": 15
           },
           "zerolinecolor": "white",
           "zerolinewidth": 2
          }
         }
        },
        "title": {
         "font": {
          "color": "red",
          "family": "Courier New"
         },
         "text": "Pacific - Women Representation in Parliament since 2000(%)"
        },
        "xaxis": {
         "anchor": "y",
         "domain": [
          0,
          1
         ],
         "title": {
          "text": "Year"
         }
        },
        "yaxis": {
         "anchor": "x",
         "domain": [
          0,
          1
         ],
         "title": {
          "text": "Women in Parliament(%)"
         }
        }
       }
      }
     },
     "metadata": {},
     "output_type": "display_data"
    }
   ],
   "source": [
    "# select region for Europe\n",
    "df_pac = df.query(\"(chamber_type != 'upper') and (year >= 2000) and (region == 'PAC')\")\n",
    "# plot percentage throught the years by country\n",
    "plot_perc_years(df_pac, 'Pacific - Women Representation in Parliament since 2000(%)')"
   ]
  },
  {
   "cell_type": "code",
   "execution_count": 43,
   "metadata": {},
   "outputs": [],
   "source": [
    "df_ = df.query(\"(chamber_type != 'upper')\")\n",
    "#df_.groupby('year')['women_perc'].mean()\n"
   ]
  },
  {
   "cell_type": "code",
   "execution_count": 50,
   "metadata": {},
   "outputs": [
    {
     "data": {
      "application/vnd.plotly.v1+json": {
       "config": {
        "plotlyServerURL": "https://plot.ly"
       },
       "data": [
        {
         "branchvalues": "total",
         "customdata": [
          [
           0.2788
          ],
          [
           0.1111
          ],
          [
           0.2424
          ],
          [
           0.20000000000000004
          ],
          [
           0.1489
          ],
          [
           0.2142
          ],
          [
           0.1501
          ],
          [
           0.152
          ],
          [
           0.1871
          ],
          [
           0.456
          ],
          [
           0.532
          ],
          [
           0.10000000000000002
          ],
          [
           0.262
          ],
          [
           0.3096
          ],
          [
           0.07245
          ],
          [
           0.19600000000000004
          ],
          [
           0.1791
          ],
          [
           0.467
          ],
          [
           0.126
          ],
          [
           0.2522
          ],
          [
           0.357
          ],
          [
           0.31
          ],
          [
           0.047
          ],
          [
           0.20000000000000004
          ],
          [
           0.139
          ],
          [
           0.2026
          ],
          [
           0.482
          ],
          [
           0.333
          ],
          [
           0.2024
          ],
          [
           0.15
          ],
          [
           0.6123
          ],
          [
           0.1455
          ],
          [
           0.123
          ],
          [
           0.244
          ],
          [
           0.4614
          ],
          [
           0.338
          ],
          [
           0.1648
          ],
          [
           0.1744
          ],
          [
           0.248
          ],
          [
           0.235
          ],
          [
           0.3147
          ],
          [
           0.3734351016799294
          ],
          [
           0.23630800571837024
          ],
          [
           0.2952510720175921
          ],
          [
           0.2199660427807487
          ],
          [
           0.19600000000000004
          ],
          [
           0.3190618863286545
          ],
          [
           0.3142278718611211
          ]
         ],
         "domain": {
          "x": [
           0,
           1
          ],
          "y": [
           0,
           1
          ]
         },
         "hovertemplate": "labels=%{label}<br>women_perc_sum=%{value}<br>parent=%{parent}<br>id=%{id}<br>women_perc=%{color}<extra></extra>",
         "ids": [
          "world/ASIA/Afghanistan",
          "world/AME/Antigua and Barbuda",
          "world/EUR/Armenia",
          "world/AME/Barbados",
          "world/ASIA/Bhutan",
          "world/EUR/Bosnia and Herzegovina",
          "world/AME/Brazil",
          "world/ASIA/Cambodia",
          "world/AME/Colombia",
          "world/AME/Costa Rica",
          "world/AME/Cuba",
          "world/SUB-SAHARAN/Democratic Republic of the Congo",
          "world/SUB-SAHARAN/Djibouti",
          "world/AME/El Salvador",
          "world/SUB-SAHARAN/Eswatini",
          "world/PAC/Fiji",
          "world/SUB-SAHARAN/Gabon",
          "world/AME/Grenada",
          "world/EUR/Hungary",
          "world/MENA/Iraq",
          "world/EUR/Italy",
          "world/EUR/Latvia",
          "world/MENA/Lebanon",
          "world/EUR/Luxembourg",
          "world/ASIA/Malaysia",
          "world/SUB-SAHARAN/Mauritania",
          "world/AME/Mexico",
          "world/EUR/Monaco",
          "world/ASIA/Pakistan",
          "world/AME/Paraguay",
          "world/SUB-SAHARAN/Rwanda",
          "world/SUB-SAHARAN/Sao Tome and Principe",
          "world/SUB-SAHARAN/Sierra Leone",
          "world/EUR/Slovenia",
          "world/EUR/Sweden",
          "world/ASIA/Timor-Leste",
          "world/SUB-SAHARAN/Togo",
          "world/EUR/Turkey",
          "world/EUR/Turkmenistan",
          "world/AME/United States of America",
          "world/SUB-SAHARAN/Zimbabwe",
          "world/AME",
          "world/ASIA",
          "world/EUR",
          "world/MENA",
          "world/PAC",
          "world/SUB-SAHARAN",
          "world"
         ],
         "labels": [
          "Afghanistan",
          "Antigua and Barbuda",
          "Armenia",
          "Barbados",
          "Bhutan",
          "Bosnia and Herzegovina",
          "Brazil",
          "Cambodia",
          "Colombia",
          "Costa Rica",
          "Cuba",
          "Democratic Republic of the Congo",
          "Djibouti",
          "El Salvador",
          "Eswatini",
          "Fiji",
          "Gabon",
          "Grenada",
          "Hungary",
          "Iraq",
          "Italy",
          "Latvia",
          "Lebanon",
          "Luxembourg",
          "Malaysia",
          "Mauritania",
          "Mexico",
          "Monaco",
          "Pakistan",
          "Paraguay",
          "Rwanda",
          "Sao Tome and Principe",
          "Sierra Leone",
          "Slovenia",
          "Sweden",
          "Timor-Leste",
          "Togo",
          "Turkey",
          "Turkmenistan",
          "United States of America",
          "Zimbabwe",
          "AME",
          "ASIA",
          "EUR",
          "MENA",
          "PAC",
          "SUB-SAHARAN",
          "world"
         ],
         "marker": {
          "coloraxis": "coloraxis",
          "colors": [
           0.2788,
           0.1111,
           0.2424,
           0.20000000000000004,
           0.1489,
           0.2142,
           0.1501,
           0.152,
           0.1871,
           0.456,
           0.532,
           0.10000000000000002,
           0.262,
           0.3096,
           0.07245,
           0.19600000000000004,
           0.1791,
           0.467,
           0.126,
           0.2522,
           0.357,
           0.31,
           0.047,
           0.20000000000000004,
           0.139,
           0.2026,
           0.482,
           0.333,
           0.2024,
           0.15,
           0.6123,
           0.1455,
           0.123,
           0.244,
           0.4614,
           0.338,
           0.1648,
           0.1744,
           0.248,
           0.235,
           0.3147,
           0.3734351016799294,
           0.23630800571837024,
           0.2952510720175921,
           0.2199660427807487,
           0.19600000000000004,
           0.3190618863286545,
           0.3142278718611211
          ]
         },
         "name": "",
         "parents": [
          "world/ASIA",
          "world/AME",
          "world/EUR",
          "world/AME",
          "world/ASIA",
          "world/EUR",
          "world/AME",
          "world/ASIA",
          "world/AME",
          "world/AME",
          "world/AME",
          "world/SUB-SAHARAN",
          "world/SUB-SAHARAN",
          "world/AME",
          "world/SUB-SAHARAN",
          "world/PAC",
          "world/SUB-SAHARAN",
          "world/AME",
          "world/EUR",
          "world/MENA",
          "world/EUR",
          "world/EUR",
          "world/MENA",
          "world/EUR",
          "world/ASIA",
          "world/SUB-SAHARAN",
          "world/AME",
          "world/EUR",
          "world/ASIA",
          "world/AME",
          "world/SUB-SAHARAN",
          "world/SUB-SAHARAN",
          "world/SUB-SAHARAN",
          "world/EUR",
          "world/EUR",
          "world/ASIA",
          "world/SUB-SAHARAN",
          "world/EUR",
          "world/EUR",
          "world/AME",
          "world/SUB-SAHARAN",
          "world",
          "world",
          "world",
          "world",
          "world",
          "world",
          ""
         ],
         "type": "treemap",
         "values": [
          0.2788,
          0.1111,
          0.2424,
          0.2,
          0.1489,
          0.2142,
          0.1501,
          0.152,
          0.1871,
          0.456,
          0.532,
          0.1,
          0.262,
          0.3096,
          0.07245,
          0.196,
          0.1791,
          0.467,
          0.126,
          0.2522,
          0.357,
          0.31,
          0.047,
          0.2,
          0.139,
          0.2026,
          0.482,
          0.333,
          0.2024,
          0.15,
          0.6123,
          0.1455,
          0.123,
          0.244,
          0.4614,
          0.338,
          0.1648,
          0.1744,
          0.248,
          0.235,
          0.3147,
          3.2799,
          1.2591,
          2.9104,
          0.29919999999999997,
          0.196,
          2.17645,
          10.12105
         ]
        }
       ],
       "layout": {
        "coloraxis": {
         "cmid": 0.3142278718611211,
         "colorbar": {
          "title": {
           "text": "women_perc"
          }
         },
         "colorscale": [
          [
           0,
           "rgb(103,0,31)"
          ],
          [
           0.1,
           "rgb(178,24,43)"
          ],
          [
           0.2,
           "rgb(214,96,77)"
          ],
          [
           0.3,
           "rgb(244,165,130)"
          ],
          [
           0.4,
           "rgb(253,219,199)"
          ],
          [
           0.5,
           "rgb(247,247,247)"
          ],
          [
           0.6,
           "rgb(209,229,240)"
          ],
          [
           0.7,
           "rgb(146,197,222)"
          ],
          [
           0.8,
           "rgb(67,147,195)"
          ],
          [
           0.9,
           "rgb(33,102,172)"
          ],
          [
           1,
           "rgb(5,48,97)"
          ]
         ]
        },
        "legend": {
         "tracegroupgap": 0
        },
        "margin": {
         "b": 25,
         "l": 25,
         "r": 25,
         "t": 50
        },
        "template": {
         "data": {
          "bar": [
           {
            "error_x": {
             "color": "#2a3f5f"
            },
            "error_y": {
             "color": "#2a3f5f"
            },
            "marker": {
             "line": {
              "color": "#E5ECF6",
              "width": 0.5
             },
             "pattern": {
              "fillmode": "overlay",
              "size": 10,
              "solidity": 0.2
             }
            },
            "type": "bar"
           }
          ],
          "barpolar": [
           {
            "marker": {
             "line": {
              "color": "#E5ECF6",
              "width": 0.5
             },
             "pattern": {
              "fillmode": "overlay",
              "size": 10,
              "solidity": 0.2
             }
            },
            "type": "barpolar"
           }
          ],
          "carpet": [
           {
            "aaxis": {
             "endlinecolor": "#2a3f5f",
             "gridcolor": "white",
             "linecolor": "white",
             "minorgridcolor": "white",
             "startlinecolor": "#2a3f5f"
            },
            "baxis": {
             "endlinecolor": "#2a3f5f",
             "gridcolor": "white",
             "linecolor": "white",
             "minorgridcolor": "white",
             "startlinecolor": "#2a3f5f"
            },
            "type": "carpet"
           }
          ],
          "choropleth": [
           {
            "colorbar": {
             "outlinewidth": 0,
             "ticks": ""
            },
            "type": "choropleth"
           }
          ],
          "contour": [
           {
            "colorbar": {
             "outlinewidth": 0,
             "ticks": ""
            },
            "colorscale": [
             [
              0,
              "#0d0887"
             ],
             [
              0.1111111111111111,
              "#46039f"
             ],
             [
              0.2222222222222222,
              "#7201a8"
             ],
             [
              0.3333333333333333,
              "#9c179e"
             ],
             [
              0.4444444444444444,
              "#bd3786"
             ],
             [
              0.5555555555555556,
              "#d8576b"
             ],
             [
              0.6666666666666666,
              "#ed7953"
             ],
             [
              0.7777777777777778,
              "#fb9f3a"
             ],
             [
              0.8888888888888888,
              "#fdca26"
             ],
             [
              1,
              "#f0f921"
             ]
            ],
            "type": "contour"
           }
          ],
          "contourcarpet": [
           {
            "colorbar": {
             "outlinewidth": 0,
             "ticks": ""
            },
            "type": "contourcarpet"
           }
          ],
          "heatmap": [
           {
            "colorbar": {
             "outlinewidth": 0,
             "ticks": ""
            },
            "colorscale": [
             [
              0,
              "#0d0887"
             ],
             [
              0.1111111111111111,
              "#46039f"
             ],
             [
              0.2222222222222222,
              "#7201a8"
             ],
             [
              0.3333333333333333,
              "#9c179e"
             ],
             [
              0.4444444444444444,
              "#bd3786"
             ],
             [
              0.5555555555555556,
              "#d8576b"
             ],
             [
              0.6666666666666666,
              "#ed7953"
             ],
             [
              0.7777777777777778,
              "#fb9f3a"
             ],
             [
              0.8888888888888888,
              "#fdca26"
             ],
             [
              1,
              "#f0f921"
             ]
            ],
            "type": "heatmap"
           }
          ],
          "heatmapgl": [
           {
            "colorbar": {
             "outlinewidth": 0,
             "ticks": ""
            },
            "colorscale": [
             [
              0,
              "#0d0887"
             ],
             [
              0.1111111111111111,
              "#46039f"
             ],
             [
              0.2222222222222222,
              "#7201a8"
             ],
             [
              0.3333333333333333,
              "#9c179e"
             ],
             [
              0.4444444444444444,
              "#bd3786"
             ],
             [
              0.5555555555555556,
              "#d8576b"
             ],
             [
              0.6666666666666666,
              "#ed7953"
             ],
             [
              0.7777777777777778,
              "#fb9f3a"
             ],
             [
              0.8888888888888888,
              "#fdca26"
             ],
             [
              1,
              "#f0f921"
             ]
            ],
            "type": "heatmapgl"
           }
          ],
          "histogram": [
           {
            "marker": {
             "pattern": {
              "fillmode": "overlay",
              "size": 10,
              "solidity": 0.2
             }
            },
            "type": "histogram"
           }
          ],
          "histogram2d": [
           {
            "colorbar": {
             "outlinewidth": 0,
             "ticks": ""
            },
            "colorscale": [
             [
              0,
              "#0d0887"
             ],
             [
              0.1111111111111111,
              "#46039f"
             ],
             [
              0.2222222222222222,
              "#7201a8"
             ],
             [
              0.3333333333333333,
              "#9c179e"
             ],
             [
              0.4444444444444444,
              "#bd3786"
             ],
             [
              0.5555555555555556,
              "#d8576b"
             ],
             [
              0.6666666666666666,
              "#ed7953"
             ],
             [
              0.7777777777777778,
              "#fb9f3a"
             ],
             [
              0.8888888888888888,
              "#fdca26"
             ],
             [
              1,
              "#f0f921"
             ]
            ],
            "type": "histogram2d"
           }
          ],
          "histogram2dcontour": [
           {
            "colorbar": {
             "outlinewidth": 0,
             "ticks": ""
            },
            "colorscale": [
             [
              0,
              "#0d0887"
             ],
             [
              0.1111111111111111,
              "#46039f"
             ],
             [
              0.2222222222222222,
              "#7201a8"
             ],
             [
              0.3333333333333333,
              "#9c179e"
             ],
             [
              0.4444444444444444,
              "#bd3786"
             ],
             [
              0.5555555555555556,
              "#d8576b"
             ],
             [
              0.6666666666666666,
              "#ed7953"
             ],
             [
              0.7777777777777778,
              "#fb9f3a"
             ],
             [
              0.8888888888888888,
              "#fdca26"
             ],
             [
              1,
              "#f0f921"
             ]
            ],
            "type": "histogram2dcontour"
           }
          ],
          "mesh3d": [
           {
            "colorbar": {
             "outlinewidth": 0,
             "ticks": ""
            },
            "type": "mesh3d"
           }
          ],
          "parcoords": [
           {
            "line": {
             "colorbar": {
              "outlinewidth": 0,
              "ticks": ""
             }
            },
            "type": "parcoords"
           }
          ],
          "pie": [
           {
            "automargin": true,
            "type": "pie"
           }
          ],
          "scatter": [
           {
            "marker": {
             "colorbar": {
              "outlinewidth": 0,
              "ticks": ""
             }
            },
            "type": "scatter"
           }
          ],
          "scatter3d": [
           {
            "line": {
             "colorbar": {
              "outlinewidth": 0,
              "ticks": ""
             }
            },
            "marker": {
             "colorbar": {
              "outlinewidth": 0,
              "ticks": ""
             }
            },
            "type": "scatter3d"
           }
          ],
          "scattercarpet": [
           {
            "marker": {
             "colorbar": {
              "outlinewidth": 0,
              "ticks": ""
             }
            },
            "type": "scattercarpet"
           }
          ],
          "scattergeo": [
           {
            "marker": {
             "colorbar": {
              "outlinewidth": 0,
              "ticks": ""
             }
            },
            "type": "scattergeo"
           }
          ],
          "scattergl": [
           {
            "marker": {
             "colorbar": {
              "outlinewidth": 0,
              "ticks": ""
             }
            },
            "type": "scattergl"
           }
          ],
          "scattermapbox": [
           {
            "marker": {
             "colorbar": {
              "outlinewidth": 0,
              "ticks": ""
             }
            },
            "type": "scattermapbox"
           }
          ],
          "scatterpolar": [
           {
            "marker": {
             "colorbar": {
              "outlinewidth": 0,
              "ticks": ""
             }
            },
            "type": "scatterpolar"
           }
          ],
          "scatterpolargl": [
           {
            "marker": {
             "colorbar": {
              "outlinewidth": 0,
              "ticks": ""
             }
            },
            "type": "scatterpolargl"
           }
          ],
          "scatterternary": [
           {
            "marker": {
             "colorbar": {
              "outlinewidth": 0,
              "ticks": ""
             }
            },
            "type": "scatterternary"
           }
          ],
          "surface": [
           {
            "colorbar": {
             "outlinewidth": 0,
             "ticks": ""
            },
            "colorscale": [
             [
              0,
              "#0d0887"
             ],
             [
              0.1111111111111111,
              "#46039f"
             ],
             [
              0.2222222222222222,
              "#7201a8"
             ],
             [
              0.3333333333333333,
              "#9c179e"
             ],
             [
              0.4444444444444444,
              "#bd3786"
             ],
             [
              0.5555555555555556,
              "#d8576b"
             ],
             [
              0.6666666666666666,
              "#ed7953"
             ],
             [
              0.7777777777777778,
              "#fb9f3a"
             ],
             [
              0.8888888888888888,
              "#fdca26"
             ],
             [
              1,
              "#f0f921"
             ]
            ],
            "type": "surface"
           }
          ],
          "table": [
           {
            "cells": {
             "fill": {
              "color": "#EBF0F8"
             },
             "line": {
              "color": "white"
             }
            },
            "header": {
             "fill": {
              "color": "#C8D4E3"
             },
             "line": {
              "color": "white"
             }
            },
            "type": "table"
           }
          ]
         },
         "layout": {
          "annotationdefaults": {
           "arrowcolor": "#2a3f5f",
           "arrowhead": 0,
           "arrowwidth": 1
          },
          "autotypenumbers": "strict",
          "coloraxis": {
           "colorbar": {
            "outlinewidth": 0,
            "ticks": ""
           }
          },
          "colorscale": {
           "diverging": [
            [
             0,
             "#8e0152"
            ],
            [
             0.1,
             "#c51b7d"
            ],
            [
             0.2,
             "#de77ae"
            ],
            [
             0.3,
             "#f1b6da"
            ],
            [
             0.4,
             "#fde0ef"
            ],
            [
             0.5,
             "#f7f7f7"
            ],
            [
             0.6,
             "#e6f5d0"
            ],
            [
             0.7,
             "#b8e186"
            ],
            [
             0.8,
             "#7fbc41"
            ],
            [
             0.9,
             "#4d9221"
            ],
            [
             1,
             "#276419"
            ]
           ],
           "sequential": [
            [
             0,
             "#0d0887"
            ],
            [
             0.1111111111111111,
             "#46039f"
            ],
            [
             0.2222222222222222,
             "#7201a8"
            ],
            [
             0.3333333333333333,
             "#9c179e"
            ],
            [
             0.4444444444444444,
             "#bd3786"
            ],
            [
             0.5555555555555556,
             "#d8576b"
            ],
            [
             0.6666666666666666,
             "#ed7953"
            ],
            [
             0.7777777777777778,
             "#fb9f3a"
            ],
            [
             0.8888888888888888,
             "#fdca26"
            ],
            [
             1,
             "#f0f921"
            ]
           ],
           "sequentialminus": [
            [
             0,
             "#0d0887"
            ],
            [
             0.1111111111111111,
             "#46039f"
            ],
            [
             0.2222222222222222,
             "#7201a8"
            ],
            [
             0.3333333333333333,
             "#9c179e"
            ],
            [
             0.4444444444444444,
             "#bd3786"
            ],
            [
             0.5555555555555556,
             "#d8576b"
            ],
            [
             0.6666666666666666,
             "#ed7953"
            ],
            [
             0.7777777777777778,
             "#fb9f3a"
            ],
            [
             0.8888888888888888,
             "#fdca26"
            ],
            [
             1,
             "#f0f921"
            ]
           ]
          },
          "colorway": [
           "#636efa",
           "#EF553B",
           "#00cc96",
           "#ab63fa",
           "#FFA15A",
           "#19d3f3",
           "#FF6692",
           "#B6E880",
           "#FF97FF",
           "#FECB52"
          ],
          "font": {
           "color": "#2a3f5f"
          },
          "geo": {
           "bgcolor": "white",
           "lakecolor": "white",
           "landcolor": "#E5ECF6",
           "showlakes": true,
           "showland": true,
           "subunitcolor": "white"
          },
          "hoverlabel": {
           "align": "left"
          },
          "hovermode": "closest",
          "mapbox": {
           "style": "light"
          },
          "paper_bgcolor": "white",
          "plot_bgcolor": "#E5ECF6",
          "polar": {
           "angularaxis": {
            "gridcolor": "white",
            "linecolor": "white",
            "ticks": ""
           },
           "bgcolor": "#E5ECF6",
           "radialaxis": {
            "gridcolor": "white",
            "linecolor": "white",
            "ticks": ""
           }
          },
          "scene": {
           "xaxis": {
            "backgroundcolor": "#E5ECF6",
            "gridcolor": "white",
            "gridwidth": 2,
            "linecolor": "white",
            "showbackground": true,
            "ticks": "",
            "zerolinecolor": "white"
           },
           "yaxis": {
            "backgroundcolor": "#E5ECF6",
            "gridcolor": "white",
            "gridwidth": 2,
            "linecolor": "white",
            "showbackground": true,
            "ticks": "",
            "zerolinecolor": "white"
           },
           "zaxis": {
            "backgroundcolor": "#E5ECF6",
            "gridcolor": "white",
            "gridwidth": 2,
            "linecolor": "white",
            "showbackground": true,
            "ticks": "",
            "zerolinecolor": "white"
           }
          },
          "shapedefaults": {
           "line": {
            "color": "#2a3f5f"
           }
          },
          "ternary": {
           "aaxis": {
            "gridcolor": "white",
            "linecolor": "white",
            "ticks": ""
           },
           "baxis": {
            "gridcolor": "white",
            "linecolor": "white",
            "ticks": ""
           },
           "bgcolor": "#E5ECF6",
           "caxis": {
            "gridcolor": "white",
            "linecolor": "white",
            "ticks": ""
           }
          },
          "title": {
           "x": 0.05
          },
          "xaxis": {
           "automargin": true,
           "gridcolor": "white",
           "linecolor": "white",
           "ticks": "",
           "title": {
            "standoff": 15
           },
           "zerolinecolor": "white",
           "zerolinewidth": 2
          },
          "yaxis": {
           "automargin": true,
           "gridcolor": "white",
           "linecolor": "white",
           "ticks": "",
           "title": {
            "standoff": 15
           },
           "zerolinecolor": "white",
           "zerolinewidth": 2
          }
         }
        },
        "title": {
         "text": "Women Representation in Parliament 2018"
        }
       }
      }
     },
     "metadata": {},
     "output_type": "display_data"
    }
   ],
   "source": [
    "df_18 = df_.query(\"year == 2018\")\n",
    "fig = px.treemap(df_18, path=[px.Constant(\"world\"), 'region', 'country'], values='women_perc',\n",
    "                  color='women_perc', title='Women Representation in Parliament 2018',\n",
    "                  color_continuous_scale='RdBu',\n",
    "                  color_continuous_midpoint=np.average(df_18['women_perc'], weights=df_18['women_perc']))\n",
    "fig.update_layout(margin = dict(t=50, l=25, r=25, b=25))\n",
    "fig.show()"
   ]
  },
  {
   "cell_type": "code",
   "execution_count": null,
   "metadata": {},
   "outputs": [],
   "source": []
  }
 ],
 "metadata": {
  "kernelspec": {
   "display_name": "Python 3.9.5 64-bit ('myenv': venv)",
   "name": "myenv"
  },
  "language_info": {
   "codemirror_mode": {
    "name": "ipython",
    "version": 3
   },
   "file_extension": ".py",
   "mimetype": "text/x-python",
   "name": "python",
   "nbconvert_exporter": "python",
   "pygments_lexer": "ipython3",
   "version": "3.9.5"
  },
  "orig_nbformat": 2
 },
 "nbformat": 4,
 "nbformat_minor": 2
}