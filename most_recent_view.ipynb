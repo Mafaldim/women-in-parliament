{
 "cells": [
  {
   "cell_type": "code",
   "execution_count": 1,
   "metadata": {},
   "outputs": [],
   "source": [
    "import pandas as pd, numpy as np\n",
    "import plotly.express as px"
   ]
  },
  {
   "cell_type": "code",
   "execution_count": 126,
   "metadata": {},
   "outputs": [],
   "source": [
    "# read data\n",
    "df_historic = pd.read_csv('./data/women_in_parliament-historical_database-1945_to_2018_cleaned.csv')\n",
    "df_historic = df_historic.query(\"chamber_type != 'upper' \")\n",
    "df_regions = df_historic[['country','region']]\n",
    "\n",
    "df_2021 = pd.read_csv('./data/women_percent_as_of2021_cleaned.csv')\n",
    "df_2021.rename(columns={'Country':'country'},inplace=True)\n",
    "\n",
    "df_regions.set_index(['country'], inplace=True)\n",
    "df_2021.set_index(['country'], inplace=True)\n",
    "\n",
    "df_2021_regions = df_2021.join(df_regions).reset_index()\n",
    "df_2021_regions.drop_duplicates(inplace=True)\n",
    "\n"
   ]
  },
  {
   "cell_type": "code",
   "execution_count": 142,
   "metadata": {},
   "outputs": [
    {
     "name": "stderr",
     "output_type": "stream",
     "text": [
      "/Users/dimitramavridou/Desktop/women-repo/women-in-parliament/myenv/lib/python3.9/site-packages/pandas/core/indexing.py:1732: SettingWithCopyWarning:\n",
      "\n",
      "\n",
      "A value is trying to be set on a copy of a slice from a DataFrame\n",
      "\n",
      "See the caveats in the documentation: https://pandas.pydata.org/pandas-docs/stable/user_guide/indexing.html#returning-a-view-versus-a-copy\n",
      "\n"
     ]
    }
   ],
   "source": [
    "to_replace = dict({'Azerbaijan':'ASIA',\n",
    "'Bangladesh':'ASIA',\n",
    "'Bahrain':'MENA',\n",
    "'Bahamas': 'AME',\n",
    "'Bolivia (Plurinational State of)':'AME',\n",
    "'Central African Republic':'SUB-SAHARAN',\n",
    "'Chad':'SUB-SAHARAN',\n",
    "'Chile':'AME',\n",
    "'China':'ASIA',\n",
    "'Congo':'SUB-SAHARAN',\n",
    "\"Côte d'Ivoire\":'SUB-SAHARAN',\n",
    "'North Macedonia': 'EUR',\n",
    "'Venezuela (Bolivarian Republic of)':'AME' })\n",
    "\n",
    "for i in range(len(df_2021_regions)):\n",
    "    country  = df_2021_regions['country'].iloc[i]\n",
    "    if country in to_replace.keys():\n",
    "        df_2021_regions['region'].iloc[i] = to_replace[country]"
   ]
  },
  {
   "cell_type": "code",
   "execution_count": 149,
   "metadata": {},
   "outputs": [],
   "source": [
    "df_2021_regions.to_csv('./data/women_percent_as_of2021_with_regions.csv')"
   ]
  },
  {
   "cell_type": "code",
   "execution_count": 148,
   "metadata": {},
   "outputs": [
    {
     "data": {
      "application/vnd.plotly.v1+json": {
       "config": {
        "plotlyServerURL": "https://plot.ly"
       },
       "data": [
        {
         "branchvalues": "total",
         "customdata": [
          [
           27,
           27
          ],
          [
           33.6,
           33.6
          ],
          [
           8.1,
           8.1
          ],
          [
           46.400000000000006,
           46.400000000000006
          ],
          [
           29.6,
           29.6
          ],
          [
           11.1,
           11.1
          ],
          [
           42.4,
           42.4
          ],
          [
           33.6,
           33.6
          ],
          [
           33.6,
           33.6
          ],
          [
           31.1,
           31.1
          ],
          [
           40.4,
           40.4
          ],
          [
           18.2,
           18.2
          ],
          [
           12.800000000000002,
           12.800000000000002
          ],
          [
           15,
           15
          ],
          [
           20.9,
           20.9
          ],
          [
           20,
           20
          ],
          [
           40,
           40
          ],
          [
           42.7,
           42.7
          ],
          [
           12.5,
           12.5
          ],
          [
           8.4,
           8.4
          ],
          [
           17,
           17
          ],
          [
           46.199999999999996,
           46.199999999999996
          ],
          [
           26.2,
           26.2
          ],
          [
           10.8,
           10.8
          ],
          [
           15.200000000000001,
           15.200000000000001
          ],
          [
           9.1,
           9.1
          ],
          [
           24.6,
           24.6
          ],
          [
           6.3,
           6.3
          ],
          [
           38.2,
           38.2
          ],
          [
           38.9,
           38.9
          ],
          [
           21.6,
           21.6
          ],
          [
           33.9,
           33.9
          ],
          [
           29.6,
           29.6
          ],
          [
           12.800000000000002,
           12.800000000000002
          ],
          [
           15.400000000000002,
           15.400000000000002
          ],
          [
           22.6,
           22.6
          ],
          [
           24.899999999999995,
           24.899999999999995
          ],
          [
           18.8,
           18.8
          ],
          [
           16.7,
           16.7
          ],
          [
           11.3,
           11.3
          ],
          [
           45.6,
           45.6
          ],
          [
           31.1,
           31.1
          ],
          [
           53.4,
           53.4
          ],
          [
           14.3,
           14.3
          ],
          [
           23,
           23
          ],
          [
           14.3,
           14.3
          ],
          [
           17.6,
           17.6
          ],
          [
           12.800000000000002,
           12.800000000000002
          ],
          [
           39.7,
           39.7
          ],
          [
           26.2,
           26.2
          ],
          [
           34.4,
           34.4
          ],
          [
           27.9,
           27.9
          ],
          [
           39.4,
           39.4
          ],
          [
           27.7,
           27.7
          ],
          [
           27.4,
           27.4
          ],
          [
           23,
           23
          ],
          [
           25.7,
           25.7
          ],
          [
           9.6,
           9.6
          ],
          [
           42.6,
           42.6
          ],
          [
           21.6,
           21.6
          ],
          [
           46,
           46
          ],
          [
           39.5,
           39.5
          ],
          [
           16.2,
           16.2
          ],
          [
           8.6,
           8.6
          ],
          [
           19.3,
           19.3
          ],
          [
           31.5,
           31.5
          ],
          [
           14.6,
           14.6
          ],
          [
           21.7,
           21.7
          ],
          [
           46.7,
           46.7
          ],
          [
           19.4,
           19.4
          ],
          [
           16.7,
           16.7
          ],
          [
           13.7,
           13.7
          ],
          [
           35.7,
           35.7
          ],
          [
           21.1,
           21.1
          ],
          [
           12.1,
           12.1
          ],
          [
           39.7,
           39.7
          ],
          [
           14.4,
           14.4
          ],
          [
           21,
           21
          ],
          [
           5.6,
           5.6
          ],
          [
           26.4,
           26.4
          ],
          [
           22.5,
           22.5
          ],
          [
           28.299999999999997,
           28.299999999999997
          ],
          [
           35.7,
           35.7
          ],
          [
           28.6,
           28.6
          ],
          [
           9.9,
           9.9
          ],
          [
           11.5,
           11.5
          ],
          [
           27.1,
           27.1
          ],
          [
           21.6,
           21.6
          ],
          [
           6.7,
           6.7
          ],
          [
           1.5,
           1.5
          ],
          [
           17.1,
           17.1
          ],
          [
           22,
           22
          ],
          [
           29,
           29
          ],
          [
           4.7,
           4.7
          ],
          [
           23.299999999999997,
           23.299999999999997
          ],
          [
           11,
           11
          ],
          [
           16,
           16
          ],
          [
           28,
           28
          ],
          [
           27.7,
           27.7
          ],
          [
           35,
           35
          ],
          [
           17.9,
           17.9
          ],
          [
           22.9,
           22.9
          ],
          [
           14.9,
           14.9
          ],
          [
           4.6,
           4.6
          ],
          [
           27.3,
           27.3
          ],
          [
           13.4,
           13.4
          ],
          [
           6.1,
           6.1
          ],
          [
           20.3,
           20.3
          ],
          [
           20,
           20
          ],
          [
           50,
           50
          ],
          [
           null,
           null
          ],
          [
           33.3,
           33.3
          ],
          [
           17.3,
           17.3
          ],
          [
           24.699999999999996,
           24.699999999999996
          ],
          [
           20.5,
           20.5
          ],
          [
           42.4,
           42.4
          ],
          [
           15.3,
           15.3
          ],
          [
           44.2,
           44.2
          ],
          [
           10.5,
           10.5
          ],
          [
           32.7,
           32.7
          ],
          [
           39.3,
           39.3
          ],
          [
           49.2,
           49.2
          ],
          [
           50.6,
           50.6
          ],
          [
           25.9,
           25.9
          ],
          [
           3.6,
           3.6
          ],
          [
           40,
           40
          ],
          [
           44.4,
           44.4
          ],
          [
           2.3,
           2.3
          ],
          [
           20.2,
           20.2
          ],
          [
           6.3,
           6.3
          ],
          [
           22.5,
           22.5
          ],
          [
           16.3,
           16.3
          ],
          [
           40,
           40
          ],
          [
           28,
           28
          ],
          [
           28.299999999999997,
           28.299999999999997
          ],
          [
           40,
           40
          ],
          [
           9.8,
           9.8
          ],
          [
           19,
           19
          ],
          [
           39.6,
           39.6
          ],
          [
           18.5,
           18.5
          ],
          [
           15.8,
           15.8
          ],
          [
           61.3,
           61.3
          ],
          [
           25,
           25
          ],
          [
           11.1,
           11.1
          ],
          [
           18.2,
           18.2
          ],
          [
           9.1,
           9.1
          ],
          [
           33.3,
           33.3
          ],
          [
           23.6,
           23.6
          ],
          [
           19.9,
           19.9
          ],
          [
           43,
           43
          ],
          [
           39.2,
           39.2
          ],
          [
           22.9,
           22.9
          ],
          [
           12.3,
           12.3
          ],
          [
           29.8,
           29.8
          ],
          [
           22.7,
           22.7
          ],
          [
           26.7,
           26.7
          ],
          [
           8,
           8
          ],
          [
           24.4,
           24.4
          ],
          [
           46.5,
           46.5
          ],
          [
           33.7,
           33.7
          ],
          [
           44,
           44
          ],
          [
           5.4,
           5.4
          ],
          [
           31.4,
           31.4
          ],
          [
           47,
           47
          ],
          [
           42,
           42
          ],
          [
           11.2,
           11.2
          ],
          [
           23.8,
           23.8
          ],
          [
           15.8,
           15.8
          ],
          [
           38.5,
           38.5
          ],
          [
           18.7,
           18.7
          ],
          [
           7.4,
           7.4
          ],
          [
           26.2,
           26.2
          ],
          [
           26.3,
           26.3
          ],
          [
           17.3,
           17.3
          ],
          [
           25,
           25
          ],
          [
           6.3,
           6.3
          ],
          [
           32.9,
           32.9
          ],
          [
           20.8,
           20.8
          ],
          [
           50,
           50
          ],
          [
           34.2,
           34.2
          ],
          [
           36.9,
           36.9
          ],
          [
           27.6,
           27.6
          ],
          [
           24.2,
           24.2
          ],
          [
           32.7,
           32.7
          ],
          [
           22.2,
           22.2
          ],
          [
           30.3,
           30.3
          ],
          [
           12.899999999999999,
           12.899999999999999
          ],
          [
           31.9,
           31.9
          ],
          [
           33.87153980124987,
           33.87153980124987
          ],
          [
           23.84585183869249,
           23.84585183869249
          ],
          [
           33.68858179089545,
           33.68858179089545
          ],
          [
           25.516819449980073,
           25.516819449980073
          ],
          [
           null,
           null
          ],
          [
           30.142758620689648,
           30.142758620689648
          ],
          [
           null,
           null
          ]
         ],
         "domain": {
          "x": [
           0,
           1
          ],
          "y": [
           0,
           1
          ]
         },
         "hovertemplate": "%{value}%",
         "ids": [
          "world/ASIA/Afghanistan",
          "world/EUR/Albania",
          "world/MENA/Algeria",
          "world/EUR/Andorra",
          "world/SUB-SAHARAN/Angola",
          "world/AME/Antigua and Barbuda",
          "world/AME/Argentina",
          "world/ASIA/Armenia",
          "world/EUR/Armenia",
          "world/PAC/Australia",
          "world/EUR/Austria",
          "world/ASIA/Azerbaijan",
          "world/AME/Bahamas",
          "world/MENA/Bahrain",
          "world/ASIA/Bangladesh",
          "world/AME/Barbados",
          "world/EUR/Belarus",
          "world/EUR/Belgium",
          "world/AME/Belize",
          "world/SUB-SAHARAN/Benin",
          "world/ASIA/Bhutan",
          "world/AME/Bolivia (Plurinational State of)",
          "world/EUR/Bosnia and Herzegovina",
          "world/SUB-SAHARAN/Botswana",
          "world/AME/Brazil",
          "world/ASIA/Brunei Darussalam",
          "world/EUR/Bulgaria",
          "world/SUB-SAHARAN/Burkina Faso",
          "world/SUB-SAHARAN/Burundi",
          "world/SUB-SAHARAN/Cabo Verde",
          "world/ASIA/Cambodia",
          "world/SUB-SAHARAN/Cameroon",
          "world/AME/Canada",
          "world/SUB-SAHARAN/Central African Republic",
          "world/SUB-SAHARAN/Chad",
          "world/AME/Chile",
          "world/ASIA/China",
          "world/AME/Colombia",
          "world/SUB-SAHARAN/Comoros",
          "world/SUB-SAHARAN/Congo",
          "world/AME/Costa Rica",
          "world/EUR/Croatia",
          "world/AME/Cuba",
          "world/EUR/Cyprus",
          "world/EUR/Czech Republic",
          "world/SUB-SAHARAN/Côte d'Ivoire",
          "world/ASIA/Democratic People's Republic of Korea",
          "world/SUB-SAHARAN/Democratic Republic of the Congo",
          "world/EUR/Denmark",
          "world/SUB-SAHARAN/Djibouti",
          "world/AME/Dominica",
          "world/AME/Dominican Republic",
          "world/AME/Ecuador",
          "world/MENA/Egypt",
          "world/AME/El Salvador",
          "world/SUB-SAHARAN/Equatorial Guinea",
          "world/EUR/Estonia",
          "world/SUB-SAHARAN/Eswatini",
          "world/SUB-SAHARAN/Ethiopia",
          "world/PAC/Fiji",
          "world/EUR/Finland",
          "world/EUR/France",
          "world/SUB-SAHARAN/Gabon",
          "world/SUB-SAHARAN/Gambia (The)",
          "world/EUR/Georgia",
          "world/EUR/Germany",
          "world/SUB-SAHARAN/Ghana",
          "world/EUR/Greece",
          "world/AME/Grenada",
          "world/AME/Guatemala",
          "world/SUB-SAHARAN/Guinea",
          "world/SUB-SAHARAN/Guinea-Bissau",
          "world/AME/Guyana",
          "world/AME/Honduras",
          "world/EUR/Hungary",
          "world/EUR/Iceland",
          "world/ASIA/India",
          "world/ASIA/Indonesia",
          "world/ASIA/Iran (Islamic Republic of)",
          "world/MENA/Iraq",
          "world/EUR/Ireland",
          "world/ASIA/Israel",
          "world/EUR/Italy",
          "world/AME/Jamaica",
          "world/ASIA/Japan",
          "world/MENA/Jordan",
          "world/EUR/Kazakhstan",
          "world/SUB-SAHARAN/Kenya",
          "world/PAC/Kiribati",
          "world/MENA/Kuwait",
          "world/EUR/Kyrgyzstan",
          "world/ASIA/Lao People's Democratic Republic",
          "world/EUR/Latvia",
          "world/MENA/Lebanon",
          "world/SUB-SAHARAN/Lesotho",
          "world/SUB-SAHARAN/Liberia",
          "world/MENA/Libya",
          "world/EUR/Liechtenstein",
          "world/EUR/Lithuania",
          "world/EUR/Luxembourg",
          "world/SUB-SAHARAN/Madagascar",
          "world/SUB-SAHARAN/Malawi",
          "world/ASIA/Malaysia",
          "world/ASIA/Maldives",
          "world/SUB-SAHARAN/Mali",
          "world/EUR/Malta",
          "world/PAC/Marshall Islands",
          "world/SUB-SAHARAN/Mauritania",
          "world/SUB-SAHARAN/Mauritius",
          "world/AME/Mexico",
          "world/PAC/Micronesia (Federated States of)",
          "world/EUR/Monaco",
          "world/ASIA/Mongolia",
          "world/EUR/Montenegro",
          "world/MENA/Morocco",
          "world/SUB-SAHARAN/Mozambique",
          "world/ASIA/Myanmar",
          "world/SUB-SAHARAN/Namibia",
          "world/PAC/Nauru",
          "world/ASIA/Nepal",
          "world/EUR/Netherlands",
          "world/PAC/New Zealand",
          "world/AME/Nicaragua",
          "world/SUB-SAHARAN/Niger",
          "world/SUB-SAHARAN/Nigeria",
          "world/EUR/North Macedonia",
          "world/EUR/Norway",
          "world/MENA/Oman",
          "world/ASIA/Pakistan",
          "world/PAC/Palau",
          "world/AME/Panama",
          "world/AME/Paraguay",
          "world/AME/Peru",
          "world/ASIA/Philippines",
          "world/EUR/Poland",
          "world/EUR/Portugal",
          "world/MENA/Qatar",
          "world/ASIA/Republic of Korea",
          "world/EUR/Republic of Moldova",
          "world/EUR/Romania",
          "world/EUR/Russian Federation",
          "world/SUB-SAHARAN/Rwanda",
          "world/AME/Saint Kitts and Nevis",
          "world/AME/Saint Lucia",
          "world/AME/Saint Vincent and the Grenadines",
          "world/PAC/Samoa",
          "world/EUR/San Marino",
          "world/SUB-SAHARAN/Sao Tome and Principe",
          "world/MENA/Saudi Arabia",
          "world/SUB-SAHARAN/Senegal",
          "world/EUR/Serbia",
          "world/SUB-SAHARAN/Seychelles",
          "world/SUB-SAHARAN/Sierra Leone",
          "world/ASIA/Singapore",
          "world/EUR/Slovakia",
          "world/EUR/Slovenia",
          "world/PAC/Solomon Islands",
          "world/SUB-SAHARAN/Somalia",
          "world/SUB-SAHARAN/South Africa",
          "world/SUB-SAHARAN/South Sudan",
          "world/EUR/Spain",
          "world/ASIA/Sri Lanka",
          "world/AME/Suriname",
          "world/EUR/Sweden",
          "world/EUR/Switzerland",
          "world/MENA/Syrian Arab Republic",
          "world/EUR/Tajikistan",
          "world/ASIA/Thailand",
          "world/ASIA/Timor-Leste",
          "world/SUB-SAHARAN/Togo",
          "world/PAC/Tonga",
          "world/AME/Trinidad and Tobago",
          "world/MENA/Tunisia",
          "world/EUR/Turkey",
          "world/EUR/Turkmenistan",
          "world/PAC/Tuvalu",
          "world/SUB-SAHARAN/Uganda",
          "world/EUR/Ukraine",
          "world/MENA/United Arab Emirates",
          "world/EUR/United Kingdom",
          "world/SUB-SAHARAN/United Republic of Tanzania",
          "world/AME/United States of America",
          "world/AME/Uruguay",
          "world/EUR/Uzbekistan",
          "world/AME/Venezuela (Bolivarian Republic of)",
          "world/ASIA/Viet Nam",
          "world/SUB-SAHARAN/Zambia",
          "world/SUB-SAHARAN/Zimbabwe",
          "world/AME",
          "world/ASIA",
          "world/EUR",
          "world/MENA",
          "world/PAC",
          "world/SUB-SAHARAN",
          "world"
         ],
         "labels": [
          "Afghanistan",
          "Albania",
          "Algeria",
          "Andorra",
          "Angola",
          "Antigua and Barbuda",
          "Argentina",
          "Armenia",
          "Armenia",
          "Australia",
          "Austria",
          "Azerbaijan",
          "Bahamas",
          "Bahrain",
          "Bangladesh",
          "Barbados",
          "Belarus",
          "Belgium",
          "Belize",
          "Benin",
          "Bhutan",
          "Bolivia (Plurinational State of)",
          "Bosnia and Herzegovina",
          "Botswana",
          "Brazil",
          "Brunei Darussalam",
          "Bulgaria",
          "Burkina Faso",
          "Burundi",
          "Cabo Verde",
          "Cambodia",
          "Cameroon",
          "Canada",
          "Central African Republic",
          "Chad",
          "Chile",
          "China",
          "Colombia",
          "Comoros",
          "Congo",
          "Costa Rica",
          "Croatia",
          "Cuba",
          "Cyprus",
          "Czech Republic",
          "Côte d'Ivoire",
          "Democratic People's Republic of Korea",
          "Democratic Republic of the Congo",
          "Denmark",
          "Djibouti",
          "Dominica",
          "Dominican Republic",
          "Ecuador",
          "Egypt",
          "El Salvador",
          "Equatorial Guinea",
          "Estonia",
          "Eswatini",
          "Ethiopia",
          "Fiji",
          "Finland",
          "France",
          "Gabon",
          "Gambia (The)",
          "Georgia",
          "Germany",
          "Ghana",
          "Greece",
          "Grenada",
          "Guatemala",
          "Guinea",
          "Guinea-Bissau",
          "Guyana",
          "Honduras",
          "Hungary",
          "Iceland",
          "India",
          "Indonesia",
          "Iran (Islamic Republic of)",
          "Iraq",
          "Ireland",
          "Israel",
          "Italy",
          "Jamaica",
          "Japan",
          "Jordan",
          "Kazakhstan",
          "Kenya",
          "Kiribati",
          "Kuwait",
          "Kyrgyzstan",
          "Lao People's Democratic Republic",
          "Latvia",
          "Lebanon",
          "Lesotho",
          "Liberia",
          "Libya",
          "Liechtenstein",
          "Lithuania",
          "Luxembourg",
          "Madagascar",
          "Malawi",
          "Malaysia",
          "Maldives",
          "Mali",
          "Malta",
          "Marshall Islands",
          "Mauritania",
          "Mauritius",
          "Mexico",
          "Micronesia (Federated States of)",
          "Monaco",
          "Mongolia",
          "Montenegro",
          "Morocco",
          "Mozambique",
          "Myanmar",
          "Namibia",
          "Nauru",
          "Nepal",
          "Netherlands",
          "New Zealand",
          "Nicaragua",
          "Niger",
          "Nigeria",
          "North Macedonia",
          "Norway",
          "Oman",
          "Pakistan",
          "Palau",
          "Panama",
          "Paraguay",
          "Peru",
          "Philippines",
          "Poland",
          "Portugal",
          "Qatar",
          "Republic of Korea",
          "Republic of Moldova",
          "Romania",
          "Russian Federation",
          "Rwanda",
          "Saint Kitts and Nevis",
          "Saint Lucia",
          "Saint Vincent and the Grenadines",
          "Samoa",
          "San Marino",
          "Sao Tome and Principe",
          "Saudi Arabia",
          "Senegal",
          "Serbia",
          "Seychelles",
          "Sierra Leone",
          "Singapore",
          "Slovakia",
          "Slovenia",
          "Solomon Islands",
          "Somalia",
          "South Africa",
          "South Sudan",
          "Spain",
          "Sri Lanka",
          "Suriname",
          "Sweden",
          "Switzerland",
          "Syrian Arab Republic",
          "Tajikistan",
          "Thailand",
          "Timor-Leste",
          "Togo",
          "Tonga",
          "Trinidad and Tobago",
          "Tunisia",
          "Turkey",
          "Turkmenistan",
          "Tuvalu",
          "Uganda",
          "Ukraine",
          "United Arab Emirates",
          "United Kingdom",
          "United Republic of Tanzania",
          "United States of America",
          "Uruguay",
          "Uzbekistan",
          "Venezuela (Bolivarian Republic of)",
          "Viet Nam",
          "Zambia",
          "Zimbabwe",
          "AME",
          "ASIA",
          "EUR",
          "MENA",
          "PAC",
          "SUB-SAHARAN",
          "world"
         ],
         "marker": {
          "coloraxis": "coloraxis",
          "colors": [
           27,
           33.6,
           8.1,
           46.400000000000006,
           29.6,
           11.1,
           42.4,
           33.6,
           33.6,
           31.1,
           40.4,
           18.2,
           12.800000000000002,
           15,
           20.9,
           20,
           40,
           42.7,
           12.5,
           8.4,
           17,
           46.199999999999996,
           26.2,
           10.8,
           15.200000000000001,
           9.1,
           24.6,
           6.3,
           38.2,
           38.9,
           21.6,
           33.9,
           29.6,
           12.800000000000002,
           15.400000000000002,
           22.6,
           24.899999999999995,
           18.8,
           16.7,
           11.3,
           45.6,
           31.1,
           53.4,
           14.3,
           23,
           14.3,
           17.6,
           12.800000000000002,
           39.7,
           26.2,
           34.4,
           27.9,
           39.4,
           27.7,
           27.4,
           23,
           25.7,
           9.6,
           42.6,
           21.6,
           46,
           39.5,
           16.2,
           8.6,
           19.3,
           31.5,
           14.6,
           21.7,
           46.7,
           19.4,
           16.7,
           13.7,
           35.7,
           21.1,
           12.1,
           39.7,
           14.4,
           21,
           5.6,
           26.4,
           22.5,
           28.299999999999997,
           35.7,
           28.6,
           9.9,
           11.5,
           27.1,
           21.6,
           6.7,
           1.5,
           17.1,
           22,
           29,
           4.7,
           23.299999999999997,
           11,
           16,
           28,
           27.7,
           35,
           17.9,
           22.9,
           14.9,
           4.6,
           27.3,
           13.4,
           6.1,
           20.3,
           20,
           50,
           null,
           33.3,
           17.3,
           24.699999999999996,
           20.5,
           42.4,
           15.3,
           44.2,
           10.5,
           32.7,
           39.3,
           49.2,
           50.6,
           25.9,
           3.6,
           40,
           44.4,
           2.3,
           20.2,
           6.3,
           22.5,
           16.3,
           40,
           28,
           28.299999999999997,
           40,
           9.8,
           19,
           39.6,
           18.5,
           15.8,
           61.3,
           25,
           11.1,
           18.2,
           9.1,
           33.3,
           23.6,
           19.9,
           43,
           39.2,
           22.9,
           12.3,
           29.8,
           22.7,
           26.7,
           8,
           24.4,
           46.5,
           33.7,
           44,
           5.4,
           31.4,
           47,
           42,
           11.2,
           23.8,
           15.8,
           38.5,
           18.7,
           7.4,
           26.2,
           26.3,
           17.3,
           25,
           6.3,
           32.9,
           20.8,
           50,
           34.2,
           36.9,
           27.6,
           24.2,
           32.7,
           22.2,
           30.3,
           12.899999999999999,
           31.9,
           33.87153980124987,
           23.84585183869249,
           33.68858179089545,
           25.516819449980073,
           null,
           30.142758620689648,
           null
          ]
         },
         "name": "",
         "parents": [
          "world/ASIA",
          "world/EUR",
          "world/MENA",
          "world/EUR",
          "world/SUB-SAHARAN",
          "world/AME",
          "world/AME",
          "world/ASIA",
          "world/EUR",
          "world/PAC",
          "world/EUR",
          "world/ASIA",
          "world/AME",
          "world/MENA",
          "world/ASIA",
          "world/AME",
          "world/EUR",
          "world/EUR",
          "world/AME",
          "world/SUB-SAHARAN",
          "world/ASIA",
          "world/AME",
          "world/EUR",
          "world/SUB-SAHARAN",
          "world/AME",
          "world/ASIA",
          "world/EUR",
          "world/SUB-SAHARAN",
          "world/SUB-SAHARAN",
          "world/SUB-SAHARAN",
          "world/ASIA",
          "world/SUB-SAHARAN",
          "world/AME",
          "world/SUB-SAHARAN",
          "world/SUB-SAHARAN",
          "world/AME",
          "world/ASIA",
          "world/AME",
          "world/SUB-SAHARAN",
          "world/SUB-SAHARAN",
          "world/AME",
          "world/EUR",
          "world/AME",
          "world/EUR",
          "world/EUR",
          "world/SUB-SAHARAN",
          "world/ASIA",
          "world/SUB-SAHARAN",
          "world/EUR",
          "world/SUB-SAHARAN",
          "world/AME",
          "world/AME",
          "world/AME",
          "world/MENA",
          "world/AME",
          "world/SUB-SAHARAN",
          "world/EUR",
          "world/SUB-SAHARAN",
          "world/SUB-SAHARAN",
          "world/PAC",
          "world/EUR",
          "world/EUR",
          "world/SUB-SAHARAN",
          "world/SUB-SAHARAN",
          "world/EUR",
          "world/EUR",
          "world/SUB-SAHARAN",
          "world/EUR",
          "world/AME",
          "world/AME",
          "world/SUB-SAHARAN",
          "world/SUB-SAHARAN",
          "world/AME",
          "world/AME",
          "world/EUR",
          "world/EUR",
          "world/ASIA",
          "world/ASIA",
          "world/ASIA",
          "world/MENA",
          "world/EUR",
          "world/ASIA",
          "world/EUR",
          "world/AME",
          "world/ASIA",
          "world/MENA",
          "world/EUR",
          "world/SUB-SAHARAN",
          "world/PAC",
          "world/MENA",
          "world/EUR",
          "world/ASIA",
          "world/EUR",
          "world/MENA",
          "world/SUB-SAHARAN",
          "world/SUB-SAHARAN",
          "world/MENA",
          "world/EUR",
          "world/EUR",
          "world/EUR",
          "world/SUB-SAHARAN",
          "world/SUB-SAHARAN",
          "world/ASIA",
          "world/ASIA",
          "world/SUB-SAHARAN",
          "world/EUR",
          "world/PAC",
          "world/SUB-SAHARAN",
          "world/SUB-SAHARAN",
          "world/AME",
          "world/PAC",
          "world/EUR",
          "world/ASIA",
          "world/EUR",
          "world/MENA",
          "world/SUB-SAHARAN",
          "world/ASIA",
          "world/SUB-SAHARAN",
          "world/PAC",
          "world/ASIA",
          "world/EUR",
          "world/PAC",
          "world/AME",
          "world/SUB-SAHARAN",
          "world/SUB-SAHARAN",
          "world/EUR",
          "world/EUR",
          "world/MENA",
          "world/ASIA",
          "world/PAC",
          "world/AME",
          "world/AME",
          "world/AME",
          "world/ASIA",
          "world/EUR",
          "world/EUR",
          "world/MENA",
          "world/ASIA",
          "world/EUR",
          "world/EUR",
          "world/EUR",
          "world/SUB-SAHARAN",
          "world/AME",
          "world/AME",
          "world/AME",
          "world/PAC",
          "world/EUR",
          "world/SUB-SAHARAN",
          "world/MENA",
          "world/SUB-SAHARAN",
          "world/EUR",
          "world/SUB-SAHARAN",
          "world/SUB-SAHARAN",
          "world/ASIA",
          "world/EUR",
          "world/EUR",
          "world/PAC",
          "world/SUB-SAHARAN",
          "world/SUB-SAHARAN",
          "world/SUB-SAHARAN",
          "world/EUR",
          "world/ASIA",
          "world/AME",
          "world/EUR",
          "world/EUR",
          "world/MENA",
          "world/EUR",
          "world/ASIA",
          "world/ASIA",
          "world/SUB-SAHARAN",
          "world/PAC",
          "world/AME",
          "world/MENA",
          "world/EUR",
          "world/EUR",
          "world/PAC",
          "world/SUB-SAHARAN",
          "world/EUR",
          "world/MENA",
          "world/EUR",
          "world/SUB-SAHARAN",
          "world/AME",
          "world/AME",
          "world/EUR",
          "world/AME",
          "world/ASIA",
          "world/SUB-SAHARAN",
          "world/SUB-SAHARAN",
          "world",
          "world",
          "world",
          "world",
          "world",
          "world",
          ""
         ],
         "root": {
          "color": "red"
         },
         "type": "treemap",
         "values": [
          27,
          33.6,
          8.1,
          46.4,
          29.6,
          11.1,
          42.4,
          33.6,
          33.6,
          31.1,
          40.4,
          18.2,
          12.8,
          15,
          20.9,
          20,
          40,
          42.7,
          12.5,
          8.4,
          17,
          46.2,
          26.2,
          10.8,
          15.2,
          9.1,
          24.6,
          6.3,
          38.2,
          38.9,
          21.6,
          33.9,
          29.6,
          12.8,
          15.4,
          22.6,
          24.9,
          18.8,
          16.7,
          11.3,
          45.6,
          31.1,
          53.4,
          14.3,
          23,
          14.3,
          17.6,
          12.8,
          39.7,
          26.2,
          34.4,
          27.9,
          39.4,
          27.7,
          27.4,
          23,
          25.7,
          9.6,
          42.6,
          21.6,
          46,
          39.5,
          16.2,
          8.6,
          19.3,
          31.5,
          14.6,
          21.7,
          46.7,
          19.4,
          16.7,
          13.7,
          35.7,
          21.1,
          12.1,
          39.7,
          14.4,
          21,
          5.6,
          26.4,
          22.5,
          28.3,
          35.7,
          28.6,
          9.9,
          11.5,
          27.1,
          21.6,
          6.7,
          1.5,
          17.1,
          22,
          29,
          4.7,
          23.3,
          11,
          16,
          28,
          27.7,
          35,
          17.9,
          22.9,
          14.9,
          4.6,
          27.3,
          13.4,
          6.1,
          20.3,
          20,
          50,
          0,
          33.3,
          17.3,
          24.7,
          20.5,
          42.4,
          15.3,
          44.2,
          10.5,
          32.7,
          39.3,
          49.2,
          50.6,
          25.9,
          3.6,
          40,
          44.4,
          2.3,
          20.2,
          6.3,
          22.5,
          16.3,
          40,
          28,
          28.3,
          40,
          9.8,
          19,
          39.6,
          18.5,
          15.8,
          61.3,
          25,
          11.1,
          18.2,
          9.1,
          33.3,
          23.6,
          19.9,
          43,
          39.2,
          22.9,
          12.3,
          29.8,
          22.7,
          26.7,
          8,
          24.4,
          46.5,
          33.7,
          44,
          5.4,
          31.4,
          47,
          42,
          11.2,
          23.8,
          15.8,
          38.5,
          18.7,
          7.4,
          26.2,
          26.3,
          17.3,
          25,
          6.3,
          32.9,
          20.8,
          50,
          34.2,
          36.9,
          27.6,
          24.2,
          32.7,
          22.2,
          30.3,
          12.9,
          31.9,
          976.1,
          562.9,
          1599.2,
          250.89999999999998,
          162.3,
          1102,
          4653.4
         ]
        }
       ],
       "layout": {
        "coloraxis": {
         "cmid": null,
         "colorbar": {
          "title": {
           "text": "%W"
          }
         },
         "colorscale": [
          [
           0,
           "rgb(103,0,31)"
          ],
          [
           0.1,
           "rgb(178,24,43)"
          ],
          [
           0.2,
           "rgb(214,96,77)"
          ],
          [
           0.3,
           "rgb(244,165,130)"
          ],
          [
           0.4,
           "rgb(253,219,199)"
          ],
          [
           0.5,
           "rgb(247,247,247)"
          ],
          [
           0.6,
           "rgb(209,229,240)"
          ],
          [
           0.7,
           "rgb(146,197,222)"
          ],
          [
           0.8,
           "rgb(67,147,195)"
          ],
          [
           0.9,
           "rgb(33,102,172)"
          ],
          [
           1,
           "rgb(5,48,97)"
          ]
         ]
        },
        "legend": {
         "tracegroupgap": 0
        },
        "margin": {
         "b": 25,
         "l": 25,
         "r": 25,
         "t": 50
        },
        "template": {
         "data": {
          "bar": [
           {
            "error_x": {
             "color": "#2a3f5f"
            },
            "error_y": {
             "color": "#2a3f5f"
            },
            "marker": {
             "line": {
              "color": "#E5ECF6",
              "width": 0.5
             },
             "pattern": {
              "fillmode": "overlay",
              "size": 10,
              "solidity": 0.2
             }
            },
            "type": "bar"
           }
          ],
          "barpolar": [
           {
            "marker": {
             "line": {
              "color": "#E5ECF6",
              "width": 0.5
             },
             "pattern": {
              "fillmode": "overlay",
              "size": 10,
              "solidity": 0.2
             }
            },
            "type": "barpolar"
           }
          ],
          "carpet": [
           {
            "aaxis": {
             "endlinecolor": "#2a3f5f",
             "gridcolor": "white",
             "linecolor": "white",
             "minorgridcolor": "white",
             "startlinecolor": "#2a3f5f"
            },
            "baxis": {
             "endlinecolor": "#2a3f5f",
             "gridcolor": "white",
             "linecolor": "white",
             "minorgridcolor": "white",
             "startlinecolor": "#2a3f5f"
            },
            "type": "carpet"
           }
          ],
          "choropleth": [
           {
            "colorbar": {
             "outlinewidth": 0,
             "ticks": ""
            },
            "type": "choropleth"
           }
          ],
          "contour": [
           {
            "colorbar": {
             "outlinewidth": 0,
             "ticks": ""
            },
            "colorscale": [
             [
              0,
              "#0d0887"
             ],
             [
              0.1111111111111111,
              "#46039f"
             ],
             [
              0.2222222222222222,
              "#7201a8"
             ],
             [
              0.3333333333333333,
              "#9c179e"
             ],
             [
              0.4444444444444444,
              "#bd3786"
             ],
             [
              0.5555555555555556,
              "#d8576b"
             ],
             [
              0.6666666666666666,
              "#ed7953"
             ],
             [
              0.7777777777777778,
              "#fb9f3a"
             ],
             [
              0.8888888888888888,
              "#fdca26"
             ],
             [
              1,
              "#f0f921"
             ]
            ],
            "type": "contour"
           }
          ],
          "contourcarpet": [
           {
            "colorbar": {
             "outlinewidth": 0,
             "ticks": ""
            },
            "type": "contourcarpet"
           }
          ],
          "heatmap": [
           {
            "colorbar": {
             "outlinewidth": 0,
             "ticks": ""
            },
            "colorscale": [
             [
              0,
              "#0d0887"
             ],
             [
              0.1111111111111111,
              "#46039f"
             ],
             [
              0.2222222222222222,
              "#7201a8"
             ],
             [
              0.3333333333333333,
              "#9c179e"
             ],
             [
              0.4444444444444444,
              "#bd3786"
             ],
             [
              0.5555555555555556,
              "#d8576b"
             ],
             [
              0.6666666666666666,
              "#ed7953"
             ],
             [
              0.7777777777777778,
              "#fb9f3a"
             ],
             [
              0.8888888888888888,
              "#fdca26"
             ],
             [
              1,
              "#f0f921"
             ]
            ],
            "type": "heatmap"
           }
          ],
          "heatmapgl": [
           {
            "colorbar": {
             "outlinewidth": 0,
             "ticks": ""
            },
            "colorscale": [
             [
              0,
              "#0d0887"
             ],
             [
              0.1111111111111111,
              "#46039f"
             ],
             [
              0.2222222222222222,
              "#7201a8"
             ],
             [
              0.3333333333333333,
              "#9c179e"
             ],
             [
              0.4444444444444444,
              "#bd3786"
             ],
             [
              0.5555555555555556,
              "#d8576b"
             ],
             [
              0.6666666666666666,
              "#ed7953"
             ],
             [
              0.7777777777777778,
              "#fb9f3a"
             ],
             [
              0.8888888888888888,
              "#fdca26"
             ],
             [
              1,
              "#f0f921"
             ]
            ],
            "type": "heatmapgl"
           }
          ],
          "histogram": [
           {
            "marker": {
             "pattern": {
              "fillmode": "overlay",
              "size": 10,
              "solidity": 0.2
             }
            },
            "type": "histogram"
           }
          ],
          "histogram2d": [
           {
            "colorbar": {
             "outlinewidth": 0,
             "ticks": ""
            },
            "colorscale": [
             [
              0,
              "#0d0887"
             ],
             [
              0.1111111111111111,
              "#46039f"
             ],
             [
              0.2222222222222222,
              "#7201a8"
             ],
             [
              0.3333333333333333,
              "#9c179e"
             ],
             [
              0.4444444444444444,
              "#bd3786"
             ],
             [
              0.5555555555555556,
              "#d8576b"
             ],
             [
              0.6666666666666666,
              "#ed7953"
             ],
             [
              0.7777777777777778,
              "#fb9f3a"
             ],
             [
              0.8888888888888888,
              "#fdca26"
             ],
             [
              1,
              "#f0f921"
             ]
            ],
            "type": "histogram2d"
           }
          ],
          "histogram2dcontour": [
           {
            "colorbar": {
             "outlinewidth": 0,
             "ticks": ""
            },
            "colorscale": [
             [
              0,
              "#0d0887"
             ],
             [
              0.1111111111111111,
              "#46039f"
             ],
             [
              0.2222222222222222,
              "#7201a8"
             ],
             [
              0.3333333333333333,
              "#9c179e"
             ],
             [
              0.4444444444444444,
              "#bd3786"
             ],
             [
              0.5555555555555556,
              "#d8576b"
             ],
             [
              0.6666666666666666,
              "#ed7953"
             ],
             [
              0.7777777777777778,
              "#fb9f3a"
             ],
             [
              0.8888888888888888,
              "#fdca26"
             ],
             [
              1,
              "#f0f921"
             ]
            ],
            "type": "histogram2dcontour"
           }
          ],
          "mesh3d": [
           {
            "colorbar": {
             "outlinewidth": 0,
             "ticks": ""
            },
            "type": "mesh3d"
           }
          ],
          "parcoords": [
           {
            "line": {
             "colorbar": {
              "outlinewidth": 0,
              "ticks": ""
             }
            },
            "type": "parcoords"
           }
          ],
          "pie": [
           {
            "automargin": true,
            "type": "pie"
           }
          ],
          "scatter": [
           {
            "marker": {
             "colorbar": {
              "outlinewidth": 0,
              "ticks": ""
             }
            },
            "type": "scatter"
           }
          ],
          "scatter3d": [
           {
            "line": {
             "colorbar": {
              "outlinewidth": 0,
              "ticks": ""
             }
            },
            "marker": {
             "colorbar": {
              "outlinewidth": 0,
              "ticks": ""
             }
            },
            "type": "scatter3d"
           }
          ],
          "scattercarpet": [
           {
            "marker": {
             "colorbar": {
              "outlinewidth": 0,
              "ticks": ""
             }
            },
            "type": "scattercarpet"
           }
          ],
          "scattergeo": [
           {
            "marker": {
             "colorbar": {
              "outlinewidth": 0,
              "ticks": ""
             }
            },
            "type": "scattergeo"
           }
          ],
          "scattergl": [
           {
            "marker": {
             "colorbar": {
              "outlinewidth": 0,
              "ticks": ""
             }
            },
            "type": "scattergl"
           }
          ],
          "scattermapbox": [
           {
            "marker": {
             "colorbar": {
              "outlinewidth": 0,
              "ticks": ""
             }
            },
            "type": "scattermapbox"
           }
          ],
          "scatterpolar": [
           {
            "marker": {
             "colorbar": {
              "outlinewidth": 0,
              "ticks": ""
             }
            },
            "type": "scatterpolar"
           }
          ],
          "scatterpolargl": [
           {
            "marker": {
             "colorbar": {
              "outlinewidth": 0,
              "ticks": ""
             }
            },
            "type": "scatterpolargl"
           }
          ],
          "scatterternary": [
           {
            "marker": {
             "colorbar": {
              "outlinewidth": 0,
              "ticks": ""
             }
            },
            "type": "scatterternary"
           }
          ],
          "surface": [
           {
            "colorbar": {
             "outlinewidth": 0,
             "ticks": ""
            },
            "colorscale": [
             [
              0,
              "#0d0887"
             ],
             [
              0.1111111111111111,
              "#46039f"
             ],
             [
              0.2222222222222222,
              "#7201a8"
             ],
             [
              0.3333333333333333,
              "#9c179e"
             ],
             [
              0.4444444444444444,
              "#bd3786"
             ],
             [
              0.5555555555555556,
              "#d8576b"
             ],
             [
              0.6666666666666666,
              "#ed7953"
             ],
             [
              0.7777777777777778,
              "#fb9f3a"
             ],
             [
              0.8888888888888888,
              "#fdca26"
             ],
             [
              1,
              "#f0f921"
             ]
            ],
            "type": "surface"
           }
          ],
          "table": [
           {
            "cells": {
             "fill": {
              "color": "#EBF0F8"
             },
             "line": {
              "color": "white"
             }
            },
            "header": {
             "fill": {
              "color": "#C8D4E3"
             },
             "line": {
              "color": "white"
             }
            },
            "type": "table"
           }
          ]
         },
         "layout": {
          "annotationdefaults": {
           "arrowcolor": "#2a3f5f",
           "arrowhead": 0,
           "arrowwidth": 1
          },
          "autotypenumbers": "strict",
          "coloraxis": {
           "colorbar": {
            "outlinewidth": 0,
            "ticks": ""
           }
          },
          "colorscale": {
           "diverging": [
            [
             0,
             "#8e0152"
            ],
            [
             0.1,
             "#c51b7d"
            ],
            [
             0.2,
             "#de77ae"
            ],
            [
             0.3,
             "#f1b6da"
            ],
            [
             0.4,
             "#fde0ef"
            ],
            [
             0.5,
             "#f7f7f7"
            ],
            [
             0.6,
             "#e6f5d0"
            ],
            [
             0.7,
             "#b8e186"
            ],
            [
             0.8,
             "#7fbc41"
            ],
            [
             0.9,
             "#4d9221"
            ],
            [
             1,
             "#276419"
            ]
           ],
           "sequential": [
            [
             0,
             "#0d0887"
            ],
            [
             0.1111111111111111,
             "#46039f"
            ],
            [
             0.2222222222222222,
             "#7201a8"
            ],
            [
             0.3333333333333333,
             "#9c179e"
            ],
            [
             0.4444444444444444,
             "#bd3786"
            ],
            [
             0.5555555555555556,
             "#d8576b"
            ],
            [
             0.6666666666666666,
             "#ed7953"
            ],
            [
             0.7777777777777778,
             "#fb9f3a"
            ],
            [
             0.8888888888888888,
             "#fdca26"
            ],
            [
             1,
             "#f0f921"
            ]
           ],
           "sequentialminus": [
            [
             0,
             "#0d0887"
            ],
            [
             0.1111111111111111,
             "#46039f"
            ],
            [
             0.2222222222222222,
             "#7201a8"
            ],
            [
             0.3333333333333333,
             "#9c179e"
            ],
            [
             0.4444444444444444,
             "#bd3786"
            ],
            [
             0.5555555555555556,
             "#d8576b"
            ],
            [
             0.6666666666666666,
             "#ed7953"
            ],
            [
             0.7777777777777778,
             "#fb9f3a"
            ],
            [
             0.8888888888888888,
             "#fdca26"
            ],
            [
             1,
             "#f0f921"
            ]
           ]
          },
          "colorway": [
           "#636efa",
           "#EF553B",
           "#00cc96",
           "#ab63fa",
           "#FFA15A",
           "#19d3f3",
           "#FF6692",
           "#B6E880",
           "#FF97FF",
           "#FECB52"
          ],
          "font": {
           "color": "#2a3f5f"
          },
          "geo": {
           "bgcolor": "white",
           "lakecolor": "white",
           "landcolor": "#E5ECF6",
           "showlakes": true,
           "showland": true,
           "subunitcolor": "white"
          },
          "hoverlabel": {
           "align": "left"
          },
          "hovermode": "closest",
          "mapbox": {
           "style": "light"
          },
          "paper_bgcolor": "white",
          "plot_bgcolor": "#E5ECF6",
          "polar": {
           "angularaxis": {
            "gridcolor": "white",
            "linecolor": "white",
            "ticks": ""
           },
           "bgcolor": "#E5ECF6",
           "radialaxis": {
            "gridcolor": "white",
            "linecolor": "white",
            "ticks": ""
           }
          },
          "scene": {
           "xaxis": {
            "backgroundcolor": "#E5ECF6",
            "gridcolor": "white",
            "gridwidth": 2,
            "linecolor": "white",
            "showbackground": true,
            "ticks": "",
            "zerolinecolor": "white"
           },
           "yaxis": {
            "backgroundcolor": "#E5ECF6",
            "gridcolor": "white",
            "gridwidth": 2,
            "linecolor": "white",
            "showbackground": true,
            "ticks": "",
            "zerolinecolor": "white"
           },
           "zaxis": {
            "backgroundcolor": "#E5ECF6",
            "gridcolor": "white",
            "gridwidth": 2,
            "linecolor": "white",
            "showbackground": true,
            "ticks": "",
            "zerolinecolor": "white"
           }
          },
          "shapedefaults": {
           "line": {
            "color": "#2a3f5f"
           }
          },
          "ternary": {
           "aaxis": {
            "gridcolor": "white",
            "linecolor": "white",
            "ticks": ""
           },
           "baxis": {
            "gridcolor": "white",
            "linecolor": "white",
            "ticks": ""
           },
           "bgcolor": "#E5ECF6",
           "caxis": {
            "gridcolor": "white",
            "linecolor": "white",
            "ticks": ""
           }
          },
          "title": {
           "x": 0.05
          },
          "xaxis": {
           "automargin": true,
           "gridcolor": "white",
           "linecolor": "white",
           "ticks": "",
           "title": {
            "standoff": 15
           },
           "zerolinecolor": "white",
           "zerolinewidth": 2
          },
          "yaxis": {
           "automargin": true,
           "gridcolor": "white",
           "linecolor": "white",
           "ticks": "",
           "title": {
            "standoff": 15
           },
           "zerolinecolor": "white",
           "zerolinewidth": 2
          }
         }
        },
        "title": {
         "text": "Women Representation in Parliament 2021"
        }
       }
      }
     },
     "metadata": {},
     "output_type": "display_data"
    }
   ],
   "source": [
    "\n",
    "fig = px.treemap(df_2021_regions, \n",
    "                 path=[px.Constant(\"world\"), 'region', 'country'], \n",
    "                 values='%W',\n",
    "                 color='%W', \n",
    "                 title='Women Representation in Parliament 2021',\n",
    "                 color_continuous_scale='RdBu',\n",
    "                 color_continuous_midpoint=np.average(df_2021_regions['%W'], weights=df_2021_regions['%W']),\n",
    "                 hover_data = ['%W'])\n",
    "fig.update_traces(root_color=\"red\")\n",
    "fig.update_layout(margin = dict(t=50, l=25, r=25, b=25))\n",
    "fig.data[0].hovertemplate = '%{label}<br>%{value}'\n",
    "fig.show()"
   ]
  },
  {
   "cell_type": "code",
   "execution_count": 13,
   "metadata": {},
   "outputs": [
    {
     "data": {
      "application/vnd.plotly.v1+json": {
       "config": {
        "plotlyServerURL": "https://plot.ly"
       },
       "data": [
        {
         "alignmentgroup": "True",
         "hovertemplate": "Country=%{x}<br>Representation (%)=%{y}<extra></extra>",
         "legendgroup": "",
         "marker": {
          "color": "#636efa",
          "pattern": {
           "shape": ""
          }
         },
         "name": "",
         "offsetgroup": "",
         "orientation": "v",
         "showlegend": false,
         "textposition": "auto",
         "type": "bar",
         "x": [
          "Afghanistan",
          "Antigua and Barbuda",
          "Armenia",
          "Barbados",
          "Bhutan",
          "Bosnia and Herzegovina",
          "Brazil",
          "Cambodia",
          "Colombia",
          "Costa Rica",
          "Cuba",
          "Democratic Republic of the Congo",
          "Djibouti",
          "El Salvador",
          "Eswatini",
          "Fiji",
          "Gabon",
          "Grenada",
          "Hungary",
          "Iraq",
          "Italy",
          "Latvia",
          "Lebanon",
          "Luxembourg",
          "Malaysia",
          "Mauritania",
          "Mexico",
          "Monaco",
          "Pakistan",
          "Paraguay",
          "Rwanda",
          "Sao Tome and Principe",
          "Sierra Leone",
          "Slovenia",
          "Sweden",
          "Timor-Leste",
          "Togo",
          "Turkey",
          "Turkmenistan",
          "United States of America",
          "Zimbabwe"
         ],
         "xaxis": "x",
         "y": [
          0.28,
          0.11,
          0.24,
          0.2,
          0.15,
          0.21,
          0.15,
          0.15,
          0.19,
          0.46,
          0.53,
          0.1,
          0.26,
          0.31,
          0.07,
          0.2,
          0.18,
          0.47,
          0.13,
          0.25,
          0.36,
          0.31,
          0.05,
          0.2,
          0.14,
          0.2,
          0.48,
          0.33,
          0.2,
          0.15,
          0.61,
          0.15,
          0.12,
          0.24,
          0.46,
          0.34,
          0.16,
          0.17,
          0.25,
          0.24,
          0.31
         ],
         "yaxis": "y"
        }
       ],
       "layout": {
        "barmode": "relative",
        "legend": {
         "tracegroupgap": 0
        },
        "template": {
         "data": {
          "bar": [
           {
            "error_x": {
             "color": "#2a3f5f"
            },
            "error_y": {
             "color": "#2a3f5f"
            },
            "marker": {
             "line": {
              "color": "#E5ECF6",
              "width": 0.5
             },
             "pattern": {
              "fillmode": "overlay",
              "size": 10,
              "solidity": 0.2
             }
            },
            "type": "bar"
           }
          ],
          "barpolar": [
           {
            "marker": {
             "line": {
              "color": "#E5ECF6",
              "width": 0.5
             },
             "pattern": {
              "fillmode": "overlay",
              "size": 10,
              "solidity": 0.2
             }
            },
            "type": "barpolar"
           }
          ],
          "carpet": [
           {
            "aaxis": {
             "endlinecolor": "#2a3f5f",
             "gridcolor": "white",
             "linecolor": "white",
             "minorgridcolor": "white",
             "startlinecolor": "#2a3f5f"
            },
            "baxis": {
             "endlinecolor": "#2a3f5f",
             "gridcolor": "white",
             "linecolor": "white",
             "minorgridcolor": "white",
             "startlinecolor": "#2a3f5f"
            },
            "type": "carpet"
           }
          ],
          "choropleth": [
           {
            "colorbar": {
             "outlinewidth": 0,
             "ticks": ""
            },
            "type": "choropleth"
           }
          ],
          "contour": [
           {
            "colorbar": {
             "outlinewidth": 0,
             "ticks": ""
            },
            "colorscale": [
             [
              0,
              "#0d0887"
             ],
             [
              0.1111111111111111,
              "#46039f"
             ],
             [
              0.2222222222222222,
              "#7201a8"
             ],
             [
              0.3333333333333333,
              "#9c179e"
             ],
             [
              0.4444444444444444,
              "#bd3786"
             ],
             [
              0.5555555555555556,
              "#d8576b"
             ],
             [
              0.6666666666666666,
              "#ed7953"
             ],
             [
              0.7777777777777778,
              "#fb9f3a"
             ],
             [
              0.8888888888888888,
              "#fdca26"
             ],
             [
              1,
              "#f0f921"
             ]
            ],
            "type": "contour"
           }
          ],
          "contourcarpet": [
           {
            "colorbar": {
             "outlinewidth": 0,
             "ticks": ""
            },
            "type": "contourcarpet"
           }
          ],
          "heatmap": [
           {
            "colorbar": {
             "outlinewidth": 0,
             "ticks": ""
            },
            "colorscale": [
             [
              0,
              "#0d0887"
             ],
             [
              0.1111111111111111,
              "#46039f"
             ],
             [
              0.2222222222222222,
              "#7201a8"
             ],
             [
              0.3333333333333333,
              "#9c179e"
             ],
             [
              0.4444444444444444,
              "#bd3786"
             ],
             [
              0.5555555555555556,
              "#d8576b"
             ],
             [
              0.6666666666666666,
              "#ed7953"
             ],
             [
              0.7777777777777778,
              "#fb9f3a"
             ],
             [
              0.8888888888888888,
              "#fdca26"
             ],
             [
              1,
              "#f0f921"
             ]
            ],
            "type": "heatmap"
           }
          ],
          "heatmapgl": [
           {
            "colorbar": {
             "outlinewidth": 0,
             "ticks": ""
            },
            "colorscale": [
             [
              0,
              "#0d0887"
             ],
             [
              0.1111111111111111,
              "#46039f"
             ],
             [
              0.2222222222222222,
              "#7201a8"
             ],
             [
              0.3333333333333333,
              "#9c179e"
             ],
             [
              0.4444444444444444,
              "#bd3786"
             ],
             [
              0.5555555555555556,
              "#d8576b"
             ],
             [
              0.6666666666666666,
              "#ed7953"
             ],
             [
              0.7777777777777778,
              "#fb9f3a"
             ],
             [
              0.8888888888888888,
              "#fdca26"
             ],
             [
              1,
              "#f0f921"
             ]
            ],
            "type": "heatmapgl"
           }
          ],
          "histogram": [
           {
            "marker": {
             "pattern": {
              "fillmode": "overlay",
              "size": 10,
              "solidity": 0.2
             }
            },
            "type": "histogram"
           }
          ],
          "histogram2d": [
           {
            "colorbar": {
             "outlinewidth": 0,
             "ticks": ""
            },
            "colorscale": [
             [
              0,
              "#0d0887"
             ],
             [
              0.1111111111111111,
              "#46039f"
             ],
             [
              0.2222222222222222,
              "#7201a8"
             ],
             [
              0.3333333333333333,
              "#9c179e"
             ],
             [
              0.4444444444444444,
              "#bd3786"
             ],
             [
              0.5555555555555556,
              "#d8576b"
             ],
             [
              0.6666666666666666,
              "#ed7953"
             ],
             [
              0.7777777777777778,
              "#fb9f3a"
             ],
             [
              0.8888888888888888,
              "#fdca26"
             ],
             [
              1,
              "#f0f921"
             ]
            ],
            "type": "histogram2d"
           }
          ],
          "histogram2dcontour": [
           {
            "colorbar": {
             "outlinewidth": 0,
             "ticks": ""
            },
            "colorscale": [
             [
              0,
              "#0d0887"
             ],
             [
              0.1111111111111111,
              "#46039f"
             ],
             [
              0.2222222222222222,
              "#7201a8"
             ],
             [
              0.3333333333333333,
              "#9c179e"
             ],
             [
              0.4444444444444444,
              "#bd3786"
             ],
             [
              0.5555555555555556,
              "#d8576b"
             ],
             [
              0.6666666666666666,
              "#ed7953"
             ],
             [
              0.7777777777777778,
              "#fb9f3a"
             ],
             [
              0.8888888888888888,
              "#fdca26"
             ],
             [
              1,
              "#f0f921"
             ]
            ],
            "type": "histogram2dcontour"
           }
          ],
          "mesh3d": [
           {
            "colorbar": {
             "outlinewidth": 0,
             "ticks": ""
            },
            "type": "mesh3d"
           }
          ],
          "parcoords": [
           {
            "line": {
             "colorbar": {
              "outlinewidth": 0,
              "ticks": ""
             }
            },
            "type": "parcoords"
           }
          ],
          "pie": [
           {
            "automargin": true,
            "type": "pie"
           }
          ],
          "scatter": [
           {
            "marker": {
             "colorbar": {
              "outlinewidth": 0,
              "ticks": ""
             }
            },
            "type": "scatter"
           }
          ],
          "scatter3d": [
           {
            "line": {
             "colorbar": {
              "outlinewidth": 0,
              "ticks": ""
             }
            },
            "marker": {
             "colorbar": {
              "outlinewidth": 0,
              "ticks": ""
             }
            },
            "type": "scatter3d"
           }
          ],
          "scattercarpet": [
           {
            "marker": {
             "colorbar": {
              "outlinewidth": 0,
              "ticks": ""
             }
            },
            "type": "scattercarpet"
           }
          ],
          "scattergeo": [
           {
            "marker": {
             "colorbar": {
              "outlinewidth": 0,
              "ticks": ""
             }
            },
            "type": "scattergeo"
           }
          ],
          "scattergl": [
           {
            "marker": {
             "colorbar": {
              "outlinewidth": 0,
              "ticks": ""
             }
            },
            "type": "scattergl"
           }
          ],
          "scattermapbox": [
           {
            "marker": {
             "colorbar": {
              "outlinewidth": 0,
              "ticks": ""
             }
            },
            "type": "scattermapbox"
           }
          ],
          "scatterpolar": [
           {
            "marker": {
             "colorbar": {
              "outlinewidth": 0,
              "ticks": ""
             }
            },
            "type": "scatterpolar"
           }
          ],
          "scatterpolargl": [
           {
            "marker": {
             "colorbar": {
              "outlinewidth": 0,
              "ticks": ""
             }
            },
            "type": "scatterpolargl"
           }
          ],
          "scatterternary": [
           {
            "marker": {
             "colorbar": {
              "outlinewidth": 0,
              "ticks": ""
             }
            },
            "type": "scatterternary"
           }
          ],
          "surface": [
           {
            "colorbar": {
             "outlinewidth": 0,
             "ticks": ""
            },
            "colorscale": [
             [
              0,
              "#0d0887"
             ],
             [
              0.1111111111111111,
              "#46039f"
             ],
             [
              0.2222222222222222,
              "#7201a8"
             ],
             [
              0.3333333333333333,
              "#9c179e"
             ],
             [
              0.4444444444444444,
              "#bd3786"
             ],
             [
              0.5555555555555556,
              "#d8576b"
             ],
             [
              0.6666666666666666,
              "#ed7953"
             ],
             [
              0.7777777777777778,
              "#fb9f3a"
             ],
             [
              0.8888888888888888,
              "#fdca26"
             ],
             [
              1,
              "#f0f921"
             ]
            ],
            "type": "surface"
           }
          ],
          "table": [
           {
            "cells": {
             "fill": {
              "color": "#EBF0F8"
             },
             "line": {
              "color": "white"
             }
            },
            "header": {
             "fill": {
              "color": "#C8D4E3"
             },
             "line": {
              "color": "white"
             }
            },
            "type": "table"
           }
          ]
         },
         "layout": {
          "annotationdefaults": {
           "arrowcolor": "#2a3f5f",
           "arrowhead": 0,
           "arrowwidth": 1
          },
          "autotypenumbers": "strict",
          "coloraxis": {
           "colorbar": {
            "outlinewidth": 0,
            "ticks": ""
           }
          },
          "colorscale": {
           "diverging": [
            [
             0,
             "#8e0152"
            ],
            [
             0.1,
             "#c51b7d"
            ],
            [
             0.2,
             "#de77ae"
            ],
            [
             0.3,
             "#f1b6da"
            ],
            [
             0.4,
             "#fde0ef"
            ],
            [
             0.5,
             "#f7f7f7"
            ],
            [
             0.6,
             "#e6f5d0"
            ],
            [
             0.7,
             "#b8e186"
            ],
            [
             0.8,
             "#7fbc41"
            ],
            [
             0.9,
             "#4d9221"
            ],
            [
             1,
             "#276419"
            ]
           ],
           "sequential": [
            [
             0,
             "#0d0887"
            ],
            [
             0.1111111111111111,
             "#46039f"
            ],
            [
             0.2222222222222222,
             "#7201a8"
            ],
            [
             0.3333333333333333,
             "#9c179e"
            ],
            [
             0.4444444444444444,
             "#bd3786"
            ],
            [
             0.5555555555555556,
             "#d8576b"
            ],
            [
             0.6666666666666666,
             "#ed7953"
            ],
            [
             0.7777777777777778,
             "#fb9f3a"
            ],
            [
             0.8888888888888888,
             "#fdca26"
            ],
            [
             1,
             "#f0f921"
            ]
           ],
           "sequentialminus": [
            [
             0,
             "#0d0887"
            ],
            [
             0.1111111111111111,
             "#46039f"
            ],
            [
             0.2222222222222222,
             "#7201a8"
            ],
            [
             0.3333333333333333,
             "#9c179e"
            ],
            [
             0.4444444444444444,
             "#bd3786"
            ],
            [
             0.5555555555555556,
             "#d8576b"
            ],
            [
             0.6666666666666666,
             "#ed7953"
            ],
            [
             0.7777777777777778,
             "#fb9f3a"
            ],
            [
             0.8888888888888888,
             "#fdca26"
            ],
            [
             1,
             "#f0f921"
            ]
           ]
          },
          "colorway": [
           "#636efa",
           "#EF553B",
           "#00cc96",
           "#ab63fa",
           "#FFA15A",
           "#19d3f3",
           "#FF6692",
           "#B6E880",
           "#FF97FF",
           "#FECB52"
          ],
          "font": {
           "color": "#2a3f5f"
          },
          "geo": {
           "bgcolor": "white",
           "lakecolor": "white",
           "landcolor": "#E5ECF6",
           "showlakes": true,
           "showland": true,
           "subunitcolor": "white"
          },
          "hoverlabel": {
           "align": "left"
          },
          "hovermode": "closest",
          "mapbox": {
           "style": "light"
          },
          "paper_bgcolor": "white",
          "plot_bgcolor": "#E5ECF6",
          "polar": {
           "angularaxis": {
            "gridcolor": "white",
            "linecolor": "white",
            "ticks": ""
           },
           "bgcolor": "#E5ECF6",
           "radialaxis": {
            "gridcolor": "white",
            "linecolor": "white",
            "ticks": ""
           }
          },
          "scene": {
           "xaxis": {
            "backgroundcolor": "#E5ECF6",
            "gridcolor": "white",
            "gridwidth": 2,
            "linecolor": "white",
            "showbackground": true,
            "ticks": "",
            "zerolinecolor": "white"
           },
           "yaxis": {
            "backgroundcolor": "#E5ECF6",
            "gridcolor": "white",
            "gridwidth": 2,
            "linecolor": "white",
            "showbackground": true,
            "ticks": "",
            "zerolinecolor": "white"
           },
           "zaxis": {
            "backgroundcolor": "#E5ECF6",
            "gridcolor": "white",
            "gridwidth": 2,
            "linecolor": "white",
            "showbackground": true,
            "ticks": "",
            "zerolinecolor": "white"
           }
          },
          "shapedefaults": {
           "line": {
            "color": "#2a3f5f"
           }
          },
          "ternary": {
           "aaxis": {
            "gridcolor": "white",
            "linecolor": "white",
            "ticks": ""
           },
           "baxis": {
            "gridcolor": "white",
            "linecolor": "white",
            "ticks": ""
           },
           "bgcolor": "#E5ECF6",
           "caxis": {
            "gridcolor": "white",
            "linecolor": "white",
            "ticks": ""
           }
          },
          "title": {
           "x": 0.05
          },
          "xaxis": {
           "automargin": true,
           "gridcolor": "white",
           "linecolor": "white",
           "ticks": "",
           "title": {
            "standoff": 15
           },
           "zerolinecolor": "white",
           "zerolinewidth": 2
          },
          "yaxis": {
           "automargin": true,
           "gridcolor": "white",
           "linecolor": "white",
           "ticks": "",
           "title": {
            "standoff": 15
           },
           "zerolinecolor": "white",
           "zerolinewidth": 2
          }
         }
        },
        "title": {
         "text": "Women Represetation in Parliament (2018) "
        },
        "updatemenus": [
         {
          "buttons": [
           {
            "args": [
             "region",
             "ASIA"
            ],
            "label": "ASIA",
            "method": "update"
           },
           {
            "args": [
             "region",
             "EUR"
            ],
            "label": "EUR",
            "method": "update"
           },
           {
            "args": [
             "region",
             "MENA"
            ],
            "label": "MENA",
            "method": "update"
           },
           {
            "args": [
             "region",
             "PAC"
            ],
            "label": "PAC",
            "method": "update"
           },
           {
            "args": [
             "region",
             "AME"
            ],
            "label": "AME",
            "method": "update"
           }
          ],
          "direction": "down",
          "pad": {
           "r": 2,
           "t": 2
          },
          "showactive": true,
          "x": 0.0001,
          "xanchor": "center",
          "y": 1.2,
          "yanchor": "top"
         }
        ],
        "xaxis": {
         "anchor": "y",
         "domain": [
          0,
          1
         ],
         "title": {
          "text": "Country"
         }
        },
        "yaxis": {
         "anchor": "x",
         "domain": [
          0,
          1
         ],
         "title": {
          "text": "Representation (%)"
         }
        }
       }
      }
     },
     "metadata": {},
     "output_type": "display_data"
    }
   ],
   "source": [
    "fig = px.bar(df_18, x='country', y='women_perc',\n",
    "            labels=dict(country=\"Country\", women_perc=\"Representation (%)\"),\n",
    "            title='Women Represetation in Parliament (2018) ')\n",
    "\n",
    "# Add dropdown\n",
    "fig.update_layout(\n",
    "    updatemenus=[\n",
    "        dict(\n",
    "            buttons=list([\n",
    "                dict(\n",
    "                    args=[\"region\",\"ASIA\"],\n",
    "                    label=\"ASIA\",\n",
    "                    method=\"update\"\n",
    "                ),\n",
    "                dict(\n",
    "                    args=[\"region\", \"EUR\"],\n",
    "                    label=\"EUR\",\n",
    "                    method=\"update\"\n",
    "                ),\n",
    "                dict(\n",
    "                    args=[\"region\", \"MENA\"],\n",
    "                    label=\"MENA\",\n",
    "                    method=\"update\"\n",
    "                ),\n",
    "                dict(\n",
    "                    args=[\"region\", \"PAC\"],\n",
    "                    label=\"PAC\",\n",
    "                    method=\"update\"\n",
    "                ),\n",
    "                dict(\n",
    "                    args=[\"region\", \"AME\"],\n",
    "                    label=\"AME\",\n",
    "                    method=\"update\"\n",
    "                )\n",
    "            ]),\n",
    "            direction=\"down\",\n",
    "            pad={\"r\": 2, \"t\": 2},\n",
    "            showactive=True,\n",
    "            x=0.0001,\n",
    "            xanchor=\"center\",\n",
    "            y=1.2,\n",
    "            yanchor=\"top\"\n",
    "        ),\n",
    "    ]\n",
    ")\n",
    "\n",
    "fig.show()"
   ]
  }
 ],
 "metadata": {
  "kernelspec": {
   "display_name": "Python 3.9.5  ('myenv': venv)",
   "name": "python395jvsc74a57bd09455c7fed7334467af5b693ad675069debbe136d2231609daac26840925ea04f"
  },
  "language_info": {
   "name": "python",
   "version": ""
  },
  "orig_nbformat": 2
 },
 "nbformat": 4,
 "nbformat_minor": 2
}