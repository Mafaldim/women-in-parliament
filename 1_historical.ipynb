{
 "cells": [
  {
   "cell_type": "markdown",
   "metadata": {},
   "source": [
    "# Women's Participation in National Parliaments - Historical View\n",
    "\n",
    " In the present notebook, historical data on the percentage of women in parliament between 1945-2018 derived from [IPU Parline](https://data.ipu.org/historical-women) is being explored through interactive graphs using [Plotly](https://plotly.com/) Python library. Initially, to gain a general understanding of the growth in women's participation over the years, we are focusing on yearly and by decade average percentage worldwide and subsequently by country level."
   ]
  },
  {
   "cell_type": "markdown",
   "metadata": {},
   "source": [
    "### Imports"
   ]
  },
  {
   "cell_type": "code",
   "execution_count": 3,
   "metadata": {},
   "outputs": [],
   "source": [
    "import pandas as pd, numpy as np\n",
    "import plotly.express as px\n",
    "import plotly.graph_objects as go"
   ]
  },
  {
   "cell_type": "markdown",
   "metadata": {},
   "source": [
    "### Yearly Global Average (1945 - 2018)"
   ]
  },
  {
   "cell_type": "code",
   "execution_count": 4,
   "metadata": {},
   "outputs": [
    {
     "data": {
      "application/vnd.plotly.v1+json": {
       "config": {
        "plotlyServerURL": "https://plot.ly"
       },
       "data": [
        {
         "hovertemplate": "variable=women_perc<br>Year=%{x}<br>value=%{y}<extra></extra>",
         "legendgroup": "women_perc",
         "line": {
          "color": "#636efa",
          "dash": "solid"
         },
         "marker": {
          "symbol": "circle"
         },
         "mode": "lines+markers",
         "name": "women_perc",
         "orientation": "v",
         "showlegend": true,
         "type": "scatter",
         "x": [
          1945,
          1946,
          1947,
          1948,
          1949,
          1950,
          1951,
          1952,
          1953,
          1954,
          1955,
          1956,
          1957,
          1958,
          1959,
          1960,
          1961,
          1962,
          1963,
          1964,
          1965,
          1966,
          1967,
          1968,
          1969,
          1970,
          1971,
          1972,
          1973,
          1974,
          1975,
          1976,
          1977,
          1978,
          1979,
          1980,
          1981,
          1982,
          1983,
          1984,
          1985,
          1986,
          1987,
          1988,
          1989,
          1990,
          1991,
          1992,
          1993,
          1994,
          1995,
          1996,
          1997,
          1998,
          1999,
          2000,
          2001,
          2002,
          2003,
          2004,
          2005,
          2006,
          2007,
          2008,
          2009,
          2010,
          2011,
          2012,
          2013,
          2014,
          2015,
          2016,
          2017,
          2018
         ],
         "xaxis": "x",
         "y": [
          0.03,
          0.03,
          0.02,
          0.03,
          0.04,
          0.04,
          0.04,
          0.05,
          0.05,
          0.06,
          0.03,
          0.05,
          0.05,
          0.04,
          0.03,
          0.04,
          0.04,
          0.05,
          0.05,
          0.04,
          0.03,
          0.07,
          0.05,
          0.04,
          0.04,
          0.06,
          0.08,
          0.06,
          0.06,
          0.07,
          0.09,
          0.11,
          0.05,
          0.06,
          0.09,
          0.08,
          0.11,
          0.07,
          0.07,
          0.07,
          0.1,
          0.13,
          0.09,
          0.09,
          0.08,
          0.08,
          0.11,
          0.07,
          0.08,
          0.12,
          0.11,
          0.09,
          0.1,
          0.14,
          0.13,
          0.1,
          0.15,
          0.16,
          0.14,
          0.14,
          0.19,
          0.16,
          0.16,
          0.17,
          0.22,
          0.18,
          0.21,
          0.17,
          0.24,
          0.22,
          0.21,
          0.2,
          0.25,
          0.25
         ],
         "yaxis": "y"
        },
        {
         "hovertemplate": "variable=RM5<br>Year=%{x}<br>value=%{y}<extra></extra>",
         "legendgroup": "RM5",
         "line": {
          "color": "#EF553B",
          "dash": "solid"
         },
         "marker": {
          "symbol": "circle"
         },
         "mode": "lines+markers",
         "name": "RM5",
         "orientation": "v",
         "showlegend": true,
         "type": "scatter",
         "x": [
          1945,
          1946,
          1947,
          1948,
          1949,
          1950,
          1951,
          1952,
          1953,
          1954,
          1955,
          1956,
          1957,
          1958,
          1959,
          1960,
          1961,
          1962,
          1963,
          1964,
          1965,
          1966,
          1967,
          1968,
          1969,
          1970,
          1971,
          1972,
          1973,
          1974,
          1975,
          1976,
          1977,
          1978,
          1979,
          1980,
          1981,
          1982,
          1983,
          1984,
          1985,
          1986,
          1987,
          1988,
          1989,
          1990,
          1991,
          1992,
          1993,
          1994,
          1995,
          1996,
          1997,
          1998,
          1999,
          2000,
          2001,
          2002,
          2003,
          2004,
          2005,
          2006,
          2007,
          2008,
          2009,
          2010,
          2011,
          2012,
          2013,
          2014,
          2015,
          2016,
          2017,
          2018
         ],
         "xaxis": "x",
         "y": [
          null,
          null,
          null,
          null,
          0.03,
          0.03,
          0.03,
          0.04,
          0.04,
          0.05,
          0.05,
          0.05,
          0.05,
          0.05,
          0.04,
          0.04,
          0.04,
          0.04,
          0.04,
          0.04,
          0.04,
          0.05,
          0.05,
          0.05,
          0.05,
          0.05,
          0.05,
          0.06,
          0.06,
          0.07,
          0.07,
          0.08,
          0.08,
          0.08,
          0.08,
          0.08,
          0.08,
          0.08,
          0.08,
          0.08,
          0.08,
          0.09,
          0.09,
          0.1,
          0.1,
          0.09,
          0.09,
          0.09,
          0.08,
          0.09,
          0.1,
          0.09,
          0.1,
          0.11,
          0.11,
          0.11,
          0.12,
          0.14,
          0.14,
          0.14,
          0.16,
          0.16,
          0.16,
          0.16,
          0.18,
          0.18,
          0.19,
          0.19,
          0.2,
          0.2,
          0.21,
          0.21,
          0.22,
          0.23
         ],
         "yaxis": "y"
        }
       ],
       "layout": {
        "autosize": false,
        "font": {
         "color": "grey",
         "family": "Courier New"
        },
        "height": 500,
        "legend": {
         "title": {
          "font": {
           "color": "grey"
          },
          "text": "variable"
         },
         "tracegroupgap": 0
        },
        "template": {
         "data": {
          "bar": [
           {
            "error_x": {
             "color": "#2a3f5f"
            },
            "error_y": {
             "color": "#2a3f5f"
            },
            "marker": {
             "line": {
              "color": "#E5ECF6",
              "width": 0.5
             },
             "pattern": {
              "fillmode": "overlay",
              "size": 10,
              "solidity": 0.2
             }
            },
            "type": "bar"
           }
          ],
          "barpolar": [
           {
            "marker": {
             "line": {
              "color": "#E5ECF6",
              "width": 0.5
             },
             "pattern": {
              "fillmode": "overlay",
              "size": 10,
              "solidity": 0.2
             }
            },
            "type": "barpolar"
           }
          ],
          "carpet": [
           {
            "aaxis": {
             "endlinecolor": "#2a3f5f",
             "gridcolor": "white",
             "linecolor": "white",
             "minorgridcolor": "white",
             "startlinecolor": "#2a3f5f"
            },
            "baxis": {
             "endlinecolor": "#2a3f5f",
             "gridcolor": "white",
             "linecolor": "white",
             "minorgridcolor": "white",
             "startlinecolor": "#2a3f5f"
            },
            "type": "carpet"
           }
          ],
          "choropleth": [
           {
            "colorbar": {
             "outlinewidth": 0,
             "ticks": ""
            },
            "type": "choropleth"
           }
          ],
          "contour": [
           {
            "colorbar": {
             "outlinewidth": 0,
             "ticks": ""
            },
            "colorscale": [
             [
              0,
              "#0d0887"
             ],
             [
              0.1111111111111111,
              "#46039f"
             ],
             [
              0.2222222222222222,
              "#7201a8"
             ],
             [
              0.3333333333333333,
              "#9c179e"
             ],
             [
              0.4444444444444444,
              "#bd3786"
             ],
             [
              0.5555555555555556,
              "#d8576b"
             ],
             [
              0.6666666666666666,
              "#ed7953"
             ],
             [
              0.7777777777777778,
              "#fb9f3a"
             ],
             [
              0.8888888888888888,
              "#fdca26"
             ],
             [
              1,
              "#f0f921"
             ]
            ],
            "type": "contour"
           }
          ],
          "contourcarpet": [
           {
            "colorbar": {
             "outlinewidth": 0,
             "ticks": ""
            },
            "type": "contourcarpet"
           }
          ],
          "heatmap": [
           {
            "colorbar": {
             "outlinewidth": 0,
             "ticks": ""
            },
            "colorscale": [
             [
              0,
              "#0d0887"
             ],
             [
              0.1111111111111111,
              "#46039f"
             ],
             [
              0.2222222222222222,
              "#7201a8"
             ],
             [
              0.3333333333333333,
              "#9c179e"
             ],
             [
              0.4444444444444444,
              "#bd3786"
             ],
             [
              0.5555555555555556,
              "#d8576b"
             ],
             [
              0.6666666666666666,
              "#ed7953"
             ],
             [
              0.7777777777777778,
              "#fb9f3a"
             ],
             [
              0.8888888888888888,
              "#fdca26"
             ],
             [
              1,
              "#f0f921"
             ]
            ],
            "type": "heatmap"
           }
          ],
          "heatmapgl": [
           {
            "colorbar": {
             "outlinewidth": 0,
             "ticks": ""
            },
            "colorscale": [
             [
              0,
              "#0d0887"
             ],
             [
              0.1111111111111111,
              "#46039f"
             ],
             [
              0.2222222222222222,
              "#7201a8"
             ],
             [
              0.3333333333333333,
              "#9c179e"
             ],
             [
              0.4444444444444444,
              "#bd3786"
             ],
             [
              0.5555555555555556,
              "#d8576b"
             ],
             [
              0.6666666666666666,
              "#ed7953"
             ],
             [
              0.7777777777777778,
              "#fb9f3a"
             ],
             [
              0.8888888888888888,
              "#fdca26"
             ],
             [
              1,
              "#f0f921"
             ]
            ],
            "type": "heatmapgl"
           }
          ],
          "histogram": [
           {
            "marker": {
             "pattern": {
              "fillmode": "overlay",
              "size": 10,
              "solidity": 0.2
             }
            },
            "type": "histogram"
           }
          ],
          "histogram2d": [
           {
            "colorbar": {
             "outlinewidth": 0,
             "ticks": ""
            },
            "colorscale": [
             [
              0,
              "#0d0887"
             ],
             [
              0.1111111111111111,
              "#46039f"
             ],
             [
              0.2222222222222222,
              "#7201a8"
             ],
             [
              0.3333333333333333,
              "#9c179e"
             ],
             [
              0.4444444444444444,
              "#bd3786"
             ],
             [
              0.5555555555555556,
              "#d8576b"
             ],
             [
              0.6666666666666666,
              "#ed7953"
             ],
             [
              0.7777777777777778,
              "#fb9f3a"
             ],
             [
              0.8888888888888888,
              "#fdca26"
             ],
             [
              1,
              "#f0f921"
             ]
            ],
            "type": "histogram2d"
           }
          ],
          "histogram2dcontour": [
           {
            "colorbar": {
             "outlinewidth": 0,
             "ticks": ""
            },
            "colorscale": [
             [
              0,
              "#0d0887"
             ],
             [
              0.1111111111111111,
              "#46039f"
             ],
             [
              0.2222222222222222,
              "#7201a8"
             ],
             [
              0.3333333333333333,
              "#9c179e"
             ],
             [
              0.4444444444444444,
              "#bd3786"
             ],
             [
              0.5555555555555556,
              "#d8576b"
             ],
             [
              0.6666666666666666,
              "#ed7953"
             ],
             [
              0.7777777777777778,
              "#fb9f3a"
             ],
             [
              0.8888888888888888,
              "#fdca26"
             ],
             [
              1,
              "#f0f921"
             ]
            ],
            "type": "histogram2dcontour"
           }
          ],
          "mesh3d": [
           {
            "colorbar": {
             "outlinewidth": 0,
             "ticks": ""
            },
            "type": "mesh3d"
           }
          ],
          "parcoords": [
           {
            "line": {
             "colorbar": {
              "outlinewidth": 0,
              "ticks": ""
             }
            },
            "type": "parcoords"
           }
          ],
          "pie": [
           {
            "automargin": true,
            "type": "pie"
           }
          ],
          "scatter": [
           {
            "marker": {
             "colorbar": {
              "outlinewidth": 0,
              "ticks": ""
             }
            },
            "type": "scatter"
           }
          ],
          "scatter3d": [
           {
            "line": {
             "colorbar": {
              "outlinewidth": 0,
              "ticks": ""
             }
            },
            "marker": {
             "colorbar": {
              "outlinewidth": 0,
              "ticks": ""
             }
            },
            "type": "scatter3d"
           }
          ],
          "scattercarpet": [
           {
            "marker": {
             "colorbar": {
              "outlinewidth": 0,
              "ticks": ""
             }
            },
            "type": "scattercarpet"
           }
          ],
          "scattergeo": [
           {
            "marker": {
             "colorbar": {
              "outlinewidth": 0,
              "ticks": ""
             }
            },
            "type": "scattergeo"
           }
          ],
          "scattergl": [
           {
            "marker": {
             "colorbar": {
              "outlinewidth": 0,
              "ticks": ""
             }
            },
            "type": "scattergl"
           }
          ],
          "scattermapbox": [
           {
            "marker": {
             "colorbar": {
              "outlinewidth": 0,
              "ticks": ""
             }
            },
            "type": "scattermapbox"
           }
          ],
          "scatterpolar": [
           {
            "marker": {
             "colorbar": {
              "outlinewidth": 0,
              "ticks": ""
             }
            },
            "type": "scatterpolar"
           }
          ],
          "scatterpolargl": [
           {
            "marker": {
             "colorbar": {
              "outlinewidth": 0,
              "ticks": ""
             }
            },
            "type": "scatterpolargl"
           }
          ],
          "scatterternary": [
           {
            "marker": {
             "colorbar": {
              "outlinewidth": 0,
              "ticks": ""
             }
            },
            "type": "scatterternary"
           }
          ],
          "surface": [
           {
            "colorbar": {
             "outlinewidth": 0,
             "ticks": ""
            },
            "colorscale": [
             [
              0,
              "#0d0887"
             ],
             [
              0.1111111111111111,
              "#46039f"
             ],
             [
              0.2222222222222222,
              "#7201a8"
             ],
             [
              0.3333333333333333,
              "#9c179e"
             ],
             [
              0.4444444444444444,
              "#bd3786"
             ],
             [
              0.5555555555555556,
              "#d8576b"
             ],
             [
              0.6666666666666666,
              "#ed7953"
             ],
             [
              0.7777777777777778,
              "#fb9f3a"
             ],
             [
              0.8888888888888888,
              "#fdca26"
             ],
             [
              1,
              "#f0f921"
             ]
            ],
            "type": "surface"
           }
          ],
          "table": [
           {
            "cells": {
             "fill": {
              "color": "#EBF0F8"
             },
             "line": {
              "color": "white"
             }
            },
            "header": {
             "fill": {
              "color": "#C8D4E3"
             },
             "line": {
              "color": "white"
             }
            },
            "type": "table"
           }
          ]
         },
         "layout": {
          "annotationdefaults": {
           "arrowcolor": "#2a3f5f",
           "arrowhead": 0,
           "arrowwidth": 1
          },
          "autotypenumbers": "strict",
          "coloraxis": {
           "colorbar": {
            "outlinewidth": 0,
            "ticks": ""
           }
          },
          "colorscale": {
           "diverging": [
            [
             0,
             "#8e0152"
            ],
            [
             0.1,
             "#c51b7d"
            ],
            [
             0.2,
             "#de77ae"
            ],
            [
             0.3,
             "#f1b6da"
            ],
            [
             0.4,
             "#fde0ef"
            ],
            [
             0.5,
             "#f7f7f7"
            ],
            [
             0.6,
             "#e6f5d0"
            ],
            [
             0.7,
             "#b8e186"
            ],
            [
             0.8,
             "#7fbc41"
            ],
            [
             0.9,
             "#4d9221"
            ],
            [
             1,
             "#276419"
            ]
           ],
           "sequential": [
            [
             0,
             "#0d0887"
            ],
            [
             0.1111111111111111,
             "#46039f"
            ],
            [
             0.2222222222222222,
             "#7201a8"
            ],
            [
             0.3333333333333333,
             "#9c179e"
            ],
            [
             0.4444444444444444,
             "#bd3786"
            ],
            [
             0.5555555555555556,
             "#d8576b"
            ],
            [
             0.6666666666666666,
             "#ed7953"
            ],
            [
             0.7777777777777778,
             "#fb9f3a"
            ],
            [
             0.8888888888888888,
             "#fdca26"
            ],
            [
             1,
             "#f0f921"
            ]
           ],
           "sequentialminus": [
            [
             0,
             "#0d0887"
            ],
            [
             0.1111111111111111,
             "#46039f"
            ],
            [
             0.2222222222222222,
             "#7201a8"
            ],
            [
             0.3333333333333333,
             "#9c179e"
            ],
            [
             0.4444444444444444,
             "#bd3786"
            ],
            [
             0.5555555555555556,
             "#d8576b"
            ],
            [
             0.6666666666666666,
             "#ed7953"
            ],
            [
             0.7777777777777778,
             "#fb9f3a"
            ],
            [
             0.8888888888888888,
             "#fdca26"
            ],
            [
             1,
             "#f0f921"
            ]
           ]
          },
          "colorway": [
           "#636efa",
           "#EF553B",
           "#00cc96",
           "#ab63fa",
           "#FFA15A",
           "#19d3f3",
           "#FF6692",
           "#B6E880",
           "#FF97FF",
           "#FECB52"
          ],
          "font": {
           "color": "#2a3f5f"
          },
          "geo": {
           "bgcolor": "white",
           "lakecolor": "white",
           "landcolor": "#E5ECF6",
           "showlakes": true,
           "showland": true,
           "subunitcolor": "white"
          },
          "hoverlabel": {
           "align": "left"
          },
          "hovermode": "closest",
          "mapbox": {
           "style": "light"
          },
          "paper_bgcolor": "white",
          "plot_bgcolor": "#E5ECF6",
          "polar": {
           "angularaxis": {
            "gridcolor": "white",
            "linecolor": "white",
            "ticks": ""
           },
           "bgcolor": "#E5ECF6",
           "radialaxis": {
            "gridcolor": "white",
            "linecolor": "white",
            "ticks": ""
           }
          },
          "scene": {
           "xaxis": {
            "backgroundcolor": "#E5ECF6",
            "gridcolor": "white",
            "gridwidth": 2,
            "linecolor": "white",
            "showbackground": true,
            "ticks": "",
            "zerolinecolor": "white"
           },
           "yaxis": {
            "backgroundcolor": "#E5ECF6",
            "gridcolor": "white",
            "gridwidth": 2,
            "linecolor": "white",
            "showbackground": true,
            "ticks": "",
            "zerolinecolor": "white"
           },
           "zaxis": {
            "backgroundcolor": "#E5ECF6",
            "gridcolor": "white",
            "gridwidth": 2,
            "linecolor": "white",
            "showbackground": true,
            "ticks": "",
            "zerolinecolor": "white"
           }
          },
          "shapedefaults": {
           "line": {
            "color": "#2a3f5f"
           }
          },
          "ternary": {
           "aaxis": {
            "gridcolor": "white",
            "linecolor": "white",
            "ticks": ""
           },
           "baxis": {
            "gridcolor": "white",
            "linecolor": "white",
            "ticks": ""
           },
           "bgcolor": "#E5ECF6",
           "caxis": {
            "gridcolor": "white",
            "linecolor": "white",
            "ticks": ""
           }
          },
          "title": {
           "x": 0.05
          },
          "xaxis": {
           "automargin": true,
           "gridcolor": "white",
           "linecolor": "white",
           "ticks": "",
           "title": {
            "standoff": 15
           },
           "zerolinecolor": "white",
           "zerolinewidth": 2
          },
          "yaxis": {
           "automargin": true,
           "gridcolor": "white",
           "linecolor": "white",
           "ticks": "",
           "title": {
            "standoff": 15
           },
           "zerolinecolor": "white",
           "zerolinewidth": 2
          }
         }
        },
        "title": {
         "font": {
          "color": "#1f77b4",
          "family": "Courier New"
         },
         "text": "Women Representation in Parliament (Global Average) from 1945 to 2018"
        },
        "width": 800,
        "xaxis": {
         "anchor": "y",
         "domain": [
          0,
          1
         ],
         "nticks": 10,
         "rangeslider": {
          "visible": true
         },
         "title": {
          "text": "Year"
         }
        },
        "yaxis": {
         "anchor": "x",
         "domain": [
          0,
          1
         ],
         "title": {
          "text": "Women (%)"
         }
        }
       }
      }
     },
     "metadata": {},
     "output_type": "display_data"
    }
   ],
   "source": [
    "# read data\n",
    "df_avg_year = pd.read_csv('./data/avg_yearly.csv')\n",
    "\n",
    "# plotly line plot\n",
    "fig = px.line(df_avg_year, x='year', y=['women_perc','RM5'],\n",
    "            title='Women Representation in Parliament (Global Average) from 1945 to 2018',\n",
    "            markers=True,\n",
    "            labels=dict(year='Year', women_perc='Participation (%)')\n",
    "            )\n",
    "fig.update_yaxes(title_text='Women (%)')\n",
    "fig.update_layout(\n",
    "        font_family=\"Courier New\",\n",
    "        font_color=\"grey\",\n",
    "        title_font_family=\"Courier New\",\n",
    "        title_font_color=\"#1f77b4\",\n",
    "        legend_title_font_color=\"grey\",\n",
    "        autosize=False,\n",
    "        width=800,\n",
    "        height=500\n",
    "    )\n",
    "fig.update_xaxes(nticks=10)\n",
    "fig.update_xaxes(rangeslider_visible=True)\n",
    "\n",
    "fig.show()"
   ]
  },
  {
   "cell_type": "markdown",
   "metadata": {},
   "source": [
    "Looking at women's participation at global scale, we can see that the total seats held by women averaged for all the countries around the world started with only a very small proportion in the late fourties,less than 5%, marking an impressive rise through the last 20 years from 10% in 2000 to almost 25% in 2018."
   ]
  },
  {
   "cell_type": "markdown",
   "metadata": {},
   "source": [
    "### Yearly Global Average (1945 - 2018) by Decade"
   ]
  },
  {
   "cell_type": "code",
   "execution_count": 5,
   "metadata": {},
   "outputs": [
    {
     "data": {
      "application/vnd.plotly.v1+json": {
       "config": {
        "plotlyServerURL": "https://plot.ly"
       },
       "data": [
        {
         "hovertemplate": "Decade=40's<br>Year=%{x}<br>Women(%)=%{y}<extra></extra>",
         "legendgroup": "40's",
         "line": {
          "color": "#636efa",
          "dash": "solid"
         },
         "marker": {
          "symbol": "circle"
         },
         "mode": "lines+markers",
         "name": "40's",
         "orientation": "v",
         "showlegend": true,
         "type": "scatter",
         "x": [
          5,
          6,
          7,
          8,
          9
         ],
         "xaxis": "x",
         "y": [
          0.03,
          0.03,
          0.02,
          0.03,
          0.04
         ],
         "yaxis": "y"
        },
        {
         "hovertemplate": "Decade=50's<br>Year=%{x}<br>Women(%)=%{y}<extra></extra>",
         "legendgroup": "50's",
         "line": {
          "color": "#EF553B",
          "dash": "solid"
         },
         "marker": {
          "symbol": "circle"
         },
         "mode": "lines+markers",
         "name": "50's",
         "orientation": "v",
         "showlegend": true,
         "type": "scatter",
         "x": [
          0,
          1,
          2,
          3,
          4,
          5,
          6,
          7,
          8,
          9
         ],
         "xaxis": "x",
         "y": [
          0.04,
          0.04,
          0.05,
          0.05,
          0.06,
          0.03,
          0.05,
          0.05,
          0.04,
          0.03
         ],
         "yaxis": "y"
        },
        {
         "hovertemplate": "Decade=60's<br>Year=%{x}<br>Women(%)=%{y}<extra></extra>",
         "legendgroup": "60's",
         "line": {
          "color": "#00cc96",
          "dash": "solid"
         },
         "marker": {
          "symbol": "circle"
         },
         "mode": "lines+markers",
         "name": "60's",
         "orientation": "v",
         "showlegend": true,
         "type": "scatter",
         "x": [
          0,
          1,
          2,
          3,
          4,
          5,
          6,
          7,
          8,
          9
         ],
         "xaxis": "x",
         "y": [
          0.04,
          0.04,
          0.05,
          0.05,
          0.04,
          0.03,
          0.07,
          0.05,
          0.04,
          0.04
         ],
         "yaxis": "y"
        },
        {
         "hovertemplate": "Decade=70's<br>Year=%{x}<br>Women(%)=%{y}<extra></extra>",
         "legendgroup": "70's",
         "line": {
          "color": "#ab63fa",
          "dash": "solid"
         },
         "marker": {
          "symbol": "circle"
         },
         "mode": "lines+markers",
         "name": "70's",
         "orientation": "v",
         "showlegend": true,
         "type": "scatter",
         "x": [
          0,
          1,
          2,
          3,
          4,
          5,
          6,
          7,
          8,
          9
         ],
         "xaxis": "x",
         "y": [
          0.06,
          0.08,
          0.06,
          0.06,
          0.07,
          0.09,
          0.11,
          0.05,
          0.06,
          0.09
         ],
         "yaxis": "y"
        },
        {
         "hovertemplate": "Decade=80's<br>Year=%{x}<br>Women(%)=%{y}<extra></extra>",
         "legendgroup": "80's",
         "line": {
          "color": "#FFA15A",
          "dash": "solid"
         },
         "marker": {
          "symbol": "circle"
         },
         "mode": "lines+markers",
         "name": "80's",
         "orientation": "v",
         "showlegend": true,
         "type": "scatter",
         "x": [
          0,
          1,
          2,
          3,
          4,
          5,
          6,
          7,
          8,
          9
         ],
         "xaxis": "x",
         "y": [
          0.08,
          0.11,
          0.07,
          0.07,
          0.07,
          0.1,
          0.13,
          0.09,
          0.09,
          0.08
         ],
         "yaxis": "y"
        },
        {
         "hovertemplate": "Decade=90's<br>Year=%{x}<br>Women(%)=%{y}<extra></extra>",
         "legendgroup": "90's",
         "line": {
          "color": "#19d3f3",
          "dash": "solid"
         },
         "marker": {
          "symbol": "circle"
         },
         "mode": "lines+markers",
         "name": "90's",
         "orientation": "v",
         "showlegend": true,
         "type": "scatter",
         "x": [
          0,
          1,
          2,
          3,
          4,
          5,
          6,
          7,
          8,
          9
         ],
         "xaxis": "x",
         "y": [
          0.08,
          0.11,
          0.07,
          0.08,
          0.12,
          0.11,
          0.09,
          0.1,
          0.14,
          0.13
         ],
         "yaxis": "y"
        },
        {
         "hovertemplate": "Decade=00's<br>Year=%{x}<br>Women(%)=%{y}<extra></extra>",
         "legendgroup": "00's",
         "line": {
          "color": "#FF6692",
          "dash": "solid"
         },
         "marker": {
          "symbol": "circle"
         },
         "mode": "lines+markers",
         "name": "00's",
         "orientation": "v",
         "showlegend": true,
         "type": "scatter",
         "x": [
          0,
          1,
          2,
          3,
          4,
          5,
          6,
          7,
          8,
          9
         ],
         "xaxis": "x",
         "y": [
          0.1,
          0.15,
          0.16,
          0.14,
          0.14,
          0.19,
          0.16,
          0.16,
          0.17,
          0.22
         ],
         "yaxis": "y"
        },
        {
         "hovertemplate": "Decade=10's<br>Year=%{x}<br>Women(%)=%{y}<extra></extra>",
         "legendgroup": "10's",
         "line": {
          "color": "#B6E880",
          "dash": "solid"
         },
         "marker": {
          "symbol": "circle"
         },
         "mode": "lines+markers",
         "name": "10's",
         "orientation": "v",
         "showlegend": true,
         "type": "scatter",
         "x": [
          0,
          1,
          2,
          3,
          4,
          5,
          6,
          7,
          8
         ],
         "xaxis": "x",
         "y": [
          0.18,
          0.21,
          0.17,
          0.24,
          0.22,
          0.21,
          0.2,
          0.25,
          0.25
         ],
         "yaxis": "y"
        }
       ],
       "layout": {
        "autosize": false,
        "font": {
         "color": "grey",
         "family": "Courier New"
        },
        "height": 400,
        "legend": {
         "title": {
          "font": {
           "color": "grey"
          },
          "text": "Decade"
         },
         "tracegroupgap": 0
        },
        "template": {
         "data": {
          "bar": [
           {
            "error_x": {
             "color": "#2a3f5f"
            },
            "error_y": {
             "color": "#2a3f5f"
            },
            "marker": {
             "line": {
              "color": "#E5ECF6",
              "width": 0.5
             },
             "pattern": {
              "fillmode": "overlay",
              "size": 10,
              "solidity": 0.2
             }
            },
            "type": "bar"
           }
          ],
          "barpolar": [
           {
            "marker": {
             "line": {
              "color": "#E5ECF6",
              "width": 0.5
             },
             "pattern": {
              "fillmode": "overlay",
              "size": 10,
              "solidity": 0.2
             }
            },
            "type": "barpolar"
           }
          ],
          "carpet": [
           {
            "aaxis": {
             "endlinecolor": "#2a3f5f",
             "gridcolor": "white",
             "linecolor": "white",
             "minorgridcolor": "white",
             "startlinecolor": "#2a3f5f"
            },
            "baxis": {
             "endlinecolor": "#2a3f5f",
             "gridcolor": "white",
             "linecolor": "white",
             "minorgridcolor": "white",
             "startlinecolor": "#2a3f5f"
            },
            "type": "carpet"
           }
          ],
          "choropleth": [
           {
            "colorbar": {
             "outlinewidth": 0,
             "ticks": ""
            },
            "type": "choropleth"
           }
          ],
          "contour": [
           {
            "colorbar": {
             "outlinewidth": 0,
             "ticks": ""
            },
            "colorscale": [
             [
              0,
              "#0d0887"
             ],
             [
              0.1111111111111111,
              "#46039f"
             ],
             [
              0.2222222222222222,
              "#7201a8"
             ],
             [
              0.3333333333333333,
              "#9c179e"
             ],
             [
              0.4444444444444444,
              "#bd3786"
             ],
             [
              0.5555555555555556,
              "#d8576b"
             ],
             [
              0.6666666666666666,
              "#ed7953"
             ],
             [
              0.7777777777777778,
              "#fb9f3a"
             ],
             [
              0.8888888888888888,
              "#fdca26"
             ],
             [
              1,
              "#f0f921"
             ]
            ],
            "type": "contour"
           }
          ],
          "contourcarpet": [
           {
            "colorbar": {
             "outlinewidth": 0,
             "ticks": ""
            },
            "type": "contourcarpet"
           }
          ],
          "heatmap": [
           {
            "colorbar": {
             "outlinewidth": 0,
             "ticks": ""
            },
            "colorscale": [
             [
              0,
              "#0d0887"
             ],
             [
              0.1111111111111111,
              "#46039f"
             ],
             [
              0.2222222222222222,
              "#7201a8"
             ],
             [
              0.3333333333333333,
              "#9c179e"
             ],
             [
              0.4444444444444444,
              "#bd3786"
             ],
             [
              0.5555555555555556,
              "#d8576b"
             ],
             [
              0.6666666666666666,
              "#ed7953"
             ],
             [
              0.7777777777777778,
              "#fb9f3a"
             ],
             [
              0.8888888888888888,
              "#fdca26"
             ],
             [
              1,
              "#f0f921"
             ]
            ],
            "type": "heatmap"
           }
          ],
          "heatmapgl": [
           {
            "colorbar": {
             "outlinewidth": 0,
             "ticks": ""
            },
            "colorscale": [
             [
              0,
              "#0d0887"
             ],
             [
              0.1111111111111111,
              "#46039f"
             ],
             [
              0.2222222222222222,
              "#7201a8"
             ],
             [
              0.3333333333333333,
              "#9c179e"
             ],
             [
              0.4444444444444444,
              "#bd3786"
             ],
             [
              0.5555555555555556,
              "#d8576b"
             ],
             [
              0.6666666666666666,
              "#ed7953"
             ],
             [
              0.7777777777777778,
              "#fb9f3a"
             ],
             [
              0.8888888888888888,
              "#fdca26"
             ],
             [
              1,
              "#f0f921"
             ]
            ],
            "type": "heatmapgl"
           }
          ],
          "histogram": [
           {
            "marker": {
             "pattern": {
              "fillmode": "overlay",
              "size": 10,
              "solidity": 0.2
             }
            },
            "type": "histogram"
           }
          ],
          "histogram2d": [
           {
            "colorbar": {
             "outlinewidth": 0,
             "ticks": ""
            },
            "colorscale": [
             [
              0,
              "#0d0887"
             ],
             [
              0.1111111111111111,
              "#46039f"
             ],
             [
              0.2222222222222222,
              "#7201a8"
             ],
             [
              0.3333333333333333,
              "#9c179e"
             ],
             [
              0.4444444444444444,
              "#bd3786"
             ],
             [
              0.5555555555555556,
              "#d8576b"
             ],
             [
              0.6666666666666666,
              "#ed7953"
             ],
             [
              0.7777777777777778,
              "#fb9f3a"
             ],
             [
              0.8888888888888888,
              "#fdca26"
             ],
             [
              1,
              "#f0f921"
             ]
            ],
            "type": "histogram2d"
           }
          ],
          "histogram2dcontour": [
           {
            "colorbar": {
             "outlinewidth": 0,
             "ticks": ""
            },
            "colorscale": [
             [
              0,
              "#0d0887"
             ],
             [
              0.1111111111111111,
              "#46039f"
             ],
             [
              0.2222222222222222,
              "#7201a8"
             ],
             [
              0.3333333333333333,
              "#9c179e"
             ],
             [
              0.4444444444444444,
              "#bd3786"
             ],
             [
              0.5555555555555556,
              "#d8576b"
             ],
             [
              0.6666666666666666,
              "#ed7953"
             ],
             [
              0.7777777777777778,
              "#fb9f3a"
             ],
             [
              0.8888888888888888,
              "#fdca26"
             ],
             [
              1,
              "#f0f921"
             ]
            ],
            "type": "histogram2dcontour"
           }
          ],
          "mesh3d": [
           {
            "colorbar": {
             "outlinewidth": 0,
             "ticks": ""
            },
            "type": "mesh3d"
           }
          ],
          "parcoords": [
           {
            "line": {
             "colorbar": {
              "outlinewidth": 0,
              "ticks": ""
             }
            },
            "type": "parcoords"
           }
          ],
          "pie": [
           {
            "automargin": true,
            "type": "pie"
           }
          ],
          "scatter": [
           {
            "marker": {
             "colorbar": {
              "outlinewidth": 0,
              "ticks": ""
             }
            },
            "type": "scatter"
           }
          ],
          "scatter3d": [
           {
            "line": {
             "colorbar": {
              "outlinewidth": 0,
              "ticks": ""
             }
            },
            "marker": {
             "colorbar": {
              "outlinewidth": 0,
              "ticks": ""
             }
            },
            "type": "scatter3d"
           }
          ],
          "scattercarpet": [
           {
            "marker": {
             "colorbar": {
              "outlinewidth": 0,
              "ticks": ""
             }
            },
            "type": "scattercarpet"
           }
          ],
          "scattergeo": [
           {
            "marker": {
             "colorbar": {
              "outlinewidth": 0,
              "ticks": ""
             }
            },
            "type": "scattergeo"
           }
          ],
          "scattergl": [
           {
            "marker": {
             "colorbar": {
              "outlinewidth": 0,
              "ticks": ""
             }
            },
            "type": "scattergl"
           }
          ],
          "scattermapbox": [
           {
            "marker": {
             "colorbar": {
              "outlinewidth": 0,
              "ticks": ""
             }
            },
            "type": "scattermapbox"
           }
          ],
          "scatterpolar": [
           {
            "marker": {
             "colorbar": {
              "outlinewidth": 0,
              "ticks": ""
             }
            },
            "type": "scatterpolar"
           }
          ],
          "scatterpolargl": [
           {
            "marker": {
             "colorbar": {
              "outlinewidth": 0,
              "ticks": ""
             }
            },
            "type": "scatterpolargl"
           }
          ],
          "scatterternary": [
           {
            "marker": {
             "colorbar": {
              "outlinewidth": 0,
              "ticks": ""
             }
            },
            "type": "scatterternary"
           }
          ],
          "surface": [
           {
            "colorbar": {
             "outlinewidth": 0,
             "ticks": ""
            },
            "colorscale": [
             [
              0,
              "#0d0887"
             ],
             [
              0.1111111111111111,
              "#46039f"
             ],
             [
              0.2222222222222222,
              "#7201a8"
             ],
             [
              0.3333333333333333,
              "#9c179e"
             ],
             [
              0.4444444444444444,
              "#bd3786"
             ],
             [
              0.5555555555555556,
              "#d8576b"
             ],
             [
              0.6666666666666666,
              "#ed7953"
             ],
             [
              0.7777777777777778,
              "#fb9f3a"
             ],
             [
              0.8888888888888888,
              "#fdca26"
             ],
             [
              1,
              "#f0f921"
             ]
            ],
            "type": "surface"
           }
          ],
          "table": [
           {
            "cells": {
             "fill": {
              "color": "#EBF0F8"
             },
             "line": {
              "color": "white"
             }
            },
            "header": {
             "fill": {
              "color": "#C8D4E3"
             },
             "line": {
              "color": "white"
             }
            },
            "type": "table"
           }
          ]
         },
         "layout": {
          "annotationdefaults": {
           "arrowcolor": "#2a3f5f",
           "arrowhead": 0,
           "arrowwidth": 1
          },
          "autotypenumbers": "strict",
          "coloraxis": {
           "colorbar": {
            "outlinewidth": 0,
            "ticks": ""
           }
          },
          "colorscale": {
           "diverging": [
            [
             0,
             "#8e0152"
            ],
            [
             0.1,
             "#c51b7d"
            ],
            [
             0.2,
             "#de77ae"
            ],
            [
             0.3,
             "#f1b6da"
            ],
            [
             0.4,
             "#fde0ef"
            ],
            [
             0.5,
             "#f7f7f7"
            ],
            [
             0.6,
             "#e6f5d0"
            ],
            [
             0.7,
             "#b8e186"
            ],
            [
             0.8,
             "#7fbc41"
            ],
            [
             0.9,
             "#4d9221"
            ],
            [
             1,
             "#276419"
            ]
           ],
           "sequential": [
            [
             0,
             "#0d0887"
            ],
            [
             0.1111111111111111,
             "#46039f"
            ],
            [
             0.2222222222222222,
             "#7201a8"
            ],
            [
             0.3333333333333333,
             "#9c179e"
            ],
            [
             0.4444444444444444,
             "#bd3786"
            ],
            [
             0.5555555555555556,
             "#d8576b"
            ],
            [
             0.6666666666666666,
             "#ed7953"
            ],
            [
             0.7777777777777778,
             "#fb9f3a"
            ],
            [
             0.8888888888888888,
             "#fdca26"
            ],
            [
             1,
             "#f0f921"
            ]
           ],
           "sequentialminus": [
            [
             0,
             "#0d0887"
            ],
            [
             0.1111111111111111,
             "#46039f"
            ],
            [
             0.2222222222222222,
             "#7201a8"
            ],
            [
             0.3333333333333333,
             "#9c179e"
            ],
            [
             0.4444444444444444,
             "#bd3786"
            ],
            [
             0.5555555555555556,
             "#d8576b"
            ],
            [
             0.6666666666666666,
             "#ed7953"
            ],
            [
             0.7777777777777778,
             "#fb9f3a"
            ],
            [
             0.8888888888888888,
             "#fdca26"
            ],
            [
             1,
             "#f0f921"
            ]
           ]
          },
          "colorway": [
           "#636efa",
           "#EF553B",
           "#00cc96",
           "#ab63fa",
           "#FFA15A",
           "#19d3f3",
           "#FF6692",
           "#B6E880",
           "#FF97FF",
           "#FECB52"
          ],
          "font": {
           "color": "#2a3f5f"
          },
          "geo": {
           "bgcolor": "white",
           "lakecolor": "white",
           "landcolor": "#E5ECF6",
           "showlakes": true,
           "showland": true,
           "subunitcolor": "white"
          },
          "hoverlabel": {
           "align": "left"
          },
          "hovermode": "closest",
          "mapbox": {
           "style": "light"
          },
          "paper_bgcolor": "white",
          "plot_bgcolor": "#E5ECF6",
          "polar": {
           "angularaxis": {
            "gridcolor": "white",
            "linecolor": "white",
            "ticks": ""
           },
           "bgcolor": "#E5ECF6",
           "radialaxis": {
            "gridcolor": "white",
            "linecolor": "white",
            "ticks": ""
           }
          },
          "scene": {
           "xaxis": {
            "backgroundcolor": "#E5ECF6",
            "gridcolor": "white",
            "gridwidth": 2,
            "linecolor": "white",
            "showbackground": true,
            "ticks": "",
            "zerolinecolor": "white"
           },
           "yaxis": {
            "backgroundcolor": "#E5ECF6",
            "gridcolor": "white",
            "gridwidth": 2,
            "linecolor": "white",
            "showbackground": true,
            "ticks": "",
            "zerolinecolor": "white"
           },
           "zaxis": {
            "backgroundcolor": "#E5ECF6",
            "gridcolor": "white",
            "gridwidth": 2,
            "linecolor": "white",
            "showbackground": true,
            "ticks": "",
            "zerolinecolor": "white"
           }
          },
          "shapedefaults": {
           "line": {
            "color": "#2a3f5f"
           }
          },
          "ternary": {
           "aaxis": {
            "gridcolor": "white",
            "linecolor": "white",
            "ticks": ""
           },
           "baxis": {
            "gridcolor": "white",
            "linecolor": "white",
            "ticks": ""
           },
           "bgcolor": "#E5ECF6",
           "caxis": {
            "gridcolor": "white",
            "linecolor": "white",
            "ticks": ""
           }
          },
          "title": {
           "x": 0.05
          },
          "xaxis": {
           "automargin": true,
           "gridcolor": "white",
           "linecolor": "white",
           "ticks": "",
           "title": {
            "standoff": 15
           },
           "zerolinecolor": "white",
           "zerolinewidth": 2
          },
          "yaxis": {
           "automargin": true,
           "gridcolor": "white",
           "linecolor": "white",
           "ticks": "",
           "title": {
            "standoff": 15
           },
           "zerolinecolor": "white",
           "zerolinewidth": 2
          }
         }
        },
        "title": {
         "font": {
          "color": "#1f77b4",
          "family": "Courier New"
         },
         "text": "Women Representation in Parliament (Global Average) by Decade"
        },
        "width": 800,
        "xaxis": {
         "anchor": "y",
         "domain": [
          0,
          1
         ],
         "nticks": 20,
         "title": {
          "text": "Year"
         }
        },
        "yaxis": {
         "anchor": "x",
         "domain": [
          0,
          1
         ],
         "title": {
          "text": "Women(%)"
         }
        }
       }
      }
     },
     "metadata": {},
     "output_type": "display_data"
    }
   ],
   "source": [
    "# Plotly line plot\n",
    "fig = px.line(df_avg_year, x=\"year_in_decade\", y=\"women_perc\", color='decade', markers=True,\n",
    "              title='Women Representation in Parliament (Global Average) by Decade',\n",
    "              labels=dict(year_in_decade='Year', women_perc='Women(%)', decade='Decade')\n",
    ")\n",
    "fig.update_layout(\n",
    "        font_family=\"Courier New\",\n",
    "        font_color=\"grey\",\n",
    "        title_font_family=\"Courier New\",\n",
    "        title_font_color=\"#1f77b4\",\n",
    "        legend_title_font_color=\"grey\",\n",
    "        autosize=False,\n",
    "        width=800,\n",
    "        height=400\n",
    "        )\n",
    "fig.update_xaxes(nticks=20)\n",
    "fig.show()"
   ]
  },
  {
   "cell_type": "code",
   "execution_count": 6,
   "metadata": {},
   "outputs": [
    {
     "data": {
      "application/vnd.plotly.v1+json": {
       "config": {
        "plotlyServerURL": "https://plot.ly"
       },
       "data": [
        {
         "alignmentgroup": "True",
         "hovertemplate": "Decade=%{x}<br>Women(%)=%{y}<extra></extra>",
         "legendgroup": "40's",
         "marker": {
          "color": "#636efa"
         },
         "name": "40's",
         "notched": false,
         "offsetgroup": "40's",
         "orientation": "v",
         "showlegend": true,
         "type": "box",
         "x": [
          "40's",
          "40's",
          "40's",
          "40's",
          "40's"
         ],
         "x0": " ",
         "xaxis": "x",
         "y": [
          0.03,
          0.03,
          0.02,
          0.03,
          0.04
         ],
         "y0": " ",
         "yaxis": "y"
        },
        {
         "alignmentgroup": "True",
         "hovertemplate": "Decade=%{x}<br>Women(%)=%{y}<extra></extra>",
         "legendgroup": "50's",
         "marker": {
          "color": "#EF553B"
         },
         "name": "50's",
         "notched": false,
         "offsetgroup": "50's",
         "orientation": "v",
         "showlegend": true,
         "type": "box",
         "x": [
          "50's",
          "50's",
          "50's",
          "50's",
          "50's",
          "50's",
          "50's",
          "50's",
          "50's",
          "50's"
         ],
         "x0": " ",
         "xaxis": "x",
         "y": [
          0.04,
          0.04,
          0.05,
          0.05,
          0.06,
          0.03,
          0.05,
          0.05,
          0.04,
          0.03
         ],
         "y0": " ",
         "yaxis": "y"
        },
        {
         "alignmentgroup": "True",
         "hovertemplate": "Decade=%{x}<br>Women(%)=%{y}<extra></extra>",
         "legendgroup": "60's",
         "marker": {
          "color": "#00cc96"
         },
         "name": "60's",
         "notched": false,
         "offsetgroup": "60's",
         "orientation": "v",
         "showlegend": true,
         "type": "box",
         "x": [
          "60's",
          "60's",
          "60's",
          "60's",
          "60's",
          "60's",
          "60's",
          "60's",
          "60's",
          "60's"
         ],
         "x0": " ",
         "xaxis": "x",
         "y": [
          0.04,
          0.04,
          0.05,
          0.05,
          0.04,
          0.03,
          0.07,
          0.05,
          0.04,
          0.04
         ],
         "y0": " ",
         "yaxis": "y"
        },
        {
         "alignmentgroup": "True",
         "hovertemplate": "Decade=%{x}<br>Women(%)=%{y}<extra></extra>",
         "legendgroup": "70's",
         "marker": {
          "color": "#ab63fa"
         },
         "name": "70's",
         "notched": false,
         "offsetgroup": "70's",
         "orientation": "v",
         "showlegend": true,
         "type": "box",
         "x": [
          "70's",
          "70's",
          "70's",
          "70's",
          "70's",
          "70's",
          "70's",
          "70's",
          "70's",
          "70's"
         ],
         "x0": " ",
         "xaxis": "x",
         "y": [
          0.06,
          0.08,
          0.06,
          0.06,
          0.07,
          0.09,
          0.11,
          0.05,
          0.06,
          0.09
         ],
         "y0": " ",
         "yaxis": "y"
        },
        {
         "alignmentgroup": "True",
         "hovertemplate": "Decade=%{x}<br>Women(%)=%{y}<extra></extra>",
         "legendgroup": "80's",
         "marker": {
          "color": "#FFA15A"
         },
         "name": "80's",
         "notched": false,
         "offsetgroup": "80's",
         "orientation": "v",
         "showlegend": true,
         "type": "box",
         "x": [
          "80's",
          "80's",
          "80's",
          "80's",
          "80's",
          "80's",
          "80's",
          "80's",
          "80's",
          "80's"
         ],
         "x0": " ",
         "xaxis": "x",
         "y": [
          0.08,
          0.11,
          0.07,
          0.07,
          0.07,
          0.1,
          0.13,
          0.09,
          0.09,
          0.08
         ],
         "y0": " ",
         "yaxis": "y"
        },
        {
         "alignmentgroup": "True",
         "hovertemplate": "Decade=%{x}<br>Women(%)=%{y}<extra></extra>",
         "legendgroup": "90's",
         "marker": {
          "color": "#19d3f3"
         },
         "name": "90's",
         "notched": false,
         "offsetgroup": "90's",
         "orientation": "v",
         "showlegend": true,
         "type": "box",
         "x": [
          "90's",
          "90's",
          "90's",
          "90's",
          "90's",
          "90's",
          "90's",
          "90's",
          "90's",
          "90's"
         ],
         "x0": " ",
         "xaxis": "x",
         "y": [
          0.08,
          0.11,
          0.07,
          0.08,
          0.12,
          0.11,
          0.09,
          0.1,
          0.14,
          0.13
         ],
         "y0": " ",
         "yaxis": "y"
        },
        {
         "alignmentgroup": "True",
         "hovertemplate": "Decade=%{x}<br>Women(%)=%{y}<extra></extra>",
         "legendgroup": "00's",
         "marker": {
          "color": "#FF6692"
         },
         "name": "00's",
         "notched": false,
         "offsetgroup": "00's",
         "orientation": "v",
         "showlegend": true,
         "type": "box",
         "x": [
          "00's",
          "00's",
          "00's",
          "00's",
          "00's",
          "00's",
          "00's",
          "00's",
          "00's",
          "00's"
         ],
         "x0": " ",
         "xaxis": "x",
         "y": [
          0.1,
          0.15,
          0.16,
          0.14,
          0.14,
          0.19,
          0.16,
          0.16,
          0.17,
          0.22
         ],
         "y0": " ",
         "yaxis": "y"
        },
        {
         "alignmentgroup": "True",
         "hovertemplate": "Decade=%{x}<br>Women(%)=%{y}<extra></extra>",
         "legendgroup": "10's",
         "marker": {
          "color": "#B6E880"
         },
         "name": "10's",
         "notched": false,
         "offsetgroup": "10's",
         "orientation": "v",
         "showlegend": true,
         "type": "box",
         "x": [
          "10's",
          "10's",
          "10's",
          "10's",
          "10's",
          "10's",
          "10's",
          "10's",
          "10's"
         ],
         "x0": " ",
         "xaxis": "x",
         "y": [
          0.18,
          0.21,
          0.17,
          0.24,
          0.22,
          0.21,
          0.2,
          0.25,
          0.25
         ],
         "y0": " ",
         "yaxis": "y"
        }
       ],
       "layout": {
        "autosize": false,
        "boxmode": "overlay",
        "font": {
         "color": "grey",
         "family": "Courier New"
        },
        "height": 400,
        "legend": {
         "title": {
          "font": {
           "color": "grey"
          },
          "text": "Decade"
         },
         "tracegroupgap": 0
        },
        "template": {
         "data": {
          "bar": [
           {
            "error_x": {
             "color": "#2a3f5f"
            },
            "error_y": {
             "color": "#2a3f5f"
            },
            "marker": {
             "line": {
              "color": "#E5ECF6",
              "width": 0.5
             },
             "pattern": {
              "fillmode": "overlay",
              "size": 10,
              "solidity": 0.2
             }
            },
            "type": "bar"
           }
          ],
          "barpolar": [
           {
            "marker": {
             "line": {
              "color": "#E5ECF6",
              "width": 0.5
             },
             "pattern": {
              "fillmode": "overlay",
              "size": 10,
              "solidity": 0.2
             }
            },
            "type": "barpolar"
           }
          ],
          "carpet": [
           {
            "aaxis": {
             "endlinecolor": "#2a3f5f",
             "gridcolor": "white",
             "linecolor": "white",
             "minorgridcolor": "white",
             "startlinecolor": "#2a3f5f"
            },
            "baxis": {
             "endlinecolor": "#2a3f5f",
             "gridcolor": "white",
             "linecolor": "white",
             "minorgridcolor": "white",
             "startlinecolor": "#2a3f5f"
            },
            "type": "carpet"
           }
          ],
          "choropleth": [
           {
            "colorbar": {
             "outlinewidth": 0,
             "ticks": ""
            },
            "type": "choropleth"
           }
          ],
          "contour": [
           {
            "colorbar": {
             "outlinewidth": 0,
             "ticks": ""
            },
            "colorscale": [
             [
              0,
              "#0d0887"
             ],
             [
              0.1111111111111111,
              "#46039f"
             ],
             [
              0.2222222222222222,
              "#7201a8"
             ],
             [
              0.3333333333333333,
              "#9c179e"
             ],
             [
              0.4444444444444444,
              "#bd3786"
             ],
             [
              0.5555555555555556,
              "#d8576b"
             ],
             [
              0.6666666666666666,
              "#ed7953"
             ],
             [
              0.7777777777777778,
              "#fb9f3a"
             ],
             [
              0.8888888888888888,
              "#fdca26"
             ],
             [
              1,
              "#f0f921"
             ]
            ],
            "type": "contour"
           }
          ],
          "contourcarpet": [
           {
            "colorbar": {
             "outlinewidth": 0,
             "ticks": ""
            },
            "type": "contourcarpet"
           }
          ],
          "heatmap": [
           {
            "colorbar": {
             "outlinewidth": 0,
             "ticks": ""
            },
            "colorscale": [
             [
              0,
              "#0d0887"
             ],
             [
              0.1111111111111111,
              "#46039f"
             ],
             [
              0.2222222222222222,
              "#7201a8"
             ],
             [
              0.3333333333333333,
              "#9c179e"
             ],
             [
              0.4444444444444444,
              "#bd3786"
             ],
             [
              0.5555555555555556,
              "#d8576b"
             ],
             [
              0.6666666666666666,
              "#ed7953"
             ],
             [
              0.7777777777777778,
              "#fb9f3a"
             ],
             [
              0.8888888888888888,
              "#fdca26"
             ],
             [
              1,
              "#f0f921"
             ]
            ],
            "type": "heatmap"
           }
          ],
          "heatmapgl": [
           {
            "colorbar": {
             "outlinewidth": 0,
             "ticks": ""
            },
            "colorscale": [
             [
              0,
              "#0d0887"
             ],
             [
              0.1111111111111111,
              "#46039f"
             ],
             [
              0.2222222222222222,
              "#7201a8"
             ],
             [
              0.3333333333333333,
              "#9c179e"
             ],
             [
              0.4444444444444444,
              "#bd3786"
             ],
             [
              0.5555555555555556,
              "#d8576b"
             ],
             [
              0.6666666666666666,
              "#ed7953"
             ],
             [
              0.7777777777777778,
              "#fb9f3a"
             ],
             [
              0.8888888888888888,
              "#fdca26"
             ],
             [
              1,
              "#f0f921"
             ]
            ],
            "type": "heatmapgl"
           }
          ],
          "histogram": [
           {
            "marker": {
             "pattern": {
              "fillmode": "overlay",
              "size": 10,
              "solidity": 0.2
             }
            },
            "type": "histogram"
           }
          ],
          "histogram2d": [
           {
            "colorbar": {
             "outlinewidth": 0,
             "ticks": ""
            },
            "colorscale": [
             [
              0,
              "#0d0887"
             ],
             [
              0.1111111111111111,
              "#46039f"
             ],
             [
              0.2222222222222222,
              "#7201a8"
             ],
             [
              0.3333333333333333,
              "#9c179e"
             ],
             [
              0.4444444444444444,
              "#bd3786"
             ],
             [
              0.5555555555555556,
              "#d8576b"
             ],
             [
              0.6666666666666666,
              "#ed7953"
             ],
             [
              0.7777777777777778,
              "#fb9f3a"
             ],
             [
              0.8888888888888888,
              "#fdca26"
             ],
             [
              1,
              "#f0f921"
             ]
            ],
            "type": "histogram2d"
           }
          ],
          "histogram2dcontour": [
           {
            "colorbar": {
             "outlinewidth": 0,
             "ticks": ""
            },
            "colorscale": [
             [
              0,
              "#0d0887"
             ],
             [
              0.1111111111111111,
              "#46039f"
             ],
             [
              0.2222222222222222,
              "#7201a8"
             ],
             [
              0.3333333333333333,
              "#9c179e"
             ],
             [
              0.4444444444444444,
              "#bd3786"
             ],
             [
              0.5555555555555556,
              "#d8576b"
             ],
             [
              0.6666666666666666,
              "#ed7953"
             ],
             [
              0.7777777777777778,
              "#fb9f3a"
             ],
             [
              0.8888888888888888,
              "#fdca26"
             ],
             [
              1,
              "#f0f921"
             ]
            ],
            "type": "histogram2dcontour"
           }
          ],
          "mesh3d": [
           {
            "colorbar": {
             "outlinewidth": 0,
             "ticks": ""
            },
            "type": "mesh3d"
           }
          ],
          "parcoords": [
           {
            "line": {
             "colorbar": {
              "outlinewidth": 0,
              "ticks": ""
             }
            },
            "type": "parcoords"
           }
          ],
          "pie": [
           {
            "automargin": true,
            "type": "pie"
           }
          ],
          "scatter": [
           {
            "marker": {
             "colorbar": {
              "outlinewidth": 0,
              "ticks": ""
             }
            },
            "type": "scatter"
           }
          ],
          "scatter3d": [
           {
            "line": {
             "colorbar": {
              "outlinewidth": 0,
              "ticks": ""
             }
            },
            "marker": {
             "colorbar": {
              "outlinewidth": 0,
              "ticks": ""
             }
            },
            "type": "scatter3d"
           }
          ],
          "scattercarpet": [
           {
            "marker": {
             "colorbar": {
              "outlinewidth": 0,
              "ticks": ""
             }
            },
            "type": "scattercarpet"
           }
          ],
          "scattergeo": [
           {
            "marker": {
             "colorbar": {
              "outlinewidth": 0,
              "ticks": ""
             }
            },
            "type": "scattergeo"
           }
          ],
          "scattergl": [
           {
            "marker": {
             "colorbar": {
              "outlinewidth": 0,
              "ticks": ""
             }
            },
            "type": "scattergl"
           }
          ],
          "scattermapbox": [
           {
            "marker": {
             "colorbar": {
              "outlinewidth": 0,
              "ticks": ""
             }
            },
            "type": "scattermapbox"
           }
          ],
          "scatterpolar": [
           {
            "marker": {
             "colorbar": {
              "outlinewidth": 0,
              "ticks": ""
             }
            },
            "type": "scatterpolar"
           }
          ],
          "scatterpolargl": [
           {
            "marker": {
             "colorbar": {
              "outlinewidth": 0,
              "ticks": ""
             }
            },
            "type": "scatterpolargl"
           }
          ],
          "scatterternary": [
           {
            "marker": {
             "colorbar": {
              "outlinewidth": 0,
              "ticks": ""
             }
            },
            "type": "scatterternary"
           }
          ],
          "surface": [
           {
            "colorbar": {
             "outlinewidth": 0,
             "ticks": ""
            },
            "colorscale": [
             [
              0,
              "#0d0887"
             ],
             [
              0.1111111111111111,
              "#46039f"
             ],
             [
              0.2222222222222222,
              "#7201a8"
             ],
             [
              0.3333333333333333,
              "#9c179e"
             ],
             [
              0.4444444444444444,
              "#bd3786"
             ],
             [
              0.5555555555555556,
              "#d8576b"
             ],
             [
              0.6666666666666666,
              "#ed7953"
             ],
             [
              0.7777777777777778,
              "#fb9f3a"
             ],
             [
              0.8888888888888888,
              "#fdca26"
             ],
             [
              1,
              "#f0f921"
             ]
            ],
            "type": "surface"
           }
          ],
          "table": [
           {
            "cells": {
             "fill": {
              "color": "#EBF0F8"
             },
             "line": {
              "color": "white"
             }
            },
            "header": {
             "fill": {
              "color": "#C8D4E3"
             },
             "line": {
              "color": "white"
             }
            },
            "type": "table"
           }
          ]
         },
         "layout": {
          "annotationdefaults": {
           "arrowcolor": "#2a3f5f",
           "arrowhead": 0,
           "arrowwidth": 1
          },
          "autotypenumbers": "strict",
          "coloraxis": {
           "colorbar": {
            "outlinewidth": 0,
            "ticks": ""
           }
          },
          "colorscale": {
           "diverging": [
            [
             0,
             "#8e0152"
            ],
            [
             0.1,
             "#c51b7d"
            ],
            [
             0.2,
             "#de77ae"
            ],
            [
             0.3,
             "#f1b6da"
            ],
            [
             0.4,
             "#fde0ef"
            ],
            [
             0.5,
             "#f7f7f7"
            ],
            [
             0.6,
             "#e6f5d0"
            ],
            [
             0.7,
             "#b8e186"
            ],
            [
             0.8,
             "#7fbc41"
            ],
            [
             0.9,
             "#4d9221"
            ],
            [
             1,
             "#276419"
            ]
           ],
           "sequential": [
            [
             0,
             "#0d0887"
            ],
            [
             0.1111111111111111,
             "#46039f"
            ],
            [
             0.2222222222222222,
             "#7201a8"
            ],
            [
             0.3333333333333333,
             "#9c179e"
            ],
            [
             0.4444444444444444,
             "#bd3786"
            ],
            [
             0.5555555555555556,
             "#d8576b"
            ],
            [
             0.6666666666666666,
             "#ed7953"
            ],
            [
             0.7777777777777778,
             "#fb9f3a"
            ],
            [
             0.8888888888888888,
             "#fdca26"
            ],
            [
             1,
             "#f0f921"
            ]
           ],
           "sequentialminus": [
            [
             0,
             "#0d0887"
            ],
            [
             0.1111111111111111,
             "#46039f"
            ],
            [
             0.2222222222222222,
             "#7201a8"
            ],
            [
             0.3333333333333333,
             "#9c179e"
            ],
            [
             0.4444444444444444,
             "#bd3786"
            ],
            [
             0.5555555555555556,
             "#d8576b"
            ],
            [
             0.6666666666666666,
             "#ed7953"
            ],
            [
             0.7777777777777778,
             "#fb9f3a"
            ],
            [
             0.8888888888888888,
             "#fdca26"
            ],
            [
             1,
             "#f0f921"
            ]
           ]
          },
          "colorway": [
           "#636efa",
           "#EF553B",
           "#00cc96",
           "#ab63fa",
           "#FFA15A",
           "#19d3f3",
           "#FF6692",
           "#B6E880",
           "#FF97FF",
           "#FECB52"
          ],
          "font": {
           "color": "#2a3f5f"
          },
          "geo": {
           "bgcolor": "white",
           "lakecolor": "white",
           "landcolor": "#E5ECF6",
           "showlakes": true,
           "showland": true,
           "subunitcolor": "white"
          },
          "hoverlabel": {
           "align": "left"
          },
          "hovermode": "closest",
          "mapbox": {
           "style": "light"
          },
          "paper_bgcolor": "white",
          "plot_bgcolor": "#E5ECF6",
          "polar": {
           "angularaxis": {
            "gridcolor": "white",
            "linecolor": "white",
            "ticks": ""
           },
           "bgcolor": "#E5ECF6",
           "radialaxis": {
            "gridcolor": "white",
            "linecolor": "white",
            "ticks": ""
           }
          },
          "scene": {
           "xaxis": {
            "backgroundcolor": "#E5ECF6",
            "gridcolor": "white",
            "gridwidth": 2,
            "linecolor": "white",
            "showbackground": true,
            "ticks": "",
            "zerolinecolor": "white"
           },
           "yaxis": {
            "backgroundcolor": "#E5ECF6",
            "gridcolor": "white",
            "gridwidth": 2,
            "linecolor": "white",
            "showbackground": true,
            "ticks": "",
            "zerolinecolor": "white"
           },
           "zaxis": {
            "backgroundcolor": "#E5ECF6",
            "gridcolor": "white",
            "gridwidth": 2,
            "linecolor": "white",
            "showbackground": true,
            "ticks": "",
            "zerolinecolor": "white"
           }
          },
          "shapedefaults": {
           "line": {
            "color": "#2a3f5f"
           }
          },
          "ternary": {
           "aaxis": {
            "gridcolor": "white",
            "linecolor": "white",
            "ticks": ""
           },
           "baxis": {
            "gridcolor": "white",
            "linecolor": "white",
            "ticks": ""
           },
           "bgcolor": "#E5ECF6",
           "caxis": {
            "gridcolor": "white",
            "linecolor": "white",
            "ticks": ""
           }
          },
          "title": {
           "x": 0.05
          },
          "xaxis": {
           "automargin": true,
           "gridcolor": "white",
           "linecolor": "white",
           "ticks": "",
           "title": {
            "standoff": 15
           },
           "zerolinecolor": "white",
           "zerolinewidth": 2
          },
          "yaxis": {
           "automargin": true,
           "gridcolor": "white",
           "linecolor": "white",
           "ticks": "",
           "title": {
            "standoff": 15
           },
           "zerolinecolor": "white",
           "zerolinewidth": 2
          }
         }
        },
        "title": {
         "font": {
          "color": "#1f77b4",
          "family": "Courier New"
         },
         "text": "Women Representation in Parliament (Global Average) from 50's to 10's "
        },
        "width": 800,
        "xaxis": {
         "anchor": "y",
         "categoryarray": [
          "40's",
          "50's",
          "60's",
          "70's",
          "80's",
          "90's",
          "00's",
          "10's"
         ],
         "categoryorder": "array",
         "domain": [
          0,
          1
         ],
         "title": {
          "text": "Decade"
         }
        },
        "yaxis": {
         "anchor": "x",
         "domain": [
          0,
          1
         ],
         "title": {
          "text": "Women(%)"
         }
        }
       }
      }
     },
     "metadata": {},
     "output_type": "display_data"
    }
   ],
   "source": [
    "# Plotly boxplots\n",
    "fig = px.box(df_avg_year, x=\"decade\", y=\"women_perc\", color=\"decade\",\n",
    "             title=\"Women Representation in Parliament (Global Average) from 50's to 10's \",\n",
    "             labels=dict(women_perc='Women(%)', decade='Decade')\n",
    ")\n",
    "fig.update_layout(\n",
    "        font_family=\"Courier New\",\n",
    "        font_color=\"grey\",\n",
    "        title_font_family=\"Courier New\",\n",
    "        title_font_color=\"#1f77b4\",\n",
    "        legend_title_font_color=\"grey\",\n",
    "        autosize=False,\n",
    "        width=800,\n",
    "        height=400\n",
    "        )\n",
    "fig.show()"
   ]
  },
  {
   "cell_type": "code",
   "execution_count": 7,
   "metadata": {},
   "outputs": [
    {
     "data": {
      "application/vnd.plotly.v1+json": {
       "config": {
        "plotlyServerURL": "https://plot.ly"
       },
       "data": [
        {
         "cells": {
          "values": [
           [
            60,
            50,
            70,
            80,
            90,
            0,
            10
           ],
           [
            0.33,
            0.12,
            0.44,
            0.31,
            0.24,
            0.52,
            0.31
           ]
          ]
         },
         "header": {
          "values": [
           "Decade",
           "Percentage Increase"
          ]
         },
         "type": "table"
        }
       ],
       "layout": {
        "template": {
         "data": {
          "bar": [
           {
            "error_x": {
             "color": "#2a3f5f"
            },
            "error_y": {
             "color": "#2a3f5f"
            },
            "marker": {
             "line": {
              "color": "#E5ECF6",
              "width": 0.5
             },
             "pattern": {
              "fillmode": "overlay",
              "size": 10,
              "solidity": 0.2
             }
            },
            "type": "bar"
           }
          ],
          "barpolar": [
           {
            "marker": {
             "line": {
              "color": "#E5ECF6",
              "width": 0.5
             },
             "pattern": {
              "fillmode": "overlay",
              "size": 10,
              "solidity": 0.2
             }
            },
            "type": "barpolar"
           }
          ],
          "carpet": [
           {
            "aaxis": {
             "endlinecolor": "#2a3f5f",
             "gridcolor": "white",
             "linecolor": "white",
             "minorgridcolor": "white",
             "startlinecolor": "#2a3f5f"
            },
            "baxis": {
             "endlinecolor": "#2a3f5f",
             "gridcolor": "white",
             "linecolor": "white",
             "minorgridcolor": "white",
             "startlinecolor": "#2a3f5f"
            },
            "type": "carpet"
           }
          ],
          "choropleth": [
           {
            "colorbar": {
             "outlinewidth": 0,
             "ticks": ""
            },
            "type": "choropleth"
           }
          ],
          "contour": [
           {
            "colorbar": {
             "outlinewidth": 0,
             "ticks": ""
            },
            "colorscale": [
             [
              0,
              "#0d0887"
             ],
             [
              0.1111111111111111,
              "#46039f"
             ],
             [
              0.2222222222222222,
              "#7201a8"
             ],
             [
              0.3333333333333333,
              "#9c179e"
             ],
             [
              0.4444444444444444,
              "#bd3786"
             ],
             [
              0.5555555555555556,
              "#d8576b"
             ],
             [
              0.6666666666666666,
              "#ed7953"
             ],
             [
              0.7777777777777778,
              "#fb9f3a"
             ],
             [
              0.8888888888888888,
              "#fdca26"
             ],
             [
              1,
              "#f0f921"
             ]
            ],
            "type": "contour"
           }
          ],
          "contourcarpet": [
           {
            "colorbar": {
             "outlinewidth": 0,
             "ticks": ""
            },
            "type": "contourcarpet"
           }
          ],
          "heatmap": [
           {
            "colorbar": {
             "outlinewidth": 0,
             "ticks": ""
            },
            "colorscale": [
             [
              0,
              "#0d0887"
             ],
             [
              0.1111111111111111,
              "#46039f"
             ],
             [
              0.2222222222222222,
              "#7201a8"
             ],
             [
              0.3333333333333333,
              "#9c179e"
             ],
             [
              0.4444444444444444,
              "#bd3786"
             ],
             [
              0.5555555555555556,
              "#d8576b"
             ],
             [
              0.6666666666666666,
              "#ed7953"
             ],
             [
              0.7777777777777778,
              "#fb9f3a"
             ],
             [
              0.8888888888888888,
              "#fdca26"
             ],
             [
              1,
              "#f0f921"
             ]
            ],
            "type": "heatmap"
           }
          ],
          "heatmapgl": [
           {
            "colorbar": {
             "outlinewidth": 0,
             "ticks": ""
            },
            "colorscale": [
             [
              0,
              "#0d0887"
             ],
             [
              0.1111111111111111,
              "#46039f"
             ],
             [
              0.2222222222222222,
              "#7201a8"
             ],
             [
              0.3333333333333333,
              "#9c179e"
             ],
             [
              0.4444444444444444,
              "#bd3786"
             ],
             [
              0.5555555555555556,
              "#d8576b"
             ],
             [
              0.6666666666666666,
              "#ed7953"
             ],
             [
              0.7777777777777778,
              "#fb9f3a"
             ],
             [
              0.8888888888888888,
              "#fdca26"
             ],
             [
              1,
              "#f0f921"
             ]
            ],
            "type": "heatmapgl"
           }
          ],
          "histogram": [
           {
            "marker": {
             "pattern": {
              "fillmode": "overlay",
              "size": 10,
              "solidity": 0.2
             }
            },
            "type": "histogram"
           }
          ],
          "histogram2d": [
           {
            "colorbar": {
             "outlinewidth": 0,
             "ticks": ""
            },
            "colorscale": [
             [
              0,
              "#0d0887"
             ],
             [
              0.1111111111111111,
              "#46039f"
             ],
             [
              0.2222222222222222,
              "#7201a8"
             ],
             [
              0.3333333333333333,
              "#9c179e"
             ],
             [
              0.4444444444444444,
              "#bd3786"
             ],
             [
              0.5555555555555556,
              "#d8576b"
             ],
             [
              0.6666666666666666,
              "#ed7953"
             ],
             [
              0.7777777777777778,
              "#fb9f3a"
             ],
             [
              0.8888888888888888,
              "#fdca26"
             ],
             [
              1,
              "#f0f921"
             ]
            ],
            "type": "histogram2d"
           }
          ],
          "histogram2dcontour": [
           {
            "colorbar": {
             "outlinewidth": 0,
             "ticks": ""
            },
            "colorscale": [
             [
              0,
              "#0d0887"
             ],
             [
              0.1111111111111111,
              "#46039f"
             ],
             [
              0.2222222222222222,
              "#7201a8"
             ],
             [
              0.3333333333333333,
              "#9c179e"
             ],
             [
              0.4444444444444444,
              "#bd3786"
             ],
             [
              0.5555555555555556,
              "#d8576b"
             ],
             [
              0.6666666666666666,
              "#ed7953"
             ],
             [
              0.7777777777777778,
              "#fb9f3a"
             ],
             [
              0.8888888888888888,
              "#fdca26"
             ],
             [
              1,
              "#f0f921"
             ]
            ],
            "type": "histogram2dcontour"
           }
          ],
          "mesh3d": [
           {
            "colorbar": {
             "outlinewidth": 0,
             "ticks": ""
            },
            "type": "mesh3d"
           }
          ],
          "parcoords": [
           {
            "line": {
             "colorbar": {
              "outlinewidth": 0,
              "ticks": ""
             }
            },
            "type": "parcoords"
           }
          ],
          "pie": [
           {
            "automargin": true,
            "type": "pie"
           }
          ],
          "scatter": [
           {
            "marker": {
             "colorbar": {
              "outlinewidth": 0,
              "ticks": ""
             }
            },
            "type": "scatter"
           }
          ],
          "scatter3d": [
           {
            "line": {
             "colorbar": {
              "outlinewidth": 0,
              "ticks": ""
             }
            },
            "marker": {
             "colorbar": {
              "outlinewidth": 0,
              "ticks": ""
             }
            },
            "type": "scatter3d"
           }
          ],
          "scattercarpet": [
           {
            "marker": {
             "colorbar": {
              "outlinewidth": 0,
              "ticks": ""
             }
            },
            "type": "scattercarpet"
           }
          ],
          "scattergeo": [
           {
            "marker": {
             "colorbar": {
              "outlinewidth": 0,
              "ticks": ""
             }
            },
            "type": "scattergeo"
           }
          ],
          "scattergl": [
           {
            "marker": {
             "colorbar": {
              "outlinewidth": 0,
              "ticks": ""
             }
            },
            "type": "scattergl"
           }
          ],
          "scattermapbox": [
           {
            "marker": {
             "colorbar": {
              "outlinewidth": 0,
              "ticks": ""
             }
            },
            "type": "scattermapbox"
           }
          ],
          "scatterpolar": [
           {
            "marker": {
             "colorbar": {
              "outlinewidth": 0,
              "ticks": ""
             }
            },
            "type": "scatterpolar"
           }
          ],
          "scatterpolargl": [
           {
            "marker": {
             "colorbar": {
              "outlinewidth": 0,
              "ticks": ""
             }
            },
            "type": "scatterpolargl"
           }
          ],
          "scatterternary": [
           {
            "marker": {
             "colorbar": {
              "outlinewidth": 0,
              "ticks": ""
             }
            },
            "type": "scatterternary"
           }
          ],
          "surface": [
           {
            "colorbar": {
             "outlinewidth": 0,
             "ticks": ""
            },
            "colorscale": [
             [
              0,
              "#0d0887"
             ],
             [
              0.1111111111111111,
              "#46039f"
             ],
             [
              0.2222222222222222,
              "#7201a8"
             ],
             [
              0.3333333333333333,
              "#9c179e"
             ],
             [
              0.4444444444444444,
              "#bd3786"
             ],
             [
              0.5555555555555556,
              "#d8576b"
             ],
             [
              0.6666666666666666,
              "#ed7953"
             ],
             [
              0.7777777777777778,
              "#fb9f3a"
             ],
             [
              0.8888888888888888,
              "#fdca26"
             ],
             [
              1,
              "#f0f921"
             ]
            ],
            "type": "surface"
           }
          ],
          "table": [
           {
            "cells": {
             "fill": {
              "color": "#EBF0F8"
             },
             "line": {
              "color": "white"
             }
            },
            "header": {
             "fill": {
              "color": "#C8D4E3"
             },
             "line": {
              "color": "white"
             }
            },
            "type": "table"
           }
          ]
         },
         "layout": {
          "annotationdefaults": {
           "arrowcolor": "#2a3f5f",
           "arrowhead": 0,
           "arrowwidth": 1
          },
          "autotypenumbers": "strict",
          "coloraxis": {
           "colorbar": {
            "outlinewidth": 0,
            "ticks": ""
           }
          },
          "colorscale": {
           "diverging": [
            [
             0,
             "#8e0152"
            ],
            [
             0.1,
             "#c51b7d"
            ],
            [
             0.2,
             "#de77ae"
            ],
            [
             0.3,
             "#f1b6da"
            ],
            [
             0.4,
             "#fde0ef"
            ],
            [
             0.5,
             "#f7f7f7"
            ],
            [
             0.6,
             "#e6f5d0"
            ],
            [
             0.7,
             "#b8e186"
            ],
            [
             0.8,
             "#7fbc41"
            ],
            [
             0.9,
             "#4d9221"
            ],
            [
             1,
             "#276419"
            ]
           ],
           "sequential": [
            [
             0,
             "#0d0887"
            ],
            [
             0.1111111111111111,
             "#46039f"
            ],
            [
             0.2222222222222222,
             "#7201a8"
            ],
            [
             0.3333333333333333,
             "#9c179e"
            ],
            [
             0.4444444444444444,
             "#bd3786"
            ],
            [
             0.5555555555555556,
             "#d8576b"
            ],
            [
             0.6666666666666666,
             "#ed7953"
            ],
            [
             0.7777777777777778,
             "#fb9f3a"
            ],
            [
             0.8888888888888888,
             "#fdca26"
            ],
            [
             1,
             "#f0f921"
            ]
           ],
           "sequentialminus": [
            [
             0,
             "#0d0887"
            ],
            [
             0.1111111111111111,
             "#46039f"
            ],
            [
             0.2222222222222222,
             "#7201a8"
            ],
            [
             0.3333333333333333,
             "#9c179e"
            ],
            [
             0.4444444444444444,
             "#bd3786"
            ],
            [
             0.5555555555555556,
             "#d8576b"
            ],
            [
             0.6666666666666666,
             "#ed7953"
            ],
            [
             0.7777777777777778,
             "#fb9f3a"
            ],
            [
             0.8888888888888888,
             "#fdca26"
            ],
            [
             1,
             "#f0f921"
            ]
           ]
          },
          "colorway": [
           "#636efa",
           "#EF553B",
           "#00cc96",
           "#ab63fa",
           "#FFA15A",
           "#19d3f3",
           "#FF6692",
           "#B6E880",
           "#FF97FF",
           "#FECB52"
          ],
          "font": {
           "color": "#2a3f5f"
          },
          "geo": {
           "bgcolor": "white",
           "lakecolor": "white",
           "landcolor": "#E5ECF6",
           "showlakes": true,
           "showland": true,
           "subunitcolor": "white"
          },
          "hoverlabel": {
           "align": "left"
          },
          "hovermode": "closest",
          "mapbox": {
           "style": "light"
          },
          "paper_bgcolor": "white",
          "plot_bgcolor": "#E5ECF6",
          "polar": {
           "angularaxis": {
            "gridcolor": "white",
            "linecolor": "white",
            "ticks": ""
           },
           "bgcolor": "#E5ECF6",
           "radialaxis": {
            "gridcolor": "white",
            "linecolor": "white",
            "ticks": ""
           }
          },
          "scene": {
           "xaxis": {
            "backgroundcolor": "#E5ECF6",
            "gridcolor": "white",
            "gridwidth": 2,
            "linecolor": "white",
            "showbackground": true,
            "ticks": "",
            "zerolinecolor": "white"
           },
           "yaxis": {
            "backgroundcolor": "#E5ECF6",
            "gridcolor": "white",
            "gridwidth": 2,
            "linecolor": "white",
            "showbackground": true,
            "ticks": "",
            "zerolinecolor": "white"
           },
           "zaxis": {
            "backgroundcolor": "#E5ECF6",
            "gridcolor": "white",
            "gridwidth": 2,
            "linecolor": "white",
            "showbackground": true,
            "ticks": "",
            "zerolinecolor": "white"
           }
          },
          "shapedefaults": {
           "line": {
            "color": "#2a3f5f"
           }
          },
          "ternary": {
           "aaxis": {
            "gridcolor": "white",
            "linecolor": "white",
            "ticks": ""
           },
           "baxis": {
            "gridcolor": "white",
            "linecolor": "white",
            "ticks": ""
           },
           "bgcolor": "#E5ECF6",
           "caxis": {
            "gridcolor": "white",
            "linecolor": "white",
            "ticks": ""
           }
          },
          "title": {
           "x": 0.05
          },
          "xaxis": {
           "automargin": true,
           "gridcolor": "white",
           "linecolor": "white",
           "ticks": "",
           "title": {
            "standoff": 15
           },
           "zerolinecolor": "white",
           "zerolinewidth": 2
          },
          "yaxis": {
           "automargin": true,
           "gridcolor": "white",
           "linecolor": "white",
           "ticks": "",
           "title": {
            "standoff": 15
           },
           "zerolinecolor": "white",
           "zerolinewidth": 2
          }
         }
        }
       }
      }
     },
     "metadata": {},
     "output_type": "display_data"
    }
   ],
   "source": [
    "\n",
    "# Calculate percentage increase on mean global participation averaged by decade\n",
    "df_dec_avg = pd.DataFrame(df_avg_year.groupby(['decade'])['women_perc'].median())\n",
    "df_dec_avg = df_dec_avg.sort_values('women_perc')\n",
    "df_dec_avg['perc_change'] = round( df_dec_avg['women_perc'].pct_change(), 2)\n",
    "\n",
    "# Plot table\n",
    "fig = go.Figure(data=[go.Table(header=dict(values=['Decade', 'Percentage Increase']),\n",
    "                 cells=dict(values=[df_dec_avg.index[1:], df_dec_avg['perc_change'].iloc[1:]]))\n",
    "                     ])\n",
    "fig.show()"
   ]
  },
  {
   "cell_type": "markdown",
   "metadata": {},
   "source": [
    "As shown in the graphs above, this historical tendency of under-representation still persists, although women's percentage in national parliaments is increasing. In the 50's and 60's, women accounted only for 5% or 6% of parliament members around the world with late 70's showing a grow in participation; almost double figures for certain years. 80's and 90's followed the same upward trend with the proportion of women reaching or exceeding 1% of total. Undoubtly, from early 2000 onwards there was an impressive rise of women in national parliaments with the global average nearly doubling, reaching almost 25% in the recent years."
   ]
  },
  {
   "cell_type": "markdown",
   "metadata": {},
   "source": [
    "### Yearly Participation by Region \n",
    "\n",
    "Only certain countries included"
   ]
  },
  {
   "cell_type": "code",
   "execution_count": 12,
   "metadata": {},
   "outputs": [],
   "source": [
    "import plotly.io as pio\n",
    "pio.renderers.default = \"browser\"\n",
    "\n",
    "# read data\n",
    "df = pd.read_csv('./data/barchart.csv')\n",
    "\n",
    "\n",
    "fig = px.bar(df, x=\"region\", y=\"women_perc\", \n",
    "            color=\"region\",\n",
    "            animation_frame=\"year\", animation_group=\"country\", \n",
    "            range_y=[0,15],hover_name=\"country\",)\n",
    "fig.show()"
   ]
  },
  {
   "cell_type": "markdown",
   "metadata": {},
   "source": [
    "### Yearly Average Participation by Country"
   ]
  },
  {
   "cell_type": "code",
   "execution_count": 9,
   "metadata": {},
   "outputs": [
    {
     "data": {
      "application/vnd.plotly.v1+json": {
       "config": {
        "plotlyServerURL": "https://plot.ly"
       },
       "data": [
        {
         "hovertemplate": "Country=%{x}<br>Women (%)=%{y}<br>Year=%{marker.color}<extra></extra>",
         "legendgroup": "",
         "marker": {
          "color": [
           1965,
           1969,
           1988,
           2005,
           2010,
           2018,
           1945,
           1950,
           1954,
           1958,
           1962,
           1966,
           1970,
           1974,
           1978,
           1982,
           1987,
           1991,
           1992,
           1996,
           2001,
           2005,
           2009,
           2013,
           2017,
           1962,
           1964,
           1977,
           1982,
           1987,
           1997,
           2002,
           2002,
           2007,
           2007,
           2012,
           2017,
           1993,
           2001,
           2001,
           2005,
           2009,
           2009,
           2011,
           2011,
           2015,
           1980,
           1986,
           1992,
           2008,
           2012,
           2017,
           1984,
           1989,
           1994,
           1999,
           2004,
           2009,
           2014,
           2018,
           1946,
           1948,
           1951,
           1955,
           1958,
           1960,
           1963,
           1965,
           1973,
           1983,
           1985,
           1987,
           1989,
           1991,
           1992,
           1995,
           1997,
           1999,
           2001,
           2005,
           2007,
           2009,
           2009,
           2011,
           2013,
           2015,
           2017,
           1990,
           1995,
           1999,
           2003,
           2007,
           2007,
           2012,
           2017,
           2018,
           1946,
           1949,
           1951,
           1954,
           1955,
           1958,
           1961,
           1963,
           1966,
           1969,
           1972,
           1974,
           1975,
           1977,
           1980,
           1983,
           1984,
           1987,
           1990,
           1993,
           1996,
           1998,
           2001,
           2004,
           2007,
           2010,
           2013,
           2016,
           2016,
           1945,
           1949,
           1953,
           1956,
           1959,
           1962,
           1966,
           1970,
           1971,
           1975,
           1979,
           1983,
           1986,
           1990,
           1994,
           1995,
           1999,
           2002,
           2006,
           2008,
           2013,
           2013,
           2017,
           2018,
           1990,
           1996,
           2000,
           2004,
           2004,
           2008,
           2012,
           2016,
           1946,
           1949,
           1950,
           1954,
           1958,
           1961,
           1965,
           1968,
           1971,
           1974,
           1977,
           1978,
           1981,
           1985,
           1987,
           1991,
           1995,
           1999,
           1999,
           1999,
           2003,
           2007,
           2010,
           2014,
           1984,
           1989,
           1993,
           1998,
           2003,
           2008,
           2012,
           2015,
           1960,
           1964,
           1979,
           1984,
           1989,
           1991,
           1995,
           1999,
           2003,
           2007,
           2011,
           2015,
           1953,
           2008,
           2013,
           2018,
           1951,
           1956,
           1958,
           1960,
           1961,
           1962,
           1963,
           1966,
           1979,
           1980,
           1985,
           1989,
           1993,
           1997,
           2002,
           2005,
           2009,
           2014,
           1990,
           1998,
           2000,
           2002,
           2006,
           2010,
           2014,
           2018,
           1965,
           1969,
           1974,
           1979,
           1984,
           1989,
           1994,
           1999,
           2004,
           2009,
           2014,
           1945,
           1950,
           1954,
           1958,
           1962,
           1966,
           1970,
           1974,
           1978,
           1982,
           1986,
           1990,
           1994,
           1998,
           2002,
           2003,
           2006,
           2010,
           2014,
           2018,
           2016,
           2017,
           1945,
           1946,
           1949,
           1953,
           1957,
           1962,
           1966,
           1971,
           1976,
           1981,
           1986,
           1990,
           1991,
           1994,
           1997,
           2001,
           2005,
           2009,
           2013,
           2014,
           2017,
           2013,
           1970,
           1978,
           1992,
           2002,
           2003,
           2007,
           2012,
           2015,
           1961,
           1965,
           1982,
           1993,
           2005,
           2010,
           2015,
           1975,
           1980,
           1985,
           1991,
           1995,
           2001,
           2006,
           2011,
           2016,
           2016,
           1955,
           1958,
           1962,
           1966,
           1972,
           1976,
           1981,
           1986,
           1987,
           1993,
           1998,
           2003,
           2008,
           2013,
           2018,
           1960,
           1962,
           1964,
           1970,
           1973,
           1978,
           1983,
           1988,
           1992,
           1997,
           1997,
           2002,
           2007,
           2007,
           1945,
           1949,
           1953,
           1957,
           1958,
           1962,
           1963,
           1965,
           1968,
           1972,
           1974,
           1979,
           1980,
           1984,
           1988,
           1993,
           1997,
           2000,
           2000,
           2004,
           2006,
           2008,
           2011,
           2015,
           1966,
           1968,
           1970,
           1974,
           1978,
           1982,
           1986,
           1990,
           1991,
           1994,
           1998,
           2002,
           2006,
           2010,
           2014,
           2018,
           1978,
           1982,
           1987,
           1993,
           1996,
           2004,
           2009,
           2015,
           1959,
           1963,
           1973,
           1979,
           1984,
           1989,
           1992,
           1993,
           2002,
           2007,
           2008,
           2012,
           2017,
           1949,
           1953,
           1958,
           1962,
           1966,
           1970,
           1974,
           1978,
           1982,
           1986,
           1990,
           1994,
           1998,
           2002,
           2002,
           2006,
           2010,
           2014,
           2018,
           1960,
           1965,
           1970,
           1975,
           1980,
           1985,
           1990,
           1995,
           2000,
           2011,
           2016,
           1992,
           1995,
           2000,
           2003,
           2007,
           2011,
           2015,
           2016,
           2016,
           1948,
           1958,
           1976,
           1981,
           1986,
           1993,
           1998,
           2003,
           2008,
           2013,
           2013,
           2018,
           1960,
           1970,
           1976,
           1981,
           1985,
           1991,
           1996,
           2001,
           2006,
           2011,
           2016,
           2016,
           2016,
           1996,
           1998,
           2002,
           2004,
           2006,
           2010,
           2013,
           2013,
           2017,
           1948,
           1954,
           1960,
           1964,
           1971,
           1976,
           1981,
           1986,
           1990,
           1957,
           1962,
           1967,
           1972,
           1977,
           1982,
           1986,
           1990,
           1998,
           2003,
           2008,
           2014,
           1960,
           1965,
           1970,
           1975,
           1977,
           1982,
           1987,
           1992,
           1994,
           2003,
           2006,
           2011,
           2018,
           1945,
           1947,
           1950,
           1953,
           1953,
           1957,
           1960,
           1964,
           1966,
           1968,
           1971,
           1973,
           1975,
           1977,
           1979,
           1981,
           1984,
           1987,
           1988,
           1990,
           1994,
           1998,
           2001,
           2005,
           2007,
           2011,
           2015,
           1977,
           1982,
           1987,
           1992,
           1997,
           2003,
           2008,
           2013,
           2013,
           2018,
           1980,
           1985,
           1990,
           1995,
           2000,
           2005,
           2009,
           2010,
           2014,
           1947,
           1952,
           1957,
           1962,
           1966,
           1970,
           1974,
           1978,
           1982,
           1986,
           1990,
           1994,
           1998,
           2002,
           2002,
           2006,
           2010,
           2016,
           2016,
           1948,
           1952,
           1960,
           1968,
           1979,
           1984,
           1986,
           1988,
           1990,
           1992,
           1994,
           1998,
           2002,
           2006,
           2009,
           2013,
           2017,
           2013,
           1950,
           1957,
           1960,
           1964,
           1969,
           1971,
           1976,
           1979,
           1984,
           1987,
           1990,
           1995,
           2000,
           2005,
           2010,
           2011,
           2015,
           1964,
           1966,
           1968,
           1970,
           1972,
           1974,
           1976,
           1978,
           1983,
           1985,
           1988,
           1991,
           1994,
           1997,
           2000,
           2003,
           2006,
           2009,
           2012,
           2015,
           2018,
           1968,
           1983,
           1988,
           1993,
           1999,
           2004,
           2004,
           2004,
           2004,
           2008,
           2013,
           2017,
           1994,
           1990,
           1992,
           1995,
           1999,
           2003,
           2007,
           2007,
           2007,
           2011,
           2015,
           1972,
           1978,
           1983,
           1987,
           1993,
           1998,
           2003,
           2008,
           2008,
           2013,
           2018,
           1957,
           1962,
           1973,
           1987,
           1995,
           2000,
           2005,
           2005,
           2010,
           2015,
           1972,
           1977,
           1982,
           1987,
           1992,
           1994,
           1999,
           1999,
           2001,
           2006,
           2014,
           2018,
           1945,
           1954,
           1962,
           1966,
           1970,
           1972,
           1975,
           1979,
           1983,
           1987,
           1991,
           1995,
           1999,
           2003,
           2007,
           2007,
           2011,
           2015,
           1945,
           1946,
           1946,
           1951,
           1956,
           1958,
           1962,
           1967,
           1968,
           1973,
           1978,
           1981,
           1986,
           1988,
           1993,
           1997,
           2002,
           2002,
           2007,
           2011,
           2012,
           2017,
           1961,
           1964,
           1967,
           1973,
           1980,
           1985,
           1990,
           1996,
           2001,
           2006,
           2011,
           2018,
           1966,
           1972,
           1977,
           1982,
           1987,
           1992,
           1997,
           2002,
           2007,
           2012,
           2017,
           1990,
           1992,
           1995,
           1999,
           2004,
           2004,
           2008,
           2012,
           2016,
           2016,
           2016,
           1990,
           1994,
           1998,
           2002,
           2005,
           2009,
           2013,
           2013,
           2013,
           2017,
           1950,
           1954,
           1958,
           1963,
           1967,
           1971,
           1976,
           1981,
           1986,
           1990,
           1949,
           1953,
           1957,
           1961,
           1965,
           1969,
           1972,
           1976,
           1980,
           1983,
           1987,
           1956,
           1960,
           1965,
           1969,
           1979,
           1992,
           1996,
           2000,
           2004,
           2008,
           2016,
           2012,
           1946,
           1950,
           1951,
           1952,
           1956,
           1958,
           1961,
           1963,
           1964,
           1974,
           1977,
           1981,
           1985,
           1989,
           1989,
           1990,
           1993,
           1996,
           2000,
           2004,
           2007,
           2007,
           2009,
           2012,
           2015,
           1972,
           1976,
           1984,
           1990,
           1995,
           1999,
           2003,
           2008,
           2018,
           1954,
           1955,
           1958,
           1966,
           1970,
           1974,
           1978,
           1982,
           1985,
           1990,
           1994,
           1995,
           1999,
           2003,
           2007,
           2011,
           2015,
           1963,
           1968,
           1974,
           1980,
           1995,
           2002,
           2013,
           1972,
           1976,
           1984,
           1989,
           1994,
           1999,
           2004,
           2008,
           2014,
           1964,
           1968,
           1973,
           1980,
           1985,
           1992,
           1997,
           2001,
           2006,
           2011,
           2015,
           1946,
           1950,
           1950,
           1950,
           1955,
           1957,
           1961,
           1967,
           1973,
           1979,
           1984,
           1988,
           1990,
           1995,
           2000,
           2007,
           2010,
           2015,
           1949,
           1954,
           1957,
           1971,
           1981,
           1985,
           1989,
           1993,
           1997,
           2001,
           2005,
           2009,
           2013,
           2017,
           1945,
           1947,
           1949,
           1953,
           1958,
           1963,
           1967,
           1971,
           1975,
           1980,
           1985,
           1990,
           1994,
           1998,
           2002,
           2002,
           2006,
           2010,
           2014,
           2018,
           1946,
           1949,
           1953,
           1956,
           1959,
           1959,
           1963,
           1967,
           1971,
           1974,
           1978,
           1979,
           1983,
           1987,
           1991,
           1995,
           1999,
           2003,
           2007,
           2007,
           2009,
           2013,
           2016,
           2016,
           2017,
           1951,
           1957,
           1962,
           1967,
           1971,
           1977,
           1980,
           1984,
           1989,
           1991,
           1996,
           1998,
           1999,
           2004,
           2009,
           2014,
           2015,
           1950,
           1950,
           1955,
           1959,
           1960,
           1966,
           1968,
           1971,
           1977,
           1982,
           1987,
           1992,
           1997,
           1999,
           2004,
           2009,
           2009,
           2014,
           1947,
           1949,
           1950,
           1954,
           1963,
           1967,
           1971,
           1975,
           1980,
           1984,
           1988,
           1992,
           1996,
           2000,
           2004,
           2008,
           2012,
           2016,
           2016,
           1948,
           1953,
           1954,
           1954,
           1958,
           1980,
           1984,
           1989,
           1996,
           2000,
           2005,
           2010,
           2014,
           2014,
           2018,
           1948,
           1951,
           1954,
           1957,
           1961,
           1965,
           1969,
           1973,
           1977,
           1981,
           1982,
           1987,
           1989,
           1992,
           1997,
           1997,
           2002,
           2002,
           2007,
           2011,
           2011,
           2016,
           1949,
           1951,
           1955,
           1959,
           1961,
           1965,
           1969,
           1973,
           1977,
           1981,
           1984,
           1988,
           1992,
           1999,
           2003,
           2006,
           2009,
           2013,
           2013,
           2015,
           2015,
           2015,
           2015,
           2015,
           1948,
           1953,
           1958,
           1963,
           1968,
           1972,
           1976,
           1979,
           1983,
           1987,
           1992,
           1994,
           1996,
           2001,
           2006,
           2008,
           2013,
           2013,
           2018,
           1967,
           1972,
           1976,
           1980,
           1983,
           1989,
           1993,
           1997,
           2002,
           2007,
           2011,
           2016,
           2016,
           1946,
           1947,
           1949,
           1952,
           1953,
           1955,
           1958,
           1960,
           1963,
           1967,
           1969,
           1972,
           1976,
           1979,
           1980,
           1983,
           1986,
           1990,
           1993,
           1996,
           2000,
           2003,
           2005,
           2005,
           2009,
           2012,
           2014,
           1946,
           1950,
           1951,
           1955,
           1961,
           1962,
           1963,
           1967,
           1989,
           1993,
           1997,
           1997,
           2003,
           2007,
           2010,
           2013,
           2013,
           2016,
           2016,
           1990,
           1994,
           1995,
           1999,
           1999,
           2004,
           2007,
           2012,
           2016,
           2016,
           1963,
           1969,
           1974,
           1979,
           1983,
           1988,
           1992,
           1997,
           2002,
           2007,
           2013,
           2017,
           1978,
           1982,
           1983,
           1987,
           1991,
           1994,
           1998,
           2002,
           2003,
           2007,
           2011,
           2015,
           1962,
           1967,
           1971,
           1975,
           1981,
           1985,
           1990,
           1992,
           1999,
           2003,
           2006,
           2008,
           2009,
           2012,
           2012,
           2012,
           2013,
           2016,
           2016,
           1990,
           1995,
           2000,
           2005,
           2007,
           2010,
           2015,
           1955,
           1960,
           1965,
           1967,
           1972,
           1975,
           1989,
           1992,
           1997,
           2002,
           2006,
           2011,
           2016,
           1990,
           1993,
           1998,
           2002,
           2006,
           2010,
           2011,
           2014,
           2018,
           1947,
           1953,
           1957,
           1960,
           1965,
           1968,
           1972,
           1992,
           1996,
           2000,
           2005,
           2009,
           2018,
           1965,
           1985,
           1990,
           1993,
           1998,
           2002,
           2007,
           2012,
           2015,
           2017,
           1971,
           1975,
           1985,
           1997,
           2004,
           2005,
           2011,
           2017,
           2012,
           2014,
           1952,
           1964,
           1965,
           1976,
           1990,
           1994,
           1997,
           2003,
           2006,
           1986,
           1989,
           1993,
           1993,
           1997,
           2001,
           2005,
           2009,
           2013,
           2017,
           1990,
           1992,
           1996,
           2000,
           2004,
           2008,
           2012,
           2016,
           2016,
           1945,
           1948,
           1951,
           1954,
           1959,
           1964,
           1968,
           1974,
           1979,
           1984,
           1989,
           1994,
           1999,
           2004,
           2009,
           2013,
           2018,
           1960,
           1965,
           1970,
           1977,
           1983,
           1989,
           1993,
           1998,
           2002,
           2007,
           2010,
           2013,
           1971,
           1976,
           1978,
           1983,
           1987,
           1992,
           1994,
           1999,
           2004,
           2009,
           2014,
           1959,
           1964,
           1969,
           1974,
           1978,
           1982,
           1986,
           1990,
           1995,
           1999,
           2004,
           2008,
           2013,
           2018,
           1979,
           1984,
           1989,
           1995,
           1999,
           2005,
           2009,
           2014,
           1964,
           1979,
           1982,
           1985,
           1988,
           1992,
           1997,
           2002,
           2007,
           2013,
           1966,
           1971,
           1976,
           1981,
           1987,
           1992,
           1998,
           2003,
           2008,
           2013,
           2017,
           1991,
           1999,
           2003,
           2007,
           2011,
           2015,
           1965,
           1971,
           1975,
           1992,
           1996,
           2001,
           2006,
           2013,
           2018,
           1967,
           1976,
           1982,
           1983,
           1987,
           1991,
           1995,
           2000,
           2005,
           2010,
           2014,
           1952,
           1955,
           1958,
           1961,
           1964,
           1967,
           1970,
           1973,
           1976,
           1979,
           1982,
           1985,
           1988,
           1991,
           1994,
           1997,
           2000,
           2003,
           2006,
           2006,
           2009,
           2012,
           2015,
           2018,
           1993,
           1995,
           1999,
           2005,
           2007,
           2009,
           2011,
           2013,
           2015,
           2017,
           1963,
           1968,
           1974,
           1979,
           1984,
           1988,
           1993,
           1998,
           2003,
           2008,
           2013,
           2018,
           1951,
           1954,
           1957,
           1960,
           1963,
           1966,
           1969,
           1973,
           1977,
           1981,
           1986,
           1990,
           1992,
           1996,
           2000,
           2004,
           2008,
           2008,
           2008,
           2008,
           2012,
           2016,
           2016,
           2006,
           2009,
           2009,
           2012,
           2016,
           2016,
           1963,
           1970,
           1977,
           1984,
           1993,
           1997,
           2002,
           2007,
           2011,
           2011,
           2016,
           2016,
           1977,
           1982,
           1986,
           1994,
           1999,
           2004,
           2009,
           2014,
           1952,
           1956,
           1960,
           1974,
           1978,
           1981,
           1985,
           1990,
           2010,
           2015,
           1995,
           1999,
           2004,
           2009,
           2014,
           1968,
           1971,
           1973,
           1976,
           1977,
           1980,
           1983,
           1986,
           1987,
           1989,
           1992,
           1995,
           1997,
           2000,
           2003,
           2004,
           2007,
           2008,
           2010,
           2010,
           2013,
           2016,
           1959,
           1962,
           1963,
           1964,
           1965,
           1966,
           1967,
           1968,
           1969,
           1970,
           1971,
           1972,
           1973,
           1974,
           1975,
           1976,
           1977,
           1978,
           1979,
           1980,
           1981,
           1982,
           1983,
           1984,
           1985,
           1986,
           1987,
           1988,
           1991,
           1994,
           1999,
           2007,
           2008,
           2008,
           2008,
           2013,
           1946,
           1948,
           1952,
           1956,
           1956,
           1959,
           1963,
           1967,
           1971,
           1972,
           1977,
           1981,
           1982,
           1986,
           1989,
           1994,
           1998,
           2002,
           2003,
           2006,
           2010,
           2012,
           2017,
           1946,
           1949,
           1951,
           1954,
           1957,
           1960,
           1963,
           1966,
           1969,
           1972,
           1975,
           1978,
           1981,
           1984,
           1987,
           1990,
           1993,
           1996,
           1999,
           2002,
           2005,
           2008,
           2011,
           2014,
           2017,
           1948,
           1950,
           1967,
           1974,
           1979,
           1990,
           1996,
           2001,
           2006,
           2011,
           2016,
           2016,
           1958,
           1965,
           1970,
           1989,
           1993,
           1995,
           1996,
           1999,
           2004,
           2009,
           2011,
           2016,
           2016,
           1965,
           1979,
           1983,
           1992,
           1999,
           2003,
           2007,
           2011,
           2015,
           2015,
           1945,
           1949,
           1953,
           1957,
           1961,
           1965,
           1969,
           1973,
           1977,
           1981,
           1985,
           1989,
           1993,
           1996,
           1997,
           2001,
           2005,
           2009,
           2013,
           2017,
           2003,
           2007,
           2011,
           2015,
           1973,
           1977,
           1985,
           1988,
           1990,
           1993,
           1997,
           2002,
           2002,
           2008,
           2013,
           2018,
           1992,
           1996,
           2000,
           2004,
           2008,
           2012,
           2016,
           2016,
           1946,
           1948,
           1952,
           1956,
           1960,
           1964,
           1968,
           1972,
           1978,
           1980,
           1982,
           1984,
           1989,
           1994,
           1999,
           2004,
           2009,
           2014,
           1977,
           1982,
           1987,
           1992,
           1997,
           1997,
           2002,
           2007,
           2012,
           2017,
           1948,
           1950,
           1953,
           1958,
           1960,
           1963,
           1967,
           1968,
           1973,
           1978,
           1983,
           1988,
           1989,
           1993,
           1998,
           2003,
           2008,
           2013,
           2018,
           1945,
           1950,
           1956,
           1962,
           1963,
           1980,
           1985,
           1990,
           1995,
           2000,
           2001,
           2002,
           2006,
           2011,
           2016,
           2016,
           2016,
           1946,
           1949,
           1953,
           1957,
           1961,
           1965,
           1969,
           1978,
           1984,
           1987,
           1992,
           1995,
           1998,
           2001,
           2004,
           2007,
           2007,
           2010,
           2013,
           2016,
           2016,
           1947,
           1952,
           1957,
           1961,
           1965,
           1969,
           1972,
           1976,
           1980,
           1985,
           1989,
           1991,
           1993,
           1997,
           2001,
           2005,
           2007,
           2011,
           2015,
           1945,
           1949,
           1953,
           1957,
           1961,
           1965,
           1969,
           1973,
           1976,
           1979,
           1980,
           1983,
           1985,
           1987,
           1991,
           1995,
           1999,
           2002,
           2005,
           2009,
           2011,
           2015,
           1948,
           1950,
           1954,
           1958,
           1960,
           1963,
           1967,
           1971,
           1973,
           1978,
           1981,
           1985,
           1988,
           1992,
           1996,
           2000,
           2000,
           2000,
           2004,
           2004,
           2008,
           2012,
           2016,
           2016,
           1990,
           1994,
           1998,
           2001,
           2005,
           2009,
           2009,
           2009,
           2010,
           2014,
           1946,
           1948,
           1952,
           1957,
           1961,
           1965,
           1969,
           1975,
           1980,
           1985,
           1990,
           1992,
           1996,
           2000,
           2004,
           2008,
           2012,
           2016,
           1990,
           1993,
           1999,
           2003,
           2007,
           2011,
           2016,
           2016,
           1965,
           1969,
           1981,
           1983,
           1988,
           1994,
           2003,
           2008,
           2013,
           2013,
           2018,
           1984,
           1989,
           1993,
           1995,
           2000,
           2004,
           2010,
           2015,
           1979,
           1982,
           1987,
           1992,
           1997,
           1997,
           2001,
           2006,
           2006,
           2011,
           2016,
           2016,
           1979,
           1984,
           1989,
           1994,
           1998,
           2001,
           2005,
           2010,
           2015,
           1964,
           1967,
           1970,
           1973,
           1976,
           1979,
           1982,
           1985,
           1988,
           1991,
           1996,
           2001,
           2006,
           2011,
           2016,
           1945,
           1949,
           1951,
           1955,
           1959,
           1964,
           1969,
           1974,
           1978,
           1983,
           1988,
           1993,
           1998,
           2001,
           2006,
           2008,
           2012,
           2016,
           1975,
           1980,
           1985,
           1991,
           1994,
           1998,
           2002,
           2006,
           2010,
           2014,
           2018,
           2013,
           2016,
           1960,
           1963,
           1968,
           1973,
           1978,
           1983,
           1988,
           1993,
           1998,
           2001,
           2007,
           2012,
           2017,
           2007,
           2008,
           2012,
           2014,
           2016,
           2003,
           1974,
           1979,
           1983,
           1987,
           1991,
           1993,
           1998,
           2002,
           2007,
           2011,
           2016,
           2011,
           2016,
           1962,
           1967,
           1973,
           1977,
           1982,
           1986,
           1996,
           2002,
           2007,
           2007,
           2012,
           2018,
           1963,
           1968,
           1972,
           1976,
           1980,
           1984,
           1988,
           1991,
           1997,
           2001,
           2006,
           2011,
           2015,
           1992,
           1994,
           1998,
           2002,
           2002,
           2006,
           2010,
           2012,
           2016,
           2016,
           1992,
           1996,
           2000,
           2000,
           2004,
           2008,
           2011,
           2014,
           2018,
           1980,
           1984,
           1989,
           1993,
           1997,
           2001,
           2006,
           2010,
           2014,
           1960,
           1964,
           1969,
           1979,
           1984,
           2004,
           2012,
           1948,
           1953,
           1958,
           1961,
           1966,
           1970,
           1974,
           1977,
           1981,
           1994,
           1999,
           2004,
           2004,
           2009,
           2009,
           2014,
           2014,
           2011,
           2016,
           2016,
           1946,
           1949,
           1952,
           1955,
           1958,
           1961,
           1964,
           1967,
           1971,
           1977,
           1979,
           1982,
           1986,
           1989,
           1993,
           1996,
           2000,
           2004,
           2008,
           2011,
           2015,
           2016,
           1947,
           1952,
           1956,
           1960,
           1965,
           1970,
           1977,
           1989,
           1994,
           2000,
           2001,
           2004,
           2010,
           2015,
           1954,
           1962,
           1972,
           1974,
           1978,
           1980,
           1982,
           1996,
           2000,
           2005,
           2010,
           2015,
           1977,
           1987,
           1991,
           1996,
           2000,
           2005,
           2010,
           2015,
           1948,
           1952,
           1956,
           1960,
           1964,
           1968,
           1970,
           1973,
           1976,
           1979,
           1982,
           1985,
           1988,
           1991,
           1994,
           1998,
           2002,
           2002,
           2006,
           2010,
           2014,
           2018,
           1971,
           1975,
           1979,
           1983,
           1987,
           1991,
           1995,
           1999,
           2003,
           2007,
           2011,
           2015,
           1947,
           1949,
           1953,
           1960,
           1961,
           1973,
           1977,
           1981,
           1986,
           1990,
           1994,
           1998,
           2003,
           2007,
           2012,
           2016,
           2016,
           1990,
           1995,
           2000,
           2000,
           2005,
           2010,
           2015,
           1945,
           1946,
           1946,
           1948,
           1952,
           1957,
           1957,
           1969,
           1972,
           1973,
           1975,
           1976,
           1979,
           1983,
           1986,
           1988,
           1991,
           1992,
           1995,
           1996,
           2001,
           2005,
           2007,
           2011,
           2014,
           1990,
           1994,
           1998,
           2002,
           2006,
           2008,
           2008,
           2011,
           2014,
           2016,
           2007,
           2007,
           2012,
           2017,
           2018,
           1961,
           1963,
           1979,
           1985,
           1990,
           1991,
           1994,
           1999,
           2002,
           2007,
           2007,
           2007,
           2013,
           2018,
           1975,
           1978,
           1981,
           1984,
           1987,
           1990,
           1993,
           1996,
           1999,
           2002,
           2005,
           2008,
           2010,
           2014,
           1962,
           1966,
           1971,
           1976,
           1981,
           1986,
           1991,
           1995,
           2000,
           2001,
           2002,
           2007,
           2010,
           2015,
           1959,
           1964,
           1969,
           1974,
           1979,
           1981,
           1986,
           1989,
           1994,
           1999,
           2004,
           2009,
           2011,
           2011,
           2014,
           1946,
           1950,
           1954,
           1957,
           1961,
           1965,
           1969,
           1973,
           1977,
           1983,
           1987,
           1991,
           1995,
           1999,
           2002,
           2007,
           2011,
           2015,
           2018,
           1990,
           1994,
           1999,
           2004,
           2008,
           2013,
           2018,
           1977,
           1978,
           1981,
           1985,
           1989,
           1993,
           1998,
           2002,
           2006,
           2010,
           2015,
           1971,
           1980,
           1989,
           1994,
           1996,
           2001,
           2006,
           2016,
           2016,
           1990,
           1994,
           1998,
           2002,
           2006,
           2007,
           2007,
           2012,
           2014,
           1971,
           1973,
           1975,
           1977,
           1980,
           1981,
           1984,
           1988,
           1990,
           1993,
           2003,
           2006,
           2011,
           2012,
           2015,
           1945,
           1950,
           1951,
           1955,
           1959,
           1964,
           1966,
           1970,
           1974,
           1974,
           1979,
           1983,
           1987,
           1992,
           1997,
           1997,
           1997,
           2001,
           2001,
           2005,
           2010,
           2015,
           2017,
           1965,
           1970,
           1975,
           1980,
           1985,
           1990,
           2000,
           2005,
           2010,
           2015,
           1946,
           1948,
           1950,
           1952,
           1954,
           1956,
           1958,
           1960,
           1962,
           1964,
           1966,
           1968,
           1970,
           1972,
           1974,
           1976,
           1978,
           1980,
           1982,
           1984,
           1986,
           1988,
           1990,
           1992,
           1994,
           1996,
           1998,
           2000,
           2002,
           2004,
           2006,
           2008,
           2010,
           2012,
           2014,
           2016,
           2018,
           1946,
           1950,
           1954,
           1958,
           1962,
           1966,
           1971,
           1984,
           1989,
           1994,
           1999,
           2004,
           2009,
           2014,
           1946,
           1950,
           1954,
           1958,
           1962,
           1966,
           1970,
           1974,
           1979,
           1984,
           1989,
           1990,
           1994,
           1999,
           2004,
           2009,
           2015,
           1979,
           1983,
           1987,
           1991,
           1998,
           2002,
           2004,
           2008,
           2012,
           2016,
           1948,
           1958,
           1963,
           1968,
           1973,
           1978,
           1983,
           1988,
           1993,
           1998,
           2000,
           2000,
           2005,
           2010,
           2015,
           1976,
           1981,
           1987,
           1992,
           1997,
           1997,
           2002,
           2007,
           2011,
           2016,
           2016,
           2016,
           1946,
           1960,
           1964,
           1971,
           1975,
           1960,
           1963,
           1966,
           1973,
           1990,
           1993,
           1997,
           2003,
           1970,
           1978,
           1988,
           1967,
           1971,
           1978,
           1986,
           1989,
           1992,
           1992,
           1996,
           2000,
           1947,
           1950,
           1953,
           1958,
           1974,
           1978,
           1982,
           1986,
           1968,
           1973,
           1978,
           1983,
           1988,
           1991,
           1996,
           2001,
           2006,
           2011,
           2016,
           2016,
           1980,
           1985,
           1990,
           1995,
           2000,
           2005,
           2008,
           2013,
           2018
          ],
          "coloraxis": "coloraxis",
          "line": {
           "color": "blue",
           "width": 1
          },
          "size": 8,
          "symbol": "circle"
         },
         "mode": "markers",
         "name": "",
         "showlegend": false,
         "type": "scattergl",
         "x": [
          "Afghanistan",
          "Afghanistan",
          "Afghanistan",
          "Afghanistan",
          "Afghanistan",
          "Afghanistan",
          "Albania",
          "Albania",
          "Albania",
          "Albania",
          "Albania",
          "Albania",
          "Albania",
          "Albania",
          "Albania",
          "Albania",
          "Albania",
          "Albania",
          "Albania",
          "Albania",
          "Albania",
          "Albania",
          "Albania",
          "Albania",
          "Albania",
          "Algeria",
          "Algeria",
          "Algeria",
          "Algeria",
          "Algeria",
          "Algeria",
          "Algeria",
          "Algeria",
          "Algeria",
          "Algeria",
          "Algeria",
          "Algeria",
          "Andorra",
          "Andorra",
          "Andorra",
          "Andorra",
          "Andorra",
          "Andorra",
          "Andorra",
          "Andorra",
          "Andorra",
          "Angola",
          "Angola",
          "Angola",
          "Angola",
          "Angola",
          "Angola",
          "Antigua and Barbuda",
          "Antigua and Barbuda",
          "Antigua and Barbuda",
          "Antigua and Barbuda",
          "Antigua and Barbuda",
          "Antigua and Barbuda",
          "Antigua and Barbuda",
          "Antigua and Barbuda",
          "Argentina",
          "Argentina",
          "Argentina",
          "Argentina",
          "Argentina",
          "Argentina",
          "Argentina",
          "Argentina",
          "Argentina",
          "Argentina",
          "Argentina",
          "Argentina",
          "Argentina",
          "Argentina",
          "Argentina",
          "Argentina",
          "Argentina",
          "Argentina",
          "Argentina",
          "Argentina",
          "Argentina",
          "Argentina",
          "Argentina",
          "Argentina",
          "Argentina",
          "Argentina",
          "Argentina",
          "Armenia",
          "Armenia",
          "Armenia",
          "Armenia",
          "Armenia",
          "Armenia",
          "Armenia",
          "Armenia",
          "Armenia",
          "Australia",
          "Australia",
          "Australia",
          "Australia",
          "Australia",
          "Australia",
          "Australia",
          "Australia",
          "Australia",
          "Australia",
          "Australia",
          "Australia",
          "Australia",
          "Australia",
          "Australia",
          "Australia",
          "Australia",
          "Australia",
          "Australia",
          "Australia",
          "Australia",
          "Australia",
          "Australia",
          "Australia",
          "Australia",
          "Australia",
          "Australia",
          "Australia",
          "Australia",
          "Austria",
          "Austria",
          "Austria",
          "Austria",
          "Austria",
          "Austria",
          "Austria",
          "Austria",
          "Austria",
          "Austria",
          "Austria",
          "Austria",
          "Austria",
          "Austria",
          "Austria",
          "Austria",
          "Austria",
          "Austria",
          "Austria",
          "Austria",
          "Austria",
          "Austria",
          "Austria",
          "Barbados",
          "Belarus",
          "Belarus",
          "Belarus",
          "Belarus",
          "Belarus",
          "Belarus",
          "Belarus",
          "Belarus",
          "Belgium",
          "Belgium",
          "Belgium",
          "Belgium",
          "Belgium",
          "Belgium",
          "Belgium",
          "Belgium",
          "Belgium",
          "Belgium",
          "Belgium",
          "Belgium",
          "Belgium",
          "Belgium",
          "Belgium",
          "Belgium",
          "Belgium",
          "Belgium",
          "Belgium",
          "Belgium",
          "Belgium",
          "Belgium",
          "Belgium",
          "Belgium",
          "Belize",
          "Belize",
          "Belize",
          "Belize",
          "Belize",
          "Belize",
          "Belize",
          "Belize",
          "Benin",
          "Benin",
          "Benin",
          "Benin",
          "Benin",
          "Benin",
          "Benin",
          "Benin",
          "Benin",
          "Benin",
          "Benin",
          "Benin",
          "Bhutan",
          "Bhutan",
          "Bhutan",
          "Bhutan",
          "Bolivia",
          "Bolivia",
          "Bolivia",
          "Bolivia",
          "Bolivia",
          "Bolivia",
          "Bolivia",
          "Bolivia",
          "Bolivia",
          "Bolivia",
          "Bolivia",
          "Bolivia",
          "Bolivia",
          "Bolivia",
          "Bolivia",
          "Bolivia",
          "Bolivia",
          "Bolivia",
          "Bosnia and Herzegovina",
          "Bosnia and Herzegovina",
          "Bosnia and Herzegovina",
          "Bosnia and Herzegovina",
          "Bosnia and Herzegovina",
          "Bosnia and Herzegovina",
          "Bosnia and Herzegovina",
          "Bosnia and Herzegovina",
          "Botswana",
          "Botswana",
          "Botswana",
          "Botswana",
          "Botswana",
          "Botswana",
          "Botswana",
          "Botswana",
          "Botswana",
          "Botswana",
          "Botswana",
          "Brazil",
          "Brazil",
          "Brazil",
          "Brazil",
          "Brazil",
          "Brazil",
          "Brazil",
          "Brazil",
          "Brazil",
          "Brazil",
          "Brazil",
          "Brazil",
          "Brazil",
          "Brazil",
          "Brazil",
          "Brazil",
          "Brazil",
          "Brazil",
          "Brazil",
          "Brazil",
          "Brunei Darussalam",
          "Brunei Darussalam",
          "Bulgaria",
          "Bulgaria",
          "Bulgaria",
          "Bulgaria",
          "Bulgaria",
          "Bulgaria",
          "Bulgaria",
          "Bulgaria",
          "Bulgaria",
          "Bulgaria",
          "Bulgaria",
          "Bulgaria",
          "Bulgaria",
          "Bulgaria",
          "Bulgaria",
          "Bulgaria",
          "Bulgaria",
          "Bulgaria",
          "Bulgaria",
          "Bulgaria",
          "Bulgaria",
          "Bulgaria",
          "Burkina Faso",
          "Burkina Faso",
          "Burkina Faso",
          "Burkina Faso",
          "Burkina Faso",
          "Burkina Faso",
          "Burkina Faso",
          "Burkina Faso",
          "Burundi",
          "Burundi",
          "Burundi",
          "Burundi",
          "Burundi",
          "Burundi",
          "Burundi",
          "Cabo Verde",
          "Cabo Verde",
          "Cabo Verde",
          "Cabo Verde",
          "Cabo Verde",
          "Cabo Verde",
          "Cabo Verde",
          "Cabo Verde",
          "Cabo Verde",
          "Cabo Verde",
          "Cambodia",
          "Cambodia",
          "Cambodia",
          "Cambodia",
          "Cambodia",
          "Cambodia",
          "Cambodia",
          "Cambodia",
          "Cambodia",
          "Cambodia",
          "Cambodia",
          "Cambodia",
          "Cambodia",
          "Cambodia",
          "Cambodia",
          "Cameroon",
          "Cameroon",
          "Cameroon",
          "Cameroon",
          "Cameroon",
          "Cameroon",
          "Cameroon",
          "Cameroon",
          "Cameroon",
          "Cameroon",
          "Cameroon",
          "Cameroon",
          "Cameroon",
          "Cameroon",
          "Canada",
          "Canada",
          "Canada",
          "Canada",
          "Canada",
          "Canada",
          "Canada",
          "Canada",
          "Canada",
          "Canada",
          "Canada",
          "Canada",
          "Canada",
          "Canada",
          "Canada",
          "Canada",
          "Canada",
          "Canada",
          "Canada",
          "Canada",
          "Canada",
          "Canada",
          "Canada",
          "Canada",
          "Colombia",
          "Colombia",
          "Colombia",
          "Colombia",
          "Colombia",
          "Colombia",
          "Colombia",
          "Colombia",
          "Colombia",
          "Colombia",
          "Colombia",
          "Colombia",
          "Colombia",
          "Colombia",
          "Colombia",
          "Colombia",
          "Comoros",
          "Comoros",
          "Comoros",
          "Comoros",
          "Comoros",
          "Comoros",
          "Comoros",
          "Comoros",
          "Congo (Republic of)",
          "Congo (Republic of)",
          "Congo (Republic of)",
          "Congo (Republic of)",
          "Congo (Republic of)",
          "Congo (Republic of)",
          "Congo (Republic of)",
          "Congo (Republic of)",
          "Congo (Republic of)",
          "Congo (Republic of)",
          "Congo (Republic of)",
          "Congo (Republic of)",
          "Congo (Republic of)",
          "Costa Rica",
          "Costa Rica",
          "Costa Rica",
          "Costa Rica",
          "Costa Rica",
          "Costa Rica",
          "Costa Rica",
          "Costa Rica",
          "Costa Rica",
          "Costa Rica",
          "Costa Rica",
          "Costa Rica",
          "Costa Rica",
          "Costa Rica",
          "Costa Rica",
          "Costa Rica",
          "Costa Rica",
          "Costa Rica",
          "Costa Rica",
          "Cote d'Ivoire",
          "Cote d'Ivoire",
          "Cote d'Ivoire",
          "Cote d'Ivoire",
          "Cote d'Ivoire",
          "Cote d'Ivoire",
          "Cote d'Ivoire",
          "Cote d'Ivoire",
          "Cote d'Ivoire",
          "Cote d'Ivoire",
          "Cote d'Ivoire",
          "Croatia",
          "Croatia",
          "Croatia",
          "Croatia",
          "Croatia",
          "Croatia",
          "Croatia",
          "Croatia",
          "Croatia",
          "Cuba",
          "Cuba",
          "Cuba",
          "Cuba",
          "Cuba",
          "Cuba",
          "Cuba",
          "Cuba",
          "Cuba",
          "Cuba",
          "Cuba",
          "Cuba",
          "Cyprus",
          "Cyprus",
          "Cyprus",
          "Cyprus",
          "Cyprus",
          "Cyprus",
          "Cyprus",
          "Cyprus",
          "Cyprus",
          "Cyprus",
          "Cyprus",
          "Cyprus",
          "Cyprus",
          "Czech Republic",
          "Czech Republic",
          "Czech Republic",
          "Czech Republic",
          "Czech Republic",
          "Czech Republic",
          "Czech Republic",
          "Czech Republic",
          "Czech Republic",
          "Czechoslovakia",
          "Czechoslovakia",
          "Czechoslovakia",
          "Czechoslovakia",
          "Czechoslovakia",
          "Czechoslovakia",
          "Czechoslovakia",
          "Czechoslovakia",
          "Czechoslovakia",
          "Democratic People's Republic of Korea",
          "Democratic People's Republic of Korea",
          "Democratic People's Republic of Korea",
          "Democratic People's Republic of Korea",
          "Democratic People's Republic of Korea",
          "Democratic People's Republic of Korea",
          "Democratic People's Republic of Korea",
          "Democratic People's Republic of Korea",
          "Democratic People's Republic of Korea",
          "Democratic People's Republic of Korea",
          "Democratic People's Republic of Korea",
          "Democratic People's Republic of Korea",
          "Democratic Republic of the Congo",
          "Democratic Republic of the Congo",
          "Democratic Republic of the Congo",
          "Democratic Republic of the Congo",
          "Democratic Republic of the Congo",
          "Democratic Republic of the Congo",
          "Democratic Republic of the Congo",
          "Democratic Republic of the Congo",
          "Democratic Republic of the Congo",
          "Democratic Republic of the Congo",
          "Democratic Republic of the Congo",
          "Democratic Republic of the Congo",
          "Democratic Republic of the Congo",
          "Denmark",
          "Denmark",
          "Denmark",
          "Denmark",
          "Denmark",
          "Denmark",
          "Denmark",
          "Denmark",
          "Denmark",
          "Denmark",
          "Denmark",
          "Denmark",
          "Denmark",
          "Denmark",
          "Denmark",
          "Denmark",
          "Denmark",
          "Denmark",
          "Denmark",
          "Denmark",
          "Denmark",
          "Denmark",
          "Denmark",
          "Denmark",
          "Denmark",
          "Denmark",
          "Denmark",
          "Djibouti",
          "Djibouti",
          "Djibouti",
          "Djibouti",
          "Djibouti",
          "Djibouti",
          "Djibouti",
          "Djibouti",
          "Djibouti",
          "Djibouti",
          "Dominica",
          "Dominica",
          "Dominica",
          "Dominica",
          "Dominica",
          "Dominica",
          "Dominica",
          "Dominica",
          "Dominica",
          "Dominican Republic",
          "Dominican Republic",
          "Dominican Republic",
          "Dominican Republic",
          "Dominican Republic",
          "Dominican Republic",
          "Dominican Republic",
          "Dominican Republic",
          "Dominican Republic",
          "Dominican Republic",
          "Dominican Republic",
          "Dominican Republic",
          "Dominican Republic",
          "Dominican Republic",
          "Dominican Republic",
          "Dominican Republic",
          "Dominican Republic",
          "Dominican Republic",
          "Dominican Republic",
          "Ecuador",
          "Ecuador",
          "Ecuador",
          "Ecuador",
          "Ecuador",
          "Ecuador",
          "Ecuador",
          "Ecuador",
          "Ecuador",
          "Ecuador",
          "Ecuador",
          "Ecuador",
          "Ecuador",
          "Ecuador",
          "Ecuador",
          "Ecuador",
          "Ecuador",
          "Ecuador",
          "Egypt",
          "Egypt",
          "Egypt",
          "Egypt",
          "Egypt",
          "Egypt",
          "Egypt",
          "Egypt",
          "Egypt",
          "Egypt",
          "Egypt",
          "Egypt",
          "Egypt",
          "Egypt",
          "Egypt",
          "Egypt",
          "Egypt",
          "El Salvador",
          "El Salvador",
          "El Salvador",
          "El Salvador",
          "El Salvador",
          "El Salvador",
          "El Salvador",
          "El Salvador",
          "El Salvador",
          "El Salvador",
          "El Salvador",
          "El Salvador",
          "El Salvador",
          "El Salvador",
          "El Salvador",
          "El Salvador",
          "El Salvador",
          "El Salvador",
          "El Salvador",
          "El Salvador",
          "El Salvador",
          "Equatorial Guinea",
          "Equatorial Guinea",
          "Equatorial Guinea",
          "Equatorial Guinea",
          "Equatorial Guinea",
          "Equatorial Guinea",
          "Equatorial Guinea",
          "Equatorial Guinea",
          "Equatorial Guinea",
          "Equatorial Guinea",
          "Equatorial Guinea",
          "Equatorial Guinea",
          "Eritrea",
          "Estonia",
          "Estonia",
          "Estonia",
          "Estonia",
          "Estonia",
          "Estonia",
          "Estonia",
          "Estonia",
          "Estonia",
          "Estonia",
          "Eswatini",
          "Eswatini",
          "Eswatini",
          "Eswatini",
          "Eswatini",
          "Eswatini",
          "Eswatini",
          "Eswatini",
          "Eswatini",
          "Eswatini",
          "Eswatini",
          "Ethiopia",
          "Ethiopia",
          "Ethiopia",
          "Ethiopia",
          "Ethiopia",
          "Ethiopia",
          "Ethiopia",
          "Ethiopia",
          "Ethiopia",
          "Ethiopia",
          "Fiji",
          "Fiji",
          "Fiji",
          "Fiji",
          "Fiji",
          "Fiji",
          "Fiji",
          "Fiji",
          "Fiji",
          "Fiji",
          "Fiji",
          "Fiji",
          "Finland",
          "Finland",
          "Finland",
          "Finland",
          "Finland",
          "Finland",
          "Finland",
          "Finland",
          "Finland",
          "Finland",
          "Finland",
          "Finland",
          "Finland",
          "Finland",
          "Finland",
          "Finland",
          "Finland",
          "Finland",
          "France",
          "France",
          "France",
          "France",
          "France",
          "France",
          "France",
          "France",
          "France",
          "France",
          "France",
          "France",
          "France",
          "France",
          "France",
          "France",
          "France",
          "France",
          "France",
          "France",
          "France",
          "France",
          "Gabon",
          "Gabon",
          "Gabon",
          "Gabon",
          "Gabon",
          "Gabon",
          "Gabon",
          "Gabon",
          "Gabon",
          "Gabon",
          "Gabon",
          "Gabon",
          "Gambia (The)",
          "Gambia (The)",
          "Gambia (The)",
          "Gambia (The)",
          "Gambia (The)",
          "Gambia (The)",
          "Gambia (The)",
          "Gambia (The)",
          "Gambia (The)",
          "Gambia (The)",
          "Gambia (The)",
          "Georgia",
          "Georgia",
          "Georgia",
          "Georgia",
          "Georgia",
          "Georgia",
          "Georgia",
          "Georgia",
          "Georgia",
          "Georgia",
          "Georgia",
          "Germany",
          "Germany",
          "Germany",
          "Germany",
          "Germany",
          "Germany",
          "Germany",
          "Germany",
          "Germany",
          "Germany",
          "Germany",
          "Germany",
          "Germany",
          "Germany",
          "Germany",
          "Germany",
          "Germany",
          "Germany",
          "Germany",
          "Germany",
          "Germany",
          "Germany",
          "Germany",
          "Germany",
          "Germany",
          "Germany",
          "Germany",
          "Germany",
          "Germany",
          "Germany",
          "Germany",
          "Ghana",
          "Ghana",
          "Ghana",
          "Ghana",
          "Ghana",
          "Ghana",
          "Ghana",
          "Ghana",
          "Ghana",
          "Ghana",
          "Ghana",
          "Ghana",
          "Greece",
          "Greece",
          "Greece",
          "Greece",
          "Greece",
          "Greece",
          "Greece",
          "Greece",
          "Greece",
          "Greece",
          "Greece",
          "Greece",
          "Greece",
          "Greece",
          "Greece",
          "Greece",
          "Greece",
          "Greece",
          "Greece",
          "Greece",
          "Greece",
          "Greece",
          "Greece",
          "Greece",
          "Greece",
          "Grenada",
          "Grenada",
          "Grenada",
          "Grenada",
          "Grenada",
          "Grenada",
          "Grenada",
          "Grenada",
          "Grenada",
          "Guatemala",
          "Guatemala",
          "Guatemala",
          "Guatemala",
          "Guatemala",
          "Guatemala",
          "Guatemala",
          "Guatemala",
          "Guatemala",
          "Guatemala",
          "Guatemala",
          "Guatemala",
          "Guatemala",
          "Guatemala",
          "Guatemala",
          "Guatemala",
          "Guatemala",
          "Guinea",
          "Guinea",
          "Guinea",
          "Guinea",
          "Guinea",
          "Guinea",
          "Guinea",
          "Guinea-Bissau",
          "Guinea-Bissau",
          "Guinea-Bissau",
          "Guinea-Bissau",
          "Guinea-Bissau",
          "Guinea-Bissau",
          "Guinea-Bissau",
          "Guinea-Bissau",
          "Guinea-Bissau",
          "Guyana",
          "Guyana",
          "Guyana",
          "Guyana",
          "Guyana",
          "Guyana",
          "Guyana",
          "Guyana",
          "Guyana",
          "Guyana",
          "Guyana",
          "Haiti",
          "Haiti",
          "Haiti",
          "Haiti",
          "Haiti",
          "Haiti",
          "Haiti",
          "Haiti",
          "Haiti",
          "Haiti",
          "Haiti",
          "Haiti",
          "Haiti",
          "Haiti",
          "Haiti",
          "Haiti",
          "Haiti",
          "Haiti",
          "Honduras",
          "Honduras",
          "Honduras",
          "Honduras",
          "Honduras",
          "Honduras",
          "Honduras",
          "Honduras",
          "Honduras",
          "Honduras",
          "Honduras",
          "Honduras",
          "Honduras",
          "Honduras",
          "Hungary",
          "Hungary",
          "Hungary",
          "Hungary",
          "Hungary",
          "Hungary",
          "Hungary",
          "Hungary",
          "Hungary",
          "Hungary",
          "Hungary",
          "Hungary",
          "Hungary",
          "Hungary",
          "Hungary",
          "Hungary",
          "Hungary",
          "Hungary",
          "Hungary",
          "Hungary",
          "Iceland",
          "Iceland",
          "Iceland",
          "Iceland",
          "Iceland",
          "Iceland",
          "Iceland",
          "Iceland",
          "Iceland",
          "Iceland",
          "Iceland",
          "Iceland",
          "Iceland",
          "Iceland",
          "Iceland",
          "Iceland",
          "Iceland",
          "Iceland",
          "Iceland",
          "Iceland",
          "Iceland",
          "Iceland",
          "Iceland",
          "Iceland",
          "Iceland",
          "India",
          "India",
          "India",
          "India",
          "India",
          "India",
          "India",
          "India",
          "India",
          "India",
          "India",
          "India",
          "India",
          "India",
          "India",
          "India",
          "India",
          "Indonesia",
          "Indonesia",
          "Indonesia",
          "Indonesia",
          "Indonesia",
          "Indonesia",
          "Indonesia",
          "Indonesia",
          "Indonesia",
          "Indonesia",
          "Indonesia",
          "Indonesia",
          "Indonesia",
          "Indonesia",
          "Indonesia",
          "Indonesia",
          "Indonesia",
          "Indonesia",
          "Iran (Islamic Republic of)",
          "Iran (Islamic Republic of)",
          "Iran (Islamic Republic of)",
          "Iran (Islamic Republic of)",
          "Iran (Islamic Republic of)",
          "Iran (Islamic Republic of)",
          "Iran (Islamic Republic of)",
          "Iran (Islamic Republic of)",
          "Iran (Islamic Republic of)",
          "Iran (Islamic Republic of)",
          "Iran (Islamic Republic of)",
          "Iran (Islamic Republic of)",
          "Iran (Islamic Republic of)",
          "Iran (Islamic Republic of)",
          "Iran (Islamic Republic of)",
          "Iran (Islamic Republic of)",
          "Iran (Islamic Republic of)",
          "Iran (Islamic Republic of)",
          "Iran (Islamic Republic of)",
          "Iraq",
          "Iraq",
          "Iraq",
          "Iraq",
          "Iraq",
          "Iraq",
          "Iraq",
          "Iraq",
          "Iraq",
          "Iraq",
          "Iraq",
          "Iraq",
          "Iraq",
          "Iraq",
          "Iraq",
          "Ireland",
          "Ireland",
          "Ireland",
          "Ireland",
          "Ireland",
          "Ireland",
          "Ireland",
          "Ireland",
          "Ireland",
          "Ireland",
          "Ireland",
          "Ireland",
          "Ireland",
          "Ireland",
          "Ireland",
          "Ireland",
          "Ireland",
          "Ireland",
          "Ireland",
          "Ireland",
          "Ireland",
          "Ireland",
          "Israel",
          "Israel",
          "Israel",
          "Israel",
          "Israel",
          "Israel",
          "Israel",
          "Israel",
          "Israel",
          "Israel",
          "Israel",
          "Israel",
          "Israel",
          "Israel",
          "Israel",
          "Israel",
          "Israel",
          "Israel",
          "Israel",
          "Israel",
          "Israel",
          "Israel",
          "Israel",
          "Israel",
          "Italy",
          "Italy",
          "Italy",
          "Italy",
          "Italy",
          "Italy",
          "Italy",
          "Italy",
          "Italy",
          "Italy",
          "Italy",
          "Italy",
          "Italy",
          "Italy",
          "Italy",
          "Italy",
          "Italy",
          "Italy",
          "Italy",
          "Jamaica",
          "Jamaica",
          "Jamaica",
          "Jamaica",
          "Jamaica",
          "Jamaica",
          "Jamaica",
          "Jamaica",
          "Jamaica",
          "Jamaica",
          "Jamaica",
          "Jamaica",
          "Jamaica",
          "Japan",
          "Japan",
          "Japan",
          "Japan",
          "Japan",
          "Japan",
          "Japan",
          "Japan",
          "Japan",
          "Japan",
          "Japan",
          "Japan",
          "Japan",
          "Japan",
          "Japan",
          "Japan",
          "Japan",
          "Japan",
          "Japan",
          "Japan",
          "Japan",
          "Japan",
          "Japan",
          "Japan",
          "Japan",
          "Japan",
          "Japan",
          "Jordan",
          "Jordan",
          "Jordan",
          "Jordan",
          "Jordan",
          "Jordan",
          "Jordan",
          "Jordan",
          "Jordan",
          "Jordan",
          "Jordan",
          "Jordan",
          "Jordan",
          "Jordan",
          "Jordan",
          "Jordan",
          "Jordan",
          "Jordan",
          "Jordan",
          "Kazakhstan",
          "Kazakhstan",
          "Kazakhstan",
          "Kazakhstan",
          "Kazakhstan",
          "Kazakhstan",
          "Kazakhstan",
          "Kazakhstan",
          "Kazakhstan",
          "Kazakhstan",
          "Kenya",
          "Kenya",
          "Kenya",
          "Kenya",
          "Kenya",
          "Kenya",
          "Kenya",
          "Kenya",
          "Kenya",
          "Kenya",
          "Kenya",
          "Kenya",
          "Kiribati",
          "Kiribati",
          "Kiribati",
          "Kiribati",
          "Kiribati",
          "Kiribati",
          "Kiribati",
          "Kiribati",
          "Kiribati",
          "Kiribati",
          "Kiribati",
          "Kiribati",
          "Kuwait",
          "Kuwait",
          "Kuwait",
          "Kuwait",
          "Kuwait",
          "Kuwait",
          "Kuwait",
          "Kuwait",
          "Kuwait",
          "Kuwait",
          "Kuwait",
          "Kuwait",
          "Kuwait",
          "Kuwait",
          "Kuwait",
          "Kuwait",
          "Kuwait",
          "Kuwait",
          "Kuwait",
          "Kyrgyzstan",
          "Kyrgyzstan",
          "Kyrgyzstan",
          "Kyrgyzstan",
          "Kyrgyzstan",
          "Kyrgyzstan",
          "Kyrgyzstan",
          "Lao People's Democratic Republic",
          "Lao People's Democratic Republic",
          "Lao People's Democratic Republic",
          "Lao People's Democratic Republic",
          "Lao People's Democratic Republic",
          "Lao People's Democratic Republic",
          "Lao People's Democratic Republic",
          "Lao People's Democratic Republic",
          "Lao People's Democratic Republic",
          "Lao People's Democratic Republic",
          "Lao People's Democratic Republic",
          "Lao People's Democratic Republic",
          "Lao People's Democratic Republic",
          "Latvia",
          "Latvia",
          "Latvia",
          "Latvia",
          "Latvia",
          "Latvia",
          "Latvia",
          "Latvia",
          "Latvia",
          "Lebanon",
          "Lebanon",
          "Lebanon",
          "Lebanon",
          "Lebanon",
          "Lebanon",
          "Lebanon",
          "Lebanon",
          "Lebanon",
          "Lebanon",
          "Lebanon",
          "Lebanon",
          "Lebanon",
          "Lesotho",
          "Lesotho",
          "Lesotho",
          "Lesotho",
          "Lesotho",
          "Lesotho",
          "Lesotho",
          "Lesotho",
          "Lesotho",
          "Lesotho",
          "Liberia",
          "Liberia",
          "Liberia",
          "Liberia",
          "Liberia",
          "Liberia",
          "Liberia",
          "Liberia",
          "Libya",
          "Libya",
          "Libyan Arab Jamahiriya",
          "Libyan Arab Jamahiriya",
          "Libyan Arab Jamahiriya",
          "Libyan Arab Jamahiriya",
          "Libyan Arab Jamahiriya",
          "Libyan Arab Jamahiriya",
          "Libyan Arab Jamahiriya",
          "Libyan Arab Jamahiriya",
          "Libyan Arab Jamahiriya",
          "Liechtenstein",
          "Liechtenstein",
          "Liechtenstein",
          "Liechtenstein",
          "Liechtenstein",
          "Liechtenstein",
          "Liechtenstein",
          "Liechtenstein",
          "Liechtenstein",
          "Liechtenstein",
          "Lithuania",
          "Lithuania",
          "Lithuania",
          "Lithuania",
          "Lithuania",
          "Lithuania",
          "Lithuania",
          "Lithuania",
          "Lithuania",
          "Luxembourg",
          "Luxembourg",
          "Luxembourg",
          "Luxembourg",
          "Luxembourg",
          "Luxembourg",
          "Luxembourg",
          "Luxembourg",
          "Luxembourg",
          "Luxembourg",
          "Luxembourg",
          "Luxembourg",
          "Luxembourg",
          "Luxembourg",
          "Luxembourg",
          "Luxembourg",
          "Luxembourg",
          "Madagascar",
          "Madagascar",
          "Madagascar",
          "Madagascar",
          "Madagascar",
          "Madagascar",
          "Madagascar",
          "Madagascar",
          "Madagascar",
          "Madagascar",
          "Madagascar",
          "Madagascar",
          "Malawi",
          "Malawi",
          "Malawi",
          "Malawi",
          "Malawi",
          "Malawi",
          "Malawi",
          "Malawi",
          "Malawi",
          "Malawi",
          "Malawi",
          "Malaysia",
          "Malaysia",
          "Malaysia",
          "Malaysia",
          "Malaysia",
          "Malaysia",
          "Malaysia",
          "Malaysia",
          "Malaysia",
          "Malaysia",
          "Malaysia",
          "Malaysia",
          "Malaysia",
          "Malaysia",
          "Maldives",
          "Maldives",
          "Maldives",
          "Maldives",
          "Maldives",
          "Maldives",
          "Maldives",
          "Maldives",
          "Mali",
          "Mali",
          "Mali",
          "Mali",
          "Mali",
          "Mali",
          "Mali",
          "Mali",
          "Mali",
          "Mali",
          "Malta",
          "Malta",
          "Malta",
          "Malta",
          "Malta",
          "Malta",
          "Malta",
          "Malta",
          "Malta",
          "Malta",
          "Malta",
          "Marshall Islands",
          "Marshall Islands",
          "Marshall Islands",
          "Marshall Islands",
          "Marshall Islands",
          "Marshall Islands",
          "Mauritania",
          "Mauritania",
          "Mauritania",
          "Mauritania",
          "Mauritania",
          "Mauritania",
          "Mauritania",
          "Mauritania",
          "Mauritania",
          "Mauritius",
          "Mauritius",
          "Mauritius",
          "Mauritius",
          "Mauritius",
          "Mauritius",
          "Mauritius",
          "Mauritius",
          "Mauritius",
          "Mauritius",
          "Mauritius",
          "Mexico",
          "Mexico",
          "Mexico",
          "Mexico",
          "Mexico",
          "Mexico",
          "Mexico",
          "Mexico",
          "Mexico",
          "Mexico",
          "Mexico",
          "Mexico",
          "Mexico",
          "Mexico",
          "Mexico",
          "Mexico",
          "Mexico",
          "Mexico",
          "Mexico",
          "Mexico",
          "Mexico",
          "Mexico",
          "Mexico",
          "Mexico",
          "Micronesia (Federated States of)",
          "Micronesia (Federated States of)",
          "Micronesia (Federated States of)",
          "Micronesia (Federated States of)",
          "Micronesia (Federated States of)",
          "Micronesia (Federated States of)",
          "Micronesia (Federated States of)",
          "Micronesia (Federated States of)",
          "Micronesia (Federated States of)",
          "Micronesia (Federated States of)",
          "Monaco",
          "Monaco",
          "Monaco",
          "Monaco",
          "Monaco",
          "Monaco",
          "Monaco",
          "Monaco",
          "Monaco",
          "Monaco",
          "Monaco",
          "Monaco",
          "Mongolia",
          "Mongolia",
          "Mongolia",
          "Mongolia",
          "Mongolia",
          "Mongolia",
          "Mongolia",
          "Mongolia",
          "Mongolia",
          "Mongolia",
          "Mongolia",
          "Mongolia",
          "Mongolia",
          "Mongolia",
          "Mongolia",
          "Mongolia",
          "Mongolia",
          "Mongolia",
          "Mongolia",
          "Mongolia",
          "Mongolia",
          "Mongolia",
          "Mongolia",
          "Montenegro",
          "Montenegro",
          "Montenegro",
          "Montenegro",
          "Montenegro",
          "Montenegro",
          "Morocco",
          "Morocco",
          "Morocco",
          "Morocco",
          "Morocco",
          "Morocco",
          "Morocco",
          "Morocco",
          "Morocco",
          "Morocco",
          "Morocco",
          "Morocco",
          "Mozambique",
          "Mozambique",
          "Mozambique",
          "Mozambique",
          "Mozambique",
          "Mozambique",
          "Mozambique",
          "Mozambique",
          "Myanmar",
          "Myanmar",
          "Myanmar",
          "Myanmar",
          "Myanmar",
          "Myanmar",
          "Myanmar",
          "Myanmar",
          "Myanmar",
          "Myanmar",
          "Namibia",
          "Namibia",
          "Namibia",
          "Namibia",
          "Namibia",
          "Nauru",
          "Nauru",
          "Nauru",
          "Nauru",
          "Nauru",
          "Nauru",
          "Nauru",
          "Nauru",
          "Nauru",
          "Nauru",
          "Nauru",
          "Nauru",
          "Nauru",
          "Nauru",
          "Nauru",
          "Nauru",
          "Nauru",
          "Nauru",
          "Nauru",
          "Nauru",
          "Nauru",
          "Nauru",
          "Nepal",
          "Nepal",
          "Nepal",
          "Nepal",
          "Nepal",
          "Nepal",
          "Nepal",
          "Nepal",
          "Nepal",
          "Nepal",
          "Nepal",
          "Nepal",
          "Nepal",
          "Nepal",
          "Nepal",
          "Nepal",
          "Nepal",
          "Nepal",
          "Nepal",
          "Nepal",
          "Nepal",
          "Nepal",
          "Nepal",
          "Nepal",
          "Nepal",
          "Nepal",
          "Nepal",
          "Nepal",
          "Nepal",
          "Nepal",
          "Nepal",
          "Nepal",
          "Nepal",
          "Nepal",
          "Nepal",
          "Nepal",
          "Netherlands",
          "Netherlands",
          "Netherlands",
          "Netherlands",
          "Netherlands",
          "Netherlands",
          "Netherlands",
          "Netherlands",
          "Netherlands",
          "Netherlands",
          "Netherlands",
          "Netherlands",
          "Netherlands",
          "Netherlands",
          "Netherlands",
          "Netherlands",
          "Netherlands",
          "Netherlands",
          "Netherlands",
          "Netherlands",
          "Netherlands",
          "Netherlands",
          "Netherlands",
          "New Zealand",
          "New Zealand",
          "New Zealand",
          "New Zealand",
          "New Zealand",
          "New Zealand",
          "New Zealand",
          "New Zealand",
          "New Zealand",
          "New Zealand",
          "New Zealand",
          "New Zealand",
          "New Zealand",
          "New Zealand",
          "New Zealand",
          "New Zealand",
          "New Zealand",
          "New Zealand",
          "New Zealand",
          "New Zealand",
          "New Zealand",
          "New Zealand",
          "New Zealand",
          "New Zealand",
          "New Zealand",
          "Nicaragua",
          "Nicaragua",
          "Nicaragua",
          "Nicaragua",
          "Nicaragua",
          "Nicaragua",
          "Nicaragua",
          "Nicaragua",
          "Nicaragua",
          "Nicaragua",
          "Nicaragua",
          "Nicaragua",
          "Niger",
          "Niger",
          "Niger",
          "Niger",
          "Niger",
          "Niger",
          "Niger",
          "Niger",
          "Niger",
          "Niger",
          "Niger",
          "Niger",
          "Niger",
          "Nigeria",
          "Nigeria",
          "Nigeria",
          "Nigeria",
          "Nigeria",
          "Nigeria",
          "Nigeria",
          "Nigeria",
          "Nigeria",
          "Nigeria",
          "Norway",
          "Norway",
          "Norway",
          "Norway",
          "Norway",
          "Norway",
          "Norway",
          "Norway",
          "Norway",
          "Norway",
          "Norway",
          "Norway",
          "Norway",
          "Norway",
          "Norway",
          "Norway",
          "Norway",
          "Norway",
          "Norway",
          "Norway",
          "Oman",
          "Oman",
          "Oman",
          "Oman",
          "Pakistan",
          "Pakistan",
          "Pakistan",
          "Pakistan",
          "Pakistan",
          "Pakistan",
          "Pakistan",
          "Pakistan",
          "Pakistan",
          "Pakistan",
          "Pakistan",
          "Pakistan",
          "Palau",
          "Palau",
          "Palau",
          "Palau",
          "Palau",
          "Palau",
          "Palau",
          "Palau",
          "Panama",
          "Panama",
          "Panama",
          "Panama",
          "Panama",
          "Panama",
          "Panama",
          "Panama",
          "Panama",
          "Panama",
          "Panama",
          "Panama",
          "Panama",
          "Panama",
          "Panama",
          "Panama",
          "Panama",
          "Panama",
          "Papua New Guinea",
          "Papua New Guinea",
          "Papua New Guinea",
          "Papua New Guinea",
          "Papua New Guinea",
          "Papua New Guinea",
          "Papua New Guinea",
          "Papua New Guinea",
          "Papua New Guinea",
          "Papua New Guinea",
          "Paraguay",
          "Paraguay",
          "Paraguay",
          "Paraguay",
          "Paraguay",
          "Paraguay",
          "Paraguay",
          "Paraguay",
          "Paraguay",
          "Paraguay",
          "Paraguay",
          "Paraguay",
          "Paraguay",
          "Paraguay",
          "Paraguay",
          "Paraguay",
          "Paraguay",
          "Paraguay",
          "Paraguay",
          "Peru",
          "Peru",
          "Peru",
          "Peru",
          "Peru",
          "Peru",
          "Peru",
          "Peru",
          "Peru",
          "Peru",
          "Peru",
          "Peru",
          "Peru",
          "Peru",
          "Peru",
          "Peru",
          "Peru",
          "Philippines",
          "Philippines",
          "Philippines",
          "Philippines",
          "Philippines",
          "Philippines",
          "Philippines",
          "Philippines",
          "Philippines",
          "Philippines",
          "Philippines",
          "Philippines",
          "Philippines",
          "Philippines",
          "Philippines",
          "Philippines",
          "Philippines",
          "Philippines",
          "Philippines",
          "Philippines",
          "Philippines",
          "Poland",
          "Poland",
          "Poland",
          "Poland",
          "Poland",
          "Poland",
          "Poland",
          "Poland",
          "Poland",
          "Poland",
          "Poland",
          "Poland",
          "Poland",
          "Poland",
          "Poland",
          "Poland",
          "Poland",
          "Poland",
          "Poland",
          "Portugal",
          "Portugal",
          "Portugal",
          "Portugal",
          "Portugal",
          "Portugal",
          "Portugal",
          "Portugal",
          "Portugal",
          "Portugal",
          "Portugal",
          "Portugal",
          "Portugal",
          "Portugal",
          "Portugal",
          "Portugal",
          "Portugal",
          "Portugal",
          "Portugal",
          "Portugal",
          "Portugal",
          "Portugal",
          "Republic of Korea",
          "Republic of Korea",
          "Republic of Korea",
          "Republic of Korea",
          "Republic of Korea",
          "Republic of Korea",
          "Republic of Korea",
          "Republic of Korea",
          "Republic of Korea",
          "Republic of Korea",
          "Republic of Korea",
          "Republic of Korea",
          "Republic of Korea",
          "Republic of Korea",
          "Republic of Korea",
          "Republic of Korea",
          "Republic of Korea",
          "Republic of Korea",
          "Republic of Korea",
          "Republic of Korea",
          "Republic of Korea",
          "Republic of Korea",
          "Republic of Korea",
          "Republic of Korea",
          "Republic of Moldova",
          "Republic of Moldova",
          "Republic of Moldova",
          "Republic of Moldova",
          "Republic of Moldova",
          "Republic of Moldova",
          "Republic of Moldova",
          "Republic of Moldova",
          "Republic of Moldova",
          "Republic of Moldova",
          "Romania",
          "Romania",
          "Romania",
          "Romania",
          "Romania",
          "Romania",
          "Romania",
          "Romania",
          "Romania",
          "Romania",
          "Romania",
          "Romania",
          "Romania",
          "Romania",
          "Romania",
          "Romania",
          "Romania",
          "Romania",
          "Russia",
          "Russia",
          "Russia",
          "Russia",
          "Russia",
          "Russia",
          "Russian Federation",
          "Russian Federation",
          "Rwanda",
          "Rwanda",
          "Rwanda",
          "Rwanda",
          "Rwanda",
          "Rwanda",
          "Rwanda",
          "Rwanda",
          "Rwanda",
          "Rwanda",
          "Rwanda",
          "Saint Kitts and Nevis",
          "Saint Kitts and Nevis",
          "Saint Kitts and Nevis",
          "Saint Kitts and Nevis",
          "Saint Kitts and Nevis",
          "Saint Kitts and Nevis",
          "Saint Kitts and Nevis",
          "Saint Kitts and Nevis",
          "Saint Lucia",
          "Saint Lucia",
          "Saint Lucia",
          "Saint Lucia",
          "Saint Lucia",
          "Saint Lucia",
          "Saint Lucia",
          "Saint Lucia",
          "Saint Lucia",
          "Saint Lucia",
          "Saint Lucia",
          "Saint Lucia",
          "Saint Vincent and the Grenadines",
          "Saint Vincent and the Grenadines",
          "Saint Vincent and the Grenadines",
          "Saint Vincent and the Grenadines",
          "Saint Vincent and the Grenadines",
          "Saint Vincent and the Grenadines",
          "Saint Vincent and the Grenadines",
          "Saint Vincent and the Grenadines",
          "Saint Vincent and the Grenadines",
          "Samoa",
          "Samoa",
          "Samoa",
          "Samoa",
          "Samoa",
          "Samoa",
          "Samoa",
          "Samoa",
          "Samoa",
          "Samoa",
          "Samoa",
          "Samoa",
          "Samoa",
          "Samoa",
          "Samoa",
          "San Marino",
          "San Marino",
          "San Marino",
          "San Marino",
          "San Marino",
          "San Marino",
          "San Marino",
          "San Marino",
          "San Marino",
          "San Marino",
          "San Marino",
          "San Marino",
          "San Marino",
          "San Marino",
          "San Marino",
          "San Marino",
          "San Marino",
          "San Marino",
          "Sao Tome and Principe",
          "Sao Tome and Principe",
          "Sao Tome and Principe",
          "Sao Tome and Principe",
          "Sao Tome and Principe",
          "Sao Tome and Principe",
          "Sao Tome and Principe",
          "Sao Tome and Principe",
          "Sao Tome and Principe",
          "Sao Tome and Principe",
          "Sao Tome and Principe",
          "Saudi Arabia",
          "Saudi Arabia",
          "Senegal",
          "Senegal",
          "Senegal",
          "Senegal",
          "Senegal",
          "Senegal",
          "Senegal",
          "Senegal",
          "Senegal",
          "Senegal",
          "Senegal",
          "Senegal",
          "Senegal",
          "Serbia",
          "Serbia",
          "Serbia",
          "Serbia",
          "Serbia",
          "Serbia and Montenegro",
          "Seychelles",
          "Seychelles",
          "Seychelles",
          "Seychelles",
          "Seychelles",
          "Seychelles",
          "Seychelles",
          "Seychelles",
          "Seychelles",
          "Seychelles",
          "Seychelles",
          "Seychelles",
          "Seychelles",
          "Sierra Leone",
          "Sierra Leone",
          "Sierra Leone",
          "Sierra Leone",
          "Sierra Leone",
          "Sierra Leone",
          "Sierra Leone",
          "Sierra Leone",
          "Sierra Leone",
          "Sierra Leone",
          "Sierra Leone",
          "Sierra Leone",
          "Singapore",
          "Singapore",
          "Singapore",
          "Singapore",
          "Singapore",
          "Singapore",
          "Singapore",
          "Singapore",
          "Singapore",
          "Singapore",
          "Singapore",
          "Singapore",
          "Singapore",
          "Slovakia",
          "Slovakia",
          "Slovakia",
          "Slovakia",
          "Slovakia",
          "Slovakia",
          "Slovakia",
          "Slovakia",
          "Slovakia",
          "Slovakia",
          "Slovenia",
          "Slovenia",
          "Slovenia",
          "Slovenia",
          "Slovenia",
          "Slovenia",
          "Slovenia",
          "Slovenia",
          "Slovenia",
          "Solomon Islands",
          "Solomon Islands",
          "Solomon Islands",
          "Solomon Islands",
          "Solomon Islands",
          "Solomon Islands",
          "Solomon Islands",
          "Solomon Islands",
          "Solomon Islands",
          "Somalia",
          "Somalia",
          "Somalia",
          "Somalia",
          "Somalia",
          "Somalia",
          "Somalia",
          "South Africa",
          "South Africa",
          "South Africa",
          "South Africa",
          "South Africa",
          "South Africa",
          "South Africa",
          "South Africa",
          "South Africa",
          "South Africa",
          "South Africa",
          "South Africa",
          "South Africa",
          "South Africa",
          "South Africa",
          "South Africa",
          "South Africa",
          "South Sudan",
          "South Sudan",
          "South Sudan",
          "Spain",
          "Spain",
          "Spain",
          "Spain",
          "Spain",
          "Spain",
          "Spain",
          "Spain",
          "Spain",
          "Spain",
          "Spain",
          "Spain",
          "Spain",
          "Spain",
          "Spain",
          "Spain",
          "Spain",
          "Spain",
          "Spain",
          "Spain",
          "Spain",
          "Spain",
          "Sri Lanka",
          "Sri Lanka",
          "Sri Lanka",
          "Sri Lanka",
          "Sri Lanka",
          "Sri Lanka",
          "Sri Lanka",
          "Sri Lanka",
          "Sri Lanka",
          "Sri Lanka",
          "Sri Lanka",
          "Sri Lanka",
          "Sri Lanka",
          "Sri Lanka",
          "Sudan",
          "Sudan",
          "Sudan",
          "Sudan",
          "Sudan",
          "Sudan",
          "Sudan",
          "Sudan",
          "Sudan",
          "Sudan",
          "Sudan",
          "Sudan",
          "Suriname",
          "Suriname",
          "Suriname",
          "Suriname",
          "Suriname",
          "Suriname",
          "Suriname",
          "Suriname",
          "Sweden",
          "Sweden",
          "Sweden",
          "Sweden",
          "Sweden",
          "Sweden",
          "Sweden",
          "Sweden",
          "Sweden",
          "Sweden",
          "Sweden",
          "Sweden",
          "Sweden",
          "Sweden",
          "Sweden",
          "Sweden",
          "Sweden",
          "Sweden",
          "Sweden",
          "Sweden",
          "Sweden",
          "Sweden",
          "Switzerland",
          "Switzerland",
          "Switzerland",
          "Switzerland",
          "Switzerland",
          "Switzerland",
          "Switzerland",
          "Switzerland",
          "Switzerland",
          "Switzerland",
          "Switzerland",
          "Switzerland",
          "Syrian Arab Republic",
          "Syrian Arab Republic",
          "Syrian Arab Republic",
          "Syrian Arab Republic",
          "Syrian Arab Republic",
          "Syrian Arab Republic",
          "Syrian Arab Republic",
          "Syrian Arab Republic",
          "Syrian Arab Republic",
          "Syrian Arab Republic",
          "Syrian Arab Republic",
          "Syrian Arab Republic",
          "Syrian Arab Republic",
          "Syrian Arab Republic",
          "Syrian Arab Republic",
          "Syrian Arab Republic",
          "Syrian Arab Republic",
          "Tajikistan",
          "Tajikistan",
          "Tajikistan",
          "Tajikistan",
          "Tajikistan",
          "Tajikistan",
          "Tajikistan",
          "Thailand",
          "Thailand",
          "Thailand",
          "Thailand",
          "Thailand",
          "Thailand",
          "Thailand",
          "Thailand",
          "Thailand",
          "Thailand",
          "Thailand",
          "Thailand",
          "Thailand",
          "Thailand",
          "Thailand",
          "Thailand",
          "Thailand",
          "Thailand",
          "Thailand",
          "Thailand",
          "Thailand",
          "Thailand",
          "Thailand",
          "Thailand",
          "Thailand",
          "The Former Yugoslav Republic of Macedonia",
          "The Former Yugoslav Republic of Macedonia",
          "The Former Yugoslav Republic of Macedonia",
          "The Former Yugoslav Republic of Macedonia",
          "The Former Yugoslav Republic of Macedonia",
          "The Former Yugoslav Republic of Macedonia",
          "The Former Yugoslav Republic of Macedonia",
          "The Former Yugoslav Republic of Macedonia",
          "The Former Yugoslav Republic of Macedonia",
          "The Former Yugoslav Republic of Macedonia",
          "Timor-Leste",
          "Timor-Leste",
          "Timor-Leste",
          "Timor-Leste",
          "Timor-Leste",
          "Togo",
          "Togo",
          "Togo",
          "Togo",
          "Togo",
          "Togo",
          "Togo",
          "Togo",
          "Togo",
          "Togo",
          "Togo",
          "Togo",
          "Togo",
          "Togo",
          "Tonga",
          "Tonga",
          "Tonga",
          "Tonga",
          "Tonga",
          "Tonga",
          "Tonga",
          "Tonga",
          "Tonga",
          "Tonga",
          "Tonga",
          "Tonga",
          "Tonga",
          "Tonga",
          "Trinidad and Tobago",
          "Trinidad and Tobago",
          "Trinidad and Tobago",
          "Trinidad and Tobago",
          "Trinidad and Tobago",
          "Trinidad and Tobago",
          "Trinidad and Tobago",
          "Trinidad and Tobago",
          "Trinidad and Tobago",
          "Trinidad and Tobago",
          "Trinidad and Tobago",
          "Trinidad and Tobago",
          "Trinidad and Tobago",
          "Trinidad and Tobago",
          "Tunisia",
          "Tunisia",
          "Tunisia",
          "Tunisia",
          "Tunisia",
          "Tunisia",
          "Tunisia",
          "Tunisia",
          "Tunisia",
          "Tunisia",
          "Tunisia",
          "Tunisia",
          "Tunisia",
          "Tunisia",
          "Tunisia",
          "Turkey",
          "Turkey",
          "Turkey",
          "Turkey",
          "Turkey",
          "Turkey",
          "Turkey",
          "Turkey",
          "Turkey",
          "Turkey",
          "Turkey",
          "Turkey",
          "Turkey",
          "Turkey",
          "Turkey",
          "Turkey",
          "Turkey",
          "Turkey",
          "Turkey",
          "Turkmenistan",
          "Turkmenistan",
          "Turkmenistan",
          "Turkmenistan",
          "Turkmenistan",
          "Turkmenistan",
          "Turkmenistan",
          "Tuvalu",
          "Tuvalu",
          "Tuvalu",
          "Tuvalu",
          "Tuvalu",
          "Tuvalu",
          "Tuvalu",
          "Tuvalu",
          "Tuvalu",
          "Tuvalu",
          "Tuvalu",
          "Uganda",
          "Uganda",
          "Uganda",
          "Uganda",
          "Uganda",
          "Uganda",
          "Uganda",
          "Uganda",
          "Uganda",
          "Ukraine",
          "Ukraine",
          "Ukraine",
          "Ukraine",
          "Ukraine",
          "Ukraine",
          "Ukraine",
          "Ukraine",
          "Ukraine",
          "United Arab Emirates",
          "United Arab Emirates",
          "United Arab Emirates",
          "United Arab Emirates",
          "United Arab Emirates",
          "United Arab Emirates",
          "United Arab Emirates",
          "United Arab Emirates",
          "United Arab Emirates",
          "United Arab Emirates",
          "United Arab Emirates",
          "United Arab Emirates",
          "United Arab Emirates",
          "United Arab Emirates",
          "United Arab Emirates",
          "United Kingdom",
          "United Kingdom",
          "United Kingdom",
          "United Kingdom",
          "United Kingdom",
          "United Kingdom",
          "United Kingdom",
          "United Kingdom",
          "United Kingdom",
          "United Kingdom",
          "United Kingdom",
          "United Kingdom",
          "United Kingdom",
          "United Kingdom",
          "United Kingdom",
          "United Kingdom",
          "United Kingdom",
          "United Kingdom",
          "United Kingdom",
          "United Kingdom",
          "United Kingdom",
          "United Kingdom",
          "United Kingdom",
          "United Republic of Tanzania",
          "United Republic of Tanzania",
          "United Republic of Tanzania",
          "United Republic of Tanzania",
          "United Republic of Tanzania",
          "United Republic of Tanzania",
          "United Republic of Tanzania",
          "United Republic of Tanzania",
          "United Republic of Tanzania",
          "United Republic of Tanzania",
          "United States of America",
          "United States of America",
          "United States of America",
          "United States of America",
          "United States of America",
          "United States of America",
          "United States of America",
          "United States of America",
          "United States of America",
          "United States of America",
          "United States of America",
          "United States of America",
          "United States of America",
          "United States of America",
          "United States of America",
          "United States of America",
          "United States of America",
          "United States of America",
          "United States of America",
          "United States of America",
          "United States of America",
          "United States of America",
          "United States of America",
          "United States of America",
          "United States of America",
          "United States of America",
          "United States of America",
          "United States of America",
          "United States of America",
          "United States of America",
          "United States of America",
          "United States of America",
          "United States of America",
          "United States of America",
          "United States of America",
          "United States of America",
          "United States of America",
          "Uruguay",
          "Uruguay",
          "Uruguay",
          "Uruguay",
          "Uruguay",
          "Uruguay",
          "Uruguay",
          "Uruguay",
          "Uruguay",
          "Uruguay",
          "Uruguay",
          "Uruguay",
          "Uruguay",
          "Uruguay",
          "USSR",
          "USSR",
          "USSR",
          "USSR",
          "USSR",
          "USSR",
          "USSR",
          "USSR",
          "USSR",
          "USSR",
          "USSR",
          "Uzbekistan",
          "Uzbekistan",
          "Uzbekistan",
          "Uzbekistan",
          "Uzbekistan",
          "Uzbekistan",
          "Vanuatu",
          "Vanuatu",
          "Vanuatu",
          "Vanuatu",
          "Vanuatu",
          "Vanuatu",
          "Vanuatu",
          "Vanuatu",
          "Vanuatu",
          "Vanuatu",
          "Venezuela",
          "Venezuela",
          "Venezuela",
          "Venezuela",
          "Venezuela",
          "Venezuela",
          "Venezuela",
          "Venezuela",
          "Venezuela",
          "Venezuela",
          "Venezuela",
          "Venezuela",
          "Venezuela",
          "Venezuela",
          "Venezuela",
          "Viet Nam",
          "Viet Nam",
          "Viet Nam",
          "Viet Nam",
          "Viet Nam",
          "Viet Nam",
          "Viet Nam",
          "Viet Nam",
          "Viet Nam",
          "Viet Nam",
          "Viet Nam",
          "Viet Nam",
          "Viet Nam North  (Democratic Republic Of)",
          "Viet Nam North  (Democratic Republic Of)",
          "Viet Nam North  (Democratic Republic Of)",
          "Viet Nam North  (Democratic Republic Of)",
          "Viet Nam North  (Democratic Republic Of)",
          "Viet Nam South (Republic Of)",
          "Viet Nam South (Republic Of)",
          "Viet Nam South (Republic Of)",
          "Viet Nam South (Republic Of)",
          "Yemen",
          "Yemen",
          "Yemen",
          "Yemen",
          "Yemen",
          "Yemen",
          "Yemen",
          "Yemen",
          "Yemen",
          "Yemen",
          "Yemen",
          "Yemen",
          "Yugoslavia (Federal Republic of)",
          "Yugoslavia (Federal Republic of)",
          "Yugoslavia (Federal Republic of)",
          "Yugoslavia (Federal Republic of)",
          "Yugoslavia (Socialist Federal Republic of)",
          "Yugoslavia (Socialist Federal Republic of)",
          "Yugoslavia (Socialist Federal Republic of)",
          "Yugoslavia (Socialist Federal Republic of)",
          "Yugoslavia (Socialist Federal Republic of)",
          "Yugoslavia (Socialist Federal Republic of)",
          "Yugoslavia (Socialist Federal Republic of)",
          "Yugoslavia (Socialist Federal Republic of)",
          "Zambia",
          "Zambia",
          "Zambia",
          "Zambia",
          "Zambia",
          "Zambia",
          "Zambia",
          "Zambia",
          "Zambia",
          "Zambia",
          "Zambia",
          "Zambia",
          "Zimbabwe",
          "Zimbabwe",
          "Zimbabwe",
          "Zimbabwe",
          "Zimbabwe",
          "Zimbabwe",
          "Zimbabwe",
          "Zimbabwe",
          "Zimbabwe"
         ],
         "xaxis": "x",
         "y": [
          0.02,
          0,
          0.03,
          0.27,
          0.28,
          0.28,
          0.04,
          0.14,
          0.12,
          0.09,
          0.12,
          0.16,
          0.27,
          0.33,
          0.32,
          0.3,
          0.29,
          0.04,
          0.06,
          0.12,
          0.06,
          0.07,
          0.16,
          0.16,
          0.28,
          0.05,
          0.01,
          0.04,
          0.01,
          0.02,
          0.07,
          0.06,
          0.06,
          0.07,
          0.08,
          0.32,
          0.26,
          0.04,
          0.07,
          0.14,
          0.32,
          0.32,
          0.36,
          0.54,
          0.5,
          0.39,
          0.08,
          0.15,
          0.1,
          0.37,
          0.34,
          0.31,
          0,
          0,
          0.05,
          0.05,
          0.11,
          0.11,
          0.11,
          0.11,
          0,
          0,
          0.15,
          0.22,
          0.02,
          0.01,
          0.01,
          0.02,
          0.08,
          0.04,
          0.04,
          0.05,
          0.06,
          0.06,
          0.14,
          0.25,
          0.28,
          0.26,
          0.31,
          0.36,
          0.4,
          0.42,
          0.39,
          0.37,
          0.37,
          0.36,
          0.38,
          0.04,
          0.06,
          0.03,
          0.05,
          0.09,
          0.09,
          0.11,
          0.17,
          0.24,
          0.03,
          0.01,
          0,
          0,
          0,
          0,
          0,
          0,
          0.01,
          0,
          0,
          0.01,
          0,
          0,
          0.02,
          0.05,
          0.05,
          0.06,
          0.07,
          0.09,
          0.16,
          0.22,
          0.25,
          0.25,
          0.27,
          0.25,
          0.25,
          0.27,
          0.29,
          0.05,
          0.05,
          0.05,
          0.05,
          0.05,
          0.05,
          0.05,
          0.05,
          0.06,
          0.08,
          0.1,
          0.09,
          0.11,
          0.2,
          0.22,
          0.27,
          0.27,
          0.34,
          0.32,
          0.27,
          0.28,
          0.33,
          0.34,
          0.2,
          0.04,
          0.05,
          0.1,
          0.29,
          0.29,
          0.32,
          0.26,
          0.27,
          0.01,
          0.02,
          0.03,
          0.04,
          0.04,
          0.05,
          0.03,
          0.04,
          0.03,
          0.03,
          0.07,
          0.07,
          0.06,
          0.08,
          0.08,
          0.09,
          0.12,
          0.23,
          0.23,
          0.23,
          0.35,
          0.35,
          0.39,
          0.39,
          0.04,
          0,
          0.03,
          0.07,
          0.03,
          0,
          0.03,
          0.06,
          null,
          null,
          0.08,
          0.04,
          0.03,
          0.06,
          0.08,
          0.06,
          0.07,
          0.11,
          0.08,
          0.07,
          0,
          0.09,
          0.06,
          0.15,
          0,
          0.02,
          0,
          0,
          0,
          0.02,
          0.02,
          0.01,
          0.03,
          0.01,
          0.03,
          0.09,
          0.11,
          0.07,
          0.18,
          0.17,
          0.22,
          0.53,
          0.04,
          0.29,
          0.07,
          0.17,
          0.14,
          0.17,
          0.21,
          0.21,
          0,
          0,
          0,
          0.05,
          0.05,
          0.05,
          0.1,
          0.17,
          0.11,
          0.08,
          0.1,
          0,
          0,
          0,
          0.01,
          0,
          0.01,
          0,
          0,
          0.01,
          0.01,
          0.05,
          0.06,
          0.07,
          0.06,
          0.09,
          0.06,
          0.09,
          0.09,
          0.1,
          0.15,
          0.06,
          0.09,
          0.06,
          0.08,
          0.15,
          0.16,
          0.16,
          0.2,
          0.17,
          0.19,
          0.2,
          0.22,
          0.21,
          0.08,
          0.13,
          0.13,
          0.11,
          0.26,
          0.21,
          0.21,
          0.23,
          0.2,
          0.24,
          0.25,
          0,
          0.02,
          0.06,
          0.1,
          0.12,
          0.15,
          0.16,
          0.09,
          0,
          0,
          0.09,
          0.12,
          0.31,
          0.3,
          0.36,
          0.02,
          0.13,
          0.12,
          0.08,
          0.11,
          0.11,
          0.15,
          0.21,
          0.21,
          0.24,
          0,
          0.02,
          0,
          0,
          0.03,
          0.18,
          0.19,
          0.2,
          0.21,
          0.06,
          0.08,
          0.1,
          0.16,
          0.2,
          0.15,
          0.01,
          0.02,
          0.02,
          0.04,
          0.06,
          0.1,
          0.14,
          0.14,
          0.12,
          0.12,
          0.06,
          0.09,
          0.15,
          null,
          0,
          0,
          0.02,
          0.01,
          0.02,
          0.02,
          0.02,
          0.02,
          0,
          0.02,
          0.03,
          0.04,
          0.05,
          0.1,
          0.13,
          0.18,
          0.21,
          0.21,
          0.2,
          0.21,
          0.21,
          0.22,
          0.25,
          0.25,
          0.04,
          0.04,
          0.04,
          0.06,
          0.05,
          0.04,
          0.05,
          0.09,
          0.1,
          0.11,
          0.12,
          0.12,
          0.08,
          0.13,
          0.2,
          0.19,
          0,
          0,
          0,
          0.02,
          0,
          0.03,
          0,
          0.03,
          0,
          0.05,
          0.06,
          0.08,
          0.1,
          0.14,
          0.02,
          0.02,
          0.09,
          0.07,
          0.07,
          0.07,
          0.11,
          0,
          0.07,
          0.04,
          0.02,
          0.05,
          0.07,
          0.05,
          0.07,
          0.07,
          0.11,
          0.12,
          0.14,
          0.19,
          0.32,
          0.35,
          0.39,
          0.39,
          0.33,
          0.46,
          0,
          0.04,
          0.03,
          0.09,
          0.05,
          0.06,
          0.05,
          0.08,
          0.09,
          0.11,
          0.09,
          0.06,
          0.08,
          0.21,
          0.18,
          0.21,
          0.24,
          0.14,
          0.15,
          0.13,
          0.06,
          0.02,
          0.22,
          0.23,
          0.34,
          0.23,
          0.28,
          0.36,
          0.43,
          0.45,
          0.49,
          0.53,
          0,
          0,
          0,
          0.03,
          0.02,
          0.05,
          0.05,
          0.11,
          0.14,
          0.11,
          null,
          null,
          0.18,
          0.15,
          0.15,
          0.17,
          0.17,
          0.16,
          0.22,
          0.22,
          0.2,
          0.22,
          0.16,
          0.15,
          0.21,
          0.2,
          0.26,
          0.3,
          0.28,
          0.3,
          0.09,
          0.13,
          0.09,
          0.16,
          0.21,
          0.2,
          0.2,
          0.21,
          0.2,
          0.2,
          0.2,
          0.14,
          0.16,
          0,
          0,
          0.03,
          0.11,
          0.02,
          0.04,
          0.05,
          0.02,
          0.05,
          0.12,
          0.08,
          0.09,
          0.1,
          0.05,
          0.09,
          0.08,
          0.09,
          0.1,
          0.08,
          0.1,
          0.1,
          0.11,
          0.11,
          0.17,
          0.15,
          0.16,
          0.17,
          0.23,
          0.23,
          0.26,
          0.29,
          0.33,
          0.33,
          0.34,
          0.37,
          0.38,
          0.37,
          0.37,
          0.39,
          0.37,
          0,
          0,
          0,
          0,
          0,
          0.11,
          0.14,
          0.14,
          0.13,
          0.26,
          0.13,
          0.1,
          0.17,
          0.09,
          0.19,
          0.13,
          0.12,
          0.19,
          0.22,
          0.03,
          0.06,
          0.02,
          0.03,
          0.04,
          0.04,
          0.14,
          0.12,
          0.06,
          0.08,
          0.12,
          0.12,
          0.16,
          0.17,
          0.17,
          0.2,
          0.21,
          null,
          0.21,
          0,
          0,
          0.03,
          0,
          0,
          0.04,
          0.01,
          0.04,
          0.07,
          0.06,
          0.04,
          0.17,
          0.16,
          0.25,
          0.32,
          0.32,
          0.38,
          0.39,
          0,
          0.01,
          0.01,
          0.02,
          0.01,
          0.02,
          0.02,
          0.09,
          0.08,
          0.04,
          0.02,
          0.02,
          0.02,
          0.02,
          0.13,
          0.02,
          0.15,
          0.02,
          0.12,
          0.04,
          0.04,
          0.04,
          0.06,
          0.06,
          0.07,
          0.12,
          0.07,
          0.12,
          0.08,
          0.11,
          0.11,
          0.1,
          0.11,
          0.17,
          0.19,
          0.26,
          0.32,
          0.31,
          0.06,
          0.03,
          0.13,
          0.08,
          0.05,
          0.14,
          0.18,
          0.14,
          0.18,
          0.06,
          0.22,
          0.2,
          0.21,
          0.06,
          0.14,
          0.13,
          0.18,
          0.19,
          0.24,
          0.22,
          0.21,
          0.2,
          0.24,
          0.02,
          0.05,
          0.02,
          0.04,
          0.03,
          0.03,
          0.11,
          0.12,
          0.14,
          0.06,
          0.07,
          0.01,
          0.02,
          0.02,
          0,
          0.02,
          0.08,
          0.21,
          0.21,
          0.28,
          0.39,
          0.04,
          0.02,
          0.02,
          0,
          0.01,
          0.04,
          0.11,
          0.09,
          0.07,
          0.11,
          0.16,
          0.2,
          0.09,
          0.15,
          0.14,
          0.16,
          0.16,
          0.22,
          0.23,
          0.26,
          0.3,
          0.32,
          0.39,
          0.34,
          0.37,
          0.38,
          0.42,
          0.42,
          0.42,
          0.42,
          0.06,
          0.05,
          0.07,
          0.04,
          0.03,
          0.02,
          0.02,
          0.02,
          0.02,
          0.03,
          0.04,
          0.07,
          0.07,
          0.07,
          0.06,
          0.11,
          0.12,
          0.12,
          0.18,
          0.19,
          0.27,
          0.39,
          0.01,
          0,
          0,
          0.04,
          0.14,
          0.13,
          0.06,
          0.08,
          0.09,
          0.12,
          0.13,
          0.18,
          0,
          0,
          null,
          0.06,
          0.08,
          0.08,
          0.02,
          0.13,
          0.09,
          0.08,
          0.1,
          0.07,
          0.06,
          0.07,
          0.07,
          0.09,
          0.07,
          0.06,
          0.12,
          0.11,
          null,
          0.16,
          0.21,
          0.26,
          0.31,
          0.32,
          0.32,
          0.33,
          0.33,
          0.32,
          0.36,
          0.31,
          0.27,
          0.24,
          0.24,
          0.27,
          0.31,
          0.32,
          0.34,
          0.32,
          0.32,
          0.2,
          0.07,
          0.09,
          0.09,
          0.08,
          0.07,
          0.07,
          0.06,
          0.07,
          0.08,
          0.1,
          0.15,
          null,
          0.1,
          0.1,
          0.01,
          0.04,
          0.08,
          0.09,
          0.09,
          0.11,
          0.08,
          0.11,
          null,
          0,
          0,
          0,
          0,
          0.01,
          0.01,
          0.01,
          0,
          0.01,
          0.02,
          0.03,
          0.04,
          0.04,
          0.04,
          0.07,
          0.05,
          0.06,
          0.06,
          0.09,
          0.14,
          0.16,
          0.15,
          0.17,
          0.21,
          0.23,
          0.2,
          0.2,
          0.12,
          0.13,
          0.2,
          0.27,
          0.27,
          0.13,
          0.47,
          0.02,
          0,
          0,
          0.02,
          0.02,
          0.04,
          0.03,
          0,
          0.07,
          0.05,
          0.08,
          0.12,
          0.07,
          0.08,
          0.12,
          0.13,
          0.14,
          0.19,
          0.21,
          0.17,
          null,
          0.07,
          0.19,
          0.22,
          0.08,
          0.13,
          0.15,
          0.2,
          0.1,
          0.08,
          0.14,
          0.1,
          0.14,
          0.09,
          null,
          0.13,
          null,
          null,
          0.2,
          0.2,
          0.2,
          0.29,
          0.31,
          0.3,
          0,
          0,
          0,
          0,
          0,
          0,
          0.05,
          0.09,
          0.03,
          0.05,
          0.08,
          0.01,
          0.04,
          0.04,
          0.04,
          0.04,
          0.04,
          0.03,
          0,
          0,
          0.05,
          0.1,
          0.09,
          0.08,
          0.1,
          0.07,
          0.08,
          0.05,
          0.23,
          0.18,
          0.26,
          0.21,
          0.03,
          0.05,
          0.18,
          0.17,
          0.18,
          0.18,
          0.2,
          0.24,
          0.29,
          0.3,
          0.21,
          0.07,
          0.11,
          0.08,
          0.09,
          0.09,
          0.1,
          0.09,
          0.1,
          0.13,
          0.02,
          0.04,
          0,
          0.02,
          0.04,
          0.03,
          0.02,
          0.02,
          0.05,
          0.05,
          0.05,
          0.05,
          0.15,
          0.21,
          0.24,
          0.25,
          0.35,
          0.3,
          0.32,
          0.33,
          0.43,
          0.4,
          0.41,
          0.48,
          0.38,
          0.04,
          0.05,
          0.07,
          0.06,
          0.04,
          0.03,
          0.05,
          0.08,
          0.05,
          0.07,
          0.07,
          0.08,
          0.08,
          0.08,
          0.11,
          0.11,
          0.12,
          0.03,
          0.03,
          0.06,
          0.06,
          0.09,
          0.08,
          0.07,
          0.07,
          0.07,
          0.09,
          0.12,
          0.12,
          0.13,
          0.08,
          0.11,
          0.17,
          0.18,
          0.17,
          0,
          null,
          0,
          0,
          0.03,
          0.03,
          0.07,
          0.07,
          0.01,
          0.01,
          0.01,
          0.03,
          0.04,
          0.03,
          0.04,
          0.03,
          0.03,
          0.03,
          0.06,
          0,
          0,
          0,
          0,
          0,
          0.06,
          0.13,
          0.11,
          0.06,
          0.08,
          0.32,
          0.25,
          0.25,
          0.25,
          0.25,
          0.03,
          0.03,
          0.03,
          0.03,
          0.02,
          0.03,
          0.02,
          0.03,
          0.04,
          0.06,
          0.08,
          0.08,
          0.08,
          0.12,
          0.14,
          0.12,
          0.13,
          0.13,
          0.13,
          0.14,
          0.15,
          0.16,
          0.11,
          0.09,
          0.09,
          0.08,
          0.08,
          0.08,
          0.07,
          0.07,
          0.07,
          0.08,
          0.08,
          0.07,
          0.09,
          0.12,
          0.15,
          0.14,
          0.18,
          0.22,
          0.22,
          0.22,
          0.24,
          0.25,
          0.26,
          0.27,
          0.08,
          0.06,
          0.04,
          0.05,
          0.03,
          0.04,
          0.07,
          0.08,
          0.08,
          0.13,
          0.08,
          0.15,
          0.11,
          0.1,
          0.17,
          0.21,
          0.28,
          0.31,
          0.36,
          0.04,
          0.04,
          0.08,
          0.1,
          0.12,
          0.05,
          0.12,
          0.12,
          0.12,
          0.13,
          0.13,
          0.13,
          0.17,
          0.08,
          0.03,
          0.03,
          0.02,
          0.02,
          0.02,
          0.02,
          0.01,
          0.01,
          0.01,
          0.02,
          0.01,
          0.01,
          0.02,
          0.02,
          0.02,
          0.01,
          0.02,
          0.03,
          0.05,
          0.07,
          0.07,
          0.07,
          0.09,
          0.11,
          0.08,
          0.09,
          0,
          0,
          0,
          0,
          0,
          0,
          0,
          0,
          0,
          0.01,
          0.01,
          0,
          0.05,
          0.06,
          0.11,
          0.11,
          0.12,
          0.12,
          0.15,
          0.07,
          0.12,
          0.13,
          0.12,
          0.11,
          0.1,
          0.16,
          0.24,
          0.26,
          0.27,
          0,
          0.01,
          0.03,
          0.03,
          0.02,
          0.01,
          0.03,
          0.03,
          0.07,
          0.09,
          0.1,
          0.22,
          0,
          0,
          0,
          0,
          0,
          0,
          0.05,
          0.05,
          0.05,
          0.04,
          0.09,
          0.07,
          0,
          0,
          0,
          0,
          0,
          0,
          0,
          0,
          0.05,
          0,
          0.02,
          0.03,
          0.08,
          0,
          0.06,
          0.06,
          0.01,
          0.02,
          0.02,
          0.06,
          0.05,
          0.02,
          0,
          0.26,
          0.23,
          0.19,
          0,
          0,
          0,
          0,
          0.03,
          0.09,
          0.06,
          0.09,
          0.21,
          0.23,
          0.25,
          0.25,
          0.28,
          0.04,
          0.15,
          0.17,
          0.18,
          0.19,
          0.19,
          0.23,
          0.19,
          0.31,
          0,
          0,
          0,
          0,
          0,
          0,
          0,
          0.02,
          0.02,
          0.02,
          0.05,
          0.03,
          0.05,
          0,
          0,
          0.07,
          0.05,
          0.04,
          0.12,
          0.24,
          0.25,
          0.25,
          0.22,
          null,
          null,
          null,
          0.08,
          0.05,
          0.12,
          0.1,
          0.1,
          0.16,
          0.16,
          0,
          0,
          null,
          null,
          null,
          null,
          null,
          null,
          0.08,
          0.07,
          0.04,
          0.04,
          0.08,
          0.04,
          0.12,
          0.24,
          0.24,
          0.2,
          0.12,
          0.1,
          0.07,
          0.18,
          0.11,
          0.21,
          0.18,
          0.24,
          0.23,
          0.21,
          0,
          0,
          0,
          0,
          0,
          0,
          0.04,
          0.05,
          0.14,
          0.12,
          0.13,
          0.2,
          0.17,
          0.2,
          0.25,
          0.28,
          0.2,
          0,
          0.01,
          0.06,
          0.03,
          0.01,
          0.07,
          0.04,
          0.08,
          0.04,
          0.08,
          0.12,
          0.17,
          0.07,
          0.07,
          0.09,
          0.05,
          null,
          0.12,
          0.06,
          0.08,
          0.15,
          0.21,
          0.17,
          0.03,
          0.02,
          0.02,
          0.03,
          0.05,
          0.05,
          0.05,
          0.06,
          0.08,
          0.07,
          0.09,
          0.11,
          0.1,
          0.14,
          0.04,
          0.02,
          0.06,
          0.06,
          0.06,
          0.12,
          0.06,
          0.06,
          0.01,
          0.04,
          0.02,
          0.04,
          0.06,
          0.02,
          0.12,
          0.1,
          0.1,
          0.1,
          0.04,
          0.04,
          0.03,
          0.03,
          0.03,
          0.02,
          0.09,
          0.08,
          0.09,
          0.14,
          0.12,
          0.03,
          0.03,
          0.03,
          0.03,
          0.03,
          0.09,
          0,
          0,
          0.03,
          0,
          0.04,
          0.04,
          0.18,
          0.22,
          0.2,
          0,
          0.04,
          0.04,
          0.06,
          0.07,
          0.03,
          0.08,
          0.06,
          0.17,
          0.19,
          0.12,
          0.01,
          0.02,
          0.05,
          0.04,
          0.06,
          0.06,
          0.05,
          0.06,
          0.08,
          0.08,
          0.11,
          0.11,
          0.12,
          0.08,
          0.14,
          0.14,
          0.16,
          0.23,
          0.26,
          0.23,
          0.28,
          0.37,
          0.42,
          0.48,
          0,
          0,
          0,
          0,
          0,
          0,
          0,
          0,
          0,
          0,
          0.06,
          0.06,
          0.06,
          0.11,
          0.11,
          0.11,
          0.06,
          0.22,
          0.21,
          0.25,
          0.21,
          0.33,
          0.2,
          0.22,
          0.09,
          0.21,
          0.2,
          0.22,
          0.22,
          0.23,
          0.23,
          0.24,
          0.25,
          0.02,
          0.04,
          0.08,
          0.11,
          0.07,
          0.09,
          0.03,
          0.05,
          0.04,
          0.13,
          0.14,
          0.17,
          0.09,
          0.06,
          null,
          0.15,
          0.19,
          0.23,
          0,
          0,
          0,
          0,
          0.01,
          0.01,
          0.11,
          0.1,
          0.17,
          0.17,
          0.17,
          0.2,
          0.12,
          0.16,
          0.16,
          0.25,
          0.3,
          0.35,
          0.39,
          0.4,
          null,
          null,
          null,
          0.02,
          0.03,
          0.03,
          null,
          null,
          0.04,
          0.13,
          0.18,
          0.25,
          0.27,
          0.24,
          0.41,
          0,
          0,
          0,
          0,
          0,
          0,
          0,
          0.06,
          0.06,
          0.06,
          null,
          0.06,
          0,
          0,
          0,
          0,
          0,
          0,
          0,
          0,
          0.05,
          0.05,
          0.01,
          0.02,
          0.02,
          0.02,
          0.03,
          0.03,
          0.02,
          0.02,
          0.02,
          0.03,
          0.03,
          0.03,
          0.04,
          0.04,
          0.02,
          0.02,
          0.02,
          0.02,
          0.03,
          0.05,
          0.05,
          0.05,
          0.05,
          0.05,
          0.05,
          0.05,
          0.06,
          0.06,
          0.03,
          0.03,
          0.06,
          0.17,
          0.34,
          0.33,
          0.33,
          0.33,
          0.04,
          0.05,
          0.07,
          0.09,
          0.09,
          0.09,
          0.1,
          0.08,
          null,
          0.1,
          null,
          0.11,
          null,
          0.2,
          0.21,
          0.33,
          0.36,
          0.34,
          0.37,
          0.37,
          0.41,
          0.39,
          0.36,
          0.02,
          0.04,
          0.04,
          0.05,
          0.05,
          0.05,
          0.06,
          0.06,
          0.05,
          0.05,
          0.05,
          0.04,
          0.09,
          0.13,
          0.14,
          0.16,
          0.21,
          0.29,
          0.29,
          0.29,
          0.32,
          0.34,
          0.32,
          0.3,
          0.38,
          0,
          0,
          0,
          0.11,
          0.22,
          0.16,
          0.1,
          0.21,
          0.15,
          0.4,
          0.41,
          0.46,
          0,
          0,
          0,
          0.05,
          0.06,
          0.04,
          0.01,
          0.01,
          0.12,
          0.1,
          0.13,
          0.13,
          0.15,
          null,
          null,
          null,
          0.02,
          0.03,
          0.05,
          0.07,
          0.04,
          0.04,
          0.06,
          0.05,
          0.05,
          0.05,
          0.07,
          0.09,
          0.08,
          0.09,
          0.15,
          0.24,
          0.26,
          0.34,
          0.36,
          0.39,
          0.39,
          0.36,
          0.36,
          0.38,
          0.4,
          0.4,
          0.41,
          0.02,
          0,
          0.01,
          0.01,
          0.04,
          0.05,
          0.09,
          0.1,
          0.01,
          0.02,
          0.02,
          0.22,
          0.21,
          0.22,
          0.21,
          0.2,
          0,
          0,
          0,
          0,
          0.15,
          0,
          0,
          0.12,
          0.04,
          0.02,
          0.02,
          0.04,
          0.04,
          0.02,
          0.03,
          0,
          0.08,
          0.05,
          0.02,
          0.06,
          0.07,
          0.08,
          0.08,
          0.17,
          0.08,
          0.19,
          0.02,
          0.01,
          0,
          0,
          0,
          0.02,
          0.01,
          0.01,
          0.03,
          0,
          0,
          0,
          0,
          0,
          0,
          0.03,
          0.02,
          0.03,
          0.05,
          0.03,
          0.02,
          0.03,
          0.06,
          0.02,
          0.1,
          0.09,
          0.12,
          0.18,
          0.15,
          0,
          0,
          0.04,
          0.03,
          0.01,
          0.07,
          0.06,
          0.07,
          0.1,
          0.2,
          0.18,
          0.18,
          0.29,
          0.22,
          0.22,
          0.26,
          0.28,
          0.01,
          0.01,
          0.02,
          0.01,
          0.02,
          0.06,
          0.03,
          0.06,
          0.06,
          0.09,
          0.11,
          0.09,
          0.11,
          0.18,
          0.16,
          0.22,
          0.2,
          0.21,
          0.27,
          0.27,
          0.3,
          0,
          0.18,
          0.04,
          0.13,
          0.12,
          0.13,
          0.16,
          0.21,
          0.23,
          0.2,
          0.13,
          0.1,
          0.13,
          0.13,
          0.2,
          0.2,
          0.2,
          0.24,
          0.27,
          0.02,
          0.02,
          0.02,
          0.02,
          0.02,
          0.03,
          0.03,
          0.06,
          0.05,
          0.07,
          0.07,
          0.07,
          0.06,
          0.08,
          0.13,
          0.13,
          0.19,
          0.19,
          0.21,
          0.28,
          0.27,
          0.35,
          0,
          0.01,
          0,
          0.01,
          0,
          0.01,
          0.02,
          0.02,
          0.05,
          0.03,
          0.03,
          0.03,
          0.02,
          0.02,
          0.03,
          0.04,
          0.04,
          0.06,
          0.06,
          null,
          0.14,
          0.16,
          0.16,
          0.17,
          0.02,
          0.05,
          0.08,
          0.13,
          0.22,
          0.24,
          0.26,
          0.24,
          0.19,
          0.18,
          0.05,
          0.07,
          0.15,
          0.16,
          0.17,
          0.14,
          0.14,
          0.15,
          0.33,
          0.34,
          0.04,
          0.04,
          0.07,
          0.11,
          0.11,
          0.11,
          0.13,
          0.14,
          0.09,
          0.13,
          0.08,
          0.1,
          0.14,
          0.14,
          0.14,
          0.13,
          0,
          0,
          0.06,
          0.13,
          0.17,
          0.04,
          0.49,
          0.56,
          0.56,
          0.64,
          0.61,
          0.07,
          0.07,
          0.06,
          0.13,
          0.13,
          0,
          0.07,
          0.13,
          0,
          0,
          0,
          0,
          0,
          0.12,
          0.11,
          0.06,
          0,
          0.17,
          0.17,
          0.12,
          0.11,
          0.05,
          0.1,
          0.1,
          0.05,
          0.23,
          0.18,
          0.14,
          0.13,
          0.02,
          0,
          0.02,
          0.02,
          0.04,
          0.02,
          0.02,
          0.04,
          0.02,
          0.04,
          0.06,
          0.06,
          0.08,
          0.04,
          0.1,
          0,
          0,
          0,
          0,
          0,
          0,
          0,
          0.07,
          0.05,
          0.1,
          0.12,
          0.12,
          0.13,
          0.17,
          0.12,
          0.15,
          0.17,
          0.23,
          0.18,
          0.05,
          0.12,
          0.11,
          0.07,
          0.09,
          0.09,
          0.07,
          0.18,
          0.18,
          0.15,
          0.2,
          0.2,
          0,
          0.01,
          0.01,
          0.04,
          0.07,
          0.11,
          0.12,
          0.12,
          0.12,
          0.19,
          0.22,
          0.43,
          0.42,
          0.2,
          0.22,
          0.32,
          0.34,
          0.34,
          0.08,
          0,
          0.32,
          0.24,
          0.16,
          0.46,
          0.27,
          0.24,
          0.29,
          0.24,
          0.45,
          0.44,
          0.44,
          0.44,
          null,
          null,
          0.01,
          0,
          0.01,
          null,
          0.06,
          0.15,
          0.14,
          0.13,
          0.12,
          0.12,
          0.06,
          0.02,
          0,
          0,
          0,
          0.04,
          0.05,
          0.04,
          0.06,
          0.12,
          0.21,
          0.22,
          0.24,
          0.18,
          0.15,
          0.13,
          0.19,
          0.17,
          0.16,
          0.15,
          0.17,
          0.19,
          0.2,
          0.14,
          0.08,
          0.1,
          0.12,
          0.12,
          0.13,
          0.32,
          0.36,
          0.24,
          0,
          0,
          0,
          0.02,
          0.02,
          0,
          0,
          0,
          0.02,
          0,
          0,
          0,
          0.1,
          0.04,
          0.07,
          0.14,
          0.01,
          0.02,
          0.01,
          0.02,
          0.01,
          0.01,
          0.01,
          0.01,
          0.01,
          0.25,
          0.3,
          0.3,
          0.33,
          0.44,
          0.44,
          0.41,
          0.42,
          0.27,
          0.27,
          0.28,
          0,
          0,
          0,
          0,
          0,
          0,
          0.01,
          0.01,
          0.01,
          0.06,
          0.07,
          0.06,
          0.09,
          0.15,
          0.16,
          0.21,
          0.28,
          0.36,
          0.36,
          0.36,
          0.4,
          0.39,
          0.01,
          0.02,
          0.03,
          0.01,
          0.03,
          0.04,
          0.02,
          0.05,
          0.05,
          0.04,
          0.04,
          0.05,
          0.05,
          0.05,
          0,
          0,
          0.05,
          0.06,
          0.07,
          0.07,
          0.08,
          0.05,
          0.1,
          0.15,
          0.26,
          0.31,
          0.05,
          0.08,
          0.06,
          0.16,
          0.18,
          0.25,
          0.1,
          0.25,
          0.1,
          0.12,
          0.13,
          0.14,
          0.13,
          0.15,
          0.14,
          0.21,
          0.23,
          0.28,
          0.28,
          0.32,
          0.38,
          0.34,
          0.4,
          0.43,
          0.45,
          0.45,
          0.47,
          0.45,
          0.44,
          0.46,
          0.06,
          0.07,
          0.1,
          0.11,
          0.14,
          0.18,
          0.21,
          0.22,
          0.25,
          0.3,
          0.3,
          0.32,
          0,
          0,
          0,
          0.01,
          0,
          0.03,
          0.04,
          0.07,
          0.09,
          0.08,
          0.1,
          0.1,
          0.12,
          0.12,
          0.12,
          0.12,
          0.13,
          0.03,
          0.03,
          0.03,
          0.15,
          0.17,
          0.19,
          0.19,
          0,
          0,
          0,
          0,
          0.03,
          0.01,
          0.02,
          0.03,
          0,
          0.06,
          0.01,
          0.02,
          0.03,
          0.04,
          0.03,
          0.03,
          0.04,
          0.04,
          0.06,
          0.06,
          0.09,
          0.11,
          0.12,
          0.16,
          0.06,
          0.04,
          0.03,
          0.08,
          0.18,
          0.28,
          0.3,
          0.3,
          0.31,
          0.33,
          0.33,
          0.28,
          0.29,
          0.38,
          0.32,
          0.34,
          0.02,
          0,
          0.1,
          0.05,
          0.04,
          0.06,
          0.01,
          0.05,
          0.07,
          0.07,
          0.09,
          0.11,
          0.15,
          0.16,
          0,
          0,
          0,
          0,
          0,
          0,
          0.03,
          0,
          0,
          0,
          0.03,
          0.03,
          0,
          0,
          0.03,
          0.08,
          0.03,
          0.08,
          0.17,
          0.17,
          0.14,
          0.11,
          0.11,
          0.11,
          0.19,
          0.27,
          0.29,
          0.31,
          0.01,
          0.01,
          0.04,
          0.03,
          0.03,
          0.05,
          0.06,
          0.04,
          0.07,
          0.12,
          0.23,
          0.28,
          0.26,
          0.27,
          0.31,
          0.02,
          0.01,
          0.01,
          0.01,
          0.01,
          0.01,
          0.01,
          0.01,
          0.01,
          0.03,
          0.01,
          0.02,
          0.02,
          0.04,
          0.04,
          0.09,
          0.14,
          0.15,
          0.17,
          0.05,
          0.18,
          0.26,
          0.15,
          0.17,
          0.17,
          0.25,
          0,
          0,
          0,
          0,
          0.08,
          0.08,
          0,
          0,
          0,
          0,
          0.07,
          null,
          0.01,
          0.12,
          0.19,
          0.18,
          0.25,
          0.28,
          0.12,
          0.12,
          0.02,
          0.04,
          0.08,
          0.05,
          0.07,
          0.08,
          0.08,
          0.09,
          0.12,
          0,
          0,
          0,
          0,
          0,
          0,
          0,
          0,
          0,
          0,
          0,
          0.05,
          0.05,
          0.18,
          0.22,
          0.04,
          0.03,
          0.03,
          0.04,
          0.04,
          0.05,
          0.04,
          0.04,
          0.04,
          0.04,
          0.03,
          0.04,
          0.06,
          0.09,
          0.1,
          0.18,
          0.18,
          0.18,
          0.18,
          0.2,
          0.22,
          0.29,
          0.32,
          null,
          0.04,
          0.08,
          0.1,
          null,
          0.11,
          0.22,
          0.3,
          0.36,
          0.37,
          0.02,
          0.02,
          0.02,
          0.02,
          0.03,
          0.04,
          0.03,
          0.04,
          0.04,
          0.03,
          0.02,
          0.02,
          0.02,
          0.03,
          0.04,
          0.04,
          0.04,
          0.04,
          0.05,
          0.05,
          0.05,
          0.07,
          0.06,
          0.11,
          0.11,
          0.12,
          0.13,
          0.13,
          0.14,
          0.15,
          0.16,
          0.17,
          0.17,
          0.18,
          0.19,
          0.19,
          0.24,
          0,
          0,
          0,
          0,
          0,
          0,
          0.01,
          0,
          0.06,
          0.07,
          0.12,
          0.12,
          0.14,
          0.16,
          0.17,
          0.2,
          0.24,
          0.26,
          0.27,
          0.29,
          0.3,
          0.31,
          0.32,
          0.31,
          0.14,
          0.1,
          0.06,
          0.07,
          0.18,
          0.22,
          0.16,
          0,
          0,
          0.04,
          0.02,
          0,
          0.02,
          0.04,
          0.04,
          0,
          0,
          0.02,
          0.02,
          0.03,
          0,
          0.02,
          0.03,
          0.04,
          0.1,
          0.06,
          0.13,
          0.12,
          0.1,
          0.17,
          0.17,
          0.14,
          0.27,
          0.22,
          0.18,
          0.18,
          0.18,
          0.26,
          0.27,
          0.26,
          0.24,
          0.24,
          0.27,
          0.27,
          0.05,
          0.14,
          0.17,
          0.3,
          0.32,
          null,
          null,
          0.01,
          null,
          0.03,
          0.01,
          0.01,
          0,
          0,
          0,
          0,
          null,
          0.09,
          0.06,
          0.1,
          0.04,
          0.05,
          0.03,
          0.05,
          0.07,
          0.03,
          0.03,
          0.05,
          0.06,
          0.19,
          0.2,
          0.2,
          0.18,
          0.02,
          0.06,
          0.04,
          0.03,
          0.07,
          0.07,
          0.1,
          0.12,
          0.15,
          0.11,
          0.13,
          0.18,
          0.08,
          0.11,
          0.12,
          0.15,
          0.09,
          0.16,
          0.15,
          0.31,
          0.31
         ],
         "yaxis": "y"
        }
       ],
       "layout": {
        "autosize": false,
        "coloraxis": {
         "colorbar": {
          "title": {
           "text": "Year"
          }
         },
         "colorscale": [
          [
           0,
           "#0d0887"
          ],
          [
           0.1111111111111111,
           "#46039f"
          ],
          [
           0.2222222222222222,
           "#7201a8"
          ],
          [
           0.3333333333333333,
           "#9c179e"
          ],
          [
           0.4444444444444444,
           "#bd3786"
          ],
          [
           0.5555555555555556,
           "#d8576b"
          ],
          [
           0.6666666666666666,
           "#ed7953"
          ],
          [
           0.7777777777777778,
           "#fb9f3a"
          ],
          [
           0.8888888888888888,
           "#fdca26"
          ],
          [
           1,
           "#f0f921"
          ]
         ]
        },
        "font": {
         "color": "grey",
         "family": "Courier New"
        },
        "height": 800,
        "legend": {
         "title": {
          "font": {
           "color": "grey"
          }
         },
         "tracegroupgap": 0
        },
        "template": {
         "data": {
          "bar": [
           {
            "error_x": {
             "color": "#2a3f5f"
            },
            "error_y": {
             "color": "#2a3f5f"
            },
            "marker": {
             "line": {
              "color": "#E5ECF6",
              "width": 0.5
             },
             "pattern": {
              "fillmode": "overlay",
              "size": 10,
              "solidity": 0.2
             }
            },
            "type": "bar"
           }
          ],
          "barpolar": [
           {
            "marker": {
             "line": {
              "color": "#E5ECF6",
              "width": 0.5
             },
             "pattern": {
              "fillmode": "overlay",
              "size": 10,
              "solidity": 0.2
             }
            },
            "type": "barpolar"
           }
          ],
          "carpet": [
           {
            "aaxis": {
             "endlinecolor": "#2a3f5f",
             "gridcolor": "white",
             "linecolor": "white",
             "minorgridcolor": "white",
             "startlinecolor": "#2a3f5f"
            },
            "baxis": {
             "endlinecolor": "#2a3f5f",
             "gridcolor": "white",
             "linecolor": "white",
             "minorgridcolor": "white",
             "startlinecolor": "#2a3f5f"
            },
            "type": "carpet"
           }
          ],
          "choropleth": [
           {
            "colorbar": {
             "outlinewidth": 0,
             "ticks": ""
            },
            "type": "choropleth"
           }
          ],
          "contour": [
           {
            "colorbar": {
             "outlinewidth": 0,
             "ticks": ""
            },
            "colorscale": [
             [
              0,
              "#0d0887"
             ],
             [
              0.1111111111111111,
              "#46039f"
             ],
             [
              0.2222222222222222,
              "#7201a8"
             ],
             [
              0.3333333333333333,
              "#9c179e"
             ],
             [
              0.4444444444444444,
              "#bd3786"
             ],
             [
              0.5555555555555556,
              "#d8576b"
             ],
             [
              0.6666666666666666,
              "#ed7953"
             ],
             [
              0.7777777777777778,
              "#fb9f3a"
             ],
             [
              0.8888888888888888,
              "#fdca26"
             ],
             [
              1,
              "#f0f921"
             ]
            ],
            "type": "contour"
           }
          ],
          "contourcarpet": [
           {
            "colorbar": {
             "outlinewidth": 0,
             "ticks": ""
            },
            "type": "contourcarpet"
           }
          ],
          "heatmap": [
           {
            "colorbar": {
             "outlinewidth": 0,
             "ticks": ""
            },
            "colorscale": [
             [
              0,
              "#0d0887"
             ],
             [
              0.1111111111111111,
              "#46039f"
             ],
             [
              0.2222222222222222,
              "#7201a8"
             ],
             [
              0.3333333333333333,
              "#9c179e"
             ],
             [
              0.4444444444444444,
              "#bd3786"
             ],
             [
              0.5555555555555556,
              "#d8576b"
             ],
             [
              0.6666666666666666,
              "#ed7953"
             ],
             [
              0.7777777777777778,
              "#fb9f3a"
             ],
             [
              0.8888888888888888,
              "#fdca26"
             ],
             [
              1,
              "#f0f921"
             ]
            ],
            "type": "heatmap"
           }
          ],
          "heatmapgl": [
           {
            "colorbar": {
             "outlinewidth": 0,
             "ticks": ""
            },
            "colorscale": [
             [
              0,
              "#0d0887"
             ],
             [
              0.1111111111111111,
              "#46039f"
             ],
             [
              0.2222222222222222,
              "#7201a8"
             ],
             [
              0.3333333333333333,
              "#9c179e"
             ],
             [
              0.4444444444444444,
              "#bd3786"
             ],
             [
              0.5555555555555556,
              "#d8576b"
             ],
             [
              0.6666666666666666,
              "#ed7953"
             ],
             [
              0.7777777777777778,
              "#fb9f3a"
             ],
             [
              0.8888888888888888,
              "#fdca26"
             ],
             [
              1,
              "#f0f921"
             ]
            ],
            "type": "heatmapgl"
           }
          ],
          "histogram": [
           {
            "marker": {
             "pattern": {
              "fillmode": "overlay",
              "size": 10,
              "solidity": 0.2
             }
            },
            "type": "histogram"
           }
          ],
          "histogram2d": [
           {
            "colorbar": {
             "outlinewidth": 0,
             "ticks": ""
            },
            "colorscale": [
             [
              0,
              "#0d0887"
             ],
             [
              0.1111111111111111,
              "#46039f"
             ],
             [
              0.2222222222222222,
              "#7201a8"
             ],
             [
              0.3333333333333333,
              "#9c179e"
             ],
             [
              0.4444444444444444,
              "#bd3786"
             ],
             [
              0.5555555555555556,
              "#d8576b"
             ],
             [
              0.6666666666666666,
              "#ed7953"
             ],
             [
              0.7777777777777778,
              "#fb9f3a"
             ],
             [
              0.8888888888888888,
              "#fdca26"
             ],
             [
              1,
              "#f0f921"
             ]
            ],
            "type": "histogram2d"
           }
          ],
          "histogram2dcontour": [
           {
            "colorbar": {
             "outlinewidth": 0,
             "ticks": ""
            },
            "colorscale": [
             [
              0,
              "#0d0887"
             ],
             [
              0.1111111111111111,
              "#46039f"
             ],
             [
              0.2222222222222222,
              "#7201a8"
             ],
             [
              0.3333333333333333,
              "#9c179e"
             ],
             [
              0.4444444444444444,
              "#bd3786"
             ],
             [
              0.5555555555555556,
              "#d8576b"
             ],
             [
              0.6666666666666666,
              "#ed7953"
             ],
             [
              0.7777777777777778,
              "#fb9f3a"
             ],
             [
              0.8888888888888888,
              "#fdca26"
             ],
             [
              1,
              "#f0f921"
             ]
            ],
            "type": "histogram2dcontour"
           }
          ],
          "mesh3d": [
           {
            "colorbar": {
             "outlinewidth": 0,
             "ticks": ""
            },
            "type": "mesh3d"
           }
          ],
          "parcoords": [
           {
            "line": {
             "colorbar": {
              "outlinewidth": 0,
              "ticks": ""
             }
            },
            "type": "parcoords"
           }
          ],
          "pie": [
           {
            "automargin": true,
            "type": "pie"
           }
          ],
          "scatter": [
           {
            "marker": {
             "colorbar": {
              "outlinewidth": 0,
              "ticks": ""
             }
            },
            "type": "scatter"
           }
          ],
          "scatter3d": [
           {
            "line": {
             "colorbar": {
              "outlinewidth": 0,
              "ticks": ""
             }
            },
            "marker": {
             "colorbar": {
              "outlinewidth": 0,
              "ticks": ""
             }
            },
            "type": "scatter3d"
           }
          ],
          "scattercarpet": [
           {
            "marker": {
             "colorbar": {
              "outlinewidth": 0,
              "ticks": ""
             }
            },
            "type": "scattercarpet"
           }
          ],
          "scattergeo": [
           {
            "marker": {
             "colorbar": {
              "outlinewidth": 0,
              "ticks": ""
             }
            },
            "type": "scattergeo"
           }
          ],
          "scattergl": [
           {
            "marker": {
             "colorbar": {
              "outlinewidth": 0,
              "ticks": ""
             }
            },
            "type": "scattergl"
           }
          ],
          "scattermapbox": [
           {
            "marker": {
             "colorbar": {
              "outlinewidth": 0,
              "ticks": ""
             }
            },
            "type": "scattermapbox"
           }
          ],
          "scatterpolar": [
           {
            "marker": {
             "colorbar": {
              "outlinewidth": 0,
              "ticks": ""
             }
            },
            "type": "scatterpolar"
           }
          ],
          "scatterpolargl": [
           {
            "marker": {
             "colorbar": {
              "outlinewidth": 0,
              "ticks": ""
             }
            },
            "type": "scatterpolargl"
           }
          ],
          "scatterternary": [
           {
            "marker": {
             "colorbar": {
              "outlinewidth": 0,
              "ticks": ""
             }
            },
            "type": "scatterternary"
           }
          ],
          "surface": [
           {
            "colorbar": {
             "outlinewidth": 0,
             "ticks": ""
            },
            "colorscale": [
             [
              0,
              "#0d0887"
             ],
             [
              0.1111111111111111,
              "#46039f"
             ],
             [
              0.2222222222222222,
              "#7201a8"
             ],
             [
              0.3333333333333333,
              "#9c179e"
             ],
             [
              0.4444444444444444,
              "#bd3786"
             ],
             [
              0.5555555555555556,
              "#d8576b"
             ],
             [
              0.6666666666666666,
              "#ed7953"
             ],
             [
              0.7777777777777778,
              "#fb9f3a"
             ],
             [
              0.8888888888888888,
              "#fdca26"
             ],
             [
              1,
              "#f0f921"
             ]
            ],
            "type": "surface"
           }
          ],
          "table": [
           {
            "cells": {
             "fill": {
              "color": "#EBF0F8"
             },
             "line": {
              "color": "white"
             }
            },
            "header": {
             "fill": {
              "color": "#C8D4E3"
             },
             "line": {
              "color": "white"
             }
            },
            "type": "table"
           }
          ]
         },
         "layout": {
          "annotationdefaults": {
           "arrowcolor": "#2a3f5f",
           "arrowhead": 0,
           "arrowwidth": 1
          },
          "autotypenumbers": "strict",
          "coloraxis": {
           "colorbar": {
            "outlinewidth": 0,
            "ticks": ""
           }
          },
          "colorscale": {
           "diverging": [
            [
             0,
             "#8e0152"
            ],
            [
             0.1,
             "#c51b7d"
            ],
            [
             0.2,
             "#de77ae"
            ],
            [
             0.3,
             "#f1b6da"
            ],
            [
             0.4,
             "#fde0ef"
            ],
            [
             0.5,
             "#f7f7f7"
            ],
            [
             0.6,
             "#e6f5d0"
            ],
            [
             0.7,
             "#b8e186"
            ],
            [
             0.8,
             "#7fbc41"
            ],
            [
             0.9,
             "#4d9221"
            ],
            [
             1,
             "#276419"
            ]
           ],
           "sequential": [
            [
             0,
             "#0d0887"
            ],
            [
             0.1111111111111111,
             "#46039f"
            ],
            [
             0.2222222222222222,
             "#7201a8"
            ],
            [
             0.3333333333333333,
             "#9c179e"
            ],
            [
             0.4444444444444444,
             "#bd3786"
            ],
            [
             0.5555555555555556,
             "#d8576b"
            ],
            [
             0.6666666666666666,
             "#ed7953"
            ],
            [
             0.7777777777777778,
             "#fb9f3a"
            ],
            [
             0.8888888888888888,
             "#fdca26"
            ],
            [
             1,
             "#f0f921"
            ]
           ],
           "sequentialminus": [
            [
             0,
             "#0d0887"
            ],
            [
             0.1111111111111111,
             "#46039f"
            ],
            [
             0.2222222222222222,
             "#7201a8"
            ],
            [
             0.3333333333333333,
             "#9c179e"
            ],
            [
             0.4444444444444444,
             "#bd3786"
            ],
            [
             0.5555555555555556,
             "#d8576b"
            ],
            [
             0.6666666666666666,
             "#ed7953"
            ],
            [
             0.7777777777777778,
             "#fb9f3a"
            ],
            [
             0.8888888888888888,
             "#fdca26"
            ],
            [
             1,
             "#f0f921"
            ]
           ]
          },
          "colorway": [
           "#636efa",
           "#EF553B",
           "#00cc96",
           "#ab63fa",
           "#FFA15A",
           "#19d3f3",
           "#FF6692",
           "#B6E880",
           "#FF97FF",
           "#FECB52"
          ],
          "font": {
           "color": "#2a3f5f"
          },
          "geo": {
           "bgcolor": "white",
           "lakecolor": "white",
           "landcolor": "#E5ECF6",
           "showlakes": true,
           "showland": true,
           "subunitcolor": "white"
          },
          "hoverlabel": {
           "align": "left"
          },
          "hovermode": "closest",
          "mapbox": {
           "style": "light"
          },
          "paper_bgcolor": "white",
          "plot_bgcolor": "#E5ECF6",
          "polar": {
           "angularaxis": {
            "gridcolor": "white",
            "linecolor": "white",
            "ticks": ""
           },
           "bgcolor": "#E5ECF6",
           "radialaxis": {
            "gridcolor": "white",
            "linecolor": "white",
            "ticks": ""
           }
          },
          "scene": {
           "xaxis": {
            "backgroundcolor": "#E5ECF6",
            "gridcolor": "white",
            "gridwidth": 2,
            "linecolor": "white",
            "showbackground": true,
            "ticks": "",
            "zerolinecolor": "white"
           },
           "yaxis": {
            "backgroundcolor": "#E5ECF6",
            "gridcolor": "white",
            "gridwidth": 2,
            "linecolor": "white",
            "showbackground": true,
            "ticks": "",
            "zerolinecolor": "white"
           },
           "zaxis": {
            "backgroundcolor": "#E5ECF6",
            "gridcolor": "white",
            "gridwidth": 2,
            "linecolor": "white",
            "showbackground": true,
            "ticks": "",
            "zerolinecolor": "white"
           }
          },
          "shapedefaults": {
           "line": {
            "color": "#2a3f5f"
           }
          },
          "ternary": {
           "aaxis": {
            "gridcolor": "white",
            "linecolor": "white",
            "ticks": ""
           },
           "baxis": {
            "gridcolor": "white",
            "linecolor": "white",
            "ticks": ""
           },
           "bgcolor": "#E5ECF6",
           "caxis": {
            "gridcolor": "white",
            "linecolor": "white",
            "ticks": ""
           }
          },
          "title": {
           "x": 0.05
          },
          "xaxis": {
           "automargin": true,
           "gridcolor": "white",
           "linecolor": "white",
           "ticks": "",
           "title": {
            "standoff": 15
           },
           "zerolinecolor": "white",
           "zerolinewidth": 2
          },
          "yaxis": {
           "automargin": true,
           "gridcolor": "white",
           "linecolor": "white",
           "ticks": "",
           "title": {
            "standoff": 15
           },
           "zerolinecolor": "white",
           "zerolinewidth": 2
          }
         }
        },
        "title": {
         "font": {
          "color": "#1f77b4",
          "family": "Courier New"
         },
         "text": "Women Representation in Parliament Through the Years - Country Level"
        },
        "width": 1100,
        "xaxis": {
         "anchor": "y",
         "domain": [
          0,
          1
         ],
         "title": {
          "text": "Country"
         }
        },
        "yaxis": {
         "anchor": "x",
         "domain": [
          0,
          1
         ],
         "title": {
          "text": "Women (%)"
         }
        }
       }
      }
     },
     "metadata": {},
     "output_type": "display_data"
    }
   ],
   "source": [
    "\n",
    "df = pd.read_csv('./data/women_in_parliament-historical_database-1945_to_2018_cleaned.csv')\n",
    "\n",
    "fig = px.scatter(df, x=\"country\", y=\"women_perc\", color=\"year\"\n",
    "                ,labels=dict(women_perc='Women (%)', year='Year', country='Country')\n",
    "                ,title='Women Representation in Parliament Through the Years - Country Level')\n",
    "fig.update_traces(marker_size=10)\n",
    "\n",
    "\n",
    "fig.update_traces(marker=dict(size=8,\n",
    "                              line=dict(width=1,\n",
    "                                        color='blue')),\n",
    "                  selector=dict(mode='markers'))\n",
    "\n",
    "fig.update_layout(\n",
    "        font_family=\"Courier New\",\n",
    "        font_color=\"grey\",\n",
    "        title_font_family=\"Courier New\",        \n",
    "        title_font_color=\"#1f77b4\",\n",
    "        legend_title_font_color=\"grey\",\n",
    "        autosize=False,\n",
    "        width=1100,\n",
    "        height=800\n",
    "        )\n",
    "\n"
   ]
  },
  {
   "cell_type": "markdown",
   "metadata": {},
   "source": [
    "### Decade Average Participation by Country and Population "
   ]
  },
  {
   "cell_type": "code",
   "execution_count": null,
   "metadata": {},
   "outputs": [],
   "source": [
    "df_pop_participation = pd.read_csv('./data/participation_by_decade_country_pop.csv')\n",
    "\n",
    "\n",
    "fig = px.scatter(df_pop_participation, x='country', y='women_perc', color='country', size='pop',\n",
    "                facet_col='decade', facet_col_wrap=3,\n",
    "                title='Women Participation in Parliaments by Decade - World',\n",
    "                labels=dict(women_perc='Women (%)', decade='Decade', country='Country',pop='Population (thousands)'),\n",
    "\n",
    ")\n",
    "\n",
    "\n",
    "#fig.update_yaxes(title_text='Women (%)')\n",
    "fig.update_yaxes(tick0=0, dtick=0.2)\n",
    "\n",
    "\n",
    "fig.update_layout(\n",
    "        font_family=\"Courier New\",\n",
    "        font_color=\"grey\",\n",
    "        title_font_family=\"Courier New\",\n",
    "        title_font_color=\"#1f77b4\",\n",
    "        legend_title_font_color=\"grey\"\n",
    "        )\n",
    "\n",
    "fig.show()"
   ]
  }
 ],
 "metadata": {
  "kernelspec": {
   "display_name": "Python 3.9.5 64-bit ('myenv')",
   "name": "python395jvsc74a57bd09455c7fed7334467af5b693ad675069debbe136d2231609daac26840925ea04f"
  },
  "language_info": {
   "codemirror_mode": {
    "name": "ipython",
    "version": 3
   },
   "file_extension": ".py",
   "mimetype": "text/x-python",
   "name": "python",
   "nbconvert_exporter": "python",
   "pygments_lexer": "ipython3",
   "version": "3.9.5"
  },
  "metadata": {
   "interpreter": {
    "hash": "9455c7fed7334467af5b693ad675069debbe136d2231609daac26840925ea04f"
   }
  },
  "orig_nbformat": 3
 },
 "nbformat": 4,
 "nbformat_minor": 2
}