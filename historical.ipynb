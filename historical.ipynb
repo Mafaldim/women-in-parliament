{
 "cells": [
  {
   "cell_type": "code",
   "execution_count": 1,
   "metadata": {},
   "outputs": [],
   "source": [
    "import pandas as pd, numpy as np\n",
    "import plotly.express as px"
   ]
  },
  {
   "cell_type": "code",
   "execution_count": 5,
   "metadata": {},
   "outputs": [
    {
     "data": {
      "text/html": "<div>\n<style scoped>\n    .dataframe tbody tr th:only-of-type {\n        vertical-align: middle;\n    }\n\n    .dataframe tbody tr th {\n        vertical-align: top;\n    }\n\n    .dataframe thead th {\n        text-align: right;\n    }\n</style>\n<table border=\"1\" class=\"dataframe\">\n  <thead>\n    <tr style=\"text-align: right;\">\n      <th></th>\n      <th>year_</th>\n      <th>women_perc</th>\n      <th>RM5</th>\n      <th>decade</th>\n      <th>year</th>\n    </tr>\n  </thead>\n  <tbody>\n    <tr>\n      <th>0</th>\n      <td>1945</td>\n      <td>0.032222</td>\n      <td>NaN</td>\n      <td>40's</td>\n      <td>5</td>\n    </tr>\n    <tr>\n      <th>1</th>\n      <td>1946</td>\n      <td>0.035185</td>\n      <td>NaN</td>\n      <td>40's</td>\n      <td>6</td>\n    </tr>\n    <tr>\n      <th>2</th>\n      <td>1947</td>\n      <td>0.022727</td>\n      <td>NaN</td>\n      <td>40's</td>\n      <td>7</td>\n    </tr>\n    <tr>\n      <th>3</th>\n      <td>1948</td>\n      <td>0.032632</td>\n      <td>NaN</td>\n      <td>40's</td>\n      <td>8</td>\n    </tr>\n    <tr>\n      <th>4</th>\n      <td>1949</td>\n      <td>0.041053</td>\n      <td>0.032764</td>\n      <td>40's</td>\n      <td>9</td>\n    </tr>\n  </tbody>\n</table>\n</div>",
      "text/plain": "   year_  women_perc       RM5 decade  year\n0   1945    0.032222       NaN   40's     5\n1   1946    0.035185       NaN   40's     6\n2   1947    0.022727       NaN   40's     7\n3   1948    0.032632       NaN   40's     8\n4   1949    0.041053  0.032764   40's     9"
     },
     "metadata": {},
     "output_type": "display_data"
    }
   ],
   "source": [
    "# read data\n",
    "df = pd.read_csv('./data/avg_yearly.csv')\n",
    "display(df.head())"
   ]
  },
  {
   "cell_type": "code",
   "execution_count": 6,
   "metadata": {},
   "outputs": [
    {
     "data": {
      "application/vnd.plotly.v1+json": {
       "config": {
        "plotlyServerURL": "https://plot.ly"
       },
       "data": [
        {
         "hovertemplate": "variable=women_perc<br>Year=%{x}<br>value=%{y}<extra></extra>",
         "legendgroup": "women_perc",
         "line": {
          "color": "#636efa",
          "dash": "solid"
         },
         "marker": {
          "symbol": "circle"
         },
         "mode": "lines+markers",
         "name": "women_perc",
         "orientation": "v",
         "showlegend": true,
         "type": "scatter",
         "x": [
          1945,
          1946,
          1947,
          1948,
          1949,
          1950,
          1951,
          1952,
          1953,
          1954,
          1955,
          1956,
          1957,
          1958,
          1959,
          1960,
          1961,
          1962,
          1963,
          1964,
          1965,
          1966,
          1967,
          1968,
          1969,
          1970,
          1971,
          1972,
          1973,
          1974,
          1975,
          1976,
          1977,
          1978,
          1979,
          1980,
          1981,
          1982,
          1983,
          1984,
          1985,
          1986,
          1987,
          1988,
          1989,
          1990,
          1991,
          1992,
          1993,
          1994,
          1995,
          1996,
          1997,
          1998,
          1999,
          2000,
          2001,
          2002,
          2003,
          2004,
          2005,
          2006,
          2007,
          2008,
          2009,
          2010,
          2011,
          2012,
          2013,
          2014,
          2015,
          2016,
          2017,
          2018
         ],
         "xaxis": "x",
         "y": [
          0.032222222,
          0.035185185,
          0.022727273,
          0.032631579,
          0.041052632,
          0.036666667,
          0.044285714,
          0.049375,
          0.047142857,
          0.060434783,
          0.032142857,
          0.049166667,
          0.048695652,
          0.043333333,
          0.031428571,
          0.043214286,
          0.037391304,
          0.0504,
          0.073333333,
          0.03962963,
          0.055,
          0.065714286,
          0.065714286,
          0.0408,
          0.047666667,
          0.055,
          0.084444444,
          0.057407407,
          0.061290323,
          0.06875,
          0.093181818,
          0.103666667,
          0.0528125,
          0.055833333,
          0.091315789,
          0.07625,
          0.107096774,
          0.069411765,
          0.073030303,
          0.06974359,
          0.098125,
          0.123870968,
          0.082857143,
          0.087741935,
          0.077674419,
          0.078571429,
          0.107142857,
          0.067708333,
          0.083636364,
          0.119583333,
          0.108157895,
          0.092702703,
          0.100714286,
          0.143170732,
          0.134897959,
          0.101555556,
          0.154594595,
          0.158103448,
          0.138536585,
          0.144693878,
          0.181219512,
          0.164782609,
          0.161641791,
          0.17,
          0.216304348,
          0.175555556,
          0.211454545,
          0.17097561,
          0.248909091,
          0.217209302,
          0.209444444,
          0.197948718,
          0.245333333,
          0.246585366
         ],
         "yaxis": "y"
        },
        {
         "hovertemplate": "variable=RM5<br>Year=%{x}<br>value=%{y}<extra></extra>",
         "legendgroup": "RM5",
         "line": {
          "color": "#EF553B",
          "dash": "solid"
         },
         "marker": {
          "symbol": "circle"
         },
         "mode": "lines+markers",
         "name": "RM5",
         "orientation": "v",
         "showlegend": true,
         "type": "scatter",
         "x": [
          1945,
          1946,
          1947,
          1948,
          1949,
          1950,
          1951,
          1952,
          1953,
          1954,
          1955,
          1956,
          1957,
          1958,
          1959,
          1960,
          1961,
          1962,
          1963,
          1964,
          1965,
          1966,
          1967,
          1968,
          1969,
          1970,
          1971,
          1972,
          1973,
          1974,
          1975,
          1976,
          1977,
          1978,
          1979,
          1980,
          1981,
          1982,
          1983,
          1984,
          1985,
          1986,
          1987,
          1988,
          1989,
          1990,
          1991,
          1992,
          1993,
          1994,
          1995,
          1996,
          1997,
          1998,
          1999,
          2000,
          2001,
          2002,
          2003,
          2004,
          2005,
          2006,
          2007,
          2008,
          2009,
          2010,
          2011,
          2012,
          2013,
          2014,
          2015,
          2016,
          2017,
          2018
         ],
         "xaxis": "x",
         "y": [
          null,
          null,
          null,
          null,
          0.032763778,
          0.033652667,
          0.035472773,
          0.040802318,
          0.043704574,
          0.047581004,
          0.046676242,
          0.047652433,
          0.047516563,
          0.046754658,
          0.040953416,
          0.043167702,
          0.040812629,
          0.041153499,
          0.047153499,
          0.048793711,
          0.051150853,
          0.05681545,
          0.059878307,
          0.05337164,
          0.054979048,
          0.054979048,
          0.058725079,
          0.057063704,
          0.061161768,
          0.065378435,
          0.073014799,
          0.076859243,
          0.075940261,
          0.074848864,
          0.079362022,
          0.075975658,
          0.076661679,
          0.079981532,
          0.083420926,
          0.079106486,
          0.083481486,
          0.086836325,
          0.089525401,
          0.092467727,
          0.094053893,
          0.090143179,
          0.086797557,
          0.083767795,
          0.08294668,
          0.091328463,
          0.097245756,
          0.094357726,
          0.100958916,
          0.11286579,
          0.115928715,
          0.114608247,
          0.126986625,
          0.138464458,
          0.137537629,
          0.139496812,
          0.155429604,
          0.157467206,
          0.158174875,
          0.164467558,
          0.178789652,
          0.177656861,
          0.186991248,
          0.188858012,
          0.20463983,
          0.204820821,
          0.211598599,
          0.208897433,
          0.223768978,
          0.223304233
         ],
         "yaxis": "y"
        }
       ],
       "layout": {
        "autosize": false,
        "font": {
         "color": "grey",
         "family": "Courier New"
        },
        "height": 500,
        "legend": {
         "title": {
          "font": {
           "color": "grey"
          },
          "text": "variable"
         },
         "tracegroupgap": 0
        },
        "template": {
         "data": {
          "bar": [
           {
            "error_x": {
             "color": "#2a3f5f"
            },
            "error_y": {
             "color": "#2a3f5f"
            },
            "marker": {
             "line": {
              "color": "#E5ECF6",
              "width": 0.5
             },
             "pattern": {
              "fillmode": "overlay",
              "size": 10,
              "solidity": 0.2
             }
            },
            "type": "bar"
           }
          ],
          "barpolar": [
           {
            "marker": {
             "line": {
              "color": "#E5ECF6",
              "width": 0.5
             },
             "pattern": {
              "fillmode": "overlay",
              "size": 10,
              "solidity": 0.2
             }
            },
            "type": "barpolar"
           }
          ],
          "carpet": [
           {
            "aaxis": {
             "endlinecolor": "#2a3f5f",
             "gridcolor": "white",
             "linecolor": "white",
             "minorgridcolor": "white",
             "startlinecolor": "#2a3f5f"
            },
            "baxis": {
             "endlinecolor": "#2a3f5f",
             "gridcolor": "white",
             "linecolor": "white",
             "minorgridcolor": "white",
             "startlinecolor": "#2a3f5f"
            },
            "type": "carpet"
           }
          ],
          "choropleth": [
           {
            "colorbar": {
             "outlinewidth": 0,
             "ticks": ""
            },
            "type": "choropleth"
           }
          ],
          "contour": [
           {
            "colorbar": {
             "outlinewidth": 0,
             "ticks": ""
            },
            "colorscale": [
             [
              0,
              "#0d0887"
             ],
             [
              0.1111111111111111,
              "#46039f"
             ],
             [
              0.2222222222222222,
              "#7201a8"
             ],
             [
              0.3333333333333333,
              "#9c179e"
             ],
             [
              0.4444444444444444,
              "#bd3786"
             ],
             [
              0.5555555555555556,
              "#d8576b"
             ],
             [
              0.6666666666666666,
              "#ed7953"
             ],
             [
              0.7777777777777778,
              "#fb9f3a"
             ],
             [
              0.8888888888888888,
              "#fdca26"
             ],
             [
              1,
              "#f0f921"
             ]
            ],
            "type": "contour"
           }
          ],
          "contourcarpet": [
           {
            "colorbar": {
             "outlinewidth": 0,
             "ticks": ""
            },
            "type": "contourcarpet"
           }
          ],
          "heatmap": [
           {
            "colorbar": {
             "outlinewidth": 0,
             "ticks": ""
            },
            "colorscale": [
             [
              0,
              "#0d0887"
             ],
             [
              0.1111111111111111,
              "#46039f"
             ],
             [
              0.2222222222222222,
              "#7201a8"
             ],
             [
              0.3333333333333333,
              "#9c179e"
             ],
             [
              0.4444444444444444,
              "#bd3786"
             ],
             [
              0.5555555555555556,
              "#d8576b"
             ],
             [
              0.6666666666666666,
              "#ed7953"
             ],
             [
              0.7777777777777778,
              "#fb9f3a"
             ],
             [
              0.8888888888888888,
              "#fdca26"
             ],
             [
              1,
              "#f0f921"
             ]
            ],
            "type": "heatmap"
           }
          ],
          "heatmapgl": [
           {
            "colorbar": {
             "outlinewidth": 0,
             "ticks": ""
            },
            "colorscale": [
             [
              0,
              "#0d0887"
             ],
             [
              0.1111111111111111,
              "#46039f"
             ],
             [
              0.2222222222222222,
              "#7201a8"
             ],
             [
              0.3333333333333333,
              "#9c179e"
             ],
             [
              0.4444444444444444,
              "#bd3786"
             ],
             [
              0.5555555555555556,
              "#d8576b"
             ],
             [
              0.6666666666666666,
              "#ed7953"
             ],
             [
              0.7777777777777778,
              "#fb9f3a"
             ],
             [
              0.8888888888888888,
              "#fdca26"
             ],
             [
              1,
              "#f0f921"
             ]
            ],
            "type": "heatmapgl"
           }
          ],
          "histogram": [
           {
            "marker": {
             "pattern": {
              "fillmode": "overlay",
              "size": 10,
              "solidity": 0.2
             }
            },
            "type": "histogram"
           }
          ],
          "histogram2d": [
           {
            "colorbar": {
             "outlinewidth": 0,
             "ticks": ""
            },
            "colorscale": [
             [
              0,
              "#0d0887"
             ],
             [
              0.1111111111111111,
              "#46039f"
             ],
             [
              0.2222222222222222,
              "#7201a8"
             ],
             [
              0.3333333333333333,
              "#9c179e"
             ],
             [
              0.4444444444444444,
              "#bd3786"
             ],
             [
              0.5555555555555556,
              "#d8576b"
             ],
             [
              0.6666666666666666,
              "#ed7953"
             ],
             [
              0.7777777777777778,
              "#fb9f3a"
             ],
             [
              0.8888888888888888,
              "#fdca26"
             ],
             [
              1,
              "#f0f921"
             ]
            ],
            "type": "histogram2d"
           }
          ],
          "histogram2dcontour": [
           {
            "colorbar": {
             "outlinewidth": 0,
             "ticks": ""
            },
            "colorscale": [
             [
              0,
              "#0d0887"
             ],
             [
              0.1111111111111111,
              "#46039f"
             ],
             [
              0.2222222222222222,
              "#7201a8"
             ],
             [
              0.3333333333333333,
              "#9c179e"
             ],
             [
              0.4444444444444444,
              "#bd3786"
             ],
             [
              0.5555555555555556,
              "#d8576b"
             ],
             [
              0.6666666666666666,
              "#ed7953"
             ],
             [
              0.7777777777777778,
              "#fb9f3a"
             ],
             [
              0.8888888888888888,
              "#fdca26"
             ],
             [
              1,
              "#f0f921"
             ]
            ],
            "type": "histogram2dcontour"
           }
          ],
          "mesh3d": [
           {
            "colorbar": {
             "outlinewidth": 0,
             "ticks": ""
            },
            "type": "mesh3d"
           }
          ],
          "parcoords": [
           {
            "line": {
             "colorbar": {
              "outlinewidth": 0,
              "ticks": ""
             }
            },
            "type": "parcoords"
           }
          ],
          "pie": [
           {
            "automargin": true,
            "type": "pie"
           }
          ],
          "scatter": [
           {
            "marker": {
             "colorbar": {
              "outlinewidth": 0,
              "ticks": ""
             }
            },
            "type": "scatter"
           }
          ],
          "scatter3d": [
           {
            "line": {
             "colorbar": {
              "outlinewidth": 0,
              "ticks": ""
             }
            },
            "marker": {
             "colorbar": {
              "outlinewidth": 0,
              "ticks": ""
             }
            },
            "type": "scatter3d"
           }
          ],
          "scattercarpet": [
           {
            "marker": {
             "colorbar": {
              "outlinewidth": 0,
              "ticks": ""
             }
            },
            "type": "scattercarpet"
           }
          ],
          "scattergeo": [
           {
            "marker": {
             "colorbar": {
              "outlinewidth": 0,
              "ticks": ""
             }
            },
            "type": "scattergeo"
           }
          ],
          "scattergl": [
           {
            "marker": {
             "colorbar": {
              "outlinewidth": 0,
              "ticks": ""
             }
            },
            "type": "scattergl"
           }
          ],
          "scattermapbox": [
           {
            "marker": {
             "colorbar": {
              "outlinewidth": 0,
              "ticks": ""
             }
            },
            "type": "scattermapbox"
           }
          ],
          "scatterpolar": [
           {
            "marker": {
             "colorbar": {
              "outlinewidth": 0,
              "ticks": ""
             }
            },
            "type": "scatterpolar"
           }
          ],
          "scatterpolargl": [
           {
            "marker": {
             "colorbar": {
              "outlinewidth": 0,
              "ticks": ""
             }
            },
            "type": "scatterpolargl"
           }
          ],
          "scatterternary": [
           {
            "marker": {
             "colorbar": {
              "outlinewidth": 0,
              "ticks": ""
             }
            },
            "type": "scatterternary"
           }
          ],
          "surface": [
           {
            "colorbar": {
             "outlinewidth": 0,
             "ticks": ""
            },
            "colorscale": [
             [
              0,
              "#0d0887"
             ],
             [
              0.1111111111111111,
              "#46039f"
             ],
             [
              0.2222222222222222,
              "#7201a8"
             ],
             [
              0.3333333333333333,
              "#9c179e"
             ],
             [
              0.4444444444444444,
              "#bd3786"
             ],
             [
              0.5555555555555556,
              "#d8576b"
             ],
             [
              0.6666666666666666,
              "#ed7953"
             ],
             [
              0.7777777777777778,
              "#fb9f3a"
             ],
             [
              0.8888888888888888,
              "#fdca26"
             ],
             [
              1,
              "#f0f921"
             ]
            ],
            "type": "surface"
           }
          ],
          "table": [
           {
            "cells": {
             "fill": {
              "color": "#EBF0F8"
             },
             "line": {
              "color": "white"
             }
            },
            "header": {
             "fill": {
              "color": "#C8D4E3"
             },
             "line": {
              "color": "white"
             }
            },
            "type": "table"
           }
          ]
         },
         "layout": {
          "annotationdefaults": {
           "arrowcolor": "#2a3f5f",
           "arrowhead": 0,
           "arrowwidth": 1
          },
          "autotypenumbers": "strict",
          "coloraxis": {
           "colorbar": {
            "outlinewidth": 0,
            "ticks": ""
           }
          },
          "colorscale": {
           "diverging": [
            [
             0,
             "#8e0152"
            ],
            [
             0.1,
             "#c51b7d"
            ],
            [
             0.2,
             "#de77ae"
            ],
            [
             0.3,
             "#f1b6da"
            ],
            [
             0.4,
             "#fde0ef"
            ],
            [
             0.5,
             "#f7f7f7"
            ],
            [
             0.6,
             "#e6f5d0"
            ],
            [
             0.7,
             "#b8e186"
            ],
            [
             0.8,
             "#7fbc41"
            ],
            [
             0.9,
             "#4d9221"
            ],
            [
             1,
             "#276419"
            ]
           ],
           "sequential": [
            [
             0,
             "#0d0887"
            ],
            [
             0.1111111111111111,
             "#46039f"
            ],
            [
             0.2222222222222222,
             "#7201a8"
            ],
            [
             0.3333333333333333,
             "#9c179e"
            ],
            [
             0.4444444444444444,
             "#bd3786"
            ],
            [
             0.5555555555555556,
             "#d8576b"
            ],
            [
             0.6666666666666666,
             "#ed7953"
            ],
            [
             0.7777777777777778,
             "#fb9f3a"
            ],
            [
             0.8888888888888888,
             "#fdca26"
            ],
            [
             1,
             "#f0f921"
            ]
           ],
           "sequentialminus": [
            [
             0,
             "#0d0887"
            ],
            [
             0.1111111111111111,
             "#46039f"
            ],
            [
             0.2222222222222222,
             "#7201a8"
            ],
            [
             0.3333333333333333,
             "#9c179e"
            ],
            [
             0.4444444444444444,
             "#bd3786"
            ],
            [
             0.5555555555555556,
             "#d8576b"
            ],
            [
             0.6666666666666666,
             "#ed7953"
            ],
            [
             0.7777777777777778,
             "#fb9f3a"
            ],
            [
             0.8888888888888888,
             "#fdca26"
            ],
            [
             1,
             "#f0f921"
            ]
           ]
          },
          "colorway": [
           "#636efa",
           "#EF553B",
           "#00cc96",
           "#ab63fa",
           "#FFA15A",
           "#19d3f3",
           "#FF6692",
           "#B6E880",
           "#FF97FF",
           "#FECB52"
          ],
          "font": {
           "color": "#2a3f5f"
          },
          "geo": {
           "bgcolor": "white",
           "lakecolor": "white",
           "landcolor": "#E5ECF6",
           "showlakes": true,
           "showland": true,
           "subunitcolor": "white"
          },
          "hoverlabel": {
           "align": "left"
          },
          "hovermode": "closest",
          "mapbox": {
           "style": "light"
          },
          "paper_bgcolor": "white",
          "plot_bgcolor": "#E5ECF6",
          "polar": {
           "angularaxis": {
            "gridcolor": "white",
            "linecolor": "white",
            "ticks": ""
           },
           "bgcolor": "#E5ECF6",
           "radialaxis": {
            "gridcolor": "white",
            "linecolor": "white",
            "ticks": ""
           }
          },
          "scene": {
           "xaxis": {
            "backgroundcolor": "#E5ECF6",
            "gridcolor": "white",
            "gridwidth": 2,
            "linecolor": "white",
            "showbackground": true,
            "ticks": "",
            "zerolinecolor": "white"
           },
           "yaxis": {
            "backgroundcolor": "#E5ECF6",
            "gridcolor": "white",
            "gridwidth": 2,
            "linecolor": "white",
            "showbackground": true,
            "ticks": "",
            "zerolinecolor": "white"
           },
           "zaxis": {
            "backgroundcolor": "#E5ECF6",
            "gridcolor": "white",
            "gridwidth": 2,
            "linecolor": "white",
            "showbackground": true,
            "ticks": "",
            "zerolinecolor": "white"
           }
          },
          "shapedefaults": {
           "line": {
            "color": "#2a3f5f"
           }
          },
          "ternary": {
           "aaxis": {
            "gridcolor": "white",
            "linecolor": "white",
            "ticks": ""
           },
           "baxis": {
            "gridcolor": "white",
            "linecolor": "white",
            "ticks": ""
           },
           "bgcolor": "#E5ECF6",
           "caxis": {
            "gridcolor": "white",
            "linecolor": "white",
            "ticks": ""
           }
          },
          "title": {
           "x": 0.05
          },
          "xaxis": {
           "automargin": true,
           "gridcolor": "white",
           "linecolor": "white",
           "ticks": "",
           "title": {
            "standoff": 15
           },
           "zerolinecolor": "white",
           "zerolinewidth": 2
          },
          "yaxis": {
           "automargin": true,
           "gridcolor": "white",
           "linecolor": "white",
           "ticks": "",
           "title": {
            "standoff": 15
           },
           "zerolinecolor": "white",
           "zerolinewidth": 2
          }
         }
        },
        "title": {
         "font": {
          "color": "#1f77b4",
          "family": "Courier New"
         },
         "text": "Women Representation in Parliament (Global Average) from 1945 to 2018"
        },
        "width": 800,
        "xaxis": {
         "anchor": "y",
         "domain": [
          0,
          1
         ],
         "nticks": 10,
         "rangeslider": {
          "visible": true
         },
         "title": {
          "text": "Year"
         }
        },
        "yaxis": {
         "anchor": "x",
         "domain": [
          0,
          1
         ],
         "title": {
          "text": "Women (%)"
         }
        }
       }
      }
     },
     "metadata": {},
     "output_type": "display_data"
    }
   ],
   "source": [
    "fig = px.line(df, x='year_', y=['women_perc','RM5'],\n",
    "            title='Women Representation in Parliament (Global Average) from 1945 to 2018',\n",
    "            markers=True,\n",
    "            labels=dict(year_='Year', women_perc='Participation (%)')\n",
    "            )\n",
    "fig.update_yaxes(title_text='Women (%)')\n",
    "\n",
    "fig.update_layout(\n",
    "        font_family=\"Courier New\",\n",
    "        font_color=\"grey\",\n",
    "        title_font_family=\"Courier New\",\n",
    "        title_font_color=\"#1f77b4\",\n",
    "        legend_title_font_color=\"grey\",\n",
    "        autosize=False,\n",
    "        width=800,\n",
    "        height=500\n",
    "    )\n",
    "fig.update_xaxes(nticks=10)\n",
    "fig.update_xaxes(rangeslider_visible=True)\n",
    "\n",
    "fig.show()"
   ]
  },
  {
   "cell_type": "code",
   "execution_count": 7,
   "metadata": {},
   "outputs": [
    {
     "data": {
      "application/vnd.plotly.v1+json": {
       "config": {
        "plotlyServerURL": "https://plot.ly"
       },
       "data": [
        {
         "hovertemplate": "Decade=40's<br>Year=%{x}<br>Women (%)=%{y}<extra></extra>",
         "legendgroup": "40's",
         "line": {
          "color": "#636efa",
          "dash": "solid"
         },
         "marker": {
          "symbol": "circle"
         },
         "mode": "lines+markers",
         "name": "40's",
         "orientation": "v",
         "showlegend": true,
         "type": "scatter",
         "x": [
          5,
          6,
          7,
          8,
          9
         ],
         "xaxis": "x",
         "y": [
          0.032222222,
          0.035185185,
          0.022727273,
          0.032631579,
          0.041052632
         ],
         "yaxis": "y"
        },
        {
         "hovertemplate": "Decade=50's<br>Year=%{x}<br>Women (%)=%{y}<extra></extra>",
         "legendgroup": "50's",
         "line": {
          "color": "#EF553B",
          "dash": "solid"
         },
         "marker": {
          "symbol": "circle"
         },
         "mode": "lines+markers",
         "name": "50's",
         "orientation": "v",
         "showlegend": true,
         "type": "scatter",
         "x": [
          0,
          1,
          2,
          3,
          4,
          5,
          6,
          7,
          8,
          9
         ],
         "xaxis": "x",
         "y": [
          0.036666667,
          0.044285714,
          0.049375,
          0.047142857,
          0.060434783,
          0.032142857,
          0.049166667,
          0.048695652,
          0.043333333,
          0.031428571
         ],
         "yaxis": "y"
        },
        {
         "hovertemplate": "Decade=60's<br>Year=%{x}<br>Women (%)=%{y}<extra></extra>",
         "legendgroup": "60's",
         "line": {
          "color": "#00cc96",
          "dash": "solid"
         },
         "marker": {
          "symbol": "circle"
         },
         "mode": "lines+markers",
         "name": "60's",
         "orientation": "v",
         "showlegend": true,
         "type": "scatter",
         "x": [
          0,
          1,
          2,
          3,
          4,
          5,
          6,
          7,
          8,
          9
         ],
         "xaxis": "x",
         "y": [
          0.043214286,
          0.037391304,
          0.0504,
          0.073333333,
          0.03962963,
          0.055,
          0.065714286,
          0.065714286,
          0.0408,
          0.047666667
         ],
         "yaxis": "y"
        },
        {
         "hovertemplate": "Decade=70's<br>Year=%{x}<br>Women (%)=%{y}<extra></extra>",
         "legendgroup": "70's",
         "line": {
          "color": "#ab63fa",
          "dash": "solid"
         },
         "marker": {
          "symbol": "circle"
         },
         "mode": "lines+markers",
         "name": "70's",
         "orientation": "v",
         "showlegend": true,
         "type": "scatter",
         "x": [
          0,
          1,
          2,
          3,
          4,
          5,
          6,
          7,
          8,
          9
         ],
         "xaxis": "x",
         "y": [
          0.055,
          0.084444444,
          0.057407407,
          0.061290323,
          0.06875,
          0.093181818,
          0.103666667,
          0.0528125,
          0.055833333,
          0.091315789
         ],
         "yaxis": "y"
        },
        {
         "hovertemplate": "Decade=80's<br>Year=%{x}<br>Women (%)=%{y}<extra></extra>",
         "legendgroup": "80's",
         "line": {
          "color": "#FFA15A",
          "dash": "solid"
         },
         "marker": {
          "symbol": "circle"
         },
         "mode": "lines+markers",
         "name": "80's",
         "orientation": "v",
         "showlegend": true,
         "type": "scatter",
         "x": [
          0,
          1,
          2,
          3,
          4,
          5,
          6,
          7,
          8,
          9
         ],
         "xaxis": "x",
         "y": [
          0.07625,
          0.107096774,
          0.069411765,
          0.073030303,
          0.06974359,
          0.098125,
          0.123870968,
          0.082857143,
          0.087741935,
          0.077674419
         ],
         "yaxis": "y"
        },
        {
         "hovertemplate": "Decade=90's<br>Year=%{x}<br>Women (%)=%{y}<extra></extra>",
         "legendgroup": "90's",
         "line": {
          "color": "#19d3f3",
          "dash": "solid"
         },
         "marker": {
          "symbol": "circle"
         },
         "mode": "lines+markers",
         "name": "90's",
         "orientation": "v",
         "showlegend": true,
         "type": "scatter",
         "x": [
          0,
          1,
          2,
          3,
          4,
          5,
          6,
          7,
          8,
          9
         ],
         "xaxis": "x",
         "y": [
          0.078571429,
          0.107142857,
          0.067708333,
          0.083636364,
          0.119583333,
          0.108157895,
          0.092702703,
          0.100714286,
          0.143170732,
          0.134897959
         ],
         "yaxis": "y"
        },
        {
         "hovertemplate": "Decade=00's<br>Year=%{x}<br>Women (%)=%{y}<extra></extra>",
         "legendgroup": "00's",
         "line": {
          "color": "#FF6692",
          "dash": "solid"
         },
         "marker": {
          "symbol": "circle"
         },
         "mode": "lines+markers",
         "name": "00's",
         "orientation": "v",
         "showlegend": true,
         "type": "scatter",
         "x": [
          0,
          1,
          2,
          3,
          4,
          5,
          6,
          7,
          8,
          9
         ],
         "xaxis": "x",
         "y": [
          0.101555556,
          0.154594595,
          0.158103448,
          0.138536585,
          0.144693878,
          0.181219512,
          0.164782609,
          0.161641791,
          0.17,
          0.216304348
         ],
         "yaxis": "y"
        },
        {
         "hovertemplate": "Decade=10's<br>Year=%{x}<br>Women (%)=%{y}<extra></extra>",
         "legendgroup": "10's",
         "line": {
          "color": "#B6E880",
          "dash": "solid"
         },
         "marker": {
          "symbol": "circle"
         },
         "mode": "lines+markers",
         "name": "10's",
         "orientation": "v",
         "showlegend": true,
         "type": "scatter",
         "x": [
          0,
          1,
          2,
          3,
          4,
          5,
          6,
          7,
          8
         ],
         "xaxis": "x",
         "y": [
          0.175555556,
          0.211454545,
          0.17097561,
          0.248909091,
          0.217209302,
          0.209444444,
          0.197948718,
          0.245333333,
          0.246585366
         ],
         "yaxis": "y"
        }
       ],
       "layout": {
        "autosize": false,
        "font": {
         "color": "grey",
         "family": "Courier New"
        },
        "height": 400,
        "legend": {
         "title": {
          "font": {
           "color": "grey"
          },
          "text": "Decade"
         },
         "tracegroupgap": 0
        },
        "template": {
         "data": {
          "bar": [
           {
            "error_x": {
             "color": "#2a3f5f"
            },
            "error_y": {
             "color": "#2a3f5f"
            },
            "marker": {
             "line": {
              "color": "#E5ECF6",
              "width": 0.5
             },
             "pattern": {
              "fillmode": "overlay",
              "size": 10,
              "solidity": 0.2
             }
            },
            "type": "bar"
           }
          ],
          "barpolar": [
           {
            "marker": {
             "line": {
              "color": "#E5ECF6",
              "width": 0.5
             },
             "pattern": {
              "fillmode": "overlay",
              "size": 10,
              "solidity": 0.2
             }
            },
            "type": "barpolar"
           }
          ],
          "carpet": [
           {
            "aaxis": {
             "endlinecolor": "#2a3f5f",
             "gridcolor": "white",
             "linecolor": "white",
             "minorgridcolor": "white",
             "startlinecolor": "#2a3f5f"
            },
            "baxis": {
             "endlinecolor": "#2a3f5f",
             "gridcolor": "white",
             "linecolor": "white",
             "minorgridcolor": "white",
             "startlinecolor": "#2a3f5f"
            },
            "type": "carpet"
           }
          ],
          "choropleth": [
           {
            "colorbar": {
             "outlinewidth": 0,
             "ticks": ""
            },
            "type": "choropleth"
           }
          ],
          "contour": [
           {
            "colorbar": {
             "outlinewidth": 0,
             "ticks": ""
            },
            "colorscale": [
             [
              0,
              "#0d0887"
             ],
             [
              0.1111111111111111,
              "#46039f"
             ],
             [
              0.2222222222222222,
              "#7201a8"
             ],
             [
              0.3333333333333333,
              "#9c179e"
             ],
             [
              0.4444444444444444,
              "#bd3786"
             ],
             [
              0.5555555555555556,
              "#d8576b"
             ],
             [
              0.6666666666666666,
              "#ed7953"
             ],
             [
              0.7777777777777778,
              "#fb9f3a"
             ],
             [
              0.8888888888888888,
              "#fdca26"
             ],
             [
              1,
              "#f0f921"
             ]
            ],
            "type": "contour"
           }
          ],
          "contourcarpet": [
           {
            "colorbar": {
             "outlinewidth": 0,
             "ticks": ""
            },
            "type": "contourcarpet"
           }
          ],
          "heatmap": [
           {
            "colorbar": {
             "outlinewidth": 0,
             "ticks": ""
            },
            "colorscale": [
             [
              0,
              "#0d0887"
             ],
             [
              0.1111111111111111,
              "#46039f"
             ],
             [
              0.2222222222222222,
              "#7201a8"
             ],
             [
              0.3333333333333333,
              "#9c179e"
             ],
             [
              0.4444444444444444,
              "#bd3786"
             ],
             [
              0.5555555555555556,
              "#d8576b"
             ],
             [
              0.6666666666666666,
              "#ed7953"
             ],
             [
              0.7777777777777778,
              "#fb9f3a"
             ],
             [
              0.8888888888888888,
              "#fdca26"
             ],
             [
              1,
              "#f0f921"
             ]
            ],
            "type": "heatmap"
           }
          ],
          "heatmapgl": [
           {
            "colorbar": {
             "outlinewidth": 0,
             "ticks": ""
            },
            "colorscale": [
             [
              0,
              "#0d0887"
             ],
             [
              0.1111111111111111,
              "#46039f"
             ],
             [
              0.2222222222222222,
              "#7201a8"
             ],
             [
              0.3333333333333333,
              "#9c179e"
             ],
             [
              0.4444444444444444,
              "#bd3786"
             ],
             [
              0.5555555555555556,
              "#d8576b"
             ],
             [
              0.6666666666666666,
              "#ed7953"
             ],
             [
              0.7777777777777778,
              "#fb9f3a"
             ],
             [
              0.8888888888888888,
              "#fdca26"
             ],
             [
              1,
              "#f0f921"
             ]
            ],
            "type": "heatmapgl"
           }
          ],
          "histogram": [
           {
            "marker": {
             "pattern": {
              "fillmode": "overlay",
              "size": 10,
              "solidity": 0.2
             }
            },
            "type": "histogram"
           }
          ],
          "histogram2d": [
           {
            "colorbar": {
             "outlinewidth": 0,
             "ticks": ""
            },
            "colorscale": [
             [
              0,
              "#0d0887"
             ],
             [
              0.1111111111111111,
              "#46039f"
             ],
             [
              0.2222222222222222,
              "#7201a8"
             ],
             [
              0.3333333333333333,
              "#9c179e"
             ],
             [
              0.4444444444444444,
              "#bd3786"
             ],
             [
              0.5555555555555556,
              "#d8576b"
             ],
             [
              0.6666666666666666,
              "#ed7953"
             ],
             [
              0.7777777777777778,
              "#fb9f3a"
             ],
             [
              0.8888888888888888,
              "#fdca26"
             ],
             [
              1,
              "#f0f921"
             ]
            ],
            "type": "histogram2d"
           }
          ],
          "histogram2dcontour": [
           {
            "colorbar": {
             "outlinewidth": 0,
             "ticks": ""
            },
            "colorscale": [
             [
              0,
              "#0d0887"
             ],
             [
              0.1111111111111111,
              "#46039f"
             ],
             [
              0.2222222222222222,
              "#7201a8"
             ],
             [
              0.3333333333333333,
              "#9c179e"
             ],
             [
              0.4444444444444444,
              "#bd3786"
             ],
             [
              0.5555555555555556,
              "#d8576b"
             ],
             [
              0.6666666666666666,
              "#ed7953"
             ],
             [
              0.7777777777777778,
              "#fb9f3a"
             ],
             [
              0.8888888888888888,
              "#fdca26"
             ],
             [
              1,
              "#f0f921"
             ]
            ],
            "type": "histogram2dcontour"
           }
          ],
          "mesh3d": [
           {
            "colorbar": {
             "outlinewidth": 0,
             "ticks": ""
            },
            "type": "mesh3d"
           }
          ],
          "parcoords": [
           {
            "line": {
             "colorbar": {
              "outlinewidth": 0,
              "ticks": ""
             }
            },
            "type": "parcoords"
           }
          ],
          "pie": [
           {
            "automargin": true,
            "type": "pie"
           }
          ],
          "scatter": [
           {
            "marker": {
             "colorbar": {
              "outlinewidth": 0,
              "ticks": ""
             }
            },
            "type": "scatter"
           }
          ],
          "scatter3d": [
           {
            "line": {
             "colorbar": {
              "outlinewidth": 0,
              "ticks": ""
             }
            },
            "marker": {
             "colorbar": {
              "outlinewidth": 0,
              "ticks": ""
             }
            },
            "type": "scatter3d"
           }
          ],
          "scattercarpet": [
           {
            "marker": {
             "colorbar": {
              "outlinewidth": 0,
              "ticks": ""
             }
            },
            "type": "scattercarpet"
           }
          ],
          "scattergeo": [
           {
            "marker": {
             "colorbar": {
              "outlinewidth": 0,
              "ticks": ""
             }
            },
            "type": "scattergeo"
           }
          ],
          "scattergl": [
           {
            "marker": {
             "colorbar": {
              "outlinewidth": 0,
              "ticks": ""
             }
            },
            "type": "scattergl"
           }
          ],
          "scattermapbox": [
           {
            "marker": {
             "colorbar": {
              "outlinewidth": 0,
              "ticks": ""
             }
            },
            "type": "scattermapbox"
           }
          ],
          "scatterpolar": [
           {
            "marker": {
             "colorbar": {
              "outlinewidth": 0,
              "ticks": ""
             }
            },
            "type": "scatterpolar"
           }
          ],
          "scatterpolargl": [
           {
            "marker": {
             "colorbar": {
              "outlinewidth": 0,
              "ticks": ""
             }
            },
            "type": "scatterpolargl"
           }
          ],
          "scatterternary": [
           {
            "marker": {
             "colorbar": {
              "outlinewidth": 0,
              "ticks": ""
             }
            },
            "type": "scatterternary"
           }
          ],
          "surface": [
           {
            "colorbar": {
             "outlinewidth": 0,
             "ticks": ""
            },
            "colorscale": [
             [
              0,
              "#0d0887"
             ],
             [
              0.1111111111111111,
              "#46039f"
             ],
             [
              0.2222222222222222,
              "#7201a8"
             ],
             [
              0.3333333333333333,
              "#9c179e"
             ],
             [
              0.4444444444444444,
              "#bd3786"
             ],
             [
              0.5555555555555556,
              "#d8576b"
             ],
             [
              0.6666666666666666,
              "#ed7953"
             ],
             [
              0.7777777777777778,
              "#fb9f3a"
             ],
             [
              0.8888888888888888,
              "#fdca26"
             ],
             [
              1,
              "#f0f921"
             ]
            ],
            "type": "surface"
           }
          ],
          "table": [
           {
            "cells": {
             "fill": {
              "color": "#EBF0F8"
             },
             "line": {
              "color": "white"
             }
            },
            "header": {
             "fill": {
              "color": "#C8D4E3"
             },
             "line": {
              "color": "white"
             }
            },
            "type": "table"
           }
          ]
         },
         "layout": {
          "annotationdefaults": {
           "arrowcolor": "#2a3f5f",
           "arrowhead": 0,
           "arrowwidth": 1
          },
          "autotypenumbers": "strict",
          "coloraxis": {
           "colorbar": {
            "outlinewidth": 0,
            "ticks": ""
           }
          },
          "colorscale": {
           "diverging": [
            [
             0,
             "#8e0152"
            ],
            [
             0.1,
             "#c51b7d"
            ],
            [
             0.2,
             "#de77ae"
            ],
            [
             0.3,
             "#f1b6da"
            ],
            [
             0.4,
             "#fde0ef"
            ],
            [
             0.5,
             "#f7f7f7"
            ],
            [
             0.6,
             "#e6f5d0"
            ],
            [
             0.7,
             "#b8e186"
            ],
            [
             0.8,
             "#7fbc41"
            ],
            [
             0.9,
             "#4d9221"
            ],
            [
             1,
             "#276419"
            ]
           ],
           "sequential": [
            [
             0,
             "#0d0887"
            ],
            [
             0.1111111111111111,
             "#46039f"
            ],
            [
             0.2222222222222222,
             "#7201a8"
            ],
            [
             0.3333333333333333,
             "#9c179e"
            ],
            [
             0.4444444444444444,
             "#bd3786"
            ],
            [
             0.5555555555555556,
             "#d8576b"
            ],
            [
             0.6666666666666666,
             "#ed7953"
            ],
            [
             0.7777777777777778,
             "#fb9f3a"
            ],
            [
             0.8888888888888888,
             "#fdca26"
            ],
            [
             1,
             "#f0f921"
            ]
           ],
           "sequentialminus": [
            [
             0,
             "#0d0887"
            ],
            [
             0.1111111111111111,
             "#46039f"
            ],
            [
             0.2222222222222222,
             "#7201a8"
            ],
            [
             0.3333333333333333,
             "#9c179e"
            ],
            [
             0.4444444444444444,
             "#bd3786"
            ],
            [
             0.5555555555555556,
             "#d8576b"
            ],
            [
             0.6666666666666666,
             "#ed7953"
            ],
            [
             0.7777777777777778,
             "#fb9f3a"
            ],
            [
             0.8888888888888888,
             "#fdca26"
            ],
            [
             1,
             "#f0f921"
            ]
           ]
          },
          "colorway": [
           "#636efa",
           "#EF553B",
           "#00cc96",
           "#ab63fa",
           "#FFA15A",
           "#19d3f3",
           "#FF6692",
           "#B6E880",
           "#FF97FF",
           "#FECB52"
          ],
          "font": {
           "color": "#2a3f5f"
          },
          "geo": {
           "bgcolor": "white",
           "lakecolor": "white",
           "landcolor": "#E5ECF6",
           "showlakes": true,
           "showland": true,
           "subunitcolor": "white"
          },
          "hoverlabel": {
           "align": "left"
          },
          "hovermode": "closest",
          "mapbox": {
           "style": "light"
          },
          "paper_bgcolor": "white",
          "plot_bgcolor": "#E5ECF6",
          "polar": {
           "angularaxis": {
            "gridcolor": "white",
            "linecolor": "white",
            "ticks": ""
           },
           "bgcolor": "#E5ECF6",
           "radialaxis": {
            "gridcolor": "white",
            "linecolor": "white",
            "ticks": ""
           }
          },
          "scene": {
           "xaxis": {
            "backgroundcolor": "#E5ECF6",
            "gridcolor": "white",
            "gridwidth": 2,
            "linecolor": "white",
            "showbackground": true,
            "ticks": "",
            "zerolinecolor": "white"
           },
           "yaxis": {
            "backgroundcolor": "#E5ECF6",
            "gridcolor": "white",
            "gridwidth": 2,
            "linecolor": "white",
            "showbackground": true,
            "ticks": "",
            "zerolinecolor": "white"
           },
           "zaxis": {
            "backgroundcolor": "#E5ECF6",
            "gridcolor": "white",
            "gridwidth": 2,
            "linecolor": "white",
            "showbackground": true,
            "ticks": "",
            "zerolinecolor": "white"
           }
          },
          "shapedefaults": {
           "line": {
            "color": "#2a3f5f"
           }
          },
          "ternary": {
           "aaxis": {
            "gridcolor": "white",
            "linecolor": "white",
            "ticks": ""
           },
           "baxis": {
            "gridcolor": "white",
            "linecolor": "white",
            "ticks": ""
           },
           "bgcolor": "#E5ECF6",
           "caxis": {
            "gridcolor": "white",
            "linecolor": "white",
            "ticks": ""
           }
          },
          "title": {
           "x": 0.05
          },
          "xaxis": {
           "automargin": true,
           "gridcolor": "white",
           "linecolor": "white",
           "ticks": "",
           "title": {
            "standoff": 15
           },
           "zerolinecolor": "white",
           "zerolinewidth": 2
          },
          "yaxis": {
           "automargin": true,
           "gridcolor": "white",
           "linecolor": "white",
           "ticks": "",
           "title": {
            "standoff": 15
           },
           "zerolinecolor": "white",
           "zerolinewidth": 2
          }
         }
        },
        "title": {
         "font": {
          "color": "#1f77b4",
          "family": "Courier New"
         },
         "text": "Women Representation in Parliament (Global Average) by Decade"
        },
        "width": 800,
        "xaxis": {
         "anchor": "y",
         "domain": [
          0,
          1
         ],
         "nticks": 20,
         "title": {
          "text": "Year"
         }
        },
        "yaxis": {
         "anchor": "x",
         "domain": [
          0,
          1
         ],
         "title": {
          "text": "Women (%)"
         }
        }
       }
      }
     },
     "metadata": {},
     "output_type": "display_data"
    }
   ],
   "source": [
    "temp = df.query(\"year_ > 1949\")\n",
    "\n",
    "fig = px.line(df, x=\"year\", y=\"women_perc\", color='decade', markers=True,\n",
    "              title='Women Representation in Parliament (Global Average) by Decade',\n",
    "              labels=dict(year='Year', women_perc='Women (%)', decade='Decade')\n",
    ")\n",
    "fig.update_layout(\n",
    "        font_family=\"Courier New\",\n",
    "        font_color=\"grey\",\n",
    "        title_font_family=\"Courier New\",\n",
    "        title_font_color=\"#1f77b4\",\n",
    "        legend_title_font_color=\"grey\",\n",
    "        autosize=False,\n",
    "        width=800,\n",
    "        height=400\n",
    "        )\n",
    "fig.update_xaxes(nticks=20)\n",
    "fig.show()"
   ]
  },
  {
   "cell_type": "code",
   "execution_count": 9,
   "metadata": {},
   "outputs": [
    {
     "data": {
      "application/vnd.plotly.v1+json": {
       "config": {
        "plotlyServerURL": "https://plot.ly"
       },
       "data": [
        {
         "alignmentgroup": "True",
         "hovertemplate": "Decade=%{x}<br>Women (%)=%{y}<extra></extra>",
         "legendgroup": "40's",
         "marker": {
          "color": "#636efa"
         },
         "name": "40's",
         "notched": false,
         "offsetgroup": "40's",
         "orientation": "v",
         "showlegend": true,
         "type": "box",
         "x": [
          "40's",
          "40's",
          "40's",
          "40's",
          "40's"
         ],
         "x0": " ",
         "xaxis": "x",
         "y": [
          0.032222222,
          0.035185185,
          0.022727273,
          0.032631579,
          0.041052632
         ],
         "y0": " ",
         "yaxis": "y"
        },
        {
         "alignmentgroup": "True",
         "hovertemplate": "Decade=%{x}<br>Women (%)=%{y}<extra></extra>",
         "legendgroup": "50's",
         "marker": {
          "color": "#EF553B"
         },
         "name": "50's",
         "notched": false,
         "offsetgroup": "50's",
         "orientation": "v",
         "showlegend": true,
         "type": "box",
         "x": [
          "50's",
          "50's",
          "50's",
          "50's",
          "50's",
          "50's",
          "50's",
          "50's",
          "50's",
          "50's"
         ],
         "x0": " ",
         "xaxis": "x",
         "y": [
          0.036666667,
          0.044285714,
          0.049375,
          0.047142857,
          0.060434783,
          0.032142857,
          0.049166667,
          0.048695652,
          0.043333333,
          0.031428571
         ],
         "y0": " ",
         "yaxis": "y"
        },
        {
         "alignmentgroup": "True",
         "hovertemplate": "Decade=%{x}<br>Women (%)=%{y}<extra></extra>",
         "legendgroup": "60's",
         "marker": {
          "color": "#00cc96"
         },
         "name": "60's",
         "notched": false,
         "offsetgroup": "60's",
         "orientation": "v",
         "showlegend": true,
         "type": "box",
         "x": [
          "60's",
          "60's",
          "60's",
          "60's",
          "60's",
          "60's",
          "60's",
          "60's",
          "60's",
          "60's"
         ],
         "x0": " ",
         "xaxis": "x",
         "y": [
          0.043214286,
          0.037391304,
          0.0504,
          0.073333333,
          0.03962963,
          0.055,
          0.065714286,
          0.065714286,
          0.0408,
          0.047666667
         ],
         "y0": " ",
         "yaxis": "y"
        },
        {
         "alignmentgroup": "True",
         "hovertemplate": "Decade=%{x}<br>Women (%)=%{y}<extra></extra>",
         "legendgroup": "70's",
         "marker": {
          "color": "#ab63fa"
         },
         "name": "70's",
         "notched": false,
         "offsetgroup": "70's",
         "orientation": "v",
         "showlegend": true,
         "type": "box",
         "x": [
          "70's",
          "70's",
          "70's",
          "70's",
          "70's",
          "70's",
          "70's",
          "70's",
          "70's",
          "70's"
         ],
         "x0": " ",
         "xaxis": "x",
         "y": [
          0.055,
          0.084444444,
          0.057407407,
          0.061290323,
          0.06875,
          0.093181818,
          0.103666667,
          0.0528125,
          0.055833333,
          0.091315789
         ],
         "y0": " ",
         "yaxis": "y"
        },
        {
         "alignmentgroup": "True",
         "hovertemplate": "Decade=%{x}<br>Women (%)=%{y}<extra></extra>",
         "legendgroup": "80's",
         "marker": {
          "color": "#FFA15A"
         },
         "name": "80's",
         "notched": false,
         "offsetgroup": "80's",
         "orientation": "v",
         "showlegend": true,
         "type": "box",
         "x": [
          "80's",
          "80's",
          "80's",
          "80's",
          "80's",
          "80's",
          "80's",
          "80's",
          "80's",
          "80's"
         ],
         "x0": " ",
         "xaxis": "x",
         "y": [
          0.07625,
          0.107096774,
          0.069411765,
          0.073030303,
          0.06974359,
          0.098125,
          0.123870968,
          0.082857143,
          0.087741935,
          0.077674419
         ],
         "y0": " ",
         "yaxis": "y"
        },
        {
         "alignmentgroup": "True",
         "hovertemplate": "Decade=%{x}<br>Women (%)=%{y}<extra></extra>",
         "legendgroup": "90's",
         "marker": {
          "color": "#19d3f3"
         },
         "name": "90's",
         "notched": false,
         "offsetgroup": "90's",
         "orientation": "v",
         "showlegend": true,
         "type": "box",
         "x": [
          "90's",
          "90's",
          "90's",
          "90's",
          "90's",
          "90's",
          "90's",
          "90's",
          "90's",
          "90's"
         ],
         "x0": " ",
         "xaxis": "x",
         "y": [
          0.078571429,
          0.107142857,
          0.067708333,
          0.083636364,
          0.119583333,
          0.108157895,
          0.092702703,
          0.100714286,
          0.143170732,
          0.134897959
         ],
         "y0": " ",
         "yaxis": "y"
        },
        {
         "alignmentgroup": "True",
         "hovertemplate": "Decade=%{x}<br>Women (%)=%{y}<extra></extra>",
         "legendgroup": "00's",
         "marker": {
          "color": "#FF6692"
         },
         "name": "00's",
         "notched": false,
         "offsetgroup": "00's",
         "orientation": "v",
         "showlegend": true,
         "type": "box",
         "x": [
          "00's",
          "00's",
          "00's",
          "00's",
          "00's",
          "00's",
          "00's",
          "00's",
          "00's",
          "00's"
         ],
         "x0": " ",
         "xaxis": "x",
         "y": [
          0.101555556,
          0.154594595,
          0.158103448,
          0.138536585,
          0.144693878,
          0.181219512,
          0.164782609,
          0.161641791,
          0.17,
          0.216304348
         ],
         "y0": " ",
         "yaxis": "y"
        },
        {
         "alignmentgroup": "True",
         "hovertemplate": "Decade=%{x}<br>Women (%)=%{y}<extra></extra>",
         "legendgroup": "10's",
         "marker": {
          "color": "#B6E880"
         },
         "name": "10's",
         "notched": false,
         "offsetgroup": "10's",
         "orientation": "v",
         "showlegend": true,
         "type": "box",
         "x": [
          "10's",
          "10's",
          "10's",
          "10's",
          "10's",
          "10's",
          "10's",
          "10's",
          "10's"
         ],
         "x0": " ",
         "xaxis": "x",
         "y": [
          0.175555556,
          0.211454545,
          0.17097561,
          0.248909091,
          0.217209302,
          0.209444444,
          0.197948718,
          0.245333333,
          0.246585366
         ],
         "y0": " ",
         "yaxis": "y"
        }
       ],
       "layout": {
        "autosize": false,
        "boxmode": "overlay",
        "font": {
         "color": "grey",
         "family": "Courier New"
        },
        "height": 400,
        "legend": {
         "title": {
          "font": {
           "color": "grey"
          },
          "text": "Decade"
         },
         "tracegroupgap": 0
        },
        "template": {
         "data": {
          "bar": [
           {
            "error_x": {
             "color": "#2a3f5f"
            },
            "error_y": {
             "color": "#2a3f5f"
            },
            "marker": {
             "line": {
              "color": "#E5ECF6",
              "width": 0.5
             },
             "pattern": {
              "fillmode": "overlay",
              "size": 10,
              "solidity": 0.2
             }
            },
            "type": "bar"
           }
          ],
          "barpolar": [
           {
            "marker": {
             "line": {
              "color": "#E5ECF6",
              "width": 0.5
             },
             "pattern": {
              "fillmode": "overlay",
              "size": 10,
              "solidity": 0.2
             }
            },
            "type": "barpolar"
           }
          ],
          "carpet": [
           {
            "aaxis": {
             "endlinecolor": "#2a3f5f",
             "gridcolor": "white",
             "linecolor": "white",
             "minorgridcolor": "white",
             "startlinecolor": "#2a3f5f"
            },
            "baxis": {
             "endlinecolor": "#2a3f5f",
             "gridcolor": "white",
             "linecolor": "white",
             "minorgridcolor": "white",
             "startlinecolor": "#2a3f5f"
            },
            "type": "carpet"
           }
          ],
          "choropleth": [
           {
            "colorbar": {
             "outlinewidth": 0,
             "ticks": ""
            },
            "type": "choropleth"
           }
          ],
          "contour": [
           {
            "colorbar": {
             "outlinewidth": 0,
             "ticks": ""
            },
            "colorscale": [
             [
              0,
              "#0d0887"
             ],
             [
              0.1111111111111111,
              "#46039f"
             ],
             [
              0.2222222222222222,
              "#7201a8"
             ],
             [
              0.3333333333333333,
              "#9c179e"
             ],
             [
              0.4444444444444444,
              "#bd3786"
             ],
             [
              0.5555555555555556,
              "#d8576b"
             ],
             [
              0.6666666666666666,
              "#ed7953"
             ],
             [
              0.7777777777777778,
              "#fb9f3a"
             ],
             [
              0.8888888888888888,
              "#fdca26"
             ],
             [
              1,
              "#f0f921"
             ]
            ],
            "type": "contour"
           }
          ],
          "contourcarpet": [
           {
            "colorbar": {
             "outlinewidth": 0,
             "ticks": ""
            },
            "type": "contourcarpet"
           }
          ],
          "heatmap": [
           {
            "colorbar": {
             "outlinewidth": 0,
             "ticks": ""
            },
            "colorscale": [
             [
              0,
              "#0d0887"
             ],
             [
              0.1111111111111111,
              "#46039f"
             ],
             [
              0.2222222222222222,
              "#7201a8"
             ],
             [
              0.3333333333333333,
              "#9c179e"
             ],
             [
              0.4444444444444444,
              "#bd3786"
             ],
             [
              0.5555555555555556,
              "#d8576b"
             ],
             [
              0.6666666666666666,
              "#ed7953"
             ],
             [
              0.7777777777777778,
              "#fb9f3a"
             ],
             [
              0.8888888888888888,
              "#fdca26"
             ],
             [
              1,
              "#f0f921"
             ]
            ],
            "type": "heatmap"
           }
          ],
          "heatmapgl": [
           {
            "colorbar": {
             "outlinewidth": 0,
             "ticks": ""
            },
            "colorscale": [
             [
              0,
              "#0d0887"
             ],
             [
              0.1111111111111111,
              "#46039f"
             ],
             [
              0.2222222222222222,
              "#7201a8"
             ],
             [
              0.3333333333333333,
              "#9c179e"
             ],
             [
              0.4444444444444444,
              "#bd3786"
             ],
             [
              0.5555555555555556,
              "#d8576b"
             ],
             [
              0.6666666666666666,
              "#ed7953"
             ],
             [
              0.7777777777777778,
              "#fb9f3a"
             ],
             [
              0.8888888888888888,
              "#fdca26"
             ],
             [
              1,
              "#f0f921"
             ]
            ],
            "type": "heatmapgl"
           }
          ],
          "histogram": [
           {
            "marker": {
             "pattern": {
              "fillmode": "overlay",
              "size": 10,
              "solidity": 0.2
             }
            },
            "type": "histogram"
           }
          ],
          "histogram2d": [
           {
            "colorbar": {
             "outlinewidth": 0,
             "ticks": ""
            },
            "colorscale": [
             [
              0,
              "#0d0887"
             ],
             [
              0.1111111111111111,
              "#46039f"
             ],
             [
              0.2222222222222222,
              "#7201a8"
             ],
             [
              0.3333333333333333,
              "#9c179e"
             ],
             [
              0.4444444444444444,
              "#bd3786"
             ],
             [
              0.5555555555555556,
              "#d8576b"
             ],
             [
              0.6666666666666666,
              "#ed7953"
             ],
             [
              0.7777777777777778,
              "#fb9f3a"
             ],
             [
              0.8888888888888888,
              "#fdca26"
             ],
             [
              1,
              "#f0f921"
             ]
            ],
            "type": "histogram2d"
           }
          ],
          "histogram2dcontour": [
           {
            "colorbar": {
             "outlinewidth": 0,
             "ticks": ""
            },
            "colorscale": [
             [
              0,
              "#0d0887"
             ],
             [
              0.1111111111111111,
              "#46039f"
             ],
             [
              0.2222222222222222,
              "#7201a8"
             ],
             [
              0.3333333333333333,
              "#9c179e"
             ],
             [
              0.4444444444444444,
              "#bd3786"
             ],
             [
              0.5555555555555556,
              "#d8576b"
             ],
             [
              0.6666666666666666,
              "#ed7953"
             ],
             [
              0.7777777777777778,
              "#fb9f3a"
             ],
             [
              0.8888888888888888,
              "#fdca26"
             ],
             [
              1,
              "#f0f921"
             ]
            ],
            "type": "histogram2dcontour"
           }
          ],
          "mesh3d": [
           {
            "colorbar": {
             "outlinewidth": 0,
             "ticks": ""
            },
            "type": "mesh3d"
           }
          ],
          "parcoords": [
           {
            "line": {
             "colorbar": {
              "outlinewidth": 0,
              "ticks": ""
             }
            },
            "type": "parcoords"
           }
          ],
          "pie": [
           {
            "automargin": true,
            "type": "pie"
           }
          ],
          "scatter": [
           {
            "marker": {
             "colorbar": {
              "outlinewidth": 0,
              "ticks": ""
             }
            },
            "type": "scatter"
           }
          ],
          "scatter3d": [
           {
            "line": {
             "colorbar": {
              "outlinewidth": 0,
              "ticks": ""
             }
            },
            "marker": {
             "colorbar": {
              "outlinewidth": 0,
              "ticks": ""
             }
            },
            "type": "scatter3d"
           }
          ],
          "scattercarpet": [
           {
            "marker": {
             "colorbar": {
              "outlinewidth": 0,
              "ticks": ""
             }
            },
            "type": "scattercarpet"
           }
          ],
          "scattergeo": [
           {
            "marker": {
             "colorbar": {
              "outlinewidth": 0,
              "ticks": ""
             }
            },
            "type": "scattergeo"
           }
          ],
          "scattergl": [
           {
            "marker": {
             "colorbar": {
              "outlinewidth": 0,
              "ticks": ""
             }
            },
            "type": "scattergl"
           }
          ],
          "scattermapbox": [
           {
            "marker": {
             "colorbar": {
              "outlinewidth": 0,
              "ticks": ""
             }
            },
            "type": "scattermapbox"
           }
          ],
          "scatterpolar": [
           {
            "marker": {
             "colorbar": {
              "outlinewidth": 0,
              "ticks": ""
             }
            },
            "type": "scatterpolar"
           }
          ],
          "scatterpolargl": [
           {
            "marker": {
             "colorbar": {
              "outlinewidth": 0,
              "ticks": ""
             }
            },
            "type": "scatterpolargl"
           }
          ],
          "scatterternary": [
           {
            "marker": {
             "colorbar": {
              "outlinewidth": 0,
              "ticks": ""
             }
            },
            "type": "scatterternary"
           }
          ],
          "surface": [
           {
            "colorbar": {
             "outlinewidth": 0,
             "ticks": ""
            },
            "colorscale": [
             [
              0,
              "#0d0887"
             ],
             [
              0.1111111111111111,
              "#46039f"
             ],
             [
              0.2222222222222222,
              "#7201a8"
             ],
             [
              0.3333333333333333,
              "#9c179e"
             ],
             [
              0.4444444444444444,
              "#bd3786"
             ],
             [
              0.5555555555555556,
              "#d8576b"
             ],
             [
              0.6666666666666666,
              "#ed7953"
             ],
             [
              0.7777777777777778,
              "#fb9f3a"
             ],
             [
              0.8888888888888888,
              "#fdca26"
             ],
             [
              1,
              "#f0f921"
             ]
            ],
            "type": "surface"
           }
          ],
          "table": [
           {
            "cells": {
             "fill": {
              "color": "#EBF0F8"
             },
             "line": {
              "color": "white"
             }
            },
            "header": {
             "fill": {
              "color": "#C8D4E3"
             },
             "line": {
              "color": "white"
             }
            },
            "type": "table"
           }
          ]
         },
         "layout": {
          "annotationdefaults": {
           "arrowcolor": "#2a3f5f",
           "arrowhead": 0,
           "arrowwidth": 1
          },
          "autotypenumbers": "strict",
          "coloraxis": {
           "colorbar": {
            "outlinewidth": 0,
            "ticks": ""
           }
          },
          "colorscale": {
           "diverging": [
            [
             0,
             "#8e0152"
            ],
            [
             0.1,
             "#c51b7d"
            ],
            [
             0.2,
             "#de77ae"
            ],
            [
             0.3,
             "#f1b6da"
            ],
            [
             0.4,
             "#fde0ef"
            ],
            [
             0.5,
             "#f7f7f7"
            ],
            [
             0.6,
             "#e6f5d0"
            ],
            [
             0.7,
             "#b8e186"
            ],
            [
             0.8,
             "#7fbc41"
            ],
            [
             0.9,
             "#4d9221"
            ],
            [
             1,
             "#276419"
            ]
           ],
           "sequential": [
            [
             0,
             "#0d0887"
            ],
            [
             0.1111111111111111,
             "#46039f"
            ],
            [
             0.2222222222222222,
             "#7201a8"
            ],
            [
             0.3333333333333333,
             "#9c179e"
            ],
            [
             0.4444444444444444,
             "#bd3786"
            ],
            [
             0.5555555555555556,
             "#d8576b"
            ],
            [
             0.6666666666666666,
             "#ed7953"
            ],
            [
             0.7777777777777778,
             "#fb9f3a"
            ],
            [
             0.8888888888888888,
             "#fdca26"
            ],
            [
             1,
             "#f0f921"
            ]
           ],
           "sequentialminus": [
            [
             0,
             "#0d0887"
            ],
            [
             0.1111111111111111,
             "#46039f"
            ],
            [
             0.2222222222222222,
             "#7201a8"
            ],
            [
             0.3333333333333333,
             "#9c179e"
            ],
            [
             0.4444444444444444,
             "#bd3786"
            ],
            [
             0.5555555555555556,
             "#d8576b"
            ],
            [
             0.6666666666666666,
             "#ed7953"
            ],
            [
             0.7777777777777778,
             "#fb9f3a"
            ],
            [
             0.8888888888888888,
             "#fdca26"
            ],
            [
             1,
             "#f0f921"
            ]
           ]
          },
          "colorway": [
           "#636efa",
           "#EF553B",
           "#00cc96",
           "#ab63fa",
           "#FFA15A",
           "#19d3f3",
           "#FF6692",
           "#B6E880",
           "#FF97FF",
           "#FECB52"
          ],
          "font": {
           "color": "#2a3f5f"
          },
          "geo": {
           "bgcolor": "white",
           "lakecolor": "white",
           "landcolor": "#E5ECF6",
           "showlakes": true,
           "showland": true,
           "subunitcolor": "white"
          },
          "hoverlabel": {
           "align": "left"
          },
          "hovermode": "closest",
          "mapbox": {
           "style": "light"
          },
          "paper_bgcolor": "white",
          "plot_bgcolor": "#E5ECF6",
          "polar": {
           "angularaxis": {
            "gridcolor": "white",
            "linecolor": "white",
            "ticks": ""
           },
           "bgcolor": "#E5ECF6",
           "radialaxis": {
            "gridcolor": "white",
            "linecolor": "white",
            "ticks": ""
           }
          },
          "scene": {
           "xaxis": {
            "backgroundcolor": "#E5ECF6",
            "gridcolor": "white",
            "gridwidth": 2,
            "linecolor": "white",
            "showbackground": true,
            "ticks": "",
            "zerolinecolor": "white"
           },
           "yaxis": {
            "backgroundcolor": "#E5ECF6",
            "gridcolor": "white",
            "gridwidth": 2,
            "linecolor": "white",
            "showbackground": true,
            "ticks": "",
            "zerolinecolor": "white"
           },
           "zaxis": {
            "backgroundcolor": "#E5ECF6",
            "gridcolor": "white",
            "gridwidth": 2,
            "linecolor": "white",
            "showbackground": true,
            "ticks": "",
            "zerolinecolor": "white"
           }
          },
          "shapedefaults": {
           "line": {
            "color": "#2a3f5f"
           }
          },
          "ternary": {
           "aaxis": {
            "gridcolor": "white",
            "linecolor": "white",
            "ticks": ""
           },
           "baxis": {
            "gridcolor": "white",
            "linecolor": "white",
            "ticks": ""
           },
           "bgcolor": "#E5ECF6",
           "caxis": {
            "gridcolor": "white",
            "linecolor": "white",
            "ticks": ""
           }
          },
          "title": {
           "x": 0.05
          },
          "xaxis": {
           "automargin": true,
           "gridcolor": "white",
           "linecolor": "white",
           "ticks": "",
           "title": {
            "standoff": 15
           },
           "zerolinecolor": "white",
           "zerolinewidth": 2
          },
          "yaxis": {
           "automargin": true,
           "gridcolor": "white",
           "linecolor": "white",
           "ticks": "",
           "title": {
            "standoff": 15
           },
           "zerolinecolor": "white",
           "zerolinewidth": 2
          }
         }
        },
        "title": {
         "font": {
          "color": "#1f77b4",
          "family": "Courier New"
         },
         "text": "Women Representation in Parliament (Global Average) from 50's to 10's "
        },
        "width": 800,
        "xaxis": {
         "anchor": "y",
         "categoryarray": [
          "40's",
          "50's",
          "60's",
          "70's",
          "80's",
          "90's",
          "00's",
          "10's"
         ],
         "categoryorder": "array",
         "domain": [
          0,
          1
         ],
         "title": {
          "text": "Decade"
         }
        },
        "yaxis": {
         "anchor": "x",
         "domain": [
          0,
          1
         ],
         "title": {
          "text": "Women (%)"
         }
        }
       }
      }
     },
     "metadata": {},
     "output_type": "display_data"
    }
   ],
   "source": [
    "fig = px.box(df, x=\"decade\", y=\"women_perc\", color=\"decade\",\n",
    "             title=\"Women Representation in Parliament (Global Average) from 50's to 10's \",\n",
    "             labels=dict(women_perc='Women (%)', decade='Decade')\n",
    ")\n",
    "\n",
    "fig.update_layout(\n",
    "        font_family=\"Courier New\",\n",
    "        font_color=\"grey\",\n",
    "        title_font_family=\"Courier New\",\n",
    "        title_font_color=\"#1f77b4\",\n",
    "        legend_title_font_color=\"grey\",\n",
    "        autosize=False,\n",
    "        width=800,\n",
    "        height=400\n",
    "        )\n",
    "\n",
    "fig.show()"
   ]
  },
  {
   "cell_type": "markdown",
   "metadata": {},
   "source": [
    "In many countries, women have been underrepresented in the government and different institutions. As shown in the graphs above, this historical tendency still persists, although women's percentage in national parliaments is increasing. In the 50's and 60's, women accounted only for 5% or 6% of parliament members around the world with late 70's showing a grow in participation; almost double figures for certain years. 80's and 90's followed the same upward trend with the proportion of women reaching or exceeding 1% of total. Undoubtly, from early 2000 onwards there was an impressive rise of women in national parliaments with the global average nearly doubling, reaching almost 25% in the recent years."
   ]
  },
  {
   "cell_type": "code",
   "execution_count": 11,
   "metadata": {},
   "outputs": [
    {
     "data": {
      "application/vnd.plotly.v1+json": {
       "config": {
        "plotlyServerURL": "https://plot.ly"
       },
       "data": [
        {
         "cells": {
          "values": [
           [
            "50's",
            "60's",
            "70's",
            "80's",
            "90's",
            "00's",
            "10's"
           ],
           [
            0.4,
            0.07,
            0.33,
            0.23,
            0.29,
            0.54,
            0.32
           ]
          ]
         },
         "header": {
          "values": [
           "Decade",
           "Percentage Increase"
          ]
         },
         "type": "table"
        }
       ],
       "layout": {
        "template": {
         "data": {
          "bar": [
           {
            "error_x": {
             "color": "#2a3f5f"
            },
            "error_y": {
             "color": "#2a3f5f"
            },
            "marker": {
             "line": {
              "color": "#E5ECF6",
              "width": 0.5
             },
             "pattern": {
              "fillmode": "overlay",
              "size": 10,
              "solidity": 0.2
             }
            },
            "type": "bar"
           }
          ],
          "barpolar": [
           {
            "marker": {
             "line": {
              "color": "#E5ECF6",
              "width": 0.5
             },
             "pattern": {
              "fillmode": "overlay",
              "size": 10,
              "solidity": 0.2
             }
            },
            "type": "barpolar"
           }
          ],
          "carpet": [
           {
            "aaxis": {
             "endlinecolor": "#2a3f5f",
             "gridcolor": "white",
             "linecolor": "white",
             "minorgridcolor": "white",
             "startlinecolor": "#2a3f5f"
            },
            "baxis": {
             "endlinecolor": "#2a3f5f",
             "gridcolor": "white",
             "linecolor": "white",
             "minorgridcolor": "white",
             "startlinecolor": "#2a3f5f"
            },
            "type": "carpet"
           }
          ],
          "choropleth": [
           {
            "colorbar": {
             "outlinewidth": 0,
             "ticks": ""
            },
            "type": "choropleth"
           }
          ],
          "contour": [
           {
            "colorbar": {
             "outlinewidth": 0,
             "ticks": ""
            },
            "colorscale": [
             [
              0,
              "#0d0887"
             ],
             [
              0.1111111111111111,
              "#46039f"
             ],
             [
              0.2222222222222222,
              "#7201a8"
             ],
             [
              0.3333333333333333,
              "#9c179e"
             ],
             [
              0.4444444444444444,
              "#bd3786"
             ],
             [
              0.5555555555555556,
              "#d8576b"
             ],
             [
              0.6666666666666666,
              "#ed7953"
             ],
             [
              0.7777777777777778,
              "#fb9f3a"
             ],
             [
              0.8888888888888888,
              "#fdca26"
             ],
             [
              1,
              "#f0f921"
             ]
            ],
            "type": "contour"
           }
          ],
          "contourcarpet": [
           {
            "colorbar": {
             "outlinewidth": 0,
             "ticks": ""
            },
            "type": "contourcarpet"
           }
          ],
          "heatmap": [
           {
            "colorbar": {
             "outlinewidth": 0,
             "ticks": ""
            },
            "colorscale": [
             [
              0,
              "#0d0887"
             ],
             [
              0.1111111111111111,
              "#46039f"
             ],
             [
              0.2222222222222222,
              "#7201a8"
             ],
             [
              0.3333333333333333,
              "#9c179e"
             ],
             [
              0.4444444444444444,
              "#bd3786"
             ],
             [
              0.5555555555555556,
              "#d8576b"
             ],
             [
              0.6666666666666666,
              "#ed7953"
             ],
             [
              0.7777777777777778,
              "#fb9f3a"
             ],
             [
              0.8888888888888888,
              "#fdca26"
             ],
             [
              1,
              "#f0f921"
             ]
            ],
            "type": "heatmap"
           }
          ],
          "heatmapgl": [
           {
            "colorbar": {
             "outlinewidth": 0,
             "ticks": ""
            },
            "colorscale": [
             [
              0,
              "#0d0887"
             ],
             [
              0.1111111111111111,
              "#46039f"
             ],
             [
              0.2222222222222222,
              "#7201a8"
             ],
             [
              0.3333333333333333,
              "#9c179e"
             ],
             [
              0.4444444444444444,
              "#bd3786"
             ],
             [
              0.5555555555555556,
              "#d8576b"
             ],
             [
              0.6666666666666666,
              "#ed7953"
             ],
             [
              0.7777777777777778,
              "#fb9f3a"
             ],
             [
              0.8888888888888888,
              "#fdca26"
             ],
             [
              1,
              "#f0f921"
             ]
            ],
            "type": "heatmapgl"
           }
          ],
          "histogram": [
           {
            "marker": {
             "pattern": {
              "fillmode": "overlay",
              "size": 10,
              "solidity": 0.2
             }
            },
            "type": "histogram"
           }
          ],
          "histogram2d": [
           {
            "colorbar": {
             "outlinewidth": 0,
             "ticks": ""
            },
            "colorscale": [
             [
              0,
              "#0d0887"
             ],
             [
              0.1111111111111111,
              "#46039f"
             ],
             [
              0.2222222222222222,
              "#7201a8"
             ],
             [
              0.3333333333333333,
              "#9c179e"
             ],
             [
              0.4444444444444444,
              "#bd3786"
             ],
             [
              0.5555555555555556,
              "#d8576b"
             ],
             [
              0.6666666666666666,
              "#ed7953"
             ],
             [
              0.7777777777777778,
              "#fb9f3a"
             ],
             [
              0.8888888888888888,
              "#fdca26"
             ],
             [
              1,
              "#f0f921"
             ]
            ],
            "type": "histogram2d"
           }
          ],
          "histogram2dcontour": [
           {
            "colorbar": {
             "outlinewidth": 0,
             "ticks": ""
            },
            "colorscale": [
             [
              0,
              "#0d0887"
             ],
             [
              0.1111111111111111,
              "#46039f"
             ],
             [
              0.2222222222222222,
              "#7201a8"
             ],
             [
              0.3333333333333333,
              "#9c179e"
             ],
             [
              0.4444444444444444,
              "#bd3786"
             ],
             [
              0.5555555555555556,
              "#d8576b"
             ],
             [
              0.6666666666666666,
              "#ed7953"
             ],
             [
              0.7777777777777778,
              "#fb9f3a"
             ],
             [
              0.8888888888888888,
              "#fdca26"
             ],
             [
              1,
              "#f0f921"
             ]
            ],
            "type": "histogram2dcontour"
           }
          ],
          "mesh3d": [
           {
            "colorbar": {
             "outlinewidth": 0,
             "ticks": ""
            },
            "type": "mesh3d"
           }
          ],
          "parcoords": [
           {
            "line": {
             "colorbar": {
              "outlinewidth": 0,
              "ticks": ""
             }
            },
            "type": "parcoords"
           }
          ],
          "pie": [
           {
            "automargin": true,
            "type": "pie"
           }
          ],
          "scatter": [
           {
            "marker": {
             "colorbar": {
              "outlinewidth": 0,
              "ticks": ""
             }
            },
            "type": "scatter"
           }
          ],
          "scatter3d": [
           {
            "line": {
             "colorbar": {
              "outlinewidth": 0,
              "ticks": ""
             }
            },
            "marker": {
             "colorbar": {
              "outlinewidth": 0,
              "ticks": ""
             }
            },
            "type": "scatter3d"
           }
          ],
          "scattercarpet": [
           {
            "marker": {
             "colorbar": {
              "outlinewidth": 0,
              "ticks": ""
             }
            },
            "type": "scattercarpet"
           }
          ],
          "scattergeo": [
           {
            "marker": {
             "colorbar": {
              "outlinewidth": 0,
              "ticks": ""
             }
            },
            "type": "scattergeo"
           }
          ],
          "scattergl": [
           {
            "marker": {
             "colorbar": {
              "outlinewidth": 0,
              "ticks": ""
             }
            },
            "type": "scattergl"
           }
          ],
          "scattermapbox": [
           {
            "marker": {
             "colorbar": {
              "outlinewidth": 0,
              "ticks": ""
             }
            },
            "type": "scattermapbox"
           }
          ],
          "scatterpolar": [
           {
            "marker": {
             "colorbar": {
              "outlinewidth": 0,
              "ticks": ""
             }
            },
            "type": "scatterpolar"
           }
          ],
          "scatterpolargl": [
           {
            "marker": {
             "colorbar": {
              "outlinewidth": 0,
              "ticks": ""
             }
            },
            "type": "scatterpolargl"
           }
          ],
          "scatterternary": [
           {
            "marker": {
             "colorbar": {
              "outlinewidth": 0,
              "ticks": ""
             }
            },
            "type": "scatterternary"
           }
          ],
          "surface": [
           {
            "colorbar": {
             "outlinewidth": 0,
             "ticks": ""
            },
            "colorscale": [
             [
              0,
              "#0d0887"
             ],
             [
              0.1111111111111111,
              "#46039f"
             ],
             [
              0.2222222222222222,
              "#7201a8"
             ],
             [
              0.3333333333333333,
              "#9c179e"
             ],
             [
              0.4444444444444444,
              "#bd3786"
             ],
             [
              0.5555555555555556,
              "#d8576b"
             ],
             [
              0.6666666666666666,
              "#ed7953"
             ],
             [
              0.7777777777777778,
              "#fb9f3a"
             ],
             [
              0.8888888888888888,
              "#fdca26"
             ],
             [
              1,
              "#f0f921"
             ]
            ],
            "type": "surface"
           }
          ],
          "table": [
           {
            "cells": {
             "fill": {
              "color": "#EBF0F8"
             },
             "line": {
              "color": "white"
             }
            },
            "header": {
             "fill": {
              "color": "#C8D4E3"
             },
             "line": {
              "color": "white"
             }
            },
            "type": "table"
           }
          ]
         },
         "layout": {
          "annotationdefaults": {
           "arrowcolor": "#2a3f5f",
           "arrowhead": 0,
           "arrowwidth": 1
          },
          "autotypenumbers": "strict",
          "coloraxis": {
           "colorbar": {
            "outlinewidth": 0,
            "ticks": ""
           }
          },
          "colorscale": {
           "diverging": [
            [
             0,
             "#8e0152"
            ],
            [
             0.1,
             "#c51b7d"
            ],
            [
             0.2,
             "#de77ae"
            ],
            [
             0.3,
             "#f1b6da"
            ],
            [
             0.4,
             "#fde0ef"
            ],
            [
             0.5,
             "#f7f7f7"
            ],
            [
             0.6,
             "#e6f5d0"
            ],
            [
             0.7,
             "#b8e186"
            ],
            [
             0.8,
             "#7fbc41"
            ],
            [
             0.9,
             "#4d9221"
            ],
            [
             1,
             "#276419"
            ]
           ],
           "sequential": [
            [
             0,
             "#0d0887"
            ],
            [
             0.1111111111111111,
             "#46039f"
            ],
            [
             0.2222222222222222,
             "#7201a8"
            ],
            [
             0.3333333333333333,
             "#9c179e"
            ],
            [
             0.4444444444444444,
             "#bd3786"
            ],
            [
             0.5555555555555556,
             "#d8576b"
            ],
            [
             0.6666666666666666,
             "#ed7953"
            ],
            [
             0.7777777777777778,
             "#fb9f3a"
            ],
            [
             0.8888888888888888,
             "#fdca26"
            ],
            [
             1,
             "#f0f921"
            ]
           ],
           "sequentialminus": [
            [
             0,
             "#0d0887"
            ],
            [
             0.1111111111111111,
             "#46039f"
            ],
            [
             0.2222222222222222,
             "#7201a8"
            ],
            [
             0.3333333333333333,
             "#9c179e"
            ],
            [
             0.4444444444444444,
             "#bd3786"
            ],
            [
             0.5555555555555556,
             "#d8576b"
            ],
            [
             0.6666666666666666,
             "#ed7953"
            ],
            [
             0.7777777777777778,
             "#fb9f3a"
            ],
            [
             0.8888888888888888,
             "#fdca26"
            ],
            [
             1,
             "#f0f921"
            ]
           ]
          },
          "colorway": [
           "#636efa",
           "#EF553B",
           "#00cc96",
           "#ab63fa",
           "#FFA15A",
           "#19d3f3",
           "#FF6692",
           "#B6E880",
           "#FF97FF",
           "#FECB52"
          ],
          "font": {
           "color": "#2a3f5f"
          },
          "geo": {
           "bgcolor": "white",
           "lakecolor": "white",
           "landcolor": "#E5ECF6",
           "showlakes": true,
           "showland": true,
           "subunitcolor": "white"
          },
          "hoverlabel": {
           "align": "left"
          },
          "hovermode": "closest",
          "mapbox": {
           "style": "light"
          },
          "paper_bgcolor": "white",
          "plot_bgcolor": "#E5ECF6",
          "polar": {
           "angularaxis": {
            "gridcolor": "white",
            "linecolor": "white",
            "ticks": ""
           },
           "bgcolor": "#E5ECF6",
           "radialaxis": {
            "gridcolor": "white",
            "linecolor": "white",
            "ticks": ""
           }
          },
          "scene": {
           "xaxis": {
            "backgroundcolor": "#E5ECF6",
            "gridcolor": "white",
            "gridwidth": 2,
            "linecolor": "white",
            "showbackground": true,
            "ticks": "",
            "zerolinecolor": "white"
           },
           "yaxis": {
            "backgroundcolor": "#E5ECF6",
            "gridcolor": "white",
            "gridwidth": 2,
            "linecolor": "white",
            "showbackground": true,
            "ticks": "",
            "zerolinecolor": "white"
           },
           "zaxis": {
            "backgroundcolor": "#E5ECF6",
            "gridcolor": "white",
            "gridwidth": 2,
            "linecolor": "white",
            "showbackground": true,
            "ticks": "",
            "zerolinecolor": "white"
           }
          },
          "shapedefaults": {
           "line": {
            "color": "#2a3f5f"
           }
          },
          "ternary": {
           "aaxis": {
            "gridcolor": "white",
            "linecolor": "white",
            "ticks": ""
           },
           "baxis": {
            "gridcolor": "white",
            "linecolor": "white",
            "ticks": ""
           },
           "bgcolor": "#E5ECF6",
           "caxis": {
            "gridcolor": "white",
            "linecolor": "white",
            "ticks": ""
           }
          },
          "title": {
           "x": 0.05
          },
          "xaxis": {
           "automargin": true,
           "gridcolor": "white",
           "linecolor": "white",
           "ticks": "",
           "title": {
            "standoff": 15
           },
           "zerolinecolor": "white",
           "zerolinewidth": 2
          },
          "yaxis": {
           "automargin": true,
           "gridcolor": "white",
           "linecolor": "white",
           "ticks": "",
           "title": {
            "standoff": 15
           },
           "zerolinecolor": "white",
           "zerolinewidth": 2
          }
         }
        }
       }
      }
     },
     "metadata": {},
     "output_type": "display_data"
    }
   ],
   "source": [
    "import plotly.graph_objects as go\n",
    "\n",
    "# Calculate percentage increase on mean global participation averaged by decade\n",
    "df_dec_avg = pd.DataFrame(df.groupby(['decade'])['women_perc'].median())\n",
    "df_dec_avg = df_dec_avg.sort_values('women_perc')\n",
    "df_dec_avg['perc_change'] = round( df_dec_avg['women_perc'].pct_change(), 2)\n",
    "\n",
    "fig = go.Figure(data=[go.Table(header=dict(values=['Decade', 'Percentage Increase']),\n",
    "                 cells=dict(values=[df_dec_avg.index[1:], df_dec_avg['perc_change'].iloc[1:]]))\n",
    "                     ])\n",
    "fig.show()"
   ]
  },
  {
   "cell_type": "code",
   "execution_count": 6,
   "metadata": {},
   "outputs": [],
   "source": [
    "# read population data\n",
    "df_pop = pd.read_excel('./data/WPP2019_POP_F01_1_TOTAL_POPULATION_BOTH_SEXES.xlsx',usecols=[2,7,17,27,37,47,57,67,75])\n",
    "df_pop = df_pop.iloc[15:]\n",
    "df_pop.columns = df_pop.iloc[0]\n",
    "df_pop = df_pop.iloc[1:]\n",
    "df_pop = df_pop.rename(columns={'Region, subregion, country or area *':'decade'})\n",
    "\n",
    "# reshape population data\n",
    "df_pop_ = df_pop.T.reset_index()\n",
    "df_pop_.columns = df_pop_.iloc[0]\n",
    "df_pop_ = df_pop_.iloc[1:]\n",
    "df_pop_ = df_pop_.set_index('decade')\n",
    "\n",
    "# read historical data\n",
    "data = pd.read_csv('./data/women_in_parliament-historical_database-1945_to_2018_cleaned.csv')\n",
    "\n",
    "# exclude from election results 'upper' chamber type\n",
    "data = data.query(\"chamber_type != 'upper' \")\n",
    "\n",
    "# get average percentage participation by country\n",
    "df_avg_dc = pd.DataFrame(data.groupby(['country', 'decade'])['women_perc'].mean().reset_index())\n",
    "\n",
    "\n",
    "# reshape population df\n",
    "countries = list(df_avg_dc['country'].unique())\n",
    "for i in range(len(countries)):\n",
    "    if i == 0:\n",
    "        country = countries[i]\n",
    "        df_pop_c_d = pd.DataFrame(df_pop_[country].reset_index())\n",
    "        df_pop_c_d = df_pop_c_d.rename(columns={country:'pop'})\n",
    "        df_pop_c_d['country'] = country\n",
    "    else:\n",
    "        country = countries[i]\n",
    "        try:\n",
    "            temp = pd.DataFrame(df_pop_[country].reset_index())\n",
    "            temp = temp.rename(columns={country:'pop'})\n",
    "            temp['country'] = country\n",
    "            df_pop_c_d = pd.concat([temp,df_pop_c_d])\n",
    "        except:\n",
    "            pass\n",
    "\n",
    "df_pop_c_d['decade'] = df_pop_c_d['decade'].astype('int64')\n",
    "\n",
    "# merge population to participation by decade, country data\n",
    "df_pop_participation = df_avg_dc.merge(df_pop_c_d, on=['country','decade'])\n",
    "df_pop_participation.dropna(inplace=True)\n",
    "df_pop_participation['pop'] = df_pop_participation['pop'].astype('float')\n",
    "\n",
    "df_pop_participation = df_pop_participation.sort_values(by='decade')\n",
    "df_pop_participation['women_perc'] = round(df_pop_participation['women_perc'],2)\n",
    "df_pop_participation.to_csv('./data/participation_by_decade_country_pop.csv')"
   ]
  },
  {
   "cell_type": "code",
   "execution_count": 5,
   "metadata": {},
   "outputs": [
    {
     "data": {
      "application/vnd.plotly.v1+json": {
       "config": {
        "plotlyServerURL": "https://plot.ly"
       },
       "data": [
        {
         "hovertemplate": "Country=%{x}<br>Decade=1950<br>Women (%)=%{y}<br>Population (thousands)=%{marker.size}<extra></extra>",
         "legendgroup": "Italy",
         "marker": {
          "color": "#636efa",
          "size": [
           46598.599
          ],
          "sizemode": "area",
          "sizeref": 3085.7029075,
          "symbol": "circle"
         },
         "mode": "markers",
         "name": "Italy",
         "orientation": "v",
         "showlegend": true,
         "type": "scatter",
         "x": [
          "Italy"
         ],
         "xaxis": "x7",
         "y": [
          0.05
         ],
         "yaxis": "y7"
        },
        {
         "hovertemplate": "Country=%{x}<br>Decade=1960<br>Women (%)=%{y}<br>Population (thousands)=%{marker.size}<extra></extra>",
         "legendgroup": "Italy",
         "marker": {
          "color": "#636efa",
          "size": [
           49699.947
          ],
          "sizemode": "area",
          "sizeref": 3085.7029075,
          "symbol": "circle"
         },
         "mode": "markers",
         "name": "Italy",
         "orientation": "v",
         "showlegend": false,
         "type": "scatter",
         "x": [
          "Italy"
         ],
         "xaxis": "x8",
         "y": [
          0.04
         ],
         "yaxis": "y8"
        },
        {
         "hovertemplate": "Country=%{x}<br>Decade=1970<br>Women (%)=%{y}<br>Population (thousands)=%{marker.size}<extra></extra>",
         "legendgroup": "Italy",
         "marker": {
          "color": "#636efa",
          "size": [
           53518.966
          ],
          "sizemode": "area",
          "sizeref": 3085.7029075,
          "symbol": "circle"
         },
         "mode": "markers",
         "name": "Italy",
         "orientation": "v",
         "showlegend": false,
         "type": "scatter",
         "x": [
          "Italy"
         ],
         "xaxis": "x9",
         "y": [
          0.06333333333333334
         ],
         "yaxis": "y9"
        },
        {
         "hovertemplate": "Country=%{x}<br>Decade=1980<br>Women (%)=%{y}<br>Population (thousands)=%{marker.size}<extra></extra>",
         "legendgroup": "Italy",
         "marker": {
          "color": "#636efa",
          "size": [
           56349.352
          ],
          "sizemode": "area",
          "sizeref": 3085.7029075,
          "symbol": "circle"
         },
         "mode": "markers",
         "name": "Italy",
         "orientation": "v",
         "showlegend": false,
         "type": "scatter",
         "x": [
          "Italy"
         ],
         "xaxis": "x4",
         "y": [
          0.10500000000000001
         ],
         "yaxis": "y4"
        },
        {
         "hovertemplate": "Country=%{x}<br>Decade=1990<br>Women (%)=%{y}<br>Population (thousands)=%{marker.size}<extra></extra>",
         "legendgroup": "Italy",
         "marker": {
          "color": "#636efa",
          "size": [
           57048.237
          ],
          "sizemode": "area",
          "sizeref": 3085.7029075,
          "symbol": "circle"
         },
         "mode": "markers",
         "name": "Italy",
         "orientation": "v",
         "showlegend": false,
         "type": "scatter",
         "x": [
          "Italy"
         ],
         "xaxis": "x5",
         "y": [
          0.11333333333333334
         ],
         "yaxis": "y5"
        },
        {
         "hovertemplate": "Country=%{x}<br>Decade=2000<br>Women (%)=%{y}<br>Population (thousands)=%{marker.size}<extra></extra>",
         "legendgroup": "Italy",
         "marker": {
          "color": "#636efa",
          "size": [
           56692.178
          ],
          "sizemode": "area",
          "sizeref": 3085.7029075,
          "symbol": "circle"
         },
         "mode": "markers",
         "name": "Italy",
         "orientation": "v",
         "showlegend": false,
         "type": "scatter",
         "x": [
          "Italy"
         ],
         "xaxis": "x6",
         "y": [
          0.16
         ],
         "yaxis": "y6"
        },
        {
         "hovertemplate": "Country=%{x}<br>Decade=2010<br>Women (%)=%{y}<br>Population (thousands)=%{marker.size}<extra></extra>",
         "legendgroup": "Italy",
         "marker": {
          "color": "#636efa",
          "size": [
           59325.232
          ],
          "sizemode": "area",
          "sizeref": 3085.7029075,
          "symbol": "circle"
         },
         "mode": "markers",
         "name": "Italy",
         "orientation": "v",
         "showlegend": false,
         "type": "scatter",
         "x": [
          "Italy"
         ],
         "xaxis": "x",
         "y": [
          0.31666666666666665
         ],
         "yaxis": "y"
        },
        {
         "hovertemplate": "Country=%{x}<br>Decade=1950<br>Women (%)=%{y}<br>Population (thousands)=%{marker.size}<extra></extra>",
         "legendgroup": "Dominican Republic",
         "marker": {
          "color": "#EF553B",
          "size": [
           2364.649
          ],
          "sizemode": "area",
          "sizeref": 3085.7029075,
          "symbol": "circle"
         },
         "mode": "markers",
         "name": "Dominican Republic",
         "orientation": "v",
         "showlegend": true,
         "type": "scatter",
         "x": [
          "Dominican Republic"
         ],
         "xaxis": "x7",
         "y": [
          0.04
         ],
         "yaxis": "y7"
        },
        {
         "hovertemplate": "Country=%{x}<br>Decade=1960<br>Women (%)=%{y}<br>Population (thousands)=%{marker.size}<extra></extra>",
         "legendgroup": "Dominican Republic",
         "marker": {
          "color": "#EF553B",
          "size": [
           3294.222
          ],
          "sizemode": "area",
          "sizeref": 3085.7029075,
          "symbol": "circle"
         },
         "mode": "markers",
         "name": "Dominican Republic",
         "orientation": "v",
         "showlegend": false,
         "type": "scatter",
         "x": [
          "Dominican Republic"
         ],
         "xaxis": "x8",
         "y": [
          0.035
         ],
         "yaxis": "y8"
        },
        {
         "hovertemplate": "Country=%{x}<br>Decade=1970<br>Women (%)=%{y}<br>Population (thousands)=%{marker.size}<extra></extra>",
         "legendgroup": "Dominican Republic",
         "marker": {
          "color": "#EF553B",
          "size": [
           4499.722
          ],
          "sizemode": "area",
          "sizeref": 3085.7029075,
          "symbol": "circle"
         },
         "mode": "markers",
         "name": "Dominican Republic",
         "orientation": "v",
         "showlegend": false,
         "type": "scatter",
         "x": [
          "Dominican Republic"
         ],
         "xaxis": "x9",
         "y": [
          0.10000000000000002
         ],
         "yaxis": "y9"
        },
        {
         "hovertemplate": "Country=%{x}<br>Decade=1980<br>Women (%)=%{y}<br>Population (thousands)=%{marker.size}<extra></extra>",
         "legendgroup": "Dominican Republic",
         "marker": {
          "color": "#EF553B",
          "size": [
           5803.929
          ],
          "sizemode": "area",
          "sizeref": 3085.7029075,
          "symbol": "circle"
         },
         "mode": "markers",
         "name": "Dominican Republic",
         "orientation": "v",
         "showlegend": false,
         "type": "scatter",
         "x": [
          "Dominican Republic"
         ],
         "xaxis": "x4",
         "y": [
          0.07
         ],
         "yaxis": "y4"
        },
        {
         "hovertemplate": "Country=%{x}<br>Decade=1990<br>Women (%)=%{y}<br>Population (thousands)=%{marker.size}<extra></extra>",
         "legendgroup": "Dominican Republic",
         "marker": {
          "color": "#EF553B",
          "size": [
           7133.491
          ],
          "sizemode": "area",
          "sizeref": 3085.7029075,
          "symbol": "circle"
         },
         "mode": "markers",
         "name": "Dominican Republic",
         "orientation": "v",
         "showlegend": false,
         "type": "scatter",
         "x": [
          "Dominican Republic"
         ],
         "xaxis": "x5",
         "y": [
          0.13333333333333333
         ],
         "yaxis": "y5"
        },
        {
         "hovertemplate": "Country=%{x}<br>Decade=2000<br>Women (%)=%{y}<br>Population (thousands)=%{marker.size}<extra></extra>",
         "legendgroup": "Dominican Republic",
         "marker": {
          "color": "#EF553B",
          "size": [
           8471.317
          ],
          "sizemode": "area",
          "sizeref": 3085.7029075,
          "symbol": "circle"
         },
         "mode": "markers",
         "name": "Dominican Republic",
         "orientation": "v",
         "showlegend": false,
         "type": "scatter",
         "x": [
          "Dominican Republic"
         ],
         "xaxis": "x6",
         "y": [
          0.18000000000000002
         ],
         "yaxis": "y6"
        },
        {
         "hovertemplate": "Country=%{x}<br>Decade=2010<br>Women (%)=%{y}<br>Population (thousands)=%{marker.size}<extra></extra>",
         "legendgroup": "Dominican Republic",
         "marker": {
          "color": "#EF553B",
          "size": [
           9695.117
          ],
          "sizemode": "area",
          "sizeref": 3085.7029075,
          "symbol": "circle"
         },
         "mode": "markers",
         "name": "Dominican Republic",
         "orientation": "v",
         "showlegend": false,
         "type": "scatter",
         "x": [
          "Dominican Republic"
         ],
         "xaxis": "x",
         "y": [
          0.21
         ],
         "yaxis": "y"
        },
        {
         "hovertemplate": "Country=%{x}<br>Decade=1950<br>Women (%)=%{y}<br>Population (thousands)=%{marker.size}<extra></extra>",
         "legendgroup": "Portugal",
         "marker": {
          "color": "#00cc96",
          "size": [
           8416.971
          ],
          "sizemode": "area",
          "sizeref": 3085.7029075,
          "symbol": "circle"
         },
         "mode": "markers",
         "name": "Portugal",
         "orientation": "v",
         "showlegend": true,
         "type": "scatter",
         "x": [
          "Portugal"
         ],
         "xaxis": "x7",
         "y": [
          0.02
         ],
         "yaxis": "y7"
        },
        {
         "hovertemplate": "Country=%{x}<br>Decade=1960<br>Women (%)=%{y}<br>Population (thousands)=%{marker.size}<extra></extra>",
         "legendgroup": "Portugal",
         "marker": {
          "color": "#00cc96",
          "size": [
           8844.638
          ],
          "sizemode": "area",
          "sizeref": 3085.7029075,
          "symbol": "circle"
         },
         "mode": "markers",
         "name": "Portugal",
         "orientation": "v",
         "showlegend": false,
         "type": "scatter",
         "x": [
          "Portugal"
         ],
         "xaxis": "x8",
         "y": [
          0.02666666666666667
         ],
         "yaxis": "y8"
        },
        {
         "hovertemplate": "Country=%{x}<br>Decade=1970<br>Women (%)=%{y}<br>Population (thousands)=%{marker.size}<extra></extra>",
         "legendgroup": "Portugal",
         "marker": {
          "color": "#00cc96",
          "size": [
           8651.334
          ],
          "sizemode": "area",
          "sizeref": 3085.7029075,
          "symbol": "circle"
         },
         "mode": "markers",
         "name": "Portugal",
         "orientation": "v",
         "showlegend": false,
         "type": "scatter",
         "x": [
          "Portugal"
         ],
         "xaxis": "x9",
         "y": [
          0.065
         ],
         "yaxis": "y9"
        },
        {
         "hovertemplate": "Country=%{x}<br>Decade=1980<br>Women (%)=%{y}<br>Population (thousands)=%{marker.size}<extra></extra>",
         "legendgroup": "Portugal",
         "marker": {
          "color": "#00cc96",
          "size": [
           9750.966
          ],
          "sizemode": "area",
          "sizeref": 3085.7029075,
          "symbol": "circle"
         },
         "mode": "markers",
         "name": "Portugal",
         "orientation": "v",
         "showlegend": false,
         "type": "scatter",
         "x": [
          "Portugal"
         ],
         "xaxis": "x4",
         "y": [
          0.07
         ],
         "yaxis": "y4"
        },
        {
         "hovertemplate": "Country=%{x}<br>Decade=1990<br>Women (%)=%{y}<br>Population (thousands)=%{marker.size}<extra></extra>",
         "legendgroup": "Portugal",
         "marker": {
          "color": "#00cc96",
          "size": [
           9895.358
          ],
          "sizemode": "area",
          "sizeref": 3085.7029075,
          "symbol": "circle"
         },
         "mode": "markers",
         "name": "Portugal",
         "orientation": "v",
         "showlegend": false,
         "type": "scatter",
         "x": [
          "Portugal"
         ],
         "xaxis": "x5",
         "y": [
          0.15
         ],
         "yaxis": "y5"
        },
        {
         "hovertemplate": "Country=%{x}<br>Decade=2000<br>Women (%)=%{y}<br>Population (thousands)=%{marker.size}<extra></extra>",
         "legendgroup": "Portugal",
         "marker": {
          "color": "#00cc96",
          "size": [
           10297.117
          ],
          "sizemode": "area",
          "sizeref": 3085.7029075,
          "symbol": "circle"
         },
         "mode": "markers",
         "name": "Portugal",
         "orientation": "v",
         "showlegend": false,
         "type": "scatter",
         "x": [
          "Portugal"
         ],
         "xaxis": "x6",
         "y": [
          0.22666666666666668
         ],
         "yaxis": "y6"
        },
        {
         "hovertemplate": "Country=%{x}<br>Decade=2010<br>Women (%)=%{y}<br>Population (thousands)=%{marker.size}<extra></extra>",
         "legendgroup": "Portugal",
         "marker": {
          "color": "#00cc96",
          "size": [
           10596.055
          ],
          "sizemode": "area",
          "sizeref": 3085.7029075,
          "symbol": "circle"
         },
         "mode": "markers",
         "name": "Portugal",
         "orientation": "v",
         "showlegend": false,
         "type": "scatter",
         "x": [
          "Portugal"
         ],
         "xaxis": "x",
         "y": [
          0.31
         ],
         "yaxis": "y"
        },
        {
         "hovertemplate": "Country=%{x}<br>Decade=1950<br>Women (%)=%{y}<br>Population (thousands)=%{marker.size}<extra></extra>",
         "legendgroup": "New Zealand",
         "marker": {
          "color": "#ab63fa",
          "size": [
           1908.011
          ],
          "sizemode": "area",
          "sizeref": 3085.7029075,
          "symbol": "circle"
         },
         "mode": "markers",
         "name": "New Zealand",
         "orientation": "v",
         "showlegend": true,
         "type": "scatter",
         "x": [
          "New Zealand"
         ],
         "xaxis": "x7",
         "y": [
          0.04666666666666667
         ],
         "yaxis": "y7"
        },
        {
         "hovertemplate": "Country=%{x}<br>Decade=1960<br>Women (%)=%{y}<br>Population (thousands)=%{marker.size}<extra></extra>",
         "legendgroup": "New Zealand",
         "marker": {
          "color": "#ab63fa",
          "size": [
           2372.599
          ],
          "sizemode": "area",
          "sizeref": 3085.7029075,
          "symbol": "circle"
         },
         "mode": "markers",
         "name": "New Zealand",
         "orientation": "v",
         "showlegend": false,
         "type": "scatter",
         "x": [
          "New Zealand"
         ],
         "xaxis": "x8",
         "y": [
          0.055
         ],
         "yaxis": "y8"
        },
        {
         "hovertemplate": "Country=%{x}<br>Decade=1970<br>Women (%)=%{y}<br>Population (thousands)=%{marker.size}<extra></extra>",
         "legendgroup": "New Zealand",
         "marker": {
          "color": "#ab63fa",
          "size": [
           2818.391
          ],
          "sizemode": "area",
          "sizeref": 3085.7029075,
          "symbol": "circle"
         },
         "mode": "markers",
         "name": "New Zealand",
         "orientation": "v",
         "showlegend": false,
         "type": "scatter",
         "x": [
          "New Zealand"
         ],
         "xaxis": "x9",
         "y": [
          0.04666666666666667
         ],
         "yaxis": "y9"
        },
        {
         "hovertemplate": "Country=%{x}<br>Decade=1980<br>Women (%)=%{y}<br>Population (thousands)=%{marker.size}<extra></extra>",
         "legendgroup": "New Zealand",
         "marker": {
          "color": "#ab63fa",
          "size": [
           3146.61
          ],
          "sizemode": "area",
          "sizeref": 3085.7029075,
          "symbol": "circle"
         },
         "mode": "markers",
         "name": "New Zealand",
         "orientation": "v",
         "showlegend": false,
         "type": "scatter",
         "x": [
          "New Zealand"
         ],
         "xaxis": "x4",
         "y": [
          0.12
         ],
         "yaxis": "y4"
        },
        {
         "hovertemplate": "Country=%{x}<br>Decade=1990<br>Women (%)=%{y}<br>Population (thousands)=%{marker.size}<extra></extra>",
         "legendgroup": "New Zealand",
         "marker": {
          "color": "#ab63fa",
          "size": [
           3398.175
          ],
          "sizemode": "area",
          "sizeref": 3085.7029075,
          "symbol": "circle"
         },
         "mode": "markers",
         "name": "New Zealand",
         "orientation": "v",
         "showlegend": false,
         "type": "scatter",
         "x": [
          "New Zealand"
         ],
         "xaxis": "x5",
         "y": [
          0.2375
         ],
         "yaxis": "y5"
        },
        {
         "hovertemplate": "Country=%{x}<br>Decade=2000<br>Women (%)=%{y}<br>Population (thousands)=%{marker.size}<extra></extra>",
         "legendgroup": "New Zealand",
         "marker": {
          "color": "#ab63fa",
          "size": [
           3858.992
          ],
          "sizemode": "area",
          "sizeref": 3085.7029075,
          "symbol": "circle"
         },
         "mode": "markers",
         "name": "New Zealand",
         "orientation": "v",
         "showlegend": false,
         "type": "scatter",
         "x": [
          "New Zealand"
         ],
         "xaxis": "x6",
         "y": [
          0.31666666666666665
         ],
         "yaxis": "y6"
        },
        {
         "hovertemplate": "Country=%{x}<br>Decade=2010<br>Women (%)=%{y}<br>Population (thousands)=%{marker.size}<extra></extra>",
         "legendgroup": "New Zealand",
         "marker": {
          "color": "#ab63fa",
          "size": [
           4370.06
          ],
          "sizemode": "area",
          "sizeref": 3085.7029075,
          "symbol": "circle"
         },
         "mode": "markers",
         "name": "New Zealand",
         "orientation": "v",
         "showlegend": false,
         "type": "scatter",
         "x": [
          "New Zealand"
         ],
         "xaxis": "x",
         "y": [
          0.3333333333333333
         ],
         "yaxis": "y"
        },
        {
         "hovertemplate": "Country=%{x}<br>Decade=1950<br>Women (%)=%{y}<br>Population (thousands)=%{marker.size}<extra></extra>",
         "legendgroup": "Israel",
         "marker": {
          "color": "#FFA15A",
          "size": [
           1257.968
          ],
          "sizemode": "area",
          "sizeref": 3085.7029075,
          "symbol": "circle"
         },
         "mode": "markers",
         "name": "Israel",
         "orientation": "v",
         "showlegend": true,
         "type": "scatter",
         "x": [
          "Israel"
         ],
         "xaxis": "x7",
         "y": [
          0.08666666666666667
         ],
         "yaxis": "y7"
        },
        {
         "hovertemplate": "Country=%{x}<br>Decade=1960<br>Women (%)=%{y}<br>Population (thousands)=%{marker.size}<extra></extra>",
         "legendgroup": "Israel",
         "marker": {
          "color": "#FFA15A",
          "size": [
           2060.476
          ],
          "sizemode": "area",
          "sizeref": 3085.7029075,
          "symbol": "circle"
         },
         "mode": "markers",
         "name": "Israel",
         "orientation": "v",
         "showlegend": false,
         "type": "scatter",
         "x": [
          "Israel"
         ],
         "xaxis": "x8",
         "y": [
          0.07666666666666667
         ],
         "yaxis": "y8"
        },
        {
         "hovertemplate": "Country=%{x}<br>Decade=1970<br>Women (%)=%{y}<br>Population (thousands)=%{marker.size}<extra></extra>",
         "legendgroup": "Israel",
         "marker": {
          "color": "#FFA15A",
          "size": [
           2813.746
          ],
          "sizemode": "area",
          "sizeref": 3085.7029075,
          "symbol": "circle"
         },
         "mode": "markers",
         "name": "Israel",
         "orientation": "v",
         "showlegend": false,
         "type": "scatter",
         "x": [
          "Israel"
         ],
         "xaxis": "x9",
         "y": [
          0.07
         ],
         "yaxis": "y9"
        },
        {
         "hovertemplate": "Country=%{x}<br>Decade=1980<br>Women (%)=%{y}<br>Population (thousands)=%{marker.size}<extra></extra>",
         "legendgroup": "Israel",
         "marker": {
          "color": "#FFA15A",
          "size": [
           3700.916
          ],
          "sizemode": "area",
          "sizeref": 3085.7029075,
          "symbol": "circle"
         },
         "mode": "markers",
         "name": "Israel",
         "orientation": "v",
         "showlegend": false,
         "type": "scatter",
         "x": [
          "Israel"
         ],
         "xaxis": "x4",
         "y": [
          0.07666666666666667
         ],
         "yaxis": "y4"
        },
        {
         "hovertemplate": "Country=%{x}<br>Decade=1990<br>Women (%)=%{y}<br>Population (thousands)=%{marker.size}<extra></extra>",
         "legendgroup": "Israel",
         "marker": {
          "color": "#FFA15A",
          "size": [
           4448.348
          ],
          "sizemode": "area",
          "sizeref": 3085.7029075,
          "symbol": "circle"
         },
         "mode": "markers",
         "name": "Israel",
         "orientation": "v",
         "showlegend": false,
         "type": "scatter",
         "x": [
          "Israel"
         ],
         "xaxis": "x5",
         "y": [
          0.105
         ],
         "yaxis": "y5"
        },
        {
         "hovertemplate": "Country=%{x}<br>Decade=2000<br>Women (%)=%{y}<br>Population (thousands)=%{marker.size}<extra></extra>",
         "legendgroup": "Israel",
         "marker": {
          "color": "#FFA15A",
          "size": [
           5945.949
          ],
          "sizemode": "area",
          "sizeref": 3085.7029075,
          "symbol": "circle"
         },
         "mode": "markers",
         "name": "Israel",
         "orientation": "v",
         "showlegend": false,
         "type": "scatter",
         "x": [
          "Israel"
         ],
         "xaxis": "x6",
         "y": [
          0.15666666666666665
         ],
         "yaxis": "y6"
        },
        {
         "hovertemplate": "Country=%{x}<br>Decade=2010<br>Women (%)=%{y}<br>Population (thousands)=%{marker.size}<extra></extra>",
         "legendgroup": "Israel",
         "marker": {
          "color": "#FFA15A",
          "size": [
           7346.446
          ],
          "sizemode": "area",
          "sizeref": 3085.7029075,
          "symbol": "circle"
         },
         "mode": "markers",
         "name": "Israel",
         "orientation": "v",
         "showlegend": false,
         "type": "scatter",
         "x": [
          "Israel"
         ],
         "xaxis": "x",
         "y": [
          0.24000000000000002
         ],
         "yaxis": "y"
        },
        {
         "hovertemplate": "Country=%{x}<br>Decade=1950<br>Women (%)=%{y}<br>Population (thousands)=%{marker.size}<extra></extra>",
         "legendgroup": "Syrian Arab Republic",
         "marker": {
          "color": "#19d3f3",
          "size": [
           3413.325
          ],
          "sizemode": "area",
          "sizeref": 3085.7029075,
          "symbol": "circle"
         },
         "mode": "markers",
         "name": "Syrian Arab Republic",
         "orientation": "v",
         "showlegend": true,
         "type": "scatter",
         "x": [
          "Syrian Arab Republic"
         ],
         "xaxis": "x7",
         "y": [
          0
         ],
         "yaxis": "y7"
        },
        {
         "hovertemplate": "Country=%{x}<br>Decade=1960<br>Women (%)=%{y}<br>Population (thousands)=%{marker.size}<extra></extra>",
         "legendgroup": "Syrian Arab Republic",
         "marker": {
          "color": "#19d3f3",
          "size": [
           4573.514
          ],
          "sizemode": "area",
          "sizeref": 3085.7029075,
          "symbol": "circle"
         },
         "mode": "markers",
         "name": "Syrian Arab Republic",
         "orientation": "v",
         "showlegend": false,
         "type": "scatter",
         "x": [
          "Syrian Arab Republic"
         ],
         "xaxis": "x8",
         "y": [
          0.005
         ],
         "yaxis": "y8"
        },
        {
         "hovertemplate": "Country=%{x}<br>Decade=1970<br>Women (%)=%{y}<br>Population (thousands)=%{marker.size}<extra></extra>",
         "legendgroup": "Syrian Arab Republic",
         "marker": {
          "color": "#19d3f3",
          "size": [
           6350.544
          ],
          "sizemode": "area",
          "sizeref": 3085.7029075,
          "symbol": "circle"
         },
         "mode": "markers",
         "name": "Syrian Arab Republic",
         "orientation": "v",
         "showlegend": false,
         "type": "scatter",
         "x": [
          "Syrian Arab Republic"
         ],
         "xaxis": "x9",
         "y": [
          0.035
         ],
         "yaxis": "y9"
        },
        {
         "hovertemplate": "Country=%{x}<br>Decade=1980<br>Women (%)=%{y}<br>Population (thousands)=%{marker.size}<extra></extra>",
         "legendgroup": "Syrian Arab Republic",
         "marker": {
          "color": "#19d3f3",
          "size": [
           8930.776
          ],
          "sizemode": "area",
          "sizeref": 3085.7029075,
          "symbol": "circle"
         },
         "mode": "markers",
         "name": "Syrian Arab Republic",
         "orientation": "v",
         "showlegend": false,
         "type": "scatter",
         "x": [
          "Syrian Arab Republic"
         ],
         "xaxis": "x4",
         "y": [
          0.08
         ],
         "yaxis": "y4"
        },
        {
         "hovertemplate": "Country=%{x}<br>Decade=1990<br>Women (%)=%{y}<br>Population (thousands)=%{marker.size}<extra></extra>",
         "legendgroup": "Syrian Arab Republic",
         "marker": {
          "color": "#19d3f3",
          "size": [
           12446.168
          ],
          "sizemode": "area",
          "sizeref": 3085.7029075,
          "symbol": "circle"
         },
         "mode": "markers",
         "name": "Syrian Arab Republic",
         "orientation": "v",
         "showlegend": false,
         "type": "scatter",
         "x": [
          "Syrian Arab Republic"
         ],
         "xaxis": "x5",
         "y": [
          0.09333333333333334
         ],
         "yaxis": "y5"
        },
        {
         "hovertemplate": "Country=%{x}<br>Decade=2000<br>Women (%)=%{y}<br>Population (thousands)=%{marker.size}<extra></extra>",
         "legendgroup": "Syrian Arab Republic",
         "marker": {
          "color": "#19d3f3",
          "size": [
           16410.847
          ],
          "sizemode": "area",
          "sizeref": 3085.7029075,
          "symbol": "circle"
         },
         "mode": "markers",
         "name": "Syrian Arab Republic",
         "orientation": "v",
         "showlegend": false,
         "type": "scatter",
         "x": [
          "Syrian Arab Republic"
         ],
         "xaxis": "x6",
         "y": [
          0.12
         ],
         "yaxis": "y6"
        },
        {
         "hovertemplate": "Country=%{x}<br>Decade=2010<br>Women (%)=%{y}<br>Population (thousands)=%{marker.size}<extra></extra>",
         "legendgroup": "Syrian Arab Republic",
         "marker": {
          "color": "#19d3f3",
          "size": [
           21362.541
          ],
          "sizemode": "area",
          "sizeref": 3085.7029075,
          "symbol": "circle"
         },
         "mode": "markers",
         "name": "Syrian Arab Republic",
         "orientation": "v",
         "showlegend": false,
         "type": "scatter",
         "x": [
          "Syrian Arab Republic"
         ],
         "xaxis": "x",
         "y": [
          0.12333333333333334
         ],
         "yaxis": "y"
        },
        {
         "hovertemplate": "Country=%{x}<br>Decade=1950<br>Women (%)=%{y}<br>Population (thousands)=%{marker.size}<extra></extra>",
         "legendgroup": "Republic of Korea",
         "marker": {
          "color": "#FF6692",
          "size": [
           19211.387
          ],
          "sizemode": "area",
          "sizeref": 3085.7029075,
          "symbol": "circle"
         },
         "mode": "markers",
         "name": "Republic of Korea",
         "orientation": "v",
         "showlegend": true,
         "type": "scatter",
         "x": [
          "Republic of Korea"
         ],
         "xaxis": "x7",
         "y": [
          0.006666666666666667
         ],
         "yaxis": "y7"
        },
        {
         "hovertemplate": "Country=%{x}<br>Decade=1960<br>Women (%)=%{y}<br>Population (thousands)=%{marker.size}<extra></extra>",
         "legendgroup": "Republic of Korea",
         "marker": {
          "color": "#FF6692",
          "size": [
           25329.521
          ],
          "sizemode": "area",
          "sizeref": 3085.7029075,
          "symbol": "circle"
         },
         "mode": "markers",
         "name": "Republic of Korea",
         "orientation": "v",
         "showlegend": false,
         "type": "scatter",
         "x": [
          "Republic of Korea"
         ],
         "xaxis": "x8",
         "y": [
          0.01
         ],
         "yaxis": "y8"
        },
        {
         "hovertemplate": "Country=%{x}<br>Decade=1970<br>Women (%)=%{y}<br>Population (thousands)=%{marker.size}<extra></extra>",
         "legendgroup": "Republic of Korea",
         "marker": {
          "color": "#FF6692",
          "size": [
           32195.679
          ],
          "sizemode": "area",
          "sizeref": 3085.7029075,
          "symbol": "circle"
         },
         "mode": "markers",
         "name": "Republic of Korea",
         "orientation": "v",
         "showlegend": false,
         "type": "scatter",
         "x": [
          "Republic of Korea"
         ],
         "xaxis": "x9",
         "y": [
          0.03333333333333333
         ],
         "yaxis": "y9"
        },
        {
         "hovertemplate": "Country=%{x}<br>Decade=1980<br>Women (%)=%{y}<br>Population (thousands)=%{marker.size}<extra></extra>",
         "legendgroup": "Republic of Korea",
         "marker": {
          "color": "#FF6692",
          "size": [
           38045.605
          ],
          "sizemode": "area",
          "sizeref": 3085.7029075,
          "symbol": "circle"
         },
         "mode": "markers",
         "name": "Republic of Korea",
         "orientation": "v",
         "showlegend": false,
         "type": "scatter",
         "x": [
          "Republic of Korea"
         ],
         "xaxis": "x4",
         "y": [
          0.02666666666666667
         ],
         "yaxis": "y4"
        },
        {
         "hovertemplate": "Country=%{x}<br>Decade=1990<br>Women (%)=%{y}<br>Population (thousands)=%{marker.size}<extra></extra>",
         "legendgroup": "Republic of Korea",
         "marker": {
          "color": "#FF6692",
          "size": [
           42918.416
          ],
          "sizemode": "area",
          "sizeref": 3085.7029075,
          "symbol": "circle"
         },
         "mode": "markers",
         "name": "Republic of Korea",
         "orientation": "v",
         "showlegend": false,
         "type": "scatter",
         "x": [
          "Republic of Korea"
         ],
         "xaxis": "x5",
         "y": [
          0.025
         ],
         "yaxis": "y5"
        },
        {
         "hovertemplate": "Country=%{x}<br>Decade=2000<br>Women (%)=%{y}<br>Population (thousands)=%{marker.size}<extra></extra>",
         "legendgroup": "Republic of Korea",
         "marker": {
          "color": "#FF6692",
          "size": [
           47379.237
          ],
          "sizemode": "area",
          "sizeref": 3085.7029075,
          "symbol": "circle"
         },
         "mode": "markers",
         "name": "Republic of Korea",
         "orientation": "v",
         "showlegend": false,
         "type": "scatter",
         "x": [
          "Republic of Korea"
         ],
         "xaxis": "x6",
         "y": [
          0.068
         ],
         "yaxis": "y6"
        },
        {
         "hovertemplate": "Country=%{x}<br>Decade=2010<br>Women (%)=%{y}<br>Population (thousands)=%{marker.size}<extra></extra>",
         "legendgroup": "Republic of Korea",
         "marker": {
          "color": "#FF6692",
          "size": [
           49545.638
          ],
          "sizemode": "area",
          "sizeref": 3085.7029075,
          "symbol": "circle"
         },
         "mode": "markers",
         "name": "Republic of Korea",
         "orientation": "v",
         "showlegend": false,
         "type": "scatter",
         "x": [
          "Republic of Korea"
         ],
         "xaxis": "x",
         "y": [
          0.16333333333333333
         ],
         "yaxis": "y"
        },
        {
         "hovertemplate": "Country=%{x}<br>Decade=1950<br>Women (%)=%{y}<br>Population (thousands)=%{marker.size}<extra></extra>",
         "legendgroup": "Luxembourg",
         "marker": {
          "color": "#B6E880",
          "size": [
           296.005
          ],
          "sizemode": "area",
          "sizeref": 3085.7029075,
          "symbol": "circle"
         },
         "mode": "markers",
         "name": "Luxembourg",
         "orientation": "v",
         "showlegend": true,
         "type": "scatter",
         "x": [
          "Luxembourg"
         ],
         "xaxis": "x7",
         "y": [
          0
         ],
         "yaxis": "y7"
        },
        {
         "hovertemplate": "Country=%{x}<br>Decade=1960<br>Women (%)=%{y}<br>Population (thousands)=%{marker.size}<extra></extra>",
         "legendgroup": "Luxembourg",
         "marker": {
          "color": "#B6E880",
          "size": [
           314.585
          ],
          "sizemode": "area",
          "sizeref": 3085.7029075,
          "symbol": "circle"
         },
         "mode": "markers",
         "name": "Luxembourg",
         "orientation": "v",
         "showlegend": false,
         "type": "scatter",
         "x": [
          "Luxembourg"
         ],
         "xaxis": "x8",
         "y": [
          0.02
         ],
         "yaxis": "y8"
        },
        {
         "hovertemplate": "Country=%{x}<br>Decade=1970<br>Women (%)=%{y}<br>Population (thousands)=%{marker.size}<extra></extra>",
         "legendgroup": "Luxembourg",
         "marker": {
          "color": "#B6E880",
          "size": [
           339.672
          ],
          "sizemode": "area",
          "sizeref": 3085.7029075,
          "symbol": "circle"
         },
         "mode": "markers",
         "name": "Luxembourg",
         "orientation": "v",
         "showlegend": false,
         "type": "scatter",
         "x": [
          "Luxembourg"
         ],
         "xaxis": "x9",
         "y": [
          0.095
         ],
         "yaxis": "y9"
        },
        {
         "hovertemplate": "Country=%{x}<br>Decade=1980<br>Women (%)=%{y}<br>Population (thousands)=%{marker.size}<extra></extra>",
         "legendgroup": "Luxembourg",
         "marker": {
          "color": "#B6E880",
          "size": [
           364.048
          ],
          "sizemode": "area",
          "sizeref": 3085.7029075,
          "symbol": "circle"
         },
         "mode": "markers",
         "name": "Luxembourg",
         "orientation": "v",
         "showlegend": false,
         "type": "scatter",
         "x": [
          "Luxembourg"
         ],
         "xaxis": "x4",
         "y": [
          0.125
         ],
         "yaxis": "y4"
        },
        {
         "hovertemplate": "Country=%{x}<br>Decade=1990<br>Women (%)=%{y}<br>Population (thousands)=%{marker.size}<extra></extra>",
         "legendgroup": "Luxembourg",
         "marker": {
          "color": "#B6E880",
          "size": [
           381.78
          ],
          "sizemode": "area",
          "sizeref": 3085.7029075,
          "symbol": "circle"
         },
         "mode": "markers",
         "name": "Luxembourg",
         "orientation": "v",
         "showlegend": false,
         "type": "scatter",
         "x": [
          "Luxembourg"
         ],
         "xaxis": "x5",
         "y": [
          0.185
         ],
         "yaxis": "y5"
        },
        {
         "hovertemplate": "Country=%{x}<br>Decade=2000<br>Women (%)=%{y}<br>Population (thousands)=%{marker.size}<extra></extra>",
         "legendgroup": "Luxembourg",
         "marker": {
          "color": "#B6E880",
          "size": [
           436.106
          ],
          "sizemode": "area",
          "sizeref": 3085.7029075,
          "symbol": "circle"
         },
         "mode": "markers",
         "name": "Luxembourg",
         "orientation": "v",
         "showlegend": false,
         "type": "scatter",
         "x": [
          "Luxembourg"
         ],
         "xaxis": "x6",
         "y": [
          0.225
         ],
         "yaxis": "y6"
        },
        {
         "hovertemplate": "Country=%{x}<br>Decade=2010<br>Women (%)=%{y}<br>Population (thousands)=%{marker.size}<extra></extra>",
         "legendgroup": "Luxembourg",
         "marker": {
          "color": "#B6E880",
          "size": [
           507.89
          ],
          "sizemode": "area",
          "sizeref": 3085.7029075,
          "symbol": "circle"
         },
         "mode": "markers",
         "name": "Luxembourg",
         "orientation": "v",
         "showlegend": false,
         "type": "scatter",
         "x": [
          "Luxembourg"
         ],
         "xaxis": "x",
         "y": [
          0.24000000000000002
         ],
         "yaxis": "y"
        },
        {
         "hovertemplate": "Country=%{x}<br>Decade=1950<br>Women (%)=%{y}<br>Population (thousands)=%{marker.size}<extra></extra>",
         "legendgroup": "United States of America",
         "marker": {
          "color": "#FF97FF",
          "size": [
           158804.397
          ],
          "sizemode": "area",
          "sizeref": 3085.7029075,
          "symbol": "circle"
         },
         "mode": "markers",
         "name": "United States of America",
         "orientation": "v",
         "showlegend": true,
         "type": "scatter",
         "x": [
          "United States of America"
         ],
         "xaxis": "x7",
         "y": [
          0.028000000000000004
         ],
         "yaxis": "y7"
        },
        {
         "hovertemplate": "Country=%{x}<br>Decade=1960<br>Women (%)=%{y}<br>Population (thousands)=%{marker.size}<extra></extra>",
         "legendgroup": "United States of America",
         "marker": {
          "color": "#FF97FF",
          "size": [
           186720.57
          ],
          "sizemode": "area",
          "sizeref": 3085.7029075,
          "symbol": "circle"
         },
         "mode": "markers",
         "name": "United States of America",
         "orientation": "v",
         "showlegend": false,
         "type": "scatter",
         "x": [
          "United States of America"
         ],
         "xaxis": "x8",
         "y": [
          0.03
         ],
         "yaxis": "y8"
        },
        {
         "hovertemplate": "Country=%{x}<br>Decade=1970<br>Women (%)=%{y}<br>Population (thousands)=%{marker.size}<extra></extra>",
         "legendgroup": "United States of America",
         "marker": {
          "color": "#FF97FF",
          "size": [
           209513.34
          ],
          "sizemode": "area",
          "sizeref": 3085.7029075,
          "symbol": "circle"
         },
         "mode": "markers",
         "name": "United States of America",
         "orientation": "v",
         "showlegend": false,
         "type": "scatter",
         "x": [
          "United States of America"
         ],
         "xaxis": "x9",
         "y": [
          0.033999999999999996
         ],
         "yaxis": "y9"
        },
        {
         "hovertemplate": "Country=%{x}<br>Decade=1980<br>Women (%)=%{y}<br>Population (thousands)=%{marker.size}<extra></extra>",
         "legendgroup": "United States of America",
         "marker": {
          "color": "#FF97FF",
          "size": [
           229476.36
          ],
          "sizemode": "area",
          "sizeref": 3085.7029075,
          "symbol": "circle"
         },
         "mode": "markers",
         "name": "United States of America",
         "orientation": "v",
         "showlegend": false,
         "type": "scatter",
         "x": [
          "United States of America"
         ],
         "xaxis": "x4",
         "y": [
          0.052000000000000005
         ],
         "yaxis": "y4"
        },
        {
         "hovertemplate": "Country=%{x}<br>Decade=1990<br>Women (%)=%{y}<br>Population (thousands)=%{marker.size}<extra></extra>",
         "legendgroup": "United States of America",
         "marker": {
          "color": "#FF97FF",
          "size": [
           252120.309
          ],
          "sizemode": "area",
          "sizeref": 3085.7029075,
          "symbol": "circle"
         },
         "mode": "markers",
         "name": "United States of America",
         "orientation": "v",
         "showlegend": false,
         "type": "scatter",
         "x": [
          "United States of America"
         ],
         "xaxis": "x5",
         "y": [
          0.10600000000000001
         ],
         "yaxis": "y5"
        },
        {
         "hovertemplate": "Country=%{x}<br>Decade=2000<br>Women (%)=%{y}<br>Population (thousands)=%{marker.size}<extra></extra>",
         "legendgroup": "United States of America",
         "marker": {
          "color": "#FF97FF",
          "size": [
           281710.914
          ],
          "sizemode": "area",
          "sizeref": 3085.7029075,
          "symbol": "circle"
         },
         "mode": "markers",
         "name": "United States of America",
         "orientation": "v",
         "showlegend": false,
         "type": "scatter",
         "x": [
          "United States of America"
         ],
         "xaxis": "x6",
         "y": [
          0.15
         ],
         "yaxis": "y6"
        },
        {
         "hovertemplate": "Country=%{x}<br>Decade=2010<br>Women (%)=%{y}<br>Population (thousands)=%{marker.size}<extra></extra>",
         "legendgroup": "United States of America",
         "marker": {
          "color": "#FF97FF",
          "size": [
           309011.469
          ],
          "sizemode": "area",
          "sizeref": 3085.7029075,
          "symbol": "circle"
         },
         "mode": "markers",
         "name": "United States of America",
         "orientation": "v",
         "showlegend": false,
         "type": "scatter",
         "x": [
          "United States of America"
         ],
         "xaxis": "x",
         "y": [
          0.194
         ],
         "yaxis": "y"
        },
        {
         "hovertemplate": "Country=%{x}<br>Decade=1950<br>Women (%)=%{y}<br>Population (thousands)=%{marker.size}<extra></extra>",
         "legendgroup": "Romania",
         "marker": {
          "color": "#FECB52",
          "size": [
           16236.289
          ],
          "sizemode": "area",
          "sizeref": 3085.7029075,
          "symbol": "circle"
         },
         "mode": "markers",
         "name": "Romania",
         "orientation": "v",
         "showlegend": true,
         "type": "scatter",
         "x": [
          "Romania"
         ],
         "xaxis": "x7",
         "y": [
          0.155
         ],
         "yaxis": "y7"
        },
        {
         "hovertemplate": "Country=%{x}<br>Decade=1960<br>Women (%)=%{y}<br>Population (thousands)=%{marker.size}<extra></extra>",
         "legendgroup": "Romania",
         "marker": {
          "color": "#FECB52",
          "size": [
           18613.945
          ],
          "sizemode": "area",
          "sizeref": 3085.7029075,
          "symbol": "circle"
         },
         "mode": "markers",
         "name": "Romania",
         "orientation": "v",
         "showlegend": false,
         "type": "scatter",
         "x": [
          "Romania"
         ],
         "xaxis": "x8",
         "y": [
          0.15000000000000002
         ],
         "yaxis": "y8"
        },
        {
         "hovertemplate": "Country=%{x}<br>Decade=1970<br>Women (%)=%{y}<br>Population (thousands)=%{marker.size}<extra></extra>",
         "legendgroup": "Romania",
         "marker": {
          "color": "#FECB52",
          "size": [
           20548.912
          ],
          "sizemode": "area",
          "sizeref": 3085.7029075,
          "symbol": "circle"
         },
         "mode": "markers",
         "name": "Romania",
         "orientation": "v",
         "showlegend": false,
         "type": "scatter",
         "x": [
          "Romania"
         ],
         "xaxis": "x9",
         "y": [
          0.15
         ],
         "yaxis": "y9"
        },
        {
         "hovertemplate": "Country=%{x}<br>Decade=1980<br>Women (%)=%{y}<br>Population (thousands)=%{marker.size}<extra></extra>",
         "legendgroup": "Romania",
         "marker": {
          "color": "#FECB52",
          "size": [
           22615.644
          ],
          "sizemode": "area",
          "sizeref": 3085.7029075,
          "symbol": "circle"
         },
         "mode": "markers",
         "name": "Romania",
         "orientation": "v",
         "showlegend": false,
         "type": "scatter",
         "x": [
          "Romania"
         ],
         "xaxis": "x4",
         "y": [
          0.335
         ],
         "yaxis": "y4"
        },
        {
         "hovertemplate": "Country=%{x}<br>Decade=1990<br>Women (%)=%{y}<br>Population (thousands)=%{marker.size}<extra></extra>",
         "legendgroup": "Romania",
         "marker": {
          "color": "#FECB52",
          "size": [
           23489.156
          ],
          "sizemode": "area",
          "sizeref": 3085.7029075,
          "symbol": "circle"
         },
         "mode": "markers",
         "name": "Romania",
         "orientation": "v",
         "showlegend": false,
         "type": "scatter",
         "x": [
          "Romania"
         ],
         "xaxis": "x5",
         "y": [
          0.05000000000000001
         ],
         "yaxis": "y5"
        },
        {
         "hovertemplate": "Country=%{x}<br>Decade=2000<br>Women (%)=%{y}<br>Population (thousands)=%{marker.size}<extra></extra>",
         "legendgroup": "Romania",
         "marker": {
          "color": "#FECB52",
          "size": [
           22137.423
          ],
          "sizemode": "area",
          "sizeref": 3085.7029075,
          "symbol": "circle"
         },
         "mode": "markers",
         "name": "Romania",
         "orientation": "v",
         "showlegend": false,
         "type": "scatter",
         "x": [
          "Romania"
         ],
         "xaxis": "x6",
         "y": [
          0.11
         ],
         "yaxis": "y6"
        },
        {
         "hovertemplate": "Country=%{x}<br>Decade=2010<br>Women (%)=%{y}<br>Population (thousands)=%{marker.size}<extra></extra>",
         "legendgroup": "Romania",
         "marker": {
          "color": "#FECB52",
          "size": [
           20471.86
          ],
          "sizemode": "area",
          "sizeref": 3085.7029075,
          "symbol": "circle"
         },
         "mode": "markers",
         "name": "Romania",
         "orientation": "v",
         "showlegend": false,
         "type": "scatter",
         "x": [
          "Romania"
         ],
         "xaxis": "x",
         "y": [
          0.135
         ],
         "yaxis": "y"
        },
        {
         "hovertemplate": "Country=%{x}<br>Decade=1950<br>Women (%)=%{y}<br>Population (thousands)=%{marker.size}<extra></extra>",
         "legendgroup": "Ecuador",
         "marker": {
          "color": "#636efa",
          "size": [
           3470.16
          ],
          "sizemode": "area",
          "sizeref": 3085.7029075,
          "symbol": "circle"
         },
         "mode": "markers",
         "name": "Ecuador",
         "orientation": "v",
         "showlegend": true,
         "type": "scatter",
         "x": [
          "Ecuador"
         ],
         "xaxis": "x7",
         "y": [
          0
         ],
         "yaxis": "y7"
        },
        {
         "hovertemplate": "Country=%{x}<br>Decade=1960<br>Women (%)=%{y}<br>Population (thousands)=%{marker.size}<extra></extra>",
         "legendgroup": "Ecuador",
         "marker": {
          "color": "#636efa",
          "size": [
           4543.658
          ],
          "sizemode": "area",
          "sizeref": 3085.7029075,
          "symbol": "circle"
         },
         "mode": "markers",
         "name": "Ecuador",
         "orientation": "v",
         "showlegend": false,
         "type": "scatter",
         "x": [
          "Ecuador"
         ],
         "xaxis": "x8",
         "y": [
          0.013333333333333334
         ],
         "yaxis": "y8"
        },
        {
         "hovertemplate": "Country=%{x}<br>Decade=1970<br>Women (%)=%{y}<br>Population (thousands)=%{marker.size}<extra></extra>",
         "legendgroup": "Ecuador",
         "marker": {
          "color": "#636efa",
          "size": [
           6069.375
          ],
          "sizemode": "area",
          "sizeref": 3085.7029075,
          "symbol": "circle"
         },
         "mode": "markers",
         "name": "Ecuador",
         "orientation": "v",
         "showlegend": false,
         "type": "scatter",
         "x": [
          "Ecuador"
         ],
         "xaxis": "x9",
         "y": [
          0
         ],
         "yaxis": "y9"
        },
        {
         "hovertemplate": "Country=%{x}<br>Decade=1980<br>Women (%)=%{y}<br>Population (thousands)=%{marker.size}<extra></extra>",
         "legendgroup": "Ecuador",
         "marker": {
          "color": "#636efa",
          "size": [
           7989.178
          ],
          "sizemode": "area",
          "sizeref": 3085.7029075,
          "symbol": "circle"
         },
         "mode": "markers",
         "name": "Ecuador",
         "orientation": "v",
         "showlegend": false,
         "type": "scatter",
         "x": [
          "Ecuador"
         ],
         "xaxis": "x4",
         "y": [
          0.03
         ],
         "yaxis": "y4"
        },
        {
         "hovertemplate": "Country=%{x}<br>Decade=1990<br>Women (%)=%{y}<br>Population (thousands)=%{marker.size}<extra></extra>",
         "legendgroup": "Ecuador",
         "marker": {
          "color": "#636efa",
          "size": [
           10230.931
          ],
          "sizemode": "area",
          "sizeref": 3085.7029075,
          "symbol": "circle"
         },
         "mode": "markers",
         "name": "Ecuador",
         "orientation": "v",
         "showlegend": false,
         "type": "scatter",
         "x": [
          "Ecuador"
         ],
         "xaxis": "x5",
         "y": [
          0.085
         ],
         "yaxis": "y5"
        },
        {
         "hovertemplate": "Country=%{x}<br>Decade=2000<br>Women (%)=%{y}<br>Population (thousands)=%{marker.size}<extra></extra>",
         "legendgroup": "Ecuador",
         "marker": {
          "color": "#636efa",
          "size": [
           12681.123
          ],
          "sizemode": "area",
          "sizeref": 3085.7029075,
          "symbol": "circle"
         },
         "mode": "markers",
         "name": "Ecuador",
         "orientation": "v",
         "showlegend": false,
         "type": "scatter",
         "x": [
          "Ecuador"
         ],
         "xaxis": "x6",
         "y": [
          0.24333333333333332
         ],
         "yaxis": "y6"
        },
        {
         "hovertemplate": "Country=%{x}<br>Decade=2010<br>Women (%)=%{y}<br>Population (thousands)=%{marker.size}<extra></extra>",
         "legendgroup": "Ecuador",
         "marker": {
          "color": "#636efa",
          "size": [
           15011.114
          ],
          "sizemode": "area",
          "sizeref": 3085.7029075,
          "symbol": "circle"
         },
         "mode": "markers",
         "name": "Ecuador",
         "orientation": "v",
         "showlegend": false,
         "type": "scatter",
         "x": [
          "Ecuador"
         ],
         "xaxis": "x",
         "y": [
          0.36333333333333334
         ],
         "yaxis": "y"
        },
        {
         "hovertemplate": "Country=%{x}<br>Decade=1950<br>Women (%)=%{y}<br>Population (thousands)=%{marker.size}<extra></extra>",
         "legendgroup": "Austria",
         "marker": {
          "color": "#EF553B",
          "size": [
           6936.442
          ],
          "sizemode": "area",
          "sizeref": 3085.7029075,
          "symbol": "circle"
         },
         "mode": "markers",
         "name": "Austria",
         "orientation": "v",
         "showlegend": true,
         "type": "scatter",
         "x": [
          "Austria"
         ],
         "xaxis": "x7",
         "y": [
          0.05000000000000001
         ],
         "yaxis": "y7"
        },
        {
         "hovertemplate": "Country=%{x}<br>Decade=1960<br>Women (%)=%{y}<br>Population (thousands)=%{marker.size}<extra></extra>",
         "legendgroup": "Austria",
         "marker": {
          "color": "#EF553B",
          "size": [
           7070.773
          ],
          "sizemode": "area",
          "sizeref": 3085.7029075,
          "symbol": "circle"
         },
         "mode": "markers",
         "name": "Austria",
         "orientation": "v",
         "showlegend": false,
         "type": "scatter",
         "x": [
          "Austria"
         ],
         "xaxis": "x8",
         "y": [
          0.05
         ],
         "yaxis": "y8"
        },
        {
         "hovertemplate": "Country=%{x}<br>Decade=1970<br>Women (%)=%{y}<br>Population (thousands)=%{marker.size}<extra></extra>",
         "legendgroup": "Austria",
         "marker": {
          "color": "#EF553B",
          "size": [
           7516.238
          ],
          "sizemode": "area",
          "sizeref": 3085.7029075,
          "symbol": "circle"
         },
         "mode": "markers",
         "name": "Austria",
         "orientation": "v",
         "showlegend": false,
         "type": "scatter",
         "x": [
          "Austria"
         ],
         "xaxis": "x9",
         "y": [
          0.07250000000000001
         ],
         "yaxis": "y9"
        },
        {
         "hovertemplate": "Country=%{x}<br>Decade=1980<br>Women (%)=%{y}<br>Population (thousands)=%{marker.size}<extra></extra>",
         "legendgroup": "Austria",
         "marker": {
          "color": "#EF553B",
          "size": [
           7609.75
          ],
          "sizemode": "area",
          "sizeref": 3085.7029075,
          "symbol": "circle"
         },
         "mode": "markers",
         "name": "Austria",
         "orientation": "v",
         "showlegend": false,
         "type": "scatter",
         "x": [
          "Austria"
         ],
         "xaxis": "x4",
         "y": [
          0.1
         ],
         "yaxis": "y4"
        },
        {
         "hovertemplate": "Country=%{x}<br>Decade=1990<br>Women (%)=%{y}<br>Population (thousands)=%{marker.size}<extra></extra>",
         "legendgroup": "Austria",
         "marker": {
          "color": "#EF553B",
          "size": [
           7723.954
          ],
          "sizemode": "area",
          "sizeref": 3085.7029075,
          "symbol": "circle"
         },
         "mode": "markers",
         "name": "Austria",
         "orientation": "v",
         "showlegend": false,
         "type": "scatter",
         "x": [
          "Austria"
         ],
         "xaxis": "x5",
         "y": [
          0.24000000000000002
         ],
         "yaxis": "y5"
        },
        {
         "hovertemplate": "Country=%{x}<br>Decade=2000<br>Women (%)=%{y}<br>Population (thousands)=%{marker.size}<extra></extra>",
         "legendgroup": "Austria",
         "marker": {
          "color": "#EF553B",
          "size": [
           8069.276
          ],
          "sizemode": "area",
          "sizeref": 3085.7029075,
          "symbol": "circle"
         },
         "mode": "markers",
         "name": "Austria",
         "orientation": "v",
         "showlegend": false,
         "type": "scatter",
         "x": [
          "Austria"
         ],
         "xaxis": "x6",
         "y": [
          0.31
         ],
         "yaxis": "y6"
        },
        {
         "hovertemplate": "Country=%{x}<br>Decade=2010<br>Women (%)=%{y}<br>Population (thousands)=%{marker.size}<extra></extra>",
         "legendgroup": "Austria",
         "marker": {
          "color": "#EF553B",
          "size": [
           8409.945
          ],
          "sizemode": "area",
          "sizeref": 3085.7029075,
          "symbol": "circle"
         },
         "mode": "markers",
         "name": "Austria",
         "orientation": "v",
         "showlegend": false,
         "type": "scatter",
         "x": [
          "Austria"
         ],
         "xaxis": "x",
         "y": [
          0.3166666666666667
         ],
         "yaxis": "y"
        },
        {
         "hovertemplate": "Country=%{x}<br>Decade=1950<br>Women (%)=%{y}<br>Population (thousands)=%{marker.size}<extra></extra>",
         "legendgroup": "Ireland",
         "marker": {
          "color": "#00cc96",
          "size": [
           2912.682
          ],
          "sizemode": "area",
          "sizeref": 3085.7029075,
          "symbol": "circle"
         },
         "mode": "markers",
         "name": "Ireland",
         "orientation": "v",
         "showlegend": true,
         "type": "scatter",
         "x": [
          "Ireland"
         ],
         "xaxis": "x7",
         "y": [
          0.03
         ],
         "yaxis": "y7"
        },
        {
         "hovertemplate": "Country=%{x}<br>Decade=1960<br>Women (%)=%{y}<br>Population (thousands)=%{marker.size}<extra></extra>",
         "legendgroup": "Ireland",
         "marker": {
          "color": "#00cc96",
          "size": [
           2791.39
          ],
          "sizemode": "area",
          "sizeref": 3085.7029075,
          "symbol": "circle"
         },
         "mode": "markers",
         "name": "Ireland",
         "orientation": "v",
         "showlegend": false,
         "type": "scatter",
         "x": [
          "Ireland"
         ],
         "xaxis": "x8",
         "y": [
          0.023333333333333334
         ],
         "yaxis": "y8"
        },
        {
         "hovertemplate": "Country=%{x}<br>Decade=1970<br>Women (%)=%{y}<br>Population (thousands)=%{marker.size}<extra></extra>",
         "legendgroup": "Ireland",
         "marker": {
          "color": "#00cc96",
          "size": [
           2908.43
          ],
          "sizemode": "area",
          "sizeref": 3085.7029075,
          "symbol": "circle"
         },
         "mode": "markers",
         "name": "Ireland",
         "orientation": "v",
         "showlegend": false,
         "type": "scatter",
         "x": [
          "Ireland"
         ],
         "xaxis": "x9",
         "y": [
          0.035
         ],
         "yaxis": "y9"
        },
        {
         "hovertemplate": "Country=%{x}<br>Decade=1980<br>Women (%)=%{y}<br>Population (thousands)=%{marker.size}<extra></extra>",
         "legendgroup": "Ireland",
         "marker": {
          "color": "#00cc96",
          "size": [
           3384.76
          ],
          "sizemode": "area",
          "sizeref": 3085.7029075,
          "symbol": "circle"
         },
         "mode": "markers",
         "name": "Ireland",
         "orientation": "v",
         "showlegend": false,
         "type": "scatter",
         "x": [
          "Ireland"
         ],
         "xaxis": "x4",
         "y": [
          0.075
         ],
         "yaxis": "y4"
        },
        {
         "hovertemplate": "Country=%{x}<br>Decade=1990<br>Women (%)=%{y}<br>Population (thousands)=%{marker.size}<extra></extra>",
         "legendgroup": "Ireland",
         "marker": {
          "color": "#00cc96",
          "size": [
           3510.881
          ],
          "sizemode": "area",
          "sizeref": 3085.7029075,
          "symbol": "circle"
         },
         "mode": "markers",
         "name": "Ireland",
         "orientation": "v",
         "showlegend": false,
         "type": "scatter",
         "x": [
          "Ireland"
         ],
         "xaxis": "x5",
         "y": [
          0.12666666666666668
         ],
         "yaxis": "y5"
        },
        {
         "hovertemplate": "Country=%{x}<br>Decade=2000<br>Women (%)=%{y}<br>Population (thousands)=%{marker.size}<extra></extra>",
         "legendgroup": "Ireland",
         "marker": {
          "color": "#00cc96",
          "size": [
           3783.095
          ],
          "sizemode": "area",
          "sizeref": 3085.7029075,
          "symbol": "circle"
         },
         "mode": "markers",
         "name": "Ireland",
         "orientation": "v",
         "showlegend": false,
         "type": "scatter",
         "x": [
          "Ireland"
         ],
         "xaxis": "x6",
         "y": [
          0.13
         ],
         "yaxis": "y6"
        },
        {
         "hovertemplate": "Country=%{x}<br>Decade=2010<br>Women (%)=%{y}<br>Population (thousands)=%{marker.size}<extra></extra>",
         "legendgroup": "Ireland",
         "marker": {
          "color": "#00cc96",
          "size": [
           4554.33
          ],
          "sizemode": "area",
          "sizeref": 3085.7029075,
          "symbol": "circle"
         },
         "mode": "markers",
         "name": "Ireland",
         "orientation": "v",
         "showlegend": false,
         "type": "scatter",
         "x": [
          "Ireland"
         ],
         "xaxis": "x",
         "y": [
          0.15
         ],
         "yaxis": "y"
        },
        {
         "hovertemplate": "Country=%{x}<br>Decade=1950<br>Women (%)=%{y}<br>Population (thousands)=%{marker.size}<extra></extra>",
         "legendgroup": "Iraq",
         "marker": {
          "color": "#ab63fa",
          "size": [
           5719.183
          ],
          "sizemode": "area",
          "sizeref": 3085.7029075,
          "symbol": "circle"
         },
         "mode": "markers",
         "name": "Iraq",
         "orientation": "v",
         "showlegend": true,
         "type": "scatter",
         "x": [
          "Iraq"
         ],
         "xaxis": "x7",
         "y": [
          0
         ],
         "yaxis": "y7"
        },
        {
         "hovertemplate": "Country=%{x}<br>Decade=1980<br>Women (%)=%{y}<br>Population (thousands)=%{marker.size}<extra></extra>",
         "legendgroup": "Iraq",
         "marker": {
          "color": "#ab63fa",
          "size": [
           13653.348
          ],
          "sizemode": "area",
          "sizeref": 3085.7029075,
          "symbol": "circle"
         },
         "mode": "markers",
         "name": "Iraq",
         "orientation": "v",
         "showlegend": false,
         "type": "scatter",
         "x": [
          "Iraq"
         ],
         "xaxis": "x4",
         "y": [
          0.09999999999999999
         ],
         "yaxis": "y4"
        },
        {
         "hovertemplate": "Country=%{x}<br>Decade=1990<br>Women (%)=%{y}<br>Population (thousands)=%{marker.size}<extra></extra>",
         "legendgroup": "Iraq",
         "marker": {
          "color": "#ab63fa",
          "size": [
           17419.113
          ],
          "sizemode": "area",
          "sizeref": 3085.7029075,
          "symbol": "circle"
         },
         "mode": "markers",
         "name": "Iraq",
         "orientation": "v",
         "showlegend": false,
         "type": "scatter",
         "x": [
          "Iraq"
         ],
         "xaxis": "x5",
         "y": [
          0.06
         ],
         "yaxis": "y5"
        },
        {
         "hovertemplate": "Country=%{x}<br>Decade=2000<br>Women (%)=%{y}<br>Population (thousands)=%{marker.size}<extra></extra>",
         "legendgroup": "Iraq",
         "marker": {
          "color": "#ab63fa",
          "size": [
           23497.589
          ],
          "sizemode": "area",
          "sizeref": 3085.7029075,
          "symbol": "circle"
         },
         "mode": "markers",
         "name": "Iraq",
         "orientation": "v",
         "showlegend": false,
         "type": "scatter",
         "x": [
          "Iraq"
         ],
         "xaxis": "x6",
         "y": [
          0.2
         ],
         "yaxis": "y6"
        },
        {
         "hovertemplate": "Country=%{x}<br>Decade=2010<br>Women (%)=%{y}<br>Population (thousands)=%{marker.size}<extra></extra>",
         "legendgroup": "Iraq",
         "marker": {
          "color": "#ab63fa",
          "size": [
           29741.977
          ],
          "sizemode": "area",
          "sizeref": 3085.7029075,
          "symbol": "circle"
         },
         "mode": "markers",
         "name": "Iraq",
         "orientation": "v",
         "showlegend": false,
         "type": "scatter",
         "x": [
          "Iraq"
         ],
         "xaxis": "x",
         "y": [
          0.25
         ],
         "yaxis": "y"
        },
        {
         "hovertemplate": "Country=%{x}<br>Decade=1950<br>Women (%)=%{y}<br>Population (thousands)=%{marker.size}<extra></extra>",
         "legendgroup": "Norway",
         "marker": {
          "color": "#FFA15A",
          "size": [
           3265.274
          ],
          "sizemode": "area",
          "sizeref": 3085.7029075,
          "symbol": "circle"
         },
         "mode": "markers",
         "name": "Norway",
         "orientation": "v",
         "showlegend": true,
         "type": "scatter",
         "x": [
          "Norway"
         ],
         "xaxis": "x7",
         "y": [
          0.060000000000000005
         ],
         "yaxis": "y7"
        },
        {
         "hovertemplate": "Country=%{x}<br>Decade=1960<br>Women (%)=%{y}<br>Population (thousands)=%{marker.size}<extra></extra>",
         "legendgroup": "Norway",
         "marker": {
          "color": "#FFA15A",
          "size": [
           3582.508
          ],
          "sizemode": "area",
          "sizeref": 3085.7029075,
          "symbol": "circle"
         },
         "mode": "markers",
         "name": "Norway",
         "orientation": "v",
         "showlegend": false,
         "type": "scatter",
         "x": [
          "Norway"
         ],
         "xaxis": "x8",
         "y": [
          0.08666666666666667
         ],
         "yaxis": "y8"
        },
        {
         "hovertemplate": "Country=%{x}<br>Decade=1970<br>Women (%)=%{y}<br>Population (thousands)=%{marker.size}<extra></extra>",
         "legendgroup": "Norway",
         "marker": {
          "color": "#FFA15A",
          "size": [
           3876.049
          ],
          "sizemode": "area",
          "sizeref": 3085.7029075,
          "symbol": "circle"
         },
         "mode": "markers",
         "name": "Norway",
         "orientation": "v",
         "showlegend": false,
         "type": "scatter",
         "x": [
          "Norway"
         ],
         "xaxis": "x9",
         "y": [
          0.195
         ],
         "yaxis": "y9"
        },
        {
         "hovertemplate": "Country=%{x}<br>Decade=1980<br>Women (%)=%{y}<br>Population (thousands)=%{marker.size}<extra></extra>",
         "legendgroup": "Norway",
         "marker": {
          "color": "#FFA15A",
          "size": [
           4086.07
          ],
          "sizemode": "area",
          "sizeref": 3085.7029075,
          "symbol": "circle"
         },
         "mode": "markers",
         "name": "Norway",
         "orientation": "v",
         "showlegend": false,
         "type": "scatter",
         "x": [
          "Norway"
         ],
         "xaxis": "x4",
         "y": [
          0.32
         ],
         "yaxis": "y4"
        },
        {
         "hovertemplate": "Country=%{x}<br>Decade=1990<br>Women (%)=%{y}<br>Population (thousands)=%{marker.size}<extra></extra>",
         "legendgroup": "Norway",
         "marker": {
          "color": "#FFA15A",
          "size": [
           4247.286
          ],
          "sizemode": "area",
          "sizeref": 3085.7029075,
          "symbol": "circle"
         },
         "mode": "markers",
         "name": "Norway",
         "orientation": "v",
         "showlegend": false,
         "type": "scatter",
         "x": [
          "Norway"
         ],
         "xaxis": "x5",
         "y": [
          0.38000000000000006
         ],
         "yaxis": "y5"
        },
        {
         "hovertemplate": "Country=%{x}<br>Decade=2000<br>Women (%)=%{y}<br>Population (thousands)=%{marker.size}<extra></extra>",
         "legendgroup": "Norway",
         "marker": {
          "color": "#FFA15A",
          "size": [
           4499.375
          ],
          "sizemode": "area",
          "sizeref": 3085.7029075,
          "symbol": "circle"
         },
         "mode": "markers",
         "name": "Norway",
         "orientation": "v",
         "showlegend": false,
         "type": "scatter",
         "x": [
          "Norway"
         ],
         "xaxis": "x6",
         "y": [
          0.38000000000000006
         ],
         "yaxis": "y6"
        },
        {
         "hovertemplate": "Country=%{x}<br>Decade=2010<br>Women (%)=%{y}<br>Population (thousands)=%{marker.size}<extra></extra>",
         "legendgroup": "Norway",
         "marker": {
          "color": "#FFA15A",
          "size": [
           4885.878
          ],
          "sizemode": "area",
          "sizeref": 3085.7029075,
          "symbol": "circle"
         },
         "mode": "markers",
         "name": "Norway",
         "orientation": "v",
         "showlegend": false,
         "type": "scatter",
         "x": [
          "Norway"
         ],
         "xaxis": "x",
         "y": [
          0.405
         ],
         "yaxis": "y"
        },
        {
         "hovertemplate": "Country=%{x}<br>Decade=1950<br>Women (%)=%{y}<br>Population (thousands)=%{marker.size}<extra></extra>",
         "legendgroup": "Iran (Islamic Republic of)",
         "marker": {
          "color": "#19d3f3",
          "size": [
           17119.262
          ],
          "sizemode": "area",
          "sizeref": 3085.7029075,
          "symbol": "circle"
         },
         "mode": "markers",
         "name": "Iran (Islamic Republic of)",
         "orientation": "v",
         "showlegend": true,
         "type": "scatter",
         "x": [
          "Iran (Islamic Republic of)"
         ],
         "xaxis": "x7",
         "y": [
          0
         ],
         "yaxis": "y7"
        },
        {
         "hovertemplate": "Country=%{x}<br>Decade=1960<br>Women (%)=%{y}<br>Population (thousands)=%{marker.size}<extra></extra>",
         "legendgroup": "Iran (Islamic Republic of)",
         "marker": {
          "color": "#19d3f3",
          "size": [
           21906.909
          ],
          "sizemode": "area",
          "sizeref": 3085.7029075,
          "symbol": "circle"
         },
         "mode": "markers",
         "name": "Iran (Islamic Republic of)",
         "orientation": "v",
         "showlegend": false,
         "type": "scatter",
         "x": [
          "Iran (Islamic Republic of)"
         ],
         "xaxis": "x8",
         "y": [
          0.03
         ],
         "yaxis": "y8"
        },
        {
         "hovertemplate": "Country=%{x}<br>Decade=1970<br>Women (%)=%{y}<br>Population (thousands)=%{marker.size}<extra></extra>",
         "legendgroup": "Iran (Islamic Republic of)",
         "marker": {
          "color": "#19d3f3",
          "size": [
           28513.872
          ],
          "sizemode": "area",
          "sizeref": 3085.7029075,
          "symbol": "circle"
         },
         "mode": "markers",
         "name": "Iran (Islamic Republic of)",
         "orientation": "v",
         "showlegend": false,
         "type": "scatter",
         "x": [
          "Iran (Islamic Republic of)"
         ],
         "xaxis": "x9",
         "y": [
          0.07
         ],
         "yaxis": "y9"
        },
        {
         "hovertemplate": "Country=%{x}<br>Decade=1980<br>Women (%)=%{y}<br>Population (thousands)=%{marker.size}<extra></extra>",
         "legendgroup": "Iran (Islamic Republic of)",
         "marker": {
          "color": "#19d3f3",
          "size": [
           38650.244
          ],
          "sizemode": "area",
          "sizeref": 3085.7029075,
          "symbol": "circle"
         },
         "mode": "markers",
         "name": "Iran (Islamic Republic of)",
         "orientation": "v",
         "showlegend": false,
         "type": "scatter",
         "x": [
          "Iran (Islamic Republic of)"
         ],
         "xaxis": "x4",
         "y": [
          0.01
         ],
         "yaxis": "y4"
        },
        {
         "hovertemplate": "Country=%{x}<br>Decade=1990<br>Women (%)=%{y}<br>Population (thousands)=%{marker.size}<extra></extra>",
         "legendgroup": "Iran (Islamic Republic of)",
         "marker": {
          "color": "#19d3f3",
          "size": [
           56366.212
          ],
          "sizemode": "area",
          "sizeref": 3085.7029075,
          "symbol": "circle"
         },
         "mode": "markers",
         "name": "Iran (Islamic Republic of)",
         "orientation": "v",
         "showlegend": false,
         "type": "scatter",
         "x": [
          "Iran (Islamic Republic of)"
         ],
         "xaxis": "x5",
         "y": [
          0.035
         ],
         "yaxis": "y5"
        },
        {
         "hovertemplate": "Country=%{x}<br>Decade=2000<br>Women (%)=%{y}<br>Population (thousands)=%{marker.size}<extra></extra>",
         "legendgroup": "Iran (Islamic Republic of)",
         "marker": {
          "color": "#19d3f3",
          "size": [
           65623.397
          ],
          "sizemode": "area",
          "sizeref": 3085.7029075,
          "symbol": "circle"
         },
         "mode": "markers",
         "name": "Iran (Islamic Republic of)",
         "orientation": "v",
         "showlegend": false,
         "type": "scatter",
         "x": [
          "Iran (Islamic Republic of)"
         ],
         "xaxis": "x6",
         "y": [
          0.03333333333333333
         ],
         "yaxis": "y6"
        },
        {
         "hovertemplate": "Country=%{x}<br>Decade=2010<br>Women (%)=%{y}<br>Population (thousands)=%{marker.size}<extra></extra>",
         "legendgroup": "Iran (Islamic Republic of)",
         "marker": {
          "color": "#19d3f3",
          "size": [
           73762.519
          ],
          "sizemode": "area",
          "sizeref": 3085.7029075,
          "symbol": "circle"
         },
         "mode": "markers",
         "name": "Iran (Islamic Republic of)",
         "orientation": "v",
         "showlegend": false,
         "type": "scatter",
         "x": [
          "Iran (Islamic Republic of)"
         ],
         "xaxis": "x",
         "y": [
          0.04
         ],
         "yaxis": "y"
        },
        {
         "hovertemplate": "Country=%{x}<br>Decade=1950<br>Women (%)=%{y}<br>Population (thousands)=%{marker.size}<extra></extra>",
         "legendgroup": "Belgium",
         "marker": {
          "color": "#FF6692",
          "size": [
           8637.521
          ],
          "sizemode": "area",
          "sizeref": 3085.7029075,
          "symbol": "circle"
         },
         "mode": "markers",
         "name": "Belgium",
         "orientation": "v",
         "showlegend": true,
         "type": "scatter",
         "x": [
          "Belgium"
         ],
         "xaxis": "x7",
         "y": [
          0.03666666666666667
         ],
         "yaxis": "y7"
        },
        {
         "hovertemplate": "Country=%{x}<br>Decade=1960<br>Women (%)=%{y}<br>Population (thousands)=%{marker.size}<extra></extra>",
         "legendgroup": "Belgium",
         "marker": {
          "color": "#FF6692",
          "size": [
           9167.361
          ],
          "sizemode": "area",
          "sizeref": 3085.7029075,
          "symbol": "circle"
         },
         "mode": "markers",
         "name": "Belgium",
         "orientation": "v",
         "showlegend": false,
         "type": "scatter",
         "x": [
          "Belgium"
         ],
         "xaxis": "x8",
         "y": [
          0.04
         ],
         "yaxis": "y8"
        },
        {
         "hovertemplate": "Country=%{x}<br>Decade=1970<br>Women (%)=%{y}<br>Population (thousands)=%{marker.size}<extra></extra>",
         "legendgroup": "Belgium",
         "marker": {
          "color": "#FF6692",
          "size": [
           9632.179
          ],
          "sizemode": "area",
          "sizeref": 3085.7029075,
          "symbol": "circle"
         },
         "mode": "markers",
         "name": "Belgium",
         "orientation": "v",
         "showlegend": false,
         "type": "scatter",
         "x": [
          "Belgium"
         ],
         "xaxis": "x9",
         "y": [
          0.05
         ],
         "yaxis": "y9"
        },
        {
         "hovertemplate": "Country=%{x}<br>Decade=1980<br>Women (%)=%{y}<br>Population (thousands)=%{marker.size}<extra></extra>",
         "legendgroup": "Belgium",
         "marker": {
          "color": "#FF6692",
          "size": [
           9868.999
          ],
          "sizemode": "area",
          "sizeref": 3085.7029075,
          "symbol": "circle"
         },
         "mode": "markers",
         "name": "Belgium",
         "orientation": "v",
         "showlegend": false,
         "type": "scatter",
         "x": [
          "Belgium"
         ],
         "xaxis": "x4",
         "y": [
          0.07333333333333333
         ],
         "yaxis": "y4"
        },
        {
         "hovertemplate": "Country=%{x}<br>Decade=1990<br>Women (%)=%{y}<br>Population (thousands)=%{marker.size}<extra></extra>",
         "legendgroup": "Belgium",
         "marker": {
          "color": "#FF6692",
          "size": [
           10006.545
          ],
          "sizemode": "area",
          "sizeref": 3085.7029075,
          "symbol": "circle"
         },
         "mode": "markers",
         "name": "Belgium",
         "orientation": "v",
         "showlegend": false,
         "type": "scatter",
         "x": [
          "Belgium"
         ],
         "xaxis": "x5",
         "y": [
          0.18
         ],
         "yaxis": "y5"
        },
        {
         "hovertemplate": "Country=%{x}<br>Decade=2000<br>Women (%)=%{y}<br>Population (thousands)=%{marker.size}<extra></extra>",
         "legendgroup": "Belgium",
         "marker": {
          "color": "#FF6692",
          "size": [
           10282.046
          ],
          "sizemode": "area",
          "sizeref": 3085.7029075,
          "symbol": "circle"
         },
         "mode": "markers",
         "name": "Belgium",
         "orientation": "v",
         "showlegend": false,
         "type": "scatter",
         "x": [
          "Belgium"
         ],
         "xaxis": "x6",
         "y": [
          0.35
         ],
         "yaxis": "y6"
        },
        {
         "hovertemplate": "Country=%{x}<br>Decade=2010<br>Women (%)=%{y}<br>Population (thousands)=%{marker.size}<extra></extra>",
         "legendgroup": "Belgium",
         "marker": {
          "color": "#FF6692",
          "size": [
           10938.735
          ],
          "sizemode": "area",
          "sizeref": 3085.7029075,
          "symbol": "circle"
         },
         "mode": "markers",
         "name": "Belgium",
         "orientation": "v",
         "showlegend": false,
         "type": "scatter",
         "x": [
          "Belgium"
         ],
         "xaxis": "x",
         "y": [
          0.39
         ],
         "yaxis": "y"
        },
        {
         "hovertemplate": "Country=%{x}<br>Decade=1950<br>Women (%)=%{y}<br>Population (thousands)=%{marker.size}<extra></extra>",
         "legendgroup": "Tunisia",
         "marker": {
          "color": "#B6E880",
          "size": [
           3605.312
          ],
          "sizemode": "area",
          "sizeref": 3085.7029075,
          "symbol": "circle"
         },
         "mode": "markers",
         "name": "Tunisia",
         "orientation": "v",
         "showlegend": true,
         "type": "scatter",
         "x": [
          "Tunisia"
         ],
         "xaxis": "x7",
         "y": [
          0.01
         ],
         "yaxis": "y7"
        },
        {
         "hovertemplate": "Country=%{x}<br>Decade=1960<br>Women (%)=%{y}<br>Population (thousands)=%{marker.size}<extra></extra>",
         "legendgroup": "Tunisia",
         "marker": {
          "color": "#B6E880",
          "size": [
           4178.235
          ],
          "sizemode": "area",
          "sizeref": 3085.7029075,
          "symbol": "circle"
         },
         "mode": "markers",
         "name": "Tunisia",
         "orientation": "v",
         "showlegend": false,
         "type": "scatter",
         "x": [
          "Tunisia"
         ],
         "xaxis": "x8",
         "y": [
          0.025
         ],
         "yaxis": "y8"
        },
        {
         "hovertemplate": "Country=%{x}<br>Decade=1970<br>Women (%)=%{y}<br>Population (thousands)=%{marker.size}<extra></extra>",
         "legendgroup": "Tunisia",
         "marker": {
          "color": "#B6E880",
          "size": [
           5063.805
          ],
          "sizemode": "area",
          "sizeref": 3085.7029075,
          "symbol": "circle"
         },
         "mode": "markers",
         "name": "Tunisia",
         "orientation": "v",
         "showlegend": false,
         "type": "scatter",
         "x": [
          "Tunisia"
         ],
         "xaxis": "x9",
         "y": [
          0.03
         ],
         "yaxis": "y9"
        },
        {
         "hovertemplate": "Country=%{x}<br>Decade=1980<br>Women (%)=%{y}<br>Population (thousands)=%{marker.size}<extra></extra>",
         "legendgroup": "Tunisia",
         "marker": {
          "color": "#B6E880",
          "size": [
           6374.04
          ],
          "sizemode": "area",
          "sizeref": 3085.7029075,
          "symbol": "circle"
         },
         "mode": "markers",
         "name": "Tunisia",
         "orientation": "v",
         "showlegend": false,
         "type": "scatter",
         "x": [
          "Tunisia"
         ],
         "xaxis": "x4",
         "y": [
          0.049999999999999996
         ],
         "yaxis": "y4"
        },
        {
         "hovertemplate": "Country=%{x}<br>Decade=1990<br>Women (%)=%{y}<br>Population (thousands)=%{marker.size}<extra></extra>",
         "legendgroup": "Tunisia",
         "marker": {
          "color": "#B6E880",
          "size": [
           8242.509
          ],
          "sizemode": "area",
          "sizeref": 3085.7029075,
          "symbol": "circle"
         },
         "mode": "markers",
         "name": "Tunisia",
         "orientation": "v",
         "showlegend": false,
         "type": "scatter",
         "x": [
          "Tunisia"
         ],
         "xaxis": "x5",
         "y": [
          0.095
         ],
         "yaxis": "y5"
        },
        {
         "hovertemplate": "Country=%{x}<br>Decade=2000<br>Women (%)=%{y}<br>Population (thousands)=%{marker.size}<extra></extra>",
         "legendgroup": "Tunisia",
         "marker": {
          "color": "#B6E880",
          "size": [
           9708.347
          ],
          "sizemode": "area",
          "sizeref": 3085.7029075,
          "symbol": "circle"
         },
         "mode": "markers",
         "name": "Tunisia",
         "orientation": "v",
         "showlegend": false,
         "type": "scatter",
         "x": [
          "Tunisia"
         ],
         "xaxis": "x6",
         "y": [
          0.255
         ],
         "yaxis": "y6"
        },
        {
         "hovertemplate": "Country=%{x}<br>Decade=2010<br>Women (%)=%{y}<br>Population (thousands)=%{marker.size}<extra></extra>",
         "legendgroup": "Tunisia",
         "marker": {
          "color": "#B6E880",
          "size": [
           10635.245
          ],
          "sizemode": "area",
          "sizeref": 3085.7029075,
          "symbol": "circle"
         },
         "mode": "markers",
         "name": "Tunisia",
         "orientation": "v",
         "showlegend": false,
         "type": "scatter",
         "x": [
          "Tunisia"
         ],
         "xaxis": "x",
         "y": [
          0.28
         ],
         "yaxis": "y"
        },
        {
         "hovertemplate": "Country=%{x}<br>Decade=1950<br>Women (%)=%{y}<br>Population (thousands)=%{marker.size}<extra></extra>",
         "legendgroup": "Poland",
         "marker": {
          "color": "#FF97FF",
          "size": [
           24824.007
          ],
          "sizemode": "area",
          "sizeref": 3085.7029075,
          "symbol": "circle"
         },
         "mode": "markers",
         "name": "Poland",
         "orientation": "v",
         "showlegend": true,
         "type": "scatter",
         "x": [
          "Poland"
         ],
         "xaxis": "x7",
         "y": [
          0.11
         ],
         "yaxis": "y7"
        },
        {
         "hovertemplate": "Country=%{x}<br>Decade=1960<br>Women (%)=%{y}<br>Population (thousands)=%{marker.size}<extra></extra>",
         "legendgroup": "Poland",
         "marker": {
          "color": "#FF97FF",
          "size": [
           29614.201
          ],
          "sizemode": "area",
          "sizeref": 3085.7029075,
          "symbol": "circle"
         },
         "mode": "markers",
         "name": "Poland",
         "orientation": "v",
         "showlegend": false,
         "type": "scatter",
         "x": [
          "Poland"
         ],
         "xaxis": "x8",
         "y": [
          0.12666666666666668
         ],
         "yaxis": "y8"
        },
        {
         "hovertemplate": "Country=%{x}<br>Decade=1970<br>Women (%)=%{y}<br>Population (thousands)=%{marker.size}<extra></extra>",
         "legendgroup": "Poland",
         "marker": {
          "color": "#FF97FF",
          "size": [
           32639.262
          ],
          "sizemode": "area",
          "sizeref": 3085.7029075,
          "symbol": "circle"
         },
         "mode": "markers",
         "name": "Poland",
         "orientation": "v",
         "showlegend": false,
         "type": "scatter",
         "x": [
          "Poland"
         ],
         "xaxis": "x9",
         "y": [
          0.185
         ],
         "yaxis": "y9"
        },
        {
         "hovertemplate": "Country=%{x}<br>Decade=1980<br>Women (%)=%{y}<br>Population (thousands)=%{marker.size}<extra></extra>",
         "legendgroup": "Poland",
         "marker": {
          "color": "#FF97FF",
          "size": [
           35539.723
          ],
          "sizemode": "area",
          "sizeref": 3085.7029075,
          "symbol": "circle"
         },
         "mode": "markers",
         "name": "Poland",
         "orientation": "v",
         "showlegend": false,
         "type": "scatter",
         "x": [
          "Poland"
         ],
         "xaxis": "x4",
         "y": [
          0.18666666666666668
         ],
         "yaxis": "y4"
        },
        {
         "hovertemplate": "Country=%{x}<br>Decade=1990<br>Women (%)=%{y}<br>Population (thousands)=%{marker.size}<extra></extra>",
         "legendgroup": "Poland",
         "marker": {
          "color": "#FF97FF",
          "size": [
           37960.193
          ],
          "sizemode": "area",
          "sizeref": 3085.7029075,
          "symbol": "circle"
         },
         "mode": "markers",
         "name": "Poland",
         "orientation": "v",
         "showlegend": false,
         "type": "scatter",
         "x": [
          "Poland"
         ],
         "xaxis": "x5",
         "y": [
          0.12
         ],
         "yaxis": "y5"
        },
        {
         "hovertemplate": "Country=%{x}<br>Decade=2000<br>Women (%)=%{y}<br>Population (thousands)=%{marker.size}<extra></extra>",
         "legendgroup": "Poland",
         "marker": {
          "color": "#FF97FF",
          "size": [
           38556.699
          ],
          "sizemode": "area",
          "sizeref": 3085.7029075,
          "symbol": "circle"
         },
         "mode": "markers",
         "name": "Poland",
         "orientation": "v",
         "showlegend": false,
         "type": "scatter",
         "x": [
          "Poland"
         ],
         "xaxis": "x6",
         "y": [
          0.20000000000000004
         ],
         "yaxis": "y6"
        },
        {
         "hovertemplate": "Country=%{x}<br>Decade=2010<br>Women (%)=%{y}<br>Population (thousands)=%{marker.size}<extra></extra>",
         "legendgroup": "Poland",
         "marker": {
          "color": "#FF97FF",
          "size": [
           38329.784
          ],
          "sizemode": "area",
          "sizeref": 3085.7029075,
          "symbol": "circle"
         },
         "mode": "markers",
         "name": "Poland",
         "orientation": "v",
         "showlegend": false,
         "type": "scatter",
         "x": [
          "Poland"
         ],
         "xaxis": "x",
         "y": [
          0.255
         ],
         "yaxis": "y"
        },
        {
         "hovertemplate": "Country=%{x}<br>Decade=1950<br>Women (%)=%{y}<br>Population (thousands)=%{marker.size}<extra></extra>",
         "legendgroup": "Bulgaria",
         "marker": {
          "color": "#FECB52",
          "size": [
           7250.996
          ],
          "sizemode": "area",
          "sizeref": 3085.7029075,
          "symbol": "circle"
         },
         "mode": "markers",
         "name": "Bulgaria",
         "orientation": "v",
         "showlegend": true,
         "type": "scatter",
         "x": [
          "Bulgaria"
         ],
         "xaxis": "x7",
         "y": [
          0.16
         ],
         "yaxis": "y7"
        },
        {
         "hovertemplate": "Country=%{x}<br>Decade=1960<br>Women (%)=%{y}<br>Population (thousands)=%{marker.size}<extra></extra>",
         "legendgroup": "Bulgaria",
         "marker": {
          "color": "#FECB52",
          "size": [
           7885.607
          ],
          "sizemode": "area",
          "sizeref": 3085.7029075,
          "symbol": "circle"
         },
         "mode": "markers",
         "name": "Bulgaria",
         "orientation": "v",
         "showlegend": false,
         "type": "scatter",
         "x": [
          "Bulgaria"
         ],
         "xaxis": "x8",
         "y": [
          0.185
         ],
         "yaxis": "y8"
        },
        {
         "hovertemplate": "Country=%{x}<br>Decade=1970<br>Women (%)=%{y}<br>Population (thousands)=%{marker.size}<extra></extra>",
         "legendgroup": "Bulgaria",
         "marker": {
          "color": "#FECB52",
          "size": [
           8507.541
          ],
          "sizemode": "area",
          "sizeref": 3085.7029075,
          "symbol": "circle"
         },
         "mode": "markers",
         "name": "Bulgaria",
         "orientation": "v",
         "showlegend": false,
         "type": "scatter",
         "x": [
          "Bulgaria"
         ],
         "xaxis": "x9",
         "y": [
          0.195
         ],
         "yaxis": "y9"
        },
        {
         "hovertemplate": "Country=%{x}<br>Decade=1980<br>Women (%)=%{y}<br>Population (thousands)=%{marker.size}<extra></extra>",
         "legendgroup": "Bulgaria",
         "marker": {
          "color": "#FECB52",
          "size": [
           8878.787
          ],
          "sizemode": "area",
          "sizeref": 3085.7029075,
          "symbol": "circle"
         },
         "mode": "markers",
         "name": "Bulgaria",
         "orientation": "v",
         "showlegend": false,
         "type": "scatter",
         "x": [
          "Bulgaria"
         ],
         "xaxis": "x4",
         "y": [
          0.215
         ],
         "yaxis": "y4"
        },
        {
         "hovertemplate": "Country=%{x}<br>Decade=1990<br>Women (%)=%{y}<br>Population (thousands)=%{marker.size}<extra></extra>",
         "legendgroup": "Bulgaria",
         "marker": {
          "color": "#FECB52",
          "size": [
           8841.466
          ],
          "sizemode": "area",
          "sizeref": 3085.7029075,
          "symbol": "circle"
         },
         "mode": "markers",
         "name": "Bulgaria",
         "orientation": "v",
         "showlegend": false,
         "type": "scatter",
         "x": [
          "Bulgaria"
         ],
         "xaxis": "x5",
         "y": [
          0.1125
         ],
         "yaxis": "y5"
        },
        {
         "hovertemplate": "Country=%{x}<br>Decade=2000<br>Women (%)=%{y}<br>Population (thousands)=%{marker.size}<extra></extra>",
         "legendgroup": "Bulgaria",
         "marker": {
          "color": "#FECB52",
          "size": [
           7997.951
          ],
          "sizemode": "area",
          "sizeref": 3085.7029075,
          "symbol": "circle"
         },
         "mode": "markers",
         "name": "Bulgaria",
         "orientation": "v",
         "showlegend": false,
         "type": "scatter",
         "x": [
          "Bulgaria"
         ],
         "xaxis": "x6",
         "y": [
          0.22666666666666666
         ],
         "yaxis": "y6"
        },
        {
         "hovertemplate": "Country=%{x}<br>Decade=2010<br>Women (%)=%{y}<br>Population (thousands)=%{marker.size}<extra></extra>",
         "legendgroup": "Bulgaria",
         "marker": {
          "color": "#FECB52",
          "size": [
           7425.011
          ],
          "sizemode": "area",
          "sizeref": 3085.7029075,
          "symbol": "circle"
         },
         "mode": "markers",
         "name": "Bulgaria",
         "orientation": "v",
         "showlegend": false,
         "type": "scatter",
         "x": [
          "Bulgaria"
         ],
         "xaxis": "x",
         "y": [
          0.23
         ],
         "yaxis": "y"
        },
        {
         "hovertemplate": "Country=%{x}<br>Decade=1950<br>Women (%)=%{y}<br>Population (thousands)=%{marker.size}<extra></extra>",
         "legendgroup": "Lao People's Democratic Republic",
         "marker": {
          "color": "#636efa",
          "size": [
           1682.915
          ],
          "sizemode": "area",
          "sizeref": 3085.7029075,
          "symbol": "circle"
         },
         "mode": "markers",
         "name": "Lao People's Democratic Republic",
         "orientation": "v",
         "showlegend": true,
         "type": "scatter",
         "x": [
          "Lao People's Democratic Republic"
         ],
         "xaxis": "x7",
         "y": [
          0
         ],
         "yaxis": "y7"
        },
        {
         "hovertemplate": "Country=%{x}<br>Decade=1960<br>Women (%)=%{y}<br>Population (thousands)=%{marker.size}<extra></extra>",
         "legendgroup": "Lao People's Democratic Republic",
         "marker": {
          "color": "#636efa",
          "size": [
           2120.892
          ],
          "sizemode": "area",
          "sizeref": 3085.7029075,
          "symbol": "circle"
         },
         "mode": "markers",
         "name": "Lao People's Democratic Republic",
         "orientation": "v",
         "showlegend": false,
         "type": "scatter",
         "x": [
          "Lao People's Democratic Republic"
         ],
         "xaxis": "x8",
         "y": [
          0
         ],
         "yaxis": "y8"
        },
        {
         "hovertemplate": "Country=%{x}<br>Decade=1970<br>Women (%)=%{y}<br>Population (thousands)=%{marker.size}<extra></extra>",
         "legendgroup": "Lao People's Democratic Republic",
         "marker": {
          "color": "#636efa",
          "size": [
           2688.429
          ],
          "sizemode": "area",
          "sizeref": 3085.7029075,
          "symbol": "circle"
         },
         "mode": "markers",
         "name": "Lao People's Democratic Republic",
         "orientation": "v",
         "showlegend": false,
         "type": "scatter",
         "x": [
          "Lao People's Democratic Republic"
         ],
         "xaxis": "x9",
         "y": [
          0.06
         ],
         "yaxis": "y9"
        },
        {
         "hovertemplate": "Country=%{x}<br>Decade=1980<br>Women (%)=%{y}<br>Population (thousands)=%{marker.size}<extra></extra>",
         "legendgroup": "Lao People's Democratic Republic",
         "marker": {
          "color": "#636efa",
          "size": [
           3258.149
          ],
          "sizemode": "area",
          "sizeref": 3085.7029075,
          "symbol": "circle"
         },
         "mode": "markers",
         "name": "Lao People's Democratic Republic",
         "orientation": "v",
         "showlegend": false,
         "type": "scatter",
         "x": [
          "Lao People's Democratic Republic"
         ],
         "xaxis": "x4",
         "y": [
          0.06
         ],
         "yaxis": "y4"
        },
        {
         "hovertemplate": "Country=%{x}<br>Decade=1990<br>Women (%)=%{y}<br>Population (thousands)=%{marker.size}<extra></extra>",
         "legendgroup": "Lao People's Democratic Republic",
         "marker": {
          "color": "#636efa",
          "size": [
           4258.471
          ],
          "sizemode": "area",
          "sizeref": 3085.7029075,
          "symbol": "circle"
         },
         "mode": "markers",
         "name": "Lao People's Democratic Republic",
         "orientation": "v",
         "showlegend": false,
         "type": "scatter",
         "x": [
          "Lao People's Democratic Republic"
         ],
         "xaxis": "x5",
         "y": [
          0.15
         ],
         "yaxis": "y5"
        },
        {
         "hovertemplate": "Country=%{x}<br>Decade=2000<br>Women (%)=%{y}<br>Population (thousands)=%{marker.size}<extra></extra>",
         "legendgroup": "Lao People's Democratic Republic",
         "marker": {
          "color": "#636efa",
          "size": [
           5323.701
          ],
          "sizemode": "area",
          "sizeref": 3085.7029075,
          "symbol": "circle"
         },
         "mode": "markers",
         "name": "Lao People's Democratic Republic",
         "orientation": "v",
         "showlegend": false,
         "type": "scatter",
         "x": [
          "Lao People's Democratic Republic"
         ],
         "xaxis": "x6",
         "y": [
          0.24
         ],
         "yaxis": "y6"
        },
        {
         "hovertemplate": "Country=%{x}<br>Decade=2010<br>Women (%)=%{y}<br>Population (thousands)=%{marker.size}<extra></extra>",
         "legendgroup": "Lao People's Democratic Republic",
         "marker": {
          "color": "#636efa",
          "size": [
           6249.168
          ],
          "sizemode": "area",
          "sizeref": 3085.7029075,
          "symbol": "circle"
         },
         "mode": "markers",
         "name": "Lao People's Democratic Republic",
         "orientation": "v",
         "showlegend": false,
         "type": "scatter",
         "x": [
          "Lao People's Democratic Republic"
         ],
         "xaxis": "x",
         "y": [
          0.265
         ],
         "yaxis": "y"
        },
        {
         "hovertemplate": "Country=%{x}<br>Decade=1950<br>Women (%)=%{y}<br>Population (thousands)=%{marker.size}<extra></extra>",
         "legendgroup": "Turkey",
         "marker": {
          "color": "#EF553B",
          "size": [
           21408.398
          ],
          "sizemode": "area",
          "sizeref": 3085.7029075,
          "symbol": "circle"
         },
         "mode": "markers",
         "name": "Turkey",
         "orientation": "v",
         "showlegend": true,
         "type": "scatter",
         "x": [
          "Turkey"
         ],
         "xaxis": "x7",
         "y": [
          0.01
         ],
         "yaxis": "y7"
        },
        {
         "hovertemplate": "Country=%{x}<br>Decade=1960<br>Women (%)=%{y}<br>Population (thousands)=%{marker.size}<extra></extra>",
         "legendgroup": "Turkey",
         "marker": {
          "color": "#EF553B",
          "size": [
           27472.339
          ],
          "sizemode": "area",
          "sizeref": 3085.7029075,
          "symbol": "circle"
         },
         "mode": "markers",
         "name": "Turkey",
         "orientation": "v",
         "showlegend": false,
         "type": "scatter",
         "x": [
          "Turkey"
         ],
         "xaxis": "x8",
         "y": [
          0.01
         ],
         "yaxis": "y8"
        },
        {
         "hovertemplate": "Country=%{x}<br>Decade=1970<br>Women (%)=%{y}<br>Population (thousands)=%{marker.size}<extra></extra>",
         "legendgroup": "Turkey",
         "marker": {
          "color": "#EF553B",
          "size": [
           34876.296
          ],
          "sizemode": "area",
          "sizeref": 3085.7029075,
          "symbol": "circle"
         },
         "mode": "markers",
         "name": "Turkey",
         "orientation": "v",
         "showlegend": false,
         "type": "scatter",
         "x": [
          "Turkey"
         ],
         "xaxis": "x9",
         "y": [
          0.01
         ],
         "yaxis": "y9"
        },
        {
         "hovertemplate": "Country=%{x}<br>Decade=1980<br>Women (%)=%{y}<br>Population (thousands)=%{marker.size}<extra></extra>",
         "legendgroup": "Turkey",
         "marker": {
          "color": "#EF553B",
          "size": [
           43975.972
          ],
          "sizemode": "area",
          "sizeref": 3085.7029075,
          "symbol": "circle"
         },
         "mode": "markers",
         "name": "Turkey",
         "orientation": "v",
         "showlegend": false,
         "type": "scatter",
         "x": [
          "Turkey"
         ],
         "xaxis": "x4",
         "y": [
          0.02
         ],
         "yaxis": "y4"
        },
        {
         "hovertemplate": "Country=%{x}<br>Decade=1990<br>Women (%)=%{y}<br>Population (thousands)=%{marker.size}<extra></extra>",
         "legendgroup": "Turkey",
         "marker": {
          "color": "#EF553B",
          "size": [
           53921.758
          ],
          "sizemode": "area",
          "sizeref": 3085.7029075,
          "symbol": "circle"
         },
         "mode": "markers",
         "name": "Turkey",
         "orientation": "v",
         "showlegend": false,
         "type": "scatter",
         "x": [
          "Turkey"
         ],
         "xaxis": "x5",
         "y": [
          0.02666666666666667
         ],
         "yaxis": "y5"
        },
        {
         "hovertemplate": "Country=%{x}<br>Decade=2000<br>Women (%)=%{y}<br>Population (thousands)=%{marker.size}<extra></extra>",
         "legendgroup": "Turkey",
         "marker": {
          "color": "#EF553B",
          "size": [
           63240.196
          ],
          "sizemode": "area",
          "sizeref": 3085.7029075,
          "symbol": "circle"
         },
         "mode": "markers",
         "name": "Turkey",
         "orientation": "v",
         "showlegend": false,
         "type": "scatter",
         "x": [
          "Turkey"
         ],
         "xaxis": "x6",
         "y": [
          0.065
         ],
         "yaxis": "y6"
        },
        {
         "hovertemplate": "Country=%{x}<br>Decade=2010<br>Women (%)=%{y}<br>Population (thousands)=%{marker.size}<extra></extra>",
         "legendgroup": "Turkey",
         "marker": {
          "color": "#EF553B",
          "size": [
           72326.992
          ],
          "sizemode": "area",
          "sizeref": 3085.7029075,
          "symbol": "circle"
         },
         "mode": "markers",
         "name": "Turkey",
         "orientation": "v",
         "showlegend": false,
         "type": "scatter",
         "x": [
          "Turkey"
         ],
         "xaxis": "x",
         "y": [
          0.15333333333333335
         ],
         "yaxis": "y"
        },
        {
         "hovertemplate": "Country=%{x}<br>Decade=1950<br>Women (%)=%{y}<br>Population (thousands)=%{marker.size}<extra></extra>",
         "legendgroup": "Brazil",
         "marker": {
          "color": "#00cc96",
          "size": [
           53974.728
          ],
          "sizemode": "area",
          "sizeref": 3085.7029075,
          "symbol": "circle"
         },
         "mode": "markers",
         "name": "Brazil",
         "orientation": "v",
         "showlegend": true,
         "type": "scatter",
         "x": [
          "Brazil"
         ],
         "xaxis": "x7",
         "y": [
          0.0033333333333333335
         ],
         "yaxis": "y7"
        },
        {
         "hovertemplate": "Country=%{x}<br>Decade=1960<br>Women (%)=%{y}<br>Population (thousands)=%{marker.size}<extra></extra>",
         "legendgroup": "Brazil",
         "marker": {
          "color": "#00cc96",
          "size": [
           72179.235
          ],
          "sizemode": "area",
          "sizeref": 3085.7029075,
          "symbol": "circle"
         },
         "mode": "markers",
         "name": "Brazil",
         "orientation": "v",
         "showlegend": false,
         "type": "scatter",
         "x": [
          "Brazil"
         ],
         "xaxis": "x8",
         "y": [
          0.005
         ],
         "yaxis": "y8"
        },
        {
         "hovertemplate": "Country=%{x}<br>Decade=1970<br>Women (%)=%{y}<br>Population (thousands)=%{marker.size}<extra></extra>",
         "legendgroup": "Brazil",
         "marker": {
          "color": "#00cc96",
          "size": [
           95113.265
          ],
          "sizemode": "area",
          "sizeref": 3085.7029075,
          "symbol": "circle"
         },
         "mode": "markers",
         "name": "Brazil",
         "orientation": "v",
         "showlegend": false,
         "type": "scatter",
         "x": [
          "Brazil"
         ],
         "xaxis": "x9",
         "y": [
          0.0033333333333333335
         ],
         "yaxis": "y9"
        },
        {
         "hovertemplate": "Country=%{x}<br>Decade=1980<br>Women (%)=%{y}<br>Population (thousands)=%{marker.size}<extra></extra>",
         "legendgroup": "Brazil",
         "marker": {
          "color": "#00cc96",
          "size": [
           120694.012
          ],
          "sizemode": "area",
          "sizeref": 3085.7029075,
          "symbol": "circle"
         },
         "mode": "markers",
         "name": "Brazil",
         "orientation": "v",
         "showlegend": false,
         "type": "scatter",
         "x": [
          "Brazil"
         ],
         "xaxis": "x4",
         "y": [
          0.030000000000000002
         ],
         "yaxis": "y4"
        },
        {
         "hovertemplate": "Country=%{x}<br>Decade=1990<br>Women (%)=%{y}<br>Population (thousands)=%{marker.size}<extra></extra>",
         "legendgroup": "Brazil",
         "marker": {
          "color": "#00cc96",
          "size": [
           149003.225
          ],
          "sizemode": "area",
          "sizeref": 3085.7029075,
          "symbol": "circle"
         },
         "mode": "markers",
         "name": "Brazil",
         "orientation": "v",
         "showlegend": false,
         "type": "scatter",
         "x": [
          "Brazil"
         ],
         "xaxis": "x5",
         "y": [
          0.06333333333333334
         ],
         "yaxis": "y5"
        },
        {
         "hovertemplate": "Country=%{x}<br>Decade=2000<br>Women (%)=%{y}<br>Population (thousands)=%{marker.size}<extra></extra>",
         "legendgroup": "Brazil",
         "marker": {
          "color": "#00cc96",
          "size": [
           174790.339
          ],
          "sizemode": "area",
          "sizeref": 3085.7029075,
          "symbol": "circle"
         },
         "mode": "markers",
         "name": "Brazil",
         "orientation": "v",
         "showlegend": false,
         "type": "scatter",
         "x": [
          "Brazil"
         ],
         "xaxis": "x6",
         "y": [
          0.08
         ],
         "yaxis": "y6"
        },
        {
         "hovertemplate": "Country=%{x}<br>Decade=2010<br>Women (%)=%{y}<br>Population (thousands)=%{marker.size}<extra></extra>",
         "legendgroup": "Brazil",
         "marker": {
          "color": "#00cc96",
          "size": [
           195713.637
          ],
          "sizemode": "area",
          "sizeref": 3085.7029075,
          "symbol": "circle"
         },
         "mode": "markers",
         "name": "Brazil",
         "orientation": "v",
         "showlegend": false,
         "type": "scatter",
         "x": [
          "Brazil"
         ],
         "xaxis": "x",
         "y": [
          0.11333333333333333
         ],
         "yaxis": "y"
        },
        {
         "hovertemplate": "Country=%{x}<br>Decade=1950<br>Women (%)=%{y}<br>Population (thousands)=%{marker.size}<extra></extra>",
         "legendgroup": "Thailand",
         "marker": {
          "color": "#ab63fa",
          "size": [
           20710.353
          ],
          "sizemode": "area",
          "sizeref": 3085.7029075,
          "symbol": "circle"
         },
         "mode": "markers",
         "name": "Thailand",
         "orientation": "v",
         "showlegend": true,
         "type": "scatter",
         "x": [
          "Thailand"
         ],
         "xaxis": "x7",
         "y": [
          0.015
         ],
         "yaxis": "y7"
        },
        {
         "hovertemplate": "Country=%{x}<br>Decade=1960<br>Women (%)=%{y}<br>Population (thousands)=%{marker.size}<extra></extra>",
         "legendgroup": "Thailand",
         "marker": {
          "color": "#ab63fa",
          "size": [
           27397.208
          ],
          "sizemode": "area",
          "sizeref": 3085.7029075,
          "symbol": "circle"
         },
         "mode": "markers",
         "name": "Thailand",
         "orientation": "v",
         "showlegend": false,
         "type": "scatter",
         "x": [
          "Thailand"
         ],
         "xaxis": "x8",
         "y": [
          0.03
         ],
         "yaxis": "y8"
        },
        {
         "hovertemplate": "Country=%{x}<br>Decade=1970<br>Women (%)=%{y}<br>Population (thousands)=%{marker.size}<extra></extra>",
         "legendgroup": "Thailand",
         "marker": {
          "color": "#ab63fa",
          "size": [
           36884.525
          ],
          "sizemode": "area",
          "sizeref": 3085.7029075,
          "symbol": "circle"
         },
         "mode": "markers",
         "name": "Thailand",
         "orientation": "v",
         "showlegend": false,
         "type": "scatter",
         "x": [
          "Thailand"
         ],
         "xaxis": "x9",
         "y": [
          0.028571428571428574
         ],
         "yaxis": "y9"
        },
        {
         "hovertemplate": "Country=%{x}<br>Decade=1980<br>Women (%)=%{y}<br>Population (thousands)=%{marker.size}<extra></extra>",
         "legendgroup": "Thailand",
         "marker": {
          "color": "#ab63fa",
          "size": [
           47374.463
          ],
          "sizemode": "area",
          "sizeref": 3085.7029075,
          "symbol": "circle"
         },
         "mode": "markers",
         "name": "Thailand",
         "orientation": "v",
         "showlegend": false,
         "type": "scatter",
         "x": [
          "Thailand"
         ],
         "xaxis": "x4",
         "y": [
          0.03333333333333333
         ],
         "yaxis": "y4"
        },
        {
         "hovertemplate": "Country=%{x}<br>Decade=1990<br>Women (%)=%{y}<br>Population (thousands)=%{marker.size}<extra></extra>",
         "legendgroup": "Thailand",
         "marker": {
          "color": "#ab63fa",
          "size": [
           56558.196
          ],
          "sizemode": "area",
          "sizeref": 3085.7029075,
          "symbol": "circle"
         },
         "mode": "markers",
         "name": "Thailand",
         "orientation": "v",
         "showlegend": false,
         "type": "scatter",
         "x": [
          "Thailand"
         ],
         "xaxis": "x5",
         "y": [
          0.05
         ],
         "yaxis": "y5"
        },
        {
         "hovertemplate": "Country=%{x}<br>Decade=2000<br>Women (%)=%{y}<br>Population (thousands)=%{marker.size}<extra></extra>",
         "legendgroup": "Thailand",
         "marker": {
          "color": "#ab63fa",
          "size": [
           62952.639
          ],
          "sizemode": "area",
          "sizeref": 3085.7029075,
          "symbol": "circle"
         },
         "mode": "markers",
         "name": "Thailand",
         "orientation": "v",
         "showlegend": false,
         "type": "scatter",
         "x": [
          "Thailand"
         ],
         "xaxis": "x6",
         "y": [
          0.10666666666666667
         ],
         "yaxis": "y6"
        },
        {
         "hovertemplate": "Country=%{x}<br>Decade=2010<br>Women (%)=%{y}<br>Population (thousands)=%{marker.size}<extra></extra>",
         "legendgroup": "Thailand",
         "marker": {
          "color": "#ab63fa",
          "size": [
           67195.032
          ],
          "sizemode": "area",
          "sizeref": 3085.7029075,
          "symbol": "circle"
         },
         "mode": "markers",
         "name": "Thailand",
         "orientation": "v",
         "showlegend": false,
         "type": "scatter",
         "x": [
          "Thailand"
         ],
         "xaxis": "x",
         "y": [
          0.11
         ],
         "yaxis": "y"
        },
        {
         "hovertemplate": "Country=%{x}<br>Decade=1950<br>Women (%)=%{y}<br>Population (thousands)=%{marker.size}<extra></extra>",
         "legendgroup": "Panama",
         "marker": {
          "color": "#FFA15A",
          "size": [
           859.658
          ],
          "sizemode": "area",
          "sizeref": 3085.7029075,
          "symbol": "circle"
         },
         "mode": "markers",
         "name": "Panama",
         "orientation": "v",
         "showlegend": true,
         "type": "scatter",
         "x": [
          "Panama"
         ],
         "xaxis": "x7",
         "y": [
          0.03
         ],
         "yaxis": "y7"
        },
        {
         "hovertemplate": "Country=%{x}<br>Decade=1960<br>Women (%)=%{y}<br>Population (thousands)=%{marker.size}<extra></extra>",
         "legendgroup": "Panama",
         "marker": {
          "color": "#FFA15A",
          "size": [
           1133.005
          ],
          "sizemode": "area",
          "sizeref": 3085.7029075,
          "symbol": "circle"
         },
         "mode": "markers",
         "name": "Panama",
         "orientation": "v",
         "showlegend": false,
         "type": "scatter",
         "x": [
          "Panama"
         ],
         "xaxis": "x8",
         "y": [
          0.03
         ],
         "yaxis": "y8"
        },
        {
         "hovertemplate": "Country=%{x}<br>Decade=1970<br>Women (%)=%{y}<br>Population (thousands)=%{marker.size}<extra></extra>",
         "legendgroup": "Panama",
         "marker": {
          "color": "#FFA15A",
          "size": [
           1519.286
          ],
          "sizemode": "area",
          "sizeref": 3085.7029075,
          "symbol": "circle"
         },
         "mode": "markers",
         "name": "Panama",
         "orientation": "v",
         "showlegend": false,
         "type": "scatter",
         "x": [
          "Panama"
         ],
         "xaxis": "x9",
         "y": [
          0.04
         ],
         "yaxis": "y9"
        },
        {
         "hovertemplate": "Country=%{x}<br>Decade=1980<br>Women (%)=%{y}<br>Population (thousands)=%{marker.size}<extra></extra>",
         "legendgroup": "Panama",
         "marker": {
          "color": "#FFA15A",
          "size": [
           1978.489
          ],
          "sizemode": "area",
          "sizeref": 3085.7029075,
          "symbol": "circle"
         },
         "mode": "markers",
         "name": "Panama",
         "orientation": "v",
         "showlegend": false,
         "type": "scatter",
         "x": [
          "Panama"
         ],
         "xaxis": "x4",
         "y": [
          0.05
         ],
         "yaxis": "y4"
        },
        {
         "hovertemplate": "Country=%{x}<br>Decade=1990<br>Women (%)=%{y}<br>Population (thousands)=%{marker.size}<extra></extra>",
         "legendgroup": "Panama",
         "marker": {
          "color": "#FFA15A",
          "size": [
           2470.946
          ],
          "sizemode": "area",
          "sizeref": 3085.7029075,
          "symbol": "circle"
         },
         "mode": "markers",
         "name": "Panama",
         "orientation": "v",
         "showlegend": false,
         "type": "scatter",
         "x": [
          "Panama"
         ],
         "xaxis": "x5",
         "y": [
          0.08
         ],
         "yaxis": "y5"
        },
        {
         "hovertemplate": "Country=%{x}<br>Decade=2000<br>Women (%)=%{y}<br>Population (thousands)=%{marker.size}<extra></extra>",
         "legendgroup": "Panama",
         "marker": {
          "color": "#FFA15A",
          "size": [
           3030.333
          ],
          "sizemode": "area",
          "sizeref": 3085.7029075,
          "symbol": "circle"
         },
         "mode": "markers",
         "name": "Panama",
         "orientation": "v",
         "showlegend": false,
         "type": "scatter",
         "x": [
          "Panama"
         ],
         "xaxis": "x6",
         "y": [
          0.125
         ],
         "yaxis": "y6"
        },
        {
         "hovertemplate": "Country=%{x}<br>Decade=2010<br>Women (%)=%{y}<br>Population (thousands)=%{marker.size}<extra></extra>",
         "legendgroup": "Panama",
         "marker": {
          "color": "#FFA15A",
          "size": [
           3642.691
          ],
          "sizemode": "area",
          "sizeref": 3085.7029075,
          "symbol": "circle"
         },
         "mode": "markers",
         "name": "Panama",
         "orientation": "v",
         "showlegend": false,
         "type": "scatter",
         "x": [
          "Panama"
         ],
         "xaxis": "x",
         "y": [
          0.19
         ],
         "yaxis": "y"
        },
        {
         "hovertemplate": "Country=%{x}<br>Decade=1950<br>Women (%)=%{y}<br>Population (thousands)=%{marker.size}<extra></extra>",
         "legendgroup": "Denmark",
         "marker": {
          "color": "#19d3f3",
          "size": [
           4268.281
          ],
          "sizemode": "area",
          "sizeref": 3085.7029075,
          "symbol": "circle"
         },
         "mode": "markers",
         "name": "Denmark",
         "orientation": "v",
         "showlegend": true,
         "type": "scatter",
         "x": [
          "Denmark"
         ],
         "xaxis": "x7",
         "y": [
          0.0875
         ],
         "yaxis": "y7"
        },
        {
         "hovertemplate": "Country=%{x}<br>Decade=1960<br>Women (%)=%{y}<br>Population (thousands)=%{marker.size}<extra></extra>",
         "legendgroup": "Denmark",
         "marker": {
          "color": "#19d3f3",
          "size": [
           4581.099
          ],
          "sizemode": "area",
          "sizeref": 3085.7029075,
          "symbol": "circle"
         },
         "mode": "markers",
         "name": "Denmark",
         "orientation": "v",
         "showlegend": false,
         "type": "scatter",
         "x": [
          "Denmark"
         ],
         "xaxis": "x8",
         "y": [
          0.10500000000000001
         ],
         "yaxis": "y8"
        },
        {
         "hovertemplate": "Country=%{x}<br>Decade=1970<br>Women (%)=%{y}<br>Population (thousands)=%{marker.size}<extra></extra>",
         "legendgroup": "Denmark",
         "marker": {
          "color": "#19d3f3",
          "size": [
           4931.239
          ],
          "sizemode": "area",
          "sizeref": 3085.7029075,
          "symbol": "circle"
         },
         "mode": "markers",
         "name": "Denmark",
         "orientation": "v",
         "showlegend": false,
         "type": "scatter",
         "x": [
          "Denmark"
         ],
         "xaxis": "x9",
         "y": [
          0.176
         ],
         "yaxis": "y9"
        },
        {
         "hovertemplate": "Country=%{x}<br>Decade=1980<br>Women (%)=%{y}<br>Population (thousands)=%{marker.size}<extra></extra>",
         "legendgroup": "Denmark",
         "marker": {
          "color": "#19d3f3",
          "size": [
           5123.945
          ],
          "sizemode": "area",
          "sizeref": 3085.7029075,
          "symbol": "circle"
         },
         "mode": "markers",
         "name": "Denmark",
         "orientation": "v",
         "showlegend": false,
         "type": "scatter",
         "x": [
          "Denmark"
         ],
         "xaxis": "x4",
         "y": [
          0.27749999999999997
         ],
         "yaxis": "y4"
        },
        {
         "hovertemplate": "Country=%{x}<br>Decade=1990<br>Women (%)=%{y}<br>Population (thousands)=%{marker.size}<extra></extra>",
         "legendgroup": "Denmark",
         "marker": {
          "color": "#19d3f3",
          "size": [
           5141.117
          ],
          "sizemode": "area",
          "sizeref": 3085.7029075,
          "symbol": "circle"
         },
         "mode": "markers",
         "name": "Denmark",
         "orientation": "v",
         "showlegend": false,
         "type": "scatter",
         "x": [
          "Denmark"
         ],
         "xaxis": "x5",
         "y": [
          0.3466666666666667
         ],
         "yaxis": "y5"
        },
        {
         "hovertemplate": "Country=%{x}<br>Decade=2000<br>Women (%)=%{y}<br>Population (thousands)=%{marker.size}<extra></extra>",
         "legendgroup": "Denmark",
         "marker": {
          "color": "#19d3f3",
          "size": [
           5341.192
          ],
          "sizemode": "area",
          "sizeref": 3085.7029075,
          "symbol": "circle"
         },
         "mode": "markers",
         "name": "Denmark",
         "orientation": "v",
         "showlegend": false,
         "type": "scatter",
         "x": [
          "Denmark"
         ],
         "xaxis": "x6",
         "y": [
          0.37333333333333335
         ],
         "yaxis": "y6"
        },
        {
         "hovertemplate": "Country=%{x}<br>Decade=2010<br>Women (%)=%{y}<br>Population (thousands)=%{marker.size}<extra></extra>",
         "legendgroup": "Denmark",
         "marker": {
          "color": "#19d3f3",
          "size": [
           5554.849
          ],
          "sizemode": "area",
          "sizeref": 3085.7029075,
          "symbol": "circle"
         },
         "mode": "markers",
         "name": "Denmark",
         "orientation": "v",
         "showlegend": false,
         "type": "scatter",
         "x": [
          "Denmark"
         ],
         "xaxis": "x",
         "y": [
          0.38
         ],
         "yaxis": "y"
        },
        {
         "hovertemplate": "Country=%{x}<br>Decade=1950<br>Women (%)=%{y}<br>Population (thousands)=%{marker.size}<extra></extra>",
         "legendgroup": "Bhutan",
         "marker": {
          "color": "#FF6692",
          "size": [
           176.796
          ],
          "sizemode": "area",
          "sizeref": 3085.7029075,
          "symbol": "circle"
         },
         "mode": "markers",
         "name": "Bhutan",
         "orientation": "v",
         "showlegend": true,
         "type": "scatter",
         "x": [
          "Bhutan"
         ],
         "xaxis": "x7",
         "y": [
          0
         ],
         "yaxis": "y7"
        },
        {
         "hovertemplate": "Country=%{x}<br>Decade=2000<br>Women (%)=%{y}<br>Population (thousands)=%{marker.size}<extra></extra>",
         "legendgroup": "Bhutan",
         "marker": {
          "color": "#FF6692",
          "size": [
           591.014
          ],
          "sizemode": "area",
          "sizeref": 3085.7029075,
          "symbol": "circle"
         },
         "mode": "markers",
         "name": "Bhutan",
         "orientation": "v",
         "showlegend": false,
         "type": "scatter",
         "x": [
          "Bhutan"
         ],
         "xaxis": "x6",
         "y": [
          0.09
         ],
         "yaxis": "y6"
        },
        {
         "hovertemplate": "Country=%{x}<br>Decade=2010<br>Women (%)=%{y}<br>Population (thousands)=%{marker.size}<extra></extra>",
         "legendgroup": "Bhutan",
         "marker": {
          "color": "#FF6692",
          "size": [
           685.502
          ],
          "sizemode": "area",
          "sizeref": 3085.7029075,
          "symbol": "circle"
         },
         "mode": "markers",
         "name": "Bhutan",
         "orientation": "v",
         "showlegend": false,
         "type": "scatter",
         "x": [
          "Bhutan"
         ],
         "xaxis": "x",
         "y": [
          0.105
         ],
         "yaxis": "y"
        },
        {
         "hovertemplate": "Country=%{x}<br>Decade=1950<br>Women (%)=%{y}<br>Population (thousands)=%{marker.size}<extra></extra>",
         "legendgroup": "Egypt",
         "marker": {
          "color": "#B6E880",
          "size": [
           20451.988
          ],
          "sizemode": "area",
          "sizeref": 3085.7029075,
          "symbol": "circle"
         },
         "mode": "markers",
         "name": "Egypt",
         "orientation": "v",
         "showlegend": true,
         "type": "scatter",
         "x": [
          "Egypt"
         ],
         "xaxis": "x7",
         "y": [
          0.005
         ],
         "yaxis": "y7"
        },
        {
         "hovertemplate": "Country=%{x}<br>Decade=1960<br>Women (%)=%{y}<br>Population (thousands)=%{marker.size}<extra></extra>",
         "legendgroup": "Egypt",
         "marker": {
          "color": "#B6E880",
          "size": [
           26632.891
          ],
          "sizemode": "area",
          "sizeref": 3085.7029075,
          "symbol": "circle"
         },
         "mode": "markers",
         "name": "Egypt",
         "orientation": "v",
         "showlegend": false,
         "type": "scatter",
         "x": [
          "Egypt"
         ],
         "xaxis": "x8",
         "y": [
          0.013333333333333334
         ],
         "yaxis": "y8"
        },
        {
         "hovertemplate": "Country=%{x}<br>Decade=1970<br>Women (%)=%{y}<br>Population (thousands)=%{marker.size}<extra></extra>",
         "legendgroup": "Egypt",
         "marker": {
          "color": "#B6E880",
          "size": [
           34513.851
          ],
          "sizemode": "area",
          "sizeref": 3085.7029075,
          "symbol": "circle"
         },
         "mode": "markers",
         "name": "Egypt",
         "orientation": "v",
         "showlegend": false,
         "type": "scatter",
         "x": [
          "Egypt"
         ],
         "xaxis": "x9",
         "y": [
          0.043333333333333335
         ],
         "yaxis": "y9"
        },
        {
         "hovertemplate": "Country=%{x}<br>Decade=1980<br>Women (%)=%{y}<br>Population (thousands)=%{marker.size}<extra></extra>",
         "legendgroup": "Egypt",
         "marker": {
          "color": "#B6E880",
          "size": [
           43309.063
          ],
          "sizemode": "area",
          "sizeref": 3085.7029075,
          "symbol": "circle"
         },
         "mode": "markers",
         "name": "Egypt",
         "orientation": "v",
         "showlegend": false,
         "type": "scatter",
         "x": [
          "Egypt"
         ],
         "xaxis": "x4",
         "y": [
          0.06
         ],
         "yaxis": "y4"
        },
        {
         "hovertemplate": "Country=%{x}<br>Decade=1990<br>Women (%)=%{y}<br>Population (thousands)=%{marker.size}<extra></extra>",
         "legendgroup": "Egypt",
         "marker": {
          "color": "#B6E880",
          "size": [
           56134.478
          ],
          "sizemode": "area",
          "sizeref": 3085.7029075,
          "symbol": "circle"
         },
         "mode": "markers",
         "name": "Egypt",
         "orientation": "v",
         "showlegend": false,
         "type": "scatter",
         "x": [
          "Egypt"
         ],
         "xaxis": "x5",
         "y": [
          0.02
         ],
         "yaxis": "y5"
        },
        {
         "hovertemplate": "Country=%{x}<br>Decade=2000<br>Women (%)=%{y}<br>Population (thousands)=%{marker.size}<extra></extra>",
         "legendgroup": "Egypt",
         "marker": {
          "color": "#B6E880",
          "size": [
           68831.561
          ],
          "sizemode": "area",
          "sizeref": 3085.7029075,
          "symbol": "circle"
         },
         "mode": "markers",
         "name": "Egypt",
         "orientation": "v",
         "showlegend": false,
         "type": "scatter",
         "x": [
          "Egypt"
         ],
         "xaxis": "x6",
         "y": [
          0.02
         ],
         "yaxis": "y6"
        },
        {
         "hovertemplate": "Country=%{x}<br>Decade=2010<br>Women (%)=%{y}<br>Population (thousands)=%{marker.size}<extra></extra>",
         "legendgroup": "Egypt",
         "marker": {
          "color": "#B6E880",
          "size": [
           82761.244
          ],
          "sizemode": "area",
          "sizeref": 3085.7029075,
          "symbol": "circle"
         },
         "mode": "markers",
         "name": "Egypt",
         "orientation": "v",
         "showlegend": false,
         "type": "scatter",
         "x": [
          "Egypt"
         ],
         "xaxis": "x",
         "y": [
          0.09999999999999999
         ],
         "yaxis": "y"
        },
        {
         "hovertemplate": "Country=%{x}<br>Decade=1950<br>Women (%)=%{y}<br>Population (thousands)=%{marker.size}<extra></extra>",
         "legendgroup": "Paraguay",
         "marker": {
          "color": "#FF97FF",
          "size": [
           1473.241
          ],
          "sizemode": "area",
          "sizeref": 3085.7029075,
          "symbol": "circle"
         },
         "mode": "markers",
         "name": "Paraguay",
         "orientation": "v",
         "showlegend": true,
         "type": "scatter",
         "x": [
          "Paraguay"
         ],
         "xaxis": "x7",
         "y": [
          0
         ],
         "yaxis": "y7"
        },
        {
         "hovertemplate": "Country=%{x}<br>Decade=1960<br>Women (%)=%{y}<br>Population (thousands)=%{marker.size}<extra></extra>",
         "legendgroup": "Paraguay",
         "marker": {
          "color": "#FF97FF",
          "size": [
           1903.99
          ],
          "sizemode": "area",
          "sizeref": 3085.7029075,
          "symbol": "circle"
         },
         "mode": "markers",
         "name": "Paraguay",
         "orientation": "v",
         "showlegend": false,
         "type": "scatter",
         "x": [
          "Paraguay"
         ],
         "xaxis": "x8",
         "y": [
          0.02
         ],
         "yaxis": "y8"
        },
        {
         "hovertemplate": "Country=%{x}<br>Decade=1970<br>Women (%)=%{y}<br>Population (thousands)=%{marker.size}<extra></extra>",
         "legendgroup": "Paraguay",
         "marker": {
          "color": "#FF97FF",
          "size": [
           2474.757
          ],
          "sizemode": "area",
          "sizeref": 3085.7029075,
          "symbol": "circle"
         },
         "mode": "markers",
         "name": "Paraguay",
         "orientation": "v",
         "showlegend": false,
         "type": "scatter",
         "x": [
          "Paraguay"
         ],
         "xaxis": "x9",
         "y": [
          0.04
         ],
         "yaxis": "y9"
        },
        {
         "hovertemplate": "Country=%{x}<br>Decade=1980<br>Women (%)=%{y}<br>Population (thousands)=%{marker.size}<extra></extra>",
         "legendgroup": "Paraguay",
         "marker": {
          "color": "#FF97FF",
          "size": [
           3181.627
          ],
          "sizemode": "area",
          "sizeref": 3085.7029075,
          "symbol": "circle"
         },
         "mode": "markers",
         "name": "Paraguay",
         "orientation": "v",
         "showlegend": false,
         "type": "scatter",
         "x": [
          "Paraguay"
         ],
         "xaxis": "x4",
         "y": [
          0.03666666666666667
         ],
         "yaxis": "y4"
        },
        {
         "hovertemplate": "Country=%{x}<br>Decade=1990<br>Women (%)=%{y}<br>Population (thousands)=%{marker.size}<extra></extra>",
         "legendgroup": "Paraguay",
         "marker": {
          "color": "#FF97FF",
          "size": [
           4223.413
          ],
          "sizemode": "area",
          "sizeref": 3085.7029075,
          "symbol": "circle"
         },
         "mode": "markers",
         "name": "Paraguay",
         "orientation": "v",
         "showlegend": false,
         "type": "scatter",
         "x": [
          "Paraguay"
         ],
         "xaxis": "x5",
         "y": [
          0.060000000000000005
         ],
         "yaxis": "y5"
        },
        {
         "hovertemplate": "Country=%{x}<br>Decade=2000<br>Women (%)=%{y}<br>Population (thousands)=%{marker.size}<extra></extra>",
         "legendgroup": "Paraguay",
         "marker": {
          "color": "#FF97FF",
          "size": [
           5323.202
          ],
          "sizemode": "area",
          "sizeref": 3085.7029075,
          "symbol": "circle"
         },
         "mode": "markers",
         "name": "Paraguay",
         "orientation": "v",
         "showlegend": false,
         "type": "scatter",
         "x": [
          "Paraguay"
         ],
         "xaxis": "x6",
         "y": [
          0.105
         ],
         "yaxis": "y6"
        },
        {
         "hovertemplate": "Country=%{x}<br>Decade=2010<br>Women (%)=%{y}<br>Population (thousands)=%{marker.size}<extra></extra>",
         "legendgroup": "Paraguay",
         "marker": {
          "color": "#FF97FF",
          "size": [
           6248.017
          ],
          "sizemode": "area",
          "sizeref": 3085.7029075,
          "symbol": "circle"
         },
         "mode": "markers",
         "name": "Paraguay",
         "orientation": "v",
         "showlegend": false,
         "type": "scatter",
         "x": [
          "Paraguay"
         ],
         "xaxis": "x",
         "y": [
          0.16499999999999998
         ],
         "yaxis": "y"
        },
        {
         "hovertemplate": "Country=%{x}<br>Decade=1950<br>Women (%)=%{y}<br>Population (thousands)=%{marker.size}<extra></extra>",
         "legendgroup": "Cuba",
         "marker": {
          "color": "#FECB52",
          "size": [
           5919.989
          ],
          "sizemode": "area",
          "sizeref": 3085.7029075,
          "symbol": "circle"
         },
         "mode": "markers",
         "name": "Cuba",
         "orientation": "v",
         "showlegend": true,
         "type": "scatter",
         "x": [
          "Cuba"
         ],
         "xaxis": "x7",
         "y": [
          0.02
         ],
         "yaxis": "y7"
        },
        {
         "hovertemplate": "Country=%{x}<br>Decade=1970<br>Women (%)=%{y}<br>Population (thousands)=%{marker.size}<extra></extra>",
         "legendgroup": "Cuba",
         "marker": {
          "color": "#FECB52",
          "size": [
           8712.535
          ],
          "sizemode": "area",
          "sizeref": 3085.7029075,
          "symbol": "circle"
         },
         "mode": "markers",
         "name": "Cuba",
         "orientation": "v",
         "showlegend": false,
         "type": "scatter",
         "x": [
          "Cuba"
         ],
         "xaxis": "x9",
         "y": [
          0.22
         ],
         "yaxis": "y9"
        },
        {
         "hovertemplate": "Country=%{x}<br>Decade=1980<br>Women (%)=%{y}<br>Population (thousands)=%{marker.size}<extra></extra>",
         "legendgroup": "Cuba",
         "marker": {
          "color": "#FECB52",
          "size": [
           9849.457
          ],
          "sizemode": "area",
          "sizeref": 3085.7029075,
          "symbol": "circle"
         },
         "mode": "markers",
         "name": "Cuba",
         "orientation": "v",
         "showlegend": false,
         "type": "scatter",
         "x": [
          "Cuba"
         ],
         "xaxis": "x4",
         "y": [
          0.28500000000000003
         ],
         "yaxis": "y4"
        },
        {
         "hovertemplate": "Country=%{x}<br>Decade=1990<br>Women (%)=%{y}<br>Population (thousands)=%{marker.size}<extra></extra>",
         "legendgroup": "Cuba",
         "marker": {
          "color": "#FECB52",
          "size": [
           10596.986
          ],
          "sizemode": "area",
          "sizeref": 3085.7029075,
          "symbol": "circle"
         },
         "mode": "markers",
         "name": "Cuba",
         "orientation": "v",
         "showlegend": false,
         "type": "scatter",
         "x": [
          "Cuba"
         ],
         "xaxis": "x5",
         "y": [
          0.255
         ],
         "yaxis": "y5"
        },
        {
         "hovertemplate": "Country=%{x}<br>Decade=2000<br>Women (%)=%{y}<br>Population (thousands)=%{marker.size}<extra></extra>",
         "legendgroup": "Cuba",
         "marker": {
          "color": "#FECB52",
          "size": [
           11126.423
          ],
          "sizemode": "area",
          "sizeref": 3085.7029075,
          "symbol": "circle"
         },
         "mode": "markers",
         "name": "Cuba",
         "orientation": "v",
         "showlegend": false,
         "type": "scatter",
         "x": [
          "Cuba"
         ],
         "xaxis": "x6",
         "y": [
          0.395
         ],
         "yaxis": "y6"
        },
        {
         "hovertemplate": "Country=%{x}<br>Decade=2010<br>Women (%)=%{y}<br>Population (thousands)=%{marker.size}<extra></extra>",
         "legendgroup": "Cuba",
         "marker": {
          "color": "#FECB52",
          "size": [
           11225.833
          ],
          "sizemode": "area",
          "sizeref": 3085.7029075,
          "symbol": "circle"
         },
         "mode": "markers",
         "name": "Cuba",
         "orientation": "v",
         "showlegend": false,
         "type": "scatter",
         "x": [
          "Cuba"
         ],
         "xaxis": "x",
         "y": [
          0.49
         ],
         "yaxis": "y"
        },
        {
         "hovertemplate": "Country=%{x}<br>Decade=1950<br>Women (%)=%{y}<br>Population (thousands)=%{marker.size}<extra></extra>",
         "legendgroup": "Peru",
         "marker": {
          "color": "#636efa",
          "size": [
           7777.452
          ],
          "sizemode": "area",
          "sizeref": 3085.7029075,
          "symbol": "circle"
         },
         "mode": "markers",
         "name": "Peru",
         "orientation": "v",
         "showlegend": true,
         "type": "scatter",
         "x": [
          "Peru"
         ],
         "xaxis": "x7",
         "y": [
          0.02
         ],
         "yaxis": "y7"
        },
        {
         "hovertemplate": "Country=%{x}<br>Decade=1960<br>Women (%)=%{y}<br>Population (thousands)=%{marker.size}<extra></extra>",
         "legendgroup": "Peru",
         "marker": {
          "color": "#636efa",
          "size": [
           10155.011
          ],
          "sizemode": "area",
          "sizeref": 3085.7029075,
          "symbol": "circle"
         },
         "mode": "markers",
         "name": "Peru",
         "orientation": "v",
         "showlegend": false,
         "type": "scatter",
         "x": [
          "Peru"
         ],
         "xaxis": "x8",
         "y": [
          0.02
         ],
         "yaxis": "y8"
        },
        {
         "hovertemplate": "Country=%{x}<br>Decade=1970<br>Women (%)=%{y}<br>Population (thousands)=%{marker.size}<extra></extra>",
         "legendgroup": "Peru",
         "marker": {
          "color": "#636efa",
          "size": [
           13459.789
          ],
          "sizemode": "area",
          "sizeref": 3085.7029075,
          "symbol": "circle"
         },
         "mode": "markers",
         "name": "Peru",
         "orientation": "v",
         "showlegend": false,
         "type": "scatter",
         "x": [
          "Peru"
         ],
         "xaxis": "x9",
         "y": [
          0.02
         ],
         "yaxis": "y9"
        },
        {
         "hovertemplate": "Country=%{x}<br>Decade=1980<br>Women (%)=%{y}<br>Population (thousands)=%{marker.size}<extra></extra>",
         "legendgroup": "Peru",
         "marker": {
          "color": "#636efa",
          "size": [
           17547.612
          ],
          "sizemode": "area",
          "sizeref": 3085.7029075,
          "symbol": "circle"
         },
         "mode": "markers",
         "name": "Peru",
         "orientation": "v",
         "showlegend": false,
         "type": "scatter",
         "x": [
          "Peru"
         ],
         "xaxis": "x4",
         "y": [
          0.065
         ],
         "yaxis": "y4"
        },
        {
         "hovertemplate": "Country=%{x}<br>Decade=1990<br>Women (%)=%{y}<br>Population (thousands)=%{marker.size}<extra></extra>",
         "legendgroup": "Peru",
         "marker": {
          "color": "#636efa",
          "size": [
           22071.433
          ],
          "sizemode": "area",
          "sizeref": 3085.7029075,
          "symbol": "circle"
         },
         "mode": "markers",
         "name": "Peru",
         "orientation": "v",
         "showlegend": false,
         "type": "scatter",
         "x": [
          "Peru"
         ],
         "xaxis": "x5",
         "y": [
          0.085
         ],
         "yaxis": "y5"
        },
        {
         "hovertemplate": "Country=%{x}<br>Decade=2000<br>Women (%)=%{y}<br>Population (thousands)=%{marker.size}<extra></extra>",
         "legendgroup": "Peru",
         "marker": {
          "color": "#636efa",
          "size": [
           26459.944
          ],
          "sizemode": "area",
          "sizeref": 3085.7029075,
          "symbol": "circle"
         },
         "mode": "markers",
         "name": "Peru",
         "orientation": "v",
         "showlegend": false,
         "type": "scatter",
         "x": [
          "Peru"
         ],
         "xaxis": "x6",
         "y": [
          0.2125
         ],
         "yaxis": "y6"
        },
        {
         "hovertemplate": "Country=%{x}<br>Decade=2010<br>Women (%)=%{y}<br>Population (thousands)=%{marker.size}<extra></extra>",
         "legendgroup": "Peru",
         "marker": {
          "color": "#636efa",
          "size": [
           29027.68
          ],
          "sizemode": "area",
          "sizeref": 3085.7029075,
          "symbol": "circle"
         },
         "mode": "markers",
         "name": "Peru",
         "orientation": "v",
         "showlegend": false,
         "type": "scatter",
         "x": [
          "Peru"
         ],
         "xaxis": "x",
         "y": [
          0.245
         ],
         "yaxis": "y"
        },
        {
         "hovertemplate": "Country=%{x}<br>Decade=1950<br>Women (%)=%{y}<br>Population (thousands)=%{marker.size}<extra></extra>",
         "legendgroup": "Jordan",
         "marker": {
          "color": "#EF553B",
          "size": [
           481.319
          ],
          "sizemode": "area",
          "sizeref": 3085.7029075,
          "symbol": "circle"
         },
         "mode": "markers",
         "name": "Jordan",
         "orientation": "v",
         "showlegend": true,
         "type": "scatter",
         "x": [
          "Jordan"
         ],
         "xaxis": "x7",
         "y": [
          0
         ],
         "yaxis": "y7"
        },
        {
         "hovertemplate": "Country=%{x}<br>Decade=1960<br>Women (%)=%{y}<br>Population (thousands)=%{marker.size}<extra></extra>",
         "legendgroup": "Jordan",
         "marker": {
          "color": "#EF553B",
          "size": [
           933.102
          ],
          "sizemode": "area",
          "sizeref": 3085.7029075,
          "symbol": "circle"
         },
         "mode": "markers",
         "name": "Jordan",
         "orientation": "v",
         "showlegend": false,
         "type": "scatter",
         "x": [
          "Jordan"
         ],
         "xaxis": "x8",
         "y": [
          0
         ],
         "yaxis": "y8"
        },
        {
         "hovertemplate": "Country=%{x}<br>Decade=1980<br>Women (%)=%{y}<br>Population (thousands)=%{marker.size}<extra></extra>",
         "legendgroup": "Jordan",
         "marker": {
          "color": "#EF553B",
          "size": [
           2377.997
          ],
          "sizemode": "area",
          "sizeref": 3085.7029075,
          "symbol": "circle"
         },
         "mode": "markers",
         "name": "Jordan",
         "orientation": "v",
         "showlegend": false,
         "type": "scatter",
         "x": [
          "Jordan"
         ],
         "xaxis": "x4",
         "y": [
          0
         ],
         "yaxis": "y4"
        },
        {
         "hovertemplate": "Country=%{x}<br>Decade=1990<br>Women (%)=%{y}<br>Population (thousands)=%{marker.size}<extra></extra>",
         "legendgroup": "Jordan",
         "marker": {
          "color": "#EF553B",
          "size": [
           3565.888
          ],
          "sizemode": "area",
          "sizeref": 3085.7029075,
          "symbol": "circle"
         },
         "mode": "markers",
         "name": "Jordan",
         "orientation": "v",
         "showlegend": false,
         "type": "scatter",
         "x": [
          "Jordan"
         ],
         "xaxis": "x5",
         "y": [
          0.006666666666666667
         ],
         "yaxis": "y5"
        },
        {
         "hovertemplate": "Country=%{x}<br>Decade=2000<br>Women (%)=%{y}<br>Population (thousands)=%{marker.size}<extra></extra>",
         "legendgroup": "Jordan",
         "marker": {
          "color": "#EF553B",
          "size": [
           5122.495
          ],
          "sizemode": "area",
          "sizeref": 3085.7029075,
          "symbol": "circle"
         },
         "mode": "markers",
         "name": "Jordan",
         "orientation": "v",
         "showlegend": false,
         "type": "scatter",
         "x": [
          "Jordan"
         ],
         "xaxis": "x6",
         "y": [
          0.055
         ],
         "yaxis": "y6"
        },
        {
         "hovertemplate": "Country=%{x}<br>Decade=2010<br>Women (%)=%{y}<br>Population (thousands)=%{marker.size}<extra></extra>",
         "legendgroup": "Jordan",
         "marker": {
          "color": "#EF553B",
          "size": [
           7261.541
          ],
          "sizemode": "area",
          "sizeref": 3085.7029075,
          "symbol": "circle"
         },
         "mode": "markers",
         "name": "Jordan",
         "orientation": "v",
         "showlegend": false,
         "type": "scatter",
         "x": [
          "Jordan"
         ],
         "xaxis": "x",
         "y": [
          0.122
         ],
         "yaxis": "y"
        },
        {
         "hovertemplate": "Country=%{x}<br>Decade=1950<br>Women (%)=%{y}<br>Population (thousands)=%{marker.size}<extra></extra>",
         "legendgroup": "Uruguay",
         "marker": {
          "color": "#00cc96",
          "size": [
           2238.501
          ],
          "sizemode": "area",
          "sizeref": 3085.7029075,
          "symbol": "circle"
         },
         "mode": "markers",
         "name": "Uruguay",
         "orientation": "v",
         "showlegend": true,
         "type": "scatter",
         "x": [
          "Uruguay"
         ],
         "xaxis": "x7",
         "y": [
          0
         ],
         "yaxis": "y7"
        },
        {
         "hovertemplate": "Country=%{x}<br>Decade=1960<br>Women (%)=%{y}<br>Population (thousands)=%{marker.size}<extra></extra>",
         "legendgroup": "Uruguay",
         "marker": {
          "color": "#00cc96",
          "size": [
           2538.648
          ],
          "sizemode": "area",
          "sizeref": 3085.7029075,
          "symbol": "circle"
         },
         "mode": "markers",
         "name": "Uruguay",
         "orientation": "v",
         "showlegend": false,
         "type": "scatter",
         "x": [
          "Uruguay"
         ],
         "xaxis": "x8",
         "y": [
          0
         ],
         "yaxis": "y8"
        },
        {
         "hovertemplate": "Country=%{x}<br>Decade=1970<br>Women (%)=%{y}<br>Population (thousands)=%{marker.size}<extra></extra>",
         "legendgroup": "Uruguay",
         "marker": {
          "color": "#00cc96",
          "size": [
           2809.799
          ],
          "sizemode": "area",
          "sizeref": 3085.7029075,
          "symbol": "circle"
         },
         "mode": "markers",
         "name": "Uruguay",
         "orientation": "v",
         "showlegend": false,
         "type": "scatter",
         "x": [
          "Uruguay"
         ],
         "xaxis": "x9",
         "y": [
          0.01
         ],
         "yaxis": "y9"
        },
        {
         "hovertemplate": "Country=%{x}<br>Decade=1980<br>Women (%)=%{y}<br>Population (thousands)=%{marker.size}<extra></extra>",
         "legendgroup": "Uruguay",
         "marker": {
          "color": "#00cc96",
          "size": [
           2915.389
          ],
          "sizemode": "area",
          "sizeref": 3085.7029075,
          "symbol": "circle"
         },
         "mode": "markers",
         "name": "Uruguay",
         "orientation": "v",
         "showlegend": false,
         "type": "scatter",
         "x": [
          "Uruguay"
         ],
         "xaxis": "x4",
         "y": [
          0.03
         ],
         "yaxis": "y4"
        },
        {
         "hovertemplate": "Country=%{x}<br>Decade=1990<br>Women (%)=%{y}<br>Population (thousands)=%{marker.size}<extra></extra>",
         "legendgroup": "Uruguay",
         "marker": {
          "color": "#00cc96",
          "size": [
           3109.598
          ],
          "sizemode": "area",
          "sizeref": 3085.7029075,
          "symbol": "circle"
         },
         "mode": "markers",
         "name": "Uruguay",
         "orientation": "v",
         "showlegend": false,
         "type": "scatter",
         "x": [
          "Uruguay"
         ],
         "xaxis": "x5",
         "y": [
          0.095
         ],
         "yaxis": "y5"
        },
        {
         "hovertemplate": "Country=%{x}<br>Decade=2000<br>Women (%)=%{y}<br>Population (thousands)=%{marker.size}<extra></extra>",
         "legendgroup": "Uruguay",
         "marker": {
          "color": "#00cc96",
          "size": [
           3319.734
          ],
          "sizemode": "area",
          "sizeref": 3085.7029075,
          "symbol": "circle"
         },
         "mode": "markers",
         "name": "Uruguay",
         "orientation": "v",
         "showlegend": false,
         "type": "scatter",
         "x": [
          "Uruguay"
         ],
         "xaxis": "x6",
         "y": [
          0.13
         ],
         "yaxis": "y6"
        },
        {
         "hovertemplate": "Country=%{x}<br>Decade=2010<br>Women (%)=%{y}<br>Population (thousands)=%{marker.size}<extra></extra>",
         "legendgroup": "Uruguay",
         "marker": {
          "color": "#00cc96",
          "size": [
           3359.273
          ],
          "sizemode": "area",
          "sizeref": 3085.7029075,
          "symbol": "circle"
         },
         "mode": "markers",
         "name": "Uruguay",
         "orientation": "v",
         "showlegend": false,
         "type": "scatter",
         "x": [
          "Uruguay"
         ],
         "xaxis": "x",
         "y": [
          0.16
         ],
         "yaxis": "y"
        },
        {
         "hovertemplate": "Country=%{x}<br>Decade=1950<br>Women (%)=%{y}<br>Population (thousands)=%{marker.size}<extra></extra>",
         "legendgroup": "Philippines",
         "marker": {
          "color": "#ab63fa",
          "size": [
           18580.483
          ],
          "sizemode": "area",
          "sizeref": 3085.7029075,
          "symbol": "circle"
         },
         "mode": "markers",
         "name": "Philippines",
         "orientation": "v",
         "showlegend": true,
         "type": "scatter",
         "x": [
          "Philippines"
         ],
         "xaxis": "x7",
         "y": [
          0.015
         ],
         "yaxis": "y7"
        },
        {
         "hovertemplate": "Country=%{x}<br>Decade=1960<br>Women (%)=%{y}<br>Population (thousands)=%{marker.size}<extra></extra>",
         "legendgroup": "Philippines",
         "marker": {
          "color": "#ab63fa",
          "size": [
           26269.741
          ],
          "sizemode": "area",
          "sizeref": 3085.7029075,
          "symbol": "circle"
         },
         "mode": "markers",
         "name": "Philippines",
         "orientation": "v",
         "showlegend": false,
         "type": "scatter",
         "x": [
          "Philippines"
         ],
         "xaxis": "x8",
         "y": [
          0.03666666666666667
         ],
         "yaxis": "y8"
        },
        {
         "hovertemplate": "Country=%{x}<br>Decade=1970<br>Women (%)=%{y}<br>Population (thousands)=%{marker.size}<extra></extra>",
         "legendgroup": "Philippines",
         "marker": {
          "color": "#ab63fa",
          "size": [
           35803.591
          ],
          "sizemode": "area",
          "sizeref": 3085.7029075,
          "symbol": "circle"
         },
         "mode": "markers",
         "name": "Philippines",
         "orientation": "v",
         "showlegend": false,
         "type": "scatter",
         "x": [
          "Philippines"
         ],
         "xaxis": "x9",
         "y": [
          0.06
         ],
         "yaxis": "y9"
        },
        {
         "hovertemplate": "Country=%{x}<br>Decade=1980<br>Women (%)=%{y}<br>Population (thousands)=%{marker.size}<extra></extra>",
         "legendgroup": "Philippines",
         "marker": {
          "color": "#ab63fa",
          "size": [
           47357.741
          ],
          "sizemode": "area",
          "sizeref": 3085.7029075,
          "symbol": "circle"
         },
         "mode": "markers",
         "name": "Philippines",
         "orientation": "v",
         "showlegend": false,
         "type": "scatter",
         "x": [
          "Philippines"
         ],
         "xaxis": "x4",
         "y": [
          0.075
         ],
         "yaxis": "y4"
        },
        {
         "hovertemplate": "Country=%{x}<br>Decade=1990<br>Women (%)=%{y}<br>Population (thousands)=%{marker.size}<extra></extra>",
         "legendgroup": "Philippines",
         "marker": {
          "color": "#ab63fa",
          "size": [
           61895.169
          ],
          "sizemode": "area",
          "sizeref": 3085.7029075,
          "symbol": "circle"
         },
         "mode": "markers",
         "name": "Philippines",
         "orientation": "v",
         "showlegend": false,
         "type": "scatter",
         "x": [
          "Philippines"
         ],
         "xaxis": "x5",
         "y": [
          0.10333333333333333
         ],
         "yaxis": "y5"
        },
        {
         "hovertemplate": "Country=%{x}<br>Decade=2000<br>Women (%)=%{y}<br>Population (thousands)=%{marker.size}<extra></extra>",
         "legendgroup": "Philippines",
         "marker": {
          "color": "#ab63fa",
          "size": [
           77991.757
          ],
          "sizemode": "area",
          "sizeref": 3085.7029075,
          "symbol": "circle"
         },
         "mode": "markers",
         "name": "Philippines",
         "orientation": "v",
         "showlegend": false,
         "type": "scatter",
         "x": [
          "Philippines"
         ],
         "xaxis": "x6",
         "y": [
          0.19
         ],
         "yaxis": "y6"
        },
        {
         "hovertemplate": "Country=%{x}<br>Decade=2010<br>Women (%)=%{y}<br>Population (thousands)=%{marker.size}<extra></extra>",
         "legendgroup": "Philippines",
         "marker": {
          "color": "#ab63fa",
          "size": [
           93966.784
          ],
          "sizemode": "area",
          "sizeref": 3085.7029075,
          "symbol": "circle"
         },
         "mode": "markers",
         "name": "Philippines",
         "orientation": "v",
         "showlegend": false,
         "type": "scatter",
         "x": [
          "Philippines"
         ],
         "xaxis": "x",
         "y": [
          0.2625
         ],
         "yaxis": "y"
        },
        {
         "hovertemplate": "Country=%{x}<br>Decade=1950<br>Women (%)=%{y}<br>Population (thousands)=%{marker.size}<extra></extra>",
         "legendgroup": "Japan",
         "marker": {
          "color": "#FFA15A",
          "size": [
           82802.084
          ],
          "sizemode": "area",
          "sizeref": 3085.7029075,
          "symbol": "circle"
         },
         "mode": "markers",
         "name": "Japan",
         "orientation": "v",
         "showlegend": true,
         "type": "scatter",
         "x": [
          "Japan"
         ],
         "xaxis": "x7",
         "y": [
          0.02
         ],
         "yaxis": "y7"
        },
        {
         "hovertemplate": "Country=%{x}<br>Decade=1960<br>Women (%)=%{y}<br>Population (thousands)=%{marker.size}<extra></extra>",
         "legendgroup": "Japan",
         "marker": {
          "color": "#FFA15A",
          "size": [
           93673.612
          ],
          "sizemode": "area",
          "sizeref": 3085.7029075,
          "symbol": "circle"
         },
         "mode": "markers",
         "name": "Japan",
         "orientation": "v",
         "showlegend": false,
         "type": "scatter",
         "x": [
          "Japan"
         ],
         "xaxis": "x8",
         "y": [
          0.0125
         ],
         "yaxis": "y8"
        },
        {
         "hovertemplate": "Country=%{x}<br>Decade=1970<br>Women (%)=%{y}<br>Population (thousands)=%{marker.size}<extra></extra>",
         "legendgroup": "Japan",
         "marker": {
          "color": "#FFA15A",
          "size": [
           104929.26
          ],
          "sizemode": "area",
          "sizeref": 3085.7029075,
          "symbol": "circle"
         },
         "mode": "markers",
         "name": "Japan",
         "orientation": "v",
         "showlegend": false,
         "type": "scatter",
         "x": [
          "Japan"
         ],
         "xaxis": "x9",
         "y": [
          0.013333333333333334
         ],
         "yaxis": "y9"
        },
        {
         "hovertemplate": "Country=%{x}<br>Decade=1980<br>Women (%)=%{y}<br>Population (thousands)=%{marker.size}<extra></extra>",
         "legendgroup": "Japan",
         "marker": {
          "color": "#FFA15A",
          "size": [
           117816.942
          ],
          "sizemode": "area",
          "sizeref": 3085.7029075,
          "symbol": "circle"
         },
         "mode": "markers",
         "name": "Japan",
         "orientation": "v",
         "showlegend": false,
         "type": "scatter",
         "x": [
          "Japan"
         ],
         "xaxis": "x4",
         "y": [
          0.016666666666666666
         ],
         "yaxis": "y4"
        },
        {
         "hovertemplate": "Country=%{x}<br>Decade=1990<br>Women (%)=%{y}<br>Population (thousands)=%{marker.size}<extra></extra>",
         "legendgroup": "Japan",
         "marker": {
          "color": "#FFA15A",
          "size": [
           124505.243
          ],
          "sizemode": "area",
          "sizeref": 3085.7029075,
          "symbol": "circle"
         },
         "mode": "markers",
         "name": "Japan",
         "orientation": "v",
         "showlegend": false,
         "type": "scatter",
         "x": [
          "Japan"
         ],
         "xaxis": "x5",
         "y": [
          0.03333333333333333
         ],
         "yaxis": "y5"
        },
        {
         "hovertemplate": "Country=%{x}<br>Decade=2000<br>Women (%)=%{y}<br>Population (thousands)=%{marker.size}<extra></extra>",
         "legendgroup": "Japan",
         "marker": {
          "color": "#FFA15A",
          "size": [
           127524.168
          ],
          "sizemode": "area",
          "sizeref": 3085.7029075,
          "symbol": "circle"
         },
         "mode": "markers",
         "name": "Japan",
         "orientation": "v",
         "showlegend": false,
         "type": "scatter",
         "x": [
          "Japan"
         ],
         "xaxis": "x6",
         "y": [
          0.082
         ],
         "yaxis": "y6"
        },
        {
         "hovertemplate": "Country=%{x}<br>Decade=2010<br>Women (%)=%{y}<br>Population (thousands)=%{marker.size}<extra></extra>",
         "legendgroup": "Japan",
         "marker": {
          "color": "#FFA15A",
          "size": [
           128542.349
          ],
          "sizemode": "area",
          "sizeref": 3085.7029075,
          "symbol": "circle"
         },
         "mode": "markers",
         "name": "Japan",
         "orientation": "v",
         "showlegend": false,
         "type": "scatter",
         "x": [
          "Japan"
         ],
         "xaxis": "x",
         "y": [
          0.08499999999999999
         ],
         "yaxis": "y"
        },
        {
         "hovertemplate": "Country=%{x}<br>Decade=1950<br>Women (%)=%{y}<br>Population (thousands)=%{marker.size}<extra></extra>",
         "legendgroup": "Nicaragua",
         "marker": {
          "color": "#19d3f3",
          "size": [
           1294.994
          ],
          "sizemode": "area",
          "sizeref": 3085.7029075,
          "symbol": "circle"
         },
         "mode": "markers",
         "name": "Nicaragua",
         "orientation": "v",
         "showlegend": true,
         "type": "scatter",
         "x": [
          "Nicaragua"
         ],
         "xaxis": "x7",
         "y": [
          0
         ],
         "yaxis": "y7"
        },
        {
         "hovertemplate": "Country=%{x}<br>Decade=1960<br>Women (%)=%{y}<br>Population (thousands)=%{marker.size}<extra></extra>",
         "legendgroup": "Nicaragua",
         "marker": {
          "color": "#19d3f3",
          "size": [
           1773.132
          ],
          "sizemode": "area",
          "sizeref": 3085.7029075,
          "symbol": "circle"
         },
         "mode": "markers",
         "name": "Nicaragua",
         "orientation": "v",
         "showlegend": false,
         "type": "scatter",
         "x": [
          "Nicaragua"
         ],
         "xaxis": "x8",
         "y": [
          0
         ],
         "yaxis": "y8"
        },
        {
         "hovertemplate": "Country=%{x}<br>Decade=1970<br>Women (%)=%{y}<br>Population (thousands)=%{marker.size}<extra></extra>",
         "legendgroup": "Nicaragua",
         "marker": {
          "color": "#19d3f3",
          "size": [
           2406.523
          ],
          "sizemode": "area",
          "sizeref": 3085.7029075,
          "symbol": "circle"
         },
         "mode": "markers",
         "name": "Nicaragua",
         "orientation": "v",
         "showlegend": false,
         "type": "scatter",
         "x": [
          "Nicaragua"
         ],
         "xaxis": "x9",
         "y": [
          0.13999999999999999
         ],
         "yaxis": "y9"
        },
        {
         "hovertemplate": "Country=%{x}<br>Decade=1980<br>Women (%)=%{y}<br>Population (thousands)=%{marker.size}<extra></extra>",
         "legendgroup": "Nicaragua",
         "marker": {
          "color": "#19d3f3",
          "size": [
           3265.52
          ],
          "sizemode": "area",
          "sizeref": 3085.7029075,
          "symbol": "circle"
         },
         "mode": "markers",
         "name": "Nicaragua",
         "orientation": "v",
         "showlegend": false,
         "type": "scatter",
         "x": [
          "Nicaragua"
         ],
         "xaxis": "x4",
         "y": [
          0.15
         ],
         "yaxis": "y4"
        },
        {
         "hovertemplate": "Country=%{x}<br>Decade=1990<br>Women (%)=%{y}<br>Population (thousands)=%{marker.size}<extra></extra>",
         "legendgroup": "Nicaragua",
         "marker": {
          "color": "#19d3f3",
          "size": [
           4173.435
          ],
          "sizemode": "area",
          "sizeref": 3085.7029075,
          "symbol": "circle"
         },
         "mode": "markers",
         "name": "Nicaragua",
         "orientation": "v",
         "showlegend": false,
         "type": "scatter",
         "x": [
          "Nicaragua"
         ],
         "xaxis": "x5",
         "y": [
          0.13
         ],
         "yaxis": "y5"
        },
        {
         "hovertemplate": "Country=%{x}<br>Decade=2000<br>Women (%)=%{y}<br>Population (thousands)=%{marker.size}<extra></extra>",
         "legendgroup": "Nicaragua",
         "marker": {
          "color": "#19d3f3",
          "size": [
           5069.31
          ],
          "sizemode": "area",
          "sizeref": 3085.7029075,
          "symbol": "circle"
         },
         "mode": "markers",
         "name": "Nicaragua",
         "orientation": "v",
         "showlegend": false,
         "type": "scatter",
         "x": [
          "Nicaragua"
         ],
         "xaxis": "x6",
         "y": [
          0.18
         ],
         "yaxis": "y6"
        },
        {
         "hovertemplate": "Country=%{x}<br>Decade=2010<br>Women (%)=%{y}<br>Population (thousands)=%{marker.size}<extra></extra>",
         "legendgroup": "Nicaragua",
         "marker": {
          "color": "#19d3f3",
          "size": [
           5824.058
          ],
          "sizemode": "area",
          "sizeref": 3085.7029075,
          "symbol": "circle"
         },
         "mode": "markers",
         "name": "Nicaragua",
         "orientation": "v",
         "showlegend": false,
         "type": "scatter",
         "x": [
          "Nicaragua"
         ],
         "xaxis": "x",
         "y": [
          0.42333333333333334
         ],
         "yaxis": "y"
        },
        {
         "hovertemplate": "Country=%{x}<br>Decade=1950<br>Women (%)=%{y}<br>Population (thousands)=%{marker.size}<extra></extra>",
         "legendgroup": "Niger",
         "marker": {
          "color": "#FF6692",
          "size": [
           2559.706
          ],
          "sizemode": "area",
          "sizeref": 3085.7029075,
          "symbol": "circle"
         },
         "mode": "markers",
         "name": "Niger",
         "orientation": "v",
         "showlegend": true,
         "type": "scatter",
         "x": [
          "Niger"
         ],
         "xaxis": "x7",
         "y": [
          0
         ],
         "yaxis": "y7"
        },
        {
         "hovertemplate": "Country=%{x}<br>Decade=1960<br>Women (%)=%{y}<br>Population (thousands)=%{marker.size}<extra></extra>",
         "legendgroup": "Niger",
         "marker": {
          "color": "#FF6692",
          "size": [
           3388.774
          ],
          "sizemode": "area",
          "sizeref": 3085.7029075,
          "symbol": "circle"
         },
         "mode": "markers",
         "name": "Niger",
         "orientation": "v",
         "showlegend": false,
         "type": "scatter",
         "x": [
          "Niger"
         ],
         "xaxis": "x8",
         "y": [
          0
         ],
         "yaxis": "y8"
        },
        {
         "hovertemplate": "Country=%{x}<br>Decade=1970<br>Women (%)=%{y}<br>Population (thousands)=%{marker.size}<extra></extra>",
         "legendgroup": "Niger",
         "marker": {
          "color": "#FF6692",
          "size": [
           4510.645
          ],
          "sizemode": "area",
          "sizeref": 3085.7029075,
          "symbol": "circle"
         },
         "mode": "markers",
         "name": "Niger",
         "orientation": "v",
         "showlegend": false,
         "type": "scatter",
         "x": [
          "Niger"
         ],
         "xaxis": "x9",
         "y": [
          0
         ],
         "yaxis": "y9"
        },
        {
         "hovertemplate": "Country=%{x}<br>Decade=1980<br>Women (%)=%{y}<br>Population (thousands)=%{marker.size}<extra></extra>",
         "legendgroup": "Niger",
         "marker": {
          "color": "#FF6692",
          "size": [
           5989
          ],
          "sizemode": "area",
          "sizeref": 3085.7029075,
          "symbol": "circle"
         },
         "mode": "markers",
         "name": "Niger",
         "orientation": "v",
         "showlegend": false,
         "type": "scatter",
         "x": [
          "Niger"
         ],
         "xaxis": "x4",
         "y": [
          0.05
         ],
         "yaxis": "y4"
        },
        {
         "hovertemplate": "Country=%{x}<br>Decade=1990<br>Women (%)=%{y}<br>Population (thousands)=%{marker.size}<extra></extra>",
         "legendgroup": "Niger",
         "marker": {
          "color": "#FF6692",
          "size": [
           8026.592
          ],
          "sizemode": "area",
          "sizeref": 3085.7029075,
          "symbol": "circle"
         },
         "mode": "markers",
         "name": "Niger",
         "orientation": "v",
         "showlegend": false,
         "type": "scatter",
         "x": [
          "Niger"
         ],
         "xaxis": "x5",
         "y": [
          0.064
         ],
         "yaxis": "y5"
        },
        {
         "hovertemplate": "Country=%{x}<br>Decade=2000<br>Women (%)=%{y}<br>Population (thousands)=%{marker.size}<extra></extra>",
         "legendgroup": "Niger",
         "marker": {
          "color": "#FF6692",
          "size": [
           11331.561
          ],
          "sizemode": "area",
          "sizeref": 3085.7029075,
          "symbol": "circle"
         },
         "mode": "markers",
         "name": "Niger",
         "orientation": "v",
         "showlegend": false,
         "type": "scatter",
         "x": [
          "Niger"
         ],
         "xaxis": "x6",
         "y": [
          0.11
         ],
         "yaxis": "y6"
        },
        {
         "hovertemplate": "Country=%{x}<br>Decade=2010<br>Women (%)=%{y}<br>Population (thousands)=%{marker.size}<extra></extra>",
         "legendgroup": "Niger",
         "marker": {
          "color": "#FF6692",
          "size": [
           16464.025
          ],
          "sizemode": "area",
          "sizeref": 3085.7029075,
          "symbol": "circle"
         },
         "mode": "markers",
         "name": "Niger",
         "orientation": "v",
         "showlegend": false,
         "type": "scatter",
         "x": [
          "Niger"
         ],
         "xaxis": "x",
         "y": [
          0.1366666666666667
         ],
         "yaxis": "y"
        },
        {
         "hovertemplate": "Country=%{x}<br>Decade=1950<br>Women (%)=%{y}<br>Population (thousands)=%{marker.size}<extra></extra>",
         "legendgroup": "Australia",
         "marker": {
          "color": "#B6E880",
          "size": [
           8177.348
          ],
          "sizemode": "area",
          "sizeref": 3085.7029075,
          "symbol": "circle"
         },
         "mode": "markers",
         "name": "Australia",
         "orientation": "v",
         "showlegend": true,
         "type": "scatter",
         "x": [
          "Australia"
         ],
         "xaxis": "x7",
         "y": [
          0
         ],
         "yaxis": "y7"
        },
        {
         "hovertemplate": "Country=%{x}<br>Decade=1960<br>Women (%)=%{y}<br>Population (thousands)=%{marker.size}<extra></extra>",
         "legendgroup": "Australia",
         "marker": {
          "color": "#B6E880",
          "size": [
           10242.07
          ],
          "sizemode": "area",
          "sizeref": 3085.7029075,
          "symbol": "circle"
         },
         "mode": "markers",
         "name": "Australia",
         "orientation": "v",
         "showlegend": false,
         "type": "scatter",
         "x": [
          "Australia"
         ],
         "xaxis": "x8",
         "y": [
          0.0025
         ],
         "yaxis": "y8"
        },
        {
         "hovertemplate": "Country=%{x}<br>Decade=1970<br>Women (%)=%{y}<br>Population (thousands)=%{marker.size}<extra></extra>",
         "legendgroup": "Australia",
         "marker": {
          "color": "#B6E880",
          "size": [
           12793.03
          ],
          "sizemode": "area",
          "sizeref": 3085.7029075,
          "symbol": "circle"
         },
         "mode": "markers",
         "name": "Australia",
         "orientation": "v",
         "showlegend": false,
         "type": "scatter",
         "x": [
          "Australia"
         ],
         "xaxis": "x9",
         "y": [
          0.0025
         ],
         "yaxis": "y9"
        },
        {
         "hovertemplate": "Country=%{x}<br>Decade=1980<br>Women (%)=%{y}<br>Population (thousands)=%{marker.size}<extra></extra>",
         "legendgroup": "Australia",
         "marker": {
          "color": "#B6E880",
          "size": [
           14588.4
          ],
          "sizemode": "area",
          "sizeref": 3085.7029075,
          "symbol": "circle"
         },
         "mode": "markers",
         "name": "Australia",
         "orientation": "v",
         "showlegend": false,
         "type": "scatter",
         "x": [
          "Australia"
         ],
         "xaxis": "x4",
         "y": [
          0.045
         ],
         "yaxis": "y4"
        },
        {
         "hovertemplate": "Country=%{x}<br>Decade=1990<br>Women (%)=%{y}<br>Population (thousands)=%{marker.size}<extra></extra>",
         "legendgroup": "Australia",
         "marker": {
          "color": "#B6E880",
          "size": [
           16960.6
          ],
          "sizemode": "area",
          "sizeref": 3085.7029075,
          "symbol": "circle"
         },
         "mode": "markers",
         "name": "Australia",
         "orientation": "v",
         "showlegend": false,
         "type": "scatter",
         "x": [
          "Australia"
         ],
         "xaxis": "x5",
         "y": [
          0.135
         ],
         "yaxis": "y5"
        },
        {
         "hovertemplate": "Country=%{x}<br>Decade=2000<br>Women (%)=%{y}<br>Population (thousands)=%{marker.size}<extra></extra>",
         "legendgroup": "Australia",
         "marker": {
          "color": "#B6E880",
          "size": [
           18991.434
          ],
          "sizemode": "area",
          "sizeref": 3085.7029075,
          "symbol": "circle"
         },
         "mode": "markers",
         "name": "Australia",
         "orientation": "v",
         "showlegend": false,
         "type": "scatter",
         "x": [
          "Australia"
         ],
         "xaxis": "x6",
         "y": [
          0.25666666666666665
         ],
         "yaxis": "y6"
        },
        {
         "hovertemplate": "Country=%{x}<br>Decade=2010<br>Women (%)=%{y}<br>Population (thousands)=%{marker.size}<extra></extra>",
         "legendgroup": "Australia",
         "marker": {
          "color": "#B6E880",
          "size": [
           22154.687
          ],
          "sizemode": "area",
          "sizeref": 3085.7029075,
          "symbol": "circle"
         },
         "mode": "markers",
         "name": "Australia",
         "orientation": "v",
         "showlegend": false,
         "type": "scatter",
         "x": [
          "Australia"
         ],
         "xaxis": "x",
         "y": [
          0.265
         ],
         "yaxis": "y"
        },
        {
         "hovertemplate": "Country=%{x}<br>Decade=1950<br>Women (%)=%{y}<br>Population (thousands)=%{marker.size}<extra></extra>",
         "legendgroup": "Netherlands",
         "marker": {
          "color": "#FF97FF",
          "size": [
           10042.051
          ],
          "sizemode": "area",
          "sizeref": 3085.7029075,
          "symbol": "circle"
         },
         "mode": "markers",
         "name": "Netherlands",
         "orientation": "v",
         "showlegend": true,
         "type": "scatter",
         "x": [
          "Netherlands"
         ],
         "xaxis": "x7",
         "y": [
          0.08499999999999999
         ],
         "yaxis": "y7"
        },
        {
         "hovertemplate": "Country=%{x}<br>Decade=1960<br>Women (%)=%{y}<br>Population (thousands)=%{marker.size}<extra></extra>",
         "legendgroup": "Netherlands",
         "marker": {
          "color": "#FF97FF",
          "size": [
           11448.815
          ],
          "sizemode": "area",
          "sizeref": 3085.7029075,
          "symbol": "circle"
         },
         "mode": "markers",
         "name": "Netherlands",
         "orientation": "v",
         "showlegend": false,
         "type": "scatter",
         "x": [
          "Netherlands"
         ],
         "xaxis": "x8",
         "y": [
          0.09
         ],
         "yaxis": "y8"
        },
        {
         "hovertemplate": "Country=%{x}<br>Decade=1970<br>Women (%)=%{y}<br>Population (thousands)=%{marker.size}<extra></extra>",
         "legendgroup": "Netherlands",
         "marker": {
          "color": "#FF97FF",
          "size": [
           13001.941
          ],
          "sizemode": "area",
          "sizeref": 3085.7029075,
          "symbol": "circle"
         },
         "mode": "markers",
         "name": "Netherlands",
         "orientation": "v",
         "showlegend": false,
         "type": "scatter",
         "x": [
          "Netherlands"
         ],
         "xaxis": "x9",
         "y": [
          0.1
         ],
         "yaxis": "y9"
        },
        {
         "hovertemplate": "Country=%{x}<br>Decade=1980<br>Women (%)=%{y}<br>Population (thousands)=%{marker.size}<extra></extra>",
         "legendgroup": "Netherlands",
         "marker": {
          "color": "#FF97FF",
          "size": [
           14148.41
          ],
          "sizemode": "area",
          "sizeref": 3085.7029075,
          "symbol": "circle"
         },
         "mode": "markers",
         "name": "Netherlands",
         "orientation": "v",
         "showlegend": false,
         "type": "scatter",
         "x": [
          "Netherlands"
         ],
         "xaxis": "x4",
         "y": [
          0.17333333333333334
         ],
         "yaxis": "y4"
        },
        {
         "hovertemplate": "Country=%{x}<br>Decade=1990<br>Women (%)=%{y}<br>Population (thousands)=%{marker.size}<extra></extra>",
         "legendgroup": "Netherlands",
         "marker": {
          "color": "#FF97FF",
          "size": [
           14965.442
          ],
          "sizemode": "area",
          "sizeref": 3085.7029075,
          "symbol": "circle"
         },
         "mode": "markers",
         "name": "Netherlands",
         "orientation": "v",
         "showlegend": false,
         "type": "scatter",
         "x": [
          "Netherlands"
         ],
         "xaxis": "x5",
         "y": [
          0.345
         ],
         "yaxis": "y5"
        },
        {
         "hovertemplate": "Country=%{x}<br>Decade=2000<br>Women (%)=%{y}<br>Population (thousands)=%{marker.size}<extra></extra>",
         "legendgroup": "Netherlands",
         "marker": {
          "color": "#FF97FF",
          "size": [
           15926.188
          ],
          "sizemode": "area",
          "sizeref": 3085.7029075,
          "symbol": "circle"
         },
         "mode": "markers",
         "name": "Netherlands",
         "orientation": "v",
         "showlegend": false,
         "type": "scatter",
         "x": [
          "Netherlands"
         ],
         "xaxis": "x6",
         "y": [
          0.36000000000000004
         ],
         "yaxis": "y6"
        },
        {
         "hovertemplate": "Country=%{x}<br>Decade=2010<br>Women (%)=%{y}<br>Population (thousands)=%{marker.size}<extra></extra>",
         "legendgroup": "Netherlands",
         "marker": {
          "color": "#FF97FF",
          "size": [
           16682.927
          ],
          "sizemode": "area",
          "sizeref": 3085.7029075,
          "symbol": "circle"
         },
         "mode": "markers",
         "name": "Netherlands",
         "orientation": "v",
         "showlegend": false,
         "type": "scatter",
         "x": [
          "Netherlands"
         ],
         "xaxis": "x",
         "y": [
          0.38666666666666666
         ],
         "yaxis": "y"
        },
        {
         "hovertemplate": "Country=%{x}<br>Decade=1950<br>Women (%)=%{y}<br>Population (thousands)=%{marker.size}<extra></extra>",
         "legendgroup": "Lebanon",
         "marker": {
          "color": "#FECB52",
          "size": [
           1334.617
          ],
          "sizemode": "area",
          "sizeref": 3085.7029075,
          "symbol": "circle"
         },
         "mode": "markers",
         "name": "Lebanon",
         "orientation": "v",
         "showlegend": true,
         "type": "scatter",
         "x": [
          "Lebanon"
         ],
         "xaxis": "x7",
         "y": [
          0
         ],
         "yaxis": "y7"
        },
        {
         "hovertemplate": "Country=%{x}<br>Decade=1960<br>Women (%)=%{y}<br>Population (thousands)=%{marker.size}<extra></extra>",
         "legendgroup": "Lebanon",
         "marker": {
          "color": "#FECB52",
          "size": [
           1804.935
          ],
          "sizemode": "area",
          "sizeref": 3085.7029075,
          "symbol": "circle"
         },
         "mode": "markers",
         "name": "Lebanon",
         "orientation": "v",
         "showlegend": false,
         "type": "scatter",
         "x": [
          "Lebanon"
         ],
         "xaxis": "x8",
         "y": [
          0
         ],
         "yaxis": "y8"
        },
        {
         "hovertemplate": "Country=%{x}<br>Decade=1970<br>Women (%)=%{y}<br>Population (thousands)=%{marker.size}<extra></extra>",
         "legendgroup": "Lebanon",
         "marker": {
          "color": "#FECB52",
          "size": [
           2297.436
          ],
          "sizemode": "area",
          "sizeref": 3085.7029075,
          "symbol": "circle"
         },
         "mode": "markers",
         "name": "Lebanon",
         "orientation": "v",
         "showlegend": false,
         "type": "scatter",
         "x": [
          "Lebanon"
         ],
         "xaxis": "x9",
         "y": [
          0
         ],
         "yaxis": "y9"
        },
        {
         "hovertemplate": "Country=%{x}<br>Decade=1990<br>Women (%)=%{y}<br>Population (thousands)=%{marker.size}<extra></extra>",
         "legendgroup": "Lebanon",
         "marker": {
          "color": "#FECB52",
          "size": [
           2803.032
          ],
          "sizemode": "area",
          "sizeref": 3085.7029075,
          "symbol": "circle"
         },
         "mode": "markers",
         "name": "Lebanon",
         "orientation": "v",
         "showlegend": false,
         "type": "scatter",
         "x": [
          "Lebanon"
         ],
         "xaxis": "x5",
         "y": [
          0.02
         ],
         "yaxis": "y5"
        },
        {
         "hovertemplate": "Country=%{x}<br>Decade=2000<br>Women (%)=%{y}<br>Population (thousands)=%{marker.size}<extra></extra>",
         "legendgroup": "Lebanon",
         "marker": {
          "color": "#FECB52",
          "size": [
           3842.774
          ],
          "sizemode": "area",
          "sizeref": 3085.7029075,
          "symbol": "circle"
         },
         "mode": "markers",
         "name": "Lebanon",
         "orientation": "v",
         "showlegend": false,
         "type": "scatter",
         "x": [
          "Lebanon"
         ],
         "xaxis": "x6",
         "y": [
          0.03333333333333333
         ],
         "yaxis": "y6"
        },
        {
         "hovertemplate": "Country=%{x}<br>Decade=2010<br>Women (%)=%{y}<br>Population (thousands)=%{marker.size}<extra></extra>",
         "legendgroup": "Lebanon",
         "marker": {
          "color": "#FECB52",
          "size": [
           4953.064
          ],
          "sizemode": "area",
          "sizeref": 3085.7029075,
          "symbol": "circle"
         },
         "mode": "markers",
         "name": "Lebanon",
         "orientation": "v",
         "showlegend": false,
         "type": "scatter",
         "x": [
          "Lebanon"
         ],
         "xaxis": "x",
         "y": [
          0.05
         ],
         "yaxis": "y"
        },
        {
         "hovertemplate": "Country=%{x}<br>Decade=1950<br>Women (%)=%{y}<br>Population (thousands)=%{marker.size}<extra></extra>",
         "legendgroup": "Greece",
         "marker": {
          "color": "#636efa",
          "size": [
           7668.792
          ],
          "sizemode": "area",
          "sizeref": 3085.7029075,
          "symbol": "circle"
         },
         "mode": "markers",
         "name": "Greece",
         "orientation": "v",
         "showlegend": true,
         "type": "scatter",
         "x": [
          "Greece"
         ],
         "xaxis": "x7",
         "y": [
          0.004
         ],
         "yaxis": "y7"
        },
        {
         "hovertemplate": "Country=%{x}<br>Decade=1960<br>Women (%)=%{y}<br>Population (thousands)=%{marker.size}<extra></extra>",
         "legendgroup": "Greece",
         "marker": {
          "color": "#636efa",
          "size": [
           8273.628
          ],
          "sizemode": "area",
          "sizeref": 3085.7029075,
          "symbol": "circle"
         },
         "mode": "markers",
         "name": "Greece",
         "orientation": "v",
         "showlegend": false,
         "type": "scatter",
         "x": [
          "Greece"
         ],
         "xaxis": "x8",
         "y": [
          0.006666666666666667
         ],
         "yaxis": "y8"
        },
        {
         "hovertemplate": "Country=%{x}<br>Decade=1970<br>Women (%)=%{y}<br>Population (thousands)=%{marker.size}<extra></extra>",
         "legendgroup": "Greece",
         "marker": {
          "color": "#636efa",
          "size": [
           8663.568
          ],
          "sizemode": "area",
          "sizeref": 3085.7029075,
          "symbol": "circle"
         },
         "mode": "markers",
         "name": "Greece",
         "orientation": "v",
         "showlegend": false,
         "type": "scatter",
         "x": [
          "Greece"
         ],
         "xaxis": "x9",
         "y": [
          0.025
         ],
         "yaxis": "y9"
        },
        {
         "hovertemplate": "Country=%{x}<br>Decade=1980<br>Women (%)=%{y}<br>Population (thousands)=%{marker.size}<extra></extra>",
         "legendgroup": "Greece",
         "marker": {
          "color": "#636efa",
          "size": [
           9627.004
          ],
          "sizemode": "area",
          "sizeref": 3085.7029075,
          "symbol": "circle"
         },
         "mode": "markers",
         "name": "Greece",
         "orientation": "v",
         "showlegend": false,
         "type": "scatter",
         "x": [
          "Greece"
         ],
         "xaxis": "x4",
         "y": [
          0.0475
         ],
         "yaxis": "y4"
        },
        {
         "hovertemplate": "Country=%{x}<br>Decade=1990<br>Women (%)=%{y}<br>Population (thousands)=%{marker.size}<extra></extra>",
         "legendgroup": "Greece",
         "marker": {
          "color": "#636efa",
          "size": [
           10225.99
          ],
          "sizemode": "area",
          "sizeref": 3085.7029075,
          "symbol": "circle"
         },
         "mode": "markers",
         "name": "Greece",
         "orientation": "v",
         "showlegend": false,
         "type": "scatter",
         "x": [
          "Greece"
         ],
         "xaxis": "x5",
         "y": [
          0.056666666666666664
         ],
         "yaxis": "y5"
        },
        {
         "hovertemplate": "Country=%{x}<br>Decade=2000<br>Women (%)=%{y}<br>Population (thousands)=%{marker.size}<extra></extra>",
         "legendgroup": "Greece",
         "marker": {
          "color": "#636efa",
          "size": [
           11082.103
          ],
          "sizemode": "area",
          "sizeref": 3085.7029075,
          "symbol": "circle"
         },
         "mode": "markers",
         "name": "Greece",
         "orientation": "v",
         "showlegend": false,
         "type": "scatter",
         "x": [
          "Greece"
         ],
         "xaxis": "x6",
         "y": [
          0.142
         ],
         "yaxis": "y6"
        },
        {
         "hovertemplate": "Country=%{x}<br>Decade=2010<br>Women (%)=%{y}<br>Population (thousands)=%{marker.size}<extra></extra>",
         "legendgroup": "Greece",
         "marker": {
          "color": "#636efa",
          "size": [
           10887.64
          ],
          "sizemode": "area",
          "sizeref": 3085.7029075,
          "symbol": "circle"
         },
         "mode": "markers",
         "name": "Greece",
         "orientation": "v",
         "showlegend": false,
         "type": "scatter",
         "x": [
          "Greece"
         ],
         "xaxis": "x",
         "y": [
          0.22
         ],
         "yaxis": "y"
        },
        {
         "hovertemplate": "Country=%{x}<br>Decade=1950<br>Women (%)=%{y}<br>Population (thousands)=%{marker.size}<extra></extra>",
         "legendgroup": "Cambodia",
         "marker": {
          "color": "#EF553B",
          "size": [
           4432.724
          ],
          "sizemode": "area",
          "sizeref": 3085.7029075,
          "symbol": "circle"
         },
         "mode": "markers",
         "name": "Cambodia",
         "orientation": "v",
         "showlegend": true,
         "type": "scatter",
         "x": [
          "Cambodia"
         ],
         "xaxis": "x7",
         "y": [
          0.01
         ],
         "yaxis": "y7"
        },
        {
         "hovertemplate": "Country=%{x}<br>Decade=1960<br>Women (%)=%{y}<br>Population (thousands)=%{marker.size}<extra></extra>",
         "legendgroup": "Cambodia",
         "marker": {
          "color": "#EF553B",
          "size": [
           5722.372
          ],
          "sizemode": "area",
          "sizeref": 3085.7029075,
          "symbol": "circle"
         },
         "mode": "markers",
         "name": "Cambodia",
         "orientation": "v",
         "showlegend": false,
         "type": "scatter",
         "x": [
          "Cambodia"
         ],
         "xaxis": "x8",
         "y": [
          0
         ],
         "yaxis": "y8"
        },
        {
         "hovertemplate": "Country=%{x}<br>Decade=1970<br>Women (%)=%{y}<br>Population (thousands)=%{marker.size}<extra></extra>",
         "legendgroup": "Cambodia",
         "marker": {
          "color": "#EF553B",
          "size": [
           6996.576
          ],
          "sizemode": "area",
          "sizeref": 3085.7029075,
          "symbol": "circle"
         },
         "mode": "markers",
         "name": "Cambodia",
         "orientation": "v",
         "showlegend": false,
         "type": "scatter",
         "x": [
          "Cambodia"
         ],
         "xaxis": "x9",
         "y": [
          0.105
         ],
         "yaxis": "y9"
        },
        {
         "hovertemplate": "Country=%{x}<br>Decade=1980<br>Women (%)=%{y}<br>Population (thousands)=%{marker.size}<extra></extra>",
         "legendgroup": "Cambodia",
         "marker": {
          "color": "#EF553B",
          "size": [
           6693.759
          ],
          "sizemode": "area",
          "sizeref": 3085.7029075,
          "symbol": "circle"
         },
         "mode": "markers",
         "name": "Cambodia",
         "orientation": "v",
         "showlegend": false,
         "type": "scatter",
         "x": [
          "Cambodia"
         ],
         "xaxis": "x4",
         "y": [
          0.19999999999999998
         ],
         "yaxis": "y4"
        },
        {
         "hovertemplate": "Country=%{x}<br>Decade=1990<br>Women (%)=%{y}<br>Population (thousands)=%{marker.size}<extra></extra>",
         "legendgroup": "Cambodia",
         "marker": {
          "color": "#EF553B",
          "size": [
           8975.597
          ],
          "sizemode": "area",
          "sizeref": 3085.7029075,
          "symbol": "circle"
         },
         "mode": "markers",
         "name": "Cambodia",
         "orientation": "v",
         "showlegend": false,
         "type": "scatter",
         "x": [
          "Cambodia"
         ],
         "xaxis": "x5",
         "y": [
          0.07
         ],
         "yaxis": "y5"
        },
        {
         "hovertemplate": "Country=%{x}<br>Decade=2000<br>Women (%)=%{y}<br>Population (thousands)=%{marker.size}<extra></extra>",
         "legendgroup": "Cambodia",
         "marker": {
          "color": "#EF553B",
          "size": [
           12155.241
          ],
          "sizemode": "area",
          "sizeref": 3085.7029075,
          "symbol": "circle"
         },
         "mode": "markers",
         "name": "Cambodia",
         "orientation": "v",
         "showlegend": false,
         "type": "scatter",
         "x": [
          "Cambodia"
         ],
         "xaxis": "x6",
         "y": [
          0.13
         ],
         "yaxis": "y6"
        },
        {
         "hovertemplate": "Country=%{x}<br>Decade=2010<br>Women (%)=%{y}<br>Population (thousands)=%{marker.size}<extra></extra>",
         "legendgroup": "Cambodia",
         "marker": {
          "color": "#EF553B",
          "size": [
           14312.205
          ],
          "sizemode": "area",
          "sizeref": 3085.7029075,
          "symbol": "circle"
         },
         "mode": "markers",
         "name": "Cambodia",
         "orientation": "v",
         "showlegend": false,
         "type": "scatter",
         "x": [
          "Cambodia"
         ],
         "xaxis": "x",
         "y": [
          0.175
         ],
         "yaxis": "y"
        },
        {
         "hovertemplate": "Country=%{x}<br>Decade=1950<br>Women (%)=%{y}<br>Population (thousands)=%{marker.size}<extra></extra>",
         "legendgroup": "Guatemala",
         "marker": {
          "color": "#00cc96",
          "size": [
           3114.956
          ],
          "sizemode": "area",
          "sizeref": 3085.7029075,
          "symbol": "circle"
         },
         "mode": "markers",
         "name": "Guatemala",
         "orientation": "v",
         "showlegend": true,
         "type": "scatter",
         "x": [
          "Guatemala"
         ],
         "xaxis": "x7",
         "y": [
          0.006666666666666667
         ],
         "yaxis": "y7"
        },
        {
         "hovertemplate": "Country=%{x}<br>Decade=1960<br>Women (%)=%{y}<br>Population (thousands)=%{marker.size}<extra></extra>",
         "legendgroup": "Guatemala",
         "marker": {
          "color": "#00cc96",
          "size": [
           4210.751
          ],
          "sizemode": "area",
          "sizeref": 3085.7029075,
          "symbol": "circle"
         },
         "mode": "markers",
         "name": "Guatemala",
         "orientation": "v",
         "showlegend": false,
         "type": "scatter",
         "x": [
          "Guatemala"
         ],
         "xaxis": "x8",
         "y": [
          0.01
         ],
         "yaxis": "y8"
        },
        {
         "hovertemplate": "Country=%{x}<br>Decade=1970<br>Women (%)=%{y}<br>Population (thousands)=%{marker.size}<extra></extra>",
         "legendgroup": "Guatemala",
         "marker": {
          "color": "#00cc96",
          "size": [
           5621.794
          ],
          "sizemode": "area",
          "sizeref": 3085.7029075,
          "symbol": "circle"
         },
         "mode": "markers",
         "name": "Guatemala",
         "orientation": "v",
         "showlegend": false,
         "type": "scatter",
         "x": [
          "Guatemala"
         ],
         "xaxis": "x9",
         "y": [
          0.03
         ],
         "yaxis": "y9"
        },
        {
         "hovertemplate": "Country=%{x}<br>Decade=1980<br>Women (%)=%{y}<br>Population (thousands)=%{marker.size}<extra></extra>",
         "legendgroup": "Guatemala",
         "marker": {
          "color": "#00cc96",
          "size": [
           7283.456
          ],
          "sizemode": "area",
          "sizeref": 3085.7029075,
          "symbol": "circle"
         },
         "mode": "markers",
         "name": "Guatemala",
         "orientation": "v",
         "showlegend": false,
         "type": "scatter",
         "x": [
          "Guatemala"
         ],
         "xaxis": "x4",
         "y": [
          0.03333333333333333
         ],
         "yaxis": "y4"
        },
        {
         "hovertemplate": "Country=%{x}<br>Decade=1990<br>Women (%)=%{y}<br>Population (thousands)=%{marker.size}<extra></extra>",
         "legendgroup": "Guatemala",
         "marker": {
          "color": "#00cc96",
          "size": [
           9263.82
          ],
          "sizemode": "area",
          "sizeref": 3085.7029075,
          "symbol": "circle"
         },
         "mode": "markers",
         "name": "Guatemala",
         "orientation": "v",
         "showlegend": false,
         "type": "scatter",
         "x": [
          "Guatemala"
         ],
         "xaxis": "x5",
         "y": [
          0.08
         ],
         "yaxis": "y5"
        },
        {
         "hovertemplate": "Country=%{x}<br>Decade=2000<br>Women (%)=%{y}<br>Population (thousands)=%{marker.size}<extra></extra>",
         "legendgroup": "Guatemala",
         "marker": {
          "color": "#00cc96",
          "size": [
           11650.744
          ],
          "sizemode": "area",
          "sizeref": 3085.7029075,
          "symbol": "circle"
         },
         "mode": "markers",
         "name": "Guatemala",
         "orientation": "v",
         "showlegend": false,
         "type": "scatter",
         "x": [
          "Guatemala"
         ],
         "xaxis": "x6",
         "y": [
          0.1
         ],
         "yaxis": "y6"
        },
        {
         "hovertemplate": "Country=%{x}<br>Decade=2010<br>Women (%)=%{y}<br>Population (thousands)=%{marker.size}<extra></extra>",
         "legendgroup": "Guatemala",
         "marker": {
          "color": "#00cc96",
          "size": [
           14630.42
          ],
          "sizemode": "area",
          "sizeref": 3085.7029075,
          "symbol": "circle"
         },
         "mode": "markers",
         "name": "Guatemala",
         "orientation": "v",
         "showlegend": false,
         "type": "scatter",
         "x": [
          "Guatemala"
         ],
         "xaxis": "x",
         "y": [
          0.135
         ],
         "yaxis": "y"
        },
        {
         "hovertemplate": "Country=%{x}<br>Decade=1950<br>Women (%)=%{y}<br>Population (thousands)=%{marker.size}<extra></extra>",
         "legendgroup": "South Africa",
         "marker": {
          "color": "#ab63fa",
          "size": [
           13628.434
          ],
          "sizemode": "area",
          "sizeref": 3085.7029075,
          "symbol": "circle"
         },
         "mode": "markers",
         "name": "South Africa",
         "orientation": "v",
         "showlegend": true,
         "type": "scatter",
         "x": [
          "South Africa"
         ],
         "xaxis": "x7",
         "y": [
          0.015
         ],
         "yaxis": "y7"
        },
        {
         "hovertemplate": "Country=%{x}<br>Decade=1960<br>Women (%)=%{y}<br>Population (thousands)=%{marker.size}<extra></extra>",
         "legendgroup": "South Africa",
         "marker": {
          "color": "#ab63fa",
          "size": [
           17099.836
          ],
          "sizemode": "area",
          "sizeref": 3085.7029075,
          "symbol": "circle"
         },
         "mode": "markers",
         "name": "South Africa",
         "orientation": "v",
         "showlegend": false,
         "type": "scatter",
         "x": [
          "South Africa"
         ],
         "xaxis": "x8",
         "y": [
          0.015
         ],
         "yaxis": "y8"
        },
        {
         "hovertemplate": "Country=%{x}<br>Decade=1970<br>Women (%)=%{y}<br>Population (thousands)=%{marker.size}<extra></extra>",
         "legendgroup": "South Africa",
         "marker": {
          "color": "#ab63fa",
          "size": [
           22069.783
          ],
          "sizemode": "area",
          "sizeref": 3085.7029075,
          "symbol": "circle"
         },
         "mode": "markers",
         "name": "South Africa",
         "orientation": "v",
         "showlegend": false,
         "type": "scatter",
         "x": [
          "South Africa"
         ],
         "xaxis": "x9",
         "y": [
          0.01
         ],
         "yaxis": "y9"
        },
        {
         "hovertemplate": "Country=%{x}<br>Decade=1980<br>Women (%)=%{y}<br>Population (thousands)=%{marker.size}<extra></extra>",
         "legendgroup": "South Africa",
         "marker": {
          "color": "#ab63fa",
          "size": [
           28556.771
          ],
          "sizemode": "area",
          "sizeref": 3085.7029075,
          "symbol": "circle"
         },
         "mode": "markers",
         "name": "South Africa",
         "orientation": "v",
         "showlegend": false,
         "type": "scatter",
         "x": [
          "South Africa"
         ],
         "xaxis": "x4",
         "y": [
          0.016666666666666666
         ],
         "yaxis": "y4"
        },
        {
         "hovertemplate": "Country=%{x}<br>Decade=1990<br>Women (%)=%{y}<br>Population (thousands)=%{marker.size}<extra></extra>",
         "legendgroup": "South Africa",
         "marker": {
          "color": "#ab63fa",
          "size": [
           36800.507
          ],
          "sizemode": "area",
          "sizeref": 3085.7029075,
          "symbol": "circle"
         },
         "mode": "markers",
         "name": "South Africa",
         "orientation": "v",
         "showlegend": false,
         "type": "scatter",
         "x": [
          "South Africa"
         ],
         "xaxis": "x5",
         "y": [
          0.275
         ],
         "yaxis": "y5"
        },
        {
         "hovertemplate": "Country=%{x}<br>Decade=2000<br>Women (%)=%{y}<br>Population (thousands)=%{marker.size}<extra></extra>",
         "legendgroup": "South Africa",
         "marker": {
          "color": "#ab63fa",
          "size": [
           44967.713
          ],
          "sizemode": "area",
          "sizeref": 3085.7029075,
          "symbol": "circle"
         },
         "mode": "markers",
         "name": "South Africa",
         "orientation": "v",
         "showlegend": false,
         "type": "scatter",
         "x": [
          "South Africa"
         ],
         "xaxis": "x6",
         "y": [
          0.3775
         ],
         "yaxis": "y6"
        },
        {
         "hovertemplate": "Country=%{x}<br>Decade=2010<br>Women (%)=%{y}<br>Population (thousands)=%{marker.size}<extra></extra>",
         "legendgroup": "South Africa",
         "marker": {
          "color": "#ab63fa",
          "size": [
           51216.967
          ],
          "sizemode": "area",
          "sizeref": 3085.7029075,
          "symbol": "circle"
         },
         "mode": "markers",
         "name": "South Africa",
         "orientation": "v",
         "showlegend": false,
         "type": "scatter",
         "x": [
          "South Africa"
         ],
         "xaxis": "x",
         "y": [
          0.415
         ],
         "yaxis": "y"
        },
        {
         "hovertemplate": "Country=%{x}<br>Decade=1950<br>Women (%)=%{y}<br>Population (thousands)=%{marker.size}<extra></extra>",
         "legendgroup": "Spain",
         "marker": {
          "color": "#FFA15A",
          "size": [
           28069.734
          ],
          "sizemode": "area",
          "sizeref": 3085.7029075,
          "symbol": "circle"
         },
         "mode": "markers",
         "name": "Spain",
         "orientation": "v",
         "showlegend": true,
         "type": "scatter",
         "x": [
          "Spain"
         ],
         "xaxis": "x7",
         "y": [
          0
         ],
         "yaxis": "y7"
        },
        {
         "hovertemplate": "Country=%{x}<br>Decade=1960<br>Women (%)=%{y}<br>Population (thousands)=%{marker.size}<extra></extra>",
         "legendgroup": "Spain",
         "marker": {
          "color": "#FFA15A",
          "size": [
           30402.413
          ],
          "sizemode": "area",
          "sizeref": 3085.7029075,
          "symbol": "circle"
         },
         "mode": "markers",
         "name": "Spain",
         "orientation": "v",
         "showlegend": false,
         "type": "scatter",
         "x": [
          "Spain"
         ],
         "xaxis": "x8",
         "y": [
          0.006666666666666667
         ],
         "yaxis": "y8"
        },
        {
         "hovertemplate": "Country=%{x}<br>Decade=1970<br>Women (%)=%{y}<br>Population (thousands)=%{marker.size}<extra></extra>",
         "legendgroup": "Spain",
         "marker": {
          "color": "#FFA15A",
          "size": [
           33883.749
          ],
          "sizemode": "area",
          "sizeref": 3085.7029075,
          "symbol": "circle"
         },
         "mode": "markers",
         "name": "Spain",
         "orientation": "v",
         "showlegend": false,
         "type": "scatter",
         "x": [
          "Spain"
         ],
         "xaxis": "x9",
         "y": [
          0.04666666666666667
         ],
         "yaxis": "y9"
        },
        {
         "hovertemplate": "Country=%{x}<br>Decade=1980<br>Women (%)=%{y}<br>Population (thousands)=%{marker.size}<extra></extra>",
         "legendgroup": "Spain",
         "marker": {
          "color": "#FFA15A",
          "size": [
           37698.2
          ],
          "sizemode": "area",
          "sizeref": 3085.7029075,
          "symbol": "circle"
         },
         "mode": "markers",
         "name": "Spain",
         "orientation": "v",
         "showlegend": false,
         "type": "scatter",
         "x": [
          "Spain"
         ],
         "xaxis": "x4",
         "y": [
          0.09999999999999999
         ],
         "yaxis": "y4"
        },
        {
         "hovertemplate": "Country=%{x}<br>Decade=1990<br>Women (%)=%{y}<br>Population (thousands)=%{marker.size}<extra></extra>",
         "legendgroup": "Spain",
         "marker": {
          "color": "#FFA15A",
          "size": [
           39202.524
          ],
          "sizemode": "area",
          "sizeref": 3085.7029075,
          "symbol": "circle"
         },
         "mode": "markers",
         "name": "Spain",
         "orientation": "v",
         "showlegend": false,
         "type": "scatter",
         "x": [
          "Spain"
         ],
         "xaxis": "x5",
         "y": [
          0.185
         ],
         "yaxis": "y5"
        },
        {
         "hovertemplate": "Country=%{x}<br>Decade=2000<br>Women (%)=%{y}<br>Population (thousands)=%{marker.size}<extra></extra>",
         "legendgroup": "Spain",
         "marker": {
          "color": "#FFA15A",
          "size": [
           40824.745
          ],
          "sizemode": "area",
          "sizeref": 3085.7029075,
          "symbol": "circle"
         },
         "mode": "markers",
         "name": "Spain",
         "orientation": "v",
         "showlegend": false,
         "type": "scatter",
         "x": [
          "Spain"
         ],
         "xaxis": "x6",
         "y": [
          0.3333333333333333
         ],
         "yaxis": "y6"
        },
        {
         "hovertemplate": "Country=%{x}<br>Decade=2010<br>Women (%)=%{y}<br>Population (thousands)=%{marker.size}<extra></extra>",
         "legendgroup": "Spain",
         "marker": {
          "color": "#FFA15A",
          "size": [
           46931.011
          ],
          "sizemode": "area",
          "sizeref": 3085.7029075,
          "symbol": "circle"
         },
         "mode": "markers",
         "name": "Spain",
         "orientation": "v",
         "showlegend": false,
         "type": "scatter",
         "x": [
          "Spain"
         ],
         "xaxis": "x",
         "y": [
          0.3833333333333333
         ],
         "yaxis": "y"
        },
        {
         "hovertemplate": "Country=%{x}<br>Decade=1950<br>Women (%)=%{y}<br>Population (thousands)=%{marker.size}<extra></extra>",
         "legendgroup": "Ethiopia",
         "marker": {
          "color": "#19d3f3",
          "size": [
           18128.03
          ],
          "sizemode": "area",
          "sizeref": 3085.7029075,
          "symbol": "circle"
         },
         "mode": "markers",
         "name": "Ethiopia",
         "orientation": "v",
         "showlegend": true,
         "type": "scatter",
         "x": [
          "Ethiopia"
         ],
         "xaxis": "x7",
         "y": [
          0.01
         ],
         "yaxis": "y7"
        },
        {
         "hovertemplate": "Country=%{x}<br>Decade=1960<br>Women (%)=%{y}<br>Population (thousands)=%{marker.size}<extra></extra>",
         "legendgroup": "Ethiopia",
         "marker": {
          "color": "#19d3f3",
          "size": [
           22151.284
          ],
          "sizemode": "area",
          "sizeref": 3085.7029075,
          "symbol": "circle"
         },
         "mode": "markers",
         "name": "Ethiopia",
         "orientation": "v",
         "showlegend": false,
         "type": "scatter",
         "x": [
          "Ethiopia"
         ],
         "xaxis": "x8",
         "y": [
          0.02
         ],
         "yaxis": "y8"
        },
        {
         "hovertemplate": "Country=%{x}<br>Decade=1970<br>Women (%)=%{y}<br>Population (thousands)=%{marker.size}<extra></extra>",
         "legendgroup": "Ethiopia",
         "marker": {
          "color": "#19d3f3",
          "size": [
           28415.08
          ],
          "sizemode": "area",
          "sizeref": 3085.7029075,
          "symbol": "circle"
         },
         "mode": "markers",
         "name": "Ethiopia",
         "orientation": "v",
         "showlegend": false,
         "type": "scatter",
         "x": [
          "Ethiopia"
         ],
         "xaxis": "x9",
         "y": [
          0.02
         ],
         "yaxis": "y9"
        },
        {
         "hovertemplate": "Country=%{x}<br>Decade=1980<br>Women (%)=%{y}<br>Population (thousands)=%{marker.size}<extra></extra>",
         "legendgroup": "Ethiopia",
         "marker": {
          "color": "#19d3f3",
          "size": [
           35141.703
          ],
          "sizemode": "area",
          "sizeref": 3085.7029075,
          "symbol": "circle"
         },
         "mode": "markers",
         "name": "Ethiopia",
         "orientation": "v",
         "showlegend": false,
         "type": "scatter",
         "x": [
          "Ethiopia"
         ],
         "xaxis": "x4",
         "y": [
          0
         ],
         "yaxis": "y4"
        },
        {
         "hovertemplate": "Country=%{x}<br>Decade=1990<br>Women (%)=%{y}<br>Population (thousands)=%{marker.size}<extra></extra>",
         "legendgroup": "Ethiopia",
         "marker": {
          "color": "#19d3f3",
          "size": [
           47887.864
          ],
          "sizemode": "area",
          "sizeref": 3085.7029075,
          "symbol": "circle"
         },
         "mode": "markers",
         "name": "Ethiopia",
         "orientation": "v",
         "showlegend": false,
         "type": "scatter",
         "x": [
          "Ethiopia"
         ],
         "xaxis": "x5",
         "y": [
          0.02
         ],
         "yaxis": "y5"
        },
        {
         "hovertemplate": "Country=%{x}<br>Decade=2000<br>Women (%)=%{y}<br>Population (thousands)=%{marker.size}<extra></extra>",
         "legendgroup": "Ethiopia",
         "marker": {
          "color": "#19d3f3",
          "size": [
           66224.809
          ],
          "sizemode": "area",
          "sizeref": 3085.7029075,
          "symbol": "circle"
         },
         "mode": "markers",
         "name": "Ethiopia",
         "orientation": "v",
         "showlegend": false,
         "type": "scatter",
         "x": [
          "Ethiopia"
         ],
         "xaxis": "x6",
         "y": [
          0.16666666666666666
         ],
         "yaxis": "y6"
        },
        {
         "hovertemplate": "Country=%{x}<br>Decade=2010<br>Women (%)=%{y}<br>Population (thousands)=%{marker.size}<extra></extra>",
         "legendgroup": "Ethiopia",
         "marker": {
          "color": "#19d3f3",
          "size": [
           87639.962
          ],
          "sizemode": "area",
          "sizeref": 3085.7029075,
          "symbol": "circle"
         },
         "mode": "markers",
         "name": "Ethiopia",
         "orientation": "v",
         "showlegend": false,
         "type": "scatter",
         "x": [
          "Ethiopia"
         ],
         "xaxis": "x",
         "y": [
          0.335
         ],
         "yaxis": "y"
        },
        {
         "hovertemplate": "Country=%{x}<br>Decade=1950<br>Women (%)=%{y}<br>Population (thousands)=%{marker.size}<extra></extra>",
         "legendgroup": "Finland",
         "marker": {
          "color": "#FF6692",
          "size": [
           4008.292
          ],
          "sizemode": "area",
          "sizeref": 3085.7029075,
          "symbol": "circle"
         },
         "mode": "markers",
         "name": "Finland",
         "orientation": "v",
         "showlegend": true,
         "type": "scatter",
         "x": [
          "Finland"
         ],
         "xaxis": "x7",
         "y": [
          0.15
         ],
         "yaxis": "y7"
        },
        {
         "hovertemplate": "Country=%{x}<br>Decade=1960<br>Women (%)=%{y}<br>Population (thousands)=%{marker.size}<extra></extra>",
         "legendgroup": "Finland",
         "marker": {
          "color": "#FF6692",
          "size": [
           4434.593
          ],
          "sizemode": "area",
          "sizeref": 3085.7029075,
          "symbol": "circle"
         },
         "mode": "markers",
         "name": "Finland",
         "orientation": "v",
         "showlegend": false,
         "type": "scatter",
         "x": [
          "Finland"
         ],
         "xaxis": "x8",
         "y": [
          0.15000000000000002
         ],
         "yaxis": "y8"
        },
        {
         "hovertemplate": "Country=%{x}<br>Decade=1970<br>Women (%)=%{y}<br>Population (thousands)=%{marker.size}<extra></extra>",
         "legendgroup": "Finland",
         "marker": {
          "color": "#FF6692",
          "size": [
           4612.365
          ],
          "sizemode": "area",
          "sizeref": 3085.7029075,
          "symbol": "circle"
         },
         "mode": "markers",
         "name": "Finland",
         "orientation": "v",
         "showlegend": false,
         "type": "scatter",
         "x": [
          "Finland"
         ],
         "xaxis": "x9",
         "y": [
          0.2175
         ],
         "yaxis": "y9"
        },
        {
         "hovertemplate": "Country=%{x}<br>Decade=1980<br>Women (%)=%{y}<br>Population (thousands)=%{marker.size}<extra></extra>",
         "legendgroup": "Finland",
         "marker": {
          "color": "#FF6692",
          "size": [
           4788.247
          ],
          "sizemode": "area",
          "sizeref": 3085.7029075,
          "symbol": "circle"
         },
         "mode": "markers",
         "name": "Finland",
         "orientation": "v",
         "showlegend": false,
         "type": "scatter",
         "x": [
          "Finland"
         ],
         "xaxis": "x4",
         "y": [
          0.31
         ],
         "yaxis": "y4"
        },
        {
         "hovertemplate": "Country=%{x}<br>Decade=1990<br>Women (%)=%{y}<br>Population (thousands)=%{marker.size}<extra></extra>",
         "legendgroup": "Finland",
         "marker": {
          "color": "#FF6692",
          "size": [
           4996.22
          ],
          "sizemode": "area",
          "sizeref": 3085.7029075,
          "symbol": "circle"
         },
         "mode": "markers",
         "name": "Finland",
         "orientation": "v",
         "showlegend": false,
         "type": "scatter",
         "x": [
          "Finland"
         ],
         "xaxis": "x5",
         "y": [
          0.3666666666666667
         ],
         "yaxis": "y5"
        },
        {
         "hovertemplate": "Country=%{x}<br>Decade=2000<br>Women (%)=%{y}<br>Population (thousands)=%{marker.size}<extra></extra>",
         "legendgroup": "Finland",
         "marker": {
          "color": "#FF6692",
          "size": [
           5187.953
          ],
          "sizemode": "area",
          "sizeref": 3085.7029075,
          "symbol": "circle"
         },
         "mode": "markers",
         "name": "Finland",
         "orientation": "v",
         "showlegend": false,
         "type": "scatter",
         "x": [
          "Finland"
         ],
         "xaxis": "x6",
         "y": [
          0.4066666666666667
         ],
         "yaxis": "y6"
        },
        {
         "hovertemplate": "Country=%{x}<br>Decade=2010<br>Women (%)=%{y}<br>Population (thousands)=%{marker.size}<extra></extra>",
         "legendgroup": "Finland",
         "marker": {
          "color": "#FF6692",
          "size": [
           5365.784
          ],
          "sizemode": "area",
          "sizeref": 3085.7029075,
          "symbol": "circle"
         },
         "mode": "markers",
         "name": "Finland",
         "orientation": "v",
         "showlegend": false,
         "type": "scatter",
         "x": [
          "Finland"
         ],
         "xaxis": "x",
         "y": [
          0.42
         ],
         "yaxis": "y"
        },
        {
         "hovertemplate": "Country=%{x}<br>Decade=1950<br>Women (%)=%{y}<br>Population (thousands)=%{marker.size}<extra></extra>",
         "legendgroup": "France",
         "marker": {
          "color": "#B6E880",
          "size": [
           41833.873
          ],
          "sizemode": "area",
          "sizeref": 3085.7029075,
          "symbol": "circle"
         },
         "mode": "markers",
         "name": "France",
         "orientation": "v",
         "showlegend": true,
         "type": "scatter",
         "x": [
          "France"
         ],
         "xaxis": "x7",
         "y": [
          0.03
         ],
         "yaxis": "y7"
        },
        {
         "hovertemplate": "Country=%{x}<br>Decade=1960<br>Women (%)=%{y}<br>Population (thousands)=%{marker.size}<extra></extra>",
         "legendgroup": "France",
         "marker": {
          "color": "#B6E880",
          "size": [
           45673.147
          ],
          "sizemode": "area",
          "sizeref": 3085.7029075,
          "symbol": "circle"
         },
         "mode": "markers",
         "name": "France",
         "orientation": "v",
         "showlegend": false,
         "type": "scatter",
         "x": [
          "France"
         ],
         "xaxis": "x8",
         "y": [
          0.02
         ],
         "yaxis": "y8"
        },
        {
         "hovertemplate": "Country=%{x}<br>Decade=1970<br>Women (%)=%{y}<br>Population (thousands)=%{marker.size}<extra></extra>",
         "legendgroup": "France",
         "marker": {
          "color": "#B6E880",
          "size": [
           50763.921
          ],
          "sizemode": "area",
          "sizeref": 3085.7029075,
          "symbol": "circle"
         },
         "mode": "markers",
         "name": "France",
         "orientation": "v",
         "showlegend": false,
         "type": "scatter",
         "x": [
          "France"
         ],
         "xaxis": "x9",
         "y": [
          0.035
         ],
         "yaxis": "y9"
        },
        {
         "hovertemplate": "Country=%{x}<br>Decade=1980<br>Women (%)=%{y}<br>Population (thousands)=%{marker.size}<extra></extra>",
         "legendgroup": "France",
         "marker": {
          "color": "#B6E880",
          "size": [
           53868.006
          ],
          "sizemode": "area",
          "sizeref": 3085.7029075,
          "symbol": "circle"
         },
         "mode": "markers",
         "name": "France",
         "orientation": "v",
         "showlegend": false,
         "type": "scatter",
         "x": [
          "France"
         ],
         "xaxis": "x4",
         "y": [
          0.07
         ],
         "yaxis": "y4"
        },
        {
         "hovertemplate": "Country=%{x}<br>Decade=1990<br>Women (%)=%{y}<br>Population (thousands)=%{marker.size}<extra></extra>",
         "legendgroup": "France",
         "marker": {
          "color": "#B6E880",
          "size": [
           56666.861
          ],
          "sizemode": "area",
          "sizeref": 3085.7029075,
          "symbol": "circle"
         },
         "mode": "markers",
         "name": "France",
         "orientation": "v",
         "showlegend": false,
         "type": "scatter",
         "x": [
          "France"
         ],
         "xaxis": "x5",
         "y": [
          0.08499999999999999
         ],
         "yaxis": "y5"
        },
        {
         "hovertemplate": "Country=%{x}<br>Decade=2000<br>Women (%)=%{y}<br>Population (thousands)=%{marker.size}<extra></extra>",
         "legendgroup": "France",
         "marker": {
          "color": "#B6E880",
          "size": [
           59015.092
          ],
          "sizemode": "area",
          "sizeref": 3085.7029075,
          "symbol": "circle"
         },
         "mode": "markers",
         "name": "France",
         "orientation": "v",
         "showlegend": false,
         "type": "scatter",
         "x": [
          "France"
         ],
         "xaxis": "x6",
         "y": [
          0.13999999999999999
         ],
         "yaxis": "y6"
        },
        {
         "hovertemplate": "Country=%{x}<br>Decade=2010<br>Women (%)=%{y}<br>Population (thousands)=%{marker.size}<extra></extra>",
         "legendgroup": "France",
         "marker": {
          "color": "#B6E880",
          "size": [
           62879.535
          ],
          "sizemode": "area",
          "sizeref": 3085.7029075,
          "symbol": "circle"
         },
         "mode": "markers",
         "name": "France",
         "orientation": "v",
         "showlegend": false,
         "type": "scatter",
         "x": [
          "France"
         ],
         "xaxis": "x",
         "y": [
          0.2833333333333334
         ],
         "yaxis": "y"
        },
        {
         "hovertemplate": "Country=%{x}<br>Decade=1950<br>Women (%)=%{y}<br>Population (thousands)=%{marker.size}<extra></extra>",
         "legendgroup": "United Kingdom",
         "marker": {
          "color": "#FF97FF",
          "size": [
           50616.019
          ],
          "sizemode": "area",
          "sizeref": 3085.7029075,
          "symbol": "circle"
         },
         "mode": "markers",
         "name": "United Kingdom",
         "orientation": "v",
         "showlegend": true,
         "type": "scatter",
         "x": [
          "United Kingdom"
         ],
         "xaxis": "x7",
         "y": [
          0.035
         ],
         "yaxis": "y7"
        },
        {
         "hovertemplate": "Country=%{x}<br>Decade=1960<br>Women (%)=%{y}<br>Population (thousands)=%{marker.size}<extra></extra>",
         "legendgroup": "United Kingdom",
         "marker": {
          "color": "#FF97FF",
          "size": [
           52370.595
          ],
          "sizemode": "area",
          "sizeref": 3085.7029075,
          "symbol": "circle"
         },
         "mode": "markers",
         "name": "United Kingdom",
         "orientation": "v",
         "showlegend": false,
         "type": "scatter",
         "x": [
          "United Kingdom"
         ],
         "xaxis": "x8",
         "y": [
          0.045
         ],
         "yaxis": "y8"
        },
        {
         "hovertemplate": "Country=%{x}<br>Decade=1970<br>Women (%)=%{y}<br>Population (thousands)=%{marker.size}<extra></extra>",
         "legendgroup": "United Kingdom",
         "marker": {
          "color": "#FF97FF",
          "size": [
           55573.455
          ],
          "sizemode": "area",
          "sizeref": 3085.7029075,
          "symbol": "circle"
         },
         "mode": "markers",
         "name": "United Kingdom",
         "orientation": "v",
         "showlegend": false,
         "type": "scatter",
         "x": [
          "United Kingdom"
         ],
         "xaxis": "x9",
         "y": [
          0.0375
         ],
         "yaxis": "y9"
        },
        {
         "hovertemplate": "Country=%{x}<br>Decade=1980<br>Women (%)=%{y}<br>Population (thousands)=%{marker.size}<extra></extra>",
         "legendgroup": "United Kingdom",
         "marker": {
          "color": "#FF97FF",
          "size": [
           56209.164
          ],
          "sizemode": "area",
          "sizeref": 3085.7029075,
          "symbol": "circle"
         },
         "mode": "markers",
         "name": "United Kingdom",
         "orientation": "v",
         "showlegend": false,
         "type": "scatter",
         "x": [
          "United Kingdom"
         ],
         "xaxis": "x4",
         "y": [
          0.05
         ],
         "yaxis": "y4"
        },
        {
         "hovertemplate": "Country=%{x}<br>Decade=1990<br>Women (%)=%{y}<br>Population (thousands)=%{marker.size}<extra></extra>",
         "legendgroup": "United Kingdom",
         "marker": {
          "color": "#FF97FF",
          "size": [
           57134.377
          ],
          "sizemode": "area",
          "sizeref": 3085.7029075,
          "symbol": "circle"
         },
         "mode": "markers",
         "name": "United Kingdom",
         "orientation": "v",
         "showlegend": false,
         "type": "scatter",
         "x": [
          "United Kingdom"
         ],
         "xaxis": "x5",
         "y": [
          0.1375
         ],
         "yaxis": "y5"
        },
        {
         "hovertemplate": "Country=%{x}<br>Decade=2000<br>Women (%)=%{y}<br>Population (thousands)=%{marker.size}<extra></extra>",
         "legendgroup": "United Kingdom",
         "marker": {
          "color": "#FF97FF",
          "size": [
           58923.305
          ],
          "sizemode": "area",
          "sizeref": 3085.7029075,
          "symbol": "circle"
         },
         "mode": "markers",
         "name": "United Kingdom",
         "orientation": "v",
         "showlegend": false,
         "type": "scatter",
         "x": [
          "United Kingdom"
         ],
         "xaxis": "x6",
         "y": [
          0.18666666666666668
         ],
         "yaxis": "y6"
        },
        {
         "hovertemplate": "Country=%{x}<br>Decade=2010<br>Women (%)=%{y}<br>Population (thousands)=%{marker.size}<extra></extra>",
         "legendgroup": "United Kingdom",
         "marker": {
          "color": "#FF97FF",
          "size": [
           63459.801
          ],
          "sizemode": "area",
          "sizeref": 3085.7029075,
          "symbol": "circle"
         },
         "mode": "markers",
         "name": "United Kingdom",
         "orientation": "v",
         "showlegend": false,
         "type": "scatter",
         "x": [
          "United Kingdom"
         ],
         "xaxis": "x",
         "y": [
          0.27666666666666667
         ],
         "yaxis": "y"
        },
        {
         "hovertemplate": "Country=%{x}<br>Decade=1950<br>Women (%)=%{y}<br>Population (thousands)=%{marker.size}<extra></extra>",
         "legendgroup": "Haiti",
         "marker": {
          "color": "#FECB52",
          "size": [
           3221.27
          ],
          "sizemode": "area",
          "sizeref": 3085.7029075,
          "symbol": "circle"
         },
         "mode": "markers",
         "name": "Haiti",
         "orientation": "v",
         "showlegend": true,
         "type": "scatter",
         "x": [
          "Haiti"
         ],
         "xaxis": "x7",
         "y": [
          0
         ],
         "yaxis": "y7"
        },
        {
         "hovertemplate": "Country=%{x}<br>Decade=1960<br>Women (%)=%{y}<br>Population (thousands)=%{marker.size}<extra></extra>",
         "legendgroup": "Haiti",
         "marker": {
          "color": "#FECB52",
          "size": [
           3866.162
          ],
          "sizemode": "area",
          "sizeref": 3085.7029075,
          "symbol": "circle"
         },
         "mode": "markers",
         "name": "Haiti",
         "orientation": "v",
         "showlegend": false,
         "type": "scatter",
         "x": [
          "Haiti"
         ],
         "xaxis": "x8",
         "y": [
          0.07
         ],
         "yaxis": "y8"
        },
        {
         "hovertemplate": "Country=%{x}<br>Decade=1970<br>Women (%)=%{y}<br>Population (thousands)=%{marker.size}<extra></extra>",
         "legendgroup": "Haiti",
         "marker": {
          "color": "#FECB52",
          "size": [
           4676.237
          ],
          "sizemode": "area",
          "sizeref": 3085.7029075,
          "symbol": "circle"
         },
         "mode": "markers",
         "name": "Haiti",
         "orientation": "v",
         "showlegend": false,
         "type": "scatter",
         "x": [
          "Haiti"
         ],
         "xaxis": "x9",
         "y": [
          0.04
         ],
         "yaxis": "y9"
        },
        {
         "hovertemplate": "Country=%{x}<br>Decade=1980<br>Women (%)=%{y}<br>Population (thousands)=%{marker.size}<extra></extra>",
         "legendgroup": "Haiti",
         "marker": {
          "color": "#FECB52",
          "size": [
           5643.175
          ],
          "sizemode": "area",
          "sizeref": 3085.7029075,
          "symbol": "circle"
         },
         "mode": "markers",
         "name": "Haiti",
         "orientation": "v",
         "showlegend": false,
         "type": "scatter",
         "x": [
          "Haiti"
         ],
         "xaxis": "x4",
         "y": [
          0.045
         ],
         "yaxis": "y4"
        },
        {
         "hovertemplate": "Country=%{x}<br>Decade=1990<br>Women (%)=%{y}<br>Population (thousands)=%{marker.size}<extra></extra>",
         "legendgroup": "Haiti",
         "marker": {
          "color": "#FECB52",
          "size": [
           7037.915
          ],
          "sizemode": "area",
          "sizeref": 3085.7029075,
          "symbol": "circle"
         },
         "mode": "markers",
         "name": "Haiti",
         "orientation": "v",
         "showlegend": false,
         "type": "scatter",
         "x": [
          "Haiti"
         ],
         "xaxis": "x5",
         "y": [
          0.04
         ],
         "yaxis": "y5"
        },
        {
         "hovertemplate": "Country=%{x}<br>Decade=2000<br>Women (%)=%{y}<br>Population (thousands)=%{marker.size}<extra></extra>",
         "legendgroup": "Haiti",
         "marker": {
          "color": "#FECB52",
          "size": [
           8463.802
          ],
          "sizemode": "area",
          "sizeref": 3085.7029075,
          "symbol": "circle"
         },
         "mode": "markers",
         "name": "Haiti",
         "orientation": "v",
         "showlegend": false,
         "type": "scatter",
         "x": [
          "Haiti"
         ],
         "xaxis": "x6",
         "y": [
          0.04
         ],
         "yaxis": "y6"
        },
        {
         "hovertemplate": "Country=%{x}<br>Decade=2010<br>Women (%)=%{y}<br>Population (thousands)=%{marker.size}<extra></extra>",
         "legendgroup": "Haiti",
         "marker": {
          "color": "#FECB52",
          "size": [
           9949.318
          ],
          "sizemode": "area",
          "sizeref": 3085.7029075,
          "symbol": "circle"
         },
         "mode": "markers",
         "name": "Haiti",
         "orientation": "v",
         "showlegend": false,
         "type": "scatter",
         "x": [
          "Haiti"
         ],
         "xaxis": "x",
         "y": [
          0.035
         ],
         "yaxis": "y"
        },
        {
         "hovertemplate": "Country=%{x}<br>Decade=1950<br>Women (%)=%{y}<br>Population (thousands)=%{marker.size}<extra></extra>",
         "legendgroup": "Canada",
         "marker": {
          "color": "#636efa",
          "size": [
           13733.398
          ],
          "sizemode": "area",
          "sizeref": 3085.7029075,
          "symbol": "circle"
         },
         "mode": "markers",
         "name": "Canada",
         "orientation": "v",
         "showlegend": true,
         "type": "scatter",
         "x": [
          "Canada"
         ],
         "xaxis": "x7",
         "y": [
          0.016666666666666666
         ],
         "yaxis": "y7"
        },
        {
         "hovertemplate": "Country=%{x}<br>Decade=1960<br>Women (%)=%{y}<br>Population (thousands)=%{marker.size}<extra></extra>",
         "legendgroup": "Canada",
         "marker": {
          "color": "#636efa",
          "size": [
           17847.404
          ],
          "sizemode": "area",
          "sizeref": 3085.7029075,
          "symbol": "circle"
         },
         "mode": "markers",
         "name": "Canada",
         "orientation": "v",
         "showlegend": false,
         "type": "scatter",
         "x": [
          "Canada"
         ],
         "xaxis": "x8",
         "y": [
          0.015
         ],
         "yaxis": "y8"
        },
        {
         "hovertemplate": "Country=%{x}<br>Decade=1970<br>Women (%)=%{y}<br>Population (thousands)=%{marker.size}<extra></extra>",
         "legendgroup": "Canada",
         "marker": {
          "color": "#636efa",
          "size": [
           21374.326
          ],
          "sizemode": "area",
          "sizeref": 3085.7029075,
          "symbol": "circle"
         },
         "mode": "markers",
         "name": "Canada",
         "orientation": "v",
         "showlegend": false,
         "type": "scatter",
         "x": [
          "Canada"
         ],
         "xaxis": "x9",
         "y": [
          0.03
         ],
         "yaxis": "y9"
        },
        {
         "hovertemplate": "Country=%{x}<br>Decade=1980<br>Women (%)=%{y}<br>Population (thousands)=%{marker.size}<extra></extra>",
         "legendgroup": "Canada",
         "marker": {
          "color": "#636efa",
          "size": [
           24416.885
          ],
          "sizemode": "area",
          "sizeref": 3085.7029075,
          "symbol": "circle"
         },
         "mode": "markers",
         "name": "Canada",
         "orientation": "v",
         "showlegend": false,
         "type": "scatter",
         "x": [
          "Canada"
         ],
         "xaxis": "x4",
         "y": [
          0.09333333333333334
         ],
         "yaxis": "y4"
        },
        {
         "hovertemplate": "Country=%{x}<br>Decade=1990<br>Women (%)=%{y}<br>Population (thousands)=%{marker.size}<extra></extra>",
         "legendgroup": "Canada",
         "marker": {
          "color": "#636efa",
          "size": [
           27541.323
          ],
          "sizemode": "area",
          "sizeref": 3085.7029075,
          "symbol": "circle"
         },
         "mode": "markers",
         "name": "Canada",
         "orientation": "v",
         "showlegend": false,
         "type": "scatter",
         "x": [
          "Canada"
         ],
         "xaxis": "x5",
         "y": [
          0.195
         ],
         "yaxis": "y5"
        },
        {
         "hovertemplate": "Country=%{x}<br>Decade=2000<br>Women (%)=%{y}<br>Population (thousands)=%{marker.size}<extra></extra>",
         "legendgroup": "Canada",
         "marker": {
          "color": "#636efa",
          "size": [
           30588.379
          ],
          "sizemode": "area",
          "sizeref": 3085.7029075,
          "symbol": "circle"
         },
         "mode": "markers",
         "name": "Canada",
         "orientation": "v",
         "showlegend": false,
         "type": "scatter",
         "x": [
          "Canada"
         ],
         "xaxis": "x6",
         "y": [
          0.21000000000000002
         ],
         "yaxis": "y6"
        },
        {
         "hovertemplate": "Country=%{x}<br>Decade=2010<br>Women (%)=%{y}<br>Population (thousands)=%{marker.size}<extra></extra>",
         "legendgroup": "Canada",
         "marker": {
          "color": "#636efa",
          "size": [
           34147.566
          ],
          "sizemode": "area",
          "sizeref": 3085.7029075,
          "symbol": "circle"
         },
         "mode": "markers",
         "name": "Canada",
         "orientation": "v",
         "showlegend": false,
         "type": "scatter",
         "x": [
          "Canada"
         ],
         "xaxis": "x",
         "y": [
          0.25
         ],
         "yaxis": "y"
        },
        {
         "hovertemplate": "Country=%{x}<br>Decade=1950<br>Women (%)=%{y}<br>Population (thousands)=%{marker.size}<extra></extra>",
         "legendgroup": "Albania",
         "marker": {
          "color": "#EF553B",
          "size": [
           1263.164
          ],
          "sizemode": "area",
          "sizeref": 3085.7029075,
          "symbol": "circle"
         },
         "mode": "markers",
         "name": "Albania",
         "orientation": "v",
         "showlegend": true,
         "type": "scatter",
         "x": [
          "Albania"
         ],
         "xaxis": "x7",
         "y": [
          0.11666666666666665
         ],
         "yaxis": "y7"
        },
        {
         "hovertemplate": "Country=%{x}<br>Decade=1960<br>Women (%)=%{y}<br>Population (thousands)=%{marker.size}<extra></extra>",
         "legendgroup": "Albania",
         "marker": {
          "color": "#EF553B",
          "size": [
           1636.091
          ],
          "sizemode": "area",
          "sizeref": 3085.7029075,
          "symbol": "circle"
         },
         "mode": "markers",
         "name": "Albania",
         "orientation": "v",
         "showlegend": false,
         "type": "scatter",
         "x": [
          "Albania"
         ],
         "xaxis": "x8",
         "y": [
          0.14
         ],
         "yaxis": "y8"
        },
        {
         "hovertemplate": "Country=%{x}<br>Decade=1970<br>Women (%)=%{y}<br>Population (thousands)=%{marker.size}<extra></extra>",
         "legendgroup": "Albania",
         "marker": {
          "color": "#EF553B",
          "size": [
           2150.704
          ],
          "sizemode": "area",
          "sizeref": 3085.7029075,
          "symbol": "circle"
         },
         "mode": "markers",
         "name": "Albania",
         "orientation": "v",
         "showlegend": false,
         "type": "scatter",
         "x": [
          "Albania"
         ],
         "xaxis": "x9",
         "y": [
          0.3066666666666667
         ],
         "yaxis": "y9"
        },
        {
         "hovertemplate": "Country=%{x}<br>Decade=1980<br>Women (%)=%{y}<br>Population (thousands)=%{marker.size}<extra></extra>",
         "legendgroup": "Albania",
         "marker": {
          "color": "#EF553B",
          "size": [
           2682.697
          ],
          "sizemode": "area",
          "sizeref": 3085.7029075,
          "symbol": "circle"
         },
         "mode": "markers",
         "name": "Albania",
         "orientation": "v",
         "showlegend": false,
         "type": "scatter",
         "x": [
          "Albania"
         ],
         "xaxis": "x4",
         "y": [
          0.295
         ],
         "yaxis": "y4"
        },
        {
         "hovertemplate": "Country=%{x}<br>Decade=1990<br>Women (%)=%{y}<br>Population (thousands)=%{marker.size}<extra></extra>",
         "legendgroup": "Albania",
         "marker": {
          "color": "#EF553B",
          "size": [
           3286.07
          ],
          "sizemode": "area",
          "sizeref": 3085.7029075,
          "symbol": "circle"
         },
         "mode": "markers",
         "name": "Albania",
         "orientation": "v",
         "showlegend": false,
         "type": "scatter",
         "x": [
          "Albania"
         ],
         "xaxis": "x5",
         "y": [
          0.07333333333333333
         ],
         "yaxis": "y5"
        },
        {
         "hovertemplate": "Country=%{x}<br>Decade=2000<br>Women (%)=%{y}<br>Population (thousands)=%{marker.size}<extra></extra>",
         "legendgroup": "Albania",
         "marker": {
          "color": "#EF553B",
          "size": [
           3129.246
          ],
          "sizemode": "area",
          "sizeref": 3085.7029075,
          "symbol": "circle"
         },
         "mode": "markers",
         "name": "Albania",
         "orientation": "v",
         "showlegend": false,
         "type": "scatter",
         "x": [
          "Albania"
         ],
         "xaxis": "x6",
         "y": [
          0.09666666666666668
         ],
         "yaxis": "y6"
        },
        {
         "hovertemplate": "Country=%{x}<br>Decade=2010<br>Women (%)=%{y}<br>Population (thousands)=%{marker.size}<extra></extra>",
         "legendgroup": "Albania",
         "marker": {
          "color": "#EF553B",
          "size": [
           2948.029
          ],
          "sizemode": "area",
          "sizeref": 3085.7029075,
          "symbol": "circle"
         },
         "mode": "markers",
         "name": "Albania",
         "orientation": "v",
         "showlegend": false,
         "type": "scatter",
         "x": [
          "Albania"
         ],
         "xaxis": "x",
         "y": [
          0.22000000000000003
         ],
         "yaxis": "y"
        },
        {
         "hovertemplate": "Country=%{x}<br>Decade=1950<br>Women (%)=%{y}<br>Population (thousands)=%{marker.size}<extra></extra>",
         "legendgroup": "Honduras",
         "marker": {
          "color": "#00cc96",
          "size": [
           1546.719
          ],
          "sizemode": "area",
          "sizeref": 3085.7029075,
          "symbol": "circle"
         },
         "mode": "markers",
         "name": "Honduras",
         "orientation": "v",
         "showlegend": true,
         "type": "scatter",
         "x": [
          "Honduras"
         ],
         "xaxis": "x7",
         "y": [
          0.025
         ],
         "yaxis": "y7"
        },
        {
         "hovertemplate": "Country=%{x}<br>Decade=1960<br>Women (%)=%{y}<br>Population (thousands)=%{marker.size}<extra></extra>",
         "legendgroup": "Honduras",
         "marker": {
          "color": "#00cc96",
          "size": [
           2038.636
          ],
          "sizemode": "area",
          "sizeref": 3085.7029075,
          "symbol": "circle"
         },
         "mode": "markers",
         "name": "Honduras",
         "orientation": "v",
         "showlegend": false,
         "type": "scatter",
         "x": [
          "Honduras"
         ],
         "xaxis": "x8",
         "y": [
          0.03
         ],
         "yaxis": "y8"
        },
        {
         "hovertemplate": "Country=%{x}<br>Decade=1970<br>Women (%)=%{y}<br>Population (thousands)=%{marker.size}<extra></extra>",
         "legendgroup": "Honduras",
         "marker": {
          "color": "#00cc96",
          "size": [
           2716.652
          ],
          "sizemode": "area",
          "sizeref": 3085.7029075,
          "symbol": "circle"
         },
         "mode": "markers",
         "name": "Honduras",
         "orientation": "v",
         "showlegend": false,
         "type": "scatter",
         "x": [
          "Honduras"
         ],
         "xaxis": "x9",
         "y": [
          0.1
         ],
         "yaxis": "y9"
        },
        {
         "hovertemplate": "Country=%{x}<br>Decade=1980<br>Women (%)=%{y}<br>Population (thousands)=%{marker.size}<extra></extra>",
         "legendgroup": "Honduras",
         "marker": {
          "color": "#00cc96",
          "size": [
           3678.274
          ],
          "sizemode": "area",
          "sizeref": 3085.7029075,
          "symbol": "circle"
         },
         "mode": "markers",
         "name": "Honduras",
         "orientation": "v",
         "showlegend": false,
         "type": "scatter",
         "x": [
          "Honduras"
         ],
         "xaxis": "x4",
         "y": [
          0.0825
         ],
         "yaxis": "y4"
        },
        {
         "hovertemplate": "Country=%{x}<br>Decade=1990<br>Women (%)=%{y}<br>Population (thousands)=%{marker.size}<extra></extra>",
         "legendgroup": "Honduras",
         "marker": {
          "color": "#00cc96",
          "size": [
           4955.302
          ],
          "sizemode": "area",
          "sizeref": 3085.7029075,
          "symbol": "circle"
         },
         "mode": "markers",
         "name": "Honduras",
         "orientation": "v",
         "showlegend": false,
         "type": "scatter",
         "x": [
          "Honduras"
         ],
         "xaxis": "x5",
         "y": [
          0.07500000000000001
         ],
         "yaxis": "y5"
        },
        {
         "hovertemplate": "Country=%{x}<br>Decade=2000<br>Women (%)=%{y}<br>Population (thousands)=%{marker.size}<extra></extra>",
         "legendgroup": "Honduras",
         "marker": {
          "color": "#00cc96",
          "size": [
           6574.51
          ],
          "sizemode": "area",
          "sizeref": 3085.7029075,
          "symbol": "circle"
         },
         "mode": "markers",
         "name": "Honduras",
         "orientation": "v",
         "showlegend": false,
         "type": "scatter",
         "x": [
          "Honduras"
         ],
         "xaxis": "x6",
         "y": [
          0.15333333333333332
         ],
         "yaxis": "y6"
        },
        {
         "hovertemplate": "Country=%{x}<br>Decade=2010<br>Women (%)=%{y}<br>Population (thousands)=%{marker.size}<extra></extra>",
         "legendgroup": "Honduras",
         "marker": {
          "color": "#00cc96",
          "size": [
           8317.467
          ],
          "sizemode": "area",
          "sizeref": 3085.7029075,
          "symbol": "circle"
         },
         "mode": "markers",
         "name": "Honduras",
         "orientation": "v",
         "showlegend": false,
         "type": "scatter",
         "x": [
          "Honduras"
         ],
         "xaxis": "x",
         "y": [
          0.235
         ],
         "yaxis": "y"
        },
        {
         "hovertemplate": "Country=%{x}<br>Decade=1950<br>Women (%)=%{y}<br>Population (thousands)=%{marker.size}<extra></extra>",
         "legendgroup": "Sweden",
         "marker": {
          "color": "#ab63fa",
          "size": [
           7009.913
          ],
          "sizemode": "area",
          "sizeref": 3085.7029075,
          "symbol": "circle"
         },
         "mode": "markers",
         "name": "Sweden",
         "orientation": "v",
         "showlegend": true,
         "type": "scatter",
         "x": [
          "Sweden"
         ],
         "xaxis": "x7",
         "y": [
          0.125
         ],
         "yaxis": "y7"
        },
        {
         "hovertemplate": "Country=%{x}<br>Decade=1960<br>Women (%)=%{y}<br>Population (thousands)=%{marker.size}<extra></extra>",
         "legendgroup": "Sweden",
         "marker": {
          "color": "#ab63fa",
          "size": [
           7482.536
          ],
          "sizemode": "area",
          "sizeref": 3085.7029075,
          "symbol": "circle"
         },
         "mode": "markers",
         "name": "Sweden",
         "orientation": "v",
         "showlegend": false,
         "type": "scatter",
         "x": [
          "Sweden"
         ],
         "xaxis": "x8",
         "y": [
          0.14
         ],
         "yaxis": "y8"
        },
        {
         "hovertemplate": "Country=%{x}<br>Decade=1970<br>Women (%)=%{y}<br>Population (thousands)=%{marker.size}<extra></extra>",
         "legendgroup": "Sweden",
         "marker": {
          "color": "#ab63fa",
          "size": [
           8054.909
          ],
          "sizemode": "area",
          "sizeref": 3085.7029075,
          "symbol": "circle"
         },
         "mode": "markers",
         "name": "Sweden",
         "orientation": "v",
         "showlegend": false,
         "type": "scatter",
         "x": [
          "Sweden"
         ],
         "xaxis": "x9",
         "y": [
          0.21500000000000002
         ],
         "yaxis": "y9"
        },
        {
         "hovertemplate": "Country=%{x}<br>Decade=1980<br>Women (%)=%{y}<br>Population (thousands)=%{marker.size}<extra></extra>",
         "legendgroup": "Sweden",
         "marker": {
          "color": "#ab63fa",
          "size": [
           8316.331
          ],
          "sizemode": "area",
          "sizeref": 3085.7029075,
          "symbol": "circle"
         },
         "mode": "markers",
         "name": "Sweden",
         "orientation": "v",
         "showlegend": false,
         "type": "scatter",
         "x": [
          "Sweden"
         ],
         "xaxis": "x4",
         "y": [
          0.32666666666666666
         ],
         "yaxis": "y4"
        },
        {
         "hovertemplate": "Country=%{x}<br>Decade=1990<br>Women (%)=%{y}<br>Population (thousands)=%{marker.size}<extra></extra>",
         "legendgroup": "Sweden",
         "marker": {
          "color": "#ab63fa",
          "size": [
           8567.375
          ],
          "sizemode": "area",
          "sizeref": 3085.7029075,
          "symbol": "circle"
         },
         "mode": "markers",
         "name": "Sweden",
         "orientation": "v",
         "showlegend": false,
         "type": "scatter",
         "x": [
          "Sweden"
         ],
         "xaxis": "x5",
         "y": [
          0.38999999999999996
         ],
         "yaxis": "y5"
        },
        {
         "hovertemplate": "Country=%{x}<br>Decade=2000<br>Women (%)=%{y}<br>Population (thousands)=%{marker.size}<extra></extra>",
         "legendgroup": "Sweden",
         "marker": {
          "color": "#ab63fa",
          "size": [
           8881.642
          ],
          "sizemode": "area",
          "sizeref": 3085.7029075,
          "symbol": "circle"
         },
         "mode": "markers",
         "name": "Sweden",
         "orientation": "v",
         "showlegend": false,
         "type": "scatter",
         "x": [
          "Sweden"
         ],
         "xaxis": "x6",
         "y": [
          0.4566666666666667
         ],
         "yaxis": "y6"
        },
        {
         "hovertemplate": "Country=%{x}<br>Decade=2010<br>Women (%)=%{y}<br>Population (thousands)=%{marker.size}<extra></extra>",
         "legendgroup": "Sweden",
         "marker": {
          "color": "#ab63fa",
          "size": [
           9390.157
          ],
          "sizemode": "area",
          "sizeref": 3085.7029075,
          "symbol": "circle"
         },
         "mode": "markers",
         "name": "Sweden",
         "orientation": "v",
         "showlegend": false,
         "type": "scatter",
         "x": [
          "Sweden"
         ],
         "xaxis": "x",
         "y": [
          0.45
         ],
         "yaxis": "y"
        },
        {
         "hovertemplate": "Country=%{x}<br>Decade=1950<br>Women (%)=%{y}<br>Population (thousands)=%{marker.size}<extra></extra>",
         "legendgroup": "Indonesia",
         "marker": {
          "color": "#FFA15A",
          "size": [
           69543.321
          ],
          "sizemode": "area",
          "sizeref": 3085.7029075,
          "symbol": "circle"
         },
         "mode": "markers",
         "name": "Indonesia",
         "orientation": "v",
         "showlegend": true,
         "type": "scatter",
         "x": [
          "Indonesia"
         ],
         "xaxis": "x7",
         "y": [
          0.045
         ],
         "yaxis": "y7"
        },
        {
         "hovertemplate": "Country=%{x}<br>Decade=1960<br>Women (%)=%{y}<br>Population (thousands)=%{marker.size}<extra></extra>",
         "legendgroup": "Indonesia",
         "marker": {
          "color": "#FFA15A",
          "size": [
           87751.066
          ],
          "sizemode": "area",
          "sizeref": 3085.7029075,
          "symbol": "circle"
         },
         "mode": "markers",
         "name": "Indonesia",
         "orientation": "v",
         "showlegend": false,
         "type": "scatter",
         "x": [
          "Indonesia"
         ],
         "xaxis": "x8",
         "y": [
          0.08
         ],
         "yaxis": "y8"
        },
        {
         "hovertemplate": "Country=%{x}<br>Decade=1970<br>Women (%)=%{y}<br>Population (thousands)=%{marker.size}<extra></extra>",
         "legendgroup": "Indonesia",
         "marker": {
          "color": "#FFA15A",
          "size": [
           114793.179
          ],
          "sizemode": "area",
          "sizeref": 3085.7029075,
          "symbol": "circle"
         },
         "mode": "markers",
         "name": "Indonesia",
         "orientation": "v",
         "showlegend": false,
         "type": "scatter",
         "x": [
          "Indonesia"
         ],
         "xaxis": "x9",
         "y": [
          0.07
         ],
         "yaxis": "y9"
        },
        {
         "hovertemplate": "Country=%{x}<br>Decade=1980<br>Women (%)=%{y}<br>Population (thousands)=%{marker.size}<extra></extra>",
         "legendgroup": "Indonesia",
         "marker": {
          "color": "#FFA15A",
          "size": [
           147447.834
          ],
          "sizemode": "area",
          "sizeref": 3085.7029075,
          "symbol": "circle"
         },
         "mode": "markers",
         "name": "Indonesia",
         "orientation": "v",
         "showlegend": false,
         "type": "scatter",
         "x": [
          "Indonesia"
         ],
         "xaxis": "x4",
         "y": [
          0.105
         ],
         "yaxis": "y4"
        },
        {
         "hovertemplate": "Country=%{x}<br>Decade=1990<br>Women (%)=%{y}<br>Population (thousands)=%{marker.size}<extra></extra>",
         "legendgroup": "Indonesia",
         "marker": {
          "color": "#FFA15A",
          "size": [
           181413.398
          ],
          "sizemode": "area",
          "sizeref": 3085.7029075,
          "symbol": "circle"
         },
         "mode": "markers",
         "name": "Indonesia",
         "orientation": "v",
         "showlegend": false,
         "type": "scatter",
         "x": [
          "Indonesia"
         ],
         "xaxis": "x5",
         "y": [
          0.11
         ],
         "yaxis": "y5"
        },
        {
         "hovertemplate": "Country=%{x}<br>Decade=2000<br>Women (%)=%{y}<br>Population (thousands)=%{marker.size}<extra></extra>",
         "legendgroup": "Indonesia",
         "marker": {
          "color": "#FFA15A",
          "size": [
           211513.822
          ],
          "sizemode": "area",
          "sizeref": 3085.7029075,
          "symbol": "circle"
         },
         "mode": "markers",
         "name": "Indonesia",
         "orientation": "v",
         "showlegend": false,
         "type": "scatter",
         "x": [
          "Indonesia"
         ],
         "xaxis": "x6",
         "y": [
          0.15333333333333332
         ],
         "yaxis": "y6"
        },
        {
         "hovertemplate": "Country=%{x}<br>Decade=2010<br>Women (%)=%{y}<br>Population (thousands)=%{marker.size}<extra></extra>",
         "legendgroup": "Indonesia",
         "marker": {
          "color": "#FFA15A",
          "size": [
           241834.226
          ],
          "sizemode": "area",
          "sizeref": 3085.7029075,
          "symbol": "circle"
         },
         "mode": "markers",
         "name": "Indonesia",
         "orientation": "v",
         "showlegend": false,
         "type": "scatter",
         "x": [
          "Indonesia"
         ],
         "xaxis": "x",
         "y": [
          0.17
         ],
         "yaxis": "y"
        },
        {
         "hovertemplate": "Country=%{x}<br>Decade=1950<br>Women (%)=%{y}<br>Population (thousands)=%{marker.size}<extra></extra>",
         "legendgroup": "Nepal",
         "marker": {
          "color": "#19d3f3",
          "size": [
           8483.322
          ],
          "sizemode": "area",
          "sizeref": 3085.7029075,
          "symbol": "circle"
         },
         "mode": "markers",
         "name": "Nepal",
         "orientation": "v",
         "showlegend": true,
         "type": "scatter",
         "x": [
          "Nepal"
         ],
         "xaxis": "x7",
         "y": [
          0.06999999999999999
         ],
         "yaxis": "y7"
        },
        {
         "hovertemplate": "Country=%{x}<br>Decade=1960<br>Women (%)=%{y}<br>Population (thousands)=%{marker.size}<extra></extra>",
         "legendgroup": "Nepal",
         "marker": {
          "color": "#19d3f3",
          "size": [
           10105.06
          ],
          "sizemode": "area",
          "sizeref": 3085.7029075,
          "symbol": "circle"
         },
         "mode": "markers",
         "name": "Nepal",
         "orientation": "v",
         "showlegend": false,
         "type": "scatter",
         "x": [
          "Nepal"
         ],
         "xaxis": "x8",
         "y": [
          0.0225
         ],
         "yaxis": "y8"
        },
        {
         "hovertemplate": "Country=%{x}<br>Decade=1970<br>Women (%)=%{y}<br>Population (thousands)=%{marker.size}<extra></extra>",
         "legendgroup": "Nepal",
         "marker": {
          "color": "#19d3f3",
          "size": [
           12074.628
          ],
          "sizemode": "area",
          "sizeref": 3085.7029075,
          "symbol": "circle"
         },
         "mode": "markers",
         "name": "Nepal",
         "orientation": "v",
         "showlegend": false,
         "type": "scatter",
         "x": [
          "Nepal"
         ],
         "xaxis": "x9",
         "y": [
          0.028000000000000004
         ],
         "yaxis": "y9"
        },
        {
         "hovertemplate": "Country=%{x}<br>Decade=1980<br>Women (%)=%{y}<br>Population (thousands)=%{marker.size}<extra></extra>",
         "legendgroup": "Nepal",
         "marker": {
          "color": "#19d3f3",
          "size": [
           15016.408
          ],
          "sizemode": "area",
          "sizeref": 3085.7029075,
          "symbol": "circle"
         },
         "mode": "markers",
         "name": "Nepal",
         "orientation": "v",
         "showlegend": false,
         "type": "scatter",
         "x": [
          "Nepal"
         ],
         "xaxis": "x4",
         "y": [
          0.052222222222222225
         ],
         "yaxis": "y4"
        },
        {
         "hovertemplate": "Country=%{x}<br>Decade=1990<br>Women (%)=%{y}<br>Population (thousands)=%{marker.size}<extra></extra>",
         "legendgroup": "Nepal",
         "marker": {
          "color": "#19d3f3",
          "size": [
           18905.48
          ],
          "sizemode": "area",
          "sizeref": 3085.7029075,
          "symbol": "circle"
         },
         "mode": "markers",
         "name": "Nepal",
         "orientation": "v",
         "showlegend": false,
         "type": "scatter",
         "x": [
          "Nepal"
         ],
         "xaxis": "x5",
         "y": [
          0.04
         ],
         "yaxis": "y5"
        },
        {
         "hovertemplate": "Country=%{x}<br>Decade=2000<br>Women (%)=%{y}<br>Population (thousands)=%{marker.size}<extra></extra>",
         "legendgroup": "Nepal",
         "marker": {
          "color": "#19d3f3",
          "size": [
           23941.099
          ],
          "sizemode": "area",
          "sizeref": 3085.7029075,
          "symbol": "circle"
         },
         "mode": "markers",
         "name": "Nepal",
         "orientation": "v",
         "showlegend": false,
         "type": "scatter",
         "x": [
          "Nepal"
         ],
         "xaxis": "x6",
         "y": [
          0.29250000000000004
         ],
         "yaxis": "y6"
        },
        {
         "hovertemplate": "Country=%{x}<br>Decade=2010<br>Women (%)=%{y}<br>Population (thousands)=%{marker.size}<extra></extra>",
         "legendgroup": "Nepal",
         "marker": {
          "color": "#19d3f3",
          "size": [
           27013.207
          ],
          "sizemode": "area",
          "sizeref": 3085.7029075,
          "symbol": "circle"
         },
         "mode": "markers",
         "name": "Nepal",
         "orientation": "v",
         "showlegend": false,
         "type": "scatter",
         "x": [
          "Nepal"
         ],
         "xaxis": "x",
         "y": [
          0.33
         ],
         "yaxis": "y"
        },
        {
         "hovertemplate": "Country=%{x}<br>Decade=1950<br>Women (%)=%{y}<br>Population (thousands)=%{marker.size}<extra></extra>",
         "legendgroup": "Costa Rica",
         "marker": {
          "color": "#FF6692",
          "size": [
           945.683
          ],
          "sizemode": "area",
          "sizeref": 3085.7029075,
          "symbol": "circle"
         },
         "mode": "markers",
         "name": "Costa Rica",
         "orientation": "v",
         "showlegend": true,
         "type": "scatter",
         "x": [
          "Costa Rica"
         ],
         "xaxis": "x7",
         "y": [
          0.05500000000000001
         ],
         "yaxis": "y7"
        },
        {
         "hovertemplate": "Country=%{x}<br>Decade=1960<br>Women (%)=%{y}<br>Population (thousands)=%{marker.size}<extra></extra>",
         "legendgroup": "Costa Rica",
         "marker": {
          "color": "#FF6692",
          "size": [
           1330.787
          ],
          "sizemode": "area",
          "sizeref": 3085.7029075,
          "symbol": "circle"
         },
         "mode": "markers",
         "name": "Costa Rica",
         "orientation": "v",
         "showlegend": false,
         "type": "scatter",
         "x": [
          "Costa Rica"
         ],
         "xaxis": "x8",
         "y": [
          0.035
         ],
         "yaxis": "y8"
        },
        {
         "hovertemplate": "Country=%{x}<br>Decade=1970<br>Women (%)=%{y}<br>Population (thousands)=%{marker.size}<extra></extra>",
         "legendgroup": "Costa Rica",
         "marker": {
          "color": "#FF6692",
          "size": [
           1847.394
          ],
          "sizemode": "area",
          "sizeref": 3085.7029075,
          "symbol": "circle"
         },
         "mode": "markers",
         "name": "Costa Rica",
         "orientation": "v",
         "showlegend": false,
         "type": "scatter",
         "x": [
          "Costa Rica"
         ],
         "xaxis": "x9",
         "y": [
          0.06333333333333334
         ],
         "yaxis": "y9"
        },
        {
         "hovertemplate": "Country=%{x}<br>Decade=1980<br>Women (%)=%{y}<br>Population (thousands)=%{marker.size}<extra></extra>",
         "legendgroup": "Costa Rica",
         "marker": {
          "color": "#FF6692",
          "size": [
           2389.973
          ],
          "sizemode": "area",
          "sizeref": 3085.7029075,
          "symbol": "circle"
         },
         "mode": "markers",
         "name": "Costa Rica",
         "orientation": "v",
         "showlegend": false,
         "type": "scatter",
         "x": [
          "Costa Rica"
         ],
         "xaxis": "x4",
         "y": [
          0.09
         ],
         "yaxis": "y4"
        },
        {
         "hovertemplate": "Country=%{x}<br>Decade=1990<br>Women (%)=%{y}<br>Population (thousands)=%{marker.size}<extra></extra>",
         "legendgroup": "Costa Rica",
         "marker": {
          "color": "#FF6692",
          "size": [
           3119.436
          ],
          "sizemode": "area",
          "sizeref": 3085.7029075,
          "symbol": "circle"
         },
         "mode": "markers",
         "name": "Costa Rica",
         "orientation": "v",
         "showlegend": false,
         "type": "scatter",
         "x": [
          "Costa Rica"
         ],
         "xaxis": "x5",
         "y": [
          0.15
         ],
         "yaxis": "y5"
        },
        {
         "hovertemplate": "Country=%{x}<br>Decade=2000<br>Women (%)=%{y}<br>Population (thousands)=%{marker.size}<extra></extra>",
         "legendgroup": "Costa Rica",
         "marker": {
          "color": "#FF6692",
          "size": [
           3962.369
          ],
          "sizemode": "area",
          "sizeref": 3085.7029075,
          "symbol": "circle"
         },
         "mode": "markers",
         "name": "Costa Rica",
         "orientation": "v",
         "showlegend": false,
         "type": "scatter",
         "x": [
          "Costa Rica"
         ],
         "xaxis": "x6",
         "y": [
          0.35333333333333333
         ],
         "yaxis": "y6"
        },
        {
         "hovertemplate": "Country=%{x}<br>Decade=2010<br>Women (%)=%{y}<br>Population (thousands)=%{marker.size}<extra></extra>",
         "legendgroup": "Costa Rica",
         "marker": {
          "color": "#FF6692",
          "size": [
           4577.371
          ],
          "sizemode": "area",
          "sizeref": 3085.7029075,
          "symbol": "circle"
         },
         "mode": "markers",
         "name": "Costa Rica",
         "orientation": "v",
         "showlegend": false,
         "type": "scatter",
         "x": [
          "Costa Rica"
         ],
         "xaxis": "x",
         "y": [
          0.39333333333333337
         ],
         "yaxis": "y"
        },
        {
         "hovertemplate": "Country=%{x}<br>Decade=1950<br>Women (%)=%{y}<br>Population (thousands)=%{marker.size}<extra></extra>",
         "legendgroup": "San Marino",
         "marker": {
          "color": "#B6E880",
          "size": [
           12.774
          ],
          "sizemode": "area",
          "sizeref": 3085.7029075,
          "symbol": "circle"
         },
         "mode": "markers",
         "name": "San Marino",
         "orientation": "v",
         "showlegend": true,
         "type": "scatter",
         "x": [
          "San Marino"
         ],
         "xaxis": "x7",
         "y": [
          0
         ],
         "yaxis": "y7"
        },
        {
         "hovertemplate": "Country=%{x}<br>Decade=1960<br>Women (%)=%{y}<br>Population (thousands)=%{marker.size}<extra></extra>",
         "legendgroup": "San Marino",
         "marker": {
          "color": "#B6E880",
          "size": [
           15.44
          ],
          "sizemode": "area",
          "sizeref": 3085.7029075,
          "symbol": "circle"
         },
         "mode": "markers",
         "name": "San Marino",
         "orientation": "v",
         "showlegend": false,
         "type": "scatter",
         "x": [
          "San Marino"
         ],
         "xaxis": "x8",
         "y": [
          0
         ],
         "yaxis": "y8"
        },
        {
         "hovertemplate": "Country=%{x}<br>Decade=1970<br>Women (%)=%{y}<br>Population (thousands)=%{marker.size}<extra></extra>",
         "legendgroup": "San Marino",
         "marker": {
          "color": "#B6E880",
          "size": [
           19.224
          ],
          "sizemode": "area",
          "sizeref": 3085.7029075,
          "symbol": "circle"
         },
         "mode": "markers",
         "name": "San Marino",
         "orientation": "v",
         "showlegend": false,
         "type": "scatter",
         "x": [
          "San Marino"
         ],
         "xaxis": "x9",
         "y": [
          0.060000000000000005
         ],
         "yaxis": "y9"
        },
        {
         "hovertemplate": "Country=%{x}<br>Decade=1980<br>Women (%)=%{y}<br>Population (thousands)=%{marker.size}<extra></extra>",
         "legendgroup": "San Marino",
         "marker": {
          "color": "#B6E880",
          "size": [
           21.453
          ],
          "sizemode": "area",
          "sizeref": 3085.7029075,
          "symbol": "circle"
         },
         "mode": "markers",
         "name": "San Marino",
         "orientation": "v",
         "showlegend": false,
         "type": "scatter",
         "x": [
          "San Marino"
         ],
         "xaxis": "x4",
         "y": [
          0.11
         ],
         "yaxis": "y4"
        },
        {
         "hovertemplate": "Country=%{x}<br>Decade=1990<br>Women (%)=%{y}<br>Population (thousands)=%{marker.size}<extra></extra>",
         "legendgroup": "San Marino",
         "marker": {
          "color": "#B6E880",
          "size": [
           24.124
          ],
          "sizemode": "area",
          "sizeref": 3085.7029075,
          "symbol": "circle"
         },
         "mode": "markers",
         "name": "San Marino",
         "orientation": "v",
         "showlegend": false,
         "type": "scatter",
         "x": [
          "San Marino"
         ],
         "xaxis": "x5",
         "y": [
          0.125
         ],
         "yaxis": "y5"
        },
        {
         "hovertemplate": "Country=%{x}<br>Decade=2000<br>Women (%)=%{y}<br>Population (thousands)=%{marker.size}<extra></extra>",
         "legendgroup": "San Marino",
         "marker": {
          "color": "#B6E880",
          "size": [
           27.46
          ],
          "sizemode": "area",
          "sizeref": 3085.7029075,
          "symbol": "circle"
         },
         "mode": "markers",
         "name": "San Marino",
         "orientation": "v",
         "showlegend": false,
         "type": "scatter",
         "x": [
          "San Marino"
         ],
         "xaxis": "x6",
         "y": [
          0.14666666666666667
         ],
         "yaxis": "y6"
        },
        {
         "hovertemplate": "Country=%{x}<br>Decade=2010<br>Women (%)=%{y}<br>Population (thousands)=%{marker.size}<extra></extra>",
         "legendgroup": "San Marino",
         "marker": {
          "color": "#B6E880",
          "size": [
           31.221
          ],
          "sizemode": "area",
          "sizeref": 3085.7029075,
          "symbol": "circle"
         },
         "mode": "markers",
         "name": "San Marino",
         "orientation": "v",
         "showlegend": false,
         "type": "scatter",
         "x": [
          "San Marino"
         ],
         "xaxis": "x",
         "y": [
          0.2
         ],
         "yaxis": "y"
        },
        {
         "hovertemplate": "Country=%{x}<br>Decade=1950<br>Women (%)=%{y}<br>Population (thousands)=%{marker.size}<extra></extra>",
         "legendgroup": "Mexico",
         "marker": {
          "color": "#FF97FF",
          "size": [
           27944.671
          ],
          "sizemode": "area",
          "sizeref": 3085.7029075,
          "symbol": "circle"
         },
         "mode": "markers",
         "name": "Mexico",
         "orientation": "v",
         "showlegend": true,
         "type": "scatter",
         "x": [
          "Mexico"
         ],
         "xaxis": "x7",
         "y": [
          0.02666666666666667
         ],
         "yaxis": "y7"
        },
        {
         "hovertemplate": "Country=%{x}<br>Decade=1960<br>Women (%)=%{y}<br>Population (thousands)=%{marker.size}<extra></extra>",
         "legendgroup": "Mexico",
         "marker": {
          "color": "#FF97FF",
          "size": [
           37771.861
          ],
          "sizemode": "area",
          "sizeref": 3085.7029075,
          "symbol": "circle"
         },
         "mode": "markers",
         "name": "Mexico",
         "orientation": "v",
         "showlegend": false,
         "type": "scatter",
         "x": [
          "Mexico"
         ],
         "xaxis": "x8",
         "y": [
          0.05333333333333334
         ],
         "yaxis": "y8"
        },
        {
         "hovertemplate": "Country=%{x}<br>Decade=1970<br>Women (%)=%{y}<br>Population (thousands)=%{marker.size}<extra></extra>",
         "legendgroup": "Mexico",
         "marker": {
          "color": "#FF97FF",
          "size": [
           51493.565
          ],
          "sizemode": "area",
          "sizeref": 3085.7029075,
          "symbol": "circle"
         },
         "mode": "markers",
         "name": "Mexico",
         "orientation": "v",
         "showlegend": false,
         "type": "scatter",
         "x": [
          "Mexico"
         ],
         "xaxis": "x9",
         "y": [
          0.0675
         ],
         "yaxis": "y9"
        },
        {
         "hovertemplate": "Country=%{x}<br>Decade=1980<br>Women (%)=%{y}<br>Population (thousands)=%{marker.size}<extra></extra>",
         "legendgroup": "Mexico",
         "marker": {
          "color": "#FF97FF",
          "size": [
           67761.367
          ],
          "sizemode": "area",
          "sizeref": 3085.7029075,
          "symbol": "circle"
         },
         "mode": "markers",
         "name": "Mexico",
         "orientation": "v",
         "showlegend": false,
         "type": "scatter",
         "x": [
          "Mexico"
         ],
         "xaxis": "x4",
         "y": [
          0.11333333333333333
         ],
         "yaxis": "y4"
        },
        {
         "hovertemplate": "Country=%{x}<br>Decade=1990<br>Women (%)=%{y}<br>Population (thousands)=%{marker.size}<extra></extra>",
         "legendgroup": "Mexico",
         "marker": {
          "color": "#FF97FF",
          "size": [
           83943.135
          ],
          "sizemode": "area",
          "sizeref": 3085.7029075,
          "symbol": "circle"
         },
         "mode": "markers",
         "name": "Mexico",
         "orientation": "v",
         "showlegend": false,
         "type": "scatter",
         "x": [
          "Mexico"
         ],
         "xaxis": "x5",
         "y": [
          0.12000000000000001
         ],
         "yaxis": "y5"
        },
        {
         "hovertemplate": "Country=%{x}<br>Decade=2000<br>Women (%)=%{y}<br>Population (thousands)=%{marker.size}<extra></extra>",
         "legendgroup": "Mexico",
         "marker": {
          "color": "#FF97FF",
          "size": [
           98899.845
          ],
          "sizemode": "area",
          "sizeref": 3085.7029075,
          "symbol": "circle"
         },
         "mode": "markers",
         "name": "Mexico",
         "orientation": "v",
         "showlegend": false,
         "type": "scatter",
         "x": [
          "Mexico"
         ],
         "xaxis": "x6",
         "y": [
          0.23200000000000004
         ],
         "yaxis": "y6"
        },
        {
         "hovertemplate": "Country=%{x}<br>Decade=2010<br>Women (%)=%{y}<br>Population (thousands)=%{marker.size}<extra></extra>",
         "legendgroup": "Mexico",
         "marker": {
          "color": "#FF97FF",
          "size": [
           114092.961
          ],
          "sizemode": "area",
          "sizeref": 3085.7029075,
          "symbol": "circle"
         },
         "mode": "markers",
         "name": "Mexico",
         "orientation": "v",
         "showlegend": false,
         "type": "scatter",
         "x": [
          "Mexico"
         ],
         "xaxis": "x",
         "y": [
          0.42333333333333334
         ],
         "yaxis": "y"
        },
        {
         "hovertemplate": "Country=%{x}<br>Decade=1950<br>Women (%)=%{y}<br>Population (thousands)=%{marker.size}<extra></extra>",
         "legendgroup": "Hungary",
         "marker": {
          "color": "#FECB52",
          "size": [
           9337.718
          ],
          "sizemode": "area",
          "sizeref": 3085.7029075,
          "symbol": "circle"
         },
         "mode": "markers",
         "name": "Hungary",
         "orientation": "v",
         "showlegend": true,
         "type": "scatter",
         "x": [
          "Hungary"
         ],
         "xaxis": "x7",
         "y": [
          0.175
         ],
         "yaxis": "y7"
        },
        {
         "hovertemplate": "Country=%{x}<br>Decade=1960<br>Women (%)=%{y}<br>Population (thousands)=%{marker.size}<extra></extra>",
         "legendgroup": "Hungary",
         "marker": {
          "color": "#FECB52",
          "size": [
           10000.989
          ],
          "sizemode": "area",
          "sizeref": 3085.7029075,
          "symbol": "circle"
         },
         "mode": "markers",
         "name": "Hungary",
         "orientation": "v",
         "showlegend": false,
         "type": "scatter",
         "x": [
          "Hungary"
         ],
         "xaxis": "x8",
         "y": [
          0.19
         ],
         "yaxis": "y8"
        },
        {
         "hovertemplate": "Country=%{x}<br>Decade=1970<br>Women (%)=%{y}<br>Population (thousands)=%{marker.size}<extra></extra>",
         "legendgroup": "Hungary",
         "marker": {
          "color": "#FECB52",
          "size": [
           10366.099
          ],
          "sizemode": "area",
          "sizeref": 3085.7029075,
          "symbol": "circle"
         },
         "mode": "markers",
         "name": "Hungary",
         "orientation": "v",
         "showlegend": false,
         "type": "scatter",
         "x": [
          "Hungary"
         ],
         "xaxis": "x9",
         "y": [
          0.265
         ],
         "yaxis": "y9"
        },
        {
         "hovertemplate": "Country=%{x}<br>Decade=1980<br>Women (%)=%{y}<br>Population (thousands)=%{marker.size}<extra></extra>",
         "legendgroup": "Hungary",
         "marker": {
          "color": "#FECB52",
          "size": [
           10754.286
          ],
          "sizemode": "area",
          "sizeref": 3085.7029075,
          "symbol": "circle"
         },
         "mode": "markers",
         "name": "Hungary",
         "orientation": "v",
         "showlegend": false,
         "type": "scatter",
         "x": [
          "Hungary"
         ],
         "xaxis": "x4",
         "y": [
          0.255
         ],
         "yaxis": "y4"
        },
        {
         "hovertemplate": "Country=%{x}<br>Decade=1990<br>Women (%)=%{y}<br>Population (thousands)=%{marker.size}<extra></extra>",
         "legendgroup": "Hungary",
         "marker": {
          "color": "#FECB52",
          "size": [
           10377.135
          ],
          "sizemode": "area",
          "sizeref": 3085.7029075,
          "symbol": "circle"
         },
         "mode": "markers",
         "name": "Hungary",
         "orientation": "v",
         "showlegend": false,
         "type": "scatter",
         "x": [
          "Hungary"
         ],
         "xaxis": "x5",
         "y": [
          0.08666666666666667
         ],
         "yaxis": "y5"
        },
        {
         "hovertemplate": "Country=%{x}<br>Decade=2000<br>Women (%)=%{y}<br>Population (thousands)=%{marker.size}<extra></extra>",
         "legendgroup": "Hungary",
         "marker": {
          "color": "#FECB52",
          "size": [
           10220.509
          ],
          "sizemode": "area",
          "sizeref": 3085.7029075,
          "symbol": "circle"
         },
         "mode": "markers",
         "name": "Hungary",
         "orientation": "v",
         "showlegend": false,
         "type": "scatter",
         "x": [
          "Hungary"
         ],
         "xaxis": "x6",
         "y": [
          0.09333333333333334
         ],
         "yaxis": "y6"
        },
        {
         "hovertemplate": "Country=%{x}<br>Decade=2010<br>Women (%)=%{y}<br>Population (thousands)=%{marker.size}<extra></extra>",
         "legendgroup": "Hungary",
         "marker": {
          "color": "#FECB52",
          "size": [
           9927.38
          ],
          "sizemode": "area",
          "sizeref": 3085.7029075,
          "symbol": "circle"
         },
         "mode": "markers",
         "name": "Hungary",
         "orientation": "v",
         "showlegend": false,
         "type": "scatter",
         "x": [
          "Hungary"
         ],
         "xaxis": "x",
         "y": [
          0.10666666666666667
         ],
         "yaxis": "y"
        },
        {
         "hovertemplate": "Country=%{x}<br>Decade=1950<br>Women (%)=%{y}<br>Population (thousands)=%{marker.size}<extra></extra>",
         "legendgroup": "India",
         "marker": {
          "color": "#636efa",
          "size": [
           376325.2
          ],
          "sizemode": "area",
          "sizeref": 3085.7029075,
          "symbol": "circle"
         },
         "mode": "markers",
         "name": "India",
         "orientation": "v",
         "showlegend": true,
         "type": "scatter",
         "x": [
          "India"
         ],
         "xaxis": "x7",
         "y": [
          0.045
         ],
         "yaxis": "y7"
        },
        {
         "hovertemplate": "Country=%{x}<br>Decade=1960<br>Women (%)=%{y}<br>Population (thousands)=%{marker.size}<extra></extra>",
         "legendgroup": "India",
         "marker": {
          "color": "#636efa",
          "size": [
           450547.675
          ],
          "sizemode": "area",
          "sizeref": 3085.7029075,
          "symbol": "circle"
         },
         "mode": "markers",
         "name": "India",
         "orientation": "v",
         "showlegend": false,
         "type": "scatter",
         "x": [
          "India"
         ],
         "xaxis": "x8",
         "y": [
          0.065
         ],
         "yaxis": "y8"
        },
        {
         "hovertemplate": "Country=%{x}<br>Decade=1970<br>Women (%)=%{y}<br>Population (thousands)=%{marker.size}<extra></extra>",
         "legendgroup": "India",
         "marker": {
          "color": "#636efa",
          "size": [
           555189.797
          ],
          "sizemode": "area",
          "sizeref": 3085.7029075,
          "symbol": "circle"
         },
         "mode": "markers",
         "name": "India",
         "orientation": "v",
         "showlegend": false,
         "type": "scatter",
         "x": [
          "India"
         ],
         "xaxis": "x9",
         "y": [
          0.035
         ],
         "yaxis": "y9"
        },
        {
         "hovertemplate": "Country=%{x}<br>Decade=1980<br>Women (%)=%{y}<br>Population (thousands)=%{marker.size}<extra></extra>",
         "legendgroup": "India",
         "marker": {
          "color": "#636efa",
          "size": [
           698952.837
          ],
          "sizemode": "area",
          "sizeref": 3085.7029075,
          "symbol": "circle"
         },
         "mode": "markers",
         "name": "India",
         "orientation": "v",
         "showlegend": false,
         "type": "scatter",
         "x": [
          "India"
         ],
         "xaxis": "x4",
         "y": [
          0.06
         ],
         "yaxis": "y4"
        },
        {
         "hovertemplate": "Country=%{x}<br>Decade=1990<br>Women (%)=%{y}<br>Population (thousands)=%{marker.size}<extra></extra>",
         "legendgroup": "India",
         "marker": {
          "color": "#636efa",
          "size": [
           873277.799
          ],
          "sizemode": "area",
          "sizeref": 3085.7029075,
          "symbol": "circle"
         },
         "mode": "markers",
         "name": "India",
         "orientation": "v",
         "showlegend": false,
         "type": "scatter",
         "x": [
          "India"
         ],
         "xaxis": "x5",
         "y": [
          0.07500000000000001
         ],
         "yaxis": "y5"
        },
        {
         "hovertemplate": "Country=%{x}<br>Decade=2000<br>Women (%)=%{y}<br>Population (thousands)=%{marker.size}<extra></extra>",
         "legendgroup": "India",
         "marker": {
          "color": "#636efa",
          "size": [
           1056575.548
          ],
          "sizemode": "area",
          "sizeref": 3085.7029075,
          "symbol": "circle"
         },
         "mode": "markers",
         "name": "India",
         "orientation": "v",
         "showlegend": false,
         "type": "scatter",
         "x": [
          "India"
         ],
         "xaxis": "x6",
         "y": [
          0.095
         ],
         "yaxis": "y6"
        },
        {
         "hovertemplate": "Country=%{x}<br>Decade=2010<br>Women (%)=%{y}<br>Population (thousands)=%{marker.size}<extra></extra>",
         "legendgroup": "India",
         "marker": {
          "color": "#636efa",
          "size": [
           1234281.163
          ],
          "sizemode": "area",
          "sizeref": 3085.7029075,
          "symbol": "circle"
         },
         "mode": "markers",
         "name": "India",
         "orientation": "v",
         "showlegend": false,
         "type": "scatter",
         "x": [
          "India"
         ],
         "xaxis": "x",
         "y": [
          0.11499999999999999
         ],
         "yaxis": "y"
        },
        {
         "hovertemplate": "Country=%{x}<br>Decade=1950<br>Women (%)=%{y}<br>Population (thousands)=%{marker.size}<extra></extra>",
         "legendgroup": "Iceland",
         "marker": {
          "color": "#EF553B",
          "size": [
           142.657
          ],
          "sizemode": "area",
          "sizeref": 3085.7029075,
          "symbol": "circle"
         },
         "mode": "markers",
         "name": "Iceland",
         "orientation": "v",
         "showlegend": true,
         "type": "scatter",
         "x": [
          "Iceland"
         ],
         "xaxis": "x7",
         "y": [
          0.0225
         ],
         "yaxis": "y7"
        },
        {
         "hovertemplate": "Country=%{x}<br>Decade=1960<br>Women (%)=%{y}<br>Population (thousands)=%{marker.size}<extra></extra>",
         "legendgroup": "Iceland",
         "marker": {
          "color": "#EF553B",
          "size": [
           175.584
          ],
          "sizemode": "area",
          "sizeref": 3085.7029075,
          "symbol": "circle"
         },
         "mode": "markers",
         "name": "Iceland",
         "orientation": "v",
         "showlegend": false,
         "type": "scatter",
         "x": [
          "Iceland"
         ],
         "xaxis": "x8",
         "y": [
          0.02
         ],
         "yaxis": "y8"
        },
        {
         "hovertemplate": "Country=%{x}<br>Decade=1970<br>Women (%)=%{y}<br>Population (thousands)=%{marker.size}<extra></extra>",
         "legendgroup": "Iceland",
         "marker": {
          "color": "#EF553B",
          "size": [
           204.423
          ],
          "sizemode": "area",
          "sizeref": 3085.7029075,
          "symbol": "circle"
         },
         "mode": "markers",
         "name": "Iceland",
         "orientation": "v",
         "showlegend": false,
         "type": "scatter",
         "x": [
          "Iceland"
         ],
         "xaxis": "x9",
         "y": [
          0.05
         ],
         "yaxis": "y9"
        },
        {
         "hovertemplate": "Country=%{x}<br>Decade=1980<br>Women (%)=%{y}<br>Population (thousands)=%{marker.size}<extra></extra>",
         "legendgroup": "Iceland",
         "marker": {
          "color": "#EF553B",
          "size": [
           228.256
          ],
          "sizemode": "area",
          "sizeref": 3085.7029075,
          "symbol": "circle"
         },
         "mode": "markers",
         "name": "Iceland",
         "orientation": "v",
         "showlegend": false,
         "type": "scatter",
         "x": [
          "Iceland"
         ],
         "xaxis": "x4",
         "y": [
          0.18
         ],
         "yaxis": "y4"
        },
        {
         "hovertemplate": "Country=%{x}<br>Decade=1990<br>Women (%)=%{y}<br>Population (thousands)=%{marker.size}<extra></extra>",
         "legendgroup": "Iceland",
         "marker": {
          "color": "#EF553B",
          "size": [
           255.044
          ],
          "sizemode": "area",
          "sizeref": 3085.7029075,
          "symbol": "circle"
         },
         "mode": "markers",
         "name": "Iceland",
         "orientation": "v",
         "showlegend": false,
         "type": "scatter",
         "x": [
          "Iceland"
         ],
         "xaxis": "x5",
         "y": [
          0.27999999999999997
         ],
         "yaxis": "y5"
        },
        {
         "hovertemplate": "Country=%{x}<br>Decade=2000<br>Women (%)=%{y}<br>Population (thousands)=%{marker.size}<extra></extra>",
         "legendgroup": "Iceland",
         "marker": {
          "color": "#EF553B",
          "size": [
           280.439
          ],
          "sizemode": "area",
          "sizeref": 3085.7029075,
          "symbol": "circle"
         },
         "mode": "markers",
         "name": "Iceland",
         "orientation": "v",
         "showlegend": false,
         "type": "scatter",
         "x": [
          "Iceland"
         ],
         "xaxis": "x6",
         "y": [
          0.345
         ],
         "yaxis": "y6"
        },
        {
         "hovertemplate": "Country=%{x}<br>Decade=2010<br>Women (%)=%{y}<br>Population (thousands)=%{marker.size}<extra></extra>",
         "legendgroup": "Iceland",
         "marker": {
          "color": "#EF553B",
          "size": [
           320.342
          ],
          "sizemode": "area",
          "sizeref": 3085.7029075,
          "symbol": "circle"
         },
         "mode": "markers",
         "name": "Iceland",
         "orientation": "v",
         "showlegend": false,
         "type": "scatter",
         "x": [
          "Iceland"
         ],
         "xaxis": "x",
         "y": [
          0.4175
         ],
         "yaxis": "y"
        },
        {
         "hovertemplate": "Country=%{x}<br>Decade=1950<br>Women (%)=%{y}<br>Population (thousands)=%{marker.size}<extra></extra>",
         "legendgroup": "Argentina",
         "marker": {
          "color": "#00cc96",
          "size": [
           17037.91
          ],
          "sizemode": "area",
          "sizeref": 3085.7029075,
          "symbol": "circle"
         },
         "mode": "markers",
         "name": "Argentina",
         "orientation": "v",
         "showlegend": true,
         "type": "scatter",
         "x": [
          "Argentina"
         ],
         "xaxis": "x7",
         "y": [
          0.13
         ],
         "yaxis": "y7"
        },
        {
         "hovertemplate": "Country=%{x}<br>Decade=1960<br>Women (%)=%{y}<br>Population (thousands)=%{marker.size}<extra></extra>",
         "legendgroup": "Argentina",
         "marker": {
          "color": "#00cc96",
          "size": [
           20481.781
          ],
          "sizemode": "area",
          "sizeref": 3085.7029075,
          "symbol": "circle"
         },
         "mode": "markers",
         "name": "Argentina",
         "orientation": "v",
         "showlegend": false,
         "type": "scatter",
         "x": [
          "Argentina"
         ],
         "xaxis": "x8",
         "y": [
          0.013333333333333334
         ],
         "yaxis": "y8"
        },
        {
         "hovertemplate": "Country=%{x}<br>Decade=1970<br>Women (%)=%{y}<br>Population (thousands)=%{marker.size}<extra></extra>",
         "legendgroup": "Argentina",
         "marker": {
          "color": "#00cc96",
          "size": [
           23880.564
          ],
          "sizemode": "area",
          "sizeref": 3085.7029075,
          "symbol": "circle"
         },
         "mode": "markers",
         "name": "Argentina",
         "orientation": "v",
         "showlegend": false,
         "type": "scatter",
         "x": [
          "Argentina"
         ],
         "xaxis": "x9",
         "y": [
          0.08
         ],
         "yaxis": "y9"
        },
        {
         "hovertemplate": "Country=%{x}<br>Decade=1980<br>Women (%)=%{y}<br>Population (thousands)=%{marker.size}<extra></extra>",
         "legendgroup": "Argentina",
         "marker": {
          "color": "#00cc96",
          "size": [
           27896.532
          ],
          "sizemode": "area",
          "sizeref": 3085.7029075,
          "symbol": "circle"
         },
         "mode": "markers",
         "name": "Argentina",
         "orientation": "v",
         "showlegend": false,
         "type": "scatter",
         "x": [
          "Argentina"
         ],
         "xaxis": "x4",
         "y": [
          0.0475
         ],
         "yaxis": "y4"
        },
        {
         "hovertemplate": "Country=%{x}<br>Decade=1990<br>Women (%)=%{y}<br>Population (thousands)=%{marker.size}<extra></extra>",
         "legendgroup": "Argentina",
         "marker": {
          "color": "#00cc96",
          "size": [
           32618.648
          ],
          "sizemode": "area",
          "sizeref": 3085.7029075,
          "symbol": "circle"
         },
         "mode": "markers",
         "name": "Argentina",
         "orientation": "v",
         "showlegend": false,
         "type": "scatter",
         "x": [
          "Argentina"
         ],
         "xaxis": "x5",
         "y": [
          0.198
         ],
         "yaxis": "y5"
        },
        {
         "hovertemplate": "Country=%{x}<br>Decade=2000<br>Women (%)=%{y}<br>Population (thousands)=%{marker.size}<extra></extra>",
         "legendgroup": "Argentina",
         "marker": {
          "color": "#00cc96",
          "size": [
           36870.796
          ],
          "sizemode": "area",
          "sizeref": 3085.7029075,
          "symbol": "circle"
         },
         "mode": "markers",
         "name": "Argentina",
         "orientation": "v",
         "showlegend": false,
         "type": "scatter",
         "x": [
          "Argentina"
         ],
         "xaxis": "x6",
         "y": [
          0.376
         ],
         "yaxis": "y6"
        },
        {
         "hovertemplate": "Country=%{x}<br>Decade=2010<br>Women (%)=%{y}<br>Population (thousands)=%{marker.size}<extra></extra>",
         "legendgroup": "Argentina",
         "marker": {
          "color": "#00cc96",
          "size": [
           40895.751
          ],
          "sizemode": "area",
          "sizeref": 3085.7029075,
          "symbol": "circle"
         },
         "mode": "markers",
         "name": "Argentina",
         "orientation": "v",
         "showlegend": false,
         "type": "scatter",
         "x": [
          "Argentina"
         ],
         "xaxis": "x",
         "y": [
          0.37
         ],
         "yaxis": "y"
        },
        {
         "hovertemplate": "Country=%{x}<br>Decade=1950<br>Women (%)=%{y}<br>Population (thousands)=%{marker.size}<extra></extra>",
         "legendgroup": "Mongolia",
         "marker": {
          "color": "#ab63fa",
          "size": [
           780.199
          ],
          "sizemode": "area",
          "sizeref": 3085.7029075,
          "symbol": "circle"
         },
         "mode": "markers",
         "name": "Mongolia",
         "orientation": "v",
         "showlegend": true,
         "type": "scatter",
         "x": [
          "Mongolia"
         ],
         "xaxis": "x7",
         "y": [
          0.17
         ],
         "yaxis": "y7"
        },
        {
         "hovertemplate": "Country=%{x}<br>Decade=1960<br>Women (%)=%{y}<br>Population (thousands)=%{marker.size}<extra></extra>",
         "legendgroup": "Mongolia",
         "marker": {
          "color": "#ab63fa",
          "size": [
           955.514
          ],
          "sizemode": "area",
          "sizeref": 3085.7029075,
          "symbol": "circle"
         },
         "mode": "markers",
         "name": "Mongolia",
         "orientation": "v",
         "showlegend": false,
         "type": "scatter",
         "x": [
          "Mongolia"
         ],
         "xaxis": "x8",
         "y": [
          0.2125
         ],
         "yaxis": "y8"
        },
        {
         "hovertemplate": "Country=%{x}<br>Decade=1970<br>Women (%)=%{y}<br>Population (thousands)=%{marker.size}<extra></extra>",
         "legendgroup": "Mongolia",
         "marker": {
          "color": "#ab63fa",
          "size": [
           1278.819
          ],
          "sizemode": "area",
          "sizeref": 3085.7029075,
          "symbol": "circle"
         },
         "mode": "markers",
         "name": "Mongolia",
         "orientation": "v",
         "showlegend": false,
         "type": "scatter",
         "x": [
          "Mongolia"
         ],
         "xaxis": "x9",
         "y": [
          0.23
         ],
         "yaxis": "y9"
        },
        {
         "hovertemplate": "Country=%{x}<br>Decade=1980<br>Women (%)=%{y}<br>Population (thousands)=%{marker.size}<extra></extra>",
         "legendgroup": "Mongolia",
         "marker": {
          "color": "#ab63fa",
          "size": [
           1689.622
          ],
          "sizemode": "area",
          "sizeref": 3085.7029075,
          "symbol": "circle"
         },
         "mode": "markers",
         "name": "Mongolia",
         "orientation": "v",
         "showlegend": false,
         "type": "scatter",
         "x": [
          "Mongolia"
         ],
         "xaxis": "x4",
         "y": [
          0.245
         ],
         "yaxis": "y4"
        },
        {
         "hovertemplate": "Country=%{x}<br>Decade=1990<br>Women (%)=%{y}<br>Population (thousands)=%{marker.size}<extra></extra>",
         "legendgroup": "Mongolia",
         "marker": {
          "color": "#ab63fa",
          "size": [
           2184.139
          ],
          "sizemode": "area",
          "sizeref": 3085.7029075,
          "symbol": "circle"
         },
         "mode": "markers",
         "name": "Mongolia",
         "orientation": "v",
         "showlegend": false,
         "type": "scatter",
         "x": [
          "Mongolia"
         ],
         "xaxis": "x5",
         "y": [
          0.04666666666666667
         ],
         "yaxis": "y5"
        },
        {
         "hovertemplate": "Country=%{x}<br>Decade=2000<br>Women (%)=%{y}<br>Population (thousands)=%{marker.size}<extra></extra>",
         "legendgroup": "Mongolia",
         "marker": {
          "color": "#ab63fa",
          "size": [
           2397.417
          ],
          "sizemode": "area",
          "sizeref": 3085.7029075,
          "symbol": "circle"
         },
         "mode": "markers",
         "name": "Mongolia",
         "orientation": "v",
         "showlegend": false,
         "type": "scatter",
         "x": [
          "Mongolia"
         ],
         "xaxis": "x6",
         "y": [
          0.065
         ],
         "yaxis": "y6"
        },
        {
         "hovertemplate": "Country=%{x}<br>Decade=2010<br>Women (%)=%{y}<br>Population (thousands)=%{marker.size}<extra></extra>",
         "legendgroup": "Mongolia",
         "marker": {
          "color": "#ab63fa",
          "size": [
           2719.902
          ],
          "sizemode": "area",
          "sizeref": 3085.7029075,
          "symbol": "circle"
         },
         "mode": "markers",
         "name": "Mongolia",
         "orientation": "v",
         "showlegend": false,
         "type": "scatter",
         "x": [
          "Mongolia"
         ],
         "xaxis": "x",
         "y": [
          0.1466666666666667
         ],
         "yaxis": "y"
        },
        {
         "hovertemplate": "Country=%{x}<br>Decade=1950<br>Women (%)=%{y}<br>Population (thousands)=%{marker.size}<extra></extra>",
         "legendgroup": "Sri Lanka",
         "marker": {
          "color": "#FFA15A",
          "size": [
           7971.098
          ],
          "sizemode": "area",
          "sizeref": 3085.7029075,
          "symbol": "circle"
         },
         "mode": "markers",
         "name": "Sri Lanka",
         "orientation": "v",
         "showlegend": true,
         "type": "scatter",
         "x": [
          "Sri Lanka"
         ],
         "xaxis": "x7",
         "y": [
          0.025
         ],
         "yaxis": "y7"
        },
        {
         "hovertemplate": "Country=%{x}<br>Decade=1960<br>Women (%)=%{y}<br>Population (thousands)=%{marker.size}<extra></extra>",
         "legendgroup": "Sri Lanka",
         "marker": {
          "color": "#FFA15A",
          "size": [
           9874.476
          ],
          "sizemode": "area",
          "sizeref": 3085.7029075,
          "symbol": "circle"
         },
         "mode": "markers",
         "name": "Sri Lanka",
         "orientation": "v",
         "showlegend": false,
         "type": "scatter",
         "x": [
          "Sri Lanka"
         ],
         "xaxis": "x8",
         "y": [
          0.02
         ],
         "yaxis": "y8"
        },
        {
         "hovertemplate": "Country=%{x}<br>Decade=1970<br>Women (%)=%{y}<br>Population (thousands)=%{marker.size}<extra></extra>",
         "legendgroup": "Sri Lanka",
         "marker": {
          "color": "#FFA15A",
          "size": [
           12485.736
          ],
          "sizemode": "area",
          "sizeref": 3085.7029075,
          "symbol": "circle"
         },
         "mode": "markers",
         "name": "Sri Lanka",
         "orientation": "v",
         "showlegend": false,
         "type": "scatter",
         "x": [
          "Sri Lanka"
         ],
         "xaxis": "x9",
         "y": [
          0.03
         ],
         "yaxis": "y9"
        },
        {
         "hovertemplate": "Country=%{x}<br>Decade=1980<br>Women (%)=%{y}<br>Population (thousands)=%{marker.size}<extra></extra>",
         "legendgroup": "Sri Lanka",
         "marker": {
          "color": "#FFA15A",
          "size": [
           15035.84
          ],
          "sizemode": "area",
          "sizeref": 3085.7029075,
          "symbol": "circle"
         },
         "mode": "markers",
         "name": "Sri Lanka",
         "orientation": "v",
         "showlegend": false,
         "type": "scatter",
         "x": [
          "Sri Lanka"
         ],
         "xaxis": "x4",
         "y": [
          0.05
         ],
         "yaxis": "y4"
        },
        {
         "hovertemplate": "Country=%{x}<br>Decade=1990<br>Women (%)=%{y}<br>Population (thousands)=%{marker.size}<extra></extra>",
         "legendgroup": "Sri Lanka",
         "marker": {
          "color": "#FFA15A",
          "size": [
           17325.769
          ],
          "sizemode": "area",
          "sizeref": 3085.7029075,
          "symbol": "circle"
         },
         "mode": "markers",
         "name": "Sri Lanka",
         "orientation": "v",
         "showlegend": false,
         "type": "scatter",
         "x": [
          "Sri Lanka"
         ],
         "xaxis": "x5",
         "y": [
          0.05
         ],
         "yaxis": "y5"
        },
        {
         "hovertemplate": "Country=%{x}<br>Decade=2000<br>Women (%)=%{y}<br>Population (thousands)=%{marker.size}<extra></extra>",
         "legendgroup": "Sri Lanka",
         "marker": {
          "color": "#FFA15A",
          "size": [
           18777.606
          ],
          "sizemode": "area",
          "sizeref": 3085.7029075,
          "symbol": "circle"
         },
         "mode": "markers",
         "name": "Sri Lanka",
         "orientation": "v",
         "showlegend": false,
         "type": "scatter",
         "x": [
          "Sri Lanka"
         ],
         "xaxis": "x6",
         "y": [
          0.043333333333333335
         ],
         "yaxis": "y6"
        },
        {
         "hovertemplate": "Country=%{x}<br>Decade=2010<br>Women (%)=%{y}<br>Population (thousands)=%{marker.size}<extra></extra>",
         "legendgroup": "Sri Lanka",
         "marker": {
          "color": "#FFA15A",
          "size": [
           20261.738
          ],
          "sizemode": "area",
          "sizeref": 3085.7029075,
          "symbol": "circle"
         },
         "mode": "markers",
         "name": "Sri Lanka",
         "orientation": "v",
         "showlegend": false,
         "type": "scatter",
         "x": [
          "Sri Lanka"
         ],
         "xaxis": "x",
         "y": [
          0.05
         ],
         "yaxis": "y"
        },
        {
         "hovertemplate": "Country=%{x}<br>Decade=1950<br>Women (%)=%{y}<br>Population (thousands)=%{marker.size}<extra></extra>",
         "legendgroup": "Malaysia",
         "marker": {
          "color": "#19d3f3",
          "size": [
           6109.902
          ],
          "sizemode": "area",
          "sizeref": 3085.7029075,
          "symbol": "circle"
         },
         "mode": "markers",
         "name": "Malaysia",
         "orientation": "v",
         "showlegend": true,
         "type": "scatter",
         "x": [
          "Malaysia"
         ],
         "xaxis": "x7",
         "y": [
          0.03
         ],
         "yaxis": "y7"
        },
        {
         "hovertemplate": "Country=%{x}<br>Decade=1960<br>Women (%)=%{y}<br>Population (thousands)=%{marker.size}<extra></extra>",
         "legendgroup": "Malaysia",
         "marker": {
          "color": "#19d3f3",
          "size": [
           8156.342
          ],
          "sizemode": "area",
          "sizeref": 3085.7029075,
          "symbol": "circle"
         },
         "mode": "markers",
         "name": "Malaysia",
         "orientation": "v",
         "showlegend": false,
         "type": "scatter",
         "x": [
          "Malaysia"
         ],
         "xaxis": "x8",
         "y": [
          0.02
         ],
         "yaxis": "y8"
        },
        {
         "hovertemplate": "Country=%{x}<br>Decade=1970<br>Women (%)=%{y}<br>Population (thousands)=%{marker.size}<extra></extra>",
         "legendgroup": "Malaysia",
         "marker": {
          "color": "#19d3f3",
          "size": [
           10804.131
          ],
          "sizemode": "area",
          "sizeref": 3085.7029075,
          "symbol": "circle"
         },
         "mode": "markers",
         "name": "Malaysia",
         "orientation": "v",
         "showlegend": false,
         "type": "scatter",
         "x": [
          "Malaysia"
         ],
         "xaxis": "x9",
         "y": [
          0.04
         ],
         "yaxis": "y9"
        },
        {
         "hovertemplate": "Country=%{x}<br>Decade=1980<br>Women (%)=%{y}<br>Population (thousands)=%{marker.size}<extra></extra>",
         "legendgroup": "Malaysia",
         "marker": {
          "color": "#19d3f3",
          "size": [
           13798.094
          ],
          "sizemode": "area",
          "sizeref": 3085.7029075,
          "symbol": "circle"
         },
         "mode": "markers",
         "name": "Malaysia",
         "orientation": "v",
         "showlegend": false,
         "type": "scatter",
         "x": [
          "Malaysia"
         ],
         "xaxis": "x4",
         "y": [
          0.05
         ],
         "yaxis": "y4"
        },
        {
         "hovertemplate": "Country=%{x}<br>Decade=1990<br>Women (%)=%{y}<br>Population (thousands)=%{marker.size}<extra></extra>",
         "legendgroup": "Malaysia",
         "marker": {
          "color": "#19d3f3",
          "size": [
           18029.824
          ],
          "sizemode": "area",
          "sizeref": 3085.7029075,
          "symbol": "circle"
         },
         "mode": "markers",
         "name": "Malaysia",
         "orientation": "v",
         "showlegend": false,
         "type": "scatter",
         "x": [
          "Malaysia"
         ],
         "xaxis": "x5",
         "y": [
          0.07
         ],
         "yaxis": "y5"
        },
        {
         "hovertemplate": "Country=%{x}<br>Decade=2000<br>Women (%)=%{y}<br>Population (thousands)=%{marker.size}<extra></extra>",
         "legendgroup": "Malaysia",
         "marker": {
          "color": "#19d3f3",
          "size": [
           23194.252
          ],
          "sizemode": "area",
          "sizeref": 3085.7029075,
          "symbol": "circle"
         },
         "mode": "markers",
         "name": "Malaysia",
         "orientation": "v",
         "showlegend": false,
         "type": "scatter",
         "x": [
          "Malaysia"
         ],
         "xaxis": "x6",
         "y": [
          0.1
         ],
         "yaxis": "y6"
        },
        {
         "hovertemplate": "Country=%{x}<br>Decade=2010<br>Women (%)=%{y}<br>Population (thousands)=%{marker.size}<extra></extra>",
         "legendgroup": "Malaysia",
         "marker": {
          "color": "#19d3f3",
          "size": [
           28208.028
          ],
          "sizemode": "area",
          "sizeref": 3085.7029075,
          "symbol": "circle"
         },
         "mode": "markers",
         "name": "Malaysia",
         "orientation": "v",
         "showlegend": false,
         "type": "scatter",
         "x": [
          "Malaysia"
         ],
         "xaxis": "x",
         "y": [
          0.12000000000000001
         ],
         "yaxis": "y"
        },
        {
         "hovertemplate": "Country=%{x}<br>Decade=1950<br>Women (%)=%{y}<br>Population (thousands)=%{marker.size}<extra></extra>",
         "legendgroup": "Sudan",
         "marker": {
          "color": "#FF6692",
          "size": [
           5733.789
          ],
          "sizemode": "area",
          "sizeref": 3085.7029075,
          "symbol": "circle"
         },
         "mode": "markers",
         "name": "Sudan",
         "orientation": "v",
         "showlegend": true,
         "type": "scatter",
         "x": [
          "Sudan"
         ],
         "xaxis": "x7",
         "y": [
          0
         ],
         "yaxis": "y7"
        },
        {
         "hovertemplate": "Country=%{x}<br>Decade=1960<br>Women (%)=%{y}<br>Population (thousands)=%{marker.size}<extra></extra>",
         "legendgroup": "Sudan",
         "marker": {
          "color": "#FF6692",
          "size": [
           7544.498
          ],
          "sizemode": "area",
          "sizeref": 3085.7029075,
          "symbol": "circle"
         },
         "mode": "markers",
         "name": "Sudan",
         "orientation": "v",
         "showlegend": false,
         "type": "scatter",
         "x": [
          "Sudan"
         ],
         "xaxis": "x8",
         "y": [
          0
         ],
         "yaxis": "y8"
        },
        {
         "hovertemplate": "Country=%{x}<br>Decade=1970<br>Women (%)=%{y}<br>Population (thousands)=%{marker.size}<extra></extra>",
         "legendgroup": "Sudan",
         "marker": {
          "color": "#FF6692",
          "size": [
           10281.695
          ],
          "sizemode": "area",
          "sizeref": 3085.7029075,
          "symbol": "circle"
         },
         "mode": "markers",
         "name": "Sudan",
         "orientation": "v",
         "showlegend": false,
         "type": "scatter",
         "x": [
          "Sudan"
         ],
         "xaxis": "x9",
         "y": [
          0.06
         ],
         "yaxis": "y9"
        },
        {
         "hovertemplate": "Country=%{x}<br>Decade=1980<br>Women (%)=%{y}<br>Population (thousands)=%{marker.size}<extra></extra>",
         "legendgroup": "Sudan",
         "marker": {
          "color": "#FF6692",
          "size": [
           14507.466
          ],
          "sizemode": "area",
          "sizeref": 3085.7029075,
          "symbol": "circle"
         },
         "mode": "markers",
         "name": "Sudan",
         "orientation": "v",
         "showlegend": false,
         "type": "scatter",
         "x": [
          "Sudan"
         ],
         "xaxis": "x4",
         "y": [
          0.05333333333333334
         ],
         "yaxis": "y4"
        },
        {
         "hovertemplate": "Country=%{x}<br>Decade=1990<br>Women (%)=%{y}<br>Population (thousands)=%{marker.size}<extra></extra>",
         "legendgroup": "Sudan",
         "marker": {
          "color": "#FF6692",
          "size": [
           20147.592
          ],
          "sizemode": "area",
          "sizeref": 3085.7029075,
          "symbol": "circle"
         },
         "mode": "markers",
         "name": "Sudan",
         "orientation": "v",
         "showlegend": false,
         "type": "scatter",
         "x": [
          "Sudan"
         ],
         "xaxis": "x5",
         "y": [
          0.065
         ],
         "yaxis": "y5"
        },
        {
         "hovertemplate": "Country=%{x}<br>Decade=2000<br>Women (%)=%{y}<br>Population (thousands)=%{marker.size}<extra></extra>",
         "legendgroup": "Sudan",
         "marker": {
          "color": "#FF6692",
          "size": [
           27275.019
          ],
          "sizemode": "area",
          "sizeref": 3085.7029075,
          "symbol": "circle"
         },
         "mode": "markers",
         "name": "Sudan",
         "orientation": "v",
         "showlegend": false,
         "type": "scatter",
         "x": [
          "Sudan"
         ],
         "xaxis": "x6",
         "y": [
          0.125
         ],
         "yaxis": "y6"
        },
        {
         "hovertemplate": "Country=%{x}<br>Decade=2010<br>Women (%)=%{y}<br>Population (thousands)=%{marker.size}<extra></extra>",
         "legendgroup": "Sudan",
         "marker": {
          "color": "#FF6692",
          "size": [
           34545.014
          ],
          "sizemode": "area",
          "sizeref": 3085.7029075,
          "symbol": "circle"
         },
         "mode": "markers",
         "name": "Sudan",
         "orientation": "v",
         "showlegend": false,
         "type": "scatter",
         "x": [
          "Sudan"
         ],
         "xaxis": "x",
         "y": [
          0.28500000000000003
         ],
         "yaxis": "y"
        },
        {
         "hovertemplate": "Country=%{x}<br>Decade=1960<br>Women (%)=%{y}<br>Population (thousands)=%{marker.size}<extra></extra>",
         "legendgroup": "Lesotho",
         "marker": {
          "color": "#B6E880",
          "size": [
           837.264
          ],
          "sizemode": "area",
          "sizeref": 3085.7029075,
          "symbol": "circle"
         },
         "mode": "markers",
         "name": "Lesotho",
         "orientation": "v",
         "showlegend": true,
         "type": "scatter",
         "x": [
          "Lesotho"
         ],
         "xaxis": "x8",
         "y": [
          0
         ],
         "yaxis": "y8"
        },
        {
         "hovertemplate": "Country=%{x}<br>Decade=1970<br>Women (%)=%{y}<br>Population (thousands)=%{marker.size}<extra></extra>",
         "legendgroup": "Lesotho",
         "marker": {
          "color": "#B6E880",
          "size": [
           1028.93
          ],
          "sizemode": "area",
          "sizeref": 3085.7029075,
          "symbol": "circle"
         },
         "mode": "markers",
         "name": "Lesotho",
         "orientation": "v",
         "showlegend": false,
         "type": "scatter",
         "x": [
          "Lesotho"
         ],
         "xaxis": "x9",
         "y": [
          0.06
         ],
         "yaxis": "y9"
        },
        {
         "hovertemplate": "Country=%{x}<br>Decade=1980<br>Women (%)=%{y}<br>Population (thousands)=%{marker.size}<extra></extra>",
         "legendgroup": "Lesotho",
         "marker": {
          "color": "#B6E880",
          "size": [
           1340.258
          ],
          "sizemode": "area",
          "sizeref": 3085.7029075,
          "symbol": "circle"
         },
         "mode": "markers",
         "name": "Lesotho",
         "orientation": "v",
         "showlegend": false,
         "type": "scatter",
         "x": [
          "Lesotho"
         ],
         "xaxis": "x4",
         "y": [
          0
         ],
         "yaxis": "y4"
        },
        {
         "hovertemplate": "Country=%{x}<br>Decade=1990<br>Women (%)=%{y}<br>Population (thousands)=%{marker.size}<extra></extra>",
         "legendgroup": "Lesotho",
         "marker": {
          "color": "#B6E880",
          "size": [
           1703.757
          ],
          "sizemode": "area",
          "sizeref": 3085.7029075,
          "symbol": "circle"
         },
         "mode": "markers",
         "name": "Lesotho",
         "orientation": "v",
         "showlegend": false,
         "type": "scatter",
         "x": [
          "Lesotho"
         ],
         "xaxis": "x5",
         "y": [
          0.05333333333333334
         ],
         "yaxis": "y5"
        },
        {
         "hovertemplate": "Country=%{x}<br>Decade=2000<br>Women (%)=%{y}<br>Population (thousands)=%{marker.size}<extra></extra>",
         "legendgroup": "Lesotho",
         "marker": {
          "color": "#B6E880",
          "size": [
           2032.805
          ],
          "sizemode": "area",
          "sizeref": 3085.7029075,
          "symbol": "circle"
         },
         "mode": "markers",
         "name": "Lesotho",
         "orientation": "v",
         "showlegend": false,
         "type": "scatter",
         "x": [
          "Lesotho"
         ],
         "xaxis": "x6",
         "y": [
          0.18
         ],
         "yaxis": "y6"
        },
        {
         "hovertemplate": "Country=%{x}<br>Decade=2010<br>Women (%)=%{y}<br>Population (thousands)=%{marker.size}<extra></extra>",
         "legendgroup": "Lesotho",
         "marker": {
          "color": "#B6E880",
          "size": [
           1995.575
          ],
          "sizemode": "area",
          "sizeref": 3085.7029075,
          "symbol": "circle"
         },
         "mode": "markers",
         "name": "Lesotho",
         "orientation": "v",
         "showlegend": false,
         "type": "scatter",
         "x": [
          "Lesotho"
         ],
         "xaxis": "x",
         "y": [
          0.24
         ],
         "yaxis": "y"
        },
        {
         "hovertemplate": "Country=%{x}<br>Decade=1960<br>Women (%)=%{y}<br>Population (thousands)=%{marker.size}<extra></extra>",
         "legendgroup": "Cyprus",
         "marker": {
          "color": "#FF97FF",
          "size": [
           572.933
          ],
          "sizemode": "area",
          "sizeref": 3085.7029075,
          "symbol": "circle"
         },
         "mode": "markers",
         "name": "Cyprus",
         "orientation": "v",
         "showlegend": true,
         "type": "scatter",
         "x": [
          "Cyprus"
         ],
         "xaxis": "x8",
         "y": [
          0
         ],
         "yaxis": "y8"
        },
        {
         "hovertemplate": "Country=%{x}<br>Decade=1970<br>Women (%)=%{y}<br>Population (thousands)=%{marker.size}<extra></extra>",
         "legendgroup": "Cyprus",
         "marker": {
          "color": "#FF97FF",
          "size": [
           613.618
          ],
          "sizemode": "area",
          "sizeref": 3085.7029075,
          "symbol": "circle"
         },
         "mode": "markers",
         "name": "Cyprus",
         "orientation": "v",
         "showlegend": false,
         "type": "scatter",
         "x": [
          "Cyprus"
         ],
         "xaxis": "x9",
         "y": [
          0
         ],
         "yaxis": "y9"
        },
        {
         "hovertemplate": "Country=%{x}<br>Decade=1980<br>Women (%)=%{y}<br>Population (thousands)=%{marker.size}<extra></extra>",
         "legendgroup": "Cyprus",
         "marker": {
          "color": "#FF97FF",
          "size": [
           685.408
          ],
          "sizemode": "area",
          "sizeref": 3085.7029075,
          "symbol": "circle"
         },
         "mode": "markers",
         "name": "Cyprus",
         "orientation": "v",
         "showlegend": false,
         "type": "scatter",
         "x": [
          "Cyprus"
         ],
         "xaxis": "x4",
         "y": [
          0.025
         ],
         "yaxis": "y4"
        },
        {
         "hovertemplate": "Country=%{x}<br>Decade=1990<br>Women (%)=%{y}<br>Population (thousands)=%{marker.size}<extra></extra>",
         "legendgroup": "Cyprus",
         "marker": {
          "color": "#FF97FF",
          "size": [
           766.616
          ],
          "sizemode": "area",
          "sizeref": 3085.7029075,
          "symbol": "circle"
         },
         "mode": "markers",
         "name": "Cyprus",
         "orientation": "v",
         "showlegend": false,
         "type": "scatter",
         "x": [
          "Cyprus"
         ],
         "xaxis": "x5",
         "y": [
          0.05
         ],
         "yaxis": "y5"
        },
        {
         "hovertemplate": "Country=%{x}<br>Decade=2000<br>Women (%)=%{y}<br>Population (thousands)=%{marker.size}<extra></extra>",
         "legendgroup": "Cyprus",
         "marker": {
          "color": "#FF97FF",
          "size": [
           943.288
          ],
          "sizemode": "area",
          "sizeref": 3085.7029075,
          "symbol": "circle"
         },
         "mode": "markers",
         "name": "Cyprus",
         "orientation": "v",
         "showlegend": false,
         "type": "scatter",
         "x": [
          "Cyprus"
         ],
         "xaxis": "x6",
         "y": [
          0.125
         ],
         "yaxis": "y6"
        },
        {
         "hovertemplate": "Country=%{x}<br>Decade=2010<br>Women (%)=%{y}<br>Population (thousands)=%{marker.size}<extra></extra>",
         "legendgroup": "Cyprus",
         "marker": {
          "color": "#FF97FF",
          "size": [
           1112.617
          ],
          "sizemode": "area",
          "sizeref": 3085.7029075,
          "symbol": "circle"
         },
         "mode": "markers",
         "name": "Cyprus",
         "orientation": "v",
         "showlegend": false,
         "type": "scatter",
         "x": [
          "Cyprus"
         ],
         "xaxis": "x",
         "y": [
          0.145
         ],
         "yaxis": "y"
        },
        {
         "hovertemplate": "Country=%{x}<br>Decade=1960<br>Women (%)=%{y}<br>Population (thousands)=%{marker.size}<extra></extra>",
         "legendgroup": "Mauritius",
         "marker": {
          "color": "#FECB52",
          "size": [
           660.025
          ],
          "sizemode": "area",
          "sizeref": 3085.7029075,
          "symbol": "circle"
         },
         "mode": "markers",
         "name": "Mauritius",
         "orientation": "v",
         "showlegend": true,
         "type": "scatter",
         "x": [
          "Mauritius"
         ],
         "xaxis": "x8",
         "y": [
          0
         ],
         "yaxis": "y8"
        },
        {
         "hovertemplate": "Country=%{x}<br>Decade=1970<br>Women (%)=%{y}<br>Population (thousands)=%{marker.size}<extra></extra>",
         "legendgroup": "Mauritius",
         "marker": {
          "color": "#FECB52",
          "size": [
           826.451
          ],
          "sizemode": "area",
          "sizeref": 3085.7029075,
          "symbol": "circle"
         },
         "mode": "markers",
         "name": "Mauritius",
         "orientation": "v",
         "showlegend": false,
         "type": "scatter",
         "x": [
          "Mauritius"
         ],
         "xaxis": "x9",
         "y": [
          0.04
         ],
         "yaxis": "y9"
        },
        {
         "hovertemplate": "Country=%{x}<br>Decade=1980<br>Women (%)=%{y}<br>Population (thousands)=%{marker.size}<extra></extra>",
         "legendgroup": "Mauritius",
         "marker": {
          "color": "#FECB52",
          "size": [
           966.039
          ],
          "sizemode": "area",
          "sizeref": 3085.7029075,
          "symbol": "circle"
         },
         "mode": "markers",
         "name": "Mauritius",
         "orientation": "v",
         "showlegend": false,
         "type": "scatter",
         "x": [
          "Mauritius"
         ],
         "xaxis": "x4",
         "y": [
          0.05666666666666667
         ],
         "yaxis": "y4"
        },
        {
         "hovertemplate": "Country=%{x}<br>Decade=1990<br>Women (%)=%{y}<br>Population (thousands)=%{marker.size}<extra></extra>",
         "legendgroup": "Mauritius",
         "marker": {
          "color": "#FECB52",
          "size": [
           1055.869
          ],
          "sizemode": "area",
          "sizeref": 3085.7029075,
          "symbol": "circle"
         },
         "mode": "markers",
         "name": "Mauritius",
         "orientation": "v",
         "showlegend": false,
         "type": "scatter",
         "x": [
          "Mauritius"
         ],
         "xaxis": "x5",
         "y": [
          0.055
         ],
         "yaxis": "y5"
        },
        {
         "hovertemplate": "Country=%{x}<br>Decade=2000<br>Women (%)=%{y}<br>Population (thousands)=%{marker.size}<extra></extra>",
         "legendgroup": "Mauritius",
         "marker": {
          "color": "#FECB52",
          "size": [
           1185.147
          ],
          "sizemode": "area",
          "sizeref": 3085.7029075,
          "symbol": "circle"
         },
         "mode": "markers",
         "name": "Mauritius",
         "orientation": "v",
         "showlegend": false,
         "type": "scatter",
         "x": [
          "Mauritius"
         ],
         "xaxis": "x6",
         "y": [
          0.115
         ],
         "yaxis": "y6"
        },
        {
         "hovertemplate": "Country=%{x}<br>Decade=2010<br>Women (%)=%{y}<br>Population (thousands)=%{marker.size}<extra></extra>",
         "legendgroup": "Mauritius",
         "marker": {
          "color": "#FECB52",
          "size": [
           1247.953
          ],
          "sizemode": "area",
          "sizeref": 3085.7029075,
          "symbol": "circle"
         },
         "mode": "markers",
         "name": "Mauritius",
         "orientation": "v",
         "showlegend": false,
         "type": "scatter",
         "x": [
          "Mauritius"
         ],
         "xaxis": "x",
         "y": [
          0.155
         ],
         "yaxis": "y"
        },
        {
         "hovertemplate": "Country=%{x}<br>Decade=1960<br>Women (%)=%{y}<br>Population (thousands)=%{marker.size}<extra></extra>",
         "legendgroup": "Madagascar",
         "marker": {
          "color": "#636efa",
          "size": [
           5099.368
          ],
          "sizemode": "area",
          "sizeref": 3085.7029075,
          "symbol": "circle"
         },
         "mode": "markers",
         "name": "Madagascar",
         "orientation": "v",
         "showlegend": true,
         "type": "scatter",
         "x": [
          "Madagascar"
         ],
         "xaxis": "x8",
         "y": [
          0.005
         ],
         "yaxis": "y8"
        },
        {
         "hovertemplate": "Country=%{x}<br>Decade=1970<br>Women (%)=%{y}<br>Population (thousands)=%{marker.size}<extra></extra>",
         "legendgroup": "Madagascar",
         "marker": {
          "color": "#636efa",
          "size": [
           6576.305
          ],
          "sizemode": "area",
          "sizeref": 3085.7029075,
          "symbol": "circle"
         },
         "mode": "markers",
         "name": "Madagascar",
         "orientation": "v",
         "showlegend": false,
         "type": "scatter",
         "x": [
          "Madagascar"
         ],
         "xaxis": "x9",
         "y": [
          0.045
         ],
         "yaxis": "y9"
        },
        {
         "hovertemplate": "Country=%{x}<br>Decade=1980<br>Women (%)=%{y}<br>Population (thousands)=%{marker.size}<extra></extra>",
         "legendgroup": "Madagascar",
         "marker": {
          "color": "#636efa",
          "size": [
           8716.549
          ],
          "sizemode": "area",
          "sizeref": 3085.7029075,
          "symbol": "circle"
         },
         "mode": "markers",
         "name": "Madagascar",
         "orientation": "v",
         "showlegend": false,
         "type": "scatter",
         "x": [
          "Madagascar"
         ],
         "xaxis": "x4",
         "y": [
          0.04
         ],
         "yaxis": "y4"
        },
        {
         "hovertemplate": "Country=%{x}<br>Decade=1990<br>Women (%)=%{y}<br>Population (thousands)=%{marker.size}<extra></extra>",
         "legendgroup": "Madagascar",
         "marker": {
          "color": "#636efa",
          "size": [
           11598.647
          ],
          "sizemode": "area",
          "sizeref": 3085.7029075,
          "symbol": "circle"
         },
         "mode": "markers",
         "name": "Madagascar",
         "orientation": "v",
         "showlegend": false,
         "type": "scatter",
         "x": [
          "Madagascar"
         ],
         "xaxis": "x5",
         "y": [
          0.06
         ],
         "yaxis": "y5"
        },
        {
         "hovertemplate": "Country=%{x}<br>Decade=2000<br>Women (%)=%{y}<br>Population (thousands)=%{marker.size}<extra></extra>",
         "legendgroup": "Madagascar",
         "marker": {
          "color": "#636efa",
          "size": [
           15766.806
          ],
          "sizemode": "area",
          "sizeref": 3085.7029075,
          "symbol": "circle"
         },
         "mode": "markers",
         "name": "Madagascar",
         "orientation": "v",
         "showlegend": false,
         "type": "scatter",
         "x": [
          "Madagascar"
         ],
         "xaxis": "x6",
         "y": [
          0.06
         ],
         "yaxis": "y6"
        },
        {
         "hovertemplate": "Country=%{x}<br>Decade=2010<br>Women (%)=%{y}<br>Population (thousands)=%{marker.size}<extra></extra>",
         "legendgroup": "Madagascar",
         "marker": {
          "color": "#636efa",
          "size": [
           21151.64
          ],
          "sizemode": "area",
          "sizeref": 3085.7029075,
          "symbol": "circle"
         },
         "mode": "markers",
         "name": "Madagascar",
         "orientation": "v",
         "showlegend": false,
         "type": "scatter",
         "x": [
          "Madagascar"
         ],
         "xaxis": "x",
         "y": [
          0.14500000000000002
         ],
         "yaxis": "y"
        },
        {
         "hovertemplate": "Country=%{x}<br>Decade=1960<br>Women (%)=%{y}<br>Population (thousands)=%{marker.size}<extra></extra>",
         "legendgroup": "Malta",
         "marker": {
          "color": "#EF553B",
          "size": [
           312.973
          ],
          "sizemode": "area",
          "sizeref": 3085.7029075,
          "symbol": "circle"
         },
         "mode": "markers",
         "name": "Malta",
         "orientation": "v",
         "showlegend": true,
         "type": "scatter",
         "x": [
          "Malta"
         ],
         "xaxis": "x8",
         "y": [
          0.04
         ],
         "yaxis": "y8"
        },
        {
         "hovertemplate": "Country=%{x}<br>Decade=1970<br>Women (%)=%{y}<br>Population (thousands)=%{marker.size}<extra></extra>",
         "legendgroup": "Malta",
         "marker": {
          "color": "#EF553B",
          "size": [
           320.548
          ],
          "sizemode": "area",
          "sizeref": 3085.7029075,
          "symbol": "circle"
         },
         "mode": "markers",
         "name": "Malta",
         "orientation": "v",
         "showlegend": false,
         "type": "scatter",
         "x": [
          "Malta"
         ],
         "xaxis": "x9",
         "y": [
          0.035
         ],
         "yaxis": "y9"
        },
        {
         "hovertemplate": "Country=%{x}<br>Decade=1980<br>Women (%)=%{y}<br>Population (thousands)=%{marker.size}<extra></extra>",
         "legendgroup": "Malta",
         "marker": {
          "color": "#EF553B",
          "size": [
           331.494
          ],
          "sizemode": "area",
          "sizeref": 3085.7029075,
          "symbol": "circle"
         },
         "mode": "markers",
         "name": "Malta",
         "orientation": "v",
         "showlegend": false,
         "type": "scatter",
         "x": [
          "Malta"
         ],
         "xaxis": "x4",
         "y": [
          0.03
         ],
         "yaxis": "y4"
        },
        {
         "hovertemplate": "Country=%{x}<br>Decade=1990<br>Women (%)=%{y}<br>Population (thousands)=%{marker.size}<extra></extra>",
         "legendgroup": "Malta",
         "marker": {
          "color": "#EF553B",
          "size": [
           362.017
          ],
          "sizemode": "area",
          "sizeref": 3085.7029075,
          "symbol": "circle"
         },
         "mode": "markers",
         "name": "Malta",
         "orientation": "v",
         "showlegend": false,
         "type": "scatter",
         "x": [
          "Malta"
         ],
         "xaxis": "x5",
         "y": [
          0.055
         ],
         "yaxis": "y5"
        },
        {
         "hovertemplate": "Country=%{x}<br>Decade=2000<br>Women (%)=%{y}<br>Population (thousands)=%{marker.size}<extra></extra>",
         "legendgroup": "Malta",
         "marker": {
          "color": "#EF553B",
          "size": [
           393.649
          ],
          "sizemode": "area",
          "sizeref": 3085.7029075,
          "symbol": "circle"
         },
         "mode": "markers",
         "name": "Malta",
         "orientation": "v",
         "showlegend": false,
         "type": "scatter",
         "x": [
          "Malta"
         ],
         "xaxis": "x6",
         "y": [
          0.08499999999999999
         ],
         "yaxis": "y6"
        },
        {
         "hovertemplate": "Country=%{x}<br>Decade=2010<br>Women (%)=%{y}<br>Population (thousands)=%{marker.size}<extra></extra>",
         "legendgroup": "Malta",
         "marker": {
          "color": "#EF553B",
          "size": [
           414.257
          ],
          "sizemode": "area",
          "sizeref": 3085.7029075,
          "symbol": "circle"
         },
         "mode": "markers",
         "name": "Malta",
         "orientation": "v",
         "showlegend": false,
         "type": "scatter",
         "x": [
          "Malta"
         ],
         "xaxis": "x",
         "y": [
          0.13
         ],
         "yaxis": "y"
        },
        {
         "hovertemplate": "Country=%{x}<br>Decade=1960<br>Women (%)=%{y}<br>Population (thousands)=%{marker.size}<extra></extra>",
         "legendgroup": "Colombia",
         "marker": {
          "color": "#00cc96",
          "size": [
           16057.714
          ],
          "sizemode": "area",
          "sizeref": 3085.7029075,
          "symbol": "circle"
         },
         "mode": "markers",
         "name": "Colombia",
         "orientation": "v",
         "showlegend": true,
         "type": "scatter",
         "x": [
          "Colombia"
         ],
         "xaxis": "x8",
         "y": [
          0.04
         ],
         "yaxis": "y8"
        },
        {
         "hovertemplate": "Country=%{x}<br>Decade=1970<br>Women (%)=%{y}<br>Population (thousands)=%{marker.size}<extra></extra>",
         "legendgroup": "Colombia",
         "marker": {
          "color": "#00cc96",
          "size": [
           21480.064
          ],
          "sizemode": "area",
          "sizeref": 3085.7029075,
          "symbol": "circle"
         },
         "mode": "markers",
         "name": "Colombia",
         "orientation": "v",
         "showlegend": false,
         "type": "scatter",
         "x": [
          "Colombia"
         ],
         "xaxis": "x9",
         "y": [
          0.049999999999999996
         ],
         "yaxis": "y9"
        },
        {
         "hovertemplate": "Country=%{x}<br>Decade=1980<br>Women (%)=%{y}<br>Population (thousands)=%{marker.size}<extra></extra>",
         "legendgroup": "Colombia",
         "marker": {
          "color": "#00cc96",
          "size": [
           26900.508
          ],
          "sizemode": "area",
          "sizeref": 3085.7029075,
          "symbol": "circle"
         },
         "mode": "markers",
         "name": "Colombia",
         "orientation": "v",
         "showlegend": false,
         "type": "scatter",
         "x": [
          "Colombia"
         ],
         "xaxis": "x4",
         "y": [
          0.045
         ],
         "yaxis": "y4"
        },
        {
         "hovertemplate": "Country=%{x}<br>Decade=1990<br>Women (%)=%{y}<br>Population (thousands)=%{marker.size}<extra></extra>",
         "legendgroup": "Colombia",
         "marker": {
          "color": "#00cc96",
          "size": [
           33102.569
          ],
          "sizemode": "area",
          "sizeref": 3085.7029075,
          "symbol": "circle"
         },
         "mode": "markers",
         "name": "Colombia",
         "orientation": "v",
         "showlegend": false,
         "type": "scatter",
         "x": [
          "Colombia"
         ],
         "xaxis": "x5",
         "y": [
          0.105
         ],
         "yaxis": "y5"
        },
        {
         "hovertemplate": "Country=%{x}<br>Decade=2000<br>Women (%)=%{y}<br>Population (thousands)=%{marker.size}<extra></extra>",
         "legendgroup": "Colombia",
         "marker": {
          "color": "#00cc96",
          "size": [
           39629.965
          ],
          "sizemode": "area",
          "sizeref": 3085.7029075,
          "symbol": "circle"
         },
         "mode": "markers",
         "name": "Colombia",
         "orientation": "v",
         "showlegend": false,
         "type": "scatter",
         "x": [
          "Colombia"
         ],
         "xaxis": "x6",
         "y": [
          0.1
         ],
         "yaxis": "y6"
        },
        {
         "hovertemplate": "Country=%{x}<br>Decade=2010<br>Women (%)=%{y}<br>Population (thousands)=%{marker.size}<extra></extra>",
         "legendgroup": "Colombia",
         "marker": {
          "color": "#00cc96",
          "size": [
           45222.699
          ],
          "sizemode": "area",
          "sizeref": 3085.7029075,
          "symbol": "circle"
         },
         "mode": "markers",
         "name": "Colombia",
         "orientation": "v",
         "showlegend": false,
         "type": "scatter",
         "x": [
          "Colombia"
         ],
         "xaxis": "x",
         "y": [
          0.17333333333333334
         ],
         "yaxis": "y"
        },
        {
         "hovertemplate": "Country=%{x}<br>Decade=1960<br>Women (%)=%{y}<br>Population (thousands)=%{marker.size}<extra></extra>",
         "legendgroup": "Trinidad and Tobago",
         "marker": {
          "color": "#ab63fa",
          "size": [
           847.973
          ],
          "sizemode": "area",
          "sizeref": 3085.7029075,
          "symbol": "circle"
         },
         "mode": "markers",
         "name": "Trinidad and Tobago",
         "orientation": "v",
         "showlegend": true,
         "type": "scatter",
         "x": [
          "Trinidad and Tobago"
         ],
         "xaxis": "x8",
         "y": [
          0.055
         ],
         "yaxis": "y8"
        },
        {
         "hovertemplate": "Country=%{x}<br>Decade=1970<br>Women (%)=%{y}<br>Population (thousands)=%{marker.size}<extra></extra>",
         "legendgroup": "Trinidad and Tobago",
         "marker": {
          "color": "#ab63fa",
          "size": [
           945.357
          ],
          "sizemode": "area",
          "sizeref": 3085.7029075,
          "symbol": "circle"
         },
         "mode": "markers",
         "name": "Trinidad and Tobago",
         "orientation": "v",
         "showlegend": false,
         "type": "scatter",
         "x": [
          "Trinidad and Tobago"
         ],
         "xaxis": "x9",
         "y": [
          0.055
         ],
         "yaxis": "y9"
        },
        {
         "hovertemplate": "Country=%{x}<br>Decade=1980<br>Women (%)=%{y}<br>Population (thousands)=%{marker.size}<extra></extra>",
         "legendgroup": "Trinidad and Tobago",
         "marker": {
          "color": "#ab63fa",
          "size": [
           1084.743
          ],
          "sizemode": "area",
          "sizeref": 3085.7029075,
          "symbol": "circle"
         },
         "mode": "markers",
         "name": "Trinidad and Tobago",
         "orientation": "v",
         "showlegend": false,
         "type": "scatter",
         "x": [
          "Trinidad and Tobago"
         ],
         "xaxis": "x4",
         "y": [
          0.17
         ],
         "yaxis": "y4"
        },
        {
         "hovertemplate": "Country=%{x}<br>Decade=1990<br>Women (%)=%{y}<br>Population (thousands)=%{marker.size}<extra></extra>",
         "legendgroup": "Trinidad and Tobago",
         "marker": {
          "color": "#ab63fa",
          "size": [
           1221.121
          ],
          "sizemode": "area",
          "sizeref": 3085.7029075,
          "symbol": "circle"
         },
         "mode": "markers",
         "name": "Trinidad and Tobago",
         "orientation": "v",
         "showlegend": false,
         "type": "scatter",
         "x": [
          "Trinidad and Tobago"
         ],
         "xaxis": "x5",
         "y": [
          0.125
         ],
         "yaxis": "y5"
        },
        {
         "hovertemplate": "Country=%{x}<br>Decade=2000<br>Women (%)=%{y}<br>Population (thousands)=%{marker.size}<extra></extra>",
         "legendgroup": "Trinidad and Tobago",
         "marker": {
          "color": "#ab63fa",
          "size": [
           1267.159
          ],
          "sizemode": "area",
          "sizeref": 3085.7029075,
          "symbol": "circle"
         },
         "mode": "markers",
         "name": "Trinidad and Tobago",
         "orientation": "v",
         "showlegend": false,
         "type": "scatter",
         "x": [
          "Trinidad and Tobago"
         ],
         "xaxis": "x6",
         "y": [
          0.17
         ],
         "yaxis": "y6"
        },
        {
         "hovertemplate": "Country=%{x}<br>Decade=2010<br>Women (%)=%{y}<br>Population (thousands)=%{marker.size}<extra></extra>",
         "legendgroup": "Trinidad and Tobago",
         "marker": {
          "color": "#ab63fa",
          "size": [
           1328.144
          ],
          "sizemode": "area",
          "sizeref": 3085.7029075,
          "symbol": "circle"
         },
         "mode": "markers",
         "name": "Trinidad and Tobago",
         "orientation": "v",
         "showlegend": false,
         "type": "scatter",
         "x": [
          "Trinidad and Tobago"
         ],
         "xaxis": "x",
         "y": [
          0.3
         ],
         "yaxis": "y"
        },
        {
         "hovertemplate": "Country=%{x}<br>Decade=1960<br>Women (%)=%{y}<br>Population (thousands)=%{marker.size}<extra></extra>",
         "legendgroup": "Mali",
         "marker": {
          "color": "#FFA15A",
          "size": [
           5263.727
          ],
          "sizemode": "area",
          "sizeref": 3085.7029075,
          "symbol": "circle"
         },
         "mode": "markers",
         "name": "Mali",
         "orientation": "v",
         "showlegend": true,
         "type": "scatter",
         "x": [
          "Mali"
         ],
         "xaxis": "x8",
         "y": [
          0.01
         ],
         "yaxis": "y8"
        },
        {
         "hovertemplate": "Country=%{x}<br>Decade=1970<br>Women (%)=%{y}<br>Population (thousands)=%{marker.size}<extra></extra>",
         "legendgroup": "Mali",
         "marker": {
          "color": "#FFA15A",
          "size": [
           5949.042
          ],
          "sizemode": "area",
          "sizeref": 3085.7029075,
          "symbol": "circle"
         },
         "mode": "markers",
         "name": "Mali",
         "orientation": "v",
         "showlegend": false,
         "type": "scatter",
         "x": [
          "Mali"
         ],
         "xaxis": "x9",
         "y": [
          0.04
         ],
         "yaxis": "y9"
        },
        {
         "hovertemplate": "Country=%{x}<br>Decade=1980<br>Women (%)=%{y}<br>Population (thousands)=%{marker.size}<extra></extra>",
         "legendgroup": "Mali",
         "marker": {
          "color": "#FFA15A",
          "size": [
           7090.124
          ],
          "sizemode": "area",
          "sizeref": 3085.7029075,
          "symbol": "circle"
         },
         "mode": "markers",
         "name": "Mali",
         "orientation": "v",
         "showlegend": false,
         "type": "scatter",
         "x": [
          "Mali"
         ],
         "xaxis": "x4",
         "y": [
          0.04
         ],
         "yaxis": "y4"
        },
        {
         "hovertemplate": "Country=%{x}<br>Decade=1990<br>Women (%)=%{y}<br>Population (thousands)=%{marker.size}<extra></extra>",
         "legendgroup": "Mali",
         "marker": {
          "color": "#FFA15A",
          "size": [
           8449.915
          ],
          "sizemode": "area",
          "sizeref": 3085.7029075,
          "symbol": "circle"
         },
         "mode": "markers",
         "name": "Mali",
         "orientation": "v",
         "showlegend": false,
         "type": "scatter",
         "x": [
          "Mali"
         ],
         "xaxis": "x5",
         "y": [
          0.06999999999999999
         ],
         "yaxis": "y5"
        },
        {
         "hovertemplate": "Country=%{x}<br>Decade=2000<br>Women (%)=%{y}<br>Population (thousands)=%{marker.size}<extra></extra>",
         "legendgroup": "Mali",
         "marker": {
          "color": "#FFA15A",
          "size": [
           10946.448
          ],
          "sizemode": "area",
          "sizeref": 3085.7029075,
          "symbol": "circle"
         },
         "mode": "markers",
         "name": "Mali",
         "orientation": "v",
         "showlegend": false,
         "type": "scatter",
         "x": [
          "Mali"
         ],
         "xaxis": "x6",
         "y": [
          0.1
         ],
         "yaxis": "y6"
        },
        {
         "hovertemplate": "Country=%{x}<br>Decade=2010<br>Women (%)=%{y}<br>Population (thousands)=%{marker.size}<extra></extra>",
         "legendgroup": "Mali",
         "marker": {
          "color": "#FFA15A",
          "size": [
           15049.352
          ],
          "sizemode": "area",
          "sizeref": 3085.7029075,
          "symbol": "circle"
         },
         "mode": "markers",
         "name": "Mali",
         "orientation": "v",
         "showlegend": false,
         "type": "scatter",
         "x": [
          "Mali"
         ],
         "xaxis": "x",
         "y": [
          0.1
         ],
         "yaxis": "y"
        },
        {
         "hovertemplate": "Country=%{x}<br>Decade=1960<br>Women (%)=%{y}<br>Population (thousands)=%{marker.size}<extra></extra>",
         "legendgroup": "Mauritania",
         "marker": {
          "color": "#19d3f3",
          "size": [
           850.377
          ],
          "sizemode": "area",
          "sizeref": 3085.7029075,
          "symbol": "circle"
         },
         "mode": "markers",
         "name": "Mauritania",
         "orientation": "v",
         "showlegend": true,
         "type": "scatter",
         "x": [
          "Mauritania"
         ],
         "xaxis": "x8",
         "y": [
          0
         ],
         "yaxis": "y8"
        },
        {
         "hovertemplate": "Country=%{x}<br>Decade=1970<br>Women (%)=%{y}<br>Population (thousands)=%{marker.size}<extra></extra>",
         "legendgroup": "Mauritania",
         "marker": {
          "color": "#19d3f3",
          "size": [
           1146.776
          ],
          "sizemode": "area",
          "sizeref": 3085.7029075,
          "symbol": "circle"
         },
         "mode": "markers",
         "name": "Mauritania",
         "orientation": "v",
         "showlegend": false,
         "type": "scatter",
         "x": [
          "Mauritania"
         ],
         "xaxis": "x9",
         "y": [
          0.015
         ],
         "yaxis": "y9"
        },
        {
         "hovertemplate": "Country=%{x}<br>Decade=1990<br>Women (%)=%{y}<br>Population (thousands)=%{marker.size}<extra></extra>",
         "legendgroup": "Mauritania",
         "marker": {
          "color": "#19d3f3",
          "size": [
           2034.347
          ],
          "sizemode": "area",
          "sizeref": 3085.7029075,
          "symbol": "circle"
         },
         "mode": "markers",
         "name": "Mauritania",
         "orientation": "v",
         "showlegend": false,
         "type": "scatter",
         "x": [
          "Mauritania"
         ],
         "xaxis": "x5",
         "y": [
          0.02
         ],
         "yaxis": "y5"
        },
        {
         "hovertemplate": "Country=%{x}<br>Decade=2000<br>Women (%)=%{y}<br>Population (thousands)=%{marker.size}<extra></extra>",
         "legendgroup": "Mauritania",
         "marker": {
          "color": "#19d3f3",
          "size": [
           2630.217
          ],
          "sizemode": "area",
          "sizeref": 3085.7029075,
          "symbol": "circle"
         },
         "mode": "markers",
         "name": "Mauritania",
         "orientation": "v",
         "showlegend": false,
         "type": "scatter",
         "x": [
          "Mauritania"
         ],
         "xaxis": "x6",
         "y": [
          0.11
         ],
         "yaxis": "y6"
        },
        {
         "hovertemplate": "Country=%{x}<br>Decade=2010<br>Women (%)=%{y}<br>Population (thousands)=%{marker.size}<extra></extra>",
         "legendgroup": "Mauritania",
         "marker": {
          "color": "#19d3f3",
          "size": [
           3494.2
          ],
          "sizemode": "area",
          "sizeref": 3085.7029075,
          "symbol": "circle"
         },
         "mode": "markers",
         "name": "Mauritania",
         "orientation": "v",
         "showlegend": false,
         "type": "scatter",
         "x": [
          "Mauritania"
         ],
         "xaxis": "x",
         "y": [
          0.21000000000000002
         ],
         "yaxis": "y"
        },
        {
         "hovertemplate": "Country=%{x}<br>Decade=1960<br>Women (%)=%{y}<br>Population (thousands)=%{marker.size}<extra></extra>",
         "legendgroup": "Afghanistan",
         "marker": {
          "color": "#FF6692",
          "size": [
           8996.967
          ],
          "sizemode": "area",
          "sizeref": 3085.7029075,
          "symbol": "circle"
         },
         "mode": "markers",
         "name": "Afghanistan",
         "orientation": "v",
         "showlegend": true,
         "type": "scatter",
         "x": [
          "Afghanistan"
         ],
         "xaxis": "x8",
         "y": [
          0.01
         ],
         "yaxis": "y8"
        },
        {
         "hovertemplate": "Country=%{x}<br>Decade=1980<br>Women (%)=%{y}<br>Population (thousands)=%{marker.size}<extra></extra>",
         "legendgroup": "Afghanistan",
         "marker": {
          "color": "#FF6692",
          "size": [
           13356.5
          ],
          "sizemode": "area",
          "sizeref": 3085.7029075,
          "symbol": "circle"
         },
         "mode": "markers",
         "name": "Afghanistan",
         "orientation": "v",
         "showlegend": false,
         "type": "scatter",
         "x": [
          "Afghanistan"
         ],
         "xaxis": "x4",
         "y": [
          0.03
         ],
         "yaxis": "y4"
        },
        {
         "hovertemplate": "Country=%{x}<br>Decade=2000<br>Women (%)=%{y}<br>Population (thousands)=%{marker.size}<extra></extra>",
         "legendgroup": "Afghanistan",
         "marker": {
          "color": "#FF6692",
          "size": [
           20779.957
          ],
          "sizemode": "area",
          "sizeref": 3085.7029075,
          "symbol": "circle"
         },
         "mode": "markers",
         "name": "Afghanistan",
         "orientation": "v",
         "showlegend": false,
         "type": "scatter",
         "x": [
          "Afghanistan"
         ],
         "xaxis": "x6",
         "y": [
          0.27
         ],
         "yaxis": "y6"
        },
        {
         "hovertemplate": "Country=%{x}<br>Decade=2010<br>Women (%)=%{y}<br>Population (thousands)=%{marker.size}<extra></extra>",
         "legendgroup": "Afghanistan",
         "marker": {
          "color": "#FF6692",
          "size": [
           29185.511
          ],
          "sizemode": "area",
          "sizeref": 3085.7029075,
          "symbol": "circle"
         },
         "mode": "markers",
         "name": "Afghanistan",
         "orientation": "v",
         "showlegend": false,
         "type": "scatter",
         "x": [
          "Afghanistan"
         ],
         "xaxis": "x",
         "y": [
          0.28
         ],
         "yaxis": "y"
        },
        {
         "hovertemplate": "Country=%{x}<br>Decade=1960<br>Women (%)=%{y}<br>Population (thousands)=%{marker.size}<extra></extra>",
         "legendgroup": "Democratic Republic of the Congo",
         "marker": {
          "color": "#B6E880",
          "size": [
           15248.256
          ],
          "sizemode": "area",
          "sizeref": 3085.7029075,
          "symbol": "circle"
         },
         "mode": "markers",
         "name": "Democratic Republic of the Congo",
         "orientation": "v",
         "showlegend": true,
         "type": "scatter",
         "x": [
          "Democratic Republic of the Congo"
         ],
         "xaxis": "x8",
         "y": [
          0
         ],
         "yaxis": "y8"
        },
        {
         "hovertemplate": "Country=%{x}<br>Decade=1970<br>Women (%)=%{y}<br>Population (thousands)=%{marker.size}<extra></extra>",
         "legendgroup": "Democratic Republic of the Congo",
         "marker": {
          "color": "#B6E880",
          "size": [
           20011.033
          ],
          "sizemode": "area",
          "sizeref": 3085.7029075,
          "symbol": "circle"
         },
         "mode": "markers",
         "name": "Democratic Republic of the Congo",
         "orientation": "v",
         "showlegend": false,
         "type": "scatter",
         "x": [
          "Democratic Republic of the Congo"
         ],
         "xaxis": "x9",
         "y": [
          0.05333333333333334
         ],
         "yaxis": "y9"
        },
        {
         "hovertemplate": "Country=%{x}<br>Decade=1980<br>Women (%)=%{y}<br>Population (thousands)=%{marker.size}<extra></extra>",
         "legendgroup": "Democratic Republic of the Congo",
         "marker": {
          "color": "#B6E880",
          "size": [
           26358.905
          ],
          "sizemode": "area",
          "sizeref": 3085.7029075,
          "symbol": "circle"
         },
         "mode": "markers",
         "name": "Democratic Republic of the Congo",
         "orientation": "v",
         "showlegend": false,
         "type": "scatter",
         "x": [
          "Democratic Republic of the Congo"
         ],
         "xaxis": "x4",
         "y": [
          0.045
         ],
         "yaxis": "y4"
        },
        {
         "hovertemplate": "Country=%{x}<br>Decade=1990<br>Women (%)=%{y}<br>Population (thousands)=%{marker.size}<extra></extra>",
         "legendgroup": "Democratic Republic of the Congo",
         "marker": {
          "color": "#B6E880",
          "size": [
           34612.023
          ],
          "sizemode": "area",
          "sizeref": 3085.7029075,
          "symbol": "circle"
         },
         "mode": "markers",
         "name": "Democratic Republic of the Congo",
         "orientation": "v",
         "showlegend": false,
         "type": "scatter",
         "x": [
          "Democratic Republic of the Congo"
         ],
         "xaxis": "x5",
         "y": [
          0.035
         ],
         "yaxis": "y5"
        },
        {
         "hovertemplate": "Country=%{x}<br>Decade=2000<br>Women (%)=%{y}<br>Population (thousands)=%{marker.size}<extra></extra>",
         "legendgroup": "Democratic Republic of the Congo",
         "marker": {
          "color": "#B6E880",
          "size": [
           47105.83
          ],
          "sizemode": "area",
          "sizeref": 3085.7029075,
          "symbol": "circle"
         },
         "mode": "markers",
         "name": "Democratic Republic of the Congo",
         "orientation": "v",
         "showlegend": false,
         "type": "scatter",
         "x": [
          "Democratic Republic of the Congo"
         ],
         "xaxis": "x6",
         "y": [
          0.1
         ],
         "yaxis": "y6"
        },
        {
         "hovertemplate": "Country=%{x}<br>Decade=2010<br>Women (%)=%{y}<br>Population (thousands)=%{marker.size}<extra></extra>",
         "legendgroup": "Democratic Republic of the Congo",
         "marker": {
          "color": "#B6E880",
          "size": [
           64563.853
          ],
          "sizemode": "area",
          "sizeref": 3085.7029075,
          "symbol": "circle"
         },
         "mode": "markers",
         "name": "Democratic Republic of the Congo",
         "orientation": "v",
         "showlegend": false,
         "type": "scatter",
         "x": [
          "Democratic Republic of the Congo"
         ],
         "xaxis": "x",
         "y": [
          0.095
         ],
         "yaxis": "y"
        },
        {
         "hovertemplate": "Country=%{x}<br>Decade=1960<br>Women (%)=%{y}<br>Population (thousands)=%{marker.size}<extra></extra>",
         "legendgroup": "Equatorial Guinea",
         "marker": {
          "color": "#FF97FF",
          "size": [
           255.338
          ],
          "sizemode": "area",
          "sizeref": 3085.7029075,
          "symbol": "circle"
         },
         "mode": "markers",
         "name": "Equatorial Guinea",
         "orientation": "v",
         "showlegend": true,
         "type": "scatter",
         "x": [
          "Equatorial Guinea"
         ],
         "xaxis": "x8",
         "y": [
          0.06
         ],
         "yaxis": "y8"
        },
        {
         "hovertemplate": "Country=%{x}<br>Decade=1980<br>Women (%)=%{y}<br>Population (thousands)=%{marker.size}<extra></extra>",
         "legendgroup": "Equatorial Guinea",
         "marker": {
          "color": "#FF97FF",
          "size": [
           249.931
          ],
          "sizemode": "area",
          "sizeref": 3085.7029075,
          "symbol": "circle"
         },
         "mode": "markers",
         "name": "Equatorial Guinea",
         "orientation": "v",
         "showlegend": false,
         "type": "scatter",
         "x": [
          "Equatorial Guinea"
         ],
         "xaxis": "x4",
         "y": [
          0.08
         ],
         "yaxis": "y4"
        },
        {
         "hovertemplate": "Country=%{x}<br>Decade=1990<br>Women (%)=%{y}<br>Population (thousands)=%{marker.size}<extra></extra>",
         "legendgroup": "Equatorial Guinea",
         "marker": {
          "color": "#FF97FF",
          "size": [
           419.188
          ],
          "sizemode": "area",
          "sizeref": 3085.7029075,
          "symbol": "circle"
         },
         "mode": "markers",
         "name": "Equatorial Guinea",
         "orientation": "v",
         "showlegend": false,
         "type": "scatter",
         "x": [
          "Equatorial Guinea"
         ],
         "xaxis": "x5",
         "y": [
          0.065
         ],
         "yaxis": "y5"
        },
        {
         "hovertemplate": "Country=%{x}<br>Decade=2000<br>Women (%)=%{y}<br>Population (thousands)=%{marker.size}<extra></extra>",
         "legendgroup": "Equatorial Guinea",
         "marker": {
          "color": "#FF97FF",
          "size": [
           606.18
          ],
          "sizemode": "area",
          "sizeref": 3085.7029075,
          "symbol": "circle"
         },
         "mode": "markers",
         "name": "Equatorial Guinea",
         "orientation": "v",
         "showlegend": false,
         "type": "scatter",
         "x": [
          "Equatorial Guinea"
         ],
         "xaxis": "x6",
         "y": [
          0.13999999999999999
         ],
         "yaxis": "y6"
        },
        {
         "hovertemplate": "Country=%{x}<br>Decade=2010<br>Women (%)=%{y}<br>Population (thousands)=%{marker.size}<extra></extra>",
         "legendgroup": "Equatorial Guinea",
         "marker": {
          "color": "#FF97FF",
          "size": [
           943.64
          ],
          "sizemode": "area",
          "sizeref": 3085.7029075,
          "symbol": "circle"
         },
         "mode": "markers",
         "name": "Equatorial Guinea",
         "orientation": "v",
         "showlegend": false,
         "type": "scatter",
         "x": [
          "Equatorial Guinea"
         ],
         "xaxis": "x",
         "y": [
          0.21000000000000002
         ],
         "yaxis": "y"
        },
        {
         "hovertemplate": "Country=%{x}<br>Decade=1960<br>Women (%)=%{y}<br>Population (thousands)=%{marker.size}<extra></extra>",
         "legendgroup": "Guyana",
         "marker": {
          "color": "#FECB52",
          "size": [
           571.813
          ],
          "sizemode": "area",
          "sizeref": 3085.7029075,
          "symbol": "circle"
         },
         "mode": "markers",
         "name": "Guyana",
         "orientation": "v",
         "showlegend": true,
         "type": "scatter",
         "x": [
          "Guyana"
         ],
         "xaxis": "x8",
         "y": [
          0.09
         ],
         "yaxis": "y8"
        },
        {
         "hovertemplate": "Country=%{x}<br>Decade=1970<br>Women (%)=%{y}<br>Population (thousands)=%{marker.size}<extra></extra>",
         "legendgroup": "Guyana",
         "marker": {
          "color": "#FECB52",
          "size": [
           704.93
          ],
          "sizemode": "area",
          "sizeref": 3085.7029075,
          "symbol": "circle"
         },
         "mode": "markers",
         "name": "Guyana",
         "orientation": "v",
         "showlegend": false,
         "type": "scatter",
         "x": [
          "Guyana"
         ],
         "xaxis": "x9",
         "y": [
          0.13
         ],
         "yaxis": "y9"
        },
        {
         "hovertemplate": "Country=%{x}<br>Decade=1990<br>Women (%)=%{y}<br>Population (thousands)=%{marker.size}<extra></extra>",
         "legendgroup": "Guyana",
         "marker": {
          "color": "#FECB52",
          "size": [
           743.306
          ],
          "sizemode": "area",
          "sizeref": 3085.7029075,
          "symbol": "circle"
         },
         "mode": "markers",
         "name": "Guyana",
         "orientation": "v",
         "showlegend": false,
         "type": "scatter",
         "x": [
          "Guyana"
         ],
         "xaxis": "x5",
         "y": [
          0.2
         ],
         "yaxis": "y5"
        },
        {
         "hovertemplate": "Country=%{x}<br>Decade=2000<br>Women (%)=%{y}<br>Population (thousands)=%{marker.size}<extra></extra>",
         "legendgroup": "Guyana",
         "marker": {
          "color": "#FECB52",
          "size": [
           746.718
          ],
          "sizemode": "area",
          "sizeref": 3085.7029075,
          "symbol": "circle"
         },
         "mode": "markers",
         "name": "Guyana",
         "orientation": "v",
         "showlegend": false,
         "type": "scatter",
         "x": [
          "Guyana"
         ],
         "xaxis": "x6",
         "y": [
          0.245
         ],
         "yaxis": "y6"
        },
        {
         "hovertemplate": "Country=%{x}<br>Decade=2010<br>Women (%)=%{y}<br>Population (thousands)=%{marker.size}<extra></extra>",
         "legendgroup": "Guyana",
         "marker": {
          "color": "#FECB52",
          "size": [
           749.43
          ],
          "sizemode": "area",
          "sizeref": 3085.7029075,
          "symbol": "circle"
         },
         "mode": "markers",
         "name": "Guyana",
         "orientation": "v",
         "showlegend": false,
         "type": "scatter",
         "x": [
          "Guyana"
         ],
         "xaxis": "x",
         "y": [
          0.305
         ],
         "yaxis": "y"
        },
        {
         "hovertemplate": "Country=%{x}<br>Decade=1960<br>Women (%)=%{y}<br>Population (thousands)=%{marker.size}<extra></extra>",
         "legendgroup": "El Salvador",
         "marker": {
          "color": "#636efa",
          "size": [
           2766.319
          ],
          "sizemode": "area",
          "sizeref": 3085.7029075,
          "symbol": "circle"
         },
         "mode": "markers",
         "name": "El Salvador",
         "orientation": "v",
         "showlegend": true,
         "type": "scatter",
         "x": [
          "El Salvador"
         ],
         "xaxis": "x8",
         "y": [
          0.055
         ],
         "yaxis": "y8"
        },
        {
         "hovertemplate": "Country=%{x}<br>Decade=1970<br>Women (%)=%{y}<br>Population (thousands)=%{marker.size}<extra></extra>",
         "legendgroup": "El Salvador",
         "marker": {
          "color": "#636efa",
          "size": [
           3673.066
          ],
          "sizemode": "area",
          "sizeref": 3085.7029075,
          "symbol": "circle"
         },
         "mode": "markers",
         "name": "El Salvador",
         "orientation": "v",
         "showlegend": false,
         "type": "scatter",
         "x": [
          "El Salvador"
         ],
         "xaxis": "x9",
         "y": [
          0.054000000000000006
         ],
         "yaxis": "y9"
        },
        {
         "hovertemplate": "Country=%{x}<br>Decade=1980<br>Women (%)=%{y}<br>Population (thousands)=%{marker.size}<extra></extra>",
         "legendgroup": "El Salvador",
         "marker": {
          "color": "#636efa",
          "size": [
           4591.135
          ],
          "sizemode": "area",
          "sizeref": 3085.7029075,
          "symbol": "circle"
         },
         "mode": "markers",
         "name": "El Salvador",
         "orientation": "v",
         "showlegend": false,
         "type": "scatter",
         "x": [
          "El Salvador"
         ],
         "xaxis": "x4",
         "y": [
          0.11
         ],
         "yaxis": "y4"
        },
        {
         "hovertemplate": "Country=%{x}<br>Decade=1990<br>Women (%)=%{y}<br>Population (thousands)=%{marker.size}<extra></extra>",
         "legendgroup": "El Salvador",
         "marker": {
          "color": "#636efa",
          "size": [
           5270.074
          ],
          "sizemode": "area",
          "sizeref": 3085.7029075,
          "symbol": "circle"
         },
         "mode": "markers",
         "name": "El Salvador",
         "orientation": "v",
         "showlegend": false,
         "type": "scatter",
         "x": [
          "El Salvador"
         ],
         "xaxis": "x5",
         "y": [
          0.09999999999999999
         ],
         "yaxis": "y5"
        },
        {
         "hovertemplate": "Country=%{x}<br>Decade=2000<br>Women (%)=%{y}<br>Population (thousands)=%{marker.size}<extra></extra>",
         "legendgroup": "El Salvador",
         "marker": {
          "color": "#636efa",
          "size": [
           5887.93
          ],
          "sizemode": "area",
          "sizeref": 3085.7029075,
          "symbol": "circle"
         },
         "mode": "markers",
         "name": "El Salvador",
         "orientation": "v",
         "showlegend": false,
         "type": "scatter",
         "x": [
          "El Salvador"
         ],
         "xaxis": "x6",
         "y": [
          0.14250000000000002
         ],
         "yaxis": "y6"
        },
        {
         "hovertemplate": "Country=%{x}<br>Decade=2010<br>Women (%)=%{y}<br>Population (thousands)=%{marker.size}<extra></extra>",
         "legendgroup": "El Salvador",
         "marker": {
          "color": "#636efa",
          "size": [
           6183.877
          ],
          "sizemode": "area",
          "sizeref": 3085.7029075,
          "symbol": "circle"
         },
         "mode": "markers",
         "name": "El Salvador",
         "orientation": "v",
         "showlegend": false,
         "type": "scatter",
         "x": [
          "El Salvador"
         ],
         "xaxis": "x",
         "y": [
          0.2966666666666667
         ],
         "yaxis": "y"
        },
        {
         "hovertemplate": "Country=%{x}<br>Decade=1960<br>Women (%)=%{y}<br>Population (thousands)=%{marker.size}<extra></extra>",
         "legendgroup": "Guinea",
         "marker": {
          "color": "#EF553B",
          "size": [
           3494.164
          ],
          "sizemode": "area",
          "sizeref": 3085.7029075,
          "symbol": "circle"
         },
         "mode": "markers",
         "name": "Guinea",
         "orientation": "v",
         "showlegend": true,
         "type": "scatter",
         "x": [
          "Guinea"
         ],
         "xaxis": "x8",
         "y": [
          0.2
         ],
         "yaxis": "y8"
        },
        {
         "hovertemplate": "Country=%{x}<br>Decade=1970<br>Women (%)=%{y}<br>Population (thousands)=%{marker.size}<extra></extra>",
         "legendgroup": "Guinea",
         "marker": {
          "color": "#EF553B",
          "size": [
           4154.606
          ],
          "sizemode": "area",
          "sizeref": 3085.7029075,
          "symbol": "circle"
         },
         "mode": "markers",
         "name": "Guinea",
         "orientation": "v",
         "showlegend": false,
         "type": "scatter",
         "x": [
          "Guinea"
         ],
         "xaxis": "x9",
         "y": [
          0.17
         ],
         "yaxis": "y9"
        },
        {
         "hovertemplate": "Country=%{x}<br>Decade=1990<br>Women (%)=%{y}<br>Population (thousands)=%{marker.size}<extra></extra>",
         "legendgroup": "Guinea",
         "marker": {
          "color": "#EF553B",
          "size": [
           6352.282
          ],
          "sizemode": "area",
          "sizeref": 3085.7029075,
          "symbol": "circle"
         },
         "mode": "markers",
         "name": "Guinea",
         "orientation": "v",
         "showlegend": false,
         "type": "scatter",
         "x": [
          "Guinea"
         ],
         "xaxis": "x5",
         "y": [
          0.07
         ],
         "yaxis": "y5"
        },
        {
         "hovertemplate": "Country=%{x}<br>Decade=2000<br>Women (%)=%{y}<br>Population (thousands)=%{marker.size}<extra></extra>",
         "legendgroup": "Guinea",
         "marker": {
          "color": "#EF553B",
          "size": [
           8240.735
          ],
          "sizemode": "area",
          "sizeref": 3085.7029075,
          "symbol": "circle"
         },
         "mode": "markers",
         "name": "Guinea",
         "orientation": "v",
         "showlegend": false,
         "type": "scatter",
         "x": [
          "Guinea"
         ],
         "xaxis": "x6",
         "y": [
          0.19
         ],
         "yaxis": "y6"
        },
        {
         "hovertemplate": "Country=%{x}<br>Decade=2010<br>Women (%)=%{y}<br>Population (thousands)=%{marker.size}<extra></extra>",
         "legendgroup": "Guinea",
         "marker": {
          "color": "#EF553B",
          "size": [
           10192.168
          ],
          "sizemode": "area",
          "sizeref": 3085.7029075,
          "symbol": "circle"
         },
         "mode": "markers",
         "name": "Guinea",
         "orientation": "v",
         "showlegend": false,
         "type": "scatter",
         "x": [
          "Guinea"
         ],
         "xaxis": "x",
         "y": [
          0.22
         ],
         "yaxis": "y"
        },
        {
         "hovertemplate": "Country=%{x}<br>Decade=1960<br>Women (%)=%{y}<br>Population (thousands)=%{marker.size}<extra></extra>",
         "legendgroup": "Ghana",
         "marker": {
          "color": "#00cc96",
          "size": [
           6635.229
          ],
          "sizemode": "area",
          "sizeref": 3085.7029075,
          "symbol": "circle"
         },
         "mode": "markers",
         "name": "Ghana",
         "orientation": "v",
         "showlegend": true,
         "type": "scatter",
         "x": [
          "Ghana"
         ],
         "xaxis": "x8",
         "y": [
          0.07
         ],
         "yaxis": "y8"
        },
        {
         "hovertemplate": "Country=%{x}<br>Decade=1970<br>Women (%)=%{y}<br>Population (thousands)=%{marker.size}<extra></extra>",
         "legendgroup": "Ghana",
         "marker": {
          "color": "#00cc96",
          "size": [
           8735.493
          ],
          "sizemode": "area",
          "sizeref": 3085.7029075,
          "symbol": "circle"
         },
         "mode": "markers",
         "name": "Ghana",
         "orientation": "v",
         "showlegend": false,
         "type": "scatter",
         "x": [
          "Ghana"
         ],
         "xaxis": "x9",
         "y": [
          0.04
         ],
         "yaxis": "y9"
        },
        {
         "hovertemplate": "Country=%{x}<br>Decade=1990<br>Women (%)=%{y}<br>Population (thousands)=%{marker.size}<extra></extra>",
         "legendgroup": "Ghana",
         "marker": {
          "color": "#00cc96",
          "size": [
           14773.274
          ],
          "sizemode": "area",
          "sizeref": 3085.7029075,
          "symbol": "circle"
         },
         "mode": "markers",
         "name": "Ghana",
         "orientation": "v",
         "showlegend": false,
         "type": "scatter",
         "x": [
          "Ghana"
         ],
         "xaxis": "x5",
         "y": [
          0.08499999999999999
         ],
         "yaxis": "y5"
        },
        {
         "hovertemplate": "Country=%{x}<br>Decade=2000<br>Women (%)=%{y}<br>Population (thousands)=%{marker.size}<extra></extra>",
         "legendgroup": "Ghana",
         "marker": {
          "color": "#00cc96",
          "size": [
           19278.85
          ],
          "sizemode": "area",
          "sizeref": 3085.7029075,
          "symbol": "circle"
         },
         "mode": "markers",
         "name": "Ghana",
         "orientation": "v",
         "showlegend": false,
         "type": "scatter",
         "x": [
          "Ghana"
         ],
         "xaxis": "x6",
         "y": [
          0.09333333333333334
         ],
         "yaxis": "y6"
        },
        {
         "hovertemplate": "Country=%{x}<br>Decade=2010<br>Women (%)=%{y}<br>Population (thousands)=%{marker.size}<extra></extra>",
         "legendgroup": "Ghana",
         "marker": {
          "color": "#00cc96",
          "size": [
           24779.614
          ],
          "sizemode": "area",
          "sizeref": 3085.7029075,
          "symbol": "circle"
         },
         "mode": "markers",
         "name": "Ghana",
         "orientation": "v",
         "showlegend": false,
         "type": "scatter",
         "x": [
          "Ghana"
         ],
         "xaxis": "x",
         "y": [
          0.11
         ],
         "yaxis": "y"
        },
        {
         "hovertemplate": "Country=%{x}<br>Decade=1960<br>Women (%)=%{y}<br>Population (thousands)=%{marker.size}<extra></extra>",
         "legendgroup": "Gabon",
         "marker": {
          "color": "#ab63fa",
          "size": [
           500.922
          ],
          "sizemode": "area",
          "sizeref": 3085.7029075,
          "symbol": "circle"
         },
         "mode": "markers",
         "name": "Gabon",
         "orientation": "v",
         "showlegend": true,
         "type": "scatter",
         "x": [
          "Gabon"
         ],
         "xaxis": "x8",
         "y": [
          0.0033333333333333335
         ],
         "yaxis": "y8"
        },
        {
         "hovertemplate": "Country=%{x}<br>Decade=1970<br>Women (%)=%{y}<br>Population (thousands)=%{marker.size}<extra></extra>",
         "legendgroup": "Gabon",
         "marker": {
          "color": "#ab63fa",
          "size": [
           589.317
          ],
          "sizemode": "area",
          "sizeref": 3085.7029075,
          "symbol": "circle"
         },
         "mode": "markers",
         "name": "Gabon",
         "orientation": "v",
         "showlegend": false,
         "type": "scatter",
         "x": [
          "Gabon"
         ],
         "xaxis": "x9",
         "y": [
          0.04
         ],
         "yaxis": "y9"
        },
        {
         "hovertemplate": "Country=%{x}<br>Decade=1980<br>Women (%)=%{y}<br>Population (thousands)=%{marker.size}<extra></extra>",
         "legendgroup": "Gabon",
         "marker": {
          "color": "#ab63fa",
          "size": [
           726.335
          ],
          "sizemode": "area",
          "sizeref": 3085.7029075,
          "symbol": "circle"
         },
         "mode": "markers",
         "name": "Gabon",
         "orientation": "v",
         "showlegend": false,
         "type": "scatter",
         "x": [
          "Gabon"
         ],
         "xaxis": "x4",
         "y": [
          0.135
         ],
         "yaxis": "y4"
        },
        {
         "hovertemplate": "Country=%{x}<br>Decade=1990<br>Women (%)=%{y}<br>Population (thousands)=%{marker.size}<extra></extra>",
         "legendgroup": "Gabon",
         "marker": {
          "color": "#ab63fa",
          "size": [
           949.493
          ],
          "sizemode": "area",
          "sizeref": 3085.7029075,
          "symbol": "circle"
         },
         "mode": "markers",
         "name": "Gabon",
         "orientation": "v",
         "showlegend": false,
         "type": "scatter",
         "x": [
          "Gabon"
         ],
         "xaxis": "x5",
         "y": [
          0.07
         ],
         "yaxis": "y5"
        },
        {
         "hovertemplate": "Country=%{x}<br>Decade=2000<br>Women (%)=%{y}<br>Population (thousands)=%{marker.size}<extra></extra>",
         "legendgroup": "Gabon",
         "marker": {
          "color": "#ab63fa",
          "size": [
           1228.359
          ],
          "sizemode": "area",
          "sizeref": 3085.7029075,
          "symbol": "circle"
         },
         "mode": "markers",
         "name": "Gabon",
         "orientation": "v",
         "showlegend": false,
         "type": "scatter",
         "x": [
          "Gabon"
         ],
         "xaxis": "x6",
         "y": [
          0.105
         ],
         "yaxis": "y6"
        },
        {
         "hovertemplate": "Country=%{x}<br>Decade=2010<br>Women (%)=%{y}<br>Population (thousands)=%{marker.size}<extra></extra>",
         "legendgroup": "Gabon",
         "marker": {
          "color": "#ab63fa",
          "size": [
           1624.146
          ],
          "sizemode": "area",
          "sizeref": 3085.7029075,
          "symbol": "circle"
         },
         "mode": "markers",
         "name": "Gabon",
         "orientation": "v",
         "showlegend": false,
         "type": "scatter",
         "x": [
          "Gabon"
         ],
         "xaxis": "x",
         "y": [
          0.155
         ],
         "yaxis": "y"
        },
        {
         "hovertemplate": "Country=%{x}<br>Decade=1960<br>Women (%)=%{y}<br>Population (thousands)=%{marker.size}<extra></extra>",
         "legendgroup": "Kuwait",
         "marker": {
          "color": "#FFA15A",
          "size": [
           269.026
          ],
          "sizemode": "area",
          "sizeref": 3085.7029075,
          "symbol": "circle"
         },
         "mode": "markers",
         "name": "Kuwait",
         "orientation": "v",
         "showlegend": true,
         "type": "scatter",
         "x": [
          "Kuwait"
         ],
         "xaxis": "x8",
         "y": [
          0
         ],
         "yaxis": "y8"
        },
        {
         "hovertemplate": "Country=%{x}<br>Decade=1970<br>Women (%)=%{y}<br>Population (thousands)=%{marker.size}<extra></extra>",
         "legendgroup": "Kuwait",
         "marker": {
          "color": "#FFA15A",
          "size": [
           744.444
          ],
          "sizemode": "area",
          "sizeref": 3085.7029075,
          "symbol": "circle"
         },
         "mode": "markers",
         "name": "Kuwait",
         "orientation": "v",
         "showlegend": false,
         "type": "scatter",
         "x": [
          "Kuwait"
         ],
         "xaxis": "x9",
         "y": [
          0
         ],
         "yaxis": "y9"
        },
        {
         "hovertemplate": "Country=%{x}<br>Decade=1980<br>Women (%)=%{y}<br>Population (thousands)=%{marker.size}<extra></extra>",
         "legendgroup": "Kuwait",
         "marker": {
          "color": "#FFA15A",
          "size": [
           1368.68
          ],
          "sizemode": "area",
          "sizeref": 3085.7029075,
          "symbol": "circle"
         },
         "mode": "markers",
         "name": "Kuwait",
         "orientation": "v",
         "showlegend": false,
         "type": "scatter",
         "x": [
          "Kuwait"
         ],
         "xaxis": "x4",
         "y": [
          0
         ],
         "yaxis": "y4"
        },
        {
         "hovertemplate": "Country=%{x}<br>Decade=1990<br>Women (%)=%{y}<br>Population (thousands)=%{marker.size}<extra></extra>",
         "legendgroup": "Kuwait",
         "marker": {
          "color": "#FFA15A",
          "size": [
           2095.35
          ],
          "sizemode": "area",
          "sizeref": 3085.7029075,
          "symbol": "circle"
         },
         "mode": "markers",
         "name": "Kuwait",
         "orientation": "v",
         "showlegend": false,
         "type": "scatter",
         "x": [
          "Kuwait"
         ],
         "xaxis": "x5",
         "y": [
          0.016666666666666666
         ],
         "yaxis": "y5"
        },
        {
         "hovertemplate": "Country=%{x}<br>Decade=2000<br>Women (%)=%{y}<br>Population (thousands)=%{marker.size}<extra></extra>",
         "legendgroup": "Kuwait",
         "marker": {
          "color": "#FFA15A",
          "size": [
           2045.123
          ],
          "sizemode": "area",
          "sizeref": 3085.7029075,
          "symbol": "circle"
         },
         "mode": "markers",
         "name": "Kuwait",
         "orientation": "v",
         "showlegend": false,
         "type": "scatter",
         "x": [
          "Kuwait"
         ],
         "xaxis": "x6",
         "y": [
          0.0325
         ],
         "yaxis": "y6"
        },
        {
         "hovertemplate": "Country=%{x}<br>Decade=2010<br>Women (%)=%{y}<br>Population (thousands)=%{marker.size}<extra></extra>",
         "legendgroup": "Kuwait",
         "marker": {
          "color": "#FFA15A",
          "size": [
           2991.884
          ],
          "sizemode": "area",
          "sizeref": 3085.7029075,
          "symbol": "circle"
         },
         "mode": "markers",
         "name": "Kuwait",
         "orientation": "v",
         "showlegend": false,
         "type": "scatter",
         "x": [
          "Kuwait"
         ],
         "xaxis": "x",
         "y": [
          0.028333333333333332
         ],
         "yaxis": "y"
        },
        {
         "hovertemplate": "Country=%{x}<br>Decade=1960<br>Women (%)=%{y}<br>Population (thousands)=%{marker.size}<extra></extra>",
         "legendgroup": "Kenya",
         "marker": {
          "color": "#19d3f3",
          "size": [
           8120.082
          ],
          "sizemode": "area",
          "sizeref": 3085.7029075,
          "symbol": "circle"
         },
         "mode": "markers",
         "name": "Kenya",
         "orientation": "v",
         "showlegend": true,
         "type": "scatter",
         "x": [
          "Kenya"
         ],
         "xaxis": "x8",
         "y": [
          0.005
         ],
         "yaxis": "y8"
        },
        {
         "hovertemplate": "Country=%{x}<br>Decade=1970<br>Women (%)=%{y}<br>Population (thousands)=%{marker.size}<extra></extra>",
         "legendgroup": "Kenya",
         "marker": {
          "color": "#19d3f3",
          "size": [
           11301.394
          ],
          "sizemode": "area",
          "sizeref": 3085.7029075,
          "symbol": "circle"
         },
         "mode": "markers",
         "name": "Kenya",
         "orientation": "v",
         "showlegend": false,
         "type": "scatter",
         "x": [
          "Kenya"
         ],
         "xaxis": "x9",
         "y": [
          0.03
         ],
         "yaxis": "y9"
        },
        {
         "hovertemplate": "Country=%{x}<br>Decade=1980<br>Women (%)=%{y}<br>Population (thousands)=%{marker.size}<extra></extra>",
         "legendgroup": "Kenya",
         "marker": {
          "color": "#19d3f3",
          "size": [
           16417.203
          ],
          "sizemode": "area",
          "sizeref": 3085.7029075,
          "symbol": "circle"
         },
         "mode": "markers",
         "name": "Kenya",
         "orientation": "v",
         "showlegend": false,
         "type": "scatter",
         "x": [
          "Kenya"
         ],
         "xaxis": "x4",
         "y": [
          0.015
         ],
         "yaxis": "y4"
        },
        {
         "hovertemplate": "Country=%{x}<br>Decade=1990<br>Women (%)=%{y}<br>Population (thousands)=%{marker.size}<extra></extra>",
         "legendgroup": "Kenya",
         "marker": {
          "color": "#19d3f3",
          "size": [
           23724.574
          ],
          "sizemode": "area",
          "sizeref": 3085.7029075,
          "symbol": "circle"
         },
         "mode": "markers",
         "name": "Kenya",
         "orientation": "v",
         "showlegend": false,
         "type": "scatter",
         "x": [
          "Kenya"
         ],
         "xaxis": "x5",
         "y": [
          0.03
         ],
         "yaxis": "y5"
        },
        {
         "hovertemplate": "Country=%{x}<br>Decade=2000<br>Women (%)=%{y}<br>Population (thousands)=%{marker.size}<extra></extra>",
         "legendgroup": "Kenya",
         "marker": {
          "color": "#19d3f3",
          "size": [
           31964.557
          ],
          "sizemode": "area",
          "sizeref": 3085.7029075,
          "symbol": "circle"
         },
         "mode": "markers",
         "name": "Kenya",
         "orientation": "v",
         "showlegend": false,
         "type": "scatter",
         "x": [
          "Kenya"
         ],
         "xaxis": "x6",
         "y": [
          0.08
         ],
         "yaxis": "y6"
        },
        {
         "hovertemplate": "Country=%{x}<br>Decade=2010<br>Women (%)=%{y}<br>Population (thousands)=%{marker.size}<extra></extra>",
         "legendgroup": "Kenya",
         "marker": {
          "color": "#19d3f3",
          "size": [
           42030.684
          ],
          "sizemode": "area",
          "sizeref": 3085.7029075,
          "symbol": "circle"
         },
         "mode": "markers",
         "name": "Kenya",
         "orientation": "v",
         "showlegend": false,
         "type": "scatter",
         "x": [
          "Kenya"
         ],
         "xaxis": "x",
         "y": [
          0.16
         ],
         "yaxis": "y"
        },
        {
         "hovertemplate": "Country=%{x}<br>Decade=1960<br>Women (%)=%{y}<br>Population (thousands)=%{marker.size}<extra></extra>",
         "legendgroup": "Jamaica",
         "marker": {
          "color": "#FF6692",
          "size": [
           1628.524
          ],
          "sizemode": "area",
          "sizeref": 3085.7029075,
          "symbol": "circle"
         },
         "mode": "markers",
         "name": "Jamaica",
         "orientation": "v",
         "showlegend": true,
         "type": "scatter",
         "x": [
          "Jamaica"
         ],
         "xaxis": "x8",
         "y": [
          0.04
         ],
         "yaxis": "y8"
        },
        {
         "hovertemplate": "Country=%{x}<br>Decade=1970<br>Women (%)=%{y}<br>Population (thousands)=%{marker.size}<extra></extra>",
         "legendgroup": "Jamaica",
         "marker": {
          "color": "#FF6692",
          "size": [
           1875.637
          ],
          "sizemode": "area",
          "sizeref": 3085.7029075,
          "symbol": "circle"
         },
         "mode": "markers",
         "name": "Jamaica",
         "orientation": "v",
         "showlegend": false,
         "type": "scatter",
         "x": [
          "Jamaica"
         ],
         "xaxis": "x9",
         "y": [
          0.06
         ],
         "yaxis": "y9"
        },
        {
         "hovertemplate": "Country=%{x}<br>Decade=1980<br>Women (%)=%{y}<br>Population (thousands)=%{marker.size}<extra></extra>",
         "legendgroup": "Jamaica",
         "marker": {
          "color": "#FF6692",
          "size": [
           2162.839
          ],
          "sizemode": "area",
          "sizeref": 3085.7029075,
          "symbol": "circle"
         },
         "mode": "markers",
         "name": "Jamaica",
         "orientation": "v",
         "showlegend": false,
         "type": "scatter",
         "x": [
          "Jamaica"
         ],
         "xaxis": "x4",
         "y": [
          0.09000000000000001
         ],
         "yaxis": "y4"
        },
        {
         "hovertemplate": "Country=%{x}<br>Decade=1990<br>Women (%)=%{y}<br>Population (thousands)=%{marker.size}<extra></extra>",
         "legendgroup": "Jamaica",
         "marker": {
          "color": "#FF6692",
          "size": [
           2419.901
          ],
          "sizemode": "area",
          "sizeref": 3085.7029075,
          "symbol": "circle"
         },
         "mode": "markers",
         "name": "Jamaica",
         "orientation": "v",
         "showlegend": false,
         "type": "scatter",
         "x": [
          "Jamaica"
         ],
         "xaxis": "x5",
         "y": [
          0.12
         ],
         "yaxis": "y5"
        },
        {
         "hovertemplate": "Country=%{x}<br>Decade=2000<br>Women (%)=%{y}<br>Population (thousands)=%{marker.size}<extra></extra>",
         "legendgroup": "Jamaica",
         "marker": {
          "color": "#FF6692",
          "size": [
           2654.698
          ],
          "sizemode": "area",
          "sizeref": 3085.7029075,
          "symbol": "circle"
         },
         "mode": "markers",
         "name": "Jamaica",
         "orientation": "v",
         "showlegend": false,
         "type": "scatter",
         "x": [
          "Jamaica"
         ],
         "xaxis": "x6",
         "y": [
          0.125
         ],
         "yaxis": "y6"
        },
        {
         "hovertemplate": "Country=%{x}<br>Decade=2010<br>Women (%)=%{y}<br>Population (thousands)=%{marker.size}<extra></extra>",
         "legendgroup": "Jamaica",
         "marker": {
          "color": "#FF6692",
          "size": [
           2810.464
          ],
          "sizemode": "area",
          "sizeref": 3085.7029075,
          "symbol": "circle"
         },
         "mode": "markers",
         "name": "Jamaica",
         "orientation": "v",
         "showlegend": false,
         "type": "scatter",
         "x": [
          "Jamaica"
         ],
         "xaxis": "x",
         "y": [
          0.14333333333333334
         ],
         "yaxis": "y"
        },
        {
         "hovertemplate": "Country=%{x}<br>Decade=1960<br>Women (%)=%{y}<br>Population (thousands)=%{marker.size}<extra></extra>",
         "legendgroup": "Cameroon",
         "marker": {
          "color": "#B6E880",
          "size": [
           5176.92
          ],
          "sizemode": "area",
          "sizeref": 3085.7029075,
          "symbol": "circle"
         },
         "mode": "markers",
         "name": "Cameroon",
         "orientation": "v",
         "showlegend": true,
         "type": "scatter",
         "x": [
          "Cameroon"
         ],
         "xaxis": "x8",
         "y": [
          0.016666666666666666
         ],
         "yaxis": "y8"
        },
        {
         "hovertemplate": "Country=%{x}<br>Decade=1970<br>Women (%)=%{y}<br>Population (thousands)=%{marker.size}<extra></extra>",
         "legendgroup": "Cameroon",
         "marker": {
          "color": "#B6E880",
          "size": [
           6519.754
          ],
          "sizemode": "area",
          "sizeref": 3085.7029075,
          "symbol": "circle"
         },
         "mode": "markers",
         "name": "Cameroon",
         "orientation": "v",
         "showlegend": false,
         "type": "scatter",
         "x": [
          "Cameroon"
         ],
         "xaxis": "x9",
         "y": [
          0.06666666666666667
         ],
         "yaxis": "y9"
        },
        {
         "hovertemplate": "Country=%{x}<br>Decade=1980<br>Women (%)=%{y}<br>Population (thousands)=%{marker.size}<extra></extra>",
         "legendgroup": "Cameroon",
         "marker": {
          "color": "#B6E880",
          "size": [
           8621.409
          ],
          "sizemode": "area",
          "sizeref": 3085.7029075,
          "symbol": "circle"
         },
         "mode": "markers",
         "name": "Cameroon",
         "orientation": "v",
         "showlegend": false,
         "type": "scatter",
         "x": [
          "Cameroon"
         ],
         "xaxis": "x4",
         "y": [
          0.14
         ],
         "yaxis": "y4"
        },
        {
         "hovertemplate": "Country=%{x}<br>Decade=1990<br>Women (%)=%{y}<br>Population (thousands)=%{marker.size}<extra></extra>",
         "legendgroup": "Cameroon",
         "marker": {
          "color": "#B6E880",
          "size": [
           11780.086
          ],
          "sizemode": "area",
          "sizeref": 3085.7029075,
          "symbol": "circle"
         },
         "mode": "markers",
         "name": "Cameroon",
         "orientation": "v",
         "showlegend": false,
         "type": "scatter",
         "x": [
          "Cameroon"
         ],
         "xaxis": "x5",
         "y": [
          0.09999999999999999
         ],
         "yaxis": "y5"
        },
        {
         "hovertemplate": "Country=%{x}<br>Decade=2000<br>Women (%)=%{y}<br>Population (thousands)=%{marker.size}<extra></extra>",
         "legendgroup": "Cameroon",
         "marker": {
          "color": "#B6E880",
          "size": [
           15513.944
          ],
          "sizemode": "area",
          "sizeref": 3085.7029075,
          "symbol": "circle"
         },
         "mode": "markers",
         "name": "Cameroon",
         "orientation": "v",
         "showlegend": false,
         "type": "scatter",
         "x": [
          "Cameroon"
         ],
         "xaxis": "x6",
         "y": [
          0.12
         ],
         "yaxis": "y6"
        },
        {
         "hovertemplate": "Country=%{x}<br>Decade=1960<br>Women (%)=%{y}<br>Population (thousands)=%{marker.size}<extra></extra>",
         "legendgroup": "Singapore",
         "marker": {
          "color": "#FF97FF",
          "size": [
           1633.133
          ],
          "sizemode": "area",
          "sizeref": 3085.7029075,
          "symbol": "circle"
         },
         "mode": "markers",
         "name": "Singapore",
         "orientation": "v",
         "showlegend": true,
         "type": "scatter",
         "x": [
          "Singapore"
         ],
         "xaxis": "x8",
         "y": [
          0.04
         ],
         "yaxis": "y8"
        },
        {
         "hovertemplate": "Country=%{x}<br>Decade=1970<br>Women (%)=%{y}<br>Population (thousands)=%{marker.size}<extra></extra>",
         "legendgroup": "Singapore",
         "marker": {
          "color": "#FF97FF",
          "size": [
           2072.284
          ],
          "sizemode": "area",
          "sizeref": 3085.7029075,
          "symbol": "circle"
         },
         "mode": "markers",
         "name": "Singapore",
         "orientation": "v",
         "showlegend": false,
         "type": "scatter",
         "x": [
          "Singapore"
         ],
         "xaxis": "x9",
         "y": [
          0
         ],
         "yaxis": "y9"
        },
        {
         "hovertemplate": "Country=%{x}<br>Decade=1980<br>Women (%)=%{y}<br>Population (thousands)=%{marker.size}<extra></extra>",
         "legendgroup": "Singapore",
         "marker": {
          "color": "#FF97FF",
          "size": [
           2411.69
          ],
          "sizemode": "area",
          "sizeref": 3085.7029075,
          "symbol": "circle"
         },
         "mode": "markers",
         "name": "Singapore",
         "orientation": "v",
         "showlegend": false,
         "type": "scatter",
         "x": [
          "Singapore"
         ],
         "xaxis": "x4",
         "y": [
          0.03
         ],
         "yaxis": "y4"
        },
        {
         "hovertemplate": "Country=%{x}<br>Decade=1990<br>Women (%)=%{y}<br>Population (thousands)=%{marker.size}<extra></extra>",
         "legendgroup": "Singapore",
         "marker": {
          "color": "#FF97FF",
          "size": [
           3012.968
          ],
          "sizemode": "area",
          "sizeref": 3085.7029075,
          "symbol": "circle"
         },
         "mode": "markers",
         "name": "Singapore",
         "orientation": "v",
         "showlegend": false,
         "type": "scatter",
         "x": [
          "Singapore"
         ],
         "xaxis": "x5",
         "y": [
          0.05
         ],
         "yaxis": "y5"
        },
        {
         "hovertemplate": "Country=%{x}<br>Decade=2000<br>Women (%)=%{y}<br>Population (thousands)=%{marker.size}<extra></extra>",
         "legendgroup": "Singapore",
         "marker": {
          "color": "#FF97FF",
          "size": [
           4028.872
          ],
          "sizemode": "area",
          "sizeref": 3085.7029075,
          "symbol": "circle"
         },
         "mode": "markers",
         "name": "Singapore",
         "orientation": "v",
         "showlegend": false,
         "type": "scatter",
         "x": [
          "Singapore"
         ],
         "xaxis": "x6",
         "y": [
          0.16499999999999998
         ],
         "yaxis": "y6"
        },
        {
         "hovertemplate": "Country=%{x}<br>Decade=2010<br>Women (%)=%{y}<br>Population (thousands)=%{marker.size}<extra></extra>",
         "legendgroup": "Singapore",
         "marker": {
          "color": "#FF97FF",
          "size": [
           5131.17
          ],
          "sizemode": "area",
          "sizeref": 3085.7029075,
          "symbol": "circle"
         },
         "mode": "markers",
         "name": "Singapore",
         "orientation": "v",
         "showlegend": false,
         "type": "scatter",
         "x": [
          "Singapore"
         ],
         "xaxis": "x",
         "y": [
          0.22999999999999998
         ],
         "yaxis": "y"
        },
        {
         "hovertemplate": "Country=%{x}<br>Decade=1960<br>Women (%)=%{y}<br>Population (thousands)=%{marker.size}<extra></extra>",
         "legendgroup": "Botswana",
         "marker": {
          "color": "#FECB52",
          "size": [
           502.733
          ],
          "sizemode": "area",
          "sizeref": 3085.7029075,
          "symbol": "circle"
         },
         "mode": "markers",
         "name": "Botswana",
         "orientation": "v",
         "showlegend": true,
         "type": "scatter",
         "x": [
          "Botswana"
         ],
         "xaxis": "x8",
         "y": [
          0
         ],
         "yaxis": "y8"
        },
        {
         "hovertemplate": "Country=%{x}<br>Decade=1970<br>Women (%)=%{y}<br>Population (thousands)=%{marker.size}<extra></extra>",
         "legendgroup": "Botswana",
         "marker": {
          "color": "#FECB52",
          "size": [
           627.714
          ],
          "sizemode": "area",
          "sizeref": 3085.7029075,
          "symbol": "circle"
         },
         "mode": "markers",
         "name": "Botswana",
         "orientation": "v",
         "showlegend": false,
         "type": "scatter",
         "x": [
          "Botswana"
         ],
         "xaxis": "x9",
         "y": [
          0.025
         ],
         "yaxis": "y9"
        },
        {
         "hovertemplate": "Country=%{x}<br>Decade=1980<br>Women (%)=%{y}<br>Population (thousands)=%{marker.size}<extra></extra>",
         "legendgroup": "Botswana",
         "marker": {
          "color": "#FECB52",
          "size": [
           897.86
          ],
          "sizemode": "area",
          "sizeref": 3085.7029075,
          "symbol": "circle"
         },
         "mode": "markers",
         "name": "Botswana",
         "orientation": "v",
         "showlegend": false,
         "type": "scatter",
         "x": [
          "Botswana"
         ],
         "xaxis": "x4",
         "y": [
          0.05
         ],
         "yaxis": "y4"
        },
        {
         "hovertemplate": "Country=%{x}<br>Decade=1990<br>Women (%)=%{y}<br>Population (thousands)=%{marker.size}<extra></extra>",
         "legendgroup": "Botswana",
         "marker": {
          "color": "#FECB52",
          "size": [
           1286.756
          ],
          "sizemode": "area",
          "sizeref": 3085.7029075,
          "symbol": "circle"
         },
         "mode": "markers",
         "name": "Botswana",
         "orientation": "v",
         "showlegend": false,
         "type": "scatter",
         "x": [
          "Botswana"
         ],
         "xaxis": "x5",
         "y": [
          0.135
         ],
         "yaxis": "y5"
        },
        {
         "hovertemplate": "Country=%{x}<br>Decade=2000<br>Women (%)=%{y}<br>Population (thousands)=%{marker.size}<extra></extra>",
         "legendgroup": "Botswana",
         "marker": {
          "color": "#FECB52",
          "size": [
           1643.333
          ],
          "sizemode": "area",
          "sizeref": 3085.7029075,
          "symbol": "circle"
         },
         "mode": "markers",
         "name": "Botswana",
         "orientation": "v",
         "showlegend": false,
         "type": "scatter",
         "x": [
          "Botswana"
         ],
         "xaxis": "x6",
         "y": [
          0.095
         ],
         "yaxis": "y6"
        },
        {
         "hovertemplate": "Country=%{x}<br>Decade=2010<br>Women (%)=%{y}<br>Population (thousands)=%{marker.size}<extra></extra>",
         "legendgroup": "Botswana",
         "marker": {
          "color": "#FECB52",
          "size": [
           1987.106
          ],
          "sizemode": "area",
          "sizeref": 3085.7029075,
          "symbol": "circle"
         },
         "mode": "markers",
         "name": "Botswana",
         "orientation": "v",
         "showlegend": false,
         "type": "scatter",
         "x": [
          "Botswana"
         ],
         "xaxis": "x",
         "y": [
          0.1
         ],
         "yaxis": "y"
        },
        {
         "hovertemplate": "Country=%{x}<br>Decade=1960<br>Women (%)=%{y}<br>Population (thousands)=%{marker.size}<extra></extra>",
         "legendgroup": "Senegal",
         "marker": {
          "color": "#636efa",
          "size": [
           3206.757
          ],
          "sizemode": "area",
          "sizeref": 3085.7029075,
          "symbol": "circle"
         },
         "mode": "markers",
         "name": "Senegal",
         "orientation": "v",
         "showlegend": true,
         "type": "scatter",
         "x": [
          "Senegal"
         ],
         "xaxis": "x8",
         "y": [
          0.006666666666666667
         ],
         "yaxis": "y8"
        },
        {
         "hovertemplate": "Country=%{x}<br>Decade=1970<br>Women (%)=%{y}<br>Population (thousands)=%{marker.size}<extra></extra>",
         "legendgroup": "Senegal",
         "marker": {
          "color": "#636efa",
          "size": [
           4257.508
          ],
          "sizemode": "area",
          "sizeref": 3085.7029075,
          "symbol": "circle"
         },
         "mode": "markers",
         "name": "Senegal",
         "orientation": "v",
         "showlegend": false,
         "type": "scatter",
         "x": [
          "Senegal"
         ],
         "xaxis": "x9",
         "y": [
          0.05500000000000001
         ],
         "yaxis": "y9"
        },
        {
         "hovertemplate": "Country=%{x}<br>Decade=1980<br>Women (%)=%{y}<br>Population (thousands)=%{marker.size}<extra></extra>",
         "legendgroup": "Senegal",
         "marker": {
          "color": "#636efa",
          "size": [
           5583.157
          ],
          "sizemode": "area",
          "sizeref": 3085.7029075,
          "symbol": "circle"
         },
         "mode": "markers",
         "name": "Senegal",
         "orientation": "v",
         "showlegend": false,
         "type": "scatter",
         "x": [
          "Senegal"
         ],
         "xaxis": "x4",
         "y": [
          0.11499999999999999
         ],
         "yaxis": "y4"
        },
        {
         "hovertemplate": "Country=%{x}<br>Decade=1990<br>Women (%)=%{y}<br>Population (thousands)=%{marker.size}<extra></extra>",
         "legendgroup": "Senegal",
         "marker": {
          "color": "#636efa",
          "size": [
           7526.306
          ],
          "sizemode": "area",
          "sizeref": 3085.7029075,
          "symbol": "circle"
         },
         "mode": "markers",
         "name": "Senegal",
         "orientation": "v",
         "showlegend": false,
         "type": "scatter",
         "x": [
          "Senegal"
         ],
         "xaxis": "x5",
         "y": [
          0.12
         ],
         "yaxis": "y5"
        },
        {
         "hovertemplate": "Country=%{x}<br>Decade=2000<br>Women (%)=%{y}<br>Population (thousands)=%{marker.size}<extra></extra>",
         "legendgroup": "Senegal",
         "marker": {
          "color": "#636efa",
          "size": [
           9797.731
          ],
          "sizemode": "area",
          "sizeref": 3085.7029075,
          "symbol": "circle"
         },
         "mode": "markers",
         "name": "Senegal",
         "orientation": "v",
         "showlegend": false,
         "type": "scatter",
         "x": [
          "Senegal"
         ],
         "xaxis": "x6",
         "y": [
          0.20500000000000002
         ],
         "yaxis": "y6"
        },
        {
         "hovertemplate": "Country=%{x}<br>Decade=2010<br>Women (%)=%{y}<br>Population (thousands)=%{marker.size}<extra></extra>",
         "legendgroup": "Senegal",
         "marker": {
          "color": "#636efa",
          "size": [
           12678.143
          ],
          "sizemode": "area",
          "sizeref": 3085.7029075,
          "symbol": "circle"
         },
         "mode": "markers",
         "name": "Senegal",
         "orientation": "v",
         "showlegend": false,
         "type": "scatter",
         "x": [
          "Senegal"
         ],
         "xaxis": "x",
         "y": [
          0.425
         ],
         "yaxis": "y"
        },
        {
         "hovertemplate": "Country=%{x}<br>Decade=1960<br>Women (%)=%{y}<br>Population (thousands)=%{marker.size}<extra></extra>",
         "legendgroup": "Samoa",
         "marker": {
          "color": "#EF553B",
          "size": [
           108.627
          ],
          "sizemode": "area",
          "sizeref": 3085.7029075,
          "symbol": "circle"
         },
         "mode": "markers",
         "name": "Samoa",
         "orientation": "v",
         "showlegend": true,
         "type": "scatter",
         "x": [
          "Samoa"
         ],
         "xaxis": "x8",
         "y": [
          0.01
         ],
         "yaxis": "y8"
        },
        {
         "hovertemplate": "Country=%{x}<br>Decade=1970<br>Women (%)=%{y}<br>Population (thousands)=%{marker.size}<extra></extra>",
         "legendgroup": "Samoa",
         "marker": {
          "color": "#EF553B",
          "size": [
           143.146
          ],
          "sizemode": "area",
          "sizeref": 3085.7029075,
          "symbol": "circle"
         },
         "mode": "markers",
         "name": "Samoa",
         "orientation": "v",
         "showlegend": false,
         "type": "scatter",
         "x": [
          "Samoa"
         ],
         "xaxis": "x9",
         "y": [
          0.025
         ],
         "yaxis": "y9"
        },
        {
         "hovertemplate": "Country=%{x}<br>Decade=1980<br>Women (%)=%{y}<br>Population (thousands)=%{marker.size}<extra></extra>",
         "legendgroup": "Samoa",
         "marker": {
          "color": "#EF553B",
          "size": [
           155.522
          ],
          "sizemode": "area",
          "sizeref": 3085.7029075,
          "symbol": "circle"
         },
         "mode": "markers",
         "name": "Samoa",
         "orientation": "v",
         "showlegend": false,
         "type": "scatter",
         "x": [
          "Samoa"
         ],
         "xaxis": "x4",
         "y": [
          0.02666666666666667
         ],
         "yaxis": "y4"
        },
        {
         "hovertemplate": "Country=%{x}<br>Decade=1990<br>Women (%)=%{y}<br>Population (thousands)=%{marker.size}<extra></extra>",
         "legendgroup": "Samoa",
         "marker": {
          "color": "#EF553B",
          "size": [
           162.797
          ],
          "sizemode": "area",
          "sizeref": 3085.7029075,
          "symbol": "circle"
         },
         "mode": "markers",
         "name": "Samoa",
         "orientation": "v",
         "showlegend": false,
         "type": "scatter",
         "x": [
          "Samoa"
         ],
         "xaxis": "x5",
         "y": [
          0.05
         ],
         "yaxis": "y5"
        },
        {
         "hovertemplate": "Country=%{x}<br>Decade=2000<br>Women (%)=%{y}<br>Population (thousands)=%{marker.size}<extra></extra>",
         "legendgroup": "Samoa",
         "marker": {
          "color": "#EF553B",
          "size": [
           174.454
          ],
          "sizemode": "area",
          "sizeref": 3085.7029075,
          "symbol": "circle"
         },
         "mode": "markers",
         "name": "Samoa",
         "orientation": "v",
         "showlegend": false,
         "type": "scatter",
         "x": [
          "Samoa"
         ],
         "xaxis": "x6",
         "y": [
          0.07
         ],
         "yaxis": "y6"
        },
        {
         "hovertemplate": "Country=%{x}<br>Decade=2010<br>Women (%)=%{y}<br>Population (thousands)=%{marker.size}<extra></extra>",
         "legendgroup": "Samoa",
         "marker": {
          "color": "#EF553B",
          "size": [
           185.944
          ],
          "sizemode": "area",
          "sizeref": 3085.7029075,
          "symbol": "circle"
         },
         "mode": "markers",
         "name": "Samoa",
         "orientation": "v",
         "showlegend": false,
         "type": "scatter",
         "x": [
          "Samoa"
         ],
         "xaxis": "x",
         "y": [
          0.07
         ],
         "yaxis": "y"
        },
        {
         "hovertemplate": "Country=%{x}<br>Decade=1960<br>Women (%)=%{y}<br>Population (thousands)=%{marker.size}<extra></extra>",
         "legendgroup": "Zambia",
         "marker": {
          "color": "#00cc96",
          "size": [
           3070.78
          ],
          "sizemode": "area",
          "sizeref": 3085.7029075,
          "symbol": "circle"
         },
         "mode": "markers",
         "name": "Zambia",
         "orientation": "v",
         "showlegend": true,
         "type": "scatter",
         "x": [
          "Zambia"
         ],
         "xaxis": "x8",
         "y": [
          0.035
         ],
         "yaxis": "y8"
        },
        {
         "hovertemplate": "Country=%{x}<br>Decade=1970<br>Women (%)=%{y}<br>Population (thousands)=%{marker.size}<extra></extra>",
         "legendgroup": "Zambia",
         "marker": {
          "color": "#00cc96",
          "size": [
           4179.062
          ],
          "sizemode": "area",
          "sizeref": 3085.7029075,
          "symbol": "circle"
         },
         "mode": "markers",
         "name": "Zambia",
         "orientation": "v",
         "showlegend": false,
         "type": "scatter",
         "x": [
          "Zambia"
         ],
         "xaxis": "x9",
         "y": [
          0.05
         ],
         "yaxis": "y9"
        },
        {
         "hovertemplate": "Country=%{x}<br>Decade=1980<br>Women (%)=%{y}<br>Population (thousands)=%{marker.size}<extra></extra>",
         "legendgroup": "Zambia",
         "marker": {
          "color": "#00cc96",
          "size": [
           5851.818
          ],
          "sizemode": "area",
          "sizeref": 3085.7029075,
          "symbol": "circle"
         },
         "mode": "markers",
         "name": "Zambia",
         "orientation": "v",
         "showlegend": false,
         "type": "scatter",
         "x": [
          "Zambia"
         ],
         "xaxis": "x4",
         "y": [
          0.05
         ],
         "yaxis": "y4"
        },
        {
         "hovertemplate": "Country=%{x}<br>Decade=1990<br>Women (%)=%{y}<br>Population (thousands)=%{marker.size}<extra></extra>",
         "legendgroup": "Zambia",
         "marker": {
          "color": "#00cc96",
          "size": [
           8036.849
          ],
          "sizemode": "area",
          "sizeref": 3085.7029075,
          "symbol": "circle"
         },
         "mode": "markers",
         "name": "Zambia",
         "orientation": "v",
         "showlegend": false,
         "type": "scatter",
         "x": [
          "Zambia"
         ],
         "xaxis": "x5",
         "y": [
          0.085
         ],
         "yaxis": "y5"
        },
        {
         "hovertemplate": "Country=%{x}<br>Decade=2000<br>Women (%)=%{y}<br>Population (thousands)=%{marker.size}<extra></extra>",
         "legendgroup": "Zambia",
         "marker": {
          "color": "#00cc96",
          "size": [
           10415.942
          ],
          "sizemode": "area",
          "sizeref": 3085.7029075,
          "symbol": "circle"
         },
         "mode": "markers",
         "name": "Zambia",
         "orientation": "v",
         "showlegend": false,
         "type": "scatter",
         "x": [
          "Zambia"
         ],
         "xaxis": "x6",
         "y": [
          0.135
         ],
         "yaxis": "y6"
        },
        {
         "hovertemplate": "Country=%{x}<br>Decade=2010<br>Women (%)=%{y}<br>Population (thousands)=%{marker.size}<extra></extra>",
         "legendgroup": "Zambia",
         "marker": {
          "color": "#00cc96",
          "size": [
           13605.986
          ],
          "sizemode": "area",
          "sizeref": 3085.7029075,
          "symbol": "circle"
         },
         "mode": "markers",
         "name": "Zambia",
         "orientation": "v",
         "showlegend": false,
         "type": "scatter",
         "x": [
          "Zambia"
         ],
         "xaxis": "x",
         "y": [
          0.13999999999999999
         ],
         "yaxis": "y"
        },
        {
         "hovertemplate": "Country=%{x}<br>Decade=1960<br>Women (%)=%{y}<br>Population (thousands)=%{marker.size}<extra></extra>",
         "legendgroup": "Somalia",
         "marker": {
          "color": "#ab63fa",
          "size": [
           2755.967
          ],
          "sizemode": "area",
          "sizeref": 3085.7029075,
          "symbol": "circle"
         },
         "mode": "markers",
         "name": "Somalia",
         "orientation": "v",
         "showlegend": true,
         "type": "scatter",
         "x": [
          "Somalia"
         ],
         "xaxis": "x8",
         "y": [
          0
         ],
         "yaxis": "y8"
        },
        {
         "hovertemplate": "Country=%{x}<br>Decade=1970<br>Women (%)=%{y}<br>Population (thousands)=%{marker.size}<extra></extra>",
         "legendgroup": "Somalia",
         "marker": {
          "color": "#ab63fa",
          "size": [
           3444.569
          ],
          "sizemode": "area",
          "sizeref": 3085.7029075,
          "symbol": "circle"
         },
         "mode": "markers",
         "name": "Somalia",
         "orientation": "v",
         "showlegend": false,
         "type": "scatter",
         "x": [
          "Somalia"
         ],
         "xaxis": "x9",
         "y": [
          0.1
         ],
         "yaxis": "y9"
        },
        {
         "hovertemplate": "Country=%{x}<br>Decade=1980<br>Women (%)=%{y}<br>Population (thousands)=%{marker.size}<extra></extra>",
         "legendgroup": "Somalia",
         "marker": {
          "color": "#ab63fa",
          "size": [
           6281.138
          ],
          "sizemode": "area",
          "sizeref": 3085.7029075,
          "symbol": "circle"
         },
         "mode": "markers",
         "name": "Somalia",
         "orientation": "v",
         "showlegend": false,
         "type": "scatter",
         "x": [
          "Somalia"
         ],
         "xaxis": "x4",
         "y": [
          0.04
         ],
         "yaxis": "y4"
        },
        {
         "hovertemplate": "Country=%{x}<br>Decade=2000<br>Women (%)=%{y}<br>Population (thousands)=%{marker.size}<extra></extra>",
         "legendgroup": "Somalia",
         "marker": {
          "color": "#ab63fa",
          "size": [
           8872.25
          ],
          "sizemode": "area",
          "sizeref": 3085.7029075,
          "symbol": "circle"
         },
         "mode": "markers",
         "name": "Somalia",
         "orientation": "v",
         "showlegend": false,
         "type": "scatter",
         "x": [
          "Somalia"
         ],
         "xaxis": "x6",
         "y": [
          0.07
         ],
         "yaxis": "y6"
        },
        {
         "hovertemplate": "Country=%{x}<br>Decade=2010<br>Women (%)=%{y}<br>Population (thousands)=%{marker.size}<extra></extra>",
         "legendgroup": "Somalia",
         "marker": {
          "color": "#ab63fa",
          "size": [
           12043.886
          ],
          "sizemode": "area",
          "sizeref": 3085.7029075,
          "symbol": "circle"
         },
         "mode": "markers",
         "name": "Somalia",
         "orientation": "v",
         "showlegend": false,
         "type": "scatter",
         "x": [
          "Somalia"
         ],
         "xaxis": "x",
         "y": [
          0.14
         ],
         "yaxis": "y"
        },
        {
         "hovertemplate": "Country=%{x}<br>Decade=1960<br>Women (%)=%{y}<br>Population (thousands)=%{marker.size}<extra></extra>",
         "legendgroup": "Rwanda",
         "marker": {
          "color": "#FFA15A",
          "size": [
           2935.575
          ],
          "sizemode": "area",
          "sizeref": 3085.7029075,
          "symbol": "circle"
         },
         "mode": "markers",
         "name": "Rwanda",
         "orientation": "v",
         "showlegend": true,
         "type": "scatter",
         "x": [
          "Rwanda"
         ],
         "xaxis": "x8",
         "y": [
          0
         ],
         "yaxis": "y8"
        },
        {
         "hovertemplate": "Country=%{x}<br>Decade=1980<br>Women (%)=%{y}<br>Population (thousands)=%{marker.size}<extra></extra>",
         "legendgroup": "Rwanda",
         "marker": {
          "color": "#FFA15A",
          "size": [
           5153.314
          ],
          "sizemode": "area",
          "sizeref": 3085.7029075,
          "symbol": "circle"
         },
         "mode": "markers",
         "name": "Rwanda",
         "orientation": "v",
         "showlegend": false,
         "type": "scatter",
         "x": [
          "Rwanda"
         ],
         "xaxis": "x4",
         "y": [
          0.12
         ],
         "yaxis": "y4"
        },
        {
         "hovertemplate": "Country=%{x}<br>Decade=1990<br>Women (%)=%{y}<br>Population (thousands)=%{marker.size}<extra></extra>",
         "legendgroup": "Rwanda",
         "marker": {
          "color": "#FFA15A",
          "size": [
           7288.883
          ],
          "sizemode": "area",
          "sizeref": 3085.7029075,
          "symbol": "circle"
         },
         "mode": "markers",
         "name": "Rwanda",
         "orientation": "v",
         "showlegend": false,
         "type": "scatter",
         "x": [
          "Rwanda"
         ],
         "xaxis": "x5",
         "y": [
          0.04
         ],
         "yaxis": "y5"
        },
        {
         "hovertemplate": "Country=%{x}<br>Decade=2000<br>Women (%)=%{y}<br>Population (thousands)=%{marker.size}<extra></extra>",
         "legendgroup": "Rwanda",
         "marker": {
          "color": "#FFA15A",
          "size": [
           7933.688
          ],
          "sizemode": "area",
          "sizeref": 3085.7029075,
          "symbol": "circle"
         },
         "mode": "markers",
         "name": "Rwanda",
         "orientation": "v",
         "showlegend": false,
         "type": "scatter",
         "x": [
          "Rwanda"
         ],
         "xaxis": "x6",
         "y": [
          0.525
         ],
         "yaxis": "y6"
        },
        {
         "hovertemplate": "Country=%{x}<br>Decade=2010<br>Women (%)=%{y}<br>Population (thousands)=%{marker.size}<extra></extra>",
         "legendgroup": "Rwanda",
         "marker": {
          "color": "#FFA15A",
          "size": [
           10039.338
          ],
          "sizemode": "area",
          "sizeref": 3085.7029075,
          "symbol": "circle"
         },
         "mode": "markers",
         "name": "Rwanda",
         "orientation": "v",
         "showlegend": false,
         "type": "scatter",
         "x": [
          "Rwanda"
         ],
         "xaxis": "x",
         "y": [
          0.6033333333333334
         ],
         "yaxis": "y"
        },
        {
         "hovertemplate": "Country=%{x}<br>Decade=1960<br>Women (%)=%{y}<br>Population (thousands)=%{marker.size}<extra></extra>",
         "legendgroup": "Nauru",
         "marker": {
          "color": "#19d3f3",
          "size": [
           4.377
          ],
          "sizemode": "area",
          "sizeref": 3085.7029075,
          "symbol": "circle"
         },
         "mode": "markers",
         "name": "Nauru",
         "orientation": "v",
         "showlegend": true,
         "type": "scatter",
         "x": [
          "Nauru"
         ],
         "xaxis": "x8",
         "y": [
          0
         ],
         "yaxis": "y8"
        },
        {
         "hovertemplate": "Country=%{x}<br>Decade=1970<br>Women (%)=%{y}<br>Population (thousands)=%{marker.size}<extra></extra>",
         "legendgroup": "Nauru",
         "marker": {
          "color": "#19d3f3",
          "size": [
           6.553
          ],
          "sizemode": "area",
          "sizeref": 3085.7029075,
          "symbol": "circle"
         },
         "mode": "markers",
         "name": "Nauru",
         "orientation": "v",
         "showlegend": false,
         "type": "scatter",
         "x": [
          "Nauru"
         ],
         "xaxis": "x9",
         "y": [
          0
         ],
         "yaxis": "y9"
        },
        {
         "hovertemplate": "Country=%{x}<br>Decade=1980<br>Women (%)=%{y}<br>Population (thousands)=%{marker.size}<extra></extra>",
         "legendgroup": "Nauru",
         "marker": {
          "color": "#19d3f3",
          "size": [
           7.751
          ],
          "sizemode": "area",
          "sizeref": 3085.7029075,
          "symbol": "circle"
         },
         "mode": "markers",
         "name": "Nauru",
         "orientation": "v",
         "showlegend": false,
         "type": "scatter",
         "x": [
          "Nauru"
         ],
         "xaxis": "x4",
         "y": [
          0.036
         ],
         "yaxis": "y4"
        },
        {
         "hovertemplate": "Country=%{x}<br>Decade=1990<br>Women (%)=%{y}<br>Population (thousands)=%{marker.size}<extra></extra>",
         "legendgroup": "Nauru",
         "marker": {
          "color": "#19d3f3",
          "size": [
           9.506
          ],
          "sizemode": "area",
          "sizeref": 3085.7029075,
          "symbol": "circle"
         },
         "mode": "markers",
         "name": "Nauru",
         "orientation": "v",
         "showlegend": false,
         "type": "scatter",
         "x": [
          "Nauru"
         ],
         "xaxis": "x5",
         "y": [
          0.03
         ],
         "yaxis": "y5"
        },
        {
         "hovertemplate": "Country=%{x}<br>Decade=2000<br>Women (%)=%{y}<br>Population (thousands)=%{marker.size}<extra></extra>",
         "legendgroup": "Nauru",
         "marker": {
          "color": "#19d3f3",
          "size": [
           10.335
          ],
          "sizemode": "area",
          "sizeref": 3085.7029075,
          "symbol": "circle"
         },
         "mode": "markers",
         "name": "Nauru",
         "orientation": "v",
         "showlegend": false,
         "type": "scatter",
         "x": [
          "Nauru"
         ],
         "xaxis": "x6",
         "y": [
          0
         ],
         "yaxis": "y6"
        },
        {
         "hovertemplate": "Country=%{x}<br>Decade=2010<br>Women (%)=%{y}<br>Population (thousands)=%{marker.size}<extra></extra>",
         "legendgroup": "Nauru",
         "marker": {
          "color": "#19d3f3",
          "size": [
           10.009
          ],
          "sizemode": "area",
          "sizeref": 3085.7029075,
          "symbol": "circle"
         },
         "mode": "markers",
         "name": "Nauru",
         "orientation": "v",
         "showlegend": false,
         "type": "scatter",
         "x": [
          "Nauru"
         ],
         "xaxis": "x",
         "y": [
          0.025
         ],
         "yaxis": "y"
        },
        {
         "hovertemplate": "Country=%{x}<br>Decade=1960<br>Women (%)=%{y}<br>Population (thousands)=%{marker.size}<extra></extra>",
         "legendgroup": "Algeria",
         "marker": {
          "color": "#FF6692",
          "size": [
           11057.864
          ],
          "sizemode": "area",
          "sizeref": 3085.7029075,
          "symbol": "circle"
         },
         "mode": "markers",
         "name": "Algeria",
         "orientation": "v",
         "showlegend": true,
         "type": "scatter",
         "x": [
          "Algeria"
         ],
         "xaxis": "x8",
         "y": [
          0.030000000000000002
         ],
         "yaxis": "y8"
        },
        {
         "hovertemplate": "Country=%{x}<br>Decade=1970<br>Women (%)=%{y}<br>Population (thousands)=%{marker.size}<extra></extra>",
         "legendgroup": "Algeria",
         "marker": {
          "color": "#FF6692",
          "size": [
           14464.992
          ],
          "sizemode": "area",
          "sizeref": 3085.7029075,
          "symbol": "circle"
         },
         "mode": "markers",
         "name": "Algeria",
         "orientation": "v",
         "showlegend": false,
         "type": "scatter",
         "x": [
          "Algeria"
         ],
         "xaxis": "x9",
         "y": [
          0.04
         ],
         "yaxis": "y9"
        },
        {
         "hovertemplate": "Country=%{x}<br>Decade=1980<br>Women (%)=%{y}<br>Population (thousands)=%{marker.size}<extra></extra>",
         "legendgroup": "Algeria",
         "marker": {
          "color": "#FF6692",
          "size": [
           19221.659
          ],
          "sizemode": "area",
          "sizeref": 3085.7029075,
          "symbol": "circle"
         },
         "mode": "markers",
         "name": "Algeria",
         "orientation": "v",
         "showlegend": false,
         "type": "scatter",
         "x": [
          "Algeria"
         ],
         "xaxis": "x4",
         "y": [
          0.015
         ],
         "yaxis": "y4"
        },
        {
         "hovertemplate": "Country=%{x}<br>Decade=1990<br>Women (%)=%{y}<br>Population (thousands)=%{marker.size}<extra></extra>",
         "legendgroup": "Algeria",
         "marker": {
          "color": "#FF6692",
          "size": [
           25758.872
          ],
          "sizemode": "area",
          "sizeref": 3085.7029075,
          "symbol": "circle"
         },
         "mode": "markers",
         "name": "Algeria",
         "orientation": "v",
         "showlegend": false,
         "type": "scatter",
         "x": [
          "Algeria"
         ],
         "xaxis": "x5",
         "y": [
          0.08
         ],
         "yaxis": "y5"
        },
        {
         "hovertemplate": "Country=%{x}<br>Decade=2000<br>Women (%)=%{y}<br>Population (thousands)=%{marker.size}<extra></extra>",
         "legendgroup": "Algeria",
         "marker": {
          "color": "#FF6692",
          "size": [
           31042.238
          ],
          "sizemode": "area",
          "sizeref": 3085.7029075,
          "symbol": "circle"
         },
         "mode": "markers",
         "name": "Algeria",
         "orientation": "v",
         "showlegend": false,
         "type": "scatter",
         "x": [
          "Algeria"
         ],
         "xaxis": "x6",
         "y": [
          0.0675
         ],
         "yaxis": "y6"
        },
        {
         "hovertemplate": "Country=%{x}<br>Decade=2010<br>Women (%)=%{y}<br>Population (thousands)=%{marker.size}<extra></extra>",
         "legendgroup": "Algeria",
         "marker": {
          "color": "#FF6692",
          "size": [
           35977.451
          ],
          "sizemode": "area",
          "sizeref": 3085.7029075,
          "symbol": "circle"
         },
         "mode": "markers",
         "name": "Algeria",
         "orientation": "v",
         "showlegend": false,
         "type": "scatter",
         "x": [
          "Algeria"
         ],
         "xaxis": "x",
         "y": [
          0.29000000000000004
         ],
         "yaxis": "y"
        },
        {
         "hovertemplate": "Country=%{x}<br>Decade=1960<br>Women (%)=%{y}<br>Population (thousands)=%{marker.size}<extra></extra>",
         "legendgroup": "Morocco",
         "marker": {
          "color": "#B6E880",
          "size": [
           12328.532
          ],
          "sizemode": "area",
          "sizeref": 3085.7029075,
          "symbol": "circle"
         },
         "mode": "markers",
         "name": "Morocco",
         "orientation": "v",
         "showlegend": true,
         "type": "scatter",
         "x": [
          "Morocco"
         ],
         "xaxis": "x8",
         "y": [
          0
         ],
         "yaxis": "y8"
        },
        {
         "hovertemplate": "Country=%{x}<br>Decade=1970<br>Women (%)=%{y}<br>Population (thousands)=%{marker.size}<extra></extra>",
         "legendgroup": "Morocco",
         "marker": {
          "color": "#B6E880",
          "size": [
           16004.732
          ],
          "sizemode": "area",
          "sizeref": 3085.7029075,
          "symbol": "circle"
         },
         "mode": "markers",
         "name": "Morocco",
         "orientation": "v",
         "showlegend": false,
         "type": "scatter",
         "x": [
          "Morocco"
         ],
         "xaxis": "x9",
         "y": [
          0
         ],
         "yaxis": "y9"
        },
        {
         "hovertemplate": "Country=%{x}<br>Decade=1980<br>Women (%)=%{y}<br>Population (thousands)=%{marker.size}<extra></extra>",
         "legendgroup": "Morocco",
         "marker": {
          "color": "#B6E880",
          "size": [
           19990.006
          ],
          "sizemode": "area",
          "sizeref": 3085.7029075,
          "symbol": "circle"
         },
         "mode": "markers",
         "name": "Morocco",
         "orientation": "v",
         "showlegend": false,
         "type": "scatter",
         "x": [
          "Morocco"
         ],
         "xaxis": "x4",
         "y": [
          0
         ],
         "yaxis": "y4"
        },
        {
         "hovertemplate": "Country=%{x}<br>Decade=1990<br>Women (%)=%{y}<br>Population (thousands)=%{marker.size}<extra></extra>",
         "legendgroup": "Morocco",
         "marker": {
          "color": "#B6E880",
          "size": [
           24807.461
          ],
          "sizemode": "area",
          "sizeref": 3085.7029075,
          "symbol": "circle"
         },
         "mode": "markers",
         "name": "Morocco",
         "orientation": "v",
         "showlegend": false,
         "type": "scatter",
         "x": [
          "Morocco"
         ],
         "xaxis": "x5",
         "y": [
          0.01
         ],
         "yaxis": "y5"
        },
        {
         "hovertemplate": "Country=%{x}<br>Decade=2000<br>Women (%)=%{y}<br>Population (thousands)=%{marker.size}<extra></extra>",
         "legendgroup": "Morocco",
         "marker": {
          "color": "#B6E880",
          "size": [
           28793.672
          ],
          "sizemode": "area",
          "sizeref": 3085.7029075,
          "symbol": "circle"
         },
         "mode": "markers",
         "name": "Morocco",
         "orientation": "v",
         "showlegend": false,
         "type": "scatter",
         "x": [
          "Morocco"
         ],
         "xaxis": "x6",
         "y": [
          0.10500000000000001
         ],
         "yaxis": "y6"
        },
        {
         "hovertemplate": "Country=%{x}<br>Decade=2010<br>Women (%)=%{y}<br>Population (thousands)=%{marker.size}<extra></extra>",
         "legendgroup": "Morocco",
         "marker": {
          "color": "#B6E880",
          "size": [
           32343.384
          ],
          "sizemode": "area",
          "sizeref": 3085.7029075,
          "symbol": "circle"
         },
         "mode": "markers",
         "name": "Morocco",
         "orientation": "v",
         "showlegend": false,
         "type": "scatter",
         "x": [
          "Morocco"
         ],
         "xaxis": "x",
         "y": [
          0.17750000000000002
         ],
         "yaxis": "y"
        },
        {
         "hovertemplate": "Country=%{x}<br>Decade=1960<br>Women (%)=%{y}<br>Population (thousands)=%{marker.size}<extra></extra>",
         "legendgroup": "Togo",
         "marker": {
          "color": "#FF97FF",
          "size": [
           1580.508
          ],
          "sizemode": "area",
          "sizeref": 3085.7029075,
          "symbol": "circle"
         },
         "mode": "markers",
         "name": "Togo",
         "orientation": "v",
         "showlegend": true,
         "type": "scatter",
         "x": [
          "Togo"
         ],
         "xaxis": "x8",
         "y": [
          0.01
         ],
         "yaxis": "y8"
        },
        {
         "hovertemplate": "Country=%{x}<br>Decade=1970<br>Women (%)=%{y}<br>Population (thousands)=%{marker.size}<extra></extra>",
         "legendgroup": "Togo",
         "marker": {
          "color": "#FF97FF",
          "size": [
           2115.522
          ],
          "sizemode": "area",
          "sizeref": 3085.7029075,
          "symbol": "circle"
         },
         "mode": "markers",
         "name": "Togo",
         "orientation": "v",
         "showlegend": false,
         "type": "scatter",
         "x": [
          "Togo"
         ],
         "xaxis": "x9",
         "y": [
          0.1
         ],
         "yaxis": "y9"
        },
        {
         "hovertemplate": "Country=%{x}<br>Decade=1980<br>Women (%)=%{y}<br>Population (thousands)=%{marker.size}<extra></extra>",
         "legendgroup": "Togo",
         "marker": {
          "color": "#FF97FF",
          "size": [
           2720.835
          ],
          "sizemode": "area",
          "sizeref": 3085.7029075,
          "symbol": "circle"
         },
         "mode": "markers",
         "name": "Togo",
         "orientation": "v",
         "showlegend": false,
         "type": "scatter",
         "x": [
          "Togo"
         ],
         "xaxis": "x4",
         "y": [
          0.05
         ],
         "yaxis": "y4"
        },
        {
         "hovertemplate": "Country=%{x}<br>Decade=1990<br>Women (%)=%{y}<br>Population (thousands)=%{marker.size}<extra></extra>",
         "legendgroup": "Togo",
         "marker": {
          "color": "#FF97FF",
          "size": [
           3774.31
          ],
          "sizemode": "area",
          "sizeref": 3085.7029075,
          "symbol": "circle"
         },
         "mode": "markers",
         "name": "Togo",
         "orientation": "v",
         "showlegend": false,
         "type": "scatter",
         "x": [
          "Togo"
         ],
         "xaxis": "x5",
         "y": [
          0.04
         ],
         "yaxis": "y5"
        },
        {
         "hovertemplate": "Country=%{x}<br>Decade=2000<br>Women (%)=%{y}<br>Population (thousands)=%{marker.size}<extra></extra>",
         "legendgroup": "Togo",
         "marker": {
          "color": "#FF97FF",
          "size": [
           4924.406
          ],
          "sizemode": "area",
          "sizeref": 3085.7029075,
          "symbol": "circle"
         },
         "mode": "markers",
         "name": "Togo",
         "orientation": "v",
         "showlegend": false,
         "type": "scatter",
         "x": [
          "Togo"
         ],
         "xaxis": "x6",
         "y": [
          0.085
         ],
         "yaxis": "y6"
        },
        {
         "hovertemplate": "Country=%{x}<br>Decade=2010<br>Women (%)=%{y}<br>Population (thousands)=%{marker.size}<extra></extra>",
         "legendgroup": "Togo",
         "marker": {
          "color": "#FF97FF",
          "size": [
           6421.674
          ],
          "sizemode": "area",
          "sizeref": 3085.7029075,
          "symbol": "circle"
         },
         "mode": "markers",
         "name": "Togo",
         "orientation": "v",
         "showlegend": false,
         "type": "scatter",
         "x": [
          "Togo"
         ],
         "xaxis": "x",
         "y": [
          0.155
         ],
         "yaxis": "y"
        },
        {
         "hovertemplate": "Country=%{x}<br>Decade=1960<br>Women (%)=%{y}<br>Population (thousands)=%{marker.size}<extra></extra>",
         "legendgroup": "Burundi",
         "marker": {
          "color": "#FECB52",
          "size": [
           2797.925
          ],
          "sizemode": "area",
          "sizeref": 3085.7029075,
          "symbol": "circle"
         },
         "mode": "markers",
         "name": "Burundi",
         "orientation": "v",
         "showlegend": true,
         "type": "scatter",
         "x": [
          "Burundi"
         ],
         "xaxis": "x8",
         "y": [
          0
         ],
         "yaxis": "y8"
        },
        {
         "hovertemplate": "Country=%{x}<br>Decade=1980<br>Women (%)=%{y}<br>Population (thousands)=%{marker.size}<extra></extra>",
         "legendgroup": "Burundi",
         "marker": {
          "color": "#FECB52",
          "size": [
           4157.296
          ],
          "sizemode": "area",
          "sizeref": 3085.7029075,
          "symbol": "circle"
         },
         "mode": "markers",
         "name": "Burundi",
         "orientation": "v",
         "showlegend": false,
         "type": "scatter",
         "x": [
          "Burundi"
         ],
         "xaxis": "x4",
         "y": [
          0.09
         ],
         "yaxis": "y4"
        },
        {
         "hovertemplate": "Country=%{x}<br>Decade=1990<br>Women (%)=%{y}<br>Population (thousands)=%{marker.size}<extra></extra>",
         "legendgroup": "Burundi",
         "marker": {
          "color": "#FECB52",
          "size": [
           5438.959
          ],
          "sizemode": "area",
          "sizeref": 3085.7029075,
          "symbol": "circle"
         },
         "mode": "markers",
         "name": "Burundi",
         "orientation": "v",
         "showlegend": false,
         "type": "scatter",
         "x": [
          "Burundi"
         ],
         "xaxis": "x5",
         "y": [
          0.12
         ],
         "yaxis": "y5"
        },
        {
         "hovertemplate": "Country=%{x}<br>Decade=2000<br>Women (%)=%{y}<br>Population (thousands)=%{marker.size}<extra></extra>",
         "legendgroup": "Burundi",
         "marker": {
          "color": "#FECB52",
          "size": [
           6378.871
          ],
          "sizemode": "area",
          "sizeref": 3085.7029075,
          "symbol": "circle"
         },
         "mode": "markers",
         "name": "Burundi",
         "orientation": "v",
         "showlegend": false,
         "type": "scatter",
         "x": [
          "Burundi"
         ],
         "xaxis": "x6",
         "y": [
          0.31
         ],
         "yaxis": "y6"
        },
        {
         "hovertemplate": "Country=%{x}<br>Decade=2010<br>Women (%)=%{y}<br>Population (thousands)=%{marker.size}<extra></extra>",
         "legendgroup": "Burundi",
         "marker": {
          "color": "#FECB52",
          "size": [
           8675.606
          ],
          "sizemode": "area",
          "sizeref": 3085.7029075,
          "symbol": "circle"
         },
         "mode": "markers",
         "name": "Burundi",
         "orientation": "v",
         "showlegend": false,
         "type": "scatter",
         "x": [
          "Burundi"
         ],
         "xaxis": "x",
         "y": [
          0.32999999999999996
         ],
         "yaxis": "y"
        },
        {
         "hovertemplate": "Country=%{x}<br>Decade=1960<br>Women (%)=%{y}<br>Population (thousands)=%{marker.size}<extra></extra>",
         "legendgroup": "Monaco",
         "marker": {
          "color": "#636efa",
          "size": [
           22.461
          ],
          "sizemode": "area",
          "sizeref": 3085.7029075,
          "symbol": "circle"
         },
         "mode": "markers",
         "name": "Monaco",
         "orientation": "v",
         "showlegend": true,
         "type": "scatter",
         "x": [
          "Monaco"
         ],
         "xaxis": "x8",
         "y": [
          0.06
         ],
         "yaxis": "y8"
        },
        {
         "hovertemplate": "Country=%{x}<br>Decade=1970<br>Women (%)=%{y}<br>Population (thousands)=%{marker.size}<extra></extra>",
         "legendgroup": "Monaco",
         "marker": {
          "color": "#636efa",
          "size": [
           23.487
          ],
          "sizemode": "area",
          "sizeref": 3085.7029075,
          "symbol": "circle"
         },
         "mode": "markers",
         "name": "Monaco",
         "orientation": "v",
         "showlegend": false,
         "type": "scatter",
         "x": [
          "Monaco"
         ],
         "xaxis": "x9",
         "y": [
          0.08499999999999999
         ],
         "yaxis": "y9"
        },
        {
         "hovertemplate": "Country=%{x}<br>Decade=1980<br>Women (%)=%{y}<br>Population (thousands)=%{marker.size}<extra></extra>",
         "legendgroup": "Monaco",
         "marker": {
          "color": "#636efa",
          "size": [
           26.752
          ],
          "sizemode": "area",
          "sizeref": 3085.7029075,
          "symbol": "circle"
         },
         "mode": "markers",
         "name": "Monaco",
         "orientation": "v",
         "showlegend": false,
         "type": "scatter",
         "x": [
          "Monaco"
         ],
         "xaxis": "x4",
         "y": [
          0.11
         ],
         "yaxis": "y4"
        },
        {
         "hovertemplate": "Country=%{x}<br>Decade=1990<br>Women (%)=%{y}<br>Population (thousands)=%{marker.size}<extra></extra>",
         "legendgroup": "Monaco",
         "marker": {
          "color": "#636efa",
          "size": [
           29.433
          ],
          "sizemode": "area",
          "sizeref": 3085.7029075,
          "symbol": "circle"
         },
         "mode": "markers",
         "name": "Monaco",
         "orientation": "v",
         "showlegend": false,
         "type": "scatter",
         "x": [
          "Monaco"
         ],
         "xaxis": "x5",
         "y": [
          0.14
         ],
         "yaxis": "y5"
        },
        {
         "hovertemplate": "Country=%{x}<br>Decade=2000<br>Women (%)=%{y}<br>Population (thousands)=%{marker.size}<extra></extra>",
         "legendgroup": "Monaco",
         "marker": {
          "color": "#636efa",
          "size": [
           32.148
          ],
          "sizemode": "area",
          "sizeref": 3085.7029075,
          "symbol": "circle"
         },
         "mode": "markers",
         "name": "Monaco",
         "orientation": "v",
         "showlegend": false,
         "type": "scatter",
         "x": [
          "Monaco"
         ],
         "xaxis": "x6",
         "y": [
          0.22999999999999998
         ],
         "yaxis": "y6"
        },
        {
         "hovertemplate": "Country=%{x}<br>Decade=2010<br>Women (%)=%{y}<br>Population (thousands)=%{marker.size}<extra></extra>",
         "legendgroup": "Monaco",
         "marker": {
          "color": "#636efa",
          "size": [
           35.609
          ],
          "sizemode": "area",
          "sizeref": 3085.7029075,
          "symbol": "circle"
         },
         "mode": "markers",
         "name": "Monaco",
         "orientation": "v",
         "showlegend": false,
         "type": "scatter",
         "x": [
          "Monaco"
         ],
         "xaxis": "x",
         "y": [
          0.27
         ],
         "yaxis": "y"
        },
        {
         "hovertemplate": "Country=%{x}<br>Decade=1970<br>Women (%)=%{y}<br>Population (thousands)=%{marker.size}<extra></extra>",
         "legendgroup": "Saint Vincent and the Grenadines",
         "marker": {
          "color": "#EF553B",
          "size": [
           90.501
          ],
          "sizemode": "area",
          "sizeref": 3085.7029075,
          "symbol": "circle"
         },
         "mode": "markers",
         "name": "Saint Vincent and the Grenadines",
         "orientation": "v",
         "showlegend": true,
         "type": "scatter",
         "x": [
          "Saint Vincent and the Grenadines"
         ],
         "xaxis": "x9",
         "y": [
          0.11
         ],
         "yaxis": "y9"
        },
        {
         "hovertemplate": "Country=%{x}<br>Decade=1980<br>Women (%)=%{y}<br>Population (thousands)=%{marker.size}<extra></extra>",
         "legendgroup": "Saint Vincent and the Grenadines",
         "marker": {
          "color": "#EF553B",
          "size": [
           100.566
          ],
          "sizemode": "area",
          "sizeref": 3085.7029075,
          "symbol": "circle"
         },
         "mode": "markers",
         "name": "Saint Vincent and the Grenadines",
         "orientation": "v",
         "showlegend": false,
         "type": "scatter",
         "x": [
          "Saint Vincent and the Grenadines"
         ],
         "xaxis": "x4",
         "y": [
          0.07500000000000001
         ],
         "yaxis": "y4"
        },
        {
         "hovertemplate": "Country=%{x}<br>Decade=1990<br>Women (%)=%{y}<br>Population (thousands)=%{marker.size}<extra></extra>",
         "legendgroup": "Saint Vincent and the Grenadines",
         "marker": {
          "color": "#EF553B",
          "size": [
           107.489
          ],
          "sizemode": "area",
          "sizeref": 3085.7029075,
          "symbol": "circle"
         },
         "mode": "markers",
         "name": "Saint Vincent and the Grenadines",
         "orientation": "v",
         "showlegend": false,
         "type": "scatter",
         "x": [
          "Saint Vincent and the Grenadines"
         ],
         "xaxis": "x5",
         "y": [
          0.07500000000000001
         ],
         "yaxis": "y5"
        },
        {
         "hovertemplate": "Country=%{x}<br>Decade=2000<br>Women (%)=%{y}<br>Population (thousands)=%{marker.size}<extra></extra>",
         "legendgroup": "Saint Vincent and the Grenadines",
         "marker": {
          "color": "#EF553B",
          "size": [
           107.787
          ],
          "sizemode": "area",
          "sizeref": 3085.7029075,
          "symbol": "circle"
         },
         "mode": "markers",
         "name": "Saint Vincent and the Grenadines",
         "orientation": "v",
         "showlegend": false,
         "type": "scatter",
         "x": [
          "Saint Vincent and the Grenadines"
         ],
         "xaxis": "x6",
         "y": [
          0.20500000000000002
         ],
         "yaxis": "y6"
        },
        {
         "hovertemplate": "Country=%{x}<br>Decade=2010<br>Women (%)=%{y}<br>Population (thousands)=%{marker.size}<extra></extra>",
         "legendgroup": "Saint Vincent and the Grenadines",
         "marker": {
          "color": "#EF553B",
          "size": [
           108.26
          ],
          "sizemode": "area",
          "sizeref": 3085.7029075,
          "symbol": "circle"
         },
         "mode": "markers",
         "name": "Saint Vincent and the Grenadines",
         "orientation": "v",
         "showlegend": false,
         "type": "scatter",
         "x": [
          "Saint Vincent and the Grenadines"
         ],
         "xaxis": "x",
         "y": [
          0.135
         ],
         "yaxis": "y"
        },
        {
         "hovertemplate": "Country=%{x}<br>Decade=1970<br>Women (%)=%{y}<br>Population (thousands)=%{marker.size}<extra></extra>",
         "legendgroup": "United Arab Emirates",
         "marker": {
          "color": "#00cc96",
          "size": [
           234.512
          ],
          "sizemode": "area",
          "sizeref": 3085.7029075,
          "symbol": "circle"
         },
         "mode": "markers",
         "name": "United Arab Emirates",
         "orientation": "v",
         "showlegend": true,
         "type": "scatter",
         "x": [
          "United Arab Emirates"
         ],
         "xaxis": "x9",
         "y": [
          0
         ],
         "yaxis": "y9"
        },
        {
         "hovertemplate": "Country=%{x}<br>Decade=1980<br>Women (%)=%{y}<br>Population (thousands)=%{marker.size}<extra></extra>",
         "legendgroup": "United Arab Emirates",
         "marker": {
          "color": "#00cc96",
          "size": [
           1019.507
          ],
          "sizemode": "area",
          "sizeref": 3085.7029075,
          "symbol": "circle"
         },
         "mode": "markers",
         "name": "United Arab Emirates",
         "orientation": "v",
         "showlegend": false,
         "type": "scatter",
         "x": [
          "United Arab Emirates"
         ],
         "xaxis": "x4",
         "y": [
          0
         ],
         "yaxis": "y4"
        },
        {
         "hovertemplate": "Country=%{x}<br>Decade=1990<br>Women (%)=%{y}<br>Population (thousands)=%{marker.size}<extra></extra>",
         "legendgroup": "United Arab Emirates",
         "marker": {
          "color": "#00cc96",
          "size": [
           1828.437
          ],
          "sizemode": "area",
          "sizeref": 3085.7029075,
          "symbol": "circle"
         },
         "mode": "markers",
         "name": "United Arab Emirates",
         "orientation": "v",
         "showlegend": false,
         "type": "scatter",
         "x": [
          "United Arab Emirates"
         ],
         "xaxis": "x5",
         "y": [
          0
         ],
         "yaxis": "y5"
        },
        {
         "hovertemplate": "Country=%{x}<br>Decade=2000<br>Women (%)=%{y}<br>Population (thousands)=%{marker.size}<extra></extra>",
         "legendgroup": "United Arab Emirates",
         "marker": {
          "color": "#00cc96",
          "size": [
           3134.067
          ],
          "sizemode": "area",
          "sizeref": 3085.7029075,
          "symbol": "circle"
         },
         "mode": "markers",
         "name": "United Arab Emirates",
         "orientation": "v",
         "showlegend": false,
         "type": "scatter",
         "x": [
          "United Arab Emirates"
         ],
         "xaxis": "x6",
         "y": [
          0.025
         ],
         "yaxis": "y6"
        },
        {
         "hovertemplate": "Country=%{x}<br>Decade=2010<br>Women (%)=%{y}<br>Population (thousands)=%{marker.size}<extra></extra>",
         "legendgroup": "United Arab Emirates",
         "marker": {
          "color": "#00cc96",
          "size": [
           8549.998
          ],
          "sizemode": "area",
          "sizeref": 3085.7029075,
          "symbol": "circle"
         },
         "mode": "markers",
         "name": "United Arab Emirates",
         "orientation": "v",
         "showlegend": false,
         "type": "scatter",
         "x": [
          "United Arab Emirates"
         ],
         "xaxis": "x",
         "y": [
          0.15
         ],
         "yaxis": "y"
        },
        {
         "hovertemplate": "Country=%{x}<br>Decade=1970<br>Women (%)=%{y}<br>Population (thousands)=%{marker.size}<extra></extra>",
         "legendgroup": "Guinea-Bissau",
         "marker": {
          "color": "#ab63fa",
          "size": [
           704.937
          ],
          "sizemode": "area",
          "sizeref": 3085.7029075,
          "symbol": "circle"
         },
         "mode": "markers",
         "name": "Guinea-Bissau",
         "orientation": "v",
         "showlegend": true,
         "type": "scatter",
         "x": [
          "Guinea-Bissau"
         ],
         "xaxis": "x9",
         "y": [
          0.10500000000000001
         ],
         "yaxis": "y9"
        },
        {
         "hovertemplate": "Country=%{x}<br>Decade=1980<br>Women (%)=%{y}<br>Population (thousands)=%{marker.size}<extra></extra>",
         "legendgroup": "Guinea-Bissau",
         "marker": {
          "color": "#ab63fa",
          "size": [
           781.678
          ],
          "sizemode": "area",
          "sizeref": 3085.7029075,
          "symbol": "circle"
         },
         "mode": "markers",
         "name": "Guinea-Bissau",
         "orientation": "v",
         "showlegend": false,
         "type": "scatter",
         "x": [
          "Guinea-Bissau"
         ],
         "xaxis": "x4",
         "y": [
          0.175
         ],
         "yaxis": "y4"
        },
        {
         "hovertemplate": "Country=%{x}<br>Decade=1990<br>Women (%)=%{y}<br>Population (thousands)=%{marker.size}<extra></extra>",
         "legendgroup": "Guinea-Bissau",
         "marker": {
          "color": "#ab63fa",
          "size": [
           975.265
          ],
          "sizemode": "area",
          "sizeref": 3085.7029075,
          "symbol": "circle"
         },
         "mode": "markers",
         "name": "Guinea-Bissau",
         "orientation": "v",
         "showlegend": false,
         "type": "scatter",
         "x": [
          "Guinea-Bissau"
         ],
         "xaxis": "x5",
         "y": [
          0.09
         ],
         "yaxis": "y5"
        },
        {
         "hovertemplate": "Country=%{x}<br>Decade=2000<br>Women (%)=%{y}<br>Population (thousands)=%{marker.size}<extra></extra>",
         "legendgroup": "Guinea-Bissau",
         "marker": {
          "color": "#ab63fa",
          "size": [
           1201.305
          ],
          "sizemode": "area",
          "sizeref": 3085.7029075,
          "symbol": "circle"
         },
         "mode": "markers",
         "name": "Guinea-Bissau",
         "orientation": "v",
         "showlegend": false,
         "type": "scatter",
         "x": [
          "Guinea-Bissau"
         ],
         "xaxis": "x6",
         "y": [
          0.12000000000000001
         ],
         "yaxis": "y6"
        },
        {
         "hovertemplate": "Country=%{x}<br>Decade=2010<br>Women (%)=%{y}<br>Population (thousands)=%{marker.size}<extra></extra>",
         "legendgroup": "Guinea-Bissau",
         "marker": {
          "color": "#ab63fa",
          "size": [
           1522.603
          ],
          "sizemode": "area",
          "sizeref": 3085.7029075,
          "symbol": "circle"
         },
         "mode": "markers",
         "name": "Guinea-Bissau",
         "orientation": "v",
         "showlegend": false,
         "type": "scatter",
         "x": [
          "Guinea-Bissau"
         ],
         "xaxis": "x",
         "y": [
          0.14
         ],
         "yaxis": "y"
        },
        {
         "hovertemplate": "Country=%{x}<br>Decade=1970<br>Women (%)=%{y}<br>Population (thousands)=%{marker.size}<extra></extra>",
         "legendgroup": "Saint Lucia",
         "marker": {
          "color": "#FFA15A",
          "size": [
           104.016
          ],
          "sizemode": "area",
          "sizeref": 3085.7029075,
          "symbol": "circle"
         },
         "mode": "markers",
         "name": "Saint Lucia",
         "orientation": "v",
         "showlegend": true,
         "type": "scatter",
         "x": [
          "Saint Lucia"
         ],
         "xaxis": "x9",
         "y": [
          0
         ],
         "yaxis": "y9"
        },
        {
         "hovertemplate": "Country=%{x}<br>Decade=1980<br>Women (%)=%{y}<br>Population (thousands)=%{marker.size}<extra></extra>",
         "legendgroup": "Saint Lucia",
         "marker": {
          "color": "#FFA15A",
          "size": [
           117.828
          ],
          "sizemode": "area",
          "sizeref": 3085.7029075,
          "symbol": "circle"
         },
         "mode": "markers",
         "name": "Saint Lucia",
         "orientation": "v",
         "showlegend": false,
         "type": "scatter",
         "x": [
          "Saint Lucia"
         ],
         "xaxis": "x4",
         "y": [
          0
         ],
         "yaxis": "y4"
        },
        {
         "hovertemplate": "Country=%{x}<br>Decade=1990<br>Women (%)=%{y}<br>Population (thousands)=%{marker.size}<extra></extra>",
         "legendgroup": "Saint Lucia",
         "marker": {
          "color": "#FFA15A",
          "size": [
           138.019
          ],
          "sizemode": "area",
          "sizeref": 3085.7029075,
          "symbol": "circle"
         },
         "mode": "markers",
         "name": "Saint Lucia",
         "orientation": "v",
         "showlegend": false,
         "type": "scatter",
         "x": [
          "Saint Lucia"
         ],
         "xaxis": "x5",
         "y": [
          0.04
         ],
         "yaxis": "y5"
        },
        {
         "hovertemplate": "Country=%{x}<br>Decade=2000<br>Women (%)=%{y}<br>Population (thousands)=%{marker.size}<extra></extra>",
         "legendgroup": "Saint Lucia",
         "marker": {
          "color": "#FFA15A",
          "size": [
           156.737
          ],
          "sizemode": "area",
          "sizeref": 3085.7029075,
          "symbol": "circle"
         },
         "mode": "markers",
         "name": "Saint Lucia",
         "orientation": "v",
         "showlegend": false,
         "type": "scatter",
         "x": [
          "Saint Lucia"
         ],
         "xaxis": "x6",
         "y": [
          0.056666666666666664
         ],
         "yaxis": "y6"
        },
        {
         "hovertemplate": "Country=%{x}<br>Decade=2010<br>Women (%)=%{y}<br>Population (thousands)=%{marker.size}<extra></extra>",
         "legendgroup": "Saint Lucia",
         "marker": {
          "color": "#FFA15A",
          "size": [
           174.092
          ],
          "sizemode": "area",
          "sizeref": 3085.7029075,
          "symbol": "circle"
         },
         "mode": "markers",
         "name": "Saint Lucia",
         "orientation": "v",
         "showlegend": false,
         "type": "scatter",
         "x": [
          "Saint Lucia"
         ],
         "xaxis": "x",
         "y": [
          0.15333333333333335
         ],
         "yaxis": "y"
        },
        {
         "hovertemplate": "Country=%{x}<br>Decade=1970<br>Women (%)=%{y}<br>Population (thousands)=%{marker.size}<extra></extra>",
         "legendgroup": "Suriname",
         "marker": {
          "color": "#19d3f3",
          "size": [
           367.926
          ],
          "sizemode": "area",
          "sizeref": 3085.7029075,
          "symbol": "circle"
         },
         "mode": "markers",
         "name": "Suriname",
         "orientation": "v",
         "showlegend": true,
         "type": "scatter",
         "x": [
          "Suriname"
         ],
         "xaxis": "x9",
         "y": [
          0.05
         ],
         "yaxis": "y9"
        },
        {
         "hovertemplate": "Country=%{x}<br>Decade=1980<br>Women (%)=%{y}<br>Population (thousands)=%{marker.size}<extra></extra>",
         "legendgroup": "Suriname",
         "marker": {
          "color": "#19d3f3",
          "size": [
           359.531
          ],
          "sizemode": "area",
          "sizeref": 3085.7029075,
          "symbol": "circle"
         },
         "mode": "markers",
         "name": "Suriname",
         "orientation": "v",
         "showlegend": false,
         "type": "scatter",
         "x": [
          "Suriname"
         ],
         "xaxis": "x4",
         "y": [
          0.10500000000000001
         ],
         "yaxis": "y4"
        },
        {
         "hovertemplate": "Country=%{x}<br>Decade=1990<br>Women (%)=%{y}<br>Population (thousands)=%{marker.size}<extra></extra>",
         "legendgroup": "Suriname",
         "marker": {
          "color": "#19d3f3",
          "size": [
           405.169
          ],
          "sizemode": "area",
          "sizeref": 3085.7029075,
          "symbol": "circle"
         },
         "mode": "markers",
         "name": "Suriname",
         "orientation": "v",
         "showlegend": false,
         "type": "scatter",
         "x": [
          "Suriname"
         ],
         "xaxis": "x5",
         "y": [
          0.11
         ],
         "yaxis": "y5"
        },
        {
         "hovertemplate": "Country=%{x}<br>Decade=2000<br>Women (%)=%{y}<br>Population (thousands)=%{marker.size}<extra></extra>",
         "legendgroup": "Suriname",
         "marker": {
          "color": "#19d3f3",
          "size": [
           470.944
          ],
          "sizemode": "area",
          "sizeref": 3085.7029075,
          "symbol": "circle"
         },
         "mode": "markers",
         "name": "Suriname",
         "orientation": "v",
         "showlegend": false,
         "type": "scatter",
         "x": [
          "Suriname"
         ],
         "xaxis": "x6",
         "y": [
          0.215
         ],
         "yaxis": "y6"
        },
        {
         "hovertemplate": "Country=%{x}<br>Decade=2010<br>Women (%)=%{y}<br>Population (thousands)=%{marker.size}<extra></extra>",
         "legendgroup": "Suriname",
         "marker": {
          "color": "#19d3f3",
          "size": [
           529.126
          ],
          "sizemode": "area",
          "sizeref": 3085.7029075,
          "symbol": "circle"
         },
         "mode": "markers",
         "name": "Suriname",
         "orientation": "v",
         "showlegend": false,
         "type": "scatter",
         "x": [
          "Suriname"
         ],
         "xaxis": "x",
         "y": [
          0.175
         ],
         "yaxis": "y"
        },
        {
         "hovertemplate": "Country=%{x}<br>Decade=1970<br>Women (%)=%{y}<br>Population (thousands)=%{marker.size}<extra></extra>",
         "legendgroup": "Sierra Leone",
         "marker": {
          "color": "#FF6692",
          "size": [
           2744.89
          ],
          "sizemode": "area",
          "sizeref": 3085.7029075,
          "symbol": "circle"
         },
         "mode": "markers",
         "name": "Sierra Leone",
         "orientation": "v",
         "showlegend": true,
         "type": "scatter",
         "x": [
          "Sierra Leone"
         ],
         "xaxis": "x9",
         "y": [
          0.005
         ],
         "yaxis": "y9"
        },
        {
         "hovertemplate": "Country=%{x}<br>Decade=1980<br>Women (%)=%{y}<br>Population (thousands)=%{marker.size}<extra></extra>",
         "legendgroup": "Sierra Leone",
         "marker": {
          "color": "#FF6692",
          "size": [
           3388.494
          ],
          "sizemode": "area",
          "sizeref": 3085.7029075,
          "symbol": "circle"
         },
         "mode": "markers",
         "name": "Sierra Leone",
         "orientation": "v",
         "showlegend": false,
         "type": "scatter",
         "x": [
          "Sierra Leone"
         ],
         "xaxis": "x4",
         "y": [
          0.01
         ],
         "yaxis": "y4"
        },
        {
         "hovertemplate": "Country=%{x}<br>Decade=1990<br>Women (%)=%{y}<br>Population (thousands)=%{marker.size}<extra></extra>",
         "legendgroup": "Sierra Leone",
         "marker": {
          "color": "#FF6692",
          "size": [
           4319.763
          ],
          "sizemode": "area",
          "sizeref": 3085.7029075,
          "symbol": "circle"
         },
         "mode": "markers",
         "name": "Sierra Leone",
         "orientation": "v",
         "showlegend": false,
         "type": "scatter",
         "x": [
          "Sierra Leone"
         ],
         "xaxis": "x5",
         "y": [
          0.06
         ],
         "yaxis": "y5"
        },
        {
         "hovertemplate": "Country=%{x}<br>Decade=2000<br>Women (%)=%{y}<br>Population (thousands)=%{marker.size}<extra></extra>",
         "legendgroup": "Sierra Leone",
         "marker": {
          "color": "#FF6692",
          "size": [
           4584.57
          ],
          "sizemode": "area",
          "sizeref": 3085.7029075,
          "symbol": "circle"
         },
         "mode": "markers",
         "name": "Sierra Leone",
         "orientation": "v",
         "showlegend": false,
         "type": "scatter",
         "x": [
          "Sierra Leone"
         ],
         "xaxis": "x6",
         "y": [
          0.14
         ],
         "yaxis": "y6"
        },
        {
         "hovertemplate": "Country=%{x}<br>Decade=2010<br>Women (%)=%{y}<br>Population (thousands)=%{marker.size}<extra></extra>",
         "legendgroup": "Sierra Leone",
         "marker": {
          "color": "#FF6692",
          "size": [
           6415.636
          ],
          "sizemode": "area",
          "sizeref": 3085.7029075,
          "symbol": "circle"
         },
         "mode": "markers",
         "name": "Sierra Leone",
         "orientation": "v",
         "showlegend": false,
         "type": "scatter",
         "x": [
          "Sierra Leone"
         ],
         "xaxis": "x",
         "y": [
          0.12
         ],
         "yaxis": "y"
        },
        {
         "hovertemplate": "Country=%{x}<br>Decade=1970<br>Women (%)=%{y}<br>Population (thousands)=%{marker.size}<extra></extra>",
         "legendgroup": "Grenada",
         "marker": {
          "color": "#B6E880",
          "size": [
           94.476
          ],
          "sizemode": "area",
          "sizeref": 3085.7029075,
          "symbol": "circle"
         },
         "mode": "markers",
         "name": "Grenada",
         "orientation": "v",
         "showlegend": true,
         "type": "scatter",
         "x": [
          "Grenada"
         ],
         "xaxis": "x9",
         "y": [
          0.2
         ],
         "yaxis": "y9"
        },
        {
         "hovertemplate": "Country=%{x}<br>Decade=1980<br>Women (%)=%{y}<br>Population (thousands)=%{marker.size}<extra></extra>",
         "legendgroup": "Grenada",
         "marker": {
          "color": "#B6E880",
          "size": [
           89.032
          ],
          "sizemode": "area",
          "sizeref": 3085.7029075,
          "symbol": "circle"
         },
         "mode": "markers",
         "name": "Grenada",
         "orientation": "v",
         "showlegend": false,
         "type": "scatter",
         "x": [
          "Grenada"
         ],
         "xaxis": "x4",
         "y": [
          0.12
         ],
         "yaxis": "y4"
        },
        {
         "hovertemplate": "Country=%{x}<br>Decade=1990<br>Women (%)=%{y}<br>Population (thousands)=%{marker.size}<extra></extra>",
         "legendgroup": "Grenada",
         "marker": {
          "color": "#B6E880",
          "size": [
           96.328
          ],
          "sizemode": "area",
          "sizeref": 3085.7029075,
          "symbol": "circle"
         },
         "mode": "markers",
         "name": "Grenada",
         "orientation": "v",
         "showlegend": false,
         "type": "scatter",
         "x": [
          "Grenada"
         ],
         "xaxis": "x5",
         "y": [
          0.20000000000000004
         ],
         "yaxis": "y5"
        },
        {
         "hovertemplate": "Country=%{x}<br>Decade=2000<br>Women (%)=%{y}<br>Population (thousands)=%{marker.size}<extra></extra>",
         "legendgroup": "Grenada",
         "marker": {
          "color": "#B6E880",
          "size": [
           102.837
          ],
          "sizemode": "area",
          "sizeref": 3085.7029075,
          "symbol": "circle"
         },
         "mode": "markers",
         "name": "Grenada",
         "orientation": "v",
         "showlegend": false,
         "type": "scatter",
         "x": [
          "Grenada"
         ],
         "xaxis": "x6",
         "y": [
          0.2
         ],
         "yaxis": "y6"
        },
        {
         "hovertemplate": "Country=%{x}<br>Decade=2010<br>Women (%)=%{y}<br>Population (thousands)=%{marker.size}<extra></extra>",
         "legendgroup": "Grenada",
         "marker": {
          "color": "#B6E880",
          "size": [
           106.227
          ],
          "sizemode": "area",
          "sizeref": 3085.7029075,
          "symbol": "circle"
         },
         "mode": "markers",
         "name": "Grenada",
         "orientation": "v",
         "showlegend": false,
         "type": "scatter",
         "x": [
          "Grenada"
         ],
         "xaxis": "x",
         "y": [
          0.47
         ],
         "yaxis": "y"
        },
        {
         "hovertemplate": "Country=%{x}<br>Decade=1970<br>Women (%)=%{y}<br>Population (thousands)=%{marker.size}<extra></extra>",
         "legendgroup": "Seychelles",
         "marker": {
          "color": "#FF97FF",
          "size": [
           52.371
          ],
          "sizemode": "area",
          "sizeref": 3085.7029075,
          "symbol": "circle"
         },
         "mode": "markers",
         "name": "Seychelles",
         "orientation": "v",
         "showlegend": true,
         "type": "scatter",
         "x": [
          "Seychelles"
         ],
         "xaxis": "x9",
         "y": [
          0.16
         ],
         "yaxis": "y9"
        },
        {
         "hovertemplate": "Country=%{x}<br>Decade=1980<br>Women (%)=%{y}<br>Population (thousands)=%{marker.size}<extra></extra>",
         "legendgroup": "Seychelles",
         "marker": {
          "color": "#FF97FF",
          "size": [
           66.237
          ],
          "sizemode": "area",
          "sizeref": 3085.7029075,
          "symbol": "circle"
         },
         "mode": "markers",
         "name": "Seychelles",
         "orientation": "v",
         "showlegend": false,
         "type": "scatter",
         "x": [
          "Seychelles"
         ],
         "xaxis": "x4",
         "y": [
          0.2
         ],
         "yaxis": "y4"
        },
        {
         "hovertemplate": "Country=%{x}<br>Decade=1990<br>Women (%)=%{y}<br>Population (thousands)=%{marker.size}<extra></extra>",
         "legendgroup": "Seychelles",
         "marker": {
          "color": "#FF97FF",
          "size": [
           70.572
          ],
          "sizemode": "area",
          "sizeref": 3085.7029075,
          "symbol": "circle"
         },
         "mode": "markers",
         "name": "Seychelles",
         "orientation": "v",
         "showlegend": false,
         "type": "scatter",
         "x": [
          "Seychelles"
         ],
         "xaxis": "x5",
         "y": [
          0.3233333333333333
         ],
         "yaxis": "y5"
        },
        {
         "hovertemplate": "Country=%{x}<br>Decade=2000<br>Women (%)=%{y}<br>Population (thousands)=%{marker.size}<extra></extra>",
         "legendgroup": "Seychelles",
         "marker": {
          "color": "#FF97FF",
          "size": [
           80.998
          ],
          "sizemode": "area",
          "sizeref": 3085.7029075,
          "symbol": "circle"
         },
         "mode": "markers",
         "name": "Seychelles",
         "orientation": "v",
         "showlegend": false,
         "type": "scatter",
         "x": [
          "Seychelles"
         ],
         "xaxis": "x6",
         "y": [
          0.265
         ],
         "yaxis": "y6"
        },
        {
         "hovertemplate": "Country=%{x}<br>Decade=2010<br>Women (%)=%{y}<br>Population (thousands)=%{marker.size}<extra></extra>",
         "legendgroup": "Seychelles",
         "marker": {
          "color": "#FF97FF",
          "size": [
           91.273
          ],
          "sizemode": "area",
          "sizeref": 3085.7029075,
          "symbol": "circle"
         },
         "mode": "markers",
         "name": "Seychelles",
         "orientation": "v",
         "showlegend": false,
         "type": "scatter",
         "x": [
          "Seychelles"
         ],
         "xaxis": "x",
         "y": [
          0.4425
         ],
         "yaxis": "y"
        },
        {
         "hovertemplate": "Country=%{x}<br>Decade=1970<br>Women (%)=%{y}<br>Population (thousands)=%{marker.size}<extra></extra>",
         "legendgroup": "Sao Tome and Principe",
         "marker": {
          "color": "#FECB52",
          "size": [
           74.57
          ],
          "sizemode": "area",
          "sizeref": 3085.7029075,
          "symbol": "circle"
         },
         "mode": "markers",
         "name": "Sao Tome and Principe",
         "orientation": "v",
         "showlegend": true,
         "type": "scatter",
         "x": [
          "Sao Tome and Principe"
         ],
         "xaxis": "x9",
         "y": [
          0.18
         ],
         "yaxis": "y9"
        },
        {
         "hovertemplate": "Country=%{x}<br>Decade=1980<br>Women (%)=%{y}<br>Population (thousands)=%{marker.size}<extra></extra>",
         "legendgroup": "Sao Tome and Principe",
         "marker": {
          "color": "#FECB52",
          "size": [
           95.788
          ],
          "sizemode": "area",
          "sizeref": 3085.7029075,
          "symbol": "circle"
         },
         "mode": "markers",
         "name": "Sao Tome and Principe",
         "orientation": "v",
         "showlegend": false,
         "type": "scatter",
         "x": [
          "Sao Tome and Principe"
         ],
         "xaxis": "x4",
         "y": [
          0.08499999999999999
         ],
         "yaxis": "y4"
        },
        {
         "hovertemplate": "Country=%{x}<br>Decade=1990<br>Women (%)=%{y}<br>Population (thousands)=%{marker.size}<extra></extra>",
         "legendgroup": "Sao Tome and Principe",
         "marker": {
          "color": "#FECB52",
          "size": [
           119.211
          ],
          "sizemode": "area",
          "sizeref": 3085.7029075,
          "symbol": "circle"
         },
         "mode": "markers",
         "name": "Sao Tome and Principe",
         "orientation": "v",
         "showlegend": false,
         "type": "scatter",
         "x": [
          "Sao Tome and Principe"
         ],
         "xaxis": "x5",
         "y": [
          0.09000000000000001
         ],
         "yaxis": "y5"
        },
        {
         "hovertemplate": "Country=%{x}<br>Decade=2000<br>Women (%)=%{y}<br>Population (thousands)=%{marker.size}<extra></extra>",
         "legendgroup": "Sao Tome and Principe",
         "marker": {
          "color": "#FECB52",
          "size": [
           142.264
          ],
          "sizemode": "area",
          "sizeref": 3085.7029075,
          "symbol": "circle"
         },
         "mode": "markers",
         "name": "Sao Tome and Principe",
         "orientation": "v",
         "showlegend": false,
         "type": "scatter",
         "x": [
          "Sao Tome and Principe"
         ],
         "xaxis": "x6",
         "y": [
          0.08
         ],
         "yaxis": "y6"
        },
        {
         "hovertemplate": "Country=%{x}<br>Decade=2010<br>Women (%)=%{y}<br>Population (thousands)=%{marker.size}<extra></extra>",
         "legendgroup": "Sao Tome and Principe",
         "marker": {
          "color": "#FECB52",
          "size": [
           180.372
          ],
          "sizemode": "area",
          "sizeref": 3085.7029075,
          "symbol": "circle"
         },
         "mode": "markers",
         "name": "Sao Tome and Principe",
         "orientation": "v",
         "showlegend": false,
         "type": "scatter",
         "x": [
          "Sao Tome and Principe"
         ],
         "xaxis": "x",
         "y": [
          0.17
         ],
         "yaxis": "y"
        },
        {
         "hovertemplate": "Country=%{x}<br>Decade=1970<br>Women (%)=%{y}<br>Population (thousands)=%{marker.size}<extra></extra>",
         "legendgroup": "Switzerland",
         "marker": {
          "color": "#636efa",
          "size": [
           6150.848
          ],
          "sizemode": "area",
          "sizeref": 3085.7029075,
          "symbol": "circle"
         },
         "mode": "markers",
         "name": "Switzerland",
         "orientation": "v",
         "showlegend": true,
         "type": "scatter",
         "x": [
          "Switzerland"
         ],
         "xaxis": "x9",
         "y": [
          0.07666666666666667
         ],
         "yaxis": "y9"
        },
        {
         "hovertemplate": "Country=%{x}<br>Decade=1980<br>Women (%)=%{y}<br>Population (thousands)=%{marker.size}<extra></extra>",
         "legendgroup": "Switzerland",
         "marker": {
          "color": "#636efa",
          "size": [
           6283.833
          ],
          "sizemode": "area",
          "sizeref": 3085.7029075,
          "symbol": "circle"
         },
         "mode": "markers",
         "name": "Switzerland",
         "orientation": "v",
         "showlegend": false,
         "type": "scatter",
         "x": [
          "Switzerland"
         ],
         "xaxis": "x4",
         "y": [
          0.125
         ],
         "yaxis": "y4"
        },
        {
         "hovertemplate": "Country=%{x}<br>Decade=1990<br>Women (%)=%{y}<br>Population (thousands)=%{marker.size}<extra></extra>",
         "legendgroup": "Switzerland",
         "marker": {
          "color": "#636efa",
          "size": [
           6652.873
          ],
          "sizemode": "area",
          "sizeref": 3085.7029075,
          "symbol": "circle"
         },
         "mode": "markers",
         "name": "Switzerland",
         "orientation": "v",
         "showlegend": false,
         "type": "scatter",
         "x": [
          "Switzerland"
         ],
         "xaxis": "x5",
         "y": [
          0.20333333333333334
         ],
         "yaxis": "y5"
        },
        {
         "hovertemplate": "Country=%{x}<br>Decade=2000<br>Women (%)=%{y}<br>Population (thousands)=%{marker.size}<extra></extra>",
         "legendgroup": "Switzerland",
         "marker": {
          "color": "#636efa",
          "size": [
           7143.764
          ],
          "sizemode": "area",
          "sizeref": 3085.7029075,
          "symbol": "circle"
         },
         "mode": "markers",
         "name": "Switzerland",
         "orientation": "v",
         "showlegend": false,
         "type": "scatter",
         "x": [
          "Switzerland"
         ],
         "xaxis": "x6",
         "y": [
          0.275
         ],
         "yaxis": "y6"
        },
        {
         "hovertemplate": "Country=%{x}<br>Decade=2010<br>Women (%)=%{y}<br>Population (thousands)=%{marker.size}<extra></extra>",
         "legendgroup": "Switzerland",
         "marker": {
          "color": "#636efa",
          "size": [
           7808.674
          ],
          "sizemode": "area",
          "sizeref": 3085.7029075,
          "symbol": "circle"
         },
         "mode": "markers",
         "name": "Switzerland",
         "orientation": "v",
         "showlegend": false,
         "type": "scatter",
         "x": [
          "Switzerland"
         ],
         "xaxis": "x",
         "y": [
          0.31
         ],
         "yaxis": "y"
        },
        {
         "hovertemplate": "Country=%{x}<br>Decade=1970<br>Women (%)=%{y}<br>Population (thousands)=%{marker.size}<extra></extra>",
         "legendgroup": "Malawi",
         "marker": {
          "color": "#EF553B",
          "size": [
           4703.783
          ],
          "sizemode": "area",
          "sizeref": 3085.7029075,
          "symbol": "circle"
         },
         "mode": "markers",
         "name": "Malawi",
         "orientation": "v",
         "showlegend": true,
         "type": "scatter",
         "x": [
          "Malawi"
         ],
         "xaxis": "x9",
         "y": [
          0.07666666666666667
         ],
         "yaxis": "y9"
        },
        {
         "hovertemplate": "Country=%{x}<br>Decade=1980<br>Women (%)=%{y}<br>Population (thousands)=%{marker.size}<extra></extra>",
         "legendgroup": "Malawi",
         "marker": {
          "color": "#EF553B",
          "size": [
           6250.434
          ],
          "sizemode": "area",
          "sizeref": 3085.7029075,
          "symbol": "circle"
         },
         "mode": "markers",
         "name": "Malawi",
         "orientation": "v",
         "showlegend": false,
         "type": "scatter",
         "x": [
          "Malawi"
         ],
         "xaxis": "x4",
         "y": [
          0.05
         ],
         "yaxis": "y4"
        },
        {
         "hovertemplate": "Country=%{x}<br>Decade=1990<br>Women (%)=%{y}<br>Population (thousands)=%{marker.size}<extra></extra>",
         "legendgroup": "Malawi",
         "marker": {
          "color": "#EF553B",
          "size": [
           9404.499
          ],
          "sizemode": "area",
          "sizeref": 3085.7029075,
          "symbol": "circle"
         },
         "mode": "markers",
         "name": "Malawi",
         "orientation": "v",
         "showlegend": false,
         "type": "scatter",
         "x": [
          "Malawi"
         ],
         "xaxis": "x5",
         "y": [
          0.08666666666666667
         ],
         "yaxis": "y5"
        },
        {
         "hovertemplate": "Country=%{x}<br>Decade=2000<br>Women (%)=%{y}<br>Population (thousands)=%{marker.size}<extra></extra>",
         "legendgroup": "Malawi",
         "marker": {
          "color": "#EF553B",
          "size": [
           11148.751
          ],
          "sizemode": "area",
          "sizeref": 3085.7029075,
          "symbol": "circle"
         },
         "mode": "markers",
         "name": "Malawi",
         "orientation": "v",
         "showlegend": false,
         "type": "scatter",
         "x": [
          "Malawi"
         ],
         "xaxis": "x6",
         "y": [
          0.18
         ],
         "yaxis": "y6"
        },
        {
         "hovertemplate": "Country=%{x}<br>Decade=2010<br>Women (%)=%{y}<br>Population (thousands)=%{marker.size}<extra></extra>",
         "legendgroup": "Malawi",
         "marker": {
          "color": "#EF553B",
          "size": [
           14539.609
          ],
          "sizemode": "area",
          "sizeref": 3085.7029075,
          "symbol": "circle"
         },
         "mode": "markers",
         "name": "Malawi",
         "orientation": "v",
         "showlegend": false,
         "type": "scatter",
         "x": [
          "Malawi"
         ],
         "xaxis": "x",
         "y": [
          0.17
         ],
         "yaxis": "y"
        },
        {
         "hovertemplate": "Country=%{x}<br>Decade=1970<br>Women (%)=%{y}<br>Population (thousands)=%{marker.size}<extra></extra>",
         "legendgroup": "Maldives",
         "marker": {
          "color": "#00cc96",
          "size": [
           115.688
          ],
          "sizemode": "area",
          "sizeref": 3085.7029075,
          "symbol": "circle"
         },
         "mode": "markers",
         "name": "Maldives",
         "orientation": "v",
         "showlegend": true,
         "type": "scatter",
         "x": [
          "Maldives"
         ],
         "xaxis": "x9",
         "y": [
          0.04
         ],
         "yaxis": "y9"
        },
        {
         "hovertemplate": "Country=%{x}<br>Decade=1980<br>Women (%)=%{y}<br>Population (thousands)=%{marker.size}<extra></extra>",
         "legendgroup": "Maldives",
         "marker": {
          "color": "#00cc96",
          "size": [
           158.271
          ],
          "sizemode": "area",
          "sizeref": 3085.7029075,
          "symbol": "circle"
         },
         "mode": "markers",
         "name": "Maldives",
         "orientation": "v",
         "showlegend": false,
         "type": "scatter",
         "x": [
          "Maldives"
         ],
         "xaxis": "x4",
         "y": [
          0.04
         ],
         "yaxis": "y4"
        },
        {
         "hovertemplate": "Country=%{x}<br>Decade=1990<br>Women (%)=%{y}<br>Population (thousands)=%{marker.size}<extra></extra>",
         "legendgroup": "Maldives",
         "marker": {
          "color": "#00cc96",
          "size": [
           223.159
          ],
          "sizemode": "area",
          "sizeref": 3085.7029075,
          "symbol": "circle"
         },
         "mode": "markers",
         "name": "Maldives",
         "orientation": "v",
         "showlegend": false,
         "type": "scatter",
         "x": [
          "Maldives"
         ],
         "xaxis": "x5",
         "y": [
          0.06
         ],
         "yaxis": "y5"
        },
        {
         "hovertemplate": "Country=%{x}<br>Decade=2000<br>Women (%)=%{y}<br>Population (thousands)=%{marker.size}<extra></extra>",
         "legendgroup": "Maldives",
         "marker": {
          "color": "#00cc96",
          "size": [
           279.396
          ],
          "sizemode": "area",
          "sizeref": 3085.7029075,
          "symbol": "circle"
         },
         "mode": "markers",
         "name": "Maldives",
         "orientation": "v",
         "showlegend": false,
         "type": "scatter",
         "x": [
          "Maldives"
         ],
         "xaxis": "x6",
         "y": [
          0.09
         ],
         "yaxis": "y6"
        },
        {
         "hovertemplate": "Country=%{x}<br>Decade=2010<br>Women (%)=%{y}<br>Population (thousands)=%{marker.size}<extra></extra>",
         "legendgroup": "Maldives",
         "marker": {
          "color": "#00cc96",
          "size": [
           365.73
          ],
          "sizemode": "area",
          "sizeref": 3085.7029075,
          "symbol": "circle"
         },
         "mode": "markers",
         "name": "Maldives",
         "orientation": "v",
         "showlegend": false,
         "type": "scatter",
         "x": [
          "Maldives"
         ],
         "xaxis": "x",
         "y": [
          0.06
         ],
         "yaxis": "y"
        },
        {
         "hovertemplate": "Country=%{x}<br>Decade=1970<br>Women (%)=%{y}<br>Population (thousands)=%{marker.size}<extra></extra>",
         "legendgroup": "Myanmar",
         "marker": {
          "color": "#ab63fa",
          "size": [
           27269.063
          ],
          "sizemode": "area",
          "sizeref": 3085.7029075,
          "symbol": "circle"
         },
         "mode": "markers",
         "name": "Myanmar",
         "orientation": "v",
         "showlegend": true,
         "type": "scatter",
         "x": [
          "Myanmar"
         ],
         "xaxis": "x9",
         "y": [
          0.025
         ],
         "yaxis": "y9"
        },
        {
         "hovertemplate": "Country=%{x}<br>Decade=1980<br>Women (%)=%{y}<br>Population (thousands)=%{marker.size}<extra></extra>",
         "legendgroup": "Myanmar",
         "marker": {
          "color": "#ab63fa",
          "size": [
           34224.316
          ],
          "sizemode": "area",
          "sizeref": 3085.7029075,
          "symbol": "circle"
         },
         "mode": "markers",
         "name": "Myanmar",
         "orientation": "v",
         "showlegend": false,
         "type": "scatter",
         "x": [
          "Myanmar"
         ],
         "xaxis": "x4",
         "y": [
          0.03
         ],
         "yaxis": "y4"
        },
        {
         "hovertemplate": "Country=%{x}<br>Decade=2010<br>Women (%)=%{y}<br>Population (thousands)=%{marker.size}<extra></extra>",
         "legendgroup": "Myanmar",
         "marker": {
          "color": "#ab63fa",
          "size": [
           50600.827
          ],
          "sizemode": "area",
          "sizeref": 3085.7029075,
          "symbol": "circle"
         },
         "mode": "markers",
         "name": "Myanmar",
         "orientation": "v",
         "showlegend": false,
         "type": "scatter",
         "x": [
          "Myanmar"
         ],
         "xaxis": "x",
         "y": [
          0.085
         ],
         "yaxis": "y"
        },
        {
         "hovertemplate": "Country=%{x}<br>Decade=1970<br>Women (%)=%{y}<br>Population (thousands)=%{marker.size}<extra></extra>",
         "legendgroup": "Mozambique",
         "marker": {
          "color": "#FFA15A",
          "size": [
           9022.747
          ],
          "sizemode": "area",
          "sizeref": 3085.7029075,
          "symbol": "circle"
         },
         "mode": "markers",
         "name": "Mozambique",
         "orientation": "v",
         "showlegend": true,
         "type": "scatter",
         "x": [
          "Mozambique"
         ],
         "xaxis": "x9",
         "y": [
          0.12
         ],
         "yaxis": "y9"
        },
        {
         "hovertemplate": "Country=%{x}<br>Decade=1980<br>Women (%)=%{y}<br>Population (thousands)=%{marker.size}<extra></extra>",
         "legendgroup": "Mozambique",
         "marker": {
          "color": "#FFA15A",
          "size": [
           11630.194
          ],
          "sizemode": "area",
          "sizeref": 3085.7029075,
          "symbol": "circle"
         },
         "mode": "markers",
         "name": "Mozambique",
         "orientation": "v",
         "showlegend": false,
         "type": "scatter",
         "x": [
          "Mozambique"
         ],
         "xaxis": "x4",
         "y": [
          0.16
         ],
         "yaxis": "y4"
        },
        {
         "hovertemplate": "Country=%{x}<br>Decade=1990<br>Women (%)=%{y}<br>Population (thousands)=%{marker.size}<extra></extra>",
         "legendgroup": "Mozambique",
         "marker": {
          "color": "#FFA15A",
          "size": [
           12987.292
          ],
          "sizemode": "area",
          "sizeref": 3085.7029075,
          "symbol": "circle"
         },
         "mode": "markers",
         "name": "Mozambique",
         "orientation": "v",
         "showlegend": false,
         "type": "scatter",
         "x": [
          "Mozambique"
         ],
         "xaxis": "x5",
         "y": [
          0.275
         ],
         "yaxis": "y5"
        },
        {
         "hovertemplate": "Country=%{x}<br>Decade=2000<br>Women (%)=%{y}<br>Population (thousands)=%{marker.size}<extra></extra>",
         "legendgroup": "Mozambique",
         "marker": {
          "color": "#FFA15A",
          "size": [
           17711.925
          ],
          "sizemode": "area",
          "sizeref": 3085.7029075,
          "symbol": "circle"
         },
         "mode": "markers",
         "name": "Mozambique",
         "orientation": "v",
         "showlegend": false,
         "type": "scatter",
         "x": [
          "Mozambique"
         ],
         "xaxis": "x6",
         "y": [
          0.37
         ],
         "yaxis": "y6"
        },
        {
         "hovertemplate": "Country=%{x}<br>Decade=2010<br>Women (%)=%{y}<br>Population (thousands)=%{marker.size}<extra></extra>",
         "legendgroup": "Mozambique",
         "marker": {
          "color": "#FFA15A",
          "size": [
           23531.567
          ],
          "sizemode": "area",
          "sizeref": 3085.7029075,
          "symbol": "circle"
         },
         "mode": "markers",
         "name": "Mozambique",
         "orientation": "v",
         "showlegend": false,
         "type": "scatter",
         "x": [
          "Mozambique"
         ],
         "xaxis": "x",
         "y": [
          0.4
         ],
         "yaxis": "y"
        },
        {
         "hovertemplate": "Country=%{x}<br>Decade=1970<br>Women (%)=%{y}<br>Population (thousands)=%{marker.size}<extra></extra>",
         "legendgroup": "Tuvalu",
         "marker": {
          "color": "#19d3f3",
          "size": [
           5.74
          ],
          "sizemode": "area",
          "sizeref": 3085.7029075,
          "symbol": "circle"
         },
         "mode": "markers",
         "name": "Tuvalu",
         "orientation": "v",
         "showlegend": true,
         "type": "scatter",
         "x": [
          "Tuvalu"
         ],
         "xaxis": "x9",
         "y": [
          0
         ],
         "yaxis": "y9"
        },
        {
         "hovertemplate": "Country=%{x}<br>Decade=1980<br>Women (%)=%{y}<br>Population (thousands)=%{marker.size}<extra></extra>",
         "legendgroup": "Tuvalu",
         "marker": {
          "color": "#19d3f3",
          "size": [
           7.631
          ],
          "sizemode": "area",
          "sizeref": 3085.7029075,
          "symbol": "circle"
         },
         "mode": "markers",
         "name": "Tuvalu",
         "orientation": "v",
         "showlegend": false,
         "type": "scatter",
         "x": [
          "Tuvalu"
         ],
         "xaxis": "x4",
         "y": [
          0.02666666666666667
         ],
         "yaxis": "y4"
        },
        {
         "hovertemplate": "Country=%{x}<br>Decade=1990<br>Women (%)=%{y}<br>Population (thousands)=%{marker.size}<extra></extra>",
         "legendgroup": "Tuvalu",
         "marker": {
          "color": "#19d3f3",
          "size": [
           8.91
          ],
          "sizemode": "area",
          "sizeref": 3085.7029075,
          "symbol": "circle"
         },
         "mode": "markers",
         "name": "Tuvalu",
         "orientation": "v",
         "showlegend": false,
         "type": "scatter",
         "x": [
          "Tuvalu"
         ],
         "xaxis": "x5",
         "y": [
          0.04
         ],
         "yaxis": "y5"
        },
        {
         "hovertemplate": "Country=%{x}<br>Decade=2000<br>Women (%)=%{y}<br>Population (thousands)=%{marker.size}<extra></extra>",
         "legendgroup": "Tuvalu",
         "marker": {
          "color": "#19d3f3",
          "size": [
           9.392
          ],
          "sizemode": "area",
          "sizeref": 3085.7029075,
          "symbol": "circle"
         },
         "mode": "markers",
         "name": "Tuvalu",
         "orientation": "v",
         "showlegend": false,
         "type": "scatter",
         "x": [
          "Tuvalu"
         ],
         "xaxis": "x6",
         "y": [
          0
         ],
         "yaxis": "y6"
        },
        {
         "hovertemplate": "Country=%{x}<br>Decade=2010<br>Women (%)=%{y}<br>Population (thousands)=%{marker.size}<extra></extra>",
         "legendgroup": "Tuvalu",
         "marker": {
          "color": "#19d3f3",
          "size": [
           10.521
          ],
          "sizemode": "area",
          "sizeref": 3085.7029075,
          "symbol": "circle"
         },
         "mode": "markers",
         "name": "Tuvalu",
         "orientation": "v",
         "showlegend": false,
         "type": "scatter",
         "x": [
          "Tuvalu"
         ],
         "xaxis": "x",
         "y": [
          0.035
         ],
         "yaxis": "y"
        },
        {
         "hovertemplate": "Country=%{x}<br>Decade=1970<br>Women (%)=%{y}<br>Population (thousands)=%{marker.size}<extra></extra>",
         "legendgroup": "Tonga",
         "marker": {
          "color": "#FF6692",
          "size": [
           84.344
          ],
          "sizemode": "area",
          "sizeref": 3085.7029075,
          "symbol": "circle"
         },
         "mode": "markers",
         "name": "Tonga",
         "orientation": "v",
         "showlegend": true,
         "type": "scatter",
         "x": [
          "Tonga"
         ],
         "xaxis": "x9",
         "y": [
          0
         ],
         "yaxis": "y9"
        },
        {
         "hovertemplate": "Country=%{x}<br>Decade=1980<br>Women (%)=%{y}<br>Population (thousands)=%{marker.size}<extra></extra>",
         "legendgroup": "Tonga",
         "marker": {
          "color": "#FF6692",
          "size": [
           92.966
          ],
          "sizemode": "area",
          "sizeref": 3085.7029075,
          "symbol": "circle"
         },
         "mode": "markers",
         "name": "Tonga",
         "orientation": "v",
         "showlegend": false,
         "type": "scatter",
         "x": [
          "Tonga"
         ],
         "xaxis": "x4",
         "y": [
          0
         ],
         "yaxis": "y4"
        },
        {
         "hovertemplate": "Country=%{x}<br>Decade=1990<br>Women (%)=%{y}<br>Population (thousands)=%{marker.size}<extra></extra>",
         "legendgroup": "Tonga",
         "marker": {
          "color": "#FF6692",
          "size": [
           95.069
          ],
          "sizemode": "area",
          "sizeref": 3085.7029075,
          "symbol": "circle"
         },
         "mode": "markers",
         "name": "Tonga",
         "orientation": "v",
         "showlegend": false,
         "type": "scatter",
         "x": [
          "Tonga"
         ],
         "xaxis": "x5",
         "y": [
          0.0075
         ],
         "yaxis": "y5"
        },
        {
         "hovertemplate": "Country=%{x}<br>Decade=2000<br>Women (%)=%{y}<br>Population (thousands)=%{marker.size}<extra></extra>",
         "legendgroup": "Tonga",
         "marker": {
          "color": "#FF6692",
          "size": [
           97.962
          ],
          "sizemode": "area",
          "sizeref": 3085.7029075,
          "symbol": "circle"
         },
         "mode": "markers",
         "name": "Tonga",
         "orientation": "v",
         "showlegend": false,
         "type": "scatter",
         "x": [
          "Tonga"
         ],
         "xaxis": "x6",
         "y": [
          0.02
         ],
         "yaxis": "y6"
        },
        {
         "hovertemplate": "Country=%{x}<br>Decade=2010<br>Women (%)=%{y}<br>Population (thousands)=%{marker.size}<extra></extra>",
         "legendgroup": "Tonga",
         "marker": {
          "color": "#FF6692",
          "size": [
           103.981
          ],
          "sizemode": "area",
          "sizeref": 3085.7029075,
          "symbol": "circle"
         },
         "mode": "markers",
         "name": "Tonga",
         "orientation": "v",
         "showlegend": false,
         "type": "scatter",
         "x": [
          "Tonga"
         ],
         "xaxis": "x",
         "y": [
          0
         ],
         "yaxis": "y"
        },
        {
         "hovertemplate": "Country=%{x}<br>Decade=1970<br>Women (%)=%{y}<br>Population (thousands)=%{marker.size}<extra></extra>",
         "legendgroup": "Papua New Guinea",
         "marker": {
          "color": "#B6E880",
          "size": [
           2783.132
          ],
          "sizemode": "area",
          "sizeref": 3085.7029075,
          "symbol": "circle"
         },
         "mode": "markers",
         "name": "Papua New Guinea",
         "orientation": "v",
         "showlegend": true,
         "type": "scatter",
         "x": [
          "Papua New Guinea"
         ],
         "xaxis": "x9",
         "y": [
          0.02
         ],
         "yaxis": "y9"
        },
        {
         "hovertemplate": "Country=%{x}<br>Decade=1980<br>Women (%)=%{y}<br>Population (thousands)=%{marker.size}<extra></extra>",
         "legendgroup": "Papua New Guinea",
         "marker": {
          "color": "#B6E880",
          "size": [
           3571.209
          ],
          "sizemode": "area",
          "sizeref": 3085.7029075,
          "symbol": "circle"
         },
         "mode": "markers",
         "name": "Papua New Guinea",
         "orientation": "v",
         "showlegend": false,
         "type": "scatter",
         "x": [
          "Papua New Guinea"
         ],
         "xaxis": "x4",
         "y": [
          0.005
         ],
         "yaxis": "y4"
        },
        {
         "hovertemplate": "Country=%{x}<br>Decade=1990<br>Women (%)=%{y}<br>Population (thousands)=%{marker.size}<extra></extra>",
         "legendgroup": "Papua New Guinea",
         "marker": {
          "color": "#B6E880",
          "size": [
           4615.843
          ],
          "sizemode": "area",
          "sizeref": 3085.7029075,
          "symbol": "circle"
         },
         "mode": "markers",
         "name": "Papua New Guinea",
         "orientation": "v",
         "showlegend": false,
         "type": "scatter",
         "x": [
          "Papua New Guinea"
         ],
         "xaxis": "x5",
         "y": [
          0.006666666666666667
         ],
         "yaxis": "y5"
        },
        {
         "hovertemplate": "Country=%{x}<br>Decade=2000<br>Women (%)=%{y}<br>Population (thousands)=%{marker.size}<extra></extra>",
         "legendgroup": "Papua New Guinea",
         "marker": {
          "color": "#B6E880",
          "size": [
           5847.59
          ],
          "sizemode": "area",
          "sizeref": 3085.7029075,
          "symbol": "circle"
         },
         "mode": "markers",
         "name": "Papua New Guinea",
         "orientation": "v",
         "showlegend": false,
         "type": "scatter",
         "x": [
          "Papua New Guinea"
         ],
         "xaxis": "x6",
         "y": [
          0.01
         ],
         "yaxis": "y6"
        },
        {
         "hovertemplate": "Country=%{x}<br>Decade=2010<br>Women (%)=%{y}<br>Population (thousands)=%{marker.size}<extra></extra>",
         "legendgroup": "Papua New Guinea",
         "marker": {
          "color": "#B6E880",
          "size": [
           7310.512
          ],
          "sizemode": "area",
          "sizeref": 3085.7029075,
          "symbol": "circle"
         },
         "mode": "markers",
         "name": "Papua New Guinea",
         "orientation": "v",
         "showlegend": false,
         "type": "scatter",
         "x": [
          "Papua New Guinea"
         ],
         "xaxis": "x",
         "y": [
          0.015
         ],
         "yaxis": "y"
        },
        {
         "hovertemplate": "Country=%{x}<br>Decade=1970<br>Women (%)=%{y}<br>Population (thousands)=%{marker.size}<extra></extra>",
         "legendgroup": "Kiribati",
         "marker": {
          "color": "#FF97FF",
          "size": [
           51.142
          ],
          "sizemode": "area",
          "sizeref": 3085.7029075,
          "symbol": "circle"
         },
         "mode": "markers",
         "name": "Kiribati",
         "orientation": "v",
         "showlegend": true,
         "type": "scatter",
         "x": [
          "Kiribati"
         ],
         "xaxis": "x9",
         "y": [
          0
         ],
         "yaxis": "y9"
        },
        {
         "hovertemplate": "Country=%{x}<br>Decade=1980<br>Women (%)=%{y}<br>Population (thousands)=%{marker.size}<extra></extra>",
         "legendgroup": "Kiribati",
         "marker": {
          "color": "#FF97FF",
          "size": [
           59.296
          ],
          "sizemode": "area",
          "sizeref": 3085.7029075,
          "symbol": "circle"
         },
         "mode": "markers",
         "name": "Kiribati",
         "orientation": "v",
         "showlegend": false,
         "type": "scatter",
         "x": [
          "Kiribati"
         ],
         "xaxis": "x4",
         "y": [
          0
         ],
         "yaxis": "y4"
        },
        {
         "hovertemplate": "Country=%{x}<br>Decade=1990<br>Women (%)=%{y}<br>Population (thousands)=%{marker.size}<extra></extra>",
         "legendgroup": "Kiribati",
         "marker": {
          "color": "#FF97FF",
          "size": [
           72.394
          ],
          "sizemode": "area",
          "sizeref": 3085.7029075,
          "symbol": "circle"
         },
         "mode": "markers",
         "name": "Kiribati",
         "orientation": "v",
         "showlegend": false,
         "type": "scatter",
         "x": [
          "Kiribati"
         ],
         "xaxis": "x5",
         "y": [
          0.016666666666666666
         ],
         "yaxis": "y5"
        },
        {
         "hovertemplate": "Country=%{x}<br>Decade=2000<br>Women (%)=%{y}<br>Population (thousands)=%{marker.size}<extra></extra>",
         "legendgroup": "Kiribati",
         "marker": {
          "color": "#FF97FF",
          "size": [
           84.405
          ],
          "sizemode": "area",
          "sizeref": 3085.7029075,
          "symbol": "circle"
         },
         "mode": "markers",
         "name": "Kiribati",
         "orientation": "v",
         "showlegend": false,
         "type": "scatter",
         "x": [
          "Kiribati"
         ],
         "xaxis": "x6",
         "y": [
          0.04666666666666667
         ],
         "yaxis": "y6"
        },
        {
         "hovertemplate": "Country=%{x}<br>Decade=2010<br>Women (%)=%{y}<br>Population (thousands)=%{marker.size}<extra></extra>",
         "legendgroup": "Kiribati",
         "marker": {
          "color": "#FF97FF",
          "size": [
           102.93
          ],
          "sizemode": "area",
          "sizeref": 3085.7029075,
          "symbol": "circle"
         },
         "mode": "markers",
         "name": "Kiribati",
         "orientation": "v",
         "showlegend": false,
         "type": "scatter",
         "x": [
          "Kiribati"
         ],
         "xaxis": "x",
         "y": [
          0.08
         ],
         "yaxis": "y"
        },
        {
         "hovertemplate": "Country=%{x}<br>Decade=1970<br>Women (%)=%{y}<br>Population (thousands)=%{marker.size}<extra></extra>",
         "legendgroup": "Pakistan",
         "marker": {
          "color": "#FECB52",
          "size": [
           58142.062
          ],
          "sizemode": "area",
          "sizeref": 3085.7029075,
          "symbol": "circle"
         },
         "mode": "markers",
         "name": "Pakistan",
         "orientation": "v",
         "showlegend": true,
         "type": "scatter",
         "x": [
          "Pakistan"
         ],
         "xaxis": "x9",
         "y": [
          0.045
         ],
         "yaxis": "y9"
        },
        {
         "hovertemplate": "Country=%{x}<br>Decade=1980<br>Women (%)=%{y}<br>Population (thousands)=%{marker.size}<extra></extra>",
         "legendgroup": "Pakistan",
         "marker": {
          "color": "#FECB52",
          "size": [
           78054.346
          ],
          "sizemode": "area",
          "sizeref": 3085.7029075,
          "symbol": "circle"
         },
         "mode": "markers",
         "name": "Pakistan",
         "orientation": "v",
         "showlegend": false,
         "type": "scatter",
         "x": [
          "Pakistan"
         ],
         "xaxis": "x4",
         "y": [
          0.095
         ],
         "yaxis": "y4"
        },
        {
         "hovertemplate": "Country=%{x}<br>Decade=1990<br>Women (%)=%{y}<br>Population (thousands)=%{marker.size}<extra></extra>",
         "legendgroup": "Pakistan",
         "marker": {
          "color": "#FECB52",
          "size": [
           107647.918
          ],
          "sizemode": "area",
          "sizeref": 3085.7029075,
          "symbol": "circle"
         },
         "mode": "markers",
         "name": "Pakistan",
         "orientation": "v",
         "showlegend": false,
         "type": "scatter",
         "x": [
          "Pakistan"
         ],
         "xaxis": "x5",
         "y": [
          0.016666666666666666
         ],
         "yaxis": "y5"
        },
        {
         "hovertemplate": "Country=%{x}<br>Decade=2000<br>Women (%)=%{y}<br>Population (thousands)=%{marker.size}<extra></extra>",
         "legendgroup": "Pakistan",
         "marker": {
          "color": "#FECB52",
          "size": [
           142343.583
          ],
          "sizemode": "area",
          "sizeref": 3085.7029075,
          "symbol": "circle"
         },
         "mode": "markers",
         "name": "Pakistan",
         "orientation": "v",
         "showlegend": false,
         "type": "scatter",
         "x": [
          "Pakistan"
         ],
         "xaxis": "x6",
         "y": [
          0.21666666666666667
         ],
         "yaxis": "y6"
        },
        {
         "hovertemplate": "Country=%{x}<br>Decade=2010<br>Women (%)=%{y}<br>Population (thousands)=%{marker.size}<extra></extra>",
         "legendgroup": "Pakistan",
         "marker": {
          "color": "#FECB52",
          "size": [
           179424.643
          ],
          "sizemode": "area",
          "sizeref": 3085.7029075,
          "symbol": "circle"
         },
         "mode": "markers",
         "name": "Pakistan",
         "orientation": "v",
         "showlegend": false,
         "type": "scatter",
         "x": [
          "Pakistan"
         ],
         "xaxis": "x",
         "y": [
          0.20500000000000002
         ],
         "yaxis": "y"
        },
        {
         "hovertemplate": "Country=%{x}<br>Decade=1970<br>Women (%)=%{y}<br>Population (thousands)=%{marker.size}<extra></extra>",
         "legendgroup": "Eswatini",
         "marker": {
          "color": "#636efa",
          "size": [
           431.251
          ],
          "sizemode": "area",
          "sizeref": 3085.7029075,
          "symbol": "circle"
         },
         "mode": "markers",
         "name": "Eswatini",
         "orientation": "v",
         "showlegend": true,
         "type": "scatter",
         "x": [
          "Eswatini"
         ],
         "xaxis": "x9",
         "y": [
          0.035
         ],
         "yaxis": "y9"
        },
        {
         "hovertemplate": "Country=%{x}<br>Decade=1980<br>Women (%)=%{y}<br>Population (thousands)=%{marker.size}<extra></extra>",
         "legendgroup": "Eswatini",
         "marker": {
          "color": "#636efa",
          "size": [
           587.852
          ],
          "sizemode": "area",
          "sizeref": 3085.7029075,
          "symbol": "circle"
         },
         "mode": "markers",
         "name": "Eswatini",
         "orientation": "v",
         "showlegend": false,
         "type": "scatter",
         "x": [
          "Eswatini"
         ],
         "xaxis": "x4",
         "y": [
          0.03
         ],
         "yaxis": "y4"
        },
        {
         "hovertemplate": "Country=%{x}<br>Decade=1990<br>Women (%)=%{y}<br>Population (thousands)=%{marker.size}<extra></extra>",
         "legendgroup": "Eswatini",
         "marker": {
          "color": "#636efa",
          "size": [
           822.423
          ],
          "sizemode": "area",
          "sizeref": 3085.7029075,
          "symbol": "circle"
         },
         "mode": "markers",
         "name": "Eswatini",
         "orientation": "v",
         "showlegend": false,
         "type": "scatter",
         "x": [
          "Eswatini"
         ],
         "xaxis": "x5",
         "y": [
          0.03
         ],
         "yaxis": "y5"
        },
        {
         "hovertemplate": "Country=%{x}<br>Decade=2000<br>Women (%)=%{y}<br>Population (thousands)=%{marker.size}<extra></extra>",
         "legendgroup": "Eswatini",
         "marker": {
          "color": "#636efa",
          "size": [
           1005.432
          ],
          "sizemode": "area",
          "sizeref": 3085.7029075,
          "symbol": "circle"
         },
         "mode": "markers",
         "name": "Eswatini",
         "orientation": "v",
         "showlegend": false,
         "type": "scatter",
         "x": [
          "Eswatini"
         ],
         "xaxis": "x6",
         "y": [
          0.12333333333333334
         ],
         "yaxis": "y6"
        },
        {
         "hovertemplate": "Country=%{x}<br>Decade=2010<br>Women (%)=%{y}<br>Population (thousands)=%{marker.size}<extra></extra>",
         "legendgroup": "Eswatini",
         "marker": {
          "color": "#636efa",
          "size": [
           1064.841
          ],
          "sizemode": "area",
          "sizeref": 3085.7029075,
          "symbol": "circle"
         },
         "mode": "markers",
         "name": "Eswatini",
         "orientation": "v",
         "showlegend": false,
         "type": "scatter",
         "x": [
          "Eswatini"
         ],
         "xaxis": "x",
         "y": [
          0.065
         ],
         "yaxis": "y"
        },
        {
         "hovertemplate": "Country=%{x}<br>Decade=1970<br>Women (%)=%{y}<br>Population (thousands)=%{marker.size}<extra></extra>",
         "legendgroup": "Benin",
         "marker": {
          "color": "#EF553B",
          "size": [
           2912.338
          ],
          "sizemode": "area",
          "sizeref": 3085.7029075,
          "symbol": "circle"
         },
         "mode": "markers",
         "name": "Benin",
         "orientation": "v",
         "showlegend": true,
         "type": "scatter",
         "x": [
          "Benin"
         ],
         "xaxis": "x9",
         "y": [
          0.08
         ],
         "yaxis": "y9"
        },
        {
         "hovertemplate": "Country=%{x}<br>Decade=1980<br>Women (%)=%{y}<br>Population (thousands)=%{marker.size}<extra></extra>",
         "legendgroup": "Benin",
         "marker": {
          "color": "#EF553B",
          "size": [
           3717.161
          ],
          "sizemode": "area",
          "sizeref": 3085.7029075,
          "symbol": "circle"
         },
         "mode": "markers",
         "name": "Benin",
         "orientation": "v",
         "showlegend": false,
         "type": "scatter",
         "x": [
          "Benin"
         ],
         "xaxis": "x4",
         "y": [
          0.035
         ],
         "yaxis": "y4"
        },
        {
         "hovertemplate": "Country=%{x}<br>Decade=1990<br>Women (%)=%{y}<br>Population (thousands)=%{marker.size}<extra></extra>",
         "legendgroup": "Benin",
         "marker": {
          "color": "#EF553B",
          "size": [
           4978.489
          ],
          "sizemode": "area",
          "sizeref": 3085.7029075,
          "symbol": "circle"
         },
         "mode": "markers",
         "name": "Benin",
         "orientation": "v",
         "showlegend": false,
         "type": "scatter",
         "x": [
          "Benin"
         ],
         "xaxis": "x5",
         "y": [
          0.06666666666666667
         ],
         "yaxis": "y5"
        },
        {
         "hovertemplate": "Country=%{x}<br>Decade=2000<br>Women (%)=%{y}<br>Population (thousands)=%{marker.size}<extra></extra>",
         "legendgroup": "Benin",
         "marker": {
          "color": "#EF553B",
          "size": [
           6865.946
          ],
          "sizemode": "area",
          "sizeref": 3085.7029075,
          "symbol": "circle"
         },
         "mode": "markers",
         "name": "Benin",
         "orientation": "v",
         "showlegend": false,
         "type": "scatter",
         "x": [
          "Benin"
         ],
         "xaxis": "x6",
         "y": [
          0.09
         ],
         "yaxis": "y6"
        },
        {
         "hovertemplate": "Country=%{x}<br>Decade=2010<br>Women (%)=%{y}<br>Population (thousands)=%{marker.size}<extra></extra>",
         "legendgroup": "Benin",
         "marker": {
          "color": "#EF553B",
          "size": [
           9199.254
          ],
          "sizemode": "area",
          "sizeref": 3085.7029075,
          "symbol": "circle"
         },
         "mode": "markers",
         "name": "Benin",
         "orientation": "v",
         "showlegend": false,
         "type": "scatter",
         "x": [
          "Benin"
         ],
         "xaxis": "x",
         "y": [
          0.07500000000000001
         ],
         "yaxis": "y"
        },
        {
         "hovertemplate": "Country=%{x}<br>Decade=1970<br>Women (%)=%{y}<br>Population (thousands)=%{marker.size}<extra></extra>",
         "legendgroup": "United Republic of Tanzania",
         "marker": {
          "color": "#00cc96",
          "size": [
           13535.487
          ],
          "sizemode": "area",
          "sizeref": 3085.7029075,
          "symbol": "circle"
         },
         "mode": "markers",
         "name": "United Republic of Tanzania",
         "orientation": "v",
         "showlegend": true,
         "type": "scatter",
         "x": [
          "United Republic of Tanzania"
         ],
         "xaxis": "x9",
         "y": [
          0.06
         ],
         "yaxis": "y9"
        },
        {
         "hovertemplate": "Country=%{x}<br>Decade=1980<br>Women (%)=%{y}<br>Population (thousands)=%{marker.size}<extra></extra>",
         "legendgroup": "United Republic of Tanzania",
         "marker": {
          "color": "#00cc96",
          "size": [
           18538.263
          ],
          "sizemode": "area",
          "sizeref": 3085.7029075,
          "symbol": "circle"
         },
         "mode": "markers",
         "name": "United Republic of Tanzania",
         "orientation": "v",
         "showlegend": false,
         "type": "scatter",
         "x": [
          "United Republic of Tanzania"
         ],
         "xaxis": "x4",
         "y": [
          0.1
         ],
         "yaxis": "y4"
        },
        {
         "hovertemplate": "Country=%{x}<br>Decade=1990<br>Women (%)=%{y}<br>Population (thousands)=%{marker.size}<extra></extra>",
         "legendgroup": "United Republic of Tanzania",
         "marker": {
          "color": "#00cc96",
          "size": [
           25203.848
          ],
          "sizemode": "area",
          "sizeref": 3085.7029075,
          "symbol": "circle"
         },
         "mode": "markers",
         "name": "United Republic of Tanzania",
         "orientation": "v",
         "showlegend": false,
         "type": "scatter",
         "x": [
          "United Republic of Tanzania"
         ],
         "xaxis": "x5",
         "y": [
          0.11
         ],
         "yaxis": "y5"
        },
        {
         "hovertemplate": "Country=%{x}<br>Decade=2000<br>Women (%)=%{y}<br>Population (thousands)=%{marker.size}<extra></extra>",
         "legendgroup": "United Republic of Tanzania",
         "marker": {
          "color": "#00cc96",
          "size": [
           33499.177
          ],
          "sizemode": "area",
          "sizeref": 3085.7029075,
          "symbol": "circle"
         },
         "mode": "markers",
         "name": "United Republic of Tanzania",
         "orientation": "v",
         "showlegend": false,
         "type": "scatter",
         "x": [
          "United Republic of Tanzania"
         ],
         "xaxis": "x6",
         "y": [
          0.26
         ],
         "yaxis": "y6"
        },
        {
         "hovertemplate": "Country=%{x}<br>Decade=2010<br>Women (%)=%{y}<br>Population (thousands)=%{marker.size}<extra></extra>",
         "legendgroup": "United Republic of Tanzania",
         "marker": {
          "color": "#00cc96",
          "size": [
           44346.532
          ],
          "sizemode": "area",
          "sizeref": 3085.7029075,
          "symbol": "circle"
         },
         "mode": "markers",
         "name": "United Republic of Tanzania",
         "orientation": "v",
         "showlegend": false,
         "type": "scatter",
         "x": [
          "United Republic of Tanzania"
         ],
         "xaxis": "x",
         "y": [
          0.365
         ],
         "yaxis": "y"
        },
        {
         "hovertemplate": "Country=%{x}<br>Decade=1970<br>Women (%)=%{y}<br>Population (thousands)=%{marker.size}<extra></extra>",
         "legendgroup": "Viet Nam",
         "marker": {
          "color": "#ab63fa",
          "size": [
           43404.802
          ],
          "sizemode": "area",
          "sizeref": 3085.7029075,
          "symbol": "circle"
         },
         "mode": "markers",
         "name": "Viet Nam",
         "orientation": "v",
         "showlegend": true,
         "type": "scatter",
         "x": [
          "Viet Nam"
         ],
         "xaxis": "x9",
         "y": [
          0.27
         ],
         "yaxis": "y9"
        },
        {
         "hovertemplate": "Country=%{x}<br>Decade=1980<br>Women (%)=%{y}<br>Population (thousands)=%{marker.size}<extra></extra>",
         "legendgroup": "Viet Nam",
         "marker": {
          "color": "#ab63fa",
          "size": [
           54281.841
          ],
          "sizemode": "area",
          "sizeref": 3085.7029075,
          "symbol": "circle"
         },
         "mode": "markers",
         "name": "Viet Nam",
         "orientation": "v",
         "showlegend": false,
         "type": "scatter",
         "x": [
          "Viet Nam"
         ],
         "xaxis": "x4",
         "y": [
          0.2
         ],
         "yaxis": "y4"
        },
        {
         "hovertemplate": "Country=%{x}<br>Decade=1990<br>Women (%)=%{y}<br>Population (thousands)=%{marker.size}<extra></extra>",
         "legendgroup": "Viet Nam",
         "marker": {
          "color": "#ab63fa",
          "size": [
           67988.855
          ],
          "sizemode": "area",
          "sizeref": 3085.7029075,
          "symbol": "circle"
         },
         "mode": "markers",
         "name": "Viet Nam",
         "orientation": "v",
         "showlegend": false,
         "type": "scatter",
         "x": [
          "Viet Nam"
         ],
         "xaxis": "x5",
         "y": [
          0.20666666666666667
         ],
         "yaxis": "y5"
        },
        {
         "hovertemplate": "Country=%{x}<br>Decade=2000<br>Women (%)=%{y}<br>Population (thousands)=%{marker.size}<extra></extra>",
         "legendgroup": "Viet Nam",
         "marker": {
          "color": "#ab63fa",
          "size": [
           79910.411
          ],
          "sizemode": "area",
          "sizeref": 3085.7029075,
          "symbol": "circle"
         },
         "mode": "markers",
         "name": "Viet Nam",
         "orientation": "v",
         "showlegend": false,
         "type": "scatter",
         "x": [
          "Viet Nam"
         ],
         "xaxis": "x6",
         "y": [
          0.265
         ],
         "yaxis": "y6"
        },
        {
         "hovertemplate": "Country=%{x}<br>Decade=2010<br>Women (%)=%{y}<br>Population (thousands)=%{marker.size}<extra></extra>",
         "legendgroup": "Viet Nam",
         "marker": {
          "color": "#ab63fa",
          "size": [
           87967.655
          ],
          "sizemode": "area",
          "sizeref": 3085.7029075,
          "symbol": "circle"
         },
         "mode": "markers",
         "name": "Viet Nam",
         "orientation": "v",
         "showlegend": false,
         "type": "scatter",
         "x": [
          "Viet Nam"
         ],
         "xaxis": "x",
         "y": [
          0.255
         ],
         "yaxis": "y"
        },
        {
         "hovertemplate": "Country=%{x}<br>Decade=1970<br>Women (%)=%{y}<br>Population (thousands)=%{marker.size}<extra></extra>",
         "legendgroup": "Vanuatu",
         "marker": {
          "color": "#FFA15A",
          "size": [
           85.374
          ],
          "sizemode": "area",
          "sizeref": 3085.7029075,
          "symbol": "circle"
         },
         "mode": "markers",
         "name": "Vanuatu",
         "orientation": "v",
         "showlegend": true,
         "type": "scatter",
         "x": [
          "Vanuatu"
         ],
         "xaxis": "x9",
         "y": [
          0
         ],
         "yaxis": "y9"
        },
        {
         "hovertemplate": "Country=%{x}<br>Decade=1980<br>Women (%)=%{y}<br>Population (thousands)=%{marker.size}<extra></extra>",
         "legendgroup": "Vanuatu",
         "marker": {
          "color": "#FFA15A",
          "size": [
           115.598
          ],
          "sizemode": "area",
          "sizeref": 3085.7029075,
          "symbol": "circle"
         },
         "mode": "markers",
         "name": "Vanuatu",
         "orientation": "v",
         "showlegend": false,
         "type": "scatter",
         "x": [
          "Vanuatu"
         ],
         "xaxis": "x4",
         "y": [
          0.02
         ],
         "yaxis": "y4"
        },
        {
         "hovertemplate": "Country=%{x}<br>Decade=1990<br>Women (%)=%{y}<br>Population (thousands)=%{marker.size}<extra></extra>",
         "legendgroup": "Vanuatu",
         "marker": {
          "color": "#FFA15A",
          "size": [
           146.575
          ],
          "sizemode": "area",
          "sizeref": 3085.7029075,
          "symbol": "circle"
         },
         "mode": "markers",
         "name": "Vanuatu",
         "orientation": "v",
         "showlegend": false,
         "type": "scatter",
         "x": [
          "Vanuatu"
         ],
         "xaxis": "x5",
         "y": [
          0.01
         ],
         "yaxis": "y5"
        },
        {
         "hovertemplate": "Country=%{x}<br>Decade=2000<br>Women (%)=%{y}<br>Population (thousands)=%{marker.size}<extra></extra>",
         "legendgroup": "Vanuatu",
         "marker": {
          "color": "#FFA15A",
          "size": [
           184.964
          ],
          "sizemode": "area",
          "sizeref": 3085.7029075,
          "symbol": "circle"
         },
         "mode": "markers",
         "name": "Vanuatu",
         "orientation": "v",
         "showlegend": false,
         "type": "scatter",
         "x": [
          "Vanuatu"
         ],
         "xaxis": "x6",
         "y": [
          0.03333333333333333
         ],
         "yaxis": "y6"
        },
        {
         "hovertemplate": "Country=%{x}<br>Decade=2010<br>Women (%)=%{y}<br>Population (thousands)=%{marker.size}<extra></extra>",
         "legendgroup": "Vanuatu",
         "marker": {
          "color": "#FFA15A",
          "size": [
           236.216
          ],
          "sizemode": "area",
          "sizeref": 3085.7029075,
          "symbol": "circle"
         },
         "mode": "markers",
         "name": "Vanuatu",
         "orientation": "v",
         "showlegend": false,
         "type": "scatter",
         "x": [
          "Vanuatu"
         ],
         "xaxis": "x",
         "y": [
          0
         ],
         "yaxis": "y"
        },
        {
         "hovertemplate": "Country=%{x}<br>Decade=1970<br>Women (%)=%{y}<br>Population (thousands)=%{marker.size}<extra></extra>",
         "legendgroup": "Burkina Faso",
         "marker": {
          "color": "#19d3f3",
          "size": [
           5624.592
          ],
          "sizemode": "area",
          "sizeref": 3085.7029075,
          "symbol": "circle"
         },
         "mode": "markers",
         "name": "Burkina Faso",
         "orientation": "v",
         "showlegend": true,
         "type": "scatter",
         "x": [
          "Burkina Faso"
         ],
         "xaxis": "x9",
         "y": [
          0.01
         ],
         "yaxis": "y9"
        },
        {
         "hovertemplate": "Country=%{x}<br>Decade=1990<br>Women (%)=%{y}<br>Population (thousands)=%{marker.size}<extra></extra>",
         "legendgroup": "Burkina Faso",
         "marker": {
          "color": "#19d3f3",
          "size": [
           8811.033
          ],
          "sizemode": "area",
          "sizeref": 3085.7029075,
          "symbol": "circle"
         },
         "mode": "markers",
         "name": "Burkina Faso",
         "orientation": "v",
         "showlegend": false,
         "type": "scatter",
         "x": [
          "Burkina Faso"
         ],
         "xaxis": "x5",
         "y": [
          0.06
         ],
         "yaxis": "y5"
        },
        {
         "hovertemplate": "Country=%{x}<br>Decade=2000<br>Women (%)=%{y}<br>Population (thousands)=%{marker.size}<extra></extra>",
         "legendgroup": "Burkina Faso",
         "marker": {
          "color": "#19d3f3",
          "size": [
           11607.951
          ],
          "sizemode": "area",
          "sizeref": 3085.7029075,
          "symbol": "circle"
         },
         "mode": "markers",
         "name": "Burkina Faso",
         "orientation": "v",
         "showlegend": false,
         "type": "scatter",
         "x": [
          "Burkina Faso"
         ],
         "xaxis": "x6",
         "y": [
          0.12333333333333334
         ],
         "yaxis": "y6"
        },
        {
         "hovertemplate": "Country=%{x}<br>Decade=2010<br>Women (%)=%{y}<br>Population (thousands)=%{marker.size}<extra></extra>",
         "legendgroup": "Burkina Faso",
         "marker": {
          "color": "#19d3f3",
          "size": [
           15605.211
          ],
          "sizemode": "area",
          "sizeref": 3085.7029075,
          "symbol": "circle"
         },
         "mode": "markers",
         "name": "Burkina Faso",
         "orientation": "v",
         "showlegend": false,
         "type": "scatter",
         "x": [
          "Burkina Faso"
         ],
         "xaxis": "x",
         "y": [
          0.125
         ],
         "yaxis": "y"
        },
        {
         "hovertemplate": "Country=%{x}<br>Decade=1970<br>Women (%)=%{y}<br>Population (thousands)=%{marker.size}<extra></extra>",
         "legendgroup": "Cabo Verde",
         "marker": {
          "color": "#FF6692",
          "size": [
           268.633
          ],
          "sizemode": "area",
          "sizeref": 3085.7029075,
          "symbol": "circle"
         },
         "mode": "markers",
         "name": "Cabo Verde",
         "orientation": "v",
         "showlegend": true,
         "type": "scatter",
         "x": [
          "Cabo Verde"
         ],
         "xaxis": "x9",
         "y": [
          0.02
         ],
         "yaxis": "y9"
        },
        {
         "hovertemplate": "Country=%{x}<br>Decade=1980<br>Women (%)=%{y}<br>Population (thousands)=%{marker.size}<extra></extra>",
         "legendgroup": "Cabo Verde",
         "marker": {
          "color": "#FF6692",
          "size": [
           283.848
          ],
          "sizemode": "area",
          "sizeref": 3085.7029075,
          "symbol": "circle"
         },
         "mode": "markers",
         "name": "Cabo Verde",
         "orientation": "v",
         "showlegend": false,
         "type": "scatter",
         "x": [
          "Cabo Verde"
         ],
         "xaxis": "x4",
         "y": [
          0.125
         ],
         "yaxis": "y4"
        },
        {
         "hovertemplate": "Country=%{x}<br>Decade=1990<br>Women (%)=%{y}<br>Population (thousands)=%{marker.size}<extra></extra>",
         "legendgroup": "Cabo Verde",
         "marker": {
          "color": "#FF6692",
          "size": [
           337.953
          ],
          "sizemode": "area",
          "sizeref": 3085.7029075,
          "symbol": "circle"
         },
         "mode": "markers",
         "name": "Cabo Verde",
         "orientation": "v",
         "showlegend": false,
         "type": "scatter",
         "x": [
          "Cabo Verde"
         ],
         "xaxis": "x5",
         "y": [
          0.095
         ],
         "yaxis": "y5"
        },
        {
         "hovertemplate": "Country=%{x}<br>Decade=2000<br>Women (%)=%{y}<br>Population (thousands)=%{marker.size}<extra></extra>",
         "legendgroup": "Cabo Verde",
         "marker": {
          "color": "#FF6692",
          "size": [
           428.178
          ],
          "sizemode": "area",
          "sizeref": 3085.7029075,
          "symbol": "circle"
         },
         "mode": "markers",
         "name": "Cabo Verde",
         "orientation": "v",
         "showlegend": false,
         "type": "scatter",
         "x": [
          "Cabo Verde"
         ],
         "xaxis": "x6",
         "y": [
          0.13
         ],
         "yaxis": "y6"
        },
        {
         "hovertemplate": "Country=%{x}<br>Decade=2010<br>Women (%)=%{y}<br>Population (thousands)=%{marker.size}<extra></extra>",
         "legendgroup": "Cabo Verde",
         "marker": {
          "color": "#FF6692",
          "size": [
           492.644
          ],
          "sizemode": "area",
          "sizeref": 3085.7029075,
          "symbol": "circle"
         },
         "mode": "markers",
         "name": "Cabo Verde",
         "orientation": "v",
         "showlegend": false,
         "type": "scatter",
         "x": [
          "Cabo Verde"
         ],
         "xaxis": "x",
         "y": [
          0.21999999999999997
         ],
         "yaxis": "y"
        },
        {
         "hovertemplate": "Country=%{x}<br>Decade=1970<br>Women (%)=%{y}<br>Population (thousands)=%{marker.size}<extra></extra>",
         "legendgroup": "Comoros",
         "marker": {
          "color": "#B6E880",
          "size": [
           230.055
          ],
          "sizemode": "area",
          "sizeref": 3085.7029075,
          "symbol": "circle"
         },
         "mode": "markers",
         "name": "Comoros",
         "orientation": "v",
         "showlegend": true,
         "type": "scatter",
         "x": [
          "Comoros"
         ],
         "xaxis": "x9",
         "y": [
          0
         ],
         "yaxis": "y9"
        },
        {
         "hovertemplate": "Country=%{x}<br>Decade=1980<br>Women (%)=%{y}<br>Population (thousands)=%{marker.size}<extra></extra>",
         "legendgroup": "Comoros",
         "marker": {
          "color": "#B6E880",
          "size": [
           307.831
          ],
          "sizemode": "area",
          "sizeref": 3085.7029075,
          "symbol": "circle"
         },
         "mode": "markers",
         "name": "Comoros",
         "orientation": "v",
         "showlegend": false,
         "type": "scatter",
         "x": [
          "Comoros"
         ],
         "xaxis": "x4",
         "y": [
          0
         ],
         "yaxis": "y4"
        },
        {
         "hovertemplate": "Country=%{x}<br>Decade=1990<br>Women (%)=%{y}<br>Population (thousands)=%{marker.size}<extra></extra>",
         "legendgroup": "Comoros",
         "marker": {
          "color": "#B6E880",
          "size": [
           411.598
          ],
          "sizemode": "area",
          "sizeref": 3085.7029075,
          "symbol": "circle"
         },
         "mode": "markers",
         "name": "Comoros",
         "orientation": "v",
         "showlegend": false,
         "type": "scatter",
         "x": [
          "Comoros"
         ],
         "xaxis": "x5",
         "y": [
          0.01
         ],
         "yaxis": "y5"
        },
        {
         "hovertemplate": "Country=%{x}<br>Decade=2000<br>Women (%)=%{y}<br>Population (thousands)=%{marker.size}<extra></extra>",
         "legendgroup": "Comoros",
         "marker": {
          "color": "#B6E880",
          "size": [
           542.358
          ],
          "sizemode": "area",
          "sizeref": 3085.7029075,
          "symbol": "circle"
         },
         "mode": "markers",
         "name": "Comoros",
         "orientation": "v",
         "showlegend": false,
         "type": "scatter",
         "x": [
          "Comoros"
         ],
         "xaxis": "x6",
         "y": [
          0.015
         ],
         "yaxis": "y6"
        },
        {
         "hovertemplate": "Country=%{x}<br>Decade=2010<br>Women (%)=%{y}<br>Population (thousands)=%{marker.size}<extra></extra>",
         "legendgroup": "Comoros",
         "marker": {
          "color": "#B6E880",
          "size": [
           689.696
          ],
          "sizemode": "area",
          "sizeref": 3085.7029075,
          "symbol": "circle"
         },
         "mode": "markers",
         "name": "Comoros",
         "orientation": "v",
         "showlegend": false,
         "type": "scatter",
         "x": [
          "Comoros"
         ],
         "xaxis": "x",
         "y": [
          0.03
         ],
         "yaxis": "y"
        },
        {
         "hovertemplate": "Country=%{x}<br>Decade=1970<br>Women (%)=%{y}<br>Population (thousands)=%{marker.size}<extra></extra>",
         "legendgroup": "Djibouti",
         "marker": {
          "color": "#FF97FF",
          "size": [
           159.662
          ],
          "sizemode": "area",
          "sizeref": 3085.7029075,
          "symbol": "circle"
         },
         "mode": "markers",
         "name": "Djibouti",
         "orientation": "v",
         "showlegend": true,
         "type": "scatter",
         "x": [
          "Djibouti"
         ],
         "xaxis": "x9",
         "y": [
          0
         ],
         "yaxis": "y9"
        },
        {
         "hovertemplate": "Country=%{x}<br>Decade=1980<br>Women (%)=%{y}<br>Population (thousands)=%{marker.size}<extra></extra>",
         "legendgroup": "Djibouti",
         "marker": {
          "color": "#FF97FF",
          "size": [
           358.96
          ],
          "sizemode": "area",
          "sizeref": 3085.7029075,
          "symbol": "circle"
         },
         "mode": "markers",
         "name": "Djibouti",
         "orientation": "v",
         "showlegend": false,
         "type": "scatter",
         "x": [
          "Djibouti"
         ],
         "xaxis": "x4",
         "y": [
          0
         ],
         "yaxis": "y4"
        },
        {
         "hovertemplate": "Country=%{x}<br>Decade=1990<br>Women (%)=%{y}<br>Population (thousands)=%{marker.size}<extra></extra>",
         "legendgroup": "Djibouti",
         "marker": {
          "color": "#FF97FF",
          "size": [
           590.393
          ],
          "sizemode": "area",
          "sizeref": 3085.7029075,
          "symbol": "circle"
         },
         "mode": "markers",
         "name": "Djibouti",
         "orientation": "v",
         "showlegend": false,
         "type": "scatter",
         "x": [
          "Djibouti"
         ],
         "xaxis": "x5",
         "y": [
          0
         ],
         "yaxis": "y5"
        },
        {
         "hovertemplate": "Country=%{x}<br>Decade=2000<br>Women (%)=%{y}<br>Population (thousands)=%{marker.size}<extra></extra>",
         "legendgroup": "Djibouti",
         "marker": {
          "color": "#FF97FF",
          "size": [
           717.577
          ],
          "sizemode": "area",
          "sizeref": 3085.7029075,
          "symbol": "circle"
         },
         "mode": "markers",
         "name": "Djibouti",
         "orientation": "v",
         "showlegend": false,
         "type": "scatter",
         "x": [
          "Djibouti"
         ],
         "xaxis": "x6",
         "y": [
          0.125
         ],
         "yaxis": "y6"
        },
        {
         "hovertemplate": "Country=%{x}<br>Decade=2010<br>Women (%)=%{y}<br>Population (thousands)=%{marker.size}<extra></extra>",
         "legendgroup": "Djibouti",
         "marker": {
          "color": "#FF97FF",
          "size": [
           840.194
          ],
          "sizemode": "area",
          "sizeref": 3085.7029075,
          "symbol": "circle"
         },
         "mode": "markers",
         "name": "Djibouti",
         "orientation": "v",
         "showlegend": false,
         "type": "scatter",
         "x": [
          "Djibouti"
         ],
         "xaxis": "x",
         "y": [
          0.17666666666666667
         ],
         "yaxis": "y"
        },
        {
         "hovertemplate": "Country=%{x}<br>Decade=1970<br>Women (%)=%{y}<br>Population (thousands)=%{marker.size}<extra></extra>",
         "legendgroup": "Fiji",
         "marker": {
          "color": "#FECB52",
          "size": [
           520.561
          ],
          "sizemode": "area",
          "sizeref": 3085.7029075,
          "symbol": "circle"
         },
         "mode": "markers",
         "name": "Fiji",
         "orientation": "v",
         "showlegend": true,
         "type": "scatter",
         "x": [
          "Fiji"
         ],
         "xaxis": "x9",
         "y": [
          0.03
         ],
         "yaxis": "y9"
        },
        {
         "hovertemplate": "Country=%{x}<br>Decade=1980<br>Women (%)=%{y}<br>Population (thousands)=%{marker.size}<extra></extra>",
         "legendgroup": "Fiji",
         "marker": {
          "color": "#FECB52",
          "size": [
           635.312
          ],
          "sizemode": "area",
          "sizeref": 3085.7029075,
          "symbol": "circle"
         },
         "mode": "markers",
         "name": "Fiji",
         "orientation": "v",
         "showlegend": false,
         "type": "scatter",
         "x": [
          "Fiji"
         ],
         "xaxis": "x4",
         "y": [
          0.01
         ],
         "yaxis": "y4"
        },
        {
         "hovertemplate": "Country=%{x}<br>Decade=1990<br>Women (%)=%{y}<br>Population (thousands)=%{marker.size}<extra></extra>",
         "legendgroup": "Fiji",
         "marker": {
          "color": "#FECB52",
          "size": [
           728.575
          ],
          "sizemode": "area",
          "sizeref": 3085.7029075,
          "symbol": "circle"
         },
         "mode": "markers",
         "name": "Fiji",
         "orientation": "v",
         "showlegend": false,
         "type": "scatter",
         "x": [
          "Fiji"
         ],
         "xaxis": "x5",
         "y": [
          0.0625
         ],
         "yaxis": "y5"
        },
        {
         "hovertemplate": "Country=%{x}<br>Decade=2000<br>Women (%)=%{y}<br>Population (thousands)=%{marker.size}<extra></extra>",
         "legendgroup": "Fiji",
         "marker": {
          "color": "#FECB52",
          "size": [
           811.011
          ],
          "sizemode": "area",
          "sizeref": 3085.7029075,
          "symbol": "circle"
         },
         "mode": "markers",
         "name": "Fiji",
         "orientation": "v",
         "showlegend": false,
         "type": "scatter",
         "x": [
          "Fiji"
         ],
         "xaxis": "x6",
         "y": [
          0.09
         ],
         "yaxis": "y6"
        },
        {
         "hovertemplate": "Country=%{x}<br>Decade=2010<br>Women (%)=%{y}<br>Population (thousands)=%{marker.size}<extra></extra>",
         "legendgroup": "Fiji",
         "marker": {
          "color": "#FECB52",
          "size": [
           859.816
          ],
          "sizemode": "area",
          "sizeref": 3085.7029075,
          "symbol": "circle"
         },
         "mode": "markers",
         "name": "Fiji",
         "orientation": "v",
         "showlegend": false,
         "type": "scatter",
         "x": [
          "Fiji"
         ],
         "xaxis": "x",
         "y": [
          0.18
         ],
         "yaxis": "y"
        },
        {
         "hovertemplate": "Country=%{x}<br>Decade=1980<br>Women (%)=%{y}<br>Population (thousands)=%{marker.size}<extra></extra>",
         "legendgroup": "Solomon Islands",
         "marker": {
          "color": "#636efa",
          "size": [
           230.55
          ],
          "sizemode": "area",
          "sizeref": 3085.7029075,
          "symbol": "circle"
         },
         "mode": "markers",
         "name": "Solomon Islands",
         "orientation": "v",
         "showlegend": true,
         "type": "scatter",
         "x": [
          "Solomon Islands"
         ],
         "xaxis": "x4",
         "y": [
          0
         ],
         "yaxis": "y4"
        },
        {
         "hovertemplate": "Country=%{x}<br>Decade=1990<br>Women (%)=%{y}<br>Population (thousands)=%{marker.size}<extra></extra>",
         "legendgroup": "Solomon Islands",
         "marker": {
          "color": "#636efa",
          "size": [
           311.869
          ],
          "sizemode": "area",
          "sizeref": 3085.7029075,
          "symbol": "circle"
         },
         "mode": "markers",
         "name": "Solomon Islands",
         "orientation": "v",
         "showlegend": false,
         "type": "scatter",
         "x": [
          "Solomon Islands"
         ],
         "xaxis": "x5",
         "y": [
          0.02
         ],
         "yaxis": "y5"
        },
        {
         "hovertemplate": "Country=%{x}<br>Decade=2000<br>Women (%)=%{y}<br>Population (thousands)=%{marker.size}<extra></extra>",
         "legendgroup": "Solomon Islands",
         "marker": {
          "color": "#636efa",
          "size": [
           412.665
          ],
          "sizemode": "area",
          "sizeref": 3085.7029075,
          "symbol": "circle"
         },
         "mode": "markers",
         "name": "Solomon Islands",
         "orientation": "v",
         "showlegend": false,
         "type": "scatter",
         "x": [
          "Solomon Islands"
         ],
         "xaxis": "x6",
         "y": [
          0
         ],
         "yaxis": "y6"
        },
        {
         "hovertemplate": "Country=%{x}<br>Decade=2010<br>Women (%)=%{y}<br>Population (thousands)=%{marker.size}<extra></extra>",
         "legendgroup": "Solomon Islands",
         "marker": {
          "color": "#636efa",
          "size": [
           527.861
          ],
          "sizemode": "area",
          "sizeref": 3085.7029075,
          "symbol": "circle"
         },
         "mode": "markers",
         "name": "Solomon Islands",
         "orientation": "v",
         "showlegend": false,
         "type": "scatter",
         "x": [
          "Solomon Islands"
         ],
         "xaxis": "x",
         "y": [
          0.01
         ],
         "yaxis": "y"
        },
        {
         "hovertemplate": "Country=%{x}<br>Decade=1980<br>Women (%)=%{y}<br>Population (thousands)=%{marker.size}<extra></extra>",
         "legendgroup": "Angola",
         "marker": {
          "color": "#EF553B",
          "size": [
           8341.29
          ],
          "sizemode": "area",
          "sizeref": 3085.7029075,
          "symbol": "circle"
         },
         "mode": "markers",
         "name": "Angola",
         "orientation": "v",
         "showlegend": true,
         "type": "scatter",
         "x": [
          "Angola"
         ],
         "xaxis": "x4",
         "y": [
          0.11499999999999999
         ],
         "yaxis": "y4"
        },
        {
         "hovertemplate": "Country=%{x}<br>Decade=1990<br>Women (%)=%{y}<br>Population (thousands)=%{marker.size}<extra></extra>",
         "legendgroup": "Angola",
         "marker": {
          "color": "#EF553B",
          "size": [
           11848.385
          ],
          "sizemode": "area",
          "sizeref": 3085.7029075,
          "symbol": "circle"
         },
         "mode": "markers",
         "name": "Angola",
         "orientation": "v",
         "showlegend": false,
         "type": "scatter",
         "x": [
          "Angola"
         ],
         "xaxis": "x5",
         "y": [
          0.1
         ],
         "yaxis": "y5"
        },
        {
         "hovertemplate": "Country=%{x}<br>Decade=2000<br>Women (%)=%{y}<br>Population (thousands)=%{marker.size}<extra></extra>",
         "legendgroup": "Angola",
         "marker": {
          "color": "#EF553B",
          "size": [
           16395.477
          ],
          "sizemode": "area",
          "sizeref": 3085.7029075,
          "symbol": "circle"
         },
         "mode": "markers",
         "name": "Angola",
         "orientation": "v",
         "showlegend": false,
         "type": "scatter",
         "x": [
          "Angola"
         ],
         "xaxis": "x6",
         "y": [
          0.37
         ],
         "yaxis": "y6"
        },
        {
         "hovertemplate": "Country=%{x}<br>Decade=2010<br>Women (%)=%{y}<br>Population (thousands)=%{marker.size}<extra></extra>",
         "legendgroup": "Angola",
         "marker": {
          "color": "#EF553B",
          "size": [
           23356.247
          ],
          "sizemode": "area",
          "sizeref": 3085.7029075,
          "symbol": "circle"
         },
         "mode": "markers",
         "name": "Angola",
         "orientation": "v",
         "showlegend": false,
         "type": "scatter",
         "x": [
          "Angola"
         ],
         "xaxis": "x",
         "y": [
          0.325
         ],
         "yaxis": "y"
        },
        {
         "hovertemplate": "Country=%{x}<br>Decade=1980<br>Women (%)=%{y}<br>Population (thousands)=%{marker.size}<extra></extra>",
         "legendgroup": "Zimbabwe",
         "marker": {
          "color": "#00cc96",
          "size": [
           7408.63
          ],
          "sizemode": "area",
          "sizeref": 3085.7029075,
          "symbol": "circle"
         },
         "mode": "markers",
         "name": "Zimbabwe",
         "orientation": "v",
         "showlegend": true,
         "type": "scatter",
         "x": [
          "Zimbabwe"
         ],
         "xaxis": "x4",
         "y": [
          0.095
         ],
         "yaxis": "y4"
        },
        {
         "hovertemplate": "Country=%{x}<br>Decade=1990<br>Women (%)=%{y}<br>Population (thousands)=%{marker.size}<extra></extra>",
         "legendgroup": "Zimbabwe",
         "marker": {
          "color": "#00cc96",
          "size": [
           10432.409
          ],
          "sizemode": "area",
          "sizeref": 3085.7029075,
          "symbol": "circle"
         },
         "mode": "markers",
         "name": "Zimbabwe",
         "orientation": "v",
         "showlegend": false,
         "type": "scatter",
         "x": [
          "Zimbabwe"
         ],
         "xaxis": "x5",
         "y": [
          0.135
         ],
         "yaxis": "y5"
        },
        {
         "hovertemplate": "Country=%{x}<br>Decade=2000<br>Women (%)=%{y}<br>Population (thousands)=%{marker.size}<extra></extra>",
         "legendgroup": "Zimbabwe",
         "marker": {
          "color": "#00cc96",
          "size": [
           11881.482
          ],
          "sizemode": "area",
          "sizeref": 3085.7029075,
          "symbol": "circle"
         },
         "mode": "markers",
         "name": "Zimbabwe",
         "orientation": "v",
         "showlegend": false,
         "type": "scatter",
         "x": [
          "Zimbabwe"
         ],
         "xaxis": "x6",
         "y": [
          0.13333333333333333
         ],
         "yaxis": "y6"
        },
        {
         "hovertemplate": "Country=%{x}<br>Decade=2010<br>Women (%)=%{y}<br>Population (thousands)=%{marker.size}<extra></extra>",
         "legendgroup": "Zimbabwe",
         "marker": {
          "color": "#00cc96",
          "size": [
           12697.728
          ],
          "sizemode": "area",
          "sizeref": 3085.7029075,
          "symbol": "circle"
         },
         "mode": "markers",
         "name": "Zimbabwe",
         "orientation": "v",
         "showlegend": false,
         "type": "scatter",
         "x": [
          "Zimbabwe"
         ],
         "xaxis": "x",
         "y": [
          0.31
         ],
         "yaxis": "y"
        },
        {
         "hovertemplate": "Country=%{x}<br>Decade=1980<br>Women (%)=%{y}<br>Population (thousands)=%{marker.size}<extra></extra>",
         "legendgroup": "Liechtenstein",
         "marker": {
          "color": "#ab63fa",
          "size": [
           25.881
          ],
          "sizemode": "area",
          "sizeref": 3085.7029075,
          "symbol": "circle"
         },
         "mode": "markers",
         "name": "Liechtenstein",
         "orientation": "v",
         "showlegend": true,
         "type": "scatter",
         "x": [
          "Liechtenstein"
         ],
         "xaxis": "x4",
         "y": [
          0.05500000000000001
         ],
         "yaxis": "y4"
        },
        {
         "hovertemplate": "Country=%{x}<br>Decade=1990<br>Women (%)=%{y}<br>Population (thousands)=%{marker.size}<extra></extra>",
         "legendgroup": "Liechtenstein",
         "marker": {
          "color": "#ab63fa",
          "size": [
           28.79
          ],
          "sizemode": "area",
          "sizeref": 3085.7029075,
          "symbol": "circle"
         },
         "mode": "markers",
         "name": "Liechtenstein",
         "orientation": "v",
         "showlegend": false,
         "type": "scatter",
         "x": [
          "Liechtenstein"
         ],
         "xaxis": "x5",
         "y": [
          0.05333333333333334
         ],
         "yaxis": "y5"
        },
        {
         "hovertemplate": "Country=%{x}<br>Decade=2000<br>Women (%)=%{y}<br>Population (thousands)=%{marker.size}<extra></extra>",
         "legendgroup": "Liechtenstein",
         "marker": {
          "color": "#ab63fa",
          "size": [
           33.184
          ],
          "sizemode": "area",
          "sizeref": 3085.7029075,
          "symbol": "circle"
         },
         "mode": "markers",
         "name": "Liechtenstein",
         "orientation": "v",
         "showlegend": false,
         "type": "scatter",
         "x": [
          "Liechtenstein"
         ],
         "xaxis": "x6",
         "y": [
          0.19999999999999998
         ],
         "yaxis": "y6"
        },
        {
         "hovertemplate": "Country=%{x}<br>Decade=2010<br>Women (%)=%{y}<br>Population (thousands)=%{marker.size}<extra></extra>",
         "legendgroup": "Liechtenstein",
         "marker": {
          "color": "#ab63fa",
          "size": [
           35.996
          ],
          "sizemode": "area",
          "sizeref": 3085.7029075,
          "symbol": "circle"
         },
         "mode": "markers",
         "name": "Liechtenstein",
         "orientation": "v",
         "showlegend": false,
         "type": "scatter",
         "x": [
          "Liechtenstein"
         ],
         "xaxis": "x",
         "y": [
          0.16
         ],
         "yaxis": "y"
        },
        {
         "hovertemplate": "Country=%{x}<br>Decade=1980<br>Women (%)=%{y}<br>Population (thousands)=%{marker.size}<extra></extra>",
         "legendgroup": "Belize",
         "marker": {
          "color": "#FFA15A",
          "size": [
           144.142
          ],
          "sizemode": "area",
          "sizeref": 3085.7029075,
          "symbol": "circle"
         },
         "mode": "markers",
         "name": "Belize",
         "orientation": "v",
         "showlegend": true,
         "type": "scatter",
         "x": [
          "Belize"
         ],
         "xaxis": "x4",
         "y": [
          0.02
         ],
         "yaxis": "y4"
        },
        {
         "hovertemplate": "Country=%{x}<br>Decade=1990<br>Women (%)=%{y}<br>Population (thousands)=%{marker.size}<extra></extra>",
         "legendgroup": "Belize",
         "marker": {
          "color": "#FFA15A",
          "size": [
           187.554
          ],
          "sizemode": "area",
          "sizeref": 3085.7029075,
          "symbol": "circle"
         },
         "mode": "markers",
         "name": "Belize",
         "orientation": "v",
         "showlegend": false,
         "type": "scatter",
         "x": [
          "Belize"
         ],
         "xaxis": "x5",
         "y": [
          0.05
         ],
         "yaxis": "y5"
        },
        {
         "hovertemplate": "Country=%{x}<br>Decade=2000<br>Women (%)=%{y}<br>Population (thousands)=%{marker.size}<extra></extra>",
         "legendgroup": "Belize",
         "marker": {
          "color": "#FFA15A",
          "size": [
           247.31
          ],
          "sizemode": "area",
          "sizeref": 3085.7029075,
          "symbol": "circle"
         },
         "mode": "markers",
         "name": "Belize",
         "orientation": "v",
         "showlegend": false,
         "type": "scatter",
         "x": [
          "Belize"
         ],
         "xaxis": "x6",
         "y": [
          0.015
         ],
         "yaxis": "y6"
        },
        {
         "hovertemplate": "Country=%{x}<br>Decade=2010<br>Women (%)=%{y}<br>Population (thousands)=%{marker.size}<extra></extra>",
         "legendgroup": "Belize",
         "marker": {
          "color": "#FFA15A",
          "size": [
           322.465
          ],
          "sizemode": "area",
          "sizeref": 3085.7029075,
          "symbol": "circle"
         },
         "mode": "markers",
         "name": "Belize",
         "orientation": "v",
         "showlegend": false,
         "type": "scatter",
         "x": [
          "Belize"
         ],
         "xaxis": "x",
         "y": [
          0.045
         ],
         "yaxis": "y"
        },
        {
         "hovertemplate": "Country=%{x}<br>Decade=1980<br>Women (%)=%{y}<br>Population (thousands)=%{marker.size}<extra></extra>",
         "legendgroup": "Saint Kitts and Nevis",
         "marker": {
          "color": "#19d3f3",
          "size": [
           43.201
          ],
          "sizemode": "area",
          "sizeref": 3085.7029075,
          "symbol": "circle"
         },
         "mode": "markers",
         "name": "Saint Kitts and Nevis",
         "orientation": "v",
         "showlegend": true,
         "type": "scatter",
         "x": [
          "Saint Kitts and Nevis"
         ],
         "xaxis": "x4",
         "y": [
          0.07
         ],
         "yaxis": "y4"
        },
        {
         "hovertemplate": "Country=%{x}<br>Decade=1990<br>Women (%)=%{y}<br>Population (thousands)=%{marker.size}<extra></extra>",
         "legendgroup": "Saint Kitts and Nevis",
         "marker": {
          "color": "#19d3f3",
          "size": [
           40.26
          ],
          "sizemode": "area",
          "sizeref": 3085.7029075,
          "symbol": "circle"
         },
         "mode": "markers",
         "name": "Saint Kitts and Nevis",
         "orientation": "v",
         "showlegend": false,
         "type": "scatter",
         "x": [
          "Saint Kitts and Nevis"
         ],
         "xaxis": "x5",
         "y": [
          0.095
         ],
         "yaxis": "y5"
        },
        {
         "hovertemplate": "Country=%{x}<br>Decade=2000<br>Women (%)=%{y}<br>Population (thousands)=%{marker.size}<extra></extra>",
         "legendgroup": "Saint Kitts and Nevis",
         "marker": {
          "color": "#19d3f3",
          "size": [
           44.083
          ],
          "sizemode": "area",
          "sizeref": 3085.7029075,
          "symbol": "circle"
         },
         "mode": "markers",
         "name": "Saint Kitts and Nevis",
         "orientation": "v",
         "showlegend": false,
         "type": "scatter",
         "x": [
          "Saint Kitts and Nevis"
         ],
         "xaxis": "x6",
         "y": [
          0.065
         ],
         "yaxis": "y6"
        },
        {
         "hovertemplate": "Country=%{x}<br>Decade=2010<br>Women (%)=%{y}<br>Population (thousands)=%{marker.size}<extra></extra>",
         "legendgroup": "Saint Kitts and Nevis",
         "marker": {
          "color": "#19d3f3",
          "size": [
           49.011
          ],
          "sizemode": "area",
          "sizeref": 3085.7029075,
          "symbol": "circle"
         },
         "mode": "markers",
         "name": "Saint Kitts and Nevis",
         "orientation": "v",
         "showlegend": false,
         "type": "scatter",
         "x": [
          "Saint Kitts and Nevis"
         ],
         "xaxis": "x",
         "y": [
          0.1
         ],
         "yaxis": "y"
        },
        {
         "hovertemplate": "Country=%{x}<br>Decade=1980<br>Women (%)=%{y}<br>Population (thousands)=%{marker.size}<extra></extra>",
         "legendgroup": "Namibia",
         "marker": {
          "color": "#FF6692",
          "size": [
           1057.723
          ],
          "sizemode": "area",
          "sizeref": 3085.7029075,
          "symbol": "circle"
         },
         "mode": "markers",
         "name": "Namibia",
         "orientation": "v",
         "showlegend": true,
         "type": "scatter",
         "x": [
          "Namibia"
         ],
         "xaxis": "x4",
         "y": [
          0.06
         ],
         "yaxis": "y4"
        },
        {
         "hovertemplate": "Country=%{x}<br>Decade=1990<br>Women (%)=%{y}<br>Population (thousands)=%{marker.size}<extra></extra>",
         "legendgroup": "Namibia",
         "marker": {
          "color": "#FF6692",
          "size": [
           1432.899
          ],
          "sizemode": "area",
          "sizeref": 3085.7029075,
          "symbol": "circle"
         },
         "mode": "markers",
         "name": "Namibia",
         "orientation": "v",
         "showlegend": false,
         "type": "scatter",
         "x": [
          "Namibia"
         ],
         "xaxis": "x5",
         "y": [
          0.215
         ],
         "yaxis": "y5"
        },
        {
         "hovertemplate": "Country=%{x}<br>Decade=2000<br>Women (%)=%{y}<br>Population (thousands)=%{marker.size}<extra></extra>",
         "legendgroup": "Namibia",
         "marker": {
          "color": "#FF6692",
          "size": [
           1794.583
          ],
          "sizemode": "area",
          "sizeref": 3085.7029075,
          "symbol": "circle"
         },
         "mode": "markers",
         "name": "Namibia",
         "orientation": "v",
         "showlegend": false,
         "type": "scatter",
         "x": [
          "Namibia"
         ],
         "xaxis": "x6",
         "y": [
          0.255
         ],
         "yaxis": "y6"
        },
        {
         "hovertemplate": "Country=%{x}<br>Decade=2010<br>Women (%)=%{y}<br>Population (thousands)=%{marker.size}<extra></extra>",
         "legendgroup": "Namibia",
         "marker": {
          "color": "#FF6692",
          "size": [
           2118.877
          ],
          "sizemode": "area",
          "sizeref": 3085.7029075,
          "symbol": "circle"
         },
         "mode": "markers",
         "name": "Namibia",
         "orientation": "v",
         "showlegend": false,
         "type": "scatter",
         "x": [
          "Namibia"
         ],
         "xaxis": "x",
         "y": [
          0.41
         ],
         "yaxis": "y"
        },
        {
         "hovertemplate": "Country=%{x}<br>Decade=1980<br>Women (%)=%{y}<br>Population (thousands)=%{marker.size}<extra></extra>",
         "legendgroup": "Antigua and Barbuda",
         "marker": {
          "color": "#B6E880",
          "size": [
           61.861
          ],
          "sizemode": "area",
          "sizeref": 3085.7029075,
          "symbol": "circle"
         },
         "mode": "markers",
         "name": "Antigua and Barbuda",
         "orientation": "v",
         "showlegend": true,
         "type": "scatter",
         "x": [
          "Antigua and Barbuda"
         ],
         "xaxis": "x4",
         "y": [
          0
         ],
         "yaxis": "y4"
        },
        {
         "hovertemplate": "Country=%{x}<br>Decade=1990<br>Women (%)=%{y}<br>Population (thousands)=%{marker.size}<extra></extra>",
         "legendgroup": "Antigua and Barbuda",
         "marker": {
          "color": "#B6E880",
          "size": [
           62.533
          ],
          "sizemode": "area",
          "sizeref": 3085.7029075,
          "symbol": "circle"
         },
         "mode": "markers",
         "name": "Antigua and Barbuda",
         "orientation": "v",
         "showlegend": false,
         "type": "scatter",
         "x": [
          "Antigua and Barbuda"
         ],
         "xaxis": "x5",
         "y": [
          0.05
         ],
         "yaxis": "y5"
        },
        {
         "hovertemplate": "Country=%{x}<br>Decade=2000<br>Women (%)=%{y}<br>Population (thousands)=%{marker.size}<extra></extra>",
         "legendgroup": "Antigua and Barbuda",
         "marker": {
          "color": "#B6E880",
          "size": [
           76.007
          ],
          "sizemode": "area",
          "sizeref": 3085.7029075,
          "symbol": "circle"
         },
         "mode": "markers",
         "name": "Antigua and Barbuda",
         "orientation": "v",
         "showlegend": false,
         "type": "scatter",
         "x": [
          "Antigua and Barbuda"
         ],
         "xaxis": "x6",
         "y": [
          0.11
         ],
         "yaxis": "y6"
        },
        {
         "hovertemplate": "Country=%{x}<br>Decade=2010<br>Women (%)=%{y}<br>Population (thousands)=%{marker.size}<extra></extra>",
         "legendgroup": "Antigua and Barbuda",
         "marker": {
          "color": "#B6E880",
          "size": [
           88.03
          ],
          "sizemode": "area",
          "sizeref": 3085.7029075,
          "symbol": "circle"
         },
         "mode": "markers",
         "name": "Antigua and Barbuda",
         "orientation": "v",
         "showlegend": false,
         "type": "scatter",
         "x": [
          "Antigua and Barbuda"
         ],
         "xaxis": "x",
         "y": [
          0.11
         ],
         "yaxis": "y"
        },
        {
         "hovertemplate": "Country=%{x}<br>Decade=1980<br>Women (%)=%{y}<br>Population (thousands)=%{marker.size}<extra></extra>",
         "legendgroup": "Dominica",
         "marker": {
          "color": "#FF97FF",
          "size": [
           75.318
          ],
          "sizemode": "area",
          "sizeref": 3085.7029075,
          "symbol": "circle"
         },
         "mode": "markers",
         "name": "Dominica",
         "orientation": "v",
         "showlegend": true,
         "type": "scatter",
         "x": [
          "Dominica"
         ],
         "xaxis": "x4",
         "y": [
          0.115
         ],
         "yaxis": "y4"
        },
        {
         "hovertemplate": "Country=%{x}<br>Decade=1990<br>Women (%)=%{y}<br>Population (thousands)=%{marker.size}<extra></extra>",
         "legendgroup": "Dominica",
         "marker": {
          "color": "#FF97FF",
          "size": [
           70.422
          ],
          "sizemode": "area",
          "sizeref": 3085.7029075,
          "symbol": "circle"
         },
         "mode": "markers",
         "name": "Dominica",
         "orientation": "v",
         "showlegend": false,
         "type": "scatter",
         "x": [
          "Dominica"
         ],
         "xaxis": "x5",
         "y": [
          0.13
         ],
         "yaxis": "y5"
        },
        {
         "hovertemplate": "Country=%{x}<br>Decade=2000<br>Women (%)=%{y}<br>Population (thousands)=%{marker.size}<extra></extra>",
         "legendgroup": "Dominica",
         "marker": {
          "color": "#FF97FF",
          "size": [
           69.65
          ],
          "sizemode": "area",
          "sizeref": 3085.7029075,
          "symbol": "circle"
         },
         "mode": "markers",
         "name": "Dominica",
         "orientation": "v",
         "showlegend": false,
         "type": "scatter",
         "x": [
          "Dominica"
         ],
         "xaxis": "x6",
         "y": [
          0.14666666666666667
         ],
         "yaxis": "y6"
        },
        {
         "hovertemplate": "Country=%{x}<br>Decade=2010<br>Women (%)=%{y}<br>Population (thousands)=%{marker.size}<extra></extra>",
         "legendgroup": "Dominica",
         "marker": {
          "color": "#FF97FF",
          "size": [
           70.877
          ],
          "sizemode": "area",
          "sizeref": 3085.7029075,
          "symbol": "circle"
         },
         "mode": "markers",
         "name": "Dominica",
         "orientation": "v",
         "showlegend": false,
         "type": "scatter",
         "x": [
          "Dominica"
         ],
         "xaxis": "x",
         "y": [
          0.20500000000000002
         ],
         "yaxis": "y"
        },
        {
         "hovertemplate": "Country=%{x}<br>Decade=1980<br>Women (%)=%{y}<br>Population (thousands)=%{marker.size}<extra></extra>",
         "legendgroup": "Uganda",
         "marker": {
          "color": "#FECB52",
          "size": [
           12442.333
          ],
          "sizemode": "area",
          "sizeref": 3085.7029075,
          "symbol": "circle"
         },
         "mode": "markers",
         "name": "Uganda",
         "orientation": "v",
         "showlegend": true,
         "type": "scatter",
         "x": [
          "Uganda"
         ],
         "xaxis": "x4",
         "y": [
          0.065
         ],
         "yaxis": "y4"
        },
        {
         "hovertemplate": "Country=%{x}<br>Decade=1990<br>Women (%)=%{y}<br>Population (thousands)=%{marker.size}<extra></extra>",
         "legendgroup": "Uganda",
         "marker": {
          "color": "#FECB52",
          "size": [
           17354.395
          ],
          "sizemode": "area",
          "sizeref": 3085.7029075,
          "symbol": "circle"
         },
         "mode": "markers",
         "name": "Uganda",
         "orientation": "v",
         "showlegend": false,
         "type": "scatter",
         "x": [
          "Uganda"
         ],
         "xaxis": "x5",
         "y": [
          0.185
         ],
         "yaxis": "y5"
        },
        {
         "hovertemplate": "Country=%{x}<br>Decade=2000<br>Women (%)=%{y}<br>Population (thousands)=%{marker.size}<extra></extra>",
         "legendgroup": "Uganda",
         "marker": {
          "color": "#FECB52",
          "size": [
           23650.159
          ],
          "sizemode": "area",
          "sizeref": 3085.7029075,
          "symbol": "circle"
         },
         "mode": "markers",
         "name": "Uganda",
         "orientation": "v",
         "showlegend": false,
         "type": "scatter",
         "x": [
          "Uganda"
         ],
         "xaxis": "x6",
         "y": [
          0.265
         ],
         "yaxis": "y6"
        },
        {
         "hovertemplate": "Country=%{x}<br>Decade=2010<br>Women (%)=%{y}<br>Population (thousands)=%{marker.size}<extra></extra>",
         "legendgroup": "Uganda",
         "marker": {
          "color": "#FECB52",
          "size": [
           32428.164
          ],
          "sizemode": "area",
          "sizeref": 3085.7029075,
          "symbol": "circle"
         },
         "mode": "markers",
         "name": "Uganda",
         "orientation": "v",
         "showlegend": false,
         "type": "scatter",
         "x": [
          "Uganda"
         ],
         "xaxis": "x",
         "y": [
          0.12
         ],
         "yaxis": "y"
        },
        {
         "hovertemplate": "Country=%{x}<br>Decade=1990<br>Women (%)=%{y}<br>Population (thousands)=%{marker.size}<extra></extra>",
         "legendgroup": "Eritrea",
         "marker": {
          "color": "#636efa",
          "size": [
           2258.649
          ],
          "sizemode": "area",
          "sizeref": 3085.7029075,
          "symbol": "circle"
         },
         "mode": "markers",
         "name": "Eritrea",
         "orientation": "v",
         "showlegend": true,
         "type": "scatter",
         "x": [
          "Eritrea"
         ],
         "xaxis": "x5",
         "y": [
          0.21
         ],
         "yaxis": "y5"
        },
        {
         "hovertemplate": "Country=%{x}<br>Decade=1990<br>Women (%)=%{y}<br>Population (thousands)=%{marker.size}<extra></extra>",
         "legendgroup": "Ukraine",
         "marker": {
          "color": "#EF553B",
          "size": [
           51463.101
          ],
          "sizemode": "area",
          "sizeref": 3085.7029075,
          "symbol": "circle"
         },
         "mode": "markers",
         "name": "Ukraine",
         "orientation": "v",
         "showlegend": true,
         "type": "scatter",
         "x": [
          "Ukraine"
         ],
         "xaxis": "x5",
         "y": [
          0.04666666666666667
         ],
         "yaxis": "y5"
        },
        {
         "hovertemplate": "Country=%{x}<br>Decade=2000<br>Women (%)=%{y}<br>Population (thousands)=%{marker.size}<extra></extra>",
         "legendgroup": "Ukraine",
         "marker": {
          "color": "#EF553B",
          "size": [
           48838.058
          ],
          "sizemode": "area",
          "sizeref": 3085.7029075,
          "symbol": "circle"
         },
         "mode": "markers",
         "name": "Ukraine",
         "orientation": "v",
         "showlegend": false,
         "type": "scatter",
         "x": [
          "Ukraine"
         ],
         "xaxis": "x6",
         "y": [
          0.07
         ],
         "yaxis": "y6"
        },
        {
         "hovertemplate": "Country=%{x}<br>Decade=2010<br>Women (%)=%{y}<br>Population (thousands)=%{marker.size}<extra></extra>",
         "legendgroup": "Ukraine",
         "marker": {
          "color": "#EF553B",
          "size": [
           45792.086
          ],
          "sizemode": "area",
          "sizeref": 3085.7029075,
          "symbol": "circle"
         },
         "mode": "markers",
         "name": "Ukraine",
         "orientation": "v",
         "showlegend": false,
         "type": "scatter",
         "x": [
          "Ukraine"
         ],
         "xaxis": "x",
         "y": [
          0.105
         ],
         "yaxis": "y"
        },
        {
         "hovertemplate": "Country=%{x}<br>Decade=1990<br>Women (%)=%{y}<br>Population (thousands)=%{marker.size}<extra></extra>",
         "legendgroup": "Palau",
         "marker": {
          "color": "#00cc96",
          "size": [
           15.063
          ],
          "sizemode": "area",
          "sizeref": 3085.7029075,
          "symbol": "circle"
         },
         "mode": "markers",
         "name": "Palau",
         "orientation": "v",
         "showlegend": true,
         "type": "scatter",
         "x": [
          "Palau"
         ],
         "xaxis": "x5",
         "y": [
          0
         ],
         "yaxis": "y5"
        },
        {
         "hovertemplate": "Country=%{x}<br>Decade=2000<br>Women (%)=%{y}<br>Population (thousands)=%{marker.size}<extra></extra>",
         "legendgroup": "Palau",
         "marker": {
          "color": "#00cc96",
          "size": [
           19.104
          ],
          "sizemode": "area",
          "sizeref": 3085.7029075,
          "symbol": "circle"
         },
         "mode": "markers",
         "name": "Palau",
         "orientation": "v",
         "showlegend": false,
         "type": "scatter",
         "x": [
          "Palau"
         ],
         "xaxis": "x6",
         "y": [
          0.049999999999999996
         ],
         "yaxis": "y6"
        },
        {
         "hovertemplate": "Country=%{x}<br>Decade=2010<br>Women (%)=%{y}<br>Population (thousands)=%{marker.size}<extra></extra>",
         "legendgroup": "Palau",
         "marker": {
          "color": "#00cc96",
          "size": [
           17.954
          ],
          "sizemode": "area",
          "sizeref": 3085.7029075,
          "symbol": "circle"
         },
         "mode": "markers",
         "name": "Palau",
         "orientation": "v",
         "showlegend": false,
         "type": "scatter",
         "x": [
          "Palau"
         ],
         "xaxis": "x",
         "y": [
          0.04
         ],
         "yaxis": "y"
        },
        {
         "hovertemplate": "Country=%{x}<br>Decade=1990<br>Women (%)=%{y}<br>Population (thousands)=%{marker.size}<extra></extra>",
         "legendgroup": "Tajikistan",
         "marker": {
          "color": "#ab63fa",
          "size": [
           5283.811
          ],
          "sizemode": "area",
          "sizeref": 3085.7029075,
          "symbol": "circle"
         },
         "mode": "markers",
         "name": "Tajikistan",
         "orientation": "v",
         "showlegend": true,
         "type": "scatter",
         "x": [
          "Tajikistan"
         ],
         "xaxis": "x5",
         "y": [
          0.03
         ],
         "yaxis": "y5"
        },
        {
         "hovertemplate": "Country=%{x}<br>Decade=2000<br>Women (%)=%{y}<br>Population (thousands)=%{marker.size}<extra></extra>",
         "legendgroup": "Tajikistan",
         "marker": {
          "color": "#ab63fa",
          "size": [
           6216.329
          ],
          "sizemode": "area",
          "sizeref": 3085.7029075,
          "symbol": "circle"
         },
         "mode": "markers",
         "name": "Tajikistan",
         "orientation": "v",
         "showlegend": false,
         "type": "scatter",
         "x": [
          "Tajikistan"
         ],
         "xaxis": "x6",
         "y": [
          0.11666666666666665
         ],
         "yaxis": "y6"
        },
        {
         "hovertemplate": "Country=%{x}<br>Decade=2010<br>Women (%)=%{y}<br>Population (thousands)=%{marker.size}<extra></extra>",
         "legendgroup": "Tajikistan",
         "marker": {
          "color": "#ab63fa",
          "size": [
           7527.397
          ],
          "sizemode": "area",
          "sizeref": 3085.7029075,
          "symbol": "circle"
         },
         "mode": "markers",
         "name": "Tajikistan",
         "orientation": "v",
         "showlegend": false,
         "type": "scatter",
         "x": [
          "Tajikistan"
         ],
         "xaxis": "x",
         "y": [
          0.19
         ],
         "yaxis": "y"
        },
        {
         "hovertemplate": "Country=%{x}<br>Decade=1990<br>Women (%)=%{y}<br>Population (thousands)=%{marker.size}<extra></extra>",
         "legendgroup": "Bosnia and Herzegovina",
         "marker": {
          "color": "#FFA15A",
          "size": [
           4463.422
          ],
          "sizemode": "area",
          "sizeref": 3085.7029075,
          "symbol": "circle"
         },
         "mode": "markers",
         "name": "Bosnia and Herzegovina",
         "orientation": "v",
         "showlegend": true,
         "type": "scatter",
         "x": [
          "Bosnia and Herzegovina"
         ],
         "xaxis": "x5",
         "y": [
          0.16499999999999998
         ],
         "yaxis": "y5"
        },
        {
         "hovertemplate": "Country=%{x}<br>Decade=2000<br>Women (%)=%{y}<br>Population (thousands)=%{marker.size}<extra></extra>",
         "legendgroup": "Bosnia and Herzegovina",
         "marker": {
          "color": "#FFA15A",
          "size": [
           3751.176
          ],
          "sizemode": "area",
          "sizeref": 3085.7029075,
          "symbol": "circle"
         },
         "mode": "markers",
         "name": "Bosnia and Herzegovina",
         "orientation": "v",
         "showlegend": false,
         "type": "scatter",
         "x": [
          "Bosnia and Herzegovina"
         ],
         "xaxis": "x6",
         "y": [
          0.12666666666666668
         ],
         "yaxis": "y6"
        },
        {
         "hovertemplate": "Country=%{x}<br>Decade=2010<br>Women (%)=%{y}<br>Population (thousands)=%{marker.size}<extra></extra>",
         "legendgroup": "Bosnia and Herzegovina",
         "marker": {
          "color": "#FFA15A",
          "size": [
           3705.478
          ],
          "sizemode": "area",
          "sizeref": 3085.7029075,
          "symbol": "circle"
         },
         "mode": "markers",
         "name": "Bosnia and Herzegovina",
         "orientation": "v",
         "showlegend": false,
         "type": "scatter",
         "x": [
          "Bosnia and Herzegovina"
         ],
         "xaxis": "x",
         "y": [
          0.19666666666666666
         ],
         "yaxis": "y"
        },
        {
         "hovertemplate": "Country=%{x}<br>Decade=1990<br>Women (%)=%{y}<br>Population (thousands)=%{marker.size}<extra></extra>",
         "legendgroup": "Estonia",
         "marker": {
          "color": "#19d3f3",
          "size": [
           1565.246
          ],
          "sizemode": "area",
          "sizeref": 3085.7029075,
          "symbol": "circle"
         },
         "mode": "markers",
         "name": "Estonia",
         "orientation": "v",
         "showlegend": true,
         "type": "scatter",
         "x": [
          "Estonia"
         ],
         "xaxis": "x5",
         "y": [
          0.1275
         ],
         "yaxis": "y5"
        },
        {
         "hovertemplate": "Country=%{x}<br>Decade=2000<br>Women (%)=%{y}<br>Population (thousands)=%{marker.size}<extra></extra>",
         "legendgroup": "Estonia",
         "marker": {
          "color": "#19d3f3",
          "size": [
           1399.111
          ],
          "sizemode": "area",
          "sizeref": 3085.7029075,
          "symbol": "circle"
         },
         "mode": "markers",
         "name": "Estonia",
         "orientation": "v",
         "showlegend": false,
         "type": "scatter",
         "x": [
          "Estonia"
         ],
         "xaxis": "x6",
         "y": [
          0.215
         ],
         "yaxis": "y6"
        },
        {
         "hovertemplate": "Country=%{x}<br>Decade=2010<br>Women (%)=%{y}<br>Population (thousands)=%{marker.size}<extra></extra>",
         "legendgroup": "Estonia",
         "marker": {
          "color": "#19d3f3",
          "size": [
           1332.103
          ],
          "sizemode": "area",
          "sizeref": 3085.7029075,
          "symbol": "circle"
         },
         "mode": "markers",
         "name": "Estonia",
         "orientation": "v",
         "showlegend": false,
         "type": "scatter",
         "x": [
          "Estonia"
         ],
         "xaxis": "x",
         "y": [
          0.22
         ],
         "yaxis": "y"
        },
        {
         "hovertemplate": "Country=%{x}<br>Decade=1990<br>Women (%)=%{y}<br>Population (thousands)=%{marker.size}<extra></extra>",
         "legendgroup": "Uzbekistan",
         "marker": {
          "color": "#FF6692",
          "size": [
           20398.347
          ],
          "sizemode": "area",
          "sizeref": 3085.7029075,
          "symbol": "circle"
         },
         "mode": "markers",
         "name": "Uzbekistan",
         "orientation": "v",
         "showlegend": true,
         "type": "scatter",
         "x": [
          "Uzbekistan"
         ],
         "xaxis": "x5",
         "y": [
          0.07666666666666667
         ],
         "yaxis": "y5"
        },
        {
         "hovertemplate": "Country=%{x}<br>Decade=2000<br>Women (%)=%{y}<br>Population (thousands)=%{marker.size}<extra></extra>",
         "legendgroup": "Uzbekistan",
         "marker": {
          "color": "#FF6692",
          "size": [
           24769.955
          ],
          "sizemode": "area",
          "sizeref": 3085.7029075,
          "symbol": "circle"
         },
         "mode": "markers",
         "name": "Uzbekistan",
         "orientation": "v",
         "showlegend": false,
         "type": "scatter",
         "x": [
          "Uzbekistan"
         ],
         "xaxis": "x6",
         "y": [
          0.2
         ],
         "yaxis": "y6"
        },
        {
         "hovertemplate": "Country=%{x}<br>Decade=2010<br>Women (%)=%{y}<br>Population (thousands)=%{marker.size}<extra></extra>",
         "legendgroup": "Uzbekistan",
         "marker": {
          "color": "#FF6692",
          "size": [
           28515.908
          ],
          "sizemode": "area",
          "sizeref": 3085.7029075,
          "symbol": "circle"
         },
         "mode": "markers",
         "name": "Uzbekistan",
         "orientation": "v",
         "showlegend": false,
         "type": "scatter",
         "x": [
          "Uzbekistan"
         ],
         "xaxis": "x",
         "y": [
          0.16
         ],
         "yaxis": "y"
        },
        {
         "hovertemplate": "Country=%{x}<br>Decade=1990<br>Women (%)=%{y}<br>Population (thousands)=%{marker.size}<extra></extra>",
         "legendgroup": "Nigeria",
         "marker": {
          "color": "#B6E880",
          "size": [
           95212.454
          ],
          "sizemode": "area",
          "sizeref": 3085.7029075,
          "symbol": "circle"
         },
         "mode": "markers",
         "name": "Nigeria",
         "orientation": "v",
         "showlegend": true,
         "type": "scatter",
         "x": [
          "Nigeria"
         ],
         "xaxis": "x5",
         "y": [
          0.025
         ],
         "yaxis": "y5"
        },
        {
         "hovertemplate": "Country=%{x}<br>Decade=2000<br>Women (%)=%{y}<br>Population (thousands)=%{marker.size}<extra></extra>",
         "legendgroup": "Nigeria",
         "marker": {
          "color": "#B6E880",
          "size": [
           122283.853
          ],
          "sizemode": "area",
          "sizeref": 3085.7029075,
          "symbol": "circle"
         },
         "mode": "markers",
         "name": "Nigeria",
         "orientation": "v",
         "showlegend": false,
         "type": "scatter",
         "x": [
          "Nigeria"
         ],
         "xaxis": "x6",
         "y": [
          0.060000000000000005
         ],
         "yaxis": "y6"
        },
        {
         "hovertemplate": "Country=%{x}<br>Decade=2010<br>Women (%)=%{y}<br>Population (thousands)=%{marker.size}<extra></extra>",
         "legendgroup": "Nigeria",
         "marker": {
          "color": "#B6E880",
          "size": [
           158503.203
          ],
          "sizemode": "area",
          "sizeref": 3085.7029075,
          "symbol": "circle"
         },
         "mode": "markers",
         "name": "Nigeria",
         "orientation": "v",
         "showlegend": false,
         "type": "scatter",
         "x": [
          "Nigeria"
         ],
         "xaxis": "x",
         "y": [
          0.04666666666666667
         ],
         "yaxis": "y"
        },
        {
         "hovertemplate": "Country=%{x}<br>Decade=1990<br>Women (%)=%{y}<br>Population (thousands)=%{marker.size}<extra></extra>",
         "legendgroup": "Turkmenistan",
         "marker": {
          "color": "#FF97FF",
          "size": [
           3683.978
          ],
          "sizemode": "area",
          "sizeref": 3085.7029075,
          "symbol": "circle"
         },
         "mode": "markers",
         "name": "Turkmenistan",
         "orientation": "v",
         "showlegend": true,
         "type": "scatter",
         "x": [
          "Turkmenistan"
         ],
         "xaxis": "x5",
         "y": [
          0.16333333333333333
         ],
         "yaxis": "y5"
        },
        {
         "hovertemplate": "Country=%{x}<br>Decade=2000<br>Women (%)=%{y}<br>Population (thousands)=%{marker.size}<extra></extra>",
         "legendgroup": "Turkmenistan",
         "marker": {
          "color": "#FF97FF",
          "size": [
           4516.128
          ],
          "sizemode": "area",
          "sizeref": 3085.7029075,
          "symbol": "circle"
         },
         "mode": "markers",
         "name": "Turkmenistan",
         "orientation": "v",
         "showlegend": false,
         "type": "scatter",
         "x": [
          "Turkmenistan"
         ],
         "xaxis": "x6",
         "y": [
          0.16
         ],
         "yaxis": "y6"
        },
        {
         "hovertemplate": "Country=%{x}<br>Decade=2010<br>Women (%)=%{y}<br>Population (thousands)=%{marker.size}<extra></extra>",
         "legendgroup": "Turkmenistan",
         "marker": {
          "color": "#FF97FF",
          "size": [
           5087.211
          ],
          "sizemode": "area",
          "sizeref": 3085.7029075,
          "symbol": "circle"
         },
         "mode": "markers",
         "name": "Turkmenistan",
         "orientation": "v",
         "showlegend": false,
         "type": "scatter",
         "x": [
          "Turkmenistan"
         ],
         "xaxis": "x",
         "y": [
          0.21000000000000002
         ],
         "yaxis": "y"
        },
        {
         "hovertemplate": "Country=%{x}<br>Decade=1990<br>Women (%)=%{y}<br>Population (thousands)=%{marker.size}<extra></extra>",
         "legendgroup": "Slovakia",
         "marker": {
          "color": "#FECB52",
          "size": [
           5288.455
          ],
          "sizemode": "area",
          "sizeref": 3085.7029075,
          "symbol": "circle"
         },
         "mode": "markers",
         "name": "Slovakia",
         "orientation": "v",
         "showlegend": true,
         "type": "scatter",
         "x": [
          "Slovakia"
         ],
         "xaxis": "x5",
         "y": [
          0.15333333333333332
         ],
         "yaxis": "y5"
        },
        {
         "hovertemplate": "Country=%{x}<br>Decade=2000<br>Women (%)=%{y}<br>Population (thousands)=%{marker.size}<extra></extra>",
         "legendgroup": "Slovakia",
         "marker": {
          "color": "#FECB52",
          "size": [
           5399.207
          ],
          "sizemode": "area",
          "sizeref": 3085.7029075,
          "symbol": "circle"
         },
         "mode": "markers",
         "name": "Slovakia",
         "orientation": "v",
         "showlegend": false,
         "type": "scatter",
         "x": [
          "Slovakia"
         ],
         "xaxis": "x6",
         "y": [
          0.17333333333333334
         ],
         "yaxis": "y6"
        },
        {
         "hovertemplate": "Country=%{x}<br>Decade=2010<br>Women (%)=%{y}<br>Population (thousands)=%{marker.size}<extra></extra>",
         "legendgroup": "Slovakia",
         "marker": {
          "color": "#FECB52",
          "size": [
           5404.293
          ],
          "sizemode": "area",
          "sizeref": 3085.7029075,
          "symbol": "circle"
         },
         "mode": "markers",
         "name": "Slovakia",
         "orientation": "v",
         "showlegend": false,
         "type": "scatter",
         "x": [
          "Slovakia"
         ],
         "xaxis": "x",
         "y": [
          0.1775
         ],
         "yaxis": "y"
        },
        {
         "hovertemplate": "Country=%{x}<br>Decade=1990<br>Women (%)=%{y}<br>Population (thousands)=%{marker.size}<extra></extra>",
         "legendgroup": "Slovenia",
         "marker": {
          "color": "#636efa",
          "size": [
           2006.404
          ],
          "sizemode": "area",
          "sizeref": 3085.7029075,
          "symbol": "circle"
         },
         "mode": "markers",
         "name": "Slovenia",
         "orientation": "v",
         "showlegend": true,
         "type": "scatter",
         "x": [
          "Slovenia"
         ],
         "xaxis": "x5",
         "y": [
          0.11000000000000001
         ],
         "yaxis": "y5"
        },
        {
         "hovertemplate": "Country=%{x}<br>Decade=2000<br>Women (%)=%{y}<br>Population (thousands)=%{marker.size}<extra></extra>",
         "legendgroup": "Slovenia",
         "marker": {
          "color": "#636efa",
          "size": [
           1987.71
          ],
          "sizemode": "area",
          "sizeref": 3085.7029075,
          "symbol": "circle"
         },
         "mode": "markers",
         "name": "Slovenia",
         "orientation": "v",
         "showlegend": false,
         "type": "scatter",
         "x": [
          "Slovenia"
         ],
         "xaxis": "x6",
         "y": [
          0.1175
         ],
         "yaxis": "y6"
        },
        {
         "hovertemplate": "Country=%{x}<br>Decade=2010<br>Women (%)=%{y}<br>Population (thousands)=%{marker.size}<extra></extra>",
         "legendgroup": "Slovenia",
         "marker": {
          "color": "#636efa",
          "size": [
           2043.336
          ],
          "sizemode": "area",
          "sizeref": 3085.7029075,
          "symbol": "circle"
         },
         "mode": "markers",
         "name": "Slovenia",
         "orientation": "v",
         "showlegend": false,
         "type": "scatter",
         "x": [
          "Slovenia"
         ],
         "xaxis": "x",
         "y": [
          0.30666666666666664
         ],
         "yaxis": "y"
        },
        {
         "hovertemplate": "Country=%{x}<br>Decade=1990<br>Women (%)=%{y}<br>Population (thousands)=%{marker.size}<extra></extra>",
         "legendgroup": "Germany",
         "marker": {
          "color": "#EF553B",
          "size": [
           79053.984
          ],
          "sizemode": "area",
          "sizeref": 3085.7029075,
          "symbol": "circle"
         },
         "mode": "markers",
         "name": "Germany",
         "orientation": "v",
         "showlegend": true,
         "type": "scatter",
         "x": [
          "Germany"
         ],
         "xaxis": "x5",
         "y": [
          0.26
         ],
         "yaxis": "y5"
        },
        {
         "hovertemplate": "Country=%{x}<br>Decade=2000<br>Women (%)=%{y}<br>Population (thousands)=%{marker.size}<extra></extra>",
         "legendgroup": "Germany",
         "marker": {
          "color": "#EF553B",
          "size": [
           81400.883
          ],
          "sizemode": "area",
          "sizeref": 3085.7029075,
          "symbol": "circle"
         },
         "mode": "markers",
         "name": "Germany",
         "orientation": "v",
         "showlegend": false,
         "type": "scatter",
         "x": [
          "Germany"
         ],
         "xaxis": "x6",
         "y": [
          0.3233333333333333
         ],
         "yaxis": "y6"
        },
        {
         "hovertemplate": "Country=%{x}<br>Decade=2010<br>Women (%)=%{y}<br>Population (thousands)=%{marker.size}<extra></extra>",
         "legendgroup": "Germany",
         "marker": {
          "color": "#EF553B",
          "size": [
           80827.001
          ],
          "sizemode": "area",
          "sizeref": 3085.7029075,
          "symbol": "circle"
         },
         "mode": "markers",
         "name": "Germany",
         "orientation": "v",
         "showlegend": false,
         "type": "scatter",
         "x": [
          "Germany"
         ],
         "xaxis": "x",
         "y": [
          0.33
         ],
         "yaxis": "y"
        },
        {
         "hovertemplate": "Country=%{x}<br>Decade=1990<br>Women (%)=%{y}<br>Population (thousands)=%{marker.size}<extra></extra>",
         "legendgroup": "Andorra",
         "marker": {
          "color": "#00cc96",
          "size": [
           54.508
          ],
          "sizemode": "area",
          "sizeref": 3085.7029075,
          "symbol": "circle"
         },
         "mode": "markers",
         "name": "Andorra",
         "orientation": "v",
         "showlegend": true,
         "type": "scatter",
         "x": [
          "Andorra"
         ],
         "xaxis": "x5",
         "y": [
          0.04
         ],
         "yaxis": "y5"
        },
        {
         "hovertemplate": "Country=%{x}<br>Decade=2000<br>Women (%)=%{y}<br>Population (thousands)=%{marker.size}<extra></extra>",
         "legendgroup": "Andorra",
         "marker": {
          "color": "#00cc96",
          "size": [
           65.39
          ],
          "sizemode": "area",
          "sizeref": 3085.7029075,
          "symbol": "circle"
         },
         "mode": "markers",
         "name": "Andorra",
         "orientation": "v",
         "showlegend": false,
         "type": "scatter",
         "x": [
          "Andorra"
         ],
         "xaxis": "x6",
         "y": [
          0.242
         ],
         "yaxis": "y6"
        },
        {
         "hovertemplate": "Country=%{x}<br>Decade=2010<br>Women (%)=%{y}<br>Population (thousands)=%{marker.size}<extra></extra>",
         "legendgroup": "Andorra",
         "marker": {
          "color": "#00cc96",
          "size": [
           84.454
          ],
          "sizemode": "area",
          "sizeref": 3085.7029075,
          "symbol": "circle"
         },
         "mode": "markers",
         "name": "Andorra",
         "orientation": "v",
         "showlegend": false,
         "type": "scatter",
         "x": [
          "Andorra"
         ],
         "xaxis": "x",
         "y": [
          0.47666666666666674
         ],
         "yaxis": "y"
        },
        {
         "hovertemplate": "Country=%{x}<br>Decade=1990<br>Women (%)=%{y}<br>Population (thousands)=%{marker.size}<extra></extra>",
         "legendgroup": "Georgia",
         "marker": {
          "color": "#ab63fa",
          "size": [
           5410.4
          ],
          "sizemode": "area",
          "sizeref": 3085.7029075,
          "symbol": "circle"
         },
         "mode": "markers",
         "name": "Georgia",
         "orientation": "v",
         "showlegend": true,
         "type": "scatter",
         "x": [
          "Georgia"
         ],
         "xaxis": "x5",
         "y": [
          0.0675
         ],
         "yaxis": "y5"
        },
        {
         "hovertemplate": "Country=%{x}<br>Decade=2000<br>Women (%)=%{y}<br>Population (thousands)=%{marker.size}<extra></extra>",
         "legendgroup": "Georgia",
         "marker": {
          "color": "#ab63fa",
          "size": [
           4362.184
          ],
          "sizemode": "area",
          "sizeref": 3085.7029075,
          "symbol": "circle"
         },
         "mode": "markers",
         "name": "Georgia",
         "orientation": "v",
         "showlegend": false,
         "type": "scatter",
         "x": [
          "Georgia"
         ],
         "xaxis": "x6",
         "y": [
          0.07333333333333333
         ],
         "yaxis": "y6"
        },
        {
         "hovertemplate": "Country=%{x}<br>Decade=2010<br>Women (%)=%{y}<br>Population (thousands)=%{marker.size}<extra></extra>",
         "legendgroup": "Georgia",
         "marker": {
          "color": "#ab63fa",
          "size": [
           4099.096
          ],
          "sizemode": "area",
          "sizeref": 3085.7029075,
          "symbol": "circle"
         },
         "mode": "markers",
         "name": "Georgia",
         "orientation": "v",
         "showlegend": false,
         "type": "scatter",
         "x": [
          "Georgia"
         ],
         "xaxis": "x",
         "y": [
          0.13
         ],
         "yaxis": "y"
        },
        {
         "hovertemplate": "Country=%{x}<br>Decade=1990<br>Women (%)=%{y}<br>Population (thousands)=%{marker.size}<extra></extra>",
         "legendgroup": "Belarus",
         "marker": {
          "color": "#FFA15A",
          "size": [
           10151.135
          ],
          "sizemode": "area",
          "sizeref": 3085.7029075,
          "symbol": "circle"
         },
         "mode": "markers",
         "name": "Belarus",
         "orientation": "v",
         "showlegend": true,
         "type": "scatter",
         "x": [
          "Belarus"
         ],
         "xaxis": "x5",
         "y": [
          0.045
         ],
         "yaxis": "y5"
        },
        {
         "hovertemplate": "Country=%{x}<br>Decade=2000<br>Women (%)=%{y}<br>Population (thousands)=%{marker.size}<extra></extra>",
         "legendgroup": "Belarus",
         "marker": {
          "color": "#FFA15A",
          "size": [
           9871.635
          ],
          "sizemode": "area",
          "sizeref": 3085.7029075,
          "symbol": "circle"
         },
         "mode": "markers",
         "name": "Belarus",
         "orientation": "v",
         "showlegend": false,
         "type": "scatter",
         "x": [
          "Belarus"
         ],
         "xaxis": "x6",
         "y": [
          0.25
         ],
         "yaxis": "y6"
        },
        {
         "hovertemplate": "Country=%{x}<br>Decade=2010<br>Women (%)=%{y}<br>Population (thousands)=%{marker.size}<extra></extra>",
         "legendgroup": "Belarus",
         "marker": {
          "color": "#FFA15A",
          "size": [
           9420.576
          ],
          "sizemode": "area",
          "sizeref": 3085.7029075,
          "symbol": "circle"
         },
         "mode": "markers",
         "name": "Belarus",
         "orientation": "v",
         "showlegend": false,
         "type": "scatter",
         "x": [
          "Belarus"
         ],
         "xaxis": "x",
         "y": [
          0.265
         ],
         "yaxis": "y"
        },
        {
         "hovertemplate": "Country=%{x}<br>Decade=1990<br>Women (%)=%{y}<br>Population (thousands)=%{marker.size}<extra></extra>",
         "legendgroup": "Yemen",
         "marker": {
          "color": "#19d3f3",
          "size": [
           11709.987
          ],
          "sizemode": "area",
          "sizeref": 3085.7029075,
          "symbol": "circle"
         },
         "mode": "markers",
         "name": "Yemen",
         "orientation": "v",
         "showlegend": true,
         "type": "scatter",
         "x": [
          "Yemen"
         ],
         "xaxis": "x5",
         "y": [
          0.016666666666666666
         ],
         "yaxis": "y5"
        },
        {
         "hovertemplate": "Country=%{x}<br>Decade=2000<br>Women (%)=%{y}<br>Population (thousands)=%{marker.size}<extra></extra>",
         "legendgroup": "Yemen",
         "marker": {
          "color": "#19d3f3",
          "size": [
           17409.071
          ],
          "sizemode": "area",
          "sizeref": 3085.7029075,
          "symbol": "circle"
         },
         "mode": "markers",
         "name": "Yemen",
         "orientation": "v",
         "showlegend": false,
         "type": "scatter",
         "x": [
          "Yemen"
         ],
         "xaxis": "x6",
         "y": [
          0
         ],
         "yaxis": "y6"
        },
        {
         "hovertemplate": "Country=%{x}<br>Decade=1990<br>Women (%)=%{y}<br>Population (thousands)=%{marker.size}<extra></extra>",
         "legendgroup": "Republic of Moldova",
         "marker": {
          "color": "#FF6692",
          "size": [
           4365.562
          ],
          "sizemode": "area",
          "sizeref": 3085.7029075,
          "symbol": "circle"
         },
         "mode": "markers",
         "name": "Republic of Moldova",
         "orientation": "v",
         "showlegend": true,
         "type": "scatter",
         "x": [
          "Republic of Moldova"
         ],
         "xaxis": "x5",
         "y": [
          0.05000000000000001
         ],
         "yaxis": "y5"
        },
        {
         "hovertemplate": "Country=%{x}<br>Decade=2000<br>Women (%)=%{y}<br>Population (thousands)=%{marker.size}<extra></extra>",
         "legendgroup": "Republic of Moldova",
         "marker": {
          "color": "#FF6692",
          "size": [
           4202.659
          ],
          "sizemode": "area",
          "sizeref": 3085.7029075,
          "symbol": "circle"
         },
         "mode": "markers",
         "name": "Republic of Moldova",
         "orientation": "v",
         "showlegend": false,
         "type": "scatter",
         "x": [
          "Republic of Moldova"
         ],
         "xaxis": "x6",
         "y": [
          0.21799999999999997
         ],
         "yaxis": "y6"
        },
        {
         "hovertemplate": "Country=%{x}<br>Decade=2010<br>Women (%)=%{y}<br>Population (thousands)=%{marker.size}<extra></extra>",
         "legendgroup": "Republic of Moldova",
         "marker": {
          "color": "#FF6692",
          "size": [
           4086.09
          ],
          "sizemode": "area",
          "sizeref": 3085.7029075,
          "symbol": "circle"
         },
         "mode": "markers",
         "name": "Republic of Moldova",
         "orientation": "v",
         "showlegend": false,
         "type": "scatter",
         "x": [
          "Republic of Moldova"
         ],
         "xaxis": "x",
         "y": [
          0.185
         ],
         "yaxis": "y"
        },
        {
         "hovertemplate": "Country=%{x}<br>Decade=1990<br>Women (%)=%{y}<br>Population (thousands)=%{marker.size}<extra></extra>",
         "legendgroup": "Armenia",
         "marker": {
          "color": "#B6E880",
          "size": [
           3538.164
          ],
          "sizemode": "area",
          "sizeref": 3085.7029075,
          "symbol": "circle"
         },
         "mode": "markers",
         "name": "Armenia",
         "orientation": "v",
         "showlegend": true,
         "type": "scatter",
         "x": [
          "Armenia"
         ],
         "xaxis": "x5",
         "y": [
          0.043333333333333335
         ],
         "yaxis": "y5"
        },
        {
         "hovertemplate": "Country=%{x}<br>Decade=2000<br>Women (%)=%{y}<br>Population (thousands)=%{marker.size}<extra></extra>",
         "legendgroup": "Armenia",
         "marker": {
          "color": "#B6E880",
          "size": [
           3069.597
          ],
          "sizemode": "area",
          "sizeref": 3085.7029075,
          "symbol": "circle"
         },
         "mode": "markers",
         "name": "Armenia",
         "orientation": "v",
         "showlegend": false,
         "type": "scatter",
         "x": [
          "Armenia"
         ],
         "xaxis": "x6",
         "y": [
          0.07666666666666666
         ],
         "yaxis": "y6"
        },
        {
         "hovertemplate": "Country=%{x}<br>Decade=2010<br>Women (%)=%{y}<br>Population (thousands)=%{marker.size}<extra></extra>",
         "legendgroup": "Armenia",
         "marker": {
          "color": "#B6E880",
          "size": [
           2877.314
          ],
          "sizemode": "area",
          "sizeref": 3085.7029075,
          "symbol": "circle"
         },
         "mode": "markers",
         "name": "Armenia",
         "orientation": "v",
         "showlegend": false,
         "type": "scatter",
         "x": [
          "Armenia"
         ],
         "xaxis": "x",
         "y": [
          0.17333333333333334
         ],
         "yaxis": "y"
        },
        {
         "hovertemplate": "Country=%{x}<br>Decade=1990<br>Women (%)=%{y}<br>Population (thousands)=%{marker.size}<extra></extra>",
         "legendgroup": "Marshall Islands",
         "marker": {
          "color": "#FF97FF",
          "size": [
           47.265
          ],
          "sizemode": "area",
          "sizeref": 3085.7029075,
          "symbol": "circle"
         },
         "mode": "markers",
         "name": "Marshall Islands",
         "orientation": "v",
         "showlegend": true,
         "type": "scatter",
         "x": [
          "Marshall Islands"
         ],
         "xaxis": "x5",
         "y": [
          0.03
         ],
         "yaxis": "y5"
        },
        {
         "hovertemplate": "Country=%{x}<br>Decade=2000<br>Women (%)=%{y}<br>Population (thousands)=%{marker.size}<extra></extra>",
         "legendgroup": "Marshall Islands",
         "marker": {
          "color": "#FF97FF",
          "size": [
           50.754
          ],
          "sizemode": "area",
          "sizeref": 3085.7029075,
          "symbol": "circle"
         },
         "mode": "markers",
         "name": "Marshall Islands",
         "orientation": "v",
         "showlegend": false,
         "type": "scatter",
         "x": [
          "Marshall Islands"
         ],
         "xaxis": "x6",
         "y": [
          0.03
         ],
         "yaxis": "y6"
        },
        {
         "hovertemplate": "Country=%{x}<br>Decade=2010<br>Women (%)=%{y}<br>Population (thousands)=%{marker.size}<extra></extra>",
         "legendgroup": "Marshall Islands",
         "marker": {
          "color": "#FF97FF",
          "size": [
           56.361
          ],
          "sizemode": "area",
          "sizeref": 3085.7029075,
          "symbol": "circle"
         },
         "mode": "markers",
         "name": "Marshall Islands",
         "orientation": "v",
         "showlegend": false,
         "type": "scatter",
         "x": [
          "Marshall Islands"
         ],
         "xaxis": "x",
         "y": [
          0.06
         ],
         "yaxis": "y"
        },
        {
         "hovertemplate": "Country=%{x}<br>Decade=1990<br>Women (%)=%{y}<br>Population (thousands)=%{marker.size}<extra></extra>",
         "legendgroup": "Kyrgyzstan",
         "marker": {
          "color": "#FECB52",
          "size": [
           4372.885
          ],
          "sizemode": "area",
          "sizeref": 3085.7029075,
          "symbol": "circle"
         },
         "mode": "markers",
         "name": "Kyrgyzstan",
         "orientation": "v",
         "showlegend": true,
         "type": "scatter",
         "x": [
          "Kyrgyzstan"
         ],
         "xaxis": "x5",
         "y": [
          0.055
         ],
         "yaxis": "y5"
        },
        {
         "hovertemplate": "Country=%{x}<br>Decade=2000<br>Women (%)=%{y}<br>Population (thousands)=%{marker.size}<extra></extra>",
         "legendgroup": "Kyrgyzstan",
         "marker": {
          "color": "#FECB52",
          "size": [
           4920.712
          ],
          "sizemode": "area",
          "sizeref": 3085.7029075,
          "symbol": "circle"
         },
         "mode": "markers",
         "name": "Kyrgyzstan",
         "orientation": "v",
         "showlegend": false,
         "type": "scatter",
         "x": [
          "Kyrgyzstan"
         ],
         "xaxis": "x6",
         "y": [
          0.09333333333333334
         ],
         "yaxis": "y6"
        },
        {
         "hovertemplate": "Country=%{x}<br>Decade=2010<br>Women (%)=%{y}<br>Population (thousands)=%{marker.size}<extra></extra>",
         "legendgroup": "Kyrgyzstan",
         "marker": {
          "color": "#FECB52",
          "size": [
           5422.298
          ],
          "sizemode": "area",
          "sizeref": 3085.7029075,
          "symbol": "circle"
         },
         "mode": "markers",
         "name": "Kyrgyzstan",
         "orientation": "v",
         "showlegend": false,
         "type": "scatter",
         "x": [
          "Kyrgyzstan"
         ],
         "xaxis": "x",
         "y": [
          0.21000000000000002
         ],
         "yaxis": "y"
        },
        {
         "hovertemplate": "Country=%{x}<br>Decade=1990<br>Women (%)=%{y}<br>Population (thousands)=%{marker.size}<extra></extra>",
         "legendgroup": "Croatia",
         "marker": {
          "color": "#636efa",
          "size": [
           4776.37
          ],
          "sizemode": "area",
          "sizeref": 3085.7029075,
          "symbol": "circle"
         },
         "mode": "markers",
         "name": "Croatia",
         "orientation": "v",
         "showlegend": true,
         "type": "scatter",
         "x": [
          "Croatia"
         ],
         "xaxis": "x5",
         "y": [
          0.07
         ],
         "yaxis": "y5"
        },
        {
         "hovertemplate": "Country=%{x}<br>Decade=2000<br>Women (%)=%{y}<br>Population (thousands)=%{marker.size}<extra></extra>",
         "legendgroup": "Croatia",
         "marker": {
          "color": "#636efa",
          "size": [
           4428.075
          ],
          "sizemode": "area",
          "sizeref": 3085.7029075,
          "symbol": "circle"
         },
         "mode": "markers",
         "name": "Croatia",
         "orientation": "v",
         "showlegend": false,
         "type": "scatter",
         "x": [
          "Croatia"
         ],
         "xaxis": "x6",
         "y": [
          0.19999999999999998
         ],
         "yaxis": "y6"
        },
        {
         "hovertemplate": "Country=%{x}<br>Decade=2010<br>Women (%)=%{y}<br>Population (thousands)=%{marker.size}<extra></extra>",
         "legendgroup": "Croatia",
         "marker": {
          "color": "#636efa",
          "size": [
           4328.163
          ],
          "sizemode": "area",
          "sizeref": 3085.7029075,
          "symbol": "circle"
         },
         "mode": "markers",
         "name": "Croatia",
         "orientation": "v",
         "showlegend": false,
         "type": "scatter",
         "x": [
          "Croatia"
         ],
         "xaxis": "x",
         "y": [
          0.165
         ],
         "yaxis": "y"
        },
        {
         "hovertemplate": "Country=%{x}<br>Decade=1990<br>Women (%)=%{y}<br>Population (thousands)=%{marker.size}<extra></extra>",
         "legendgroup": "Lithuania",
         "marker": {
          "color": "#EF553B",
          "size": [
           3696.035
          ],
          "sizemode": "area",
          "sizeref": 3085.7029075,
          "symbol": "circle"
         },
         "mode": "markers",
         "name": "Lithuania",
         "orientation": "v",
         "showlegend": true,
         "type": "scatter",
         "x": [
          "Lithuania"
         ],
         "xaxis": "x5",
         "y": [
          0.11666666666666665
         ],
         "yaxis": "y5"
        },
        {
         "hovertemplate": "Country=%{x}<br>Decade=2000<br>Women (%)=%{y}<br>Population (thousands)=%{marker.size}<extra></extra>",
         "legendgroup": "Lithuania",
         "marker": {
          "color": "#EF553B",
          "size": [
           3501.842
          ],
          "sizemode": "area",
          "sizeref": 3085.7029075,
          "symbol": "circle"
         },
         "mode": "markers",
         "name": "Lithuania",
         "orientation": "v",
         "showlegend": false,
         "type": "scatter",
         "x": [
          "Lithuania"
         ],
         "xaxis": "x6",
         "y": [
          0.16666666666666666
         ],
         "yaxis": "y6"
        },
        {
         "hovertemplate": "Country=%{x}<br>Decade=2010<br>Women (%)=%{y}<br>Population (thousands)=%{marker.size}<extra></extra>",
         "legendgroup": "Lithuania",
         "marker": {
          "color": "#EF553B",
          "size": [
           3123.825
          ],
          "sizemode": "area",
          "sizeref": 3085.7029075,
          "symbol": "circle"
         },
         "mode": "markers",
         "name": "Lithuania",
         "orientation": "v",
         "showlegend": false,
         "type": "scatter",
         "x": [
          "Lithuania"
         ],
         "xaxis": "x",
         "y": [
          0.22666666666666666
         ],
         "yaxis": "y"
        },
        {
         "hovertemplate": "Country=%{x}<br>Decade=1990<br>Women (%)=%{y}<br>Population (thousands)=%{marker.size}<extra></extra>",
         "legendgroup": "Latvia",
         "marker": {
          "color": "#00cc96",
          "size": [
           2664.447
          ],
          "sizemode": "area",
          "sizeref": 3085.7029075,
          "symbol": "circle"
         },
         "mode": "markers",
         "name": "Latvia",
         "orientation": "v",
         "showlegend": true,
         "type": "scatter",
         "x": [
          "Latvia"
         ],
         "xaxis": "x5",
         "y": [
          0.12
         ],
         "yaxis": "y5"
        },
        {
         "hovertemplate": "Country=%{x}<br>Decade=2000<br>Women (%)=%{y}<br>Population (thousands)=%{marker.size}<extra></extra>",
         "legendgroup": "Latvia",
         "marker": {
          "color": "#00cc96",
          "size": [
           2384.15
          ],
          "sizemode": "area",
          "sizeref": 3085.7029075,
          "symbol": "circle"
         },
         "mode": "markers",
         "name": "Latvia",
         "orientation": "v",
         "showlegend": false,
         "type": "scatter",
         "x": [
          "Latvia"
         ],
         "xaxis": "x6",
         "y": [
          0.185
         ],
         "yaxis": "y6"
        },
        {
         "hovertemplate": "Country=%{x}<br>Decade=2010<br>Women (%)=%{y}<br>Population (thousands)=%{marker.size}<extra></extra>",
         "legendgroup": "Latvia",
         "marker": {
          "color": "#00cc96",
          "size": [
           2118.855
          ],
          "sizemode": "area",
          "sizeref": 3085.7029075,
          "symbol": "circle"
         },
         "mode": "markers",
         "name": "Latvia",
         "orientation": "v",
         "showlegend": false,
         "type": "scatter",
         "x": [
          "Latvia"
         ],
         "xaxis": "x",
         "y": [
          0.23
         ],
         "yaxis": "y"
        },
        {
         "hovertemplate": "Country=%{x}<br>Decade=1990<br>Women (%)=%{y}<br>Population (thousands)=%{marker.size}<extra></extra>",
         "legendgroup": "Liberia",
         "marker": {
          "color": "#ab63fa",
          "size": [
           2075.917
          ],
          "sizemode": "area",
          "sizeref": 3085.7029075,
          "symbol": "circle"
         },
         "mode": "markers",
         "name": "Liberia",
         "orientation": "v",
         "showlegend": true,
         "type": "scatter",
         "x": [
          "Liberia"
         ],
         "xaxis": "x5",
         "y": [
          0.07
         ],
         "yaxis": "y5"
        },
        {
         "hovertemplate": "Country=%{x}<br>Decade=2000<br>Women (%)=%{y}<br>Population (thousands)=%{marker.size}<extra></extra>",
         "legendgroup": "Liberia",
         "marker": {
          "color": "#ab63fa",
          "size": [
           2848.447
          ],
          "sizemode": "area",
          "sizeref": 3085.7029075,
          "symbol": "circle"
         },
         "mode": "markers",
         "name": "Liberia",
         "orientation": "v",
         "showlegend": false,
         "type": "scatter",
         "x": [
          "Liberia"
         ],
         "xaxis": "x6",
         "y": [
          0.07333333333333333
         ],
         "yaxis": "y6"
        },
        {
         "hovertemplate": "Country=%{x}<br>Decade=2010<br>Women (%)=%{y}<br>Population (thousands)=%{marker.size}<extra></extra>",
         "legendgroup": "Liberia",
         "marker": {
          "color": "#ab63fa",
          "size": [
           3891.357
          ],
          "sizemode": "area",
          "sizeref": 3085.7029075,
          "symbol": "circle"
         },
         "mode": "markers",
         "name": "Liberia",
         "orientation": "v",
         "showlegend": false,
         "type": "scatter",
         "x": [
          "Liberia"
         ],
         "xaxis": "x",
         "y": [
          0.1
         ],
         "yaxis": "y"
        },
        {
         "hovertemplate": "Country=%{x}<br>Decade=1990<br>Women (%)=%{y}<br>Population (thousands)=%{marker.size}<extra></extra>",
         "legendgroup": "Kazakhstan",
         "marker": {
          "color": "#FFA15A",
          "size": [
           16383.881
          ],
          "sizemode": "area",
          "sizeref": 3085.7029075,
          "symbol": "circle"
         },
         "mode": "markers",
         "name": "Kazakhstan",
         "orientation": "v",
         "showlegend": true,
         "type": "scatter",
         "x": [
          "Kazakhstan"
         ],
         "xaxis": "x5",
         "y": [
          0.11000000000000001
         ],
         "yaxis": "y5"
        },
        {
         "hovertemplate": "Country=%{x}<br>Decade=2000<br>Women (%)=%{y}<br>Population (thousands)=%{marker.size}<extra></extra>",
         "legendgroup": "Kazakhstan",
         "marker": {
          "color": "#FFA15A",
          "size": [
           14922.724
          ],
          "sizemode": "area",
          "sizeref": 3085.7029075,
          "symbol": "circle"
         },
         "mode": "markers",
         "name": "Kazakhstan",
         "orientation": "v",
         "showlegend": false,
         "type": "scatter",
         "x": [
          "Kazakhstan"
         ],
         "xaxis": "x6",
         "y": [
          0.13
         ],
         "yaxis": "y6"
        },
        {
         "hovertemplate": "Country=%{x}<br>Decade=2010<br>Women (%)=%{y}<br>Population (thousands)=%{marker.size}<extra></extra>",
         "legendgroup": "Kazakhstan",
         "marker": {
          "color": "#FFA15A",
          "size": [
           16252.273
          ],
          "sizemode": "area",
          "sizeref": 3085.7029075,
          "symbol": "circle"
         },
         "mode": "markers",
         "name": "Kazakhstan",
         "orientation": "v",
         "showlegend": false,
         "type": "scatter",
         "x": [
          "Kazakhstan"
         ],
         "xaxis": "x",
         "y": [
          0.25666666666666665
         ],
         "yaxis": "y"
        },
        {
         "hovertemplate": "Country=%{x}<br>Decade=2000<br>Women (%)=%{y}<br>Population (thousands)=%{marker.size}<extra></extra>",
         "legendgroup": "Saudi Arabia",
         "marker": {
          "color": "#19d3f3",
          "size": [
           20663.84
          ],
          "sizemode": "area",
          "sizeref": 3085.7029075,
          "symbol": "circle"
         },
         "mode": "markers",
         "name": "Saudi Arabia",
         "orientation": "v",
         "showlegend": true,
         "type": "scatter",
         "x": [
          "Saudi Arabia"
         ],
         "xaxis": "x6",
         "y": [
          0.115
         ],
         "yaxis": "y6"
        },
        {
         "hovertemplate": "Country=%{x}<br>Decade=2010<br>Women (%)=%{y}<br>Population (thousands)=%{marker.size}<extra></extra>",
         "legendgroup": "Saudi Arabia",
         "marker": {
          "color": "#19d3f3",
          "size": [
           27421.468
          ],
          "sizemode": "area",
          "sizeref": 3085.7029075,
          "symbol": "circle"
         },
         "mode": "markers",
         "name": "Saudi Arabia",
         "orientation": "v",
         "showlegend": false,
         "type": "scatter",
         "x": [
          "Saudi Arabia"
         ],
         "xaxis": "x",
         "y": [
          0.2
         ],
         "yaxis": "y"
        },
        {
         "hovertemplate": "Country=%{x}<br>Decade=2000<br>Women (%)=%{y}<br>Population (thousands)=%{marker.size}<extra></extra>",
         "legendgroup": "Serbia",
         "marker": {
          "color": "#FF6692",
          "size": [
           9487.612
          ],
          "sizemode": "area",
          "sizeref": 3085.7029075,
          "symbol": "circle"
         },
         "mode": "markers",
         "name": "Serbia",
         "orientation": "v",
         "showlegend": true,
         "type": "scatter",
         "x": [
          "Serbia"
         ],
         "xaxis": "x6",
         "y": [
          0.21000000000000002
         ],
         "yaxis": "y6"
        },
        {
         "hovertemplate": "Country=%{x}<br>Decade=2010<br>Women (%)=%{y}<br>Population (thousands)=%{marker.size}<extra></extra>",
         "legendgroup": "Serbia",
         "marker": {
          "color": "#FF6692",
          "size": [
           8991.258
          ],
          "sizemode": "area",
          "sizeref": 3085.7029075,
          "symbol": "circle"
         },
         "mode": "markers",
         "name": "Serbia",
         "orientation": "v",
         "showlegend": false,
         "type": "scatter",
         "x": [
          "Serbia"
         ],
         "xaxis": "x",
         "y": [
          0.3333333333333333
         ],
         "yaxis": "y"
        },
        {
         "hovertemplate": "Country=%{x}<br>Decade=2000<br>Women (%)=%{y}<br>Population (thousands)=%{marker.size}<extra></extra>",
         "legendgroup": "Oman",
         "marker": {
          "color": "#B6E880",
          "size": [
           2267.973
          ],
          "sizemode": "area",
          "sizeref": 3085.7029075,
          "symbol": "circle"
         },
         "mode": "markers",
         "name": "Oman",
         "orientation": "v",
         "showlegend": true,
         "type": "scatter",
         "x": [
          "Oman"
         ],
         "xaxis": "x6",
         "y": [
          0.01
         ],
         "yaxis": "y6"
        },
        {
         "hovertemplate": "Country=%{x}<br>Decade=2010<br>Women (%)=%{y}<br>Population (thousands)=%{marker.size}<extra></extra>",
         "legendgroup": "Oman",
         "marker": {
          "color": "#B6E880",
          "size": [
           3041.435
          ],
          "sizemode": "area",
          "sizeref": 3085.7029075,
          "symbol": "circle"
         },
         "mode": "markers",
         "name": "Oman",
         "orientation": "v",
         "showlegend": false,
         "type": "scatter",
         "x": [
          "Oman"
         ],
         "xaxis": "x",
         "y": [
          0.01
         ],
         "yaxis": "y"
        },
        {
         "hovertemplate": "Country=%{x}<br>Decade=2000<br>Women (%)=%{y}<br>Population (thousands)=%{marker.size}<extra></extra>",
         "legendgroup": "Timor-Leste",
         "marker": {
          "color": "#FF97FF",
          "size": [
           884.366
          ],
          "sizemode": "area",
          "sizeref": 3085.7029075,
          "symbol": "circle"
         },
         "mode": "markers",
         "name": "Timor-Leste",
         "orientation": "v",
         "showlegend": true,
         "type": "scatter",
         "x": [
          "Timor-Leste"
         ],
         "xaxis": "x6",
         "y": [
          0.2733333333333334
         ],
         "yaxis": "y6"
        },
        {
         "hovertemplate": "Country=%{x}<br>Decade=2010<br>Women (%)=%{y}<br>Population (thousands)=%{marker.size}<extra></extra>",
         "legendgroup": "Timor-Leste",
         "marker": {
          "color": "#FF97FF",
          "size": [
           1093.517
          ],
          "sizemode": "area",
          "sizeref": 3085.7029075,
          "symbol": "circle"
         },
         "mode": "markers",
         "name": "Timor-Leste",
         "orientation": "v",
         "showlegend": false,
         "type": "scatter",
         "x": [
          "Timor-Leste"
         ],
         "xaxis": "x",
         "y": [
          0.3466666666666667
         ],
         "yaxis": "y"
        },
        {
         "hovertemplate": "Country=%{x}<br>Decade=2000<br>Women (%)=%{y}<br>Population (thousands)=%{marker.size}<extra></extra>",
         "legendgroup": "Qatar",
         "marker": {
          "color": "#FECB52",
          "size": [
           592.467
          ],
          "sizemode": "area",
          "sizeref": 3085.7029075,
          "symbol": "circle"
         },
         "mode": "markers",
         "name": "Qatar",
         "orientation": "v",
         "showlegend": true,
         "type": "scatter",
         "x": [
          "Qatar"
         ],
         "xaxis": "x6",
         "y": [
          0
         ],
         "yaxis": "y6"
        },
        {
         "hovertemplate": "Country=%{x}<br>Decade=2010<br>Women (%)=%{y}<br>Population (thousands)=%{marker.size}<extra></extra>",
         "legendgroup": "Qatar",
         "marker": {
          "color": "#FECB52",
          "size": [
           1856.329
          ],
          "sizemode": "area",
          "sizeref": 3085.7029075,
          "symbol": "circle"
         },
         "mode": "markers",
         "name": "Qatar",
         "orientation": "v",
         "showlegend": false,
         "type": "scatter",
         "x": [
          "Qatar"
         ],
         "xaxis": "x",
         "y": [
          0
         ],
         "yaxis": "y"
        },
        {
         "hovertemplate": "Country=%{x}<br>Decade=2000<br>Women (%)=%{y}<br>Population (thousands)=%{marker.size}<extra></extra>",
         "legendgroup": "Montenegro",
         "marker": {
          "color": "#636efa",
          "size": [
           613.558
          ],
          "sizemode": "area",
          "sizeref": 3085.7029075,
          "symbol": "circle"
         },
         "mode": "markers",
         "name": "Montenegro",
         "orientation": "v",
         "showlegend": true,
         "type": "scatter",
         "x": [
          "Montenegro"
         ],
         "xaxis": "x6",
         "y": [
          0.075
         ],
         "yaxis": "y6"
        },
        {
         "hovertemplate": "Country=%{x}<br>Decade=2010<br>Women (%)=%{y}<br>Population (thousands)=%{marker.size}<extra></extra>",
         "legendgroup": "Montenegro",
         "marker": {
          "color": "#636efa",
          "size": [
           624.279
          ],
          "sizemode": "area",
          "sizeref": 3085.7029075,
          "symbol": "circle"
         },
         "mode": "markers",
         "name": "Montenegro",
         "orientation": "v",
         "showlegend": false,
         "type": "scatter",
         "x": [
          "Montenegro"
         ],
         "xaxis": "x",
         "y": [
          0.19000000000000003
         ],
         "yaxis": "y"
        },
        {
         "hovertemplate": "Country=%{x}<br>Decade=2010<br>Women (%)=%{y}<br>Population (thousands)=%{marker.size}<extra></extra>",
         "legendgroup": "South Sudan",
         "marker": {
          "color": "#EF553B",
          "size": [
           9508.372
          ],
          "sizemode": "area",
          "sizeref": 3085.7029075,
          "symbol": "circle"
         },
         "mode": "markers",
         "name": "South Sudan",
         "orientation": "v",
         "showlegend": true,
         "type": "scatter",
         "x": [
          "South Sudan"
         ],
         "xaxis": "x",
         "y": [
          0.2733333333333334
         ],
         "yaxis": "y"
        },
        {
         "hovertemplate": "Country=%{x}<br>Decade=2010<br>Women (%)=%{y}<br>Population (thousands)=%{marker.size}<extra></extra>",
         "legendgroup": "Barbados",
         "marker": {
          "color": "#00cc96",
          "size": [
           282.131
          ],
          "sizemode": "area",
          "sizeref": 3085.7029075,
          "symbol": "circle"
         },
         "mode": "markers",
         "name": "Barbados",
         "orientation": "v",
         "showlegend": true,
         "type": "scatter",
         "x": [
          "Barbados"
         ],
         "xaxis": "x",
         "y": [
          0.2
         ],
         "yaxis": "y"
        },
        {
         "hovertemplate": "Country=%{x}<br>Decade=2010<br>Women (%)=%{y}<br>Population (thousands)=%{marker.size}<extra></extra>",
         "legendgroup": "Brunei Darussalam",
         "marker": {
          "color": "#ab63fa",
          "size": [
           388.634
          ],
          "sizemode": "area",
          "sizeref": 3085.7029075,
          "symbol": "circle"
         },
         "mode": "markers",
         "name": "Brunei Darussalam",
         "orientation": "v",
         "showlegend": true,
         "type": "scatter",
         "x": [
          "Brunei Darussalam"
         ],
         "xaxis": "x",
         "y": [
          0.075
         ],
         "yaxis": "y"
        },
        {
         "hovertemplate": "Country=%{x}<br>Decade=2010<br>Women (%)=%{y}<br>Population (thousands)=%{marker.size}<extra></extra>",
         "legendgroup": "Russian Federation",
         "marker": {
          "color": "#FFA15A",
          "size": [
           143479.273
          ],
          "sizemode": "area",
          "sizeref": 3085.7029075,
          "symbol": "circle"
         },
         "mode": "markers",
         "name": "Russian Federation",
         "orientation": "v",
         "showlegend": true,
         "type": "scatter",
         "x": [
          "Russian Federation"
         ],
         "xaxis": "x",
         "y": [
          0.135
         ],
         "yaxis": "y"
        },
        {
         "hovertemplate": "Country=%{x}<br>Decade=2010<br>Women (%)=%{y}<br>Population (thousands)=%{marker.size}<extra></extra>",
         "legendgroup": "Libya",
         "marker": {
          "color": "#19d3f3",
          "size": [
           6197.667
          ],
          "sizemode": "area",
          "sizeref": 3085.7029075,
          "symbol": "circle"
         },
         "mode": "markers",
         "name": "Libya",
         "orientation": "v",
         "showlegend": true,
         "type": "scatter",
         "x": [
          "Libya"
         ],
         "xaxis": "x",
         "y": [
          0.16
         ],
         "yaxis": "y"
        }
       ],
       "layout": {
        "annotations": [
         {
          "font": {},
          "showarrow": false,
          "text": "Decade=2010",
          "x": 0.15999999999999998,
          "xanchor": "center",
          "xref": "paper",
          "y": 0.2866666666666666,
          "yanchor": "bottom",
          "yref": "paper"
         },
         {
          "font": {},
          "showarrow": false,
          "text": "Decade=1980",
          "x": 0.15999999999999998,
          "xanchor": "center",
          "xref": "paper",
          "y": 0.6433333333333333,
          "yanchor": "bottom",
          "yref": "paper"
         },
         {
          "font": {},
          "showarrow": false,
          "text": "Decade=1990",
          "x": 0.49999999999999994,
          "xanchor": "center",
          "xref": "paper",
          "y": 0.6433333333333333,
          "yanchor": "bottom",
          "yref": "paper"
         },
         {
          "font": {},
          "showarrow": false,
          "text": "Decade=2000",
          "x": 0.8399999999999999,
          "xanchor": "center",
          "xref": "paper",
          "y": 0.6433333333333333,
          "yanchor": "bottom",
          "yref": "paper"
         },
         {
          "font": {},
          "showarrow": false,
          "text": "Decade=1950",
          "x": 0.15999999999999998,
          "xanchor": "center",
          "xref": "paper",
          "y": 0.9999999999999999,
          "yanchor": "bottom",
          "yref": "paper"
         },
         {
          "font": {},
          "showarrow": false,
          "text": "Decade=1960",
          "x": 0.49999999999999994,
          "xanchor": "center",
          "xref": "paper",
          "y": 0.9999999999999999,
          "yanchor": "bottom",
          "yref": "paper"
         },
         {
          "font": {},
          "showarrow": false,
          "text": "Decade=1970",
          "x": 0.8399999999999999,
          "xanchor": "center",
          "xref": "paper",
          "y": 0.9999999999999999,
          "yanchor": "bottom",
          "yref": "paper"
         }
        ],
        "font": {
         "color": "grey",
         "family": "Courier New"
        },
        "legend": {
         "itemsizing": "constant",
         "title": {
          "font": {
           "color": "grey"
          },
          "text": "Country"
         },
         "tracegroupgap": 0
        },
        "template": {
         "data": {
          "bar": [
           {
            "error_x": {
             "color": "#2a3f5f"
            },
            "error_y": {
             "color": "#2a3f5f"
            },
            "marker": {
             "line": {
              "color": "#E5ECF6",
              "width": 0.5
             },
             "pattern": {
              "fillmode": "overlay",
              "size": 10,
              "solidity": 0.2
             }
            },
            "type": "bar"
           }
          ],
          "barpolar": [
           {
            "marker": {
             "line": {
              "color": "#E5ECF6",
              "width": 0.5
             },
             "pattern": {
              "fillmode": "overlay",
              "size": 10,
              "solidity": 0.2
             }
            },
            "type": "barpolar"
           }
          ],
          "carpet": [
           {
            "aaxis": {
             "endlinecolor": "#2a3f5f",
             "gridcolor": "white",
             "linecolor": "white",
             "minorgridcolor": "white",
             "startlinecolor": "#2a3f5f"
            },
            "baxis": {
             "endlinecolor": "#2a3f5f",
             "gridcolor": "white",
             "linecolor": "white",
             "minorgridcolor": "white",
             "startlinecolor": "#2a3f5f"
            },
            "type": "carpet"
           }
          ],
          "choropleth": [
           {
            "colorbar": {
             "outlinewidth": 0,
             "ticks": ""
            },
            "type": "choropleth"
           }
          ],
          "contour": [
           {
            "colorbar": {
             "outlinewidth": 0,
             "ticks": ""
            },
            "colorscale": [
             [
              0,
              "#0d0887"
             ],
             [
              0.1111111111111111,
              "#46039f"
             ],
             [
              0.2222222222222222,
              "#7201a8"
             ],
             [
              0.3333333333333333,
              "#9c179e"
             ],
             [
              0.4444444444444444,
              "#bd3786"
             ],
             [
              0.5555555555555556,
              "#d8576b"
             ],
             [
              0.6666666666666666,
              "#ed7953"
             ],
             [
              0.7777777777777778,
              "#fb9f3a"
             ],
             [
              0.8888888888888888,
              "#fdca26"
             ],
             [
              1,
              "#f0f921"
             ]
            ],
            "type": "contour"
           }
          ],
          "contourcarpet": [
           {
            "colorbar": {
             "outlinewidth": 0,
             "ticks": ""
            },
            "type": "contourcarpet"
           }
          ],
          "heatmap": [
           {
            "colorbar": {
             "outlinewidth": 0,
             "ticks": ""
            },
            "colorscale": [
             [
              0,
              "#0d0887"
             ],
             [
              0.1111111111111111,
              "#46039f"
             ],
             [
              0.2222222222222222,
              "#7201a8"
             ],
             [
              0.3333333333333333,
              "#9c179e"
             ],
             [
              0.4444444444444444,
              "#bd3786"
             ],
             [
              0.5555555555555556,
              "#d8576b"
             ],
             [
              0.6666666666666666,
              "#ed7953"
             ],
             [
              0.7777777777777778,
              "#fb9f3a"
             ],
             [
              0.8888888888888888,
              "#fdca26"
             ],
             [
              1,
              "#f0f921"
             ]
            ],
            "type": "heatmap"
           }
          ],
          "heatmapgl": [
           {
            "colorbar": {
             "outlinewidth": 0,
             "ticks": ""
            },
            "colorscale": [
             [
              0,
              "#0d0887"
             ],
             [
              0.1111111111111111,
              "#46039f"
             ],
             [
              0.2222222222222222,
              "#7201a8"
             ],
             [
              0.3333333333333333,
              "#9c179e"
             ],
             [
              0.4444444444444444,
              "#bd3786"
             ],
             [
              0.5555555555555556,
              "#d8576b"
             ],
             [
              0.6666666666666666,
              "#ed7953"
             ],
             [
              0.7777777777777778,
              "#fb9f3a"
             ],
             [
              0.8888888888888888,
              "#fdca26"
             ],
             [
              1,
              "#f0f921"
             ]
            ],
            "type": "heatmapgl"
           }
          ],
          "histogram": [
           {
            "marker": {
             "pattern": {
              "fillmode": "overlay",
              "size": 10,
              "solidity": 0.2
             }
            },
            "type": "histogram"
           }
          ],
          "histogram2d": [
           {
            "colorbar": {
             "outlinewidth": 0,
             "ticks": ""
            },
            "colorscale": [
             [
              0,
              "#0d0887"
             ],
             [
              0.1111111111111111,
              "#46039f"
             ],
             [
              0.2222222222222222,
              "#7201a8"
             ],
             [
              0.3333333333333333,
              "#9c179e"
             ],
             [
              0.4444444444444444,
              "#bd3786"
             ],
             [
              0.5555555555555556,
              "#d8576b"
             ],
             [
              0.6666666666666666,
              "#ed7953"
             ],
             [
              0.7777777777777778,
              "#fb9f3a"
             ],
             [
              0.8888888888888888,
              "#fdca26"
             ],
             [
              1,
              "#f0f921"
             ]
            ],
            "type": "histogram2d"
           }
          ],
          "histogram2dcontour": [
           {
            "colorbar": {
             "outlinewidth": 0,
             "ticks": ""
            },
            "colorscale": [
             [
              0,
              "#0d0887"
             ],
             [
              0.1111111111111111,
              "#46039f"
             ],
             [
              0.2222222222222222,
              "#7201a8"
             ],
             [
              0.3333333333333333,
              "#9c179e"
             ],
             [
              0.4444444444444444,
              "#bd3786"
             ],
             [
              0.5555555555555556,
              "#d8576b"
             ],
             [
              0.6666666666666666,
              "#ed7953"
             ],
             [
              0.7777777777777778,
              "#fb9f3a"
             ],
             [
              0.8888888888888888,
              "#fdca26"
             ],
             [
              1,
              "#f0f921"
             ]
            ],
            "type": "histogram2dcontour"
           }
          ],
          "mesh3d": [
           {
            "colorbar": {
             "outlinewidth": 0,
             "ticks": ""
            },
            "type": "mesh3d"
           }
          ],
          "parcoords": [
           {
            "line": {
             "colorbar": {
              "outlinewidth": 0,
              "ticks": ""
             }
            },
            "type": "parcoords"
           }
          ],
          "pie": [
           {
            "automargin": true,
            "type": "pie"
           }
          ],
          "scatter": [
           {
            "marker": {
             "colorbar": {
              "outlinewidth": 0,
              "ticks": ""
             }
            },
            "type": "scatter"
           }
          ],
          "scatter3d": [
           {
            "line": {
             "colorbar": {
              "outlinewidth": 0,
              "ticks": ""
             }
            },
            "marker": {
             "colorbar": {
              "outlinewidth": 0,
              "ticks": ""
             }
            },
            "type": "scatter3d"
           }
          ],
          "scattercarpet": [
           {
            "marker": {
             "colorbar": {
              "outlinewidth": 0,
              "ticks": ""
             }
            },
            "type": "scattercarpet"
           }
          ],
          "scattergeo": [
           {
            "marker": {
             "colorbar": {
              "outlinewidth": 0,
              "ticks": ""
             }
            },
            "type": "scattergeo"
           }
          ],
          "scattergl": [
           {
            "marker": {
             "colorbar": {
              "outlinewidth": 0,
              "ticks": ""
             }
            },
            "type": "scattergl"
           }
          ],
          "scattermapbox": [
           {
            "marker": {
             "colorbar": {
              "outlinewidth": 0,
              "ticks": ""
             }
            },
            "type": "scattermapbox"
           }
          ],
          "scatterpolar": [
           {
            "marker": {
             "colorbar": {
              "outlinewidth": 0,
              "ticks": ""
             }
            },
            "type": "scatterpolar"
           }
          ],
          "scatterpolargl": [
           {
            "marker": {
             "colorbar": {
              "outlinewidth": 0,
              "ticks": ""
             }
            },
            "type": "scatterpolargl"
           }
          ],
          "scatterternary": [
           {
            "marker": {
             "colorbar": {
              "outlinewidth": 0,
              "ticks": ""
             }
            },
            "type": "scatterternary"
           }
          ],
          "surface": [
           {
            "colorbar": {
             "outlinewidth": 0,
             "ticks": ""
            },
            "colorscale": [
             [
              0,
              "#0d0887"
             ],
             [
              0.1111111111111111,
              "#46039f"
             ],
             [
              0.2222222222222222,
              "#7201a8"
             ],
             [
              0.3333333333333333,
              "#9c179e"
             ],
             [
              0.4444444444444444,
              "#bd3786"
             ],
             [
              0.5555555555555556,
              "#d8576b"
             ],
             [
              0.6666666666666666,
              "#ed7953"
             ],
             [
              0.7777777777777778,
              "#fb9f3a"
             ],
             [
              0.8888888888888888,
              "#fdca26"
             ],
             [
              1,
              "#f0f921"
             ]
            ],
            "type": "surface"
           }
          ],
          "table": [
           {
            "cells": {
             "fill": {
              "color": "#EBF0F8"
             },
             "line": {
              "color": "white"
             }
            },
            "header": {
             "fill": {
              "color": "#C8D4E3"
             },
             "line": {
              "color": "white"
             }
            },
            "type": "table"
           }
          ]
         },
         "layout": {
          "annotationdefaults": {
           "arrowcolor": "#2a3f5f",
           "arrowhead": 0,
           "arrowwidth": 1
          },
          "autotypenumbers": "strict",
          "coloraxis": {
           "colorbar": {
            "outlinewidth": 0,
            "ticks": ""
           }
          },
          "colorscale": {
           "diverging": [
            [
             0,
             "#8e0152"
            ],
            [
             0.1,
             "#c51b7d"
            ],
            [
             0.2,
             "#de77ae"
            ],
            [
             0.3,
             "#f1b6da"
            ],
            [
             0.4,
             "#fde0ef"
            ],
            [
             0.5,
             "#f7f7f7"
            ],
            [
             0.6,
             "#e6f5d0"
            ],
            [
             0.7,
             "#b8e186"
            ],
            [
             0.8,
             "#7fbc41"
            ],
            [
             0.9,
             "#4d9221"
            ],
            [
             1,
             "#276419"
            ]
           ],
           "sequential": [
            [
             0,
             "#0d0887"
            ],
            [
             0.1111111111111111,
             "#46039f"
            ],
            [
             0.2222222222222222,
             "#7201a8"
            ],
            [
             0.3333333333333333,
             "#9c179e"
            ],
            [
             0.4444444444444444,
             "#bd3786"
            ],
            [
             0.5555555555555556,
             "#d8576b"
            ],
            [
             0.6666666666666666,
             "#ed7953"
            ],
            [
             0.7777777777777778,
             "#fb9f3a"
            ],
            [
             0.8888888888888888,
             "#fdca26"
            ],
            [
             1,
             "#f0f921"
            ]
           ],
           "sequentialminus": [
            [
             0,
             "#0d0887"
            ],
            [
             0.1111111111111111,
             "#46039f"
            ],
            [
             0.2222222222222222,
             "#7201a8"
            ],
            [
             0.3333333333333333,
             "#9c179e"
            ],
            [
             0.4444444444444444,
             "#bd3786"
            ],
            [
             0.5555555555555556,
             "#d8576b"
            ],
            [
             0.6666666666666666,
             "#ed7953"
            ],
            [
             0.7777777777777778,
             "#fb9f3a"
            ],
            [
             0.8888888888888888,
             "#fdca26"
            ],
            [
             1,
             "#f0f921"
            ]
           ]
          },
          "colorway": [
           "#636efa",
           "#EF553B",
           "#00cc96",
           "#ab63fa",
           "#FFA15A",
           "#19d3f3",
           "#FF6692",
           "#B6E880",
           "#FF97FF",
           "#FECB52"
          ],
          "font": {
           "color": "#2a3f5f"
          },
          "geo": {
           "bgcolor": "white",
           "lakecolor": "white",
           "landcolor": "#E5ECF6",
           "showlakes": true,
           "showland": true,
           "subunitcolor": "white"
          },
          "hoverlabel": {
           "align": "left"
          },
          "hovermode": "closest",
          "mapbox": {
           "style": "light"
          },
          "paper_bgcolor": "white",
          "plot_bgcolor": "#E5ECF6",
          "polar": {
           "angularaxis": {
            "gridcolor": "white",
            "linecolor": "white",
            "ticks": ""
           },
           "bgcolor": "#E5ECF6",
           "radialaxis": {
            "gridcolor": "white",
            "linecolor": "white",
            "ticks": ""
           }
          },
          "scene": {
           "xaxis": {
            "backgroundcolor": "#E5ECF6",
            "gridcolor": "white",
            "gridwidth": 2,
            "linecolor": "white",
            "showbackground": true,
            "ticks": "",
            "zerolinecolor": "white"
           },
           "yaxis": {
            "backgroundcolor": "#E5ECF6",
            "gridcolor": "white",
            "gridwidth": 2,
            "linecolor": "white",
            "showbackground": true,
            "ticks": "",
            "zerolinecolor": "white"
           },
           "zaxis": {
            "backgroundcolor": "#E5ECF6",
            "gridcolor": "white",
            "gridwidth": 2,
            "linecolor": "white",
            "showbackground": true,
            "ticks": "",
            "zerolinecolor": "white"
           }
          },
          "shapedefaults": {
           "line": {
            "color": "#2a3f5f"
           }
          },
          "ternary": {
           "aaxis": {
            "gridcolor": "white",
            "linecolor": "white",
            "ticks": ""
           },
           "baxis": {
            "gridcolor": "white",
            "linecolor": "white",
            "ticks": ""
           },
           "bgcolor": "#E5ECF6",
           "caxis": {
            "gridcolor": "white",
            "linecolor": "white",
            "ticks": ""
           }
          },
          "title": {
           "x": 0.05
          },
          "xaxis": {
           "automargin": true,
           "gridcolor": "white",
           "linecolor": "white",
           "ticks": "",
           "title": {
            "standoff": 15
           },
           "zerolinecolor": "white",
           "zerolinewidth": 2
          },
          "yaxis": {
           "automargin": true,
           "gridcolor": "white",
           "linecolor": "white",
           "ticks": "",
           "title": {
            "standoff": 15
           },
           "zerolinecolor": "white",
           "zerolinewidth": 2
          }
         }
        },
        "title": {
         "font": {
          "color": "#1f77b4",
          "family": "Courier New"
         },
         "text": "Women Participation in Parliaments by Decade - World"
        },
        "xaxis": {
         "anchor": "y",
         "categoryarray": [
          "Italy",
          "Dominican Republic",
          "Portugal",
          "New Zealand",
          "Israel",
          "Syrian Arab Republic",
          "Republic of Korea",
          "Luxembourg",
          "United States of America",
          "Romania",
          "Ecuador",
          "Austria",
          "Ireland",
          "Iraq",
          "Norway",
          "Iran (Islamic Republic of)",
          "Belgium",
          "Tunisia",
          "Poland",
          "Bulgaria",
          "Lao People's Democratic Republic",
          "Turkey",
          "Brazil",
          "Thailand",
          "Panama",
          "Denmark",
          "Bhutan",
          "Egypt",
          "Paraguay",
          "Cuba",
          "Peru",
          "Jordan",
          "Uruguay",
          "Philippines",
          "Japan",
          "Nicaragua",
          "Niger",
          "Australia",
          "Netherlands",
          "Lebanon",
          "Greece",
          "Cambodia",
          "Guatemala",
          "South Africa",
          "Spain",
          "Ethiopia",
          "Finland",
          "France",
          "United Kingdom",
          "Haiti",
          "Canada",
          "Albania",
          "Honduras",
          "Sweden",
          "Indonesia",
          "Nepal",
          "Costa Rica",
          "San Marino",
          "Mexico",
          "Hungary",
          "India",
          "Iceland",
          "Argentina",
          "Mongolia",
          "Sri Lanka",
          "Malaysia",
          "Sudan",
          "Lesotho",
          "Cyprus",
          "Mauritius",
          "Madagascar",
          "Malta",
          "Colombia",
          "Trinidad and Tobago",
          "Mali",
          "Mauritania",
          "Afghanistan",
          "Democratic Republic of the Congo",
          "Equatorial Guinea",
          "Guyana",
          "El Salvador",
          "Guinea",
          "Ghana",
          "Gabon",
          "Kuwait",
          "Kenya",
          "Jamaica",
          "Cameroon",
          "Singapore",
          "Botswana",
          "Senegal",
          "Samoa",
          "Zambia",
          "Somalia",
          "Rwanda",
          "Nauru",
          "Algeria",
          "Morocco",
          "Togo",
          "Burundi",
          "Monaco",
          "Saint Vincent and the Grenadines",
          "United Arab Emirates",
          "Guinea-Bissau",
          "Saint Lucia",
          "Suriname",
          "Sierra Leone",
          "Grenada",
          "Seychelles",
          "Sao Tome and Principe",
          "Switzerland",
          "Malawi",
          "Maldives",
          "Myanmar",
          "Mozambique",
          "Tuvalu",
          "Tonga",
          "Papua New Guinea",
          "Kiribati",
          "Pakistan",
          "Eswatini",
          "Benin",
          "United Republic of Tanzania",
          "Viet Nam",
          "Vanuatu",
          "Burkina Faso",
          "Cabo Verde",
          "Comoros",
          "Djibouti",
          "Fiji",
          "Solomon Islands",
          "Angola",
          "Zimbabwe",
          "Liechtenstein",
          "Belize",
          "Saint Kitts and Nevis",
          "Namibia",
          "Antigua and Barbuda",
          "Dominica",
          "Uganda",
          "Eritrea",
          "Ukraine",
          "Palau",
          "Tajikistan",
          "Bosnia and Herzegovina",
          "Estonia",
          "Uzbekistan",
          "Nigeria",
          "Turkmenistan",
          "Slovakia",
          "Slovenia",
          "Germany",
          "Andorra",
          "Georgia",
          "Belarus",
          "Yemen",
          "Republic of Moldova",
          "Armenia",
          "Marshall Islands",
          "Kyrgyzstan",
          "Croatia",
          "Lithuania",
          "Latvia",
          "Liberia",
          "Kazakhstan",
          "Saudi Arabia",
          "Serbia",
          "Oman",
          "Timor-Leste",
          "Qatar",
          "Montenegro",
          "South Sudan",
          "Barbados",
          "Brunei Darussalam",
          "Russian Federation",
          "Libya"
         ],
         "categoryorder": "array",
         "domain": [
          0,
          0.31999999999999995
         ],
         "title": {
          "text": "Country"
         }
        },
        "xaxis2": {
         "anchor": "y2",
         "categoryarray": [
          "Italy",
          "Dominican Republic",
          "Portugal",
          "New Zealand",
          "Israel",
          "Syrian Arab Republic",
          "Republic of Korea",
          "Luxembourg",
          "United States of America",
          "Romania",
          "Ecuador",
          "Austria",
          "Ireland",
          "Iraq",
          "Norway",
          "Iran (Islamic Republic of)",
          "Belgium",
          "Tunisia",
          "Poland",
          "Bulgaria",
          "Lao People's Democratic Republic",
          "Turkey",
          "Brazil",
          "Thailand",
          "Panama",
          "Denmark",
          "Bhutan",
          "Egypt",
          "Paraguay",
          "Cuba",
          "Peru",
          "Jordan",
          "Uruguay",
          "Philippines",
          "Japan",
          "Nicaragua",
          "Niger",
          "Australia",
          "Netherlands",
          "Lebanon",
          "Greece",
          "Cambodia",
          "Guatemala",
          "South Africa",
          "Spain",
          "Ethiopia",
          "Finland",
          "France",
          "United Kingdom",
          "Haiti",
          "Canada",
          "Albania",
          "Honduras",
          "Sweden",
          "Indonesia",
          "Nepal",
          "Costa Rica",
          "San Marino",
          "Mexico",
          "Hungary",
          "India",
          "Iceland",
          "Argentina",
          "Mongolia",
          "Sri Lanka",
          "Malaysia",
          "Sudan",
          "Lesotho",
          "Cyprus",
          "Mauritius",
          "Madagascar",
          "Malta",
          "Colombia",
          "Trinidad and Tobago",
          "Mali",
          "Mauritania",
          "Afghanistan",
          "Democratic Republic of the Congo",
          "Equatorial Guinea",
          "Guyana",
          "El Salvador",
          "Guinea",
          "Ghana",
          "Gabon",
          "Kuwait",
          "Kenya",
          "Jamaica",
          "Cameroon",
          "Singapore",
          "Botswana",
          "Senegal",
          "Samoa",
          "Zambia",
          "Somalia",
          "Rwanda",
          "Nauru",
          "Algeria",
          "Morocco",
          "Togo",
          "Burundi",
          "Monaco",
          "Saint Vincent and the Grenadines",
          "United Arab Emirates",
          "Guinea-Bissau",
          "Saint Lucia",
          "Suriname",
          "Sierra Leone",
          "Grenada",
          "Seychelles",
          "Sao Tome and Principe",
          "Switzerland",
          "Malawi",
          "Maldives",
          "Myanmar",
          "Mozambique",
          "Tuvalu",
          "Tonga",
          "Papua New Guinea",
          "Kiribati",
          "Pakistan",
          "Eswatini",
          "Benin",
          "United Republic of Tanzania",
          "Viet Nam",
          "Vanuatu",
          "Burkina Faso",
          "Cabo Verde",
          "Comoros",
          "Djibouti",
          "Fiji",
          "Solomon Islands",
          "Angola",
          "Zimbabwe",
          "Liechtenstein",
          "Belize",
          "Saint Kitts and Nevis",
          "Namibia",
          "Antigua and Barbuda",
          "Dominica",
          "Uganda",
          "Eritrea",
          "Ukraine",
          "Palau",
          "Tajikistan",
          "Bosnia and Herzegovina",
          "Estonia",
          "Uzbekistan",
          "Nigeria",
          "Turkmenistan",
          "Slovakia",
          "Slovenia",
          "Germany",
          "Andorra",
          "Georgia",
          "Belarus",
          "Yemen",
          "Republic of Moldova",
          "Armenia",
          "Marshall Islands",
          "Kyrgyzstan",
          "Croatia",
          "Lithuania",
          "Latvia",
          "Liberia",
          "Kazakhstan",
          "Saudi Arabia",
          "Serbia",
          "Oman",
          "Timor-Leste",
          "Qatar",
          "Montenegro",
          "South Sudan",
          "Barbados",
          "Brunei Darussalam",
          "Russian Federation",
          "Libya"
         ],
         "categoryorder": "array",
         "domain": [
          0.33999999999999997,
          0.6599999999999999
         ],
         "matches": "x",
         "title": {
          "text": "Country"
         }
        },
        "xaxis3": {
         "anchor": "y3",
         "categoryarray": [
          "Italy",
          "Dominican Republic",
          "Portugal",
          "New Zealand",
          "Israel",
          "Syrian Arab Republic",
          "Republic of Korea",
          "Luxembourg",
          "United States of America",
          "Romania",
          "Ecuador",
          "Austria",
          "Ireland",
          "Iraq",
          "Norway",
          "Iran (Islamic Republic of)",
          "Belgium",
          "Tunisia",
          "Poland",
          "Bulgaria",
          "Lao People's Democratic Republic",
          "Turkey",
          "Brazil",
          "Thailand",
          "Panama",
          "Denmark",
          "Bhutan",
          "Egypt",
          "Paraguay",
          "Cuba",
          "Peru",
          "Jordan",
          "Uruguay",
          "Philippines",
          "Japan",
          "Nicaragua",
          "Niger",
          "Australia",
          "Netherlands",
          "Lebanon",
          "Greece",
          "Cambodia",
          "Guatemala",
          "South Africa",
          "Spain",
          "Ethiopia",
          "Finland",
          "France",
          "United Kingdom",
          "Haiti",
          "Canada",
          "Albania",
          "Honduras",
          "Sweden",
          "Indonesia",
          "Nepal",
          "Costa Rica",
          "San Marino",
          "Mexico",
          "Hungary",
          "India",
          "Iceland",
          "Argentina",
          "Mongolia",
          "Sri Lanka",
          "Malaysia",
          "Sudan",
          "Lesotho",
          "Cyprus",
          "Mauritius",
          "Madagascar",
          "Malta",
          "Colombia",
          "Trinidad and Tobago",
          "Mali",
          "Mauritania",
          "Afghanistan",
          "Democratic Republic of the Congo",
          "Equatorial Guinea",
          "Guyana",
          "El Salvador",
          "Guinea",
          "Ghana",
          "Gabon",
          "Kuwait",
          "Kenya",
          "Jamaica",
          "Cameroon",
          "Singapore",
          "Botswana",
          "Senegal",
          "Samoa",
          "Zambia",
          "Somalia",
          "Rwanda",
          "Nauru",
          "Algeria",
          "Morocco",
          "Togo",
          "Burundi",
          "Monaco",
          "Saint Vincent and the Grenadines",
          "United Arab Emirates",
          "Guinea-Bissau",
          "Saint Lucia",
          "Suriname",
          "Sierra Leone",
          "Grenada",
          "Seychelles",
          "Sao Tome and Principe",
          "Switzerland",
          "Malawi",
          "Maldives",
          "Myanmar",
          "Mozambique",
          "Tuvalu",
          "Tonga",
          "Papua New Guinea",
          "Kiribati",
          "Pakistan",
          "Eswatini",
          "Benin",
          "United Republic of Tanzania",
          "Viet Nam",
          "Vanuatu",
          "Burkina Faso",
          "Cabo Verde",
          "Comoros",
          "Djibouti",
          "Fiji",
          "Solomon Islands",
          "Angola",
          "Zimbabwe",
          "Liechtenstein",
          "Belize",
          "Saint Kitts and Nevis",
          "Namibia",
          "Antigua and Barbuda",
          "Dominica",
          "Uganda",
          "Eritrea",
          "Ukraine",
          "Palau",
          "Tajikistan",
          "Bosnia and Herzegovina",
          "Estonia",
          "Uzbekistan",
          "Nigeria",
          "Turkmenistan",
          "Slovakia",
          "Slovenia",
          "Germany",
          "Andorra",
          "Georgia",
          "Belarus",
          "Yemen",
          "Republic of Moldova",
          "Armenia",
          "Marshall Islands",
          "Kyrgyzstan",
          "Croatia",
          "Lithuania",
          "Latvia",
          "Liberia",
          "Kazakhstan",
          "Saudi Arabia",
          "Serbia",
          "Oman",
          "Timor-Leste",
          "Qatar",
          "Montenegro",
          "South Sudan",
          "Barbados",
          "Brunei Darussalam",
          "Russian Federation",
          "Libya"
         ],
         "categoryorder": "array",
         "domain": [
          0.6799999999999999,
          0.9999999999999999
         ],
         "matches": "x",
         "title": {
          "text": "Country"
         }
        },
        "xaxis4": {
         "anchor": "y4",
         "domain": [
          0,
          0.31999999999999995
         ],
         "matches": "x",
         "showticklabels": false
        },
        "xaxis5": {
         "anchor": "y5",
         "domain": [
          0.33999999999999997,
          0.6599999999999999
         ],
         "matches": "x",
         "showticklabels": false
        },
        "xaxis6": {
         "anchor": "y6",
         "domain": [
          0.6799999999999999,
          0.9999999999999999
         ],
         "matches": "x",
         "showticklabels": false
        },
        "xaxis7": {
         "anchor": "y7",
         "domain": [
          0,
          0.31999999999999995
         ],
         "matches": "x",
         "showticklabels": false
        },
        "xaxis8": {
         "anchor": "y8",
         "domain": [
          0.33999999999999997,
          0.6599999999999999
         ],
         "matches": "x",
         "showticklabels": false
        },
        "xaxis9": {
         "anchor": "y9",
         "domain": [
          0.6799999999999999,
          0.9999999999999999
         ],
         "matches": "x",
         "showticklabels": false
        },
        "yaxis": {
         "anchor": "x",
         "domain": [
          0,
          0.2866666666666666
         ],
         "dtick": 0.2,
         "tick0": 0,
         "title": {
          "text": "Women (%)"
         }
        },
        "yaxis2": {
         "anchor": "x2",
         "domain": [
          0,
          0.2866666666666666
         ],
         "dtick": 0.2,
         "matches": "y",
         "showticklabels": false,
         "tick0": 0
        },
        "yaxis3": {
         "anchor": "x3",
         "domain": [
          0,
          0.2866666666666666
         ],
         "dtick": 0.2,
         "matches": "y",
         "showticklabels": false,
         "tick0": 0
        },
        "yaxis4": {
         "anchor": "x4",
         "domain": [
          0.35666666666666663,
          0.6433333333333333
         ],
         "dtick": 0.2,
         "matches": "y",
         "tick0": 0,
         "title": {
          "text": "Women (%)"
         }
        },
        "yaxis5": {
         "anchor": "x5",
         "domain": [
          0.35666666666666663,
          0.6433333333333333
         ],
         "dtick": 0.2,
         "matches": "y",
         "showticklabels": false,
         "tick0": 0
        },
        "yaxis6": {
         "anchor": "x6",
         "domain": [
          0.35666666666666663,
          0.6433333333333333
         ],
         "dtick": 0.2,
         "matches": "y",
         "showticklabels": false,
         "tick0": 0
        },
        "yaxis7": {
         "anchor": "x7",
         "domain": [
          0.7133333333333333,
          0.9999999999999999
         ],
         "dtick": 0.2,
         "matches": "y",
         "tick0": 0,
         "title": {
          "text": "Women (%)"
         }
        },
        "yaxis8": {
         "anchor": "x8",
         "domain": [
          0.7133333333333333,
          0.9999999999999999
         ],
         "dtick": 0.2,
         "matches": "y",
         "showticklabels": false,
         "tick0": 0
        },
        "yaxis9": {
         "anchor": "x9",
         "domain": [
          0.7133333333333333,
          0.9999999999999999
         ],
         "dtick": 0.2,
         "matches": "y",
         "showticklabels": false,
         "tick0": 0
        }
       }
      }
     },
     "metadata": {},
     "output_type": "display_data"
    }
   ],
   "source": [
    "fig = px.scatter(df_pop_participation, x='country', y='women_perc', color='country', size='pop',\n",
    "                facet_col='decade', facet_col_wrap=3,\n",
    "                title='Women Participation in Parliaments by Decade - World',\n",
    "                labels=dict(women_perc='Women (%)', decade='Decade', country='Country',pop='Population (thousands)'),\n",
    "\n",
    ")\n",
    "\n",
    "\n",
    "#fig.update_yaxes(title_text='Women (%)')\n",
    "fig.update_yaxes(tick0=0, dtick=0.2)\n",
    "\n",
    "\n",
    "fig.update_layout(\n",
    "        font_family=\"Courier New\",\n",
    "        font_color=\"grey\",\n",
    "        title_font_family=\"Courier New\",\n",
    "        title_font_color=\"#1f77b4\",\n",
    "        legend_title_font_color=\"grey\"\n",
    "        )\n",
    "\n",
    "fig.show()"
   ]
  },
  {
   "cell_type": "code",
   "execution_count": null,
   "metadata": {},
   "outputs": [],
   "source": []
  },
  {
   "cell_type": "code",
   "execution_count": null,
   "metadata": {},
   "outputs": [],
   "source": []
  }
 ],
 "metadata": {
  "kernelspec": {
   "display_name": "Python 3.9.5  ('myenv': venv)",
   "name": "python395jvsc74a57bd09455c7fed7334467af5b693ad675069debbe136d2231609daac26840925ea04f"
  },
  "language_info": {
   "name": "python",
   "version": ""
  },
  "orig_nbformat": 2
 },
 "nbformat": 4,
 "nbformat_minor": 2
}